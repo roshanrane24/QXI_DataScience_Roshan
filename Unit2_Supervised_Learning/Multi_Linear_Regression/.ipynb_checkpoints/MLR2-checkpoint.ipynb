{
 "cells": [
  {
   "cell_type": "markdown",
   "metadata": {},
   "source": [
    "# Multi Linear Regresion on PMSM for Prediction of Rotor Temperature"
   ]
  },
  {
   "cell_type": "markdown",
   "metadata": {},
   "source": [
    "## Import Required modules"
   ]
  },
  {
   "cell_type": "code",
   "execution_count": 1,
   "metadata": {},
   "outputs": [],
   "source": [
    "import numpy as np #Numpy\n",
    "import pandas as pd #Pandas\n",
    "import matplotlib.pyplot as plt #MPL PyPlot\n",
    "import seaborn as sns #Seasborn\n",
    "import statsmodels.api as sm #Statsmodels API\n",
    "import sklearn as skl #SciKitLearn\n",
    "import sklearn.linear_model as lm #Linear Model\n",
    "from sklearn.model_selection import train_test_split #Train Test Split for Spliting Data in Train & Test Set\n",
    "from sklearn.metrics import  r2_score,mean_squared_error #For Model Evaluation"
   ]
  },
  {
   "cell_type": "code",
   "execution_count": 2,
   "metadata": {
    "scrolled": false
   },
   "outputs": [
    {
     "data": {
      "text/html": [
       "<div>\n",
       "<style scoped>\n",
       "    .dataframe tbody tr th:only-of-type {\n",
       "        vertical-align: middle;\n",
       "    }\n",
       "\n",
       "    .dataframe tbody tr th {\n",
       "        vertical-align: top;\n",
       "    }\n",
       "\n",
       "    .dataframe thead th {\n",
       "        text-align: right;\n",
       "    }\n",
       "</style>\n",
       "<table border=\"1\" class=\"dataframe\">\n",
       "  <thead>\n",
       "    <tr style=\"text-align: right;\">\n",
       "      <th></th>\n",
       "      <th>ambient</th>\n",
       "      <th>coolant</th>\n",
       "      <th>u_d</th>\n",
       "      <th>u_q</th>\n",
       "      <th>motor_speed</th>\n",
       "      <th>torque</th>\n",
       "      <th>i_d</th>\n",
       "      <th>i_q</th>\n",
       "      <th>pm</th>\n",
       "      <th>stator_yoke</th>\n",
       "      <th>stator_tooth</th>\n",
       "      <th>stator_winding</th>\n",
       "      <th>profile_id</th>\n",
       "    </tr>\n",
       "  </thead>\n",
       "  <tbody>\n",
       "    <tr>\n",
       "      <td>0</td>\n",
       "      <td>-0.752143</td>\n",
       "      <td>-1.118446</td>\n",
       "      <td>0.327935</td>\n",
       "      <td>-1.297858</td>\n",
       "      <td>-1.222428</td>\n",
       "      <td>-0.250182</td>\n",
       "      <td>1.029572</td>\n",
       "      <td>-0.245860</td>\n",
       "      <td>-2.522071</td>\n",
       "      <td>-1.831422</td>\n",
       "      <td>-2.066143</td>\n",
       "      <td>-2.018033</td>\n",
       "      <td>4</td>\n",
       "    </tr>\n",
       "    <tr>\n",
       "      <td>1</td>\n",
       "      <td>-0.771263</td>\n",
       "      <td>-1.117021</td>\n",
       "      <td>0.329665</td>\n",
       "      <td>-1.297686</td>\n",
       "      <td>-1.222429</td>\n",
       "      <td>-0.249133</td>\n",
       "      <td>1.029509</td>\n",
       "      <td>-0.245832</td>\n",
       "      <td>-2.522418</td>\n",
       "      <td>-1.830969</td>\n",
       "      <td>-2.064859</td>\n",
       "      <td>-2.017631</td>\n",
       "      <td>4</td>\n",
       "    </tr>\n",
       "    <tr>\n",
       "      <td>2</td>\n",
       "      <td>-0.782892</td>\n",
       "      <td>-1.116681</td>\n",
       "      <td>0.332771</td>\n",
       "      <td>-1.301822</td>\n",
       "      <td>-1.222428</td>\n",
       "      <td>-0.249431</td>\n",
       "      <td>1.029448</td>\n",
       "      <td>-0.245818</td>\n",
       "      <td>-2.522673</td>\n",
       "      <td>-1.830400</td>\n",
       "      <td>-2.064073</td>\n",
       "      <td>-2.017343</td>\n",
       "      <td>4</td>\n",
       "    </tr>\n",
       "    <tr>\n",
       "      <td>3</td>\n",
       "      <td>-0.780935</td>\n",
       "      <td>-1.116764</td>\n",
       "      <td>0.333700</td>\n",
       "      <td>-1.301852</td>\n",
       "      <td>-1.222430</td>\n",
       "      <td>-0.248636</td>\n",
       "      <td>1.032845</td>\n",
       "      <td>-0.246955</td>\n",
       "      <td>-2.521639</td>\n",
       "      <td>-1.830333</td>\n",
       "      <td>-2.063137</td>\n",
       "      <td>-2.017632</td>\n",
       "      <td>4</td>\n",
       "    </tr>\n",
       "    <tr>\n",
       "      <td>4</td>\n",
       "      <td>-0.774043</td>\n",
       "      <td>-1.116775</td>\n",
       "      <td>0.335206</td>\n",
       "      <td>-1.303118</td>\n",
       "      <td>-1.222429</td>\n",
       "      <td>-0.248701</td>\n",
       "      <td>1.031807</td>\n",
       "      <td>-0.246610</td>\n",
       "      <td>-2.521900</td>\n",
       "      <td>-1.830498</td>\n",
       "      <td>-2.062795</td>\n",
       "      <td>-2.018145</td>\n",
       "      <td>4</td>\n",
       "    </tr>\n",
       "    <tr>\n",
       "      <td>...</td>\n",
       "      <td>...</td>\n",
       "      <td>...</td>\n",
       "      <td>...</td>\n",
       "      <td>...</td>\n",
       "      <td>...</td>\n",
       "      <td>...</td>\n",
       "      <td>...</td>\n",
       "      <td>...</td>\n",
       "      <td>...</td>\n",
       "      <td>...</td>\n",
       "      <td>...</td>\n",
       "      <td>...</td>\n",
       "      <td>...</td>\n",
       "    </tr>\n",
       "    <tr>\n",
       "      <td>377346</td>\n",
       "      <td>-0.057347</td>\n",
       "      <td>0.328767</td>\n",
       "      <td>1.597068</td>\n",
       "      <td>1.006590</td>\n",
       "      <td>0.701189</td>\n",
       "      <td>-1.065967</td>\n",
       "      <td>-0.248354</td>\n",
       "      <td>-1.053548</td>\n",
       "      <td>0.500003</td>\n",
       "      <td>0.502452</td>\n",
       "      <td>0.461858</td>\n",
       "      <td>0.328859</td>\n",
       "      <td>48</td>\n",
       "    </tr>\n",
       "    <tr>\n",
       "      <td>377347</td>\n",
       "      <td>-0.064690</td>\n",
       "      <td>0.329641</td>\n",
       "      <td>1.633080</td>\n",
       "      <td>0.956348</td>\n",
       "      <td>0.701966</td>\n",
       "      <td>-1.095221</td>\n",
       "      <td>-0.293910</td>\n",
       "      <td>-1.079035</td>\n",
       "      <td>0.499147</td>\n",
       "      <td>0.499085</td>\n",
       "      <td>0.461858</td>\n",
       "      <td>0.327985</td>\n",
       "      <td>48</td>\n",
       "    </tr>\n",
       "    <tr>\n",
       "      <td>377348</td>\n",
       "      <td>-0.071455</td>\n",
       "      <td>0.330192</td>\n",
       "      <td>1.669354</td>\n",
       "      <td>0.901983</td>\n",
       "      <td>0.704649</td>\n",
       "      <td>-1.125728</td>\n",
       "      <td>-0.345389</td>\n",
       "      <td>-1.105057</td>\n",
       "      <td>0.499310</td>\n",
       "      <td>0.496706</td>\n",
       "      <td>0.461858</td>\n",
       "      <td>0.327418</td>\n",
       "      <td>48</td>\n",
       "    </tr>\n",
       "    <tr>\n",
       "      <td>377349</td>\n",
       "      <td>-0.081861</td>\n",
       "      <td>0.330319</td>\n",
       "      <td>1.707283</td>\n",
       "      <td>0.842414</td>\n",
       "      <td>0.711120</td>\n",
       "      <td>-1.156690</td>\n",
       "      <td>-0.405066</td>\n",
       "      <td>-1.130468</td>\n",
       "      <td>0.501225</td>\n",
       "      <td>0.495388</td>\n",
       "      <td>0.461848</td>\n",
       "      <td>0.326950</td>\n",
       "      <td>48</td>\n",
       "    </tr>\n",
       "    <tr>\n",
       "      <td>377350</td>\n",
       "      <td>-0.089385</td>\n",
       "      <td>0.330170</td>\n",
       "      <td>1.745247</td>\n",
       "      <td>0.779664</td>\n",
       "      <td>0.719631</td>\n",
       "      <td>-1.187581</td>\n",
       "      <td>-0.469065</td>\n",
       "      <td>-1.155216</td>\n",
       "      <td>0.502293</td>\n",
       "      <td>0.495198</td>\n",
       "      <td>0.461816</td>\n",
       "      <td>0.325611</td>\n",
       "      <td>48</td>\n",
       "    </tr>\n",
       "  </tbody>\n",
       "</table>\n",
       "<p>377351 rows × 13 columns</p>\n",
       "</div>"
      ],
      "text/plain": [
       "         ambient   coolant       u_d       u_q  motor_speed    torque  \\\n",
       "0      -0.752143 -1.118446  0.327935 -1.297858    -1.222428 -0.250182   \n",
       "1      -0.771263 -1.117021  0.329665 -1.297686    -1.222429 -0.249133   \n",
       "2      -0.782892 -1.116681  0.332771 -1.301822    -1.222428 -0.249431   \n",
       "3      -0.780935 -1.116764  0.333700 -1.301852    -1.222430 -0.248636   \n",
       "4      -0.774043 -1.116775  0.335206 -1.303118    -1.222429 -0.248701   \n",
       "...          ...       ...       ...       ...          ...       ...   \n",
       "377346 -0.057347  0.328767  1.597068  1.006590     0.701189 -1.065967   \n",
       "377347 -0.064690  0.329641  1.633080  0.956348     0.701966 -1.095221   \n",
       "377348 -0.071455  0.330192  1.669354  0.901983     0.704649 -1.125728   \n",
       "377349 -0.081861  0.330319  1.707283  0.842414     0.711120 -1.156690   \n",
       "377350 -0.089385  0.330170  1.745247  0.779664     0.719631 -1.187581   \n",
       "\n",
       "             i_d       i_q        pm  stator_yoke  stator_tooth  \\\n",
       "0       1.029572 -0.245860 -2.522071    -1.831422     -2.066143   \n",
       "1       1.029509 -0.245832 -2.522418    -1.830969     -2.064859   \n",
       "2       1.029448 -0.245818 -2.522673    -1.830400     -2.064073   \n",
       "3       1.032845 -0.246955 -2.521639    -1.830333     -2.063137   \n",
       "4       1.031807 -0.246610 -2.521900    -1.830498     -2.062795   \n",
       "...          ...       ...       ...          ...           ...   \n",
       "377346 -0.248354 -1.053548  0.500003     0.502452      0.461858   \n",
       "377347 -0.293910 -1.079035  0.499147     0.499085      0.461858   \n",
       "377348 -0.345389 -1.105057  0.499310     0.496706      0.461858   \n",
       "377349 -0.405066 -1.130468  0.501225     0.495388      0.461848   \n",
       "377350 -0.469065 -1.155216  0.502293     0.495198      0.461816   \n",
       "\n",
       "        stator_winding  profile_id  \n",
       "0            -2.018033           4  \n",
       "1            -2.017631           4  \n",
       "2            -2.017343           4  \n",
       "3            -2.017632           4  \n",
       "4            -2.018145           4  \n",
       "...                ...         ...  \n",
       "377346        0.328859          48  \n",
       "377347        0.327985          48  \n",
       "377348        0.327418          48  \n",
       "377349        0.326950          48  \n",
       "377350        0.325611          48  \n",
       "\n",
       "[377351 rows x 13 columns]"
      ]
     },
     "execution_count": 2,
     "metadata": {},
     "output_type": "execute_result"
    }
   ],
   "source": [
    "dataframe = pd.read_csv('pmsm_temp_data.csv')\n",
    "dataframe"
   ]
  },
  {
   "cell_type": "code",
   "execution_count": 3,
   "metadata": {},
   "outputs": [
    {
     "name": "stdout",
     "output_type": "stream",
     "text": [
      "<class 'pandas.core.frame.DataFrame'>\n",
      "RangeIndex: 377351 entries, 0 to 377350\n",
      "Data columns (total 13 columns):\n",
      "ambient           377351 non-null float64\n",
      "coolant           377351 non-null float64\n",
      "u_d               377351 non-null float64\n",
      "u_q               377351 non-null float64\n",
      "motor_speed       377351 non-null float64\n",
      "torque            377351 non-null float64\n",
      "i_d               377351 non-null float64\n",
      "i_q               377351 non-null float64\n",
      "pm                377351 non-null float64\n",
      "stator_yoke       377351 non-null float64\n",
      "stator_tooth      377351 non-null float64\n",
      "stator_winding    377351 non-null float64\n",
      "profile_id        377351 non-null int64\n",
      "dtypes: float64(12), int64(1)\n",
      "memory usage: 37.4 MB\n"
     ]
    }
   ],
   "source": [
    "dataframe.info()"
   ]
  },
  {
   "cell_type": "code",
   "execution_count": 4,
   "metadata": {},
   "outputs": [
    {
     "data": {
      "text/plain": [
       "torque            0.021274\n",
       "profile_id        0.033324\n",
       "u_q               0.052668\n",
       "i_q               0.055267\n",
       "coolant           0.322206\n",
       "u_d               0.371113\n",
       "i_d               0.463796\n",
       "ambient           0.480572\n",
       "motor_speed       0.524203\n",
       "stator_yoke       0.676338\n",
       "stator_winding    0.713497\n",
       "stator_tooth      0.759954\n",
       "pm                1.000000\n",
       "Name: pm, dtype: float64"
      ]
     },
     "execution_count": 4,
     "metadata": {},
     "output_type": "execute_result"
    }
   ],
   "source": [
    "dataframe.corr()['pm'].abs().sort_values(ascending=True) #Checking Correlation Between Dependant & Independant Values"
   ]
  },
  {
   "cell_type": "code",
   "execution_count": 5,
   "metadata": {},
   "outputs": [
    {
     "data": {
      "text/plain": [
       "<seaborn.axisgrid.PairGrid at 0x7fc98082ffd0>"
      ]
     },
     "execution_count": 5,
     "metadata": {},
     "output_type": "execute_result"
    },
    {
     "data": {
      "image/png": "[encoded data removed]",
      "text/plain": [
       "<Figure size 1980x180 with 11 Axes>"
      ]
     },
     "metadata": {
      "needs_background": "light"
     },
     "output_type": "display_data"
    }
   ],
   "source": [
    "sns.pairplot(dataframe.head(500),x_vars=['u_d','u_q','stator_yoke','stator_tooth','stator_winding','ambient','coolant','i_d','i_q','torque','motor_speed'],y_vars='pm')"
   ]
  },
  {
   "cell_type": "code",
   "execution_count": 6,
   "metadata": {},
   "outputs": [],
   "source": [
    "r2 = []\n",
    "rmse = []"
   ]
  },
  {
   "cell_type": "markdown",
   "metadata": {},
   "source": [
    "## Model Creation"
   ]
  },
  {
   "cell_type": "markdown",
   "metadata": {},
   "source": [
    "### 1"
   ]
  },
  {
   "cell_type": "code",
   "execution_count": 7,
   "metadata": {},
   "outputs": [],
   "source": [
    "X = dataframe[['u_d','u_q','stator_yoke','stator_tooth','stator_winding','ambient','coolant','i_d','i_q','torque','motor_speed']]\n",
    "Y = dataframe['pm']"
   ]
  },
  {
   "cell_type": "code",
   "execution_count": 8,
   "metadata": {},
   "outputs": [],
   "source": [
    "XTrain,XTest,YTrain,YTest=train_test_split(X,Y,train_size=4/5)"
   ]
  },
  {
   "cell_type": "code",
   "execution_count": 9,
   "metadata": {
    "scrolled": true
   },
   "outputs": [
    {
     "name": "stderr",
     "output_type": "stream",
     "text": [
      "/home/greenalien24/anaconda3/lib/python3.7/site-packages/numpy/core/fromnumeric.py:2495: FutureWarning: Method .ptp is deprecated and will be removed in a future version. Use numpy.ptp instead.\n",
      "  return ptp(axis=axis, out=out, **kwargs)\n"
     ]
    },
    {
     "data": {
      "text/html": [
       "<table class=\"simpletable\">\n",
       "<caption>OLS Regression Results</caption>\n",
       "<tr>\n",
       "  <th>Dep. Variable:</th>           <td>pm</td>        <th>  R-squared:         </th>  <td>   0.831</td>  \n",
       "</tr>\n",
       "<tr>\n",
       "  <th>Model:</th>                   <td>OLS</td>       <th>  Adj. R-squared:    </th>  <td>   0.831</td>  \n",
       "</tr>\n",
       "<tr>\n",
       "  <th>Method:</th>             <td>Least Squares</td>  <th>  F-statistic:       </th>  <td>1.348e+05</td> \n",
       "</tr>\n",
       "<tr>\n",
       "  <th>Date:</th>             <td>Thu, 05 Dec 2019</td> <th>  Prob (F-statistic):</th>   <td>  0.00</td>   \n",
       "</tr>\n",
       "<tr>\n",
       "  <th>Time:</th>                 <td>22:11:56</td>     <th>  Log-Likelihood:    </th> <td>-2.0829e+05</td>\n",
       "</tr>\n",
       "<tr>\n",
       "  <th>No. Observations:</th>      <td>301880</td>      <th>  AIC:               </th>  <td>4.166e+05</td> \n",
       "</tr>\n",
       "<tr>\n",
       "  <th>Df Residuals:</th>          <td>301868</td>      <th>  BIC:               </th>  <td>4.167e+05</td> \n",
       "</tr>\n",
       "<tr>\n",
       "  <th>Df Model:</th>              <td>    11</td>      <th>                     </th>      <td> </td>     \n",
       "</tr>\n",
       "<tr>\n",
       "  <th>Covariance Type:</th>      <td>nonrobust</td>    <th>                     </th>      <td> </td>     \n",
       "</tr>\n",
       "</table>\n",
       "<table class=\"simpletable\">\n",
       "<tr>\n",
       "         <td></td>           <th>coef</th>     <th>std err</th>      <th>t</th>      <th>P>|t|</th>  <th>[0.025</th>    <th>0.975]</th>  \n",
       "</tr>\n",
       "<tr>\n",
       "  <th>const</th>          <td>    0.0869</td> <td>    0.001</td> <td>   68.399</td> <td> 0.000</td> <td>    0.084</td> <td>    0.089</td>\n",
       "</tr>\n",
       "<tr>\n",
       "  <th>u_d</th>            <td>    0.1313</td> <td>    0.003</td> <td>   46.898</td> <td> 0.000</td> <td>    0.126</td> <td>    0.137</td>\n",
       "</tr>\n",
       "<tr>\n",
       "  <th>u_q</th>            <td>   -0.4726</td> <td>    0.002</td> <td> -210.604</td> <td> 0.000</td> <td>   -0.477</td> <td>   -0.468</td>\n",
       "</tr>\n",
       "<tr>\n",
       "  <th>stator_yoke</th>    <td>   -2.3382</td> <td>    0.021</td> <td> -109.363</td> <td> 0.000</td> <td>   -2.380</td> <td>   -2.296</td>\n",
       "</tr>\n",
       "<tr>\n",
       "  <th>stator_tooth</th>   <td>    6.8967</td> <td>    0.025</td> <td>  272.637</td> <td> 0.000</td> <td>    6.847</td> <td>    6.946</td>\n",
       "</tr>\n",
       "<tr>\n",
       "  <th>stator_winding</th> <td>   -3.8765</td> <td>    0.012</td> <td> -313.536</td> <td> 0.000</td> <td>   -3.901</td> <td>   -3.852</td>\n",
       "</tr>\n",
       "<tr>\n",
       "  <th>ambient</th>        <td>    0.2375</td> <td>    0.001</td> <td>  237.266</td> <td> 0.000</td> <td>    0.236</td> <td>    0.239</td>\n",
       "</tr>\n",
       "<tr>\n",
       "  <th>coolant</th>        <td>   -0.3773</td> <td>    0.007</td> <td>  -52.384</td> <td> 0.000</td> <td>   -0.391</td> <td>   -0.363</td>\n",
       "</tr>\n",
       "<tr>\n",
       "  <th>i_d</th>            <td>    0.1347</td> <td>    0.003</td> <td>   39.951</td> <td> 0.000</td> <td>    0.128</td> <td>    0.141</td>\n",
       "</tr>\n",
       "<tr>\n",
       "  <th>i_q</th>            <td>   -0.8645</td> <td>    0.016</td> <td>  -53.284</td> <td> 0.000</td> <td>   -0.896</td> <td>   -0.833</td>\n",
       "</tr>\n",
       "<tr>\n",
       "  <th>torque</th>         <td>    1.0770</td> <td>    0.018</td> <td>   60.478</td> <td> 0.000</td> <td>    1.042</td> <td>    1.112</td>\n",
       "</tr>\n",
       "<tr>\n",
       "  <th>motor_speed</th>    <td>    0.3731</td> <td>    0.004</td> <td>   89.918</td> <td> 0.000</td> <td>    0.365</td> <td>    0.381</td>\n",
       "</tr>\n",
       "</table>\n",
       "<table class=\"simpletable\">\n",
       "<tr>\n",
       "  <th>Omnibus:</th>       <td>24467.704</td> <th>  Durbin-Watson:     </th> <td>   2.007</td> \n",
       "</tr>\n",
       "<tr>\n",
       "  <th>Prob(Omnibus):</th>  <td> 0.000</td>   <th>  Jarque-Bera (JB):  </th> <td>60584.050</td>\n",
       "</tr>\n",
       "<tr>\n",
       "  <th>Skew:</th>           <td> 0.488</td>   <th>  Prob(JB):          </th> <td>    0.00</td> \n",
       "</tr>\n",
       "<tr>\n",
       "  <th>Kurtosis:</th>       <td> 4.965</td>   <th>  Cond. No.          </th> <td>    88.5</td> \n",
       "</tr>\n",
       "</table><br/><br/>Warnings:<br/>[1] Standard Errors assume that the covariance matrix of the errors is correctly specified."
      ],
      "text/plain": [
       "<class 'statsmodels.iolib.summary.Summary'>\n",
       "\"\"\"\n",
       "                            OLS Regression Results                            \n",
       "==============================================================================\n",
       "Dep. Variable:                     pm   R-squared:                       0.831\n",
       "Model:                            OLS   Adj. R-squared:                  0.831\n",
       "Method:                 Least Squares   F-statistic:                 1.348e+05\n",
       "Date:                Thu, 05 Dec 2019   Prob (F-statistic):               0.00\n",
       "Time:                        22:11:56   Log-Likelihood:            -2.0829e+05\n",
       "No. Observations:              301880   AIC:                         4.166e+05\n",
       "Df Residuals:                  301868   BIC:                         4.167e+05\n",
       "Df Model:                          11                                         \n",
       "Covariance Type:            nonrobust                                         \n",
       "==================================================================================\n",
       "                     coef    std err          t      P>|t|      [0.025      0.975]\n",
       "----------------------------------------------------------------------------------\n",
       "const              0.0869      0.001     68.399      0.000       0.084       0.089\n",
       "u_d                0.1313      0.003     46.898      0.000       0.126       0.137\n",
       "u_q               -0.4726      0.002   -210.604      0.000      -0.477      -0.468\n",
       "stator_yoke       -2.3382      0.021   -109.363      0.000      -2.380      -2.296\n",
       "stator_tooth       6.8967      0.025    272.637      0.000       6.847       6.946\n",
       "stator_winding    -3.8765      0.012   -313.536      0.000      -3.901      -3.852\n",
       "ambient            0.2375      0.001    237.266      0.000       0.236       0.239\n",
       "coolant           -0.3773      0.007    -52.384      0.000      -0.391      -0.363\n",
       "i_d                0.1347      0.003     39.951      0.000       0.128       0.141\n",
       "i_q               -0.8645      0.016    -53.284      0.000      -0.896      -0.833\n",
       "torque             1.0770      0.018     60.478      0.000       1.042       1.112\n",
       "motor_speed        0.3731      0.004     89.918      0.000       0.365       0.381\n",
       "==============================================================================\n",
       "Omnibus:                    24467.704   Durbin-Watson:                   2.007\n",
       "Prob(Omnibus):                  0.000   Jarque-Bera (JB):            60584.050\n",
       "Skew:                           0.488   Prob(JB):                         0.00\n",
       "Kurtosis:                       4.965   Cond. No.                         88.5\n",
       "==============================================================================\n",
       "\n",
       "Warnings:\n",
       "[1] Standard Errors assume that the covariance matrix of the errors is correctly specified.\n",
       "\"\"\""
      ]
     },
     "execution_count": 9,
     "metadata": {},
     "output_type": "execute_result"
    }
   ],
   "source": [
    "XTrain = sm.add_constant(XTrain)\n",
    "model = sm.OLS(YTrain,XTrain)\n",
    "modelpred = model.fit()\n",
    "modelpred.summary()"
   ]
  },
  {
   "cell_type": "code",
   "execution_count": 10,
   "metadata": {
    "scrolled": true
   },
   "outputs": [],
   "source": [
    "XTestc = sm.add_constant(XTest)"
   ]
  },
  {
   "cell_type": "code",
   "execution_count": 11,
   "metadata": {},
   "outputs": [],
   "source": [
    "YPred = modelpred.predict(XTestc)"
   ]
  },
  {
   "cell_type": "code",
   "execution_count": 12,
   "metadata": {
    "scrolled": true
   },
   "outputs": [
    {
     "data": {
      "text/plain": [
       "0.8311280253322395"
      ]
     },
     "execution_count": 12,
     "metadata": {},
     "output_type": "execute_result"
    }
   ],
   "source": [
    "r = r2_score(YTest,YPred) #R squared\n",
    "r2.append(r)\n",
    "r"
   ]
  },
  {
   "cell_type": "code",
   "execution_count": 13,
   "metadata": {},
   "outputs": [],
   "source": [
    "m = np.sqrt(mean_squared_error(YTest,YPred)) #RMSE\n",
    "rmse.append(m)"
   ]
  },
  {
   "cell_type": "markdown",
   "metadata": {},
   "source": [
    "### 2"
   ]
  },
  {
   "cell_type": "code",
   "execution_count": 14,
   "metadata": {},
   "outputs": [],
   "source": [
    "X = dataframe[['u_d','u_q','stator_yoke','stator_tooth','stator_winding','ambient','coolant','i_d','i_q','motor_speed']]\n",
    "Y = dataframe['pm']"
   ]
  },
  {
   "cell_type": "code",
   "execution_count": 15,
   "metadata": {},
   "outputs": [],
   "source": [
    "XTrain,XTest,YTrain,YTest=train_test_split(X,Y,train_size=4/5)"
   ]
  },
  {
   "cell_type": "code",
   "execution_count": 16,
   "metadata": {
    "scrolled": true
   },
   "outputs": [
    {
     "name": "stderr",
     "output_type": "stream",
     "text": [
      "/home/greenalien24/anaconda3/lib/python3.7/site-packages/numpy/core/fromnumeric.py:2495: FutureWarning: Method .ptp is deprecated and will be removed in a future version. Use numpy.ptp instead.\n",
      "  return ptp(axis=axis, out=out, **kwargs)\n"
     ]
    },
    {
     "data": {
      "text/html": [
       "<table class=\"simpletable\">\n",
       "<caption>OLS Regression Results</caption>\n",
       "<tr>\n",
       "  <th>Dep. Variable:</th>           <td>pm</td>        <th>  R-squared:         </th>  <td>   0.829</td>  \n",
       "</tr>\n",
       "<tr>\n",
       "  <th>Model:</th>                   <td>OLS</td>       <th>  Adj. R-squared:    </th>  <td>   0.829</td>  \n",
       "</tr>\n",
       "<tr>\n",
       "  <th>Method:</th>             <td>Least Squares</td>  <th>  F-statistic:       </th>  <td>1.466e+05</td> \n",
       "</tr>\n",
       "<tr>\n",
       "  <th>Date:</th>             <td>Thu, 05 Dec 2019</td> <th>  Prob (F-statistic):</th>   <td>  0.00</td>   \n",
       "</tr>\n",
       "<tr>\n",
       "  <th>Time:</th>                 <td>22:11:57</td>     <th>  Log-Likelihood:    </th> <td>-2.0996e+05</td>\n",
       "</tr>\n",
       "<tr>\n",
       "  <th>No. Observations:</th>      <td>301880</td>      <th>  AIC:               </th>  <td>4.199e+05</td> \n",
       "</tr>\n",
       "<tr>\n",
       "  <th>Df Residuals:</th>          <td>301869</td>      <th>  BIC:               </th>  <td>4.201e+05</td> \n",
       "</tr>\n",
       "<tr>\n",
       "  <th>Df Model:</th>              <td>    10</td>      <th>                     </th>      <td> </td>     \n",
       "</tr>\n",
       "<tr>\n",
       "  <th>Covariance Type:</th>      <td>nonrobust</td>    <th>                     </th>      <td> </td>     \n",
       "</tr>\n",
       "</table>\n",
       "<table class=\"simpletable\">\n",
       "<tr>\n",
       "         <td></td>           <th>coef</th>     <th>std err</th>      <th>t</th>      <th>P>|t|</th>  <th>[0.025</th>    <th>0.975]</th>  \n",
       "</tr>\n",
       "<tr>\n",
       "  <th>const</th>          <td>    0.0851</td> <td>    0.001</td> <td>   66.649</td> <td> 0.000</td> <td>    0.083</td> <td>    0.088</td>\n",
       "</tr>\n",
       "<tr>\n",
       "  <th>u_d</th>            <td>    0.0508</td> <td>    0.002</td> <td>   20.501</td> <td> 0.000</td> <td>    0.046</td> <td>    0.056</td>\n",
       "</tr>\n",
       "<tr>\n",
       "  <th>u_q</th>            <td>   -0.4565</td> <td>    0.002</td> <td> -203.440</td> <td> 0.000</td> <td>   -0.461</td> <td>   -0.452</td>\n",
       "</tr>\n",
       "<tr>\n",
       "  <th>stator_yoke</th>    <td>   -2.3002</td> <td>    0.021</td> <td> -107.055</td> <td> 0.000</td> <td>   -2.342</td> <td>   -2.258</td>\n",
       "</tr>\n",
       "<tr>\n",
       "  <th>stator_tooth</th>   <td>    6.7359</td> <td>    0.025</td> <td>  266.761</td> <td> 0.000</td> <td>    6.686</td> <td>    6.785</td>\n",
       "</tr>\n",
       "<tr>\n",
       "  <th>stator_winding</th> <td>   -3.7548</td> <td>    0.012</td> <td> -306.940</td> <td> 0.000</td> <td>   -3.779</td> <td>   -3.731</td>\n",
       "</tr>\n",
       "<tr>\n",
       "  <th>ambient</th>        <td>    0.2298</td> <td>    0.001</td> <td>  230.322</td> <td> 0.000</td> <td>    0.228</td> <td>    0.232</td>\n",
       "</tr>\n",
       "<tr>\n",
       "  <th>coolant</th>        <td>   -0.3657</td> <td>    0.007</td> <td>  -50.483</td> <td> 0.000</td> <td>   -0.380</td> <td>   -0.352</td>\n",
       "</tr>\n",
       "<tr>\n",
       "  <th>i_d</th>            <td>    0.0457</td> <td>    0.003</td> <td>   15.035</td> <td> 0.000</td> <td>    0.040</td> <td>    0.052</td>\n",
       "</tr>\n",
       "<tr>\n",
       "  <th>i_q</th>            <td>    0.1036</td> <td>    0.003</td> <td>   39.661</td> <td> 0.000</td> <td>    0.099</td> <td>    0.109</td>\n",
       "</tr>\n",
       "<tr>\n",
       "  <th>motor_speed</th>    <td>    0.2950</td> <td>    0.004</td> <td>   74.146</td> <td> 0.000</td> <td>    0.287</td> <td>    0.303</td>\n",
       "</tr>\n",
       "</table>\n",
       "<table class=\"simpletable\">\n",
       "<tr>\n",
       "  <th>Omnibus:</th>       <td>24399.275</td> <th>  Durbin-Watson:     </th> <td>   2.001</td> \n",
       "</tr>\n",
       "<tr>\n",
       "  <th>Prob(Omnibus):</th>  <td> 0.000</td>   <th>  Jarque-Bera (JB):  </th> <td>60735.009</td>\n",
       "</tr>\n",
       "<tr>\n",
       "  <th>Skew:</th>           <td> 0.486</td>   <th>  Prob(JB):          </th> <td>    0.00</td> \n",
       "</tr>\n",
       "<tr>\n",
       "  <th>Kurtosis:</th>       <td> 4.971</td>   <th>  Cond. No.          </th> <td>    87.6</td> \n",
       "</tr>\n",
       "</table><br/><br/>Warnings:<br/>[1] Standard Errors assume that the covariance matrix of the errors is correctly specified."
      ],
      "text/plain": [
       "<class 'statsmodels.iolib.summary.Summary'>\n",
       "\"\"\"\n",
       "                            OLS Regression Results                            \n",
       "==============================================================================\n",
       "Dep. Variable:                     pm   R-squared:                       0.829\n",
       "Model:                            OLS   Adj. R-squared:                  0.829\n",
       "Method:                 Least Squares   F-statistic:                 1.466e+05\n",
       "Date:                Thu, 05 Dec 2019   Prob (F-statistic):               0.00\n",
       "Time:                        22:11:57   Log-Likelihood:            -2.0996e+05\n",
       "No. Observations:              301880   AIC:                         4.199e+05\n",
       "Df Residuals:                  301869   BIC:                         4.201e+05\n",
       "Df Model:                          10                                         \n",
       "Covariance Type:            nonrobust                                         \n",
       "==================================================================================\n",
       "                     coef    std err          t      P>|t|      [0.025      0.975]\n",
       "----------------------------------------------------------------------------------\n",
       "const              0.0851      0.001     66.649      0.000       0.083       0.088\n",
       "u_d                0.0508      0.002     20.501      0.000       0.046       0.056\n",
       "u_q               -0.4565      0.002   -203.440      0.000      -0.461      -0.452\n",
       "stator_yoke       -2.3002      0.021   -107.055      0.000      -2.342      -2.258\n",
       "stator_tooth       6.7359      0.025    266.761      0.000       6.686       6.785\n",
       "stator_winding    -3.7548      0.012   -306.940      0.000      -3.779      -3.731\n",
       "ambient            0.2298      0.001    230.322      0.000       0.228       0.232\n",
       "coolant           -0.3657      0.007    -50.483      0.000      -0.380      -0.352\n",
       "i_d                0.0457      0.003     15.035      0.000       0.040       0.052\n",
       "i_q                0.1036      0.003     39.661      0.000       0.099       0.109\n",
       "motor_speed        0.2950      0.004     74.146      0.000       0.287       0.303\n",
       "==============================================================================\n",
       "Omnibus:                    24399.275   Durbin-Watson:                   2.001\n",
       "Prob(Omnibus):                  0.000   Jarque-Bera (JB):            60735.009\n",
       "Skew:                           0.486   Prob(JB):                         0.00\n",
       "Kurtosis:                       4.971   Cond. No.                         87.6\n",
       "==============================================================================\n",
       "\n",
       "Warnings:\n",
       "[1] Standard Errors assume that the covariance matrix of the errors is correctly specified.\n",
       "\"\"\""
      ]
     },
     "execution_count": 16,
     "metadata": {},
     "output_type": "execute_result"
    }
   ],
   "source": [
    "XTrain = sm.add_constant(XTrain)\n",
    "model = sm.OLS(YTrain,XTrain)\n",
    "modelpred = model.fit()\n",
    "modelpred.summary()"
   ]
  },
  {
   "cell_type": "code",
   "execution_count": 17,
   "metadata": {},
   "outputs": [],
   "source": [
    "XTestc = sm.add_constant(XTest)"
   ]
  },
  {
   "cell_type": "code",
   "execution_count": 18,
   "metadata": {},
   "outputs": [],
   "source": [
    "YPred = modelpred.predict(XTestc)"
   ]
  },
  {
   "cell_type": "code",
   "execution_count": 19,
   "metadata": {
    "scrolled": true
   },
   "outputs": [
    {
     "data": {
      "text/plain": [
       "0.8274849158990983"
      ]
     },
     "execution_count": 19,
     "metadata": {},
     "output_type": "execute_result"
    }
   ],
   "source": [
    "r = r2_score(YTest,YPred) #R squared\n",
    "r2.append(r)\n",
    "r"
   ]
  },
  {
   "cell_type": "code",
   "execution_count": 20,
   "metadata": {},
   "outputs": [],
   "source": [
    "m = np.sqrt(mean_squared_error(YTest,YPred)) #RMSE\n",
    "rmse.append(m)"
   ]
  },
  {
   "cell_type": "markdown",
   "metadata": {},
   "source": [
    "### 3"
   ]
  },
  {
   "cell_type": "code",
   "execution_count": 21,
   "metadata": {},
   "outputs": [],
   "source": [
    "X = dataframe[['u_d','stator_yoke','stator_tooth','stator_winding','ambient','coolant','i_d','i_q','motor_speed']]\n",
    "Y = dataframe['pm']"
   ]
  },
  {
   "cell_type": "code",
   "execution_count": 22,
   "metadata": {},
   "outputs": [],
   "source": [
    "XTrain,XTest,YTrain,YTest=train_test_split(X,Y,train_size=4/5)"
   ]
  },
  {
   "cell_type": "code",
   "execution_count": 23,
   "metadata": {
    "scrolled": true
   },
   "outputs": [
    {
     "name": "stderr",
     "output_type": "stream",
     "text": [
      "/home/greenalien24/anaconda3/lib/python3.7/site-packages/numpy/core/fromnumeric.py:2495: FutureWarning: Method .ptp is deprecated and will be removed in a future version. Use numpy.ptp instead.\n",
      "  return ptp(axis=axis, out=out, **kwargs)\n"
     ]
    },
    {
     "data": {
      "text/html": [
       "<table class=\"simpletable\">\n",
       "<caption>OLS Regression Results</caption>\n",
       "<tr>\n",
       "  <th>Dep. Variable:</th>           <td>pm</td>        <th>  R-squared:         </th>  <td>   0.806</td>  \n",
       "</tr>\n",
       "<tr>\n",
       "  <th>Model:</th>                   <td>OLS</td>       <th>  Adj. R-squared:    </th>  <td>   0.806</td>  \n",
       "</tr>\n",
       "<tr>\n",
       "  <th>Method:</th>             <td>Least Squares</td>  <th>  F-statistic:       </th>  <td>1.390e+05</td> \n",
       "</tr>\n",
       "<tr>\n",
       "  <th>Date:</th>             <td>Thu, 05 Dec 2019</td> <th>  Prob (F-statistic):</th>   <td>  0.00</td>   \n",
       "</tr>\n",
       "<tr>\n",
       "  <th>Time:</th>                 <td>22:11:59</td>     <th>  Log-Likelihood:    </th> <td>-2.2938e+05</td>\n",
       "</tr>\n",
       "<tr>\n",
       "  <th>No. Observations:</th>      <td>301880</td>      <th>  AIC:               </th>  <td>4.588e+05</td> \n",
       "</tr>\n",
       "<tr>\n",
       "  <th>Df Residuals:</th>          <td>301870</td>      <th>  BIC:               </th>  <td>4.589e+05</td> \n",
       "</tr>\n",
       "<tr>\n",
       "  <th>Df Model:</th>              <td>     9</td>      <th>                     </th>      <td> </td>     \n",
       "</tr>\n",
       "<tr>\n",
       "  <th>Covariance Type:</th>      <td>nonrobust</td>    <th>                     </th>      <td> </td>     \n",
       "</tr>\n",
       "</table>\n",
       "<table class=\"simpletable\">\n",
       "<tr>\n",
       "         <td></td>           <th>coef</th>     <th>std err</th>      <th>t</th>      <th>P>|t|</th>  <th>[0.025</th>    <th>0.975]</th>  \n",
       "</tr>\n",
       "<tr>\n",
       "  <th>const</th>          <td>    0.1056</td> <td>    0.001</td> <td>   77.786</td> <td> 0.000</td> <td>    0.103</td> <td>    0.108</td>\n",
       "</tr>\n",
       "<tr>\n",
       "  <th>u_d</th>            <td>   -0.1820</td> <td>    0.002</td> <td>  -77.753</td> <td> 0.000</td> <td>   -0.187</td> <td>   -0.177</td>\n",
       "</tr>\n",
       "<tr>\n",
       "  <th>stator_yoke</th>    <td>   -3.4363</td> <td>    0.022</td> <td> -155.566</td> <td> 0.000</td> <td>   -3.480</td> <td>   -3.393</td>\n",
       "</tr>\n",
       "<tr>\n",
       "  <th>stator_tooth</th>   <td>    7.6534</td> <td>    0.026</td> <td>  289.180</td> <td> 0.000</td> <td>    7.602</td> <td>    7.705</td>\n",
       "</tr>\n",
       "<tr>\n",
       "  <th>stator_winding</th> <td>   -3.8351</td> <td>    0.013</td> <td> -294.478</td> <td> 0.000</td> <td>   -3.861</td> <td>   -3.810</td>\n",
       "</tr>\n",
       "<tr>\n",
       "  <th>ambient</th>        <td>    0.2322</td> <td>    0.001</td> <td>  218.131</td> <td> 0.000</td> <td>    0.230</td> <td>    0.234</td>\n",
       "</tr>\n",
       "<tr>\n",
       "  <th>coolant</th>        <td>    0.0158</td> <td>    0.007</td> <td>    2.123</td> <td> 0.034</td> <td>    0.001</td> <td>    0.030</td>\n",
       "</tr>\n",
       "<tr>\n",
       "  <th>i_d</th>            <td>   -0.3044</td> <td>    0.003</td> <td> -113.133</td> <td> 0.000</td> <td>   -0.310</td> <td>   -0.299</td>\n",
       "</tr>\n",
       "<tr>\n",
       "  <th>i_q</th>            <td>   -0.2170</td> <td>    0.002</td> <td>  -97.771</td> <td> 0.000</td> <td>   -0.221</td> <td>   -0.213</td>\n",
       "</tr>\n",
       "<tr>\n",
       "  <th>motor_speed</th>    <td>   -0.3948</td> <td>    0.002</td> <td> -175.917</td> <td> 0.000</td> <td>   -0.399</td> <td>   -0.390</td>\n",
       "</tr>\n",
       "</table>\n",
       "<table class=\"simpletable\">\n",
       "<tr>\n",
       "  <th>Omnibus:</th>       <td>27545.797</td> <th>  Durbin-Watson:     </th> <td>   2.004</td> \n",
       "</tr>\n",
       "<tr>\n",
       "  <th>Prob(Omnibus):</th>  <td> 0.000</td>   <th>  Jarque-Bera (JB):  </th> <td>54228.471</td>\n",
       "</tr>\n",
       "<tr>\n",
       "  <th>Skew:</th>           <td> 0.614</td>   <th>  Prob(JB):          </th> <td>    0.00</td> \n",
       "</tr>\n",
       "<tr>\n",
       "  <th>Kurtosis:</th>       <td> 4.674</td>   <th>  Cond. No.          </th> <td>    85.5</td> \n",
       "</tr>\n",
       "</table><br/><br/>Warnings:<br/>[1] Standard Errors assume that the covariance matrix of the errors is correctly specified."
      ],
      "text/plain": [
       "<class 'statsmodels.iolib.summary.Summary'>\n",
       "\"\"\"\n",
       "                            OLS Regression Results                            \n",
       "==============================================================================\n",
       "Dep. Variable:                     pm   R-squared:                       0.806\n",
       "Model:                            OLS   Adj. R-squared:                  0.806\n",
       "Method:                 Least Squares   F-statistic:                 1.390e+05\n",
       "Date:                Thu, 05 Dec 2019   Prob (F-statistic):               0.00\n",
       "Time:                        22:11:59   Log-Likelihood:            -2.2938e+05\n",
       "No. Observations:              301880   AIC:                         4.588e+05\n",
       "Df Residuals:                  301870   BIC:                         4.589e+05\n",
       "Df Model:                           9                                         \n",
       "Covariance Type:            nonrobust                                         \n",
       "==================================================================================\n",
       "                     coef    std err          t      P>|t|      [0.025      0.975]\n",
       "----------------------------------------------------------------------------------\n",
       "const              0.1056      0.001     77.786      0.000       0.103       0.108\n",
       "u_d               -0.1820      0.002    -77.753      0.000      -0.187      -0.177\n",
       "stator_yoke       -3.4363      0.022   -155.566      0.000      -3.480      -3.393\n",
       "stator_tooth       7.6534      0.026    289.180      0.000       7.602       7.705\n",
       "stator_winding    -3.8351      0.013   -294.478      0.000      -3.861      -3.810\n",
       "ambient            0.2322      0.001    218.131      0.000       0.230       0.234\n",
       "coolant            0.0158      0.007      2.123      0.034       0.001       0.030\n",
       "i_d               -0.3044      0.003   -113.133      0.000      -0.310      -0.299\n",
       "i_q               -0.2170      0.002    -97.771      0.000      -0.221      -0.213\n",
       "motor_speed       -0.3948      0.002   -175.917      0.000      -0.399      -0.390\n",
       "==============================================================================\n",
       "Omnibus:                    27545.797   Durbin-Watson:                   2.004\n",
       "Prob(Omnibus):                  0.000   Jarque-Bera (JB):            54228.471\n",
       "Skew:                           0.614   Prob(JB):                         0.00\n",
       "Kurtosis:                       4.674   Cond. No.                         85.5\n",
       "==============================================================================\n",
       "\n",
       "Warnings:\n",
       "[1] Standard Errors assume that the covariance matrix of the errors is correctly specified.\n",
       "\"\"\""
      ]
     },
     "execution_count": 23,
     "metadata": {},
     "output_type": "execute_result"
    }
   ],
   "source": [
    "XTrain = sm.add_constant(XTrain)\n",
    "model = sm.OLS(YTrain,XTrain)\n",
    "modelpred = model.fit()\n",
    "modelpred.summary()"
   ]
  },
  {
   "cell_type": "code",
   "execution_count": 24,
   "metadata": {},
   "outputs": [],
   "source": [
    "XTestc = sm.add_constant(XTest)"
   ]
  },
  {
   "cell_type": "code",
   "execution_count": 25,
   "metadata": {},
   "outputs": [],
   "source": [
    "YPred = modelpred.predict(XTestc)"
   ]
  },
  {
   "cell_type": "code",
   "execution_count": 26,
   "metadata": {
    "scrolled": true
   },
   "outputs": [
    {
     "data": {
      "text/plain": [
       "0.8039221795272874"
      ]
     },
     "execution_count": 26,
     "metadata": {},
     "output_type": "execute_result"
    }
   ],
   "source": [
    "r = r2_score(YTest,YPred) #R squared\n",
    "r2.append(r)\n",
    "r"
   ]
  },
  {
   "cell_type": "code",
   "execution_count": 27,
   "metadata": {},
   "outputs": [],
   "source": [
    "m = np.sqrt(mean_squared_error(YTest,YPred)) #RMSE\n",
    "rmse.append(m)"
   ]
  },
  {
   "cell_type": "markdown",
   "metadata": {},
   "source": [
    "### 4"
   ]
  },
  {
   "cell_type": "code",
   "execution_count": 28,
   "metadata": {},
   "outputs": [],
   "source": [
    "X = dataframe[['u_d','stator_yoke','stator_tooth','stator_winding','ambient','coolant','i_d','motor_speed']]\n",
    "Y = dataframe['pm']"
   ]
  },
  {
   "cell_type": "code",
   "execution_count": 29,
   "metadata": {},
   "outputs": [],
   "source": [
    "XTrain,XTest,YTrain,YTest=train_test_split(X,Y,train_size=4/5)"
   ]
  },
  {
   "cell_type": "code",
   "execution_count": 30,
   "metadata": {
    "scrolled": true
   },
   "outputs": [
    {
     "name": "stderr",
     "output_type": "stream",
     "text": [
      "/home/greenalien24/anaconda3/lib/python3.7/site-packages/numpy/core/fromnumeric.py:2495: FutureWarning: Method .ptp is deprecated and will be removed in a future version. Use numpy.ptp instead.\n",
      "  return ptp(axis=axis, out=out, **kwargs)\n"
     ]
    },
    {
     "data": {
      "text/html": [
       "<table class=\"simpletable\">\n",
       "<caption>OLS Regression Results</caption>\n",
       "<tr>\n",
       "  <th>Dep. Variable:</th>           <td>pm</td>        <th>  R-squared:         </th>  <td>   0.799</td>  \n",
       "</tr>\n",
       "<tr>\n",
       "  <th>Model:</th>                   <td>OLS</td>       <th>  Adj. R-squared:    </th>  <td>   0.799</td>  \n",
       "</tr>\n",
       "<tr>\n",
       "  <th>Method:</th>             <td>Least Squares</td>  <th>  F-statistic:       </th>  <td>1.501e+05</td> \n",
       "</tr>\n",
       "<tr>\n",
       "  <th>Date:</th>             <td>Thu, 05 Dec 2019</td> <th>  Prob (F-statistic):</th>   <td>  0.00</td>   \n",
       "</tr>\n",
       "<tr>\n",
       "  <th>Time:</th>                 <td>22:12:00</td>     <th>  Log-Likelihood:    </th> <td>-2.3442e+05</td>\n",
       "</tr>\n",
       "<tr>\n",
       "  <th>No. Observations:</th>      <td>301880</td>      <th>  AIC:               </th>  <td>4.689e+05</td> \n",
       "</tr>\n",
       "<tr>\n",
       "  <th>Df Residuals:</th>          <td>301871</td>      <th>  BIC:               </th>  <td>4.690e+05</td> \n",
       "</tr>\n",
       "<tr>\n",
       "  <th>Df Model:</th>              <td>     8</td>      <th>                     </th>      <td> </td>     \n",
       "</tr>\n",
       "<tr>\n",
       "  <th>Covariance Type:</th>      <td>nonrobust</td>    <th>                     </th>      <td> </td>     \n",
       "</tr>\n",
       "</table>\n",
       "<table class=\"simpletable\">\n",
       "<tr>\n",
       "         <td></td>           <th>coef</th>     <th>std err</th>      <th>t</th>      <th>P>|t|</th>  <th>[0.025</th>    <th>0.975]</th>  \n",
       "</tr>\n",
       "<tr>\n",
       "  <th>const</th>          <td>    0.0872</td> <td>    0.001</td> <td>   63.754</td> <td> 0.000</td> <td>    0.084</td> <td>    0.090</td>\n",
       "</tr>\n",
       "<tr>\n",
       "  <th>u_d</th>            <td>   -0.0107</td> <td>    0.002</td> <td>   -6.791</td> <td> 0.000</td> <td>   -0.014</td> <td>   -0.008</td>\n",
       "</tr>\n",
       "<tr>\n",
       "  <th>stator_yoke</th>    <td>   -3.9387</td> <td>    0.022</td> <td> -180.222</td> <td> 0.000</td> <td>   -3.982</td> <td>   -3.896</td>\n",
       "</tr>\n",
       "<tr>\n",
       "  <th>stator_tooth</th>   <td>    8.5233</td> <td>    0.025</td> <td>  336.398</td> <td> 0.000</td> <td>    8.474</td> <td>    8.573</td>\n",
       "</tr>\n",
       "<tr>\n",
       "  <th>stator_winding</th> <td>   -4.3043</td> <td>    0.012</td> <td> -349.721</td> <td> 0.000</td> <td>   -4.328</td> <td>   -4.280</td>\n",
       "</tr>\n",
       "<tr>\n",
       "  <th>ambient</th>        <td>    0.2417</td> <td>    0.001</td> <td>  224.143</td> <td> 0.000</td> <td>    0.240</td> <td>    0.244</td>\n",
       "</tr>\n",
       "<tr>\n",
       "  <th>coolant</th>        <td>    0.0862</td> <td>    0.008</td> <td>   11.420</td> <td> 0.000</td> <td>    0.071</td> <td>    0.101</td>\n",
       "</tr>\n",
       "<tr>\n",
       "  <th>i_d</th>            <td>   -0.3052</td> <td>    0.003</td> <td> -111.395</td> <td> 0.000</td> <td>   -0.311</td> <td>   -0.300</td>\n",
       "</tr>\n",
       "<tr>\n",
       "  <th>motor_speed</th>    <td>   -0.3251</td> <td>    0.002</td> <td> -149.665</td> <td> 0.000</td> <td>   -0.329</td> <td>   -0.321</td>\n",
       "</tr>\n",
       "</table>\n",
       "<table class=\"simpletable\">\n",
       "<tr>\n",
       "  <th>Omnibus:</th>       <td>25071.404</td> <th>  Durbin-Watson:     </th> <td>   2.000</td> \n",
       "</tr>\n",
       "<tr>\n",
       "  <th>Prob(Omnibus):</th>  <td> 0.000</td>   <th>  Jarque-Bera (JB):  </th> <td>47393.490</td>\n",
       "</tr>\n",
       "<tr>\n",
       "  <th>Skew:</th>           <td> 0.580</td>   <th>  Prob(JB):          </th> <td>    0.00</td> \n",
       "</tr>\n",
       "<tr>\n",
       "  <th>Kurtosis:</th>       <td> 4.556</td>   <th>  Cond. No.          </th> <td>    81.2</td> \n",
       "</tr>\n",
       "</table><br/><br/>Warnings:<br/>[1] Standard Errors assume that the covariance matrix of the errors is correctly specified."
      ],
      "text/plain": [
       "<class 'statsmodels.iolib.summary.Summary'>\n",
       "\"\"\"\n",
       "                            OLS Regression Results                            \n",
       "==============================================================================\n",
       "Dep. Variable:                     pm   R-squared:                       0.799\n",
       "Model:                            OLS   Adj. R-squared:                  0.799\n",
       "Method:                 Least Squares   F-statistic:                 1.501e+05\n",
       "Date:                Thu, 05 Dec 2019   Prob (F-statistic):               0.00\n",
       "Time:                        22:12:00   Log-Likelihood:            -2.3442e+05\n",
       "No. Observations:              301880   AIC:                         4.689e+05\n",
       "Df Residuals:                  301871   BIC:                         4.690e+05\n",
       "Df Model:                           8                                         \n",
       "Covariance Type:            nonrobust                                         \n",
       "==================================================================================\n",
       "                     coef    std err          t      P>|t|      [0.025      0.975]\n",
       "----------------------------------------------------------------------------------\n",
       "const              0.0872      0.001     63.754      0.000       0.084       0.090\n",
       "u_d               -0.0107      0.002     -6.791      0.000      -0.014      -0.008\n",
       "stator_yoke       -3.9387      0.022   -180.222      0.000      -3.982      -3.896\n",
       "stator_tooth       8.5233      0.025    336.398      0.000       8.474       8.573\n",
       "stator_winding    -4.3043      0.012   -349.721      0.000      -4.328      -4.280\n",
       "ambient            0.2417      0.001    224.143      0.000       0.240       0.244\n",
       "coolant            0.0862      0.008     11.420      0.000       0.071       0.101\n",
       "i_d               -0.3052      0.003   -111.395      0.000      -0.311      -0.300\n",
       "motor_speed       -0.3251      0.002   -149.665      0.000      -0.329      -0.321\n",
       "==============================================================================\n",
       "Omnibus:                    25071.404   Durbin-Watson:                   2.000\n",
       "Prob(Omnibus):                  0.000   Jarque-Bera (JB):            47393.490\n",
       "Skew:                           0.580   Prob(JB):                         0.00\n",
       "Kurtosis:                       4.556   Cond. No.                         81.2\n",
       "==============================================================================\n",
       "\n",
       "Warnings:\n",
       "[1] Standard Errors assume that the covariance matrix of the errors is correctly specified.\n",
       "\"\"\""
      ]
     },
     "execution_count": 30,
     "metadata": {},
     "output_type": "execute_result"
    }
   ],
   "source": [
    "XTrain = sm.add_constant(XTrain)\n",
    "model = sm.OLS(YTrain,XTrain)\n",
    "modelpred = model.fit()\n",
    "modelpred.summary()"
   ]
  },
  {
   "cell_type": "code",
   "execution_count": 31,
   "metadata": {},
   "outputs": [],
   "source": [
    "XTestc = sm.add_constant(XTest)"
   ]
  },
  {
   "cell_type": "code",
   "execution_count": 32,
   "metadata": {},
   "outputs": [],
   "source": [
    "YPred = modelpred.predict(XTestc)"
   ]
  },
  {
   "cell_type": "code",
   "execution_count": 33,
   "metadata": {
    "scrolled": true
   },
   "outputs": [
    {
     "data": {
      "text/plain": [
       "0.7993317931058317"
      ]
     },
     "execution_count": 33,
     "metadata": {},
     "output_type": "execute_result"
    }
   ],
   "source": [
    "r = r2_score(YTest,YPred) #R squared\n",
    "r2.append(r)\n",
    "r"
   ]
  },
  {
   "cell_type": "code",
   "execution_count": 34,
   "metadata": {},
   "outputs": [],
   "source": [
    "m = np.sqrt(mean_squared_error(YTest,YPred)) #RMSE\n",
    "rmse.append(m)"
   ]
  },
  {
   "cell_type": "markdown",
   "metadata": {},
   "source": [
    "### 5"
   ]
  },
  {
   "cell_type": "code",
   "execution_count": 35,
   "metadata": {},
   "outputs": [],
   "source": [
    "X = dataframe[['u_q','stator_yoke','stator_tooth','stator_winding','ambient','i_d','motor_speed']]\n",
    "Y = dataframe['pm']"
   ]
  },
  {
   "cell_type": "code",
   "execution_count": 36,
   "metadata": {},
   "outputs": [],
   "source": [
    "XTrain,XTest,YTrain,YTest=train_test_split(X,Y,train_size=4/5)"
   ]
  },
  {
   "cell_type": "code",
   "execution_count": 37,
   "metadata": {
    "scrolled": true
   },
   "outputs": [
    {
     "name": "stderr",
     "output_type": "stream",
     "text": [
      "/home/greenalien24/anaconda3/lib/python3.7/site-packages/numpy/core/fromnumeric.py:2495: FutureWarning: Method .ptp is deprecated and will be removed in a future version. Use numpy.ptp instead.\n",
      "  return ptp(axis=axis, out=out, **kwargs)\n"
     ]
    },
    {
     "data": {
      "text/html": [
       "<table class=\"simpletable\">\n",
       "<caption>OLS Regression Results</caption>\n",
       "<tr>\n",
       "  <th>Dep. Variable:</th>           <td>pm</td>        <th>  R-squared:         </th>  <td>   0.827</td>  \n",
       "</tr>\n",
       "<tr>\n",
       "  <th>Model:</th>                   <td>OLS</td>       <th>  Adj. R-squared:    </th>  <td>   0.827</td>  \n",
       "</tr>\n",
       "<tr>\n",
       "  <th>Method:</th>             <td>Least Squares</td>  <th>  F-statistic:       </th>  <td>2.055e+05</td> \n",
       "</tr>\n",
       "<tr>\n",
       "  <th>Date:</th>             <td>Thu, 05 Dec 2019</td> <th>  Prob (F-statistic):</th>   <td>  0.00</td>   \n",
       "</tr>\n",
       "<tr>\n",
       "  <th>Time:</th>                 <td>22:12:01</td>     <th>  Log-Likelihood:    </th> <td>-2.1239e+05</td>\n",
       "</tr>\n",
       "<tr>\n",
       "  <th>No. Observations:</th>      <td>301880</td>      <th>  AIC:               </th>  <td>4.248e+05</td> \n",
       "</tr>\n",
       "<tr>\n",
       "  <th>Df Residuals:</th>          <td>301872</td>      <th>  BIC:               </th>  <td>4.249e+05</td> \n",
       "</tr>\n",
       "<tr>\n",
       "  <th>Df Model:</th>              <td>     7</td>      <th>                     </th>      <td> </td>     \n",
       "</tr>\n",
       "<tr>\n",
       "  <th>Covariance Type:</th>      <td>nonrobust</td>    <th>                     </th>      <td> </td>     \n",
       "</tr>\n",
       "</table>\n",
       "<table class=\"simpletable\">\n",
       "<tr>\n",
       "         <td></td>           <th>coef</th>     <th>std err</th>      <th>t</th>      <th>P>|t|</th>  <th>[0.025</th>    <th>0.975]</th>  \n",
       "</tr>\n",
       "<tr>\n",
       "  <th>const</th>          <td>    0.1051</td> <td>    0.001</td> <td>   89.211</td> <td> 0.000</td> <td>    0.103</td> <td>    0.107</td>\n",
       "</tr>\n",
       "<tr>\n",
       "  <th>u_q</th>            <td>   -0.3784</td> <td>    0.002</td> <td> -218.333</td> <td> 0.000</td> <td>   -0.382</td> <td>   -0.375</td>\n",
       "</tr>\n",
       "<tr>\n",
       "  <th>stator_yoke</th>    <td>   -3.2445</td> <td>    0.008</td> <td> -391.133</td> <td> 0.000</td> <td>   -3.261</td> <td>   -3.228</td>\n",
       "</tr>\n",
       "<tr>\n",
       "  <th>stator_tooth</th>   <td>    7.4325</td> <td>    0.018</td> <td>  408.083</td> <td> 0.000</td> <td>    7.397</td> <td>    7.468</td>\n",
       "</tr>\n",
       "<tr>\n",
       "  <th>stator_winding</th> <td>   -3.7853</td> <td>    0.011</td> <td> -332.133</td> <td> 0.000</td> <td>   -3.808</td> <td>   -3.763</td>\n",
       "</tr>\n",
       "<tr>\n",
       "  <th>ambient</th>        <td>    0.2244</td> <td>    0.001</td> <td>  223.664</td> <td> 0.000</td> <td>    0.222</td> <td>    0.226</td>\n",
       "</tr>\n",
       "<tr>\n",
       "  <th>i_d</th>            <td>   -0.0016</td> <td>    0.003</td> <td>   -0.586</td> <td> 0.558</td> <td>   -0.007</td> <td>    0.004</td>\n",
       "</tr>\n",
       "<tr>\n",
       "  <th>motor_speed</th>    <td>    0.1436</td> <td>    0.003</td> <td>   49.621</td> <td> 0.000</td> <td>    0.138</td> <td>    0.149</td>\n",
       "</tr>\n",
       "</table>\n",
       "<table class=\"simpletable\">\n",
       "<tr>\n",
       "  <th>Omnibus:</th>       <td>27598.939</td> <th>  Durbin-Watson:     </th> <td>   1.996</td> \n",
       "</tr>\n",
       "<tr>\n",
       "  <th>Prob(Omnibus):</th>  <td> 0.000</td>   <th>  Jarque-Bera (JB):  </th> <td>66917.620</td>\n",
       "</tr>\n",
       "<tr>\n",
       "  <th>Skew:</th>           <td> 0.553</td>   <th>  Prob(JB):          </th> <td>    0.00</td> \n",
       "</tr>\n",
       "<tr>\n",
       "  <th>Kurtosis:</th>       <td> 5.025</td>   <th>  Cond. No.          </th> <td>    55.4</td> \n",
       "</tr>\n",
       "</table><br/><br/>Warnings:<br/>[1] Standard Errors assume that the covariance matrix of the errors is correctly specified."
      ],
      "text/plain": [
       "<class 'statsmodels.iolib.summary.Summary'>\n",
       "\"\"\"\n",
       "                            OLS Regression Results                            \n",
       "==============================================================================\n",
       "Dep. Variable:                     pm   R-squared:                       0.827\n",
       "Model:                            OLS   Adj. R-squared:                  0.827\n",
       "Method:                 Least Squares   F-statistic:                 2.055e+05\n",
       "Date:                Thu, 05 Dec 2019   Prob (F-statistic):               0.00\n",
       "Time:                        22:12:01   Log-Likelihood:            -2.1239e+05\n",
       "No. Observations:              301880   AIC:                         4.248e+05\n",
       "Df Residuals:                  301872   BIC:                         4.249e+05\n",
       "Df Model:                           7                                         \n",
       "Covariance Type:            nonrobust                                         \n",
       "==================================================================================\n",
       "                     coef    std err          t      P>|t|      [0.025      0.975]\n",
       "----------------------------------------------------------------------------------\n",
       "const              0.1051      0.001     89.211      0.000       0.103       0.107\n",
       "u_q               -0.3784      0.002   -218.333      0.000      -0.382      -0.375\n",
       "stator_yoke       -3.2445      0.008   -391.133      0.000      -3.261      -3.228\n",
       "stator_tooth       7.4325      0.018    408.083      0.000       7.397       7.468\n",
       "stator_winding    -3.7853      0.011   -332.133      0.000      -3.808      -3.763\n",
       "ambient            0.2244      0.001    223.664      0.000       0.222       0.226\n",
       "i_d               -0.0016      0.003     -0.586      0.558      -0.007       0.004\n",
       "motor_speed        0.1436      0.003     49.621      0.000       0.138       0.149\n",
       "==============================================================================\n",
       "Omnibus:                    27598.939   Durbin-Watson:                   1.996\n",
       "Prob(Omnibus):                  0.000   Jarque-Bera (JB):            66917.620\n",
       "Skew:                           0.553   Prob(JB):                         0.00\n",
       "Kurtosis:                       5.025   Cond. No.                         55.4\n",
       "==============================================================================\n",
       "\n",
       "Warnings:\n",
       "[1] Standard Errors assume that the covariance matrix of the errors is correctly specified.\n",
       "\"\"\""
      ]
     },
     "execution_count": 37,
     "metadata": {},
     "output_type": "execute_result"
    }
   ],
   "source": [
    "XTrain = sm.add_constant(XTrain)\n",
    "model = sm.OLS(YTrain,XTrain)\n",
    "modelpred = model.fit()\n",
    "modelpred.summary()"
   ]
  },
  {
   "cell_type": "code",
   "execution_count": 38,
   "metadata": {},
   "outputs": [],
   "source": [
    "XTestc = sm.add_constant(XTest)"
   ]
  },
  {
   "cell_type": "code",
   "execution_count": 39,
   "metadata": {},
   "outputs": [],
   "source": [
    "YPred = modelpred.predict(XTestc)"
   ]
  },
  {
   "cell_type": "code",
   "execution_count": 40,
   "metadata": {
    "scrolled": true
   },
   "outputs": [
    {
     "data": {
      "text/plain": [
       "0.8257778101898593"
      ]
     },
     "execution_count": 40,
     "metadata": {},
     "output_type": "execute_result"
    }
   ],
   "source": [
    "r = r2_score(YTest,YPred) #R squared\n",
    "r2.append(r)\n",
    "r"
   ]
  },
  {
   "cell_type": "code",
   "execution_count": 41,
   "metadata": {},
   "outputs": [],
   "source": [
    "m = np.sqrt(mean_squared_error(YTest,YPred)) #RMSE\n",
    "rmse.append(m)"
   ]
  },
  {
   "cell_type": "markdown",
   "metadata": {},
   "source": [
    "### 6"
   ]
  },
  {
   "cell_type": "code",
   "execution_count": 42,
   "metadata": {},
   "outputs": [],
   "source": [
    "X = dataframe[['stator_yoke','stator_tooth','stator_winding','ambient','i_d','motor_speed']]\n",
    "Y = dataframe['pm']"
   ]
  },
  {
   "cell_type": "code",
   "execution_count": 43,
   "metadata": {},
   "outputs": [],
   "source": [
    "XTrain,XTest,YTrain,YTest=train_test_split(X,Y,train_size=4/5)"
   ]
  },
  {
   "cell_type": "code",
   "execution_count": 44,
   "metadata": {
    "scrolled": true
   },
   "outputs": [
    {
     "name": "stderr",
     "output_type": "stream",
     "text": [
      "/home/greenalien24/anaconda3/lib/python3.7/site-packages/numpy/core/fromnumeric.py:2495: FutureWarning: Method .ptp is deprecated and will be removed in a future version. Use numpy.ptp instead.\n",
      "  return ptp(axis=axis, out=out, **kwargs)\n"
     ]
    },
    {
     "data": {
      "text/html": [
       "<table class=\"simpletable\">\n",
       "<caption>OLS Regression Results</caption>\n",
       "<tr>\n",
       "  <th>Dep. Variable:</th>           <td>pm</td>        <th>  R-squared:         </th>  <td>   0.799</td>  \n",
       "</tr>\n",
       "<tr>\n",
       "  <th>Model:</th>                   <td>OLS</td>       <th>  Adj. R-squared:    </th>  <td>   0.799</td>  \n",
       "</tr>\n",
       "<tr>\n",
       "  <th>Method:</th>             <td>Least Squares</td>  <th>  F-statistic:       </th>  <td>1.996e+05</td> \n",
       "</tr>\n",
       "<tr>\n",
       "  <th>Date:</th>             <td>Thu, 05 Dec 2019</td> <th>  Prob (F-statistic):</th>   <td>  0.00</td>   \n",
       "</tr>\n",
       "<tr>\n",
       "  <th>Time:</th>                 <td>22:12:02</td>     <th>  Log-Likelihood:    </th> <td>-2.3459e+05</td>\n",
       "</tr>\n",
       "<tr>\n",
       "  <th>No. Observations:</th>      <td>301880</td>      <th>  AIC:               </th>  <td>4.692e+05</td> \n",
       "</tr>\n",
       "<tr>\n",
       "  <th>Df Residuals:</th>          <td>301873</td>      <th>  BIC:               </th>  <td>4.693e+05</td> \n",
       "</tr>\n",
       "<tr>\n",
       "  <th>Df Model:</th>              <td>     6</td>      <th>                     </th>      <td> </td>     \n",
       "</tr>\n",
       "<tr>\n",
       "  <th>Covariance Type:</th>      <td>nonrobust</td>    <th>                     </th>      <td> </td>     \n",
       "</tr>\n",
       "</table>\n",
       "<table class=\"simpletable\">\n",
       "<tr>\n",
       "         <td></td>           <th>coef</th>     <th>std err</th>      <th>t</th>      <th>P>|t|</th>  <th>[0.025</th>    <th>0.975]</th>  \n",
       "</tr>\n",
       "<tr>\n",
       "  <th>const</th>          <td>    0.0896</td> <td>    0.001</td> <td>   70.798</td> <td> 0.000</td> <td>    0.087</td> <td>    0.092</td>\n",
       "</tr>\n",
       "<tr>\n",
       "  <th>stator_yoke</th>    <td>   -3.7119</td> <td>    0.009</td> <td> -429.537</td> <td> 0.000</td> <td>   -3.729</td> <td>   -3.695</td>\n",
       "</tr>\n",
       "<tr>\n",
       "  <th>stator_tooth</th>   <td>    8.3455</td> <td>    0.019</td> <td>  435.838</td> <td> 0.000</td> <td>    8.308</td> <td>    8.383</td>\n",
       "</tr>\n",
       "<tr>\n",
       "  <th>stator_winding</th> <td>   -4.2856</td> <td>    0.012</td> <td> -355.156</td> <td> 0.000</td> <td>   -4.309</td> <td>   -4.262</td>\n",
       "</tr>\n",
       "<tr>\n",
       "  <th>ambient</th>        <td>    0.2415</td> <td>    0.001</td> <td>  224.424</td> <td> 0.000</td> <td>    0.239</td> <td>    0.244</td>\n",
       "</tr>\n",
       "<tr>\n",
       "  <th>i_d</th>            <td>   -0.3177</td> <td>    0.003</td> <td> -123.046</td> <td> 0.000</td> <td>   -0.323</td> <td>   -0.313</td>\n",
       "</tr>\n",
       "<tr>\n",
       "  <th>motor_speed</th>    <td>   -0.3195</td> <td>    0.002</td> <td> -150.077</td> <td> 0.000</td> <td>   -0.324</td> <td>   -0.315</td>\n",
       "</tr>\n",
       "</table>\n",
       "<table class=\"simpletable\">\n",
       "<tr>\n",
       "  <th>Omnibus:</th>       <td>24586.332</td> <th>  Durbin-Watson:     </th> <td>   2.000</td> \n",
       "</tr>\n",
       "<tr>\n",
       "  <th>Prob(Omnibus):</th>  <td> 0.000</td>   <th>  Jarque-Bera (JB):  </th> <td>46252.961</td>\n",
       "</tr>\n",
       "<tr>\n",
       "  <th>Skew:</th>           <td> 0.573</td>   <th>  Prob(JB):          </th> <td>    0.00</td> \n",
       "</tr>\n",
       "<tr>\n",
       "  <th>Kurtosis:</th>       <td> 4.538</td>   <th>  Cond. No.          </th> <td>    54.0</td> \n",
       "</tr>\n",
       "</table><br/><br/>Warnings:<br/>[1] Standard Errors assume that the covariance matrix of the errors is correctly specified."
      ],
      "text/plain": [
       "<class 'statsmodels.iolib.summary.Summary'>\n",
       "\"\"\"\n",
       "                            OLS Regression Results                            \n",
       "==============================================================================\n",
       "Dep. Variable:                     pm   R-squared:                       0.799\n",
       "Model:                            OLS   Adj. R-squared:                  0.799\n",
       "Method:                 Least Squares   F-statistic:                 1.996e+05\n",
       "Date:                Thu, 05 Dec 2019   Prob (F-statistic):               0.00\n",
       "Time:                        22:12:02   Log-Likelihood:            -2.3459e+05\n",
       "No. Observations:              301880   AIC:                         4.692e+05\n",
       "Df Residuals:                  301873   BIC:                         4.693e+05\n",
       "Df Model:                           6                                         \n",
       "Covariance Type:            nonrobust                                         \n",
       "==================================================================================\n",
       "                     coef    std err          t      P>|t|      [0.025      0.975]\n",
       "----------------------------------------------------------------------------------\n",
       "const              0.0896      0.001     70.798      0.000       0.087       0.092\n",
       "stator_yoke       -3.7119      0.009   -429.537      0.000      -3.729      -3.695\n",
       "stator_tooth       8.3455      0.019    435.838      0.000       8.308       8.383\n",
       "stator_winding    -4.2856      0.012   -355.156      0.000      -4.309      -4.262\n",
       "ambient            0.2415      0.001    224.424      0.000       0.239       0.244\n",
       "i_d               -0.3177      0.003   -123.046      0.000      -0.323      -0.313\n",
       "motor_speed       -0.3195      0.002   -150.077      0.000      -0.324      -0.315\n",
       "==============================================================================\n",
       "Omnibus:                    24586.332   Durbin-Watson:                   2.000\n",
       "Prob(Omnibus):                  0.000   Jarque-Bera (JB):            46252.961\n",
       "Skew:                           0.573   Prob(JB):                         0.00\n",
       "Kurtosis:                       4.538   Cond. No.                         54.0\n",
       "==============================================================================\n",
       "\n",
       "Warnings:\n",
       "[1] Standard Errors assume that the covariance matrix of the errors is correctly specified.\n",
       "\"\"\""
      ]
     },
     "execution_count": 44,
     "metadata": {},
     "output_type": "execute_result"
    }
   ],
   "source": [
    "XTrain = sm.add_constant(XTrain)\n",
    "model = sm.OLS(YTrain,XTrain)\n",
    "modelpred = model.fit()\n",
    "modelpred.summary()"
   ]
  },
  {
   "cell_type": "code",
   "execution_count": 45,
   "metadata": {},
   "outputs": [],
   "source": [
    "XTestc = sm.add_constant(XTest)"
   ]
  },
  {
   "cell_type": "code",
   "execution_count": 46,
   "metadata": {},
   "outputs": [],
   "source": [
    "YPred = modelpred.predict(XTestc)"
   ]
  },
  {
   "cell_type": "code",
   "execution_count": 47,
   "metadata": {
    "scrolled": true
   },
   "outputs": [
    {
     "data": {
      "text/plain": [
       "0.8001717241519956"
      ]
     },
     "execution_count": 47,
     "metadata": {},
     "output_type": "execute_result"
    }
   ],
   "source": [
    "r = r2_score(YTest,YPred) #R squared\n",
    "r2.append(r)\n",
    "r"
   ]
  },
  {
   "cell_type": "code",
   "execution_count": 48,
   "metadata": {},
   "outputs": [],
   "source": [
    "m = np.sqrt(mean_squared_error(YTest,YPred)) #RMSE\n",
    "rmse.append(m)"
   ]
  },
  {
   "cell_type": "markdown",
   "metadata": {},
   "source": [
    "### 7"
   ]
  },
  {
   "cell_type": "code",
   "execution_count": 49,
   "metadata": {},
   "outputs": [],
   "source": [
    "X = dataframe[['stator_yoke','stator_tooth','stator_winding','ambient','motor_speed']]\n",
    "Y = dataframe['pm']"
   ]
  },
  {
   "cell_type": "code",
   "execution_count": 50,
   "metadata": {},
   "outputs": [],
   "source": [
    "XTrain,XTest,YTrain,YTest=train_test_split(X,Y,train_size=4/5)"
   ]
  },
  {
   "cell_type": "code",
   "execution_count": 51,
   "metadata": {
    "scrolled": true
   },
   "outputs": [
    {
     "name": "stderr",
     "output_type": "stream",
     "text": [
      "/home/greenalien24/anaconda3/lib/python3.7/site-packages/numpy/core/fromnumeric.py:2495: FutureWarning: Method .ptp is deprecated and will be removed in a future version. Use numpy.ptp instead.\n",
      "  return ptp(axis=axis, out=out, **kwargs)\n"
     ]
    },
    {
     "data": {
      "text/html": [
       "<table class=\"simpletable\">\n",
       "<caption>OLS Regression Results</caption>\n",
       "<tr>\n",
       "  <th>Dep. Variable:</th>           <td>pm</td>        <th>  R-squared:         </th>  <td>   0.789</td>  \n",
       "</tr>\n",
       "<tr>\n",
       "  <th>Model:</th>                   <td>OLS</td>       <th>  Adj. R-squared:    </th>  <td>   0.789</td>  \n",
       "</tr>\n",
       "<tr>\n",
       "  <th>Method:</th>             <td>Least Squares</td>  <th>  F-statistic:       </th>  <td>2.256e+05</td> \n",
       "</tr>\n",
       "<tr>\n",
       "  <th>Date:</th>             <td>Thu, 05 Dec 2019</td> <th>  Prob (F-statistic):</th>   <td>  0.00</td>   \n",
       "</tr>\n",
       "<tr>\n",
       "  <th>Time:</th>                 <td>22:12:02</td>     <th>  Log-Likelihood:    </th> <td>-2.4192e+05</td>\n",
       "</tr>\n",
       "<tr>\n",
       "  <th>No. Observations:</th>      <td>301880</td>      <th>  AIC:               </th>  <td>4.839e+05</td> \n",
       "</tr>\n",
       "<tr>\n",
       "  <th>Df Residuals:</th>          <td>301874</td>      <th>  BIC:               </th>  <td>4.839e+05</td> \n",
       "</tr>\n",
       "<tr>\n",
       "  <th>Df Model:</th>              <td>     5</td>      <th>                     </th>      <td> </td>     \n",
       "</tr>\n",
       "<tr>\n",
       "  <th>Covariance Type:</th>      <td>nonrobust</td>    <th>                     </th>      <td> </td>     \n",
       "</tr>\n",
       "</table>\n",
       "<table class=\"simpletable\">\n",
       "<tr>\n",
       "         <td></td>           <th>coef</th>     <th>std err</th>      <th>t</th>      <th>P>|t|</th>  <th>[0.025</th>    <th>0.975]</th>  \n",
       "</tr>\n",
       "<tr>\n",
       "  <th>const</th>          <td>    0.0843</td> <td>    0.001</td> <td>   65.032</td> <td> 0.000</td> <td>    0.082</td> <td>    0.087</td>\n",
       "</tr>\n",
       "<tr>\n",
       "  <th>stator_yoke</th>    <td>   -3.3323</td> <td>    0.008</td> <td> -404.721</td> <td> 0.000</td> <td>   -3.348</td> <td>   -3.316</td>\n",
       "</tr>\n",
       "<tr>\n",
       "  <th>stator_tooth</th>   <td>    7.0483</td> <td>    0.016</td> <td>  433.389</td> <td> 0.000</td> <td>    7.016</td> <td>    7.080</td>\n",
       "</tr>\n",
       "<tr>\n",
       "  <th>stator_winding</th> <td>   -3.2549</td> <td>    0.009</td> <td> -368.347</td> <td> 0.000</td> <td>   -3.272</td> <td>   -3.238</td>\n",
       "</tr>\n",
       "<tr>\n",
       "  <th>ambient</th>        <td>    0.2540</td> <td>    0.001</td> <td>  231.479</td> <td> 0.000</td> <td>    0.252</td> <td>    0.256</td>\n",
       "</tr>\n",
       "<tr>\n",
       "  <th>motor_speed</th>    <td>   -0.1247</td> <td>    0.001</td> <td>  -87.389</td> <td> 0.000</td> <td>   -0.128</td> <td>   -0.122</td>\n",
       "</tr>\n",
       "</table>\n",
       "<table class=\"simpletable\">\n",
       "<tr>\n",
       "  <th>Omnibus:</th>       <td>19911.916</td> <th>  Durbin-Watson:     </th> <td>   2.003</td> \n",
       "</tr>\n",
       "<tr>\n",
       "  <th>Prob(Omnibus):</th>  <td> 0.000</td>   <th>  Jarque-Bera (JB):  </th> <td>46154.484</td>\n",
       "</tr>\n",
       "<tr>\n",
       "  <th>Skew:</th>           <td> 0.420</td>   <th>  Prob(JB):          </th> <td>    0.00</td> \n",
       "</tr>\n",
       "<tr>\n",
       "  <th>Kurtosis:</th>       <td> 4.722</td>   <th>  Cond. No.          </th> <td>    42.5</td> \n",
       "</tr>\n",
       "</table><br/><br/>Warnings:<br/>[1] Standard Errors assume that the covariance matrix of the errors is correctly specified."
      ],
      "text/plain": [
       "<class 'statsmodels.iolib.summary.Summary'>\n",
       "\"\"\"\n",
       "                            OLS Regression Results                            \n",
       "==============================================================================\n",
       "Dep. Variable:                     pm   R-squared:                       0.789\n",
       "Model:                            OLS   Adj. R-squared:                  0.789\n",
       "Method:                 Least Squares   F-statistic:                 2.256e+05\n",
       "Date:                Thu, 05 Dec 2019   Prob (F-statistic):               0.00\n",
       "Time:                        22:12:02   Log-Likelihood:            -2.4192e+05\n",
       "No. Observations:              301880   AIC:                         4.839e+05\n",
       "Df Residuals:                  301874   BIC:                         4.839e+05\n",
       "Df Model:                           5                                         \n",
       "Covariance Type:            nonrobust                                         \n",
       "==================================================================================\n",
       "                     coef    std err          t      P>|t|      [0.025      0.975]\n",
       "----------------------------------------------------------------------------------\n",
       "const              0.0843      0.001     65.032      0.000       0.082       0.087\n",
       "stator_yoke       -3.3323      0.008   -404.721      0.000      -3.348      -3.316\n",
       "stator_tooth       7.0483      0.016    433.389      0.000       7.016       7.080\n",
       "stator_winding    -3.2549      0.009   -368.347      0.000      -3.272      -3.238\n",
       "ambient            0.2540      0.001    231.479      0.000       0.252       0.256\n",
       "motor_speed       -0.1247      0.001    -87.389      0.000      -0.128      -0.122\n",
       "==============================================================================\n",
       "Omnibus:                    19911.916   Durbin-Watson:                   2.003\n",
       "Prob(Omnibus):                  0.000   Jarque-Bera (JB):            46154.484\n",
       "Skew:                           0.420   Prob(JB):                         0.00\n",
       "Kurtosis:                       4.722   Cond. No.                         42.5\n",
       "==============================================================================\n",
       "\n",
       "Warnings:\n",
       "[1] Standard Errors assume that the covariance matrix of the errors is correctly specified.\n",
       "\"\"\""
      ]
     },
     "execution_count": 51,
     "metadata": {},
     "output_type": "execute_result"
    }
   ],
   "source": [
    "XTrain = sm.add_constant(XTrain)\n",
    "model = sm.OLS(YTrain,XTrain)\n",
    "modelpred = model.fit()\n",
    "modelpred.summary()"
   ]
  },
  {
   "cell_type": "code",
   "execution_count": 52,
   "metadata": {},
   "outputs": [],
   "source": [
    "XTestc = sm.add_constant(XTest)"
   ]
  },
  {
   "cell_type": "code",
   "execution_count": 53,
   "metadata": {},
   "outputs": [],
   "source": [
    "YPred = modelpred.predict(XTestc)"
   ]
  },
  {
   "cell_type": "code",
   "execution_count": 54,
   "metadata": {
    "scrolled": true
   },
   "outputs": [
    {
     "data": {
      "text/plain": [
       "0.7894025422599233"
      ]
     },
     "execution_count": 54,
     "metadata": {},
     "output_type": "execute_result"
    }
   ],
   "source": [
    "r = r2_score(YTest,YPred) #R squared\n",
    "r2.append(r)\n",
    "r"
   ]
  },
  {
   "cell_type": "code",
   "execution_count": 55,
   "metadata": {},
   "outputs": [],
   "source": [
    "m = np.sqrt(mean_squared_error(YTest,YPred)) #RMSE\n",
    "rmse.append(m)"
   ]
  },
  {
   "cell_type": "markdown",
   "metadata": {},
   "source": [
    "### 8"
   ]
  },
  {
   "cell_type": "code",
   "execution_count": 56,
   "metadata": {},
   "outputs": [],
   "source": [
    "X = dataframe[['stator_yoke','stator_tooth','stator_winding','motor_speed']]\n",
    "Y = dataframe['pm']"
   ]
  },
  {
   "cell_type": "code",
   "execution_count": 57,
   "metadata": {},
   "outputs": [],
   "source": [
    "XTrain,XTest,YTrain,YTest=train_test_split(X,Y,train_size=4/5)"
   ]
  },
  {
   "cell_type": "code",
   "execution_count": 58,
   "metadata": {
    "scrolled": true
   },
   "outputs": [
    {
     "name": "stderr",
     "output_type": "stream",
     "text": [
      "/home/greenalien24/anaconda3/lib/python3.7/site-packages/numpy/core/fromnumeric.py:2495: FutureWarning: Method .ptp is deprecated and will be removed in a future version. Use numpy.ptp instead.\n",
      "  return ptp(axis=axis, out=out, **kwargs)\n"
     ]
    },
    {
     "data": {
      "text/html": [
       "<table class=\"simpletable\">\n",
       "<caption>OLS Regression Results</caption>\n",
       "<tr>\n",
       "  <th>Dep. Variable:</th>           <td>pm</td>        <th>  R-squared:         </th>  <td>   0.752</td>  \n",
       "</tr>\n",
       "<tr>\n",
       "  <th>Model:</th>                   <td>OLS</td>       <th>  Adj. R-squared:    </th>  <td>   0.752</td>  \n",
       "</tr>\n",
       "<tr>\n",
       "  <th>Method:</th>             <td>Least Squares</td>  <th>  F-statistic:       </th>  <td>2.286e+05</td> \n",
       "</tr>\n",
       "<tr>\n",
       "  <th>Date:</th>             <td>Thu, 05 Dec 2019</td> <th>  Prob (F-statistic):</th>   <td>  0.00</td>   \n",
       "</tr>\n",
       "<tr>\n",
       "  <th>Time:</th>                 <td>22:12:04</td>     <th>  Log-Likelihood:    </th> <td>-2.6639e+05</td>\n",
       "</tr>\n",
       "<tr>\n",
       "  <th>No. Observations:</th>      <td>301880</td>      <th>  AIC:               </th>  <td>5.328e+05</td> \n",
       "</tr>\n",
       "<tr>\n",
       "  <th>Df Residuals:</th>          <td>301875</td>      <th>  BIC:               </th>  <td>5.328e+05</td> \n",
       "</tr>\n",
       "<tr>\n",
       "  <th>Df Model:</th>              <td>     4</td>      <th>                     </th>      <td> </td>     \n",
       "</tr>\n",
       "<tr>\n",
       "  <th>Covariance Type:</th>      <td>nonrobust</td>    <th>                     </th>      <td> </td>     \n",
       "</tr>\n",
       "</table>\n",
       "<table class=\"simpletable\">\n",
       "<tr>\n",
       "         <td></td>           <th>coef</th>     <th>std err</th>      <th>t</th>      <th>P>|t|</th>  <th>[0.025</th>    <th>0.975]</th>  \n",
       "</tr>\n",
       "<tr>\n",
       "  <th>const</th>          <td>   -0.0440</td> <td>    0.001</td> <td>  -34.542</td> <td> 0.000</td> <td>   -0.046</td> <td>   -0.042</td>\n",
       "</tr>\n",
       "<tr>\n",
       "  <th>stator_yoke</th>    <td>   -3.5519</td> <td>    0.009</td> <td> -400.974</td> <td> 0.000</td> <td>   -3.569</td> <td>   -3.535</td>\n",
       "</tr>\n",
       "<tr>\n",
       "  <th>stator_tooth</th>   <td>    7.9068</td> <td>    0.017</td> <td>  461.683</td> <td> 0.000</td> <td>    7.873</td> <td>    7.940</td>\n",
       "</tr>\n",
       "<tr>\n",
       "  <th>stator_winding</th> <td>   -3.8291</td> <td>    0.009</td> <td> -417.754</td> <td> 0.000</td> <td>   -3.847</td> <td>   -3.811</td>\n",
       "</tr>\n",
       "<tr>\n",
       "  <th>motor_speed</th>    <td>   -0.1219</td> <td>    0.002</td> <td>  -78.726</td> <td> 0.000</td> <td>   -0.125</td> <td>   -0.119</td>\n",
       "</tr>\n",
       "</table>\n",
       "<table class=\"simpletable\">\n",
       "<tr>\n",
       "  <th>Omnibus:</th>       <td>21604.962</td> <th>  Durbin-Watson:     </th> <td>   1.998</td> \n",
       "</tr>\n",
       "<tr>\n",
       "  <th>Prob(Omnibus):</th>  <td> 0.000</td>   <th>  Jarque-Bera (JB):  </th> <td>69662.380</td>\n",
       "</tr>\n",
       "<tr>\n",
       "  <th>Skew:</th>           <td> 0.348</td>   <th>  Prob(JB):          </th> <td>    0.00</td> \n",
       "</tr>\n",
       "<tr>\n",
       "  <th>Kurtosis:</th>       <td> 5.248</td>   <th>  Cond. No.          </th> <td>    39.0</td> \n",
       "</tr>\n",
       "</table><br/><br/>Warnings:<br/>[1] Standard Errors assume that the covariance matrix of the errors is correctly specified."
      ],
      "text/plain": [
       "<class 'statsmodels.iolib.summary.Summary'>\n",
       "\"\"\"\n",
       "                            OLS Regression Results                            \n",
       "==============================================================================\n",
       "Dep. Variable:                     pm   R-squared:                       0.752\n",
       "Model:                            OLS   Adj. R-squared:                  0.752\n",
       "Method:                 Least Squares   F-statistic:                 2.286e+05\n",
       "Date:                Thu, 05 Dec 2019   Prob (F-statistic):               0.00\n",
       "Time:                        22:12:04   Log-Likelihood:            -2.6639e+05\n",
       "No. Observations:              301880   AIC:                         5.328e+05\n",
       "Df Residuals:                  301875   BIC:                         5.328e+05\n",
       "Df Model:                           4                                         \n",
       "Covariance Type:            nonrobust                                         \n",
       "==================================================================================\n",
       "                     coef    std err          t      P>|t|      [0.025      0.975]\n",
       "----------------------------------------------------------------------------------\n",
       "const             -0.0440      0.001    -34.542      0.000      -0.046      -0.042\n",
       "stator_yoke       -3.5519      0.009   -400.974      0.000      -3.569      -3.535\n",
       "stator_tooth       7.9068      0.017    461.683      0.000       7.873       7.940\n",
       "stator_winding    -3.8291      0.009   -417.754      0.000      -3.847      -3.811\n",
       "motor_speed       -0.1219      0.002    -78.726      0.000      -0.125      -0.119\n",
       "==============================================================================\n",
       "Omnibus:                    21604.962   Durbin-Watson:                   1.998\n",
       "Prob(Omnibus):                  0.000   Jarque-Bera (JB):            69662.380\n",
       "Skew:                           0.348   Prob(JB):                         0.00\n",
       "Kurtosis:                       5.248   Cond. No.                         39.0\n",
       "==============================================================================\n",
       "\n",
       "Warnings:\n",
       "[1] Standard Errors assume that the covariance matrix of the errors is correctly specified.\n",
       "\"\"\""
      ]
     },
     "execution_count": 58,
     "metadata": {},
     "output_type": "execute_result"
    }
   ],
   "source": [
    "XTrain = sm.add_constant(XTrain)\n",
    "model = sm.OLS(YTrain,XTrain)\n",
    "modelpred = model.fit()\n",
    "modelpred.summary()"
   ]
  },
  {
   "cell_type": "code",
   "execution_count": 59,
   "metadata": {},
   "outputs": [],
   "source": [
    "XTestc = sm.add_constant(XTest)"
   ]
  },
  {
   "cell_type": "code",
   "execution_count": 60,
   "metadata": {},
   "outputs": [],
   "source": [
    "YPred = modelpred.predict(XTestc)"
   ]
  },
  {
   "cell_type": "code",
   "execution_count": 61,
   "metadata": {
    "scrolled": true
   },
   "outputs": [
    {
     "data": {
      "text/plain": [
       "0.7477875020204336"
      ]
     },
     "execution_count": 61,
     "metadata": {},
     "output_type": "execute_result"
    }
   ],
   "source": [
    "r = r2_score(YTest,YPred) #R squared\n",
    "r2.append(r)\n",
    "r"
   ]
  },
  {
   "cell_type": "code",
   "execution_count": 62,
   "metadata": {},
   "outputs": [],
   "source": [
    "m = np.sqrt(mean_squared_error(YTest,YPred)) #RMSE\n",
    "rmse.append(m)"
   ]
  },
  {
   "cell_type": "markdown",
   "metadata": {},
   "source": [
    "### 9"
   ]
  },
  {
   "cell_type": "code",
   "execution_count": 63,
   "metadata": {},
   "outputs": [],
   "source": [
    "X = dataframe[['stator_yoke','stator_tooth','stator_winding']]\n",
    "Y = dataframe['pm']"
   ]
  },
  {
   "cell_type": "code",
   "execution_count": 64,
   "metadata": {},
   "outputs": [],
   "source": [
    "XTrain,XTest,YTrain,YTest=train_test_split(X,Y,train_size=4/5)"
   ]
  },
  {
   "cell_type": "code",
   "execution_count": 65,
   "metadata": {
    "scrolled": true
   },
   "outputs": [
    {
     "name": "stderr",
     "output_type": "stream",
     "text": [
      "/home/greenalien24/anaconda3/lib/python3.7/site-packages/numpy/core/fromnumeric.py:2495: FutureWarning: Method .ptp is deprecated and will be removed in a future version. Use numpy.ptp instead.\n",
      "  return ptp(axis=axis, out=out, **kwargs)\n"
     ]
    },
    {
     "data": {
      "text/html": [
       "<table class=\"simpletable\">\n",
       "<caption>OLS Regression Results</caption>\n",
       "<tr>\n",
       "  <th>Dep. Variable:</th>           <td>pm</td>        <th>  R-squared:         </th>  <td>   0.745</td>  \n",
       "</tr>\n",
       "<tr>\n",
       "  <th>Model:</th>                   <td>OLS</td>       <th>  Adj. R-squared:    </th>  <td>   0.745</td>  \n",
       "</tr>\n",
       "<tr>\n",
       "  <th>Method:</th>             <td>Least Squares</td>  <th>  F-statistic:       </th>  <td>2.947e+05</td> \n",
       "</tr>\n",
       "<tr>\n",
       "  <th>Date:</th>             <td>Thu, 05 Dec 2019</td> <th>  Prob (F-statistic):</th>   <td>  0.00</td>   \n",
       "</tr>\n",
       "<tr>\n",
       "  <th>Time:</th>                 <td>22:12:04</td>     <th>  Log-Likelihood:    </th> <td>-2.6997e+05</td>\n",
       "</tr>\n",
       "<tr>\n",
       "  <th>No. Observations:</th>      <td>301880</td>      <th>  AIC:               </th>  <td>5.400e+05</td> \n",
       "</tr>\n",
       "<tr>\n",
       "  <th>Df Residuals:</th>          <td>301876</td>      <th>  BIC:               </th>  <td>5.400e+05</td> \n",
       "</tr>\n",
       "<tr>\n",
       "  <th>Df Model:</th>              <td>     3</td>      <th>                     </th>      <td> </td>     \n",
       "</tr>\n",
       "<tr>\n",
       "  <th>Covariance Type:</th>      <td>nonrobust</td>    <th>                     </th>      <td> </td>     \n",
       "</tr>\n",
       "</table>\n",
       "<table class=\"simpletable\">\n",
       "<tr>\n",
       "         <td></td>           <th>coef</th>     <th>std err</th>      <th>t</th>      <th>P>|t|</th>  <th>[0.025</th>    <th>0.975]</th>  \n",
       "</tr>\n",
       "<tr>\n",
       "  <th>const</th>          <td>   -0.0485</td> <td>    0.001</td> <td>  -37.699</td> <td> 0.000</td> <td>   -0.051</td> <td>   -0.046</td>\n",
       "</tr>\n",
       "<tr>\n",
       "  <th>stator_yoke</th>    <td>   -3.1217</td> <td>    0.007</td> <td> -435.690</td> <td> 0.000</td> <td>   -3.136</td> <td>   -3.108</td>\n",
       "</tr>\n",
       "<tr>\n",
       "  <th>stator_tooth</th>   <td>    7.0982</td> <td>    0.014</td> <td>  503.427</td> <td> 0.000</td> <td>    7.071</td> <td>    7.126</td>\n",
       "</tr>\n",
       "<tr>\n",
       "  <th>stator_winding</th> <td>   -3.4588</td> <td>    0.008</td> <td> -428.633</td> <td> 0.000</td> <td>   -3.475</td> <td>   -3.443</td>\n",
       "</tr>\n",
       "</table>\n",
       "<table class=\"simpletable\">\n",
       "<tr>\n",
       "  <th>Omnibus:</th>       <td>28825.826</td> <th>  Durbin-Watson:     </th> <td>   1.999</td> \n",
       "</tr>\n",
       "<tr>\n",
       "  <th>Prob(Omnibus):</th>  <td> 0.000</td>   <th>  Jarque-Bera (JB):  </th> <td>73844.603</td>\n",
       "</tr>\n",
       "<tr>\n",
       "  <th>Skew:</th>           <td> 0.559</td>   <th>  Prob(JB):          </th> <td>    0.00</td> \n",
       "</tr>\n",
       "<tr>\n",
       "  <th>Kurtosis:</th>       <td> 5.150</td>   <th>  Cond. No.          </th> <td>    31.1</td> \n",
       "</tr>\n",
       "</table><br/><br/>Warnings:<br/>[1] Standard Errors assume that the covariance matrix of the errors is correctly specified."
      ],
      "text/plain": [
       "<class 'statsmodels.iolib.summary.Summary'>\n",
       "\"\"\"\n",
       "                            OLS Regression Results                            \n",
       "==============================================================================\n",
       "Dep. Variable:                     pm   R-squared:                       0.745\n",
       "Model:                            OLS   Adj. R-squared:                  0.745\n",
       "Method:                 Least Squares   F-statistic:                 2.947e+05\n",
       "Date:                Thu, 05 Dec 2019   Prob (F-statistic):               0.00\n",
       "Time:                        22:12:04   Log-Likelihood:            -2.6997e+05\n",
       "No. Observations:              301880   AIC:                         5.400e+05\n",
       "Df Residuals:                  301876   BIC:                         5.400e+05\n",
       "Df Model:                           3                                         \n",
       "Covariance Type:            nonrobust                                         \n",
       "==================================================================================\n",
       "                     coef    std err          t      P>|t|      [0.025      0.975]\n",
       "----------------------------------------------------------------------------------\n",
       "const             -0.0485      0.001    -37.699      0.000      -0.051      -0.046\n",
       "stator_yoke       -3.1217      0.007   -435.690      0.000      -3.136      -3.108\n",
       "stator_tooth       7.0982      0.014    503.427      0.000       7.071       7.126\n",
       "stator_winding    -3.4588      0.008   -428.633      0.000      -3.475      -3.443\n",
       "==============================================================================\n",
       "Omnibus:                    28825.826   Durbin-Watson:                   1.999\n",
       "Prob(Omnibus):                  0.000   Jarque-Bera (JB):            73844.603\n",
       "Skew:                           0.559   Prob(JB):                         0.00\n",
       "Kurtosis:                       5.150   Cond. No.                         31.1\n",
       "==============================================================================\n",
       "\n",
       "Warnings:\n",
       "[1] Standard Errors assume that the covariance matrix of the errors is correctly specified.\n",
       "\"\"\""
      ]
     },
     "execution_count": 65,
     "metadata": {},
     "output_type": "execute_result"
    }
   ],
   "source": [
    "XTrain = sm.add_constant(XTrain)\n",
    "model = sm.OLS(YTrain,XTrain)\n",
    "modelpred = model.fit()\n",
    "modelpred.summary()"
   ]
  },
  {
   "cell_type": "code",
   "execution_count": 66,
   "metadata": {},
   "outputs": [],
   "source": [
    "XTestc = sm.add_constant(XTest)"
   ]
  },
  {
   "cell_type": "code",
   "execution_count": 67,
   "metadata": {},
   "outputs": [],
   "source": [
    "YPred = modelpred.predict(XTestc)"
   ]
  },
  {
   "cell_type": "code",
   "execution_count": 68,
   "metadata": {
    "scrolled": true
   },
   "outputs": [
    {
     "data": {
      "text/plain": [
       "0.7467004663928649"
      ]
     },
     "execution_count": 68,
     "metadata": {},
     "output_type": "execute_result"
    }
   ],
   "source": [
    "r = r2_score(YTest,YPred) #R squared\n",
    "r2.append(r)\n",
    "r"
   ]
  },
  {
   "cell_type": "code",
   "execution_count": 69,
   "metadata": {},
   "outputs": [],
   "source": [
    "m = np.sqrt(mean_squared_error(YTest,YPred)) #RMSE\n",
    "rmse.append(m)"
   ]
  },
  {
   "cell_type": "markdown",
   "metadata": {},
   "source": [
    "### 10"
   ]
  },
  {
   "cell_type": "code",
   "execution_count": 70,
   "metadata": {},
   "outputs": [],
   "source": [
    "X = dataframe[['stator_tooth','stator_winding']]\n",
    "Y = dataframe['pm']"
   ]
  },
  {
   "cell_type": "code",
   "execution_count": 71,
   "metadata": {},
   "outputs": [],
   "source": [
    "XTrain,XTest,YTrain,YTest=train_test_split(X,Y,train_size=4/5)"
   ]
  },
  {
   "cell_type": "code",
   "execution_count": 72,
   "metadata": {
    "scrolled": true
   },
   "outputs": [
    {
     "name": "stderr",
     "output_type": "stream",
     "text": [
      "/home/greenalien24/anaconda3/lib/python3.7/site-packages/numpy/core/fromnumeric.py:2495: FutureWarning: Method .ptp is deprecated and will be removed in a future version. Use numpy.ptp instead.\n",
      "  return ptp(axis=axis, out=out, **kwargs)\n"
     ]
    },
    {
     "data": {
      "text/html": [
       "<table class=\"simpletable\">\n",
       "<caption>OLS Regression Results</caption>\n",
       "<tr>\n",
       "  <th>Dep. Variable:</th>           <td>pm</td>        <th>  R-squared:         </th>  <td>   0.586</td>  \n",
       "</tr>\n",
       "<tr>\n",
       "  <th>Model:</th>                   <td>OLS</td>       <th>  Adj. R-squared:    </th>  <td>   0.586</td>  \n",
       "</tr>\n",
       "<tr>\n",
       "  <th>Method:</th>             <td>Least Squares</td>  <th>  F-statistic:       </th>  <td>2.136e+05</td> \n",
       "</tr>\n",
       "<tr>\n",
       "  <th>Date:</th>             <td>Thu, 05 Dec 2019</td> <th>  Prob (F-statistic):</th>   <td>  0.00</td>   \n",
       "</tr>\n",
       "<tr>\n",
       "  <th>Time:</th>                 <td>22:12:05</td>     <th>  Log-Likelihood:    </th> <td>-3.4363e+05</td>\n",
       "</tr>\n",
       "<tr>\n",
       "  <th>No. Observations:</th>      <td>301880</td>      <th>  AIC:               </th>  <td>6.873e+05</td> \n",
       "</tr>\n",
       "<tr>\n",
       "  <th>Df Residuals:</th>          <td>301877</td>      <th>  BIC:               </th>  <td>6.873e+05</td> \n",
       "</tr>\n",
       "<tr>\n",
       "  <th>Df Model:</th>              <td>     2</td>      <th>                     </th>      <td> </td>     \n",
       "</tr>\n",
       "<tr>\n",
       "  <th>Covariance Type:</th>      <td>nonrobust</td>    <th>                     </th>      <td> </td>     \n",
       "</tr>\n",
       "</table>\n",
       "<table class=\"simpletable\">\n",
       "<tr>\n",
       "         <td></td>           <th>coef</th>     <th>std err</th>      <th>t</th>      <th>P>|t|</th>  <th>[0.025</th>    <th>0.975]</th>  \n",
       "</tr>\n",
       "<tr>\n",
       "  <th>const</th>          <td>    0.0991</td> <td>    0.002</td> <td>   62.626</td> <td> 0.000</td> <td>    0.096</td> <td>    0.102</td>\n",
       "</tr>\n",
       "<tr>\n",
       "  <th>stator_tooth</th>   <td>    1.2152</td> <td>    0.005</td> <td>  234.304</td> <td> 0.000</td> <td>    1.205</td> <td>    1.225</td>\n",
       "</tr>\n",
       "<tr>\n",
       "  <th>stator_winding</th> <td>   -0.3490</td> <td>    0.005</td> <td>  -72.547</td> <td> 0.000</td> <td>   -0.358</td> <td>   -0.340</td>\n",
       "</tr>\n",
       "</table>\n",
       "<table class=\"simpletable\">\n",
       "<tr>\n",
       "  <th>Omnibus:</th>       <td>4903.442</td> <th>  Durbin-Watson:     </th> <td>   2.007</td>\n",
       "</tr>\n",
       "<tr>\n",
       "  <th>Prob(Omnibus):</th>  <td> 0.000</td>  <th>  Jarque-Bera (JB):  </th> <td>9671.757</td>\n",
       "</tr>\n",
       "<tr>\n",
       "  <th>Skew:</th>           <td> 0.045</td>  <th>  Prob(JB):          </th> <td>    0.00</td>\n",
       "</tr>\n",
       "<tr>\n",
       "  <th>Kurtosis:</th>       <td> 3.872</td>  <th>  Cond. No.          </th> <td>    8.35</td>\n",
       "</tr>\n",
       "</table><br/><br/>Warnings:<br/>[1] Standard Errors assume that the covariance matrix of the errors is correctly specified."
      ],
      "text/plain": [
       "<class 'statsmodels.iolib.summary.Summary'>\n",
       "\"\"\"\n",
       "                            OLS Regression Results                            \n",
       "==============================================================================\n",
       "Dep. Variable:                     pm   R-squared:                       0.586\n",
       "Model:                            OLS   Adj. R-squared:                  0.586\n",
       "Method:                 Least Squares   F-statistic:                 2.136e+05\n",
       "Date:                Thu, 05 Dec 2019   Prob (F-statistic):               0.00\n",
       "Time:                        22:12:05   Log-Likelihood:            -3.4363e+05\n",
       "No. Observations:              301880   AIC:                         6.873e+05\n",
       "Df Residuals:                  301877   BIC:                         6.873e+05\n",
       "Df Model:                           2                                         \n",
       "Covariance Type:            nonrobust                                         \n",
       "==================================================================================\n",
       "                     coef    std err          t      P>|t|      [0.025      0.975]\n",
       "----------------------------------------------------------------------------------\n",
       "const              0.0991      0.002     62.626      0.000       0.096       0.102\n",
       "stator_tooth       1.2152      0.005    234.304      0.000       1.205       1.225\n",
       "stator_winding    -0.3490      0.005    -72.547      0.000      -0.358      -0.340\n",
       "==============================================================================\n",
       "Omnibus:                     4903.442   Durbin-Watson:                   2.007\n",
       "Prob(Omnibus):                  0.000   Jarque-Bera (JB):             9671.757\n",
       "Skew:                           0.045   Prob(JB):                         0.00\n",
       "Kurtosis:                       3.872   Cond. No.                         8.35\n",
       "==============================================================================\n",
       "\n",
       "Warnings:\n",
       "[1] Standard Errors assume that the covariance matrix of the errors is correctly specified.\n",
       "\"\"\""
      ]
     },
     "execution_count": 72,
     "metadata": {},
     "output_type": "execute_result"
    }
   ],
   "source": [
    "XTrain = sm.add_constant(XTrain)\n",
    "model = sm.OLS(YTrain,XTrain)\n",
    "modelpred = model.fit()\n",
    "modelpred.summary()"
   ]
  },
  {
   "cell_type": "code",
   "execution_count": 73,
   "metadata": {},
   "outputs": [],
   "source": [
    "XTestc = sm.add_constant(XTest)"
   ]
  },
  {
   "cell_type": "code",
   "execution_count": 74,
   "metadata": {},
   "outputs": [],
   "source": [
    "YPred = modelpred.predict(XTestc)"
   ]
  },
  {
   "cell_type": "code",
   "execution_count": 75,
   "metadata": {
    "scrolled": true
   },
   "outputs": [
    {
     "data": {
      "text/plain": [
       "0.580713181996898"
      ]
     },
     "execution_count": 75,
     "metadata": {},
     "output_type": "execute_result"
    }
   ],
   "source": [
    "r = r2_score(YTest,YPred) #R squared\n",
    "r2.append(r)\n",
    "r"
   ]
  },
  {
   "cell_type": "code",
   "execution_count": 76,
   "metadata": {},
   "outputs": [],
   "source": [
    "m = np.sqrt(mean_squared_error(YTest,YPred)) #RMSE\n",
    "rmse.append(m)"
   ]
  },
  {
   "cell_type": "markdown",
   "metadata": {},
   "source": [
    "### 11"
   ]
  },
  {
   "cell_type": "code",
   "execution_count": 77,
   "metadata": {},
   "outputs": [],
   "source": [
    "X = dataframe[['stator_tooth']]\n",
    "Y = dataframe['pm']"
   ]
  },
  {
   "cell_type": "code",
   "execution_count": 78,
   "metadata": {},
   "outputs": [],
   "source": [
    "XTrain,XTest,YTrain,YTest=train_test_split(X,Y,train_size=4/5)"
   ]
  },
  {
   "cell_type": "code",
   "execution_count": 79,
   "metadata": {
    "scrolled": true
   },
   "outputs": [
    {
     "name": "stderr",
     "output_type": "stream",
     "text": [
      "/home/greenalien24/anaconda3/lib/python3.7/site-packages/numpy/core/fromnumeric.py:2495: FutureWarning: Method .ptp is deprecated and will be removed in a future version. Use numpy.ptp instead.\n",
      "  return ptp(axis=axis, out=out, **kwargs)\n"
     ]
    },
    {
     "data": {
      "text/html": [
       "<table class=\"simpletable\">\n",
       "<caption>OLS Regression Results</caption>\n",
       "<tr>\n",
       "  <th>Dep. Variable:</th>           <td>pm</td>        <th>  R-squared:         </th>  <td>   0.577</td>  \n",
       "</tr>\n",
       "<tr>\n",
       "  <th>Model:</th>                   <td>OLS</td>       <th>  Adj. R-squared:    </th>  <td>   0.577</td>  \n",
       "</tr>\n",
       "<tr>\n",
       "  <th>Method:</th>             <td>Least Squares</td>  <th>  F-statistic:       </th>  <td>4.123e+05</td> \n",
       "</tr>\n",
       "<tr>\n",
       "  <th>Date:</th>             <td>Thu, 05 Dec 2019</td> <th>  Prob (F-statistic):</th>   <td>  0.00</td>   \n",
       "</tr>\n",
       "<tr>\n",
       "  <th>Time:</th>                 <td>22:12:06</td>     <th>  Log-Likelihood:    </th> <td>-3.4653e+05</td>\n",
       "</tr>\n",
       "<tr>\n",
       "  <th>No. Observations:</th>      <td>301880</td>      <th>  AIC:               </th>  <td>6.931e+05</td> \n",
       "</tr>\n",
       "<tr>\n",
       "  <th>Df Residuals:</th>          <td>301878</td>      <th>  BIC:               </th>  <td>6.931e+05</td> \n",
       "</tr>\n",
       "<tr>\n",
       "  <th>Df Model:</th>              <td>     1</td>      <th>                     </th>      <td> </td>     \n",
       "</tr>\n",
       "<tr>\n",
       "  <th>Covariance Type:</th>      <td>nonrobust</td>    <th>                     </th>      <td> </td>     \n",
       "</tr>\n",
       "</table>\n",
       "<table class=\"simpletable\">\n",
       "<tr>\n",
       "        <td></td>          <th>coef</th>     <th>std err</th>      <th>t</th>      <th>P>|t|</th>  <th>[0.025</th>    <th>0.975]</th>  \n",
       "</tr>\n",
       "<tr>\n",
       "  <th>const</th>        <td>    0.0535</td> <td>    0.001</td> <td>   36.385</td> <td> 0.000</td> <td>    0.051</td> <td>    0.056</td>\n",
       "</tr>\n",
       "<tr>\n",
       "  <th>stator_tooth</th> <td>    0.8502</td> <td>    0.001</td> <td>  642.128</td> <td> 0.000</td> <td>    0.848</td> <td>    0.853</td>\n",
       "</tr>\n",
       "</table>\n",
       "<table class=\"simpletable\">\n",
       "<tr>\n",
       "  <th>Omnibus:</th>       <td>9342.669</td> <th>  Durbin-Watson:     </th> <td>   2.004</td> \n",
       "</tr>\n",
       "<tr>\n",
       "  <th>Prob(Omnibus):</th>  <td> 0.000</td>  <th>  Jarque-Bera (JB):  </th> <td>22398.477</td>\n",
       "</tr>\n",
       "<tr>\n",
       "  <th>Skew:</th>           <td>-0.143</td>  <th>  Prob(JB):          </th> <td>    0.00</td> \n",
       "</tr>\n",
       "<tr>\n",
       "  <th>Kurtosis:</th>       <td> 4.303</td>  <th>  Cond. No.          </th> <td>    1.44</td> \n",
       "</tr>\n",
       "</table><br/><br/>Warnings:<br/>[1] Standard Errors assume that the covariance matrix of the errors is correctly specified."
      ],
      "text/plain": [
       "<class 'statsmodels.iolib.summary.Summary'>\n",
       "\"\"\"\n",
       "                            OLS Regression Results                            \n",
       "==============================================================================\n",
       "Dep. Variable:                     pm   R-squared:                       0.577\n",
       "Model:                            OLS   Adj. R-squared:                  0.577\n",
       "Method:                 Least Squares   F-statistic:                 4.123e+05\n",
       "Date:                Thu, 05 Dec 2019   Prob (F-statistic):               0.00\n",
       "Time:                        22:12:06   Log-Likelihood:            -3.4653e+05\n",
       "No. Observations:              301880   AIC:                         6.931e+05\n",
       "Df Residuals:                  301878   BIC:                         6.931e+05\n",
       "Df Model:                           1                                         \n",
       "Covariance Type:            nonrobust                                         \n",
       "================================================================================\n",
       "                   coef    std err          t      P>|t|      [0.025      0.975]\n",
       "--------------------------------------------------------------------------------\n",
       "const            0.0535      0.001     36.385      0.000       0.051       0.056\n",
       "stator_tooth     0.8502      0.001    642.128      0.000       0.848       0.853\n",
       "==============================================================================\n",
       "Omnibus:                     9342.669   Durbin-Watson:                   2.004\n",
       "Prob(Omnibus):                  0.000   Jarque-Bera (JB):            22398.477\n",
       "Skew:                          -0.143   Prob(JB):                         0.00\n",
       "Kurtosis:                       4.303   Cond. No.                         1.44\n",
       "==============================================================================\n",
       "\n",
       "Warnings:\n",
       "[1] Standard Errors assume that the covariance matrix of the errors is correctly specified.\n",
       "\"\"\""
      ]
     },
     "execution_count": 79,
     "metadata": {},
     "output_type": "execute_result"
    }
   ],
   "source": [
    "XTrain = sm.add_constant(XTrain)\n",
    "model = sm.OLS(YTrain,XTrain)\n",
    "modelpred = model.fit()\n",
    "modelpred.summary()"
   ]
  },
  {
   "cell_type": "code",
   "execution_count": 80,
   "metadata": {},
   "outputs": [],
   "source": [
    "XTestc = sm.add_constant(XTest)"
   ]
  },
  {
   "cell_type": "code",
   "execution_count": 81,
   "metadata": {},
   "outputs": [],
   "source": [
    "YPred = modelpred.predict(XTestc)"
   ]
  },
  {
   "cell_type": "code",
   "execution_count": 82,
   "metadata": {
    "scrolled": true
   },
   "outputs": [
    {
     "data": {
      "text/plain": [
       "0.5783478210245743"
      ]
     },
     "execution_count": 82,
     "metadata": {},
     "output_type": "execute_result"
    }
   ],
   "source": [
    "r = r2_score(YTest,YPred) #R squared\n",
    "r2.append(r)\n",
    "r"
   ]
  },
  {
   "cell_type": "code",
   "execution_count": 83,
   "metadata": {},
   "outputs": [],
   "source": [
    "m = np.sqrt(mean_squared_error(YTest,YPred)) #RMSE\n",
    "rmse.append(m)"
   ]
  },
  {
   "cell_type": "markdown",
   "metadata": {},
   "source": [
    "### Visualize"
   ]
  },
  {
   "cell_type": "code",
   "execution_count": 84,
   "metadata": {},
   "outputs": [
    {
     "data": {
      "text/plain": [
       "(0.5, 0.95)"
      ]
     },
     "execution_count": 84,
     "metadata": {},
     "output_type": "execute_result"
    },
    {
     "data": {
      "image/png": "[encoded data removed]",
      "text/plain": [
       "<Figure size 432x288 with 1 Axes>"
      ]
     },
     "metadata": {
      "needs_background": "light"
     },
     "output_type": "display_data"
    }
   ],
   "source": [
    "plt.bar(\"1 2 3 4 5 6 7 8 9 10 11\".split(),r2)\n",
    "plt.ylim(0.5,0.95)"
   ]
  },
  {
   "cell_type": "code",
   "execution_count": 85,
   "metadata": {},
   "outputs": [
    {
     "data": {
      "text/plain": [
       "<BarContainer object of 11 artists>"
      ]
     },
     "execution_count": 85,
     "metadata": {},
     "output_type": "execute_result"
    },
    {
     "data": {
      "image/png": "[encoded data removed]",
      "text/plain": [
       "<Figure size 432x288 with 1 Axes>"
      ]
     },
     "metadata": {
      "needs_background": "light"
     },
     "output_type": "display_data"
    }
   ],
   "source": [
    "plt.bar(\"1 2 3 4 5 6 7 8 9 10 11\".split(),rmse)\n",
    "#plt.ylim(0.5,0.95)"
   ]
  }
 ],
 "metadata": {
  "kernelspec": {
   "display_name": "Python 3",
   "language": "python",
   "name": "python3"
  },
  "language_info": {
   "codemirror_mode": {
    "name": "ipython",
    "version": 3
   },
   "file_extension": ".py",
   "mimetype": "text/x-python",
   "name": "python",
   "nbconvert_exporter": "python",
   "pygments_lexer": "ipython3",
   "version": "3.7.4"
  }
 },
 "nbformat": 4,
 "nbformat_minor": 2
}
