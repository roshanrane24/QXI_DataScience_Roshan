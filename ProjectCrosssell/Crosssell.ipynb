{
 "cells": [
  {
   "cell_type": "markdown",
   "metadata": {
    "colab_type": "text",
    "id": "iGjTKux9GQXF"
   },
   "source": [
    "# Train"
   ]
  },
  {
   "cell_type": "markdown",
   "metadata": {
    "colab_type": "text",
    "id": "AciZGUw4v6Qn"
   },
   "source": [
    "## Importing Modules & Data"
   ]
  },
  {
   "cell_type": "code",
   "execution_count": 1,
   "metadata": {
    "colab": {
     "base_uri": "https://localhost:8080/",
     "height": 34
    },
    "colab_type": "code",
    "id": "uFDe5168a0x7",
    "outputId": "2b07a4b1-5efa-433f-88f6-24ceb0c48020"
   },
   "outputs": [],
   "source": [
    "# To Mount Google Drive When Using Colab\n",
    "# from google.colab import drive\n",
    "# drive.mount('/content/drive')"
   ]
  },
  {
   "cell_type": "code",
   "execution_count": 54,
   "metadata": {
    "colab": {},
    "colab_type": "code",
    "id": "IpwbuF2jv6Qs"
   },
   "outputs": [],
   "source": [
    "import numpy as np\n",
    "import pandas as pd\n",
    "import matplotlib.pyplot as plt\n",
    "import seaborn as sns\n",
    "from sklearn.preprocessing import LabelEncoder, MinMaxScaler, StandardScaler\n",
    "from sklearn.linear_model import LogisticRegression\n",
    "from sklearn.ensemble import RandomForestClassifier\n",
    "from sklearn.tree import DecisionTreeClassifier\n",
    "import xgboost\n",
    "from sklearn.naive_bayes import GaussianNB\n",
    "from sklearn.neural_network import MLPClassifier\n",
    "from sklearn.model_selection import StratifiedKFold\n",
    "from sklearn.metrics import accuracy_score, classification_report, confusion_matrix\n",
    "from IPython.display import clear_output\n",
    "import pickle"
   ]
  },
  {
   "cell_type": "code",
   "execution_count": 3,
   "metadata": {
    "colab": {
     "base_uri": "https://localhost:8080/",
     "height": 72
    },
    "colab_type": "code",
    "id": "0cQF-6unv6Q0",
    "outputId": "7a9dbd6f-1519-45c4-e7fa-8553796edffe",
    "scrolled": true
   },
   "outputs": [
    {
     "name": "stderr",
     "output_type": "stream",
     "text": [
      "/home/greenalien24/anaconda3/lib/python3.7/site-packages/IPython/core/interactiveshell.py:3051: DtypeWarning: Columns (8,11,12,13,14,15,16,17,18,19,21,23,26,28,29,30,32,82,83,85,91,269,325,326,327,328) have mixed types. Specify dtype option on import or set low_memory=False.\n",
      "  interactivity=interactivity, compiler=compiler, result=result)\n"
     ]
    }
   ],
   "source": [
    "# Reading Training Data\n",
    "# dataTrain = pd.read_csv('drive/My Drive/train.csv')#,index_col='CUSTOMER_ID')\n",
    "dataTrain = pd.read_csv('train.csv')#,index_col='CUSTOMER_ID')"
   ]
  },
  {
   "cell_type": "markdown",
   "metadata": {
    "colab_type": "text",
    "id": "9UPObRiMv6Q6"
   },
   "source": [
    "## EDA & Data Preprocessing"
   ]
  },
  {
   "cell_type": "code",
   "execution_count": 4,
   "metadata": {
    "colab": {
     "base_uri": "https://localhost:8080/",
     "height": 222
    },
    "colab_type": "code",
    "id": "vkM4ehMov6Q8",
    "outputId": "72257014-3a46-4520-cbb5-6dba5c9eeeba"
   },
   "outputs": [
    {
     "data": {
      "text/html": [
       "<div>\n",
       "<style scoped>\n",
       "    .dataframe tbody tr th:only-of-type {\n",
       "        vertical-align: middle;\n",
       "    }\n",
       "\n",
       "    .dataframe tbody tr th {\n",
       "        vertical-align: top;\n",
       "    }\n",
       "\n",
       "    .dataframe thead th {\n",
       "        text-align: right;\n",
       "    }\n",
       "</style>\n",
       "<table border=\"1\" class=\"dataframe\">\n",
       "  <thead>\n",
       "    <tr style=\"text-align: right;\">\n",
       "      <th></th>\n",
       "      <th>CUSTOMER_ID</th>\n",
       "      <th>ACT_TYPE</th>\n",
       "      <th>GENDER</th>\n",
       "      <th>LEGAL_ENTITY</th>\n",
       "      <th>OCCUP_ALL_NEW</th>\n",
       "      <th>AGE</th>\n",
       "      <th>N_CASA_MAX_BALANCE_MTD</th>\n",
       "      <th>N_CASA_MIN_BALANCE_MTD</th>\n",
       "      <th>BL_TAG</th>\n",
       "      <th>TWL_TAG</th>\n",
       "      <th>PL_TAG</th>\n",
       "      <th>AL_CNC_TAG</th>\n",
       "      <th>AGRI_TAG</th>\n",
       "      <th>CE_TAG</th>\n",
       "      <th>CV_TAG</th>\n",
       "      <th>EDU_TAG</th>\n",
       "      <th>TL_TAG</th>\n",
       "      <th>OTHER_LOANS_TAG</th>\n",
       "      <th>LAP_TAG</th>\n",
       "      <th>LAS_TAG</th>\n",
       "      <th>EEG_TAG</th>\n",
       "      <th>BBG_TAG</th>\n",
       "      <th>HL_TAG</th>\n",
       "      <th>GL_TAG</th>\n",
       "      <th>AL_CLOSED</th>\n",
       "      <th>PL_CLOSED</th>\n",
       "      <th>BL_CLOSED</th>\n",
       "      <th>TWL_CLOSED</th>\n",
       "      <th>CV_CLOSED</th>\n",
       "      <th>LAP_CLOSED</th>\n",
       "      <th>LAS_CLOSED</th>\n",
       "      <th>EEG_CLOSED</th>\n",
       "      <th>BBG_CLOSED</th>\n",
       "      <th>GL_CLOSED</th>\n",
       "      <th>CC_HOLD_MON_03</th>\n",
       "      <th>CC_HOLD_MON_02</th>\n",
       "      <th>CC_HOLD_MON_01</th>\n",
       "      <th>CC_ACTIVE_MON_03</th>\n",
       "      <th>CC_ACTIVE_MON_02</th>\n",
       "      <th>CC_ACTIVE_MON_01</th>\n",
       "      <th>CC_HOLD</th>\n",
       "      <th>CC_ACTIVE</th>\n",
       "      <th>DC_HOLD</th>\n",
       "      <th>DC_ACTIVE_MON_03</th>\n",
       "      <th>DC_ACTIVE_MON_02</th>\n",
       "      <th>DC_ACTIVE_MON_01</th>\n",
       "      <th>DC_ACTIVE</th>\n",
       "      <th>DC_SPEND_MON_03</th>\n",
       "      <th>DC_SPEND_MON_02</th>\n",
       "      <th>DC_SPEND_MON_01</th>\n",
       "      <th>CC_SPEND_MON_04</th>\n",
       "      <th>CC_SPEND_MON_01</th>\n",
       "      <th>CC_SPEND_MON_02</th>\n",
       "      <th>CC_SPEND_MON_03</th>\n",
       "      <th>DC_SPEND_MON_04</th>\n",
       "      <th>PM_FD_MON_01</th>\n",
       "      <th>PM_FD_MON_02</th>\n",
       "      <th>PM_FD_MON_04</th>\n",
       "      <th>CR_LIMIT</th>\n",
       "      <th>STMT_MON_03</th>\n",
       "      <th>STMT_MON_02</th>\n",
       "      <th>STMT_MON_01</th>\n",
       "      <th>COC_ELIGIBLE</th>\n",
       "      <th>LAP_SCRUB_LIVE</th>\n",
       "      <th>LAS_SCRUB_LIVE</th>\n",
       "      <th>PL_SCRUB_LIVE</th>\n",
       "      <th>GL_SCRUB_LIVE</th>\n",
       "      <th>TWL_SCRUB_LIVE</th>\n",
       "      <th>BL_SCRUB_LIVE</th>\n",
       "      <th>CEL_SCRUB_LIVE</th>\n",
       "      <th>TL_SCRUB_LIVE</th>\n",
       "      <th>AL_SCRUB_LIVE</th>\n",
       "      <th>LAP_SCRUB_CLOSED</th>\n",
       "      <th>LAS_SCRUB_CLOSED</th>\n",
       "      <th>PL_SCRUB_CLOSED</th>\n",
       "      <th>GL_SCRUB_CLOSED</th>\n",
       "      <th>TWL_SCRUB_CLOSED</th>\n",
       "      <th>BL_SCRUB_CLOSED</th>\n",
       "      <th>CEL_SCRUB_CLOSED</th>\n",
       "      <th>TL_SCRUB_CLOSED</th>\n",
       "      <th>AL_SCRUB_CLOSED</th>\n",
       "      <th>MATURITY_GL</th>\n",
       "      <th>MATURITY_LAP</th>\n",
       "      <th>MATURITY_LAS</th>\n",
       "      <th>STMT_CON_DAE_ACTIVE_MON_01</th>\n",
       "      <th>BTE_ACTIVE_MON_01</th>\n",
       "      <th>COC_ACTIVE_MON_01</th>\n",
       "      <th>PL2CC_ACTIVE_MON_01</th>\n",
       "      <th>MER_EMI_ACTIVE_MON_01</th>\n",
       "      <th>TRN_CON_DAE_ACTIVE_MON_01</th>\n",
       "      <th>STMT_CON_DAE_CLOSED_MON_01</th>\n",
       "      <th>BTE_CLOSED_MON_01</th>\n",
       "      <th>COC_CLOSED_MON_01</th>\n",
       "      <th>PL2CC_CLOSED_MON_01</th>\n",
       "      <th>MER_EMI_CLOSED_MON_01</th>\n",
       "      <th>TRN_CON_DAE_CLOSED_MON_01</th>\n",
       "      <th>EOP_BAL_MON_01</th>\n",
       "      <th>AMB_MON_04</th>\n",
       "      <th>AMB_MON_01</th>\n",
       "      <th>AMB_MON_02</th>\n",
       "      <th>AMB_MON_03</th>\n",
       "      <th>NB_MON_01_CNT</th>\n",
       "      <th>NB_MON_02_CNT</th>\n",
       "      <th>NB_MON_03_CNT</th>\n",
       "      <th>CDMAT_MON_01</th>\n",
       "      <th>CDMAT_MON_04</th>\n",
       "      <th>MF_MON_04</th>\n",
       "      <th>MF_MON_01</th>\n",
       "      <th>RD_MON_04</th>\n",
       "      <th>RD_MON_01</th>\n",
       "      <th>FD_MON_04</th>\n",
       "      <th>FD_MON_01</th>\n",
       "      <th>LI_MON_04</th>\n",
       "      <th>LI_MON_01</th>\n",
       "      <th>GI_MON_04</th>\n",
       "      <th>GI_MON_01</th>\n",
       "      <th>CC_TXN_MON_01</th>\n",
       "      <th>CC_SPEND_MON_06</th>\n",
       "      <th>CC_TXN_MON_06</th>\n",
       "      <th>CC_TXN_MON_03</th>\n",
       "      <th>CC_TXN_MON_02</th>\n",
       "      <th>CC_TXN_MON_04</th>\n",
       "      <th>CC_SPEND_MON_05</th>\n",
       "      <th>CC_TXN_MON_05</th>\n",
       "      <th>DC_TXN_MON_04</th>\n",
       "      <th>DC_TXN_MON_01</th>\n",
       "      <th>DC_SPEND_MON_06</th>\n",
       "      <th>DC_TXN_MON_06</th>\n",
       "      <th>DC_SPEND_MON_05</th>\n",
       "      <th>DC_TXN_MON_05</th>\n",
       "      <th>DC_TXN_MON_03</th>\n",
       "      <th>DC_TXN_MON_02</th>\n",
       "      <th>DC_SPEND_MON_04_ENT</th>\n",
       "      <th>DC_SPEND_MON_04_MED</th>\n",
       "      <th>DC_SPEND_MON_04_GRC</th>\n",
       "      <th>DC_SPEND_MON_04_HMD</th>\n",
       "      <th>DC_SPEND_MON_04_HBY</th>\n",
       "      <th>DC_SPEND_MON_04_CARE</th>\n",
       "      <th>DC_SPEND_MON_04_TRL</th>\n",
       "      <th>DC_SPEND_MON_04_RST</th>\n",
       "      <th>DC_SPEND_MON_04_JER</th>\n",
       "      <th>DC_SPEND_MON_04_HTL</th>\n",
       "      <th>DC_SPEND_MON_04_ATM</th>\n",
       "      <th>DC_SPEND_MON_03_ENT</th>\n",
       "      <th>DC_SPEND_MON_03_MED</th>\n",
       "      <th>DC_SPEND_MON_03_HMD</th>\n",
       "      <th>DC_SPEND_MON_03_HBY</th>\n",
       "      <th>DC_SPEND_MON_03_CARE</th>\n",
       "      <th>DC_SPEND_MON_03_TRL</th>\n",
       "      <th>DC_SPEND_MON_03_RST</th>\n",
       "      <th>DC_SPEND_MON_03_JER</th>\n",
       "      <th>DC_SPEND_MON_03_HTL</th>\n",
       "      <th>DC_SPEND_MON_03_ATM</th>\n",
       "      <th>DC_SPEND_MON_02_ENT</th>\n",
       "      <th>DC_SPEND_MON_02_MED</th>\n",
       "      <th>DC_SPEND_MON_02_HMD</th>\n",
       "      <th>DC_SPEND_MON_02_HBY</th>\n",
       "      <th>DC_SPEND_MON_02_CARE</th>\n",
       "      <th>DC_SPEND_MON_02_TRL</th>\n",
       "      <th>DC_SPEND_MON_02_RST</th>\n",
       "      <th>DC_SPEND_MON_02_JER</th>\n",
       "      <th>DC_SPEND_MON_02_HTL</th>\n",
       "      <th>DC_SPEND_MON_02_ATM</th>\n",
       "      <th>DC_SPEND_MON_01_ENT</th>\n",
       "      <th>DC_SPEND_MON_01_MED</th>\n",
       "      <th>DC_SPEND_MON_01_HMD</th>\n",
       "      <th>DC_SPEND_MON_01_HBY</th>\n",
       "      <th>DC_SPEND_MON_01_CARE</th>\n",
       "      <th>DC_SPEND_MON_01_TRL</th>\n",
       "      <th>DC_SPEND_MON_01_RST</th>\n",
       "      <th>DC_SPEND_MON_01_JER</th>\n",
       "      <th>DC_SPEND_MON_01_HTL</th>\n",
       "      <th>DC_SPEND_MON_01_ATM</th>\n",
       "      <th>DC_SPEND_MON_05_ENT</th>\n",
       "      <th>DC_SPEND_MON_05_MED</th>\n",
       "      <th>DC_SPEND_MON_05_HMD</th>\n",
       "      <th>DC_SPEND_MON_05_HBY</th>\n",
       "      <th>DC_SPEND_MON_05_CARE</th>\n",
       "      <th>DC_SPEND_MON_05_TRL</th>\n",
       "      <th>DC_SPEND_MON_05_RST</th>\n",
       "      <th>DC_SPEND_MON_05_JER</th>\n",
       "      <th>DC_SPEND_MON_05_HTL</th>\n",
       "      <th>DC_SPEND_MON_05_ATM</th>\n",
       "      <th>CC_SPEND_MON_04_ENT</th>\n",
       "      <th>CC_SPEND_MON_04_MED</th>\n",
       "      <th>CC_SPEND_MON_04_HMD</th>\n",
       "      <th>CC_SPEND_MON_04_HBY</th>\n",
       "      <th>CC_SPEND_MON_04_CARE</th>\n",
       "      <th>CC_SPEND_MON_04_TRL</th>\n",
       "      <th>CC_SPEND_MON_04_RST</th>\n",
       "      <th>CC_SPEND_MON_04_JER</th>\n",
       "      <th>CC_SPEND_MON_04_HTL</th>\n",
       "      <th>CC_SPEND_MON_04_ATM</th>\n",
       "      <th>CC_SPEND_MON_02_ENT</th>\n",
       "      <th>CC_SPEND_MON_02_MED</th>\n",
       "      <th>CC_SPEND_MON_02_HMD</th>\n",
       "      <th>CC_SPEND_MON_02_HBY</th>\n",
       "      <th>CC_SPEND_MON_02_CARE</th>\n",
       "      <th>CC_SPEND_MON_02_TRL</th>\n",
       "      <th>CC_SPEND_MON_02_RST</th>\n",
       "      <th>CC_SPEND_MON_02_JER</th>\n",
       "      <th>CC_SPEND_MON_02_HTL</th>\n",
       "      <th>CC_SPEND_MON_02_ATM</th>\n",
       "      <th>CC_SPEND_MON_01_ENT</th>\n",
       "      <th>CC_SPEND_MON_01_MED</th>\n",
       "      <th>CC_SPEND_MON_01_HMD</th>\n",
       "      <th>CC_SPEND_MON_01_HBY</th>\n",
       "      <th>CC_SPEND_MON_01_CARE</th>\n",
       "      <th>CC_SPEND_MON_01_TRL</th>\n",
       "      <th>CC_SPEND_MON_01_RST</th>\n",
       "      <th>CC_SPEND_MON_01_JER</th>\n",
       "      <th>CC_SPEND_MON_01_HTL</th>\n",
       "      <th>CC_SPEND_MON_01_ATM</th>\n",
       "      <th>FINANCE_MON_01</th>\n",
       "      <th>JOBS_MON_01</th>\n",
       "      <th>LIFESTYLE_MON_01</th>\n",
       "      <th>INMON_01KET_MON_01</th>\n",
       "      <th>TRAVEL_MON_01</th>\n",
       "      <th>CHANNEL_CLICK_DISP</th>\n",
       "      <th>DESIGNATION_FINAL</th>\n",
       "      <th>TOP14_CITY</th>\n",
       "      <th>TOP9_CITY</th>\n",
       "      <th>PL2CC_ELIGIBLE</th>\n",
       "      <th>D_AMT_L3_MON_06</th>\n",
       "      <th>C_AMT_L3_MON_06</th>\n",
       "      <th>C_COUNT_L3_MON_06</th>\n",
       "      <th>D_COUNT_L3_MON_06</th>\n",
       "      <th>MAX_C_AMT_L3_MON_06</th>\n",
       "      <th>D_AMT_L3_MON_05</th>\n",
       "      <th>C_AMT_L3_MON_05</th>\n",
       "      <th>C_COUNT_L3_MON_05</th>\n",
       "      <th>D_COUNT_L3_MON_05</th>\n",
       "      <th>MAX_C_AMT_L3_MON_05</th>\n",
       "      <th>D_AMT_L3_MON_04</th>\n",
       "      <th>C_AMT_L3_MON_04</th>\n",
       "      <th>C_COUNT_L3_MON_04</th>\n",
       "      <th>D_COUNT_L3_MON_04</th>\n",
       "      <th>MAX_C_AMT_L3_MON_04</th>\n",
       "      <th>D_AMT_L3_MON_03</th>\n",
       "      <th>C_AMT_L3_MON_03</th>\n",
       "      <th>C_COUNT_L3_MON_03</th>\n",
       "      <th>D_COUNT_L3_MON_03</th>\n",
       "      <th>MAX_C_AMT_L3_MON_03</th>\n",
       "      <th>D_AMT_L3_MON_02</th>\n",
       "      <th>C_AMT_L3_MON_02</th>\n",
       "      <th>C_COUNT_L3_MON_02</th>\n",
       "      <th>D_COUNT_L3_MON_02</th>\n",
       "      <th>MAX_C_AMT_L3_MON_02</th>\n",
       "      <th>D_AMT_L3_MON_01</th>\n",
       "      <th>C_AMT_L3_MON_01</th>\n",
       "      <th>C_COUNT_L3_MON_01</th>\n",
       "      <th>D_COUNT_L3_MON_01</th>\n",
       "      <th>MAX_C_AMT_L3_MON_01</th>\n",
       "      <th>PA_PQ_TAG</th>\n",
       "      <th>NEFT_CC_AMOUNT</th>\n",
       "      <th>NEFT_CC_TXN</th>\n",
       "      <th>NEFT_CC_CATEGORY</th>\n",
       "      <th>NEFT_DC_AMOUNT</th>\n",
       "      <th>NEFT_DC_TXN</th>\n",
       "      <th>NEFT_DC_CATEGORY</th>\n",
       "      <th>TPT_DC_AMOUNT_MON_01</th>\n",
       "      <th>TPT_DC_TXN_MON_01</th>\n",
       "      <th>TPT_DC_CATEGORY_MON_01</th>\n",
       "      <th>TPT_CC_AMOUNT_MON_01</th>\n",
       "      <th>TPT_CC_TXN_MON_01</th>\n",
       "      <th>TPT_CC_CATEGORY_MON_01</th>\n",
       "      <th>IMPS_CC_AMOUNT_MON_01</th>\n",
       "      <th>IMPS_CC_TXN_MON_01</th>\n",
       "      <th>IMPS_CC_CATEGORY_MON_01</th>\n",
       "      <th>ZIP_CODE_FINAL</th>\n",
       "      <th>LAST_3MTHS_INQ</th>\n",
       "      <th>PREV_3MTHS_INQ</th>\n",
       "      <th>CAR_MON_03</th>\n",
       "      <th>CDL_MON_03</th>\n",
       "      <th>GL_MON_03</th>\n",
       "      <th>LAA_MON_03</th>\n",
       "      <th>LFP_MON_03</th>\n",
       "      <th>TWL_MON_03</th>\n",
       "      <th>PL_MON_03</th>\n",
       "      <th>CAR_MON_02</th>\n",
       "      <th>CDL_MON_02</th>\n",
       "      <th>GL_MON_02</th>\n",
       "      <th>LAA_MON_02</th>\n",
       "      <th>LFP_MON_02</th>\n",
       "      <th>TWL_MON_02</th>\n",
       "      <th>PL_MON_02</th>\n",
       "      <th>CAR_MON_01</th>\n",
       "      <th>CDL_MON_01</th>\n",
       "      <th>GL_MON_01</th>\n",
       "      <th>LAA_MON_01</th>\n",
       "      <th>LFP_MON_01</th>\n",
       "      <th>TWL_MON_01</th>\n",
       "      <th>PL_MON_01</th>\n",
       "      <th>CLOSED_DATE</th>\n",
       "      <th>CRED_NEED_SCORE</th>\n",
       "      <th>CC_SPEND_MON_03_ENT</th>\n",
       "      <th>CC_SPEND_MON_03_MED</th>\n",
       "      <th>CC_SPEND_MON_03_HMD</th>\n",
       "      <th>CC_SPEND_MON_03_HBY</th>\n",
       "      <th>CC_SPEND_MON_03_CARE</th>\n",
       "      <th>CC_SPEND_MON_03_TRL</th>\n",
       "      <th>CC_SPEND_MON_03_RST</th>\n",
       "      <th>CC_SPEND_MON_03_JER</th>\n",
       "      <th>CC_SPEND_MON_03_HTL</th>\n",
       "      <th>CC_SPEND_MON_03_ATM</th>\n",
       "      <th>CARD_AUTOMOBILE_MON_01</th>\n",
       "      <th>CARD_HOTEL_MON_01</th>\n",
       "      <th>CARD_JEWELLERY_MON_01</th>\n",
       "      <th>CARD_RESTAURANT_MON_01</th>\n",
       "      <th>CARD_TRAVEL_MON_01</th>\n",
       "      <th>CARD_PRSNL_CARE_MON_01</th>\n",
       "      <th>CARD_HOBBY_MON_01</th>\n",
       "      <th>CARD_HOME_DECOR_MON_01</th>\n",
       "      <th>CARD_MEDICAL_MON_01</th>\n",
       "      <th>CARD_ENTMNT_MON_01</th>\n",
       "      <th>SAL_MON_01</th>\n",
       "      <th>SAL_MON_02</th>\n",
       "      <th>SAL_MON_03</th>\n",
       "      <th>TOP_100_CORP</th>\n",
       "      <th>TOP_800_CORP</th>\n",
       "      <th>TOP_CORP_TAG</th>\n",
       "      <th>EOP_MON_02</th>\n",
       "      <th>EOP_MON_03</th>\n",
       "      <th>CREDIT_ACT</th>\n",
       "      <th>DEBIT_ACT</th>\n",
       "      <th>CEL_TAG</th>\n",
       "      <th>EL_TAG</th>\n",
       "      <th>AGL_TAG</th>\n",
       "      <th>CVL_TAG</th>\n",
       "      <th>AL_TAG</th>\n",
       "      <th>HL_EMI</th>\n",
       "      <th>SCRUB_EMI</th>\n",
       "      <th>RESPONDERS</th>\n",
       "    </tr>\n",
       "  </thead>\n",
       "  <tbody>\n",
       "    <tr>\n",
       "      <th>0</th>\n",
       "      <td>385793</td>\n",
       "      <td>CSA</td>\n",
       "      <td>M</td>\n",
       "      <td>INDIVIDUAL</td>\n",
       "      <td>SALARIED</td>\n",
       "      <td>21</td>\n",
       "      <td>0.00</td>\n",
       "      <td>0.00</td>\n",
       "      <td>NaN</td>\n",
       "      <td>NaN</td>\n",
       "      <td>NaN</td>\n",
       "      <td>NaN</td>\n",
       "      <td>NaN</td>\n",
       "      <td>NaN</td>\n",
       "      <td>NaN</td>\n",
       "      <td>NaN</td>\n",
       "      <td>NaN</td>\n",
       "      <td>NaN</td>\n",
       "      <td>NaN</td>\n",
       "      <td>NaN</td>\n",
       "      <td>NaN</td>\n",
       "      <td>NaN</td>\n",
       "      <td>NaN</td>\n",
       "      <td>NaN</td>\n",
       "      <td>NaN</td>\n",
       "      <td>NaN</td>\n",
       "      <td>NaN</td>\n",
       "      <td>NaN</td>\n",
       "      <td>NaN</td>\n",
       "      <td>NaN</td>\n",
       "      <td>NaN</td>\n",
       "      <td>NaN</td>\n",
       "      <td>NaN</td>\n",
       "      <td>NaN</td>\n",
       "      <td>NaN</td>\n",
       "      <td>NaN</td>\n",
       "      <td>NaN</td>\n",
       "      <td>NaN</td>\n",
       "      <td>NaN</td>\n",
       "      <td>NaN</td>\n",
       "      <td>N</td>\n",
       "      <td>N</td>\n",
       "      <td>Y</td>\n",
       "      <td>NaN</td>\n",
       "      <td>NaN</td>\n",
       "      <td>NaN</td>\n",
       "      <td>N</td>\n",
       "      <td>NaN</td>\n",
       "      <td>NaN</td>\n",
       "      <td>NaN</td>\n",
       "      <td>NaN</td>\n",
       "      <td>NaN</td>\n",
       "      <td>NaN</td>\n",
       "      <td>NaN</td>\n",
       "      <td>NaN</td>\n",
       "      <td>NaN</td>\n",
       "      <td>NaN</td>\n",
       "      <td>NaN</td>\n",
       "      <td>NaN</td>\n",
       "      <td>NaN</td>\n",
       "      <td>NaN</td>\n",
       "      <td>NaN</td>\n",
       "      <td>0</td>\n",
       "      <td>NaN</td>\n",
       "      <td>NaN</td>\n",
       "      <td>NaN</td>\n",
       "      <td>NaN</td>\n",
       "      <td>NaN</td>\n",
       "      <td>NaN</td>\n",
       "      <td>NaN</td>\n",
       "      <td>NaN</td>\n",
       "      <td>NaN</td>\n",
       "      <td>NaN</td>\n",
       "      <td>NaN</td>\n",
       "      <td>NaN</td>\n",
       "      <td>NaN</td>\n",
       "      <td>NaN</td>\n",
       "      <td>NaN</td>\n",
       "      <td>NaN</td>\n",
       "      <td>NaN</td>\n",
       "      <td>NaN</td>\n",
       "      <td>NaN</td>\n",
       "      <td>NaN</td>\n",
       "      <td>NaN</td>\n",
       "      <td>NaN</td>\n",
       "      <td>NaN</td>\n",
       "      <td>NaN</td>\n",
       "      <td>NaN</td>\n",
       "      <td>NaN</td>\n",
       "      <td>NaN</td>\n",
       "      <td>NaN</td>\n",
       "      <td>NaN</td>\n",
       "      <td>NaN</td>\n",
       "      <td>NaN</td>\n",
       "      <td>NaN</td>\n",
       "      <td>NaN</td>\n",
       "      <td>0.00</td>\n",
       "      <td>0.00</td>\n",
       "      <td>0.00</td>\n",
       "      <td>0.00</td>\n",
       "      <td>0.00</td>\n",
       "      <td>NaN</td>\n",
       "      <td>NaN</td>\n",
       "      <td>NaN</td>\n",
       "      <td>NaN</td>\n",
       "      <td>NaN</td>\n",
       "      <td>NaN</td>\n",
       "      <td>NaN</td>\n",
       "      <td>NaN</td>\n",
       "      <td>NaN</td>\n",
       "      <td>NaN</td>\n",
       "      <td>NaN</td>\n",
       "      <td>NaN</td>\n",
       "      <td>NaN</td>\n",
       "      <td>NaN</td>\n",
       "      <td>NaN</td>\n",
       "      <td>NaN</td>\n",
       "      <td>NaN</td>\n",
       "      <td>NaN</td>\n",
       "      <td>NaN</td>\n",
       "      <td>NaN</td>\n",
       "      <td>NaN</td>\n",
       "      <td>NaN</td>\n",
       "      <td>NaN</td>\n",
       "      <td>NaN</td>\n",
       "      <td>NaN</td>\n",
       "      <td>NaN</td>\n",
       "      <td>NaN</td>\n",
       "      <td>NaN</td>\n",
       "      <td>NaN</td>\n",
       "      <td>NaN</td>\n",
       "      <td>NaN</td>\n",
       "      <td>NaN</td>\n",
       "      <td>NaN</td>\n",
       "      <td>NaN</td>\n",
       "      <td>NaN</td>\n",
       "      <td>NaN</td>\n",
       "      <td>NaN</td>\n",
       "      <td>NaN</td>\n",
       "      <td>NaN</td>\n",
       "      <td>NaN</td>\n",
       "      <td>NaN</td>\n",
       "      <td>NaN</td>\n",
       "      <td>NaN</td>\n",
       "      <td>NaN</td>\n",
       "      <td>NaN</td>\n",
       "      <td>NaN</td>\n",
       "      <td>NaN</td>\n",
       "      <td>NaN</td>\n",
       "      <td>NaN</td>\n",
       "      <td>NaN</td>\n",
       "      <td>NaN</td>\n",
       "      <td>NaN</td>\n",
       "      <td>NaN</td>\n",
       "      <td>NaN</td>\n",
       "      <td>NaN</td>\n",
       "      <td>NaN</td>\n",
       "      <td>NaN</td>\n",
       "      <td>NaN</td>\n",
       "      <td>NaN</td>\n",
       "      <td>NaN</td>\n",
       "      <td>NaN</td>\n",
       "      <td>NaN</td>\n",
       "      <td>NaN</td>\n",
       "      <td>NaN</td>\n",
       "      <td>NaN</td>\n",
       "      <td>NaN</td>\n",
       "      <td>NaN</td>\n",
       "      <td>NaN</td>\n",
       "      <td>NaN</td>\n",
       "      <td>NaN</td>\n",
       "      <td>NaN</td>\n",
       "      <td>NaN</td>\n",
       "      <td>NaN</td>\n",
       "      <td>NaN</td>\n",
       "      <td>NaN</td>\n",
       "      <td>NaN</td>\n",
       "      <td>NaN</td>\n",
       "      <td>NaN</td>\n",
       "      <td>NaN</td>\n",
       "      <td>NaN</td>\n",
       "      <td>NaN</td>\n",
       "      <td>NaN</td>\n",
       "      <td>NaN</td>\n",
       "      <td>NaN</td>\n",
       "      <td>NaN</td>\n",
       "      <td>NaN</td>\n",
       "      <td>NaN</td>\n",
       "      <td>NaN</td>\n",
       "      <td>NaN</td>\n",
       "      <td>NaN</td>\n",
       "      <td>NaN</td>\n",
       "      <td>NaN</td>\n",
       "      <td>NaN</td>\n",
       "      <td>NaN</td>\n",
       "      <td>NaN</td>\n",
       "      <td>NaN</td>\n",
       "      <td>NaN</td>\n",
       "      <td>NaN</td>\n",
       "      <td>NaN</td>\n",
       "      <td>NaN</td>\n",
       "      <td>NaN</td>\n",
       "      <td>NaN</td>\n",
       "      <td>NaN</td>\n",
       "      <td>NaN</td>\n",
       "      <td>NaN</td>\n",
       "      <td>NaN</td>\n",
       "      <td>NaN</td>\n",
       "      <td>NaN</td>\n",
       "      <td>NaN</td>\n",
       "      <td>NaN</td>\n",
       "      <td>NaN</td>\n",
       "      <td>NaN</td>\n",
       "      <td>N</td>\n",
       "      <td>N</td>\n",
       "      <td>N</td>\n",
       "      <td>N</td>\n",
       "      <td>N</td>\n",
       "      <td>NONE</td>\n",
       "      <td>MISSING</td>\n",
       "      <td>Y</td>\n",
       "      <td>Y</td>\n",
       "      <td>0</td>\n",
       "      <td>39.00</td>\n",
       "      <td>NaN</td>\n",
       "      <td>0.0</td>\n",
       "      <td>1.0</td>\n",
       "      <td>NaN</td>\n",
       "      <td>NaN</td>\n",
       "      <td>NaN</td>\n",
       "      <td>NaN</td>\n",
       "      <td>NaN</td>\n",
       "      <td>NaN</td>\n",
       "      <td>NaN</td>\n",
       "      <td>NaN</td>\n",
       "      <td>NaN</td>\n",
       "      <td>NaN</td>\n",
       "      <td>NaN</td>\n",
       "      <td>NaN</td>\n",
       "      <td>NaN</td>\n",
       "      <td>NaN</td>\n",
       "      <td>NaN</td>\n",
       "      <td>NaN</td>\n",
       "      <td>NaN</td>\n",
       "      <td>NaN</td>\n",
       "      <td>NaN</td>\n",
       "      <td>NaN</td>\n",
       "      <td>NaN</td>\n",
       "      <td>NaN</td>\n",
       "      <td>NaN</td>\n",
       "      <td>NaN</td>\n",
       "      <td>NaN</td>\n",
       "      <td>NaN</td>\n",
       "      <td>NaN</td>\n",
       "      <td>NaN</td>\n",
       "      <td>NaN</td>\n",
       "      <td>NO_NEFT_TXN</td>\n",
       "      <td>NaN</td>\n",
       "      <td>NaN</td>\n",
       "      <td>NO_NEFT_TXN</td>\n",
       "      <td>NaN</td>\n",
       "      <td>NaN</td>\n",
       "      <td>NO_TPT_TXN</td>\n",
       "      <td>NaN</td>\n",
       "      <td>NaN</td>\n",
       "      <td>NO_TPT_TXN</td>\n",
       "      <td>NaN</td>\n",
       "      <td>NaN</td>\n",
       "      <td>NO_IMPS_TXN</td>\n",
       "      <td>400606.0</td>\n",
       "      <td>NaN</td>\n",
       "      <td>NaN</td>\n",
       "      <td>NaN</td>\n",
       "      <td>NaN</td>\n",
       "      <td>NaN</td>\n",
       "      <td>NaN</td>\n",
       "      <td>NaN</td>\n",
       "      <td>NaN</td>\n",
       "      <td>NaN</td>\n",
       "      <td>NaN</td>\n",
       "      <td>NaN</td>\n",
       "      <td>NaN</td>\n",
       "      <td>NaN</td>\n",
       "      <td>NaN</td>\n",
       "      <td>NaN</td>\n",
       "      <td>NaN</td>\n",
       "      <td>NaN</td>\n",
       "      <td>NaN</td>\n",
       "      <td>NaN</td>\n",
       "      <td>NaN</td>\n",
       "      <td>NaN</td>\n",
       "      <td>NaN</td>\n",
       "      <td>NaN</td>\n",
       "      <td>NaN</td>\n",
       "      <td>NaN</td>\n",
       "      <td>NaN</td>\n",
       "      <td>NaN</td>\n",
       "      <td>NaN</td>\n",
       "      <td>NaN</td>\n",
       "      <td>NaN</td>\n",
       "      <td>NaN</td>\n",
       "      <td>NaN</td>\n",
       "      <td>NaN</td>\n",
       "      <td>NaN</td>\n",
       "      <td>NaN</td>\n",
       "      <td>N</td>\n",
       "      <td>N</td>\n",
       "      <td>N</td>\n",
       "      <td>N</td>\n",
       "      <td>N</td>\n",
       "      <td>N</td>\n",
       "      <td>N</td>\n",
       "      <td>N</td>\n",
       "      <td>N</td>\n",
       "      <td>N</td>\n",
       "      <td>0.0</td>\n",
       "      <td>0.0</td>\n",
       "      <td>0.0</td>\n",
       "      <td>NaN</td>\n",
       "      <td>NaN</td>\n",
       "      <td>NONE</td>\n",
       "      <td>0.00</td>\n",
       "      <td>0.00</td>\n",
       "      <td>NaN</td>\n",
       "      <td>NaN</td>\n",
       "      <td>NaN</td>\n",
       "      <td>NaN</td>\n",
       "      <td>NaN</td>\n",
       "      <td>NaN</td>\n",
       "      <td>NaN</td>\n",
       "      <td>NaN</td>\n",
       "      <td>0.000000</td>\n",
       "      <td>N</td>\n",
       "    </tr>\n",
       "    <tr>\n",
       "      <th>1</th>\n",
       "      <td>286891</td>\n",
       "      <td>CSA</td>\n",
       "      <td>M</td>\n",
       "      <td>INDIVIDUAL</td>\n",
       "      <td>SALARIED</td>\n",
       "      <td>23</td>\n",
       "      <td>8243.77</td>\n",
       "      <td>7.77</td>\n",
       "      <td>NaN</td>\n",
       "      <td>NaN</td>\n",
       "      <td>NaN</td>\n",
       "      <td>NaN</td>\n",
       "      <td>NaN</td>\n",
       "      <td>NaN</td>\n",
       "      <td>NaN</td>\n",
       "      <td>NaN</td>\n",
       "      <td>NaN</td>\n",
       "      <td>NaN</td>\n",
       "      <td>NaN</td>\n",
       "      <td>NaN</td>\n",
       "      <td>NaN</td>\n",
       "      <td>NaN</td>\n",
       "      <td>NaN</td>\n",
       "      <td>NaN</td>\n",
       "      <td>NaN</td>\n",
       "      <td>NaN</td>\n",
       "      <td>NaN</td>\n",
       "      <td>NaN</td>\n",
       "      <td>NaN</td>\n",
       "      <td>NaN</td>\n",
       "      <td>NaN</td>\n",
       "      <td>NaN</td>\n",
       "      <td>NaN</td>\n",
       "      <td>NaN</td>\n",
       "      <td>NaN</td>\n",
       "      <td>NaN</td>\n",
       "      <td>NaN</td>\n",
       "      <td>NaN</td>\n",
       "      <td>NaN</td>\n",
       "      <td>NaN</td>\n",
       "      <td>N</td>\n",
       "      <td>N</td>\n",
       "      <td>Y</td>\n",
       "      <td>Y</td>\n",
       "      <td>Y</td>\n",
       "      <td>Y</td>\n",
       "      <td>Y</td>\n",
       "      <td>NaN</td>\n",
       "      <td>NaN</td>\n",
       "      <td>NaN</td>\n",
       "      <td>NaN</td>\n",
       "      <td>NaN</td>\n",
       "      <td>NaN</td>\n",
       "      <td>NaN</td>\n",
       "      <td>NaN</td>\n",
       "      <td>NaN</td>\n",
       "      <td>NaN</td>\n",
       "      <td>NaN</td>\n",
       "      <td>NaN</td>\n",
       "      <td>NaN</td>\n",
       "      <td>NaN</td>\n",
       "      <td>NaN</td>\n",
       "      <td>0</td>\n",
       "      <td>NaN</td>\n",
       "      <td>NaN</td>\n",
       "      <td>NaN</td>\n",
       "      <td>NaN</td>\n",
       "      <td>NaN</td>\n",
       "      <td>NaN</td>\n",
       "      <td>NaN</td>\n",
       "      <td>NaN</td>\n",
       "      <td>1.0</td>\n",
       "      <td>NaN</td>\n",
       "      <td>NaN</td>\n",
       "      <td>NaN</td>\n",
       "      <td>NaN</td>\n",
       "      <td>NaN</td>\n",
       "      <td>NaN</td>\n",
       "      <td>NaN</td>\n",
       "      <td>NaN</td>\n",
       "      <td>NaN</td>\n",
       "      <td>NaN</td>\n",
       "      <td>NaN</td>\n",
       "      <td>NaN</td>\n",
       "      <td>NaN</td>\n",
       "      <td>NaN</td>\n",
       "      <td>NaN</td>\n",
       "      <td>NaN</td>\n",
       "      <td>NaN</td>\n",
       "      <td>NaN</td>\n",
       "      <td>NaN</td>\n",
       "      <td>NaN</td>\n",
       "      <td>NaN</td>\n",
       "      <td>NaN</td>\n",
       "      <td>NaN</td>\n",
       "      <td>NaN</td>\n",
       "      <td>11.77</td>\n",
       "      <td>1417.26</td>\n",
       "      <td>300.51</td>\n",
       "      <td>593.06</td>\n",
       "      <td>418.09</td>\n",
       "      <td>NaN</td>\n",
       "      <td>NaN</td>\n",
       "      <td>NaN</td>\n",
       "      <td>NaN</td>\n",
       "      <td>NaN</td>\n",
       "      <td>NaN</td>\n",
       "      <td>NaN</td>\n",
       "      <td>NaN</td>\n",
       "      <td>NaN</td>\n",
       "      <td>NaN</td>\n",
       "      <td>NaN</td>\n",
       "      <td>NaN</td>\n",
       "      <td>NaN</td>\n",
       "      <td>NaN</td>\n",
       "      <td>NaN</td>\n",
       "      <td>NaN</td>\n",
       "      <td>NaN</td>\n",
       "      <td>NaN</td>\n",
       "      <td>NaN</td>\n",
       "      <td>NaN</td>\n",
       "      <td>NaN</td>\n",
       "      <td>NaN</td>\n",
       "      <td>NaN</td>\n",
       "      <td>8.0</td>\n",
       "      <td>5.0</td>\n",
       "      <td>504.0</td>\n",
       "      <td>7.0</td>\n",
       "      <td>631.0</td>\n",
       "      <td>13.0</td>\n",
       "      <td>12.0</td>\n",
       "      <td>1.0</td>\n",
       "      <td>NaN</td>\n",
       "      <td>NaN</td>\n",
       "      <td>NaN</td>\n",
       "      <td>NaN</td>\n",
       "      <td>NaN</td>\n",
       "      <td>NaN</td>\n",
       "      <td>NaN</td>\n",
       "      <td>NaN</td>\n",
       "      <td>NaN</td>\n",
       "      <td>NaN</td>\n",
       "      <td>NaN</td>\n",
       "      <td>NaN</td>\n",
       "      <td>NaN</td>\n",
       "      <td>NaN</td>\n",
       "      <td>NaN</td>\n",
       "      <td>NaN</td>\n",
       "      <td>NaN</td>\n",
       "      <td>NaN</td>\n",
       "      <td>NaN</td>\n",
       "      <td>NaN</td>\n",
       "      <td>NaN</td>\n",
       "      <td>NaN</td>\n",
       "      <td>NaN</td>\n",
       "      <td>NaN</td>\n",
       "      <td>NaN</td>\n",
       "      <td>NaN</td>\n",
       "      <td>NaN</td>\n",
       "      <td>NaN</td>\n",
       "      <td>NaN</td>\n",
       "      <td>NaN</td>\n",
       "      <td>NaN</td>\n",
       "      <td>NaN</td>\n",
       "      <td>NaN</td>\n",
       "      <td>NaN</td>\n",
       "      <td>NaN</td>\n",
       "      <td>NaN</td>\n",
       "      <td>NaN</td>\n",
       "      <td>NaN</td>\n",
       "      <td>NaN</td>\n",
       "      <td>NaN</td>\n",
       "      <td>NaN</td>\n",
       "      <td>NaN</td>\n",
       "      <td>NaN</td>\n",
       "      <td>NaN</td>\n",
       "      <td>NaN</td>\n",
       "      <td>NaN</td>\n",
       "      <td>NaN</td>\n",
       "      <td>NaN</td>\n",
       "      <td>NaN</td>\n",
       "      <td>NaN</td>\n",
       "      <td>NaN</td>\n",
       "      <td>NaN</td>\n",
       "      <td>NaN</td>\n",
       "      <td>NaN</td>\n",
       "      <td>NaN</td>\n",
       "      <td>NaN</td>\n",
       "      <td>NaN</td>\n",
       "      <td>NaN</td>\n",
       "      <td>NaN</td>\n",
       "      <td>NaN</td>\n",
       "      <td>NaN</td>\n",
       "      <td>NaN</td>\n",
       "      <td>NaN</td>\n",
       "      <td>NaN</td>\n",
       "      <td>NaN</td>\n",
       "      <td>NaN</td>\n",
       "      <td>NaN</td>\n",
       "      <td>NaN</td>\n",
       "      <td>NaN</td>\n",
       "      <td>NaN</td>\n",
       "      <td>NaN</td>\n",
       "      <td>NaN</td>\n",
       "      <td>NaN</td>\n",
       "      <td>NaN</td>\n",
       "      <td>NaN</td>\n",
       "      <td>NaN</td>\n",
       "      <td>NaN</td>\n",
       "      <td>NaN</td>\n",
       "      <td>NaN</td>\n",
       "      <td>NaN</td>\n",
       "      <td>NaN</td>\n",
       "      <td>N</td>\n",
       "      <td>N</td>\n",
       "      <td>N</td>\n",
       "      <td>N</td>\n",
       "      <td>N</td>\n",
       "      <td>NONE</td>\n",
       "      <td>MISSING</td>\n",
       "      <td>Y</td>\n",
       "      <td>Y</td>\n",
       "      <td>0</td>\n",
       "      <td>17250.00</td>\n",
       "      <td>17870.00</td>\n",
       "      <td>3.0</td>\n",
       "      <td>19.0</td>\n",
       "      <td>7957.0</td>\n",
       "      <td>12965.50</td>\n",
       "      <td>12336.5</td>\n",
       "      <td>6.0</td>\n",
       "      <td>21.0</td>\n",
       "      <td>8011.0</td>\n",
       "      <td>23448.52</td>\n",
       "      <td>23457.0</td>\n",
       "      <td>4.0</td>\n",
       "      <td>12.0</td>\n",
       "      <td>12000.0</td>\n",
       "      <td>17161.73</td>\n",
       "      <td>17154.75</td>\n",
       "      <td>6.0</td>\n",
       "      <td>20.0</td>\n",
       "      <td>8144.0</td>\n",
       "      <td>8720.00</td>\n",
       "      <td>11733.75</td>\n",
       "      <td>4.0</td>\n",
       "      <td>3.0</td>\n",
       "      <td>7519.0</td>\n",
       "      <td>13763.00</td>\n",
       "      <td>10758.00</td>\n",
       "      <td>3.0</td>\n",
       "      <td>9.0</td>\n",
       "      <td>8240.0</td>\n",
       "      <td>NaN</td>\n",
       "      <td>NaN</td>\n",
       "      <td>NaN</td>\n",
       "      <td>NO_NEFT_TXN</td>\n",
       "      <td>NaN</td>\n",
       "      <td>NaN</td>\n",
       "      <td>NO_NEFT_TXN</td>\n",
       "      <td>NaN</td>\n",
       "      <td>NaN</td>\n",
       "      <td>NO_TPT_TXN</td>\n",
       "      <td>NaN</td>\n",
       "      <td>NaN</td>\n",
       "      <td>NO_TPT_TXN</td>\n",
       "      <td>NaN</td>\n",
       "      <td>NaN</td>\n",
       "      <td>NO_IMPS_TXN</td>\n",
       "      <td>600045.0</td>\n",
       "      <td>NaN</td>\n",
       "      <td>Y</td>\n",
       "      <td>NaN</td>\n",
       "      <td>NaN</td>\n",
       "      <td>NaN</td>\n",
       "      <td>NaN</td>\n",
       "      <td>NaN</td>\n",
       "      <td>NaN</td>\n",
       "      <td>NaN</td>\n",
       "      <td>NaN</td>\n",
       "      <td>NaN</td>\n",
       "      <td>NaN</td>\n",
       "      <td>NaN</td>\n",
       "      <td>NaN</td>\n",
       "      <td>NaN</td>\n",
       "      <td>NaN</td>\n",
       "      <td>NaN</td>\n",
       "      <td>NaN</td>\n",
       "      <td>NaN</td>\n",
       "      <td>NaN</td>\n",
       "      <td>NaN</td>\n",
       "      <td>NaN</td>\n",
       "      <td>NaN</td>\n",
       "      <td>NaN</td>\n",
       "      <td>NaN</td>\n",
       "      <td>NaN</td>\n",
       "      <td>NaN</td>\n",
       "      <td>NaN</td>\n",
       "      <td>NaN</td>\n",
       "      <td>NaN</td>\n",
       "      <td>NaN</td>\n",
       "      <td>NaN</td>\n",
       "      <td>NaN</td>\n",
       "      <td>NaN</td>\n",
       "      <td>NaN</td>\n",
       "      <td>N</td>\n",
       "      <td>N</td>\n",
       "      <td>N</td>\n",
       "      <td>N</td>\n",
       "      <td>N</td>\n",
       "      <td>N</td>\n",
       "      <td>N</td>\n",
       "      <td>N</td>\n",
       "      <td>N</td>\n",
       "      <td>N</td>\n",
       "      <td>10754.0</td>\n",
       "      <td>8733.0</td>\n",
       "      <td>17154.0</td>\n",
       "      <td>NaN</td>\n",
       "      <td>NaN</td>\n",
       "      <td>NONE</td>\n",
       "      <td>3016.77</td>\n",
       "      <td>3.02</td>\n",
       "      <td>Y</td>\n",
       "      <td>Y</td>\n",
       "      <td>NaN</td>\n",
       "      <td>NaN</td>\n",
       "      <td>NaN</td>\n",
       "      <td>NaN</td>\n",
       "      <td>NaN</td>\n",
       "      <td>NaN</td>\n",
       "      <td>0.000000</td>\n",
       "      <td>N</td>\n",
       "    </tr>\n",
       "    <tr>\n",
       "      <th>2</th>\n",
       "      <td>108751</td>\n",
       "      <td>CSA</td>\n",
       "      <td>M</td>\n",
       "      <td>INDIVIDUAL</td>\n",
       "      <td>SALARIED</td>\n",
       "      <td>41</td>\n",
       "      <td>26515.00</td>\n",
       "      <td>0.00</td>\n",
       "      <td>NaN</td>\n",
       "      <td>NaN</td>\n",
       "      <td>NaN</td>\n",
       "      <td>NaN</td>\n",
       "      <td>NaN</td>\n",
       "      <td>NaN</td>\n",
       "      <td>NaN</td>\n",
       "      <td>NaN</td>\n",
       "      <td>NaN</td>\n",
       "      <td>NaN</td>\n",
       "      <td>NaN</td>\n",
       "      <td>NaN</td>\n",
       "      <td>NaN</td>\n",
       "      <td>NaN</td>\n",
       "      <td>NaN</td>\n",
       "      <td>NaN</td>\n",
       "      <td>NaN</td>\n",
       "      <td>NaN</td>\n",
       "      <td>NaN</td>\n",
       "      <td>NaN</td>\n",
       "      <td>NaN</td>\n",
       "      <td>NaN</td>\n",
       "      <td>NaN</td>\n",
       "      <td>NaN</td>\n",
       "      <td>NaN</td>\n",
       "      <td>NaN</td>\n",
       "      <td>NaN</td>\n",
       "      <td>NaN</td>\n",
       "      <td>NaN</td>\n",
       "      <td>NaN</td>\n",
       "      <td>NaN</td>\n",
       "      <td>NaN</td>\n",
       "      <td>N</td>\n",
       "      <td>N</td>\n",
       "      <td>Y</td>\n",
       "      <td>NaN</td>\n",
       "      <td>NaN</td>\n",
       "      <td>NaN</td>\n",
       "      <td>N</td>\n",
       "      <td>NaN</td>\n",
       "      <td>NaN</td>\n",
       "      <td>NaN</td>\n",
       "      <td>NaN</td>\n",
       "      <td>NaN</td>\n",
       "      <td>NaN</td>\n",
       "      <td>NaN</td>\n",
       "      <td>NaN</td>\n",
       "      <td>NaN</td>\n",
       "      <td>NaN</td>\n",
       "      <td>NaN</td>\n",
       "      <td>NaN</td>\n",
       "      <td>NaN</td>\n",
       "      <td>NaN</td>\n",
       "      <td>NaN</td>\n",
       "      <td>0</td>\n",
       "      <td>NaN</td>\n",
       "      <td>NaN</td>\n",
       "      <td>NaN</td>\n",
       "      <td>NaN</td>\n",
       "      <td>NaN</td>\n",
       "      <td>NaN</td>\n",
       "      <td>NaN</td>\n",
       "      <td>NaN</td>\n",
       "      <td>NaN</td>\n",
       "      <td>NaN</td>\n",
       "      <td>NaN</td>\n",
       "      <td>NaN</td>\n",
       "      <td>NaN</td>\n",
       "      <td>NaN</td>\n",
       "      <td>NaN</td>\n",
       "      <td>NaN</td>\n",
       "      <td>NaN</td>\n",
       "      <td>NaN</td>\n",
       "      <td>NaN</td>\n",
       "      <td>NaN</td>\n",
       "      <td>NaN</td>\n",
       "      <td>NaN</td>\n",
       "      <td>NaN</td>\n",
       "      <td>NaN</td>\n",
       "      <td>NaN</td>\n",
       "      <td>NaN</td>\n",
       "      <td>NaN</td>\n",
       "      <td>NaN</td>\n",
       "      <td>NaN</td>\n",
       "      <td>NaN</td>\n",
       "      <td>NaN</td>\n",
       "      <td>NaN</td>\n",
       "      <td>NaN</td>\n",
       "      <td>26458.25</td>\n",
       "      <td>5354.65</td>\n",
       "      <td>6100.73</td>\n",
       "      <td>7955.82</td>\n",
       "      <td>11138.53</td>\n",
       "      <td>1.0</td>\n",
       "      <td>1.0</td>\n",
       "      <td>NaN</td>\n",
       "      <td>NaN</td>\n",
       "      <td>NaN</td>\n",
       "      <td>NaN</td>\n",
       "      <td>NaN</td>\n",
       "      <td>NaN</td>\n",
       "      <td>NaN</td>\n",
       "      <td>NaN</td>\n",
       "      <td>NaN</td>\n",
       "      <td>NaN</td>\n",
       "      <td>NaN</td>\n",
       "      <td>NaN</td>\n",
       "      <td>NaN</td>\n",
       "      <td>NaN</td>\n",
       "      <td>NaN</td>\n",
       "      <td>NaN</td>\n",
       "      <td>NaN</td>\n",
       "      <td>NaN</td>\n",
       "      <td>NaN</td>\n",
       "      <td>NaN</td>\n",
       "      <td>NaN</td>\n",
       "      <td>2.0</td>\n",
       "      <td>NaN</td>\n",
       "      <td>NaN</td>\n",
       "      <td>NaN</td>\n",
       "      <td>NaN</td>\n",
       "      <td>NaN</td>\n",
       "      <td>NaN</td>\n",
       "      <td>NaN</td>\n",
       "      <td>NaN</td>\n",
       "      <td>NaN</td>\n",
       "      <td>NaN</td>\n",
       "      <td>NaN</td>\n",
       "      <td>NaN</td>\n",
       "      <td>NaN</td>\n",
       "      <td>NaN</td>\n",
       "      <td>NaN</td>\n",
       "      <td>NaN</td>\n",
       "      <td>NaN</td>\n",
       "      <td>NaN</td>\n",
       "      <td>NaN</td>\n",
       "      <td>NaN</td>\n",
       "      <td>NaN</td>\n",
       "      <td>NaN</td>\n",
       "      <td>NaN</td>\n",
       "      <td>NaN</td>\n",
       "      <td>NaN</td>\n",
       "      <td>NaN</td>\n",
       "      <td>NaN</td>\n",
       "      <td>NaN</td>\n",
       "      <td>NaN</td>\n",
       "      <td>NaN</td>\n",
       "      <td>NaN</td>\n",
       "      <td>NaN</td>\n",
       "      <td>NaN</td>\n",
       "      <td>NaN</td>\n",
       "      <td>NaN</td>\n",
       "      <td>NaN</td>\n",
       "      <td>NaN</td>\n",
       "      <td>NaN</td>\n",
       "      <td>NaN</td>\n",
       "      <td>NaN</td>\n",
       "      <td>NaN</td>\n",
       "      <td>NaN</td>\n",
       "      <td>NaN</td>\n",
       "      <td>NaN</td>\n",
       "      <td>NaN</td>\n",
       "      <td>NaN</td>\n",
       "      <td>NaN</td>\n",
       "      <td>NaN</td>\n",
       "      <td>NaN</td>\n",
       "      <td>NaN</td>\n",
       "      <td>NaN</td>\n",
       "      <td>NaN</td>\n",
       "      <td>NaN</td>\n",
       "      <td>NaN</td>\n",
       "      <td>NaN</td>\n",
       "      <td>NaN</td>\n",
       "      <td>NaN</td>\n",
       "      <td>NaN</td>\n",
       "      <td>NaN</td>\n",
       "      <td>NaN</td>\n",
       "      <td>NaN</td>\n",
       "      <td>NaN</td>\n",
       "      <td>NaN</td>\n",
       "      <td>NaN</td>\n",
       "      <td>NaN</td>\n",
       "      <td>NaN</td>\n",
       "      <td>NaN</td>\n",
       "      <td>NaN</td>\n",
       "      <td>NaN</td>\n",
       "      <td>NaN</td>\n",
       "      <td>NaN</td>\n",
       "      <td>NaN</td>\n",
       "      <td>NaN</td>\n",
       "      <td>NaN</td>\n",
       "      <td>NaN</td>\n",
       "      <td>NaN</td>\n",
       "      <td>NaN</td>\n",
       "      <td>NaN</td>\n",
       "      <td>NaN</td>\n",
       "      <td>NaN</td>\n",
       "      <td>NaN</td>\n",
       "      <td>NaN</td>\n",
       "      <td>NaN</td>\n",
       "      <td>NaN</td>\n",
       "      <td>NaN</td>\n",
       "      <td>NaN</td>\n",
       "      <td>NaN</td>\n",
       "      <td>NaN</td>\n",
       "      <td>N</td>\n",
       "      <td>N</td>\n",
       "      <td>N</td>\n",
       "      <td>N</td>\n",
       "      <td>Y</td>\n",
       "      <td>NONE</td>\n",
       "      <td>MISSING</td>\n",
       "      <td>N</td>\n",
       "      <td>N</td>\n",
       "      <td>0</td>\n",
       "      <td>39362.25</td>\n",
       "      <td>39125.00</td>\n",
       "      <td>2.0</td>\n",
       "      <td>8.0</td>\n",
       "      <td>28171.0</td>\n",
       "      <td>2005.75</td>\n",
       "      <td>31261.0</td>\n",
       "      <td>3.0</td>\n",
       "      <td>2.0</td>\n",
       "      <td>16171.0</td>\n",
       "      <td>29064.00</td>\n",
       "      <td>16197.0</td>\n",
       "      <td>2.0</td>\n",
       "      <td>3.0</td>\n",
       "      <td>16171.0</td>\n",
       "      <td>8727.25</td>\n",
       "      <td>7180.00</td>\n",
       "      <td>2.0</td>\n",
       "      <td>3.0</td>\n",
       "      <td>4680.0</td>\n",
       "      <td>36375.75</td>\n",
       "      <td>31516.00</td>\n",
       "      <td>2.0</td>\n",
       "      <td>4.0</td>\n",
       "      <td>16516.0</td>\n",
       "      <td>28520.75</td>\n",
       "      <td>44980.00</td>\n",
       "      <td>5.0</td>\n",
       "      <td>3.0</td>\n",
       "      <td>16516.0</td>\n",
       "      <td>NaN</td>\n",
       "      <td>NaN</td>\n",
       "      <td>NaN</td>\n",
       "      <td>NO_NEFT_TXN</td>\n",
       "      <td>26515.0</td>\n",
       "      <td>1.0</td>\n",
       "      <td>NOT_RELEVANT</td>\n",
       "      <td>NaN</td>\n",
       "      <td>NaN</td>\n",
       "      <td>NO_TPT_TXN</td>\n",
       "      <td>NaN</td>\n",
       "      <td>NaN</td>\n",
       "      <td>NO_TPT_TXN</td>\n",
       "      <td>NaN</td>\n",
       "      <td>NaN</td>\n",
       "      <td>NO_IMPS_TXN</td>\n",
       "      <td>122001</td>\n",
       "      <td>NaN</td>\n",
       "      <td>NaN</td>\n",
       "      <td>NaN</td>\n",
       "      <td>NaN</td>\n",
       "      <td>NaN</td>\n",
       "      <td>NaN</td>\n",
       "      <td>NaN</td>\n",
       "      <td>NaN</td>\n",
       "      <td>NaN</td>\n",
       "      <td>NaN</td>\n",
       "      <td>NaN</td>\n",
       "      <td>NaN</td>\n",
       "      <td>NaN</td>\n",
       "      <td>NaN</td>\n",
       "      <td>NaN</td>\n",
       "      <td>NaN</td>\n",
       "      <td>NaN</td>\n",
       "      <td>NaN</td>\n",
       "      <td>NaN</td>\n",
       "      <td>NaN</td>\n",
       "      <td>NaN</td>\n",
       "      <td>NaN</td>\n",
       "      <td>NaN</td>\n",
       "      <td>NaN</td>\n",
       "      <td>NaN</td>\n",
       "      <td>NaN</td>\n",
       "      <td>NaN</td>\n",
       "      <td>NaN</td>\n",
       "      <td>NaN</td>\n",
       "      <td>NaN</td>\n",
       "      <td>NaN</td>\n",
       "      <td>NaN</td>\n",
       "      <td>NaN</td>\n",
       "      <td>NaN</td>\n",
       "      <td>NaN</td>\n",
       "      <td>N</td>\n",
       "      <td>N</td>\n",
       "      <td>N</td>\n",
       "      <td>N</td>\n",
       "      <td>N</td>\n",
       "      <td>N</td>\n",
       "      <td>N</td>\n",
       "      <td>N</td>\n",
       "      <td>N</td>\n",
       "      <td>N</td>\n",
       "      <td>0.0</td>\n",
       "      <td>0.0</td>\n",
       "      <td>0.0</td>\n",
       "      <td>NaN</td>\n",
       "      <td>NaN</td>\n",
       "      <td>NONE</td>\n",
       "      <td>9999.00</td>\n",
       "      <td>14858.75</td>\n",
       "      <td>Y</td>\n",
       "      <td>Y</td>\n",
       "      <td>NaN</td>\n",
       "      <td>NaN</td>\n",
       "      <td>NaN</td>\n",
       "      <td>NaN</td>\n",
       "      <td>NaN</td>\n",
       "      <td>NaN</td>\n",
       "      <td>0.000000</td>\n",
       "      <td>N</td>\n",
       "    </tr>\n",
       "    <tr>\n",
       "      <th>3</th>\n",
       "      <td>278651</td>\n",
       "      <td>CSA</td>\n",
       "      <td>M</td>\n",
       "      <td>INDIVIDUAL</td>\n",
       "      <td>SALARIED</td>\n",
       "      <td>28</td>\n",
       "      <td>65917.28</td>\n",
       "      <td>8270.28</td>\n",
       "      <td>NaN</td>\n",
       "      <td>NaN</td>\n",
       "      <td>Y</td>\n",
       "      <td>NaN</td>\n",
       "      <td>NaN</td>\n",
       "      <td>NaN</td>\n",
       "      <td>NaN</td>\n",
       "      <td>NaN</td>\n",
       "      <td>NaN</td>\n",
       "      <td>NaN</td>\n",
       "      <td>NaN</td>\n",
       "      <td>NaN</td>\n",
       "      <td>NaN</td>\n",
       "      <td>NaN</td>\n",
       "      <td>NaN</td>\n",
       "      <td>NaN</td>\n",
       "      <td>NaN</td>\n",
       "      <td>NaN</td>\n",
       "      <td>NaN</td>\n",
       "      <td>NaN</td>\n",
       "      <td>NaN</td>\n",
       "      <td>NaN</td>\n",
       "      <td>NaN</td>\n",
       "      <td>NaN</td>\n",
       "      <td>NaN</td>\n",
       "      <td>NaN</td>\n",
       "      <td>Y</td>\n",
       "      <td>Y</td>\n",
       "      <td>Y</td>\n",
       "      <td>Y</td>\n",
       "      <td>NaN</td>\n",
       "      <td>Y</td>\n",
       "      <td>Y</td>\n",
       "      <td>Y</td>\n",
       "      <td>Y</td>\n",
       "      <td>Y</td>\n",
       "      <td>Y</td>\n",
       "      <td>Y</td>\n",
       "      <td>Y</td>\n",
       "      <td>10960.0</td>\n",
       "      <td>795.0</td>\n",
       "      <td>NaN</td>\n",
       "      <td>6782.0</td>\n",
       "      <td>NaN</td>\n",
       "      <td>NaN</td>\n",
       "      <td>22713.22</td>\n",
       "      <td>5340.0</td>\n",
       "      <td>NaN</td>\n",
       "      <td>NaN</td>\n",
       "      <td>NaN</td>\n",
       "      <td>62000.0</td>\n",
       "      <td>6051.22</td>\n",
       "      <td>22681.82</td>\n",
       "      <td>0.00</td>\n",
       "      <td>1</td>\n",
       "      <td>NaN</td>\n",
       "      <td>NaN</td>\n",
       "      <td>NaN</td>\n",
       "      <td>NaN</td>\n",
       "      <td>NaN</td>\n",
       "      <td>NaN</td>\n",
       "      <td>NaN</td>\n",
       "      <td>NaN</td>\n",
       "      <td>NaN</td>\n",
       "      <td>NaN</td>\n",
       "      <td>NaN</td>\n",
       "      <td>NaN</td>\n",
       "      <td>NaN</td>\n",
       "      <td>NaN</td>\n",
       "      <td>NaN</td>\n",
       "      <td>NaN</td>\n",
       "      <td>NaN</td>\n",
       "      <td>NaN</td>\n",
       "      <td>NaN</td>\n",
       "      <td>NaN</td>\n",
       "      <td>NaN</td>\n",
       "      <td>NaN</td>\n",
       "      <td>NaN</td>\n",
       "      <td>Y</td>\n",
       "      <td>NaN</td>\n",
       "      <td>NaN</td>\n",
       "      <td>NaN</td>\n",
       "      <td>NaN</td>\n",
       "      <td>NaN</td>\n",
       "      <td>NaN</td>\n",
       "      <td>NaN</td>\n",
       "      <td>NaN</td>\n",
       "      <td>NaN</td>\n",
       "      <td>65917.28</td>\n",
       "      <td>113120.39</td>\n",
       "      <td>35560.81</td>\n",
       "      <td>42686.93</td>\n",
       "      <td>61593.38</td>\n",
       "      <td>1.0</td>\n",
       "      <td>1.0</td>\n",
       "      <td>1.0</td>\n",
       "      <td>NaN</td>\n",
       "      <td>NaN</td>\n",
       "      <td>NaN</td>\n",
       "      <td>NaN</td>\n",
       "      <td>NaN</td>\n",
       "      <td>NaN</td>\n",
       "      <td>NaN</td>\n",
       "      <td>NaN</td>\n",
       "      <td>NaN</td>\n",
       "      <td>NaN</td>\n",
       "      <td>NaN</td>\n",
       "      <td>NaN</td>\n",
       "      <td>3.0</td>\n",
       "      <td>10935.00</td>\n",
       "      <td>5.0</td>\n",
       "      <td>15.0</td>\n",
       "      <td>NaN</td>\n",
       "      <td>9.0</td>\n",
       "      <td>803.00</td>\n",
       "      <td>4.0</td>\n",
       "      <td>2.0</td>\n",
       "      <td>6.0</td>\n",
       "      <td>NaN</td>\n",
       "      <td>NaN</td>\n",
       "      <td>1531.0</td>\n",
       "      <td>2.0</td>\n",
       "      <td>9.0</td>\n",
       "      <td>12.0</td>\n",
       "      <td>NaN</td>\n",
       "      <td>NaN</td>\n",
       "      <td>1330.0</td>\n",
       "      <td>NaN</td>\n",
       "      <td>5340.0</td>\n",
       "      <td>NaN</td>\n",
       "      <td>NaN</td>\n",
       "      <td>NaN</td>\n",
       "      <td>NaN</td>\n",
       "      <td>NaN</td>\n",
       "      <td>NaN</td>\n",
       "      <td>NaN</td>\n",
       "      <td>NaN</td>\n",
       "      <td>NaN</td>\n",
       "      <td>NaN</td>\n",
       "      <td>2900.0</td>\n",
       "      <td>NaN</td>\n",
       "      <td>NaN</td>\n",
       "      <td>NaN</td>\n",
       "      <td>NaN</td>\n",
       "      <td>NaN</td>\n",
       "      <td>NaN</td>\n",
       "      <td>NaN</td>\n",
       "      <td>NaN</td>\n",
       "      <td>NaN</td>\n",
       "      <td>NaN</td>\n",
       "      <td>NaN</td>\n",
       "      <td>NaN</td>\n",
       "      <td>NaN</td>\n",
       "      <td>NaN</td>\n",
       "      <td>NaN</td>\n",
       "      <td>NaN</td>\n",
       "      <td>8790.0</td>\n",
       "      <td>NaN</td>\n",
       "      <td>NaN</td>\n",
       "      <td>NaN</td>\n",
       "      <td>NaN</td>\n",
       "      <td>NaN</td>\n",
       "      <td>NaN</td>\n",
       "      <td>NaN</td>\n",
       "      <td>NaN</td>\n",
       "      <td>NaN</td>\n",
       "      <td>NaN</td>\n",
       "      <td>NaN</td>\n",
       "      <td>NaN</td>\n",
       "      <td>NaN</td>\n",
       "      <td>NaN</td>\n",
       "      <td>NaN</td>\n",
       "      <td>NaN</td>\n",
       "      <td>NaN</td>\n",
       "      <td>NaN</td>\n",
       "      <td>NaN</td>\n",
       "      <td>NaN</td>\n",
       "      <td>NaN</td>\n",
       "      <td>NaN</td>\n",
       "      <td>NaN</td>\n",
       "      <td>NaN</td>\n",
       "      <td>NaN</td>\n",
       "      <td>NaN</td>\n",
       "      <td>NaN</td>\n",
       "      <td>NaN</td>\n",
       "      <td>NaN</td>\n",
       "      <td>NaN</td>\n",
       "      <td>NaN</td>\n",
       "      <td>NaN</td>\n",
       "      <td>NaN</td>\n",
       "      <td>NaN</td>\n",
       "      <td>NaN</td>\n",
       "      <td>NaN</td>\n",
       "      <td>NaN</td>\n",
       "      <td>NaN</td>\n",
       "      <td>NaN</td>\n",
       "      <td>NaN</td>\n",
       "      <td>NaN</td>\n",
       "      <td>NaN</td>\n",
       "      <td>NaN</td>\n",
       "      <td>NaN</td>\n",
       "      <td>NaN</td>\n",
       "      <td>NaN</td>\n",
       "      <td>NaN</td>\n",
       "      <td>NaN</td>\n",
       "      <td>Y</td>\n",
       "      <td>N</td>\n",
       "      <td>N</td>\n",
       "      <td>N</td>\n",
       "      <td>N</td>\n",
       "      <td>NONE</td>\n",
       "      <td>MISSING</td>\n",
       "      <td>N</td>\n",
       "      <td>N</td>\n",
       "      <td>0</td>\n",
       "      <td>128169.25</td>\n",
       "      <td>20152.03</td>\n",
       "      <td>2.0</td>\n",
       "      <td>20.0</td>\n",
       "      <td>19840.0</td>\n",
       "      <td>52325.00</td>\n",
       "      <td>19840.0</td>\n",
       "      <td>1.0</td>\n",
       "      <td>8.0</td>\n",
       "      <td>19840.0</td>\n",
       "      <td>69002.00</td>\n",
       "      <td>21526.0</td>\n",
       "      <td>2.0</td>\n",
       "      <td>9.0</td>\n",
       "      <td>19840.0</td>\n",
       "      <td>75750.25</td>\n",
       "      <td>19605.00</td>\n",
       "      <td>1.0</td>\n",
       "      <td>18.0</td>\n",
       "      <td>19605.0</td>\n",
       "      <td>37712.17</td>\n",
       "      <td>15200.00</td>\n",
       "      <td>1.0</td>\n",
       "      <td>17.0</td>\n",
       "      <td>15200.0</td>\n",
       "      <td>47158.82</td>\n",
       "      <td>85913.00</td>\n",
       "      <td>4.0</td>\n",
       "      <td>11.0</td>\n",
       "      <td>46500.0</td>\n",
       "      <td>NaN</td>\n",
       "      <td>NaN</td>\n",
       "      <td>NaN</td>\n",
       "      <td>NO_NEFT_TXN</td>\n",
       "      <td>NaN</td>\n",
       "      <td>NaN</td>\n",
       "      <td>NO_NEFT_TXN</td>\n",
       "      <td>NaN</td>\n",
       "      <td>NaN</td>\n",
       "      <td>NO_TPT_TXN</td>\n",
       "      <td>NaN</td>\n",
       "      <td>NaN</td>\n",
       "      <td>NO_TPT_TXN</td>\n",
       "      <td>NaN</td>\n",
       "      <td>NaN</td>\n",
       "      <td>NO_IMPS_TXN</td>\n",
       "      <td>311408.0</td>\n",
       "      <td>NaN</td>\n",
       "      <td>NaN</td>\n",
       "      <td>NaN</td>\n",
       "      <td>NaN</td>\n",
       "      <td>NaN</td>\n",
       "      <td>NaN</td>\n",
       "      <td>NaN</td>\n",
       "      <td>NaN</td>\n",
       "      <td>NaN</td>\n",
       "      <td>NaN</td>\n",
       "      <td>NaN</td>\n",
       "      <td>NaN</td>\n",
       "      <td>NaN</td>\n",
       "      <td>NaN</td>\n",
       "      <td>NaN</td>\n",
       "      <td>NaN</td>\n",
       "      <td>NaN</td>\n",
       "      <td>NaN</td>\n",
       "      <td>NaN</td>\n",
       "      <td>NaN</td>\n",
       "      <td>NaN</td>\n",
       "      <td>NaN</td>\n",
       "      <td>NaN</td>\n",
       "      <td>NaN</td>\n",
       "      <td>0.247852</td>\n",
       "      <td>NaN</td>\n",
       "      <td>NaN</td>\n",
       "      <td>2558.0</td>\n",
       "      <td>NaN</td>\n",
       "      <td>NaN</td>\n",
       "      <td>NaN</td>\n",
       "      <td>NaN</td>\n",
       "      <td>8200.0</td>\n",
       "      <td>NaN</td>\n",
       "      <td>NaN</td>\n",
       "      <td>N</td>\n",
       "      <td>N</td>\n",
       "      <td>Y</td>\n",
       "      <td>N</td>\n",
       "      <td>N</td>\n",
       "      <td>Y</td>\n",
       "      <td>N</td>\n",
       "      <td>Y</td>\n",
       "      <td>Y</td>\n",
       "      <td>N</td>\n",
       "      <td>38952.0</td>\n",
       "      <td>15200.0</td>\n",
       "      <td>19605.0</td>\n",
       "      <td>NaN</td>\n",
       "      <td>NaN</td>\n",
       "      <td>NONE</td>\n",
       "      <td>27163.10</td>\n",
       "      <td>49675.27</td>\n",
       "      <td>Y</td>\n",
       "      <td>Y</td>\n",
       "      <td>NaN</td>\n",
       "      <td>NaN</td>\n",
       "      <td>NaN</td>\n",
       "      <td>NaN</td>\n",
       "      <td>NaN</td>\n",
       "      <td>NaN</td>\n",
       "      <td>0.000000</td>\n",
       "      <td>N</td>\n",
       "    </tr>\n",
       "    <tr>\n",
       "      <th>4</th>\n",
       "      <td>23637</td>\n",
       "      <td>CSA</td>\n",
       "      <td>M</td>\n",
       "      <td>INDIVIDUAL</td>\n",
       "      <td>SALARIED</td>\n",
       "      <td>34</td>\n",
       "      <td>22260.94</td>\n",
       "      <td>6060.94</td>\n",
       "      <td>NaN</td>\n",
       "      <td>NaN</td>\n",
       "      <td>NaN</td>\n",
       "      <td>NaN</td>\n",
       "      <td>NaN</td>\n",
       "      <td>NaN</td>\n",
       "      <td>NaN</td>\n",
       "      <td>NaN</td>\n",
       "      <td>NaN</td>\n",
       "      <td>NaN</td>\n",
       "      <td>NaN</td>\n",
       "      <td>NaN</td>\n",
       "      <td>NaN</td>\n",
       "      <td>NaN</td>\n",
       "      <td>NaN</td>\n",
       "      <td>NaN</td>\n",
       "      <td>NaN</td>\n",
       "      <td>NaN</td>\n",
       "      <td>NaN</td>\n",
       "      <td>NaN</td>\n",
       "      <td>NaN</td>\n",
       "      <td>NaN</td>\n",
       "      <td>NaN</td>\n",
       "      <td>NaN</td>\n",
       "      <td>NaN</td>\n",
       "      <td>NaN</td>\n",
       "      <td>Y</td>\n",
       "      <td>Y</td>\n",
       "      <td>Y</td>\n",
       "      <td>Y</td>\n",
       "      <td>Y</td>\n",
       "      <td>Y</td>\n",
       "      <td>Y</td>\n",
       "      <td>Y</td>\n",
       "      <td>Y</td>\n",
       "      <td>NaN</td>\n",
       "      <td>NaN</td>\n",
       "      <td>NaN</td>\n",
       "      <td>N</td>\n",
       "      <td>NaN</td>\n",
       "      <td>NaN</td>\n",
       "      <td>NaN</td>\n",
       "      <td>1199.0</td>\n",
       "      <td>NaN</td>\n",
       "      <td>NaN</td>\n",
       "      <td>NaN</td>\n",
       "      <td>NaN</td>\n",
       "      <td>NaN</td>\n",
       "      <td>NaN</td>\n",
       "      <td>NaN</td>\n",
       "      <td>88000.0</td>\n",
       "      <td>15660.04</td>\n",
       "      <td>21246.48</td>\n",
       "      <td>16483.54</td>\n",
       "      <td>0</td>\n",
       "      <td>NaN</td>\n",
       "      <td>NaN</td>\n",
       "      <td>NaN</td>\n",
       "      <td>NaN</td>\n",
       "      <td>NaN</td>\n",
       "      <td>NaN</td>\n",
       "      <td>NaN</td>\n",
       "      <td>NaN</td>\n",
       "      <td>NaN</td>\n",
       "      <td>NaN</td>\n",
       "      <td>NaN</td>\n",
       "      <td>NaN</td>\n",
       "      <td>NaN</td>\n",
       "      <td>NaN</td>\n",
       "      <td>NaN</td>\n",
       "      <td>NaN</td>\n",
       "      <td>NaN</td>\n",
       "      <td>NaN</td>\n",
       "      <td>NaN</td>\n",
       "      <td>NaN</td>\n",
       "      <td>NaN</td>\n",
       "      <td>NaN</td>\n",
       "      <td>NaN</td>\n",
       "      <td>Y</td>\n",
       "      <td>NaN</td>\n",
       "      <td>Y</td>\n",
       "      <td>NaN</td>\n",
       "      <td>NaN</td>\n",
       "      <td>NaN</td>\n",
       "      <td>Y</td>\n",
       "      <td>Y</td>\n",
       "      <td>NaN</td>\n",
       "      <td>Y</td>\n",
       "      <td>6172.94</td>\n",
       "      <td>9099.94</td>\n",
       "      <td>15858.71</td>\n",
       "      <td>14008.08</td>\n",
       "      <td>4570.73</td>\n",
       "      <td>1.0</td>\n",
       "      <td>NaN</td>\n",
       "      <td>1.0</td>\n",
       "      <td>NaN</td>\n",
       "      <td>NaN</td>\n",
       "      <td>NaN</td>\n",
       "      <td>NaN</td>\n",
       "      <td>NaN</td>\n",
       "      <td>NaN</td>\n",
       "      <td>NaN</td>\n",
       "      <td>NaN</td>\n",
       "      <td>NaN</td>\n",
       "      <td>NaN</td>\n",
       "      <td>NaN</td>\n",
       "      <td>NaN</td>\n",
       "      <td>11.0</td>\n",
       "      <td>15094.78</td>\n",
       "      <td>21.0</td>\n",
       "      <td>16.0</td>\n",
       "      <td>7.0</td>\n",
       "      <td>16.0</td>\n",
       "      <td>8333.35</td>\n",
       "      <td>13.0</td>\n",
       "      <td>NaN</td>\n",
       "      <td>NaN</td>\n",
       "      <td>NaN</td>\n",
       "      <td>NaN</td>\n",
       "      <td>380.0</td>\n",
       "      <td>1.0</td>\n",
       "      <td>NaN</td>\n",
       "      <td>NaN</td>\n",
       "      <td>NaN</td>\n",
       "      <td>NaN</td>\n",
       "      <td>NaN</td>\n",
       "      <td>NaN</td>\n",
       "      <td>NaN</td>\n",
       "      <td>NaN</td>\n",
       "      <td>NaN</td>\n",
       "      <td>NaN</td>\n",
       "      <td>NaN</td>\n",
       "      <td>NaN</td>\n",
       "      <td>NaN</td>\n",
       "      <td>NaN</td>\n",
       "      <td>NaN</td>\n",
       "      <td>NaN</td>\n",
       "      <td>NaN</td>\n",
       "      <td>NaN</td>\n",
       "      <td>NaN</td>\n",
       "      <td>NaN</td>\n",
       "      <td>NaN</td>\n",
       "      <td>NaN</td>\n",
       "      <td>NaN</td>\n",
       "      <td>NaN</td>\n",
       "      <td>NaN</td>\n",
       "      <td>NaN</td>\n",
       "      <td>NaN</td>\n",
       "      <td>NaN</td>\n",
       "      <td>NaN</td>\n",
       "      <td>NaN</td>\n",
       "      <td>NaN</td>\n",
       "      <td>NaN</td>\n",
       "      <td>NaN</td>\n",
       "      <td>NaN</td>\n",
       "      <td>NaN</td>\n",
       "      <td>NaN</td>\n",
       "      <td>NaN</td>\n",
       "      <td>NaN</td>\n",
       "      <td>NaN</td>\n",
       "      <td>NaN</td>\n",
       "      <td>NaN</td>\n",
       "      <td>NaN</td>\n",
       "      <td>NaN</td>\n",
       "      <td>NaN</td>\n",
       "      <td>NaN</td>\n",
       "      <td>NaN</td>\n",
       "      <td>NaN</td>\n",
       "      <td>NaN</td>\n",
       "      <td>NaN</td>\n",
       "      <td>380.0</td>\n",
       "      <td>NaN</td>\n",
       "      <td>NaN</td>\n",
       "      <td>NaN</td>\n",
       "      <td>NaN</td>\n",
       "      <td>NaN</td>\n",
       "      <td>NaN</td>\n",
       "      <td>1199.0</td>\n",
       "      <td>NaN</td>\n",
       "      <td>NaN</td>\n",
       "      <td>NaN</td>\n",
       "      <td>NaN</td>\n",
       "      <td>NaN</td>\n",
       "      <td>NaN</td>\n",
       "      <td>NaN</td>\n",
       "      <td>7776.0</td>\n",
       "      <td>NaN</td>\n",
       "      <td>NaN</td>\n",
       "      <td>NaN</td>\n",
       "      <td>NaN</td>\n",
       "      <td>NaN</td>\n",
       "      <td>NaN</td>\n",
       "      <td>NaN</td>\n",
       "      <td>NaN</td>\n",
       "      <td>NaN</td>\n",
       "      <td>NaN</td>\n",
       "      <td>NaN</td>\n",
       "      <td>NaN</td>\n",
       "      <td>NaN</td>\n",
       "      <td>NaN</td>\n",
       "      <td>NaN</td>\n",
       "      <td>NaN</td>\n",
       "      <td>NaN</td>\n",
       "      <td>NaN</td>\n",
       "      <td>N</td>\n",
       "      <td>N</td>\n",
       "      <td>N</td>\n",
       "      <td>N</td>\n",
       "      <td>N</td>\n",
       "      <td>NONE</td>\n",
       "      <td>ENGINEER</td>\n",
       "      <td>N</td>\n",
       "      <td>N</td>\n",
       "      <td>0</td>\n",
       "      <td>18668.96</td>\n",
       "      <td>24565.91</td>\n",
       "      <td>4.0</td>\n",
       "      <td>7.0</td>\n",
       "      <td>14000.0</td>\n",
       "      <td>26931.60</td>\n",
       "      <td>29500.0</td>\n",
       "      <td>3.0</td>\n",
       "      <td>7.0</td>\n",
       "      <td>21500.0</td>\n",
       "      <td>13700.00</td>\n",
       "      <td>9264.0</td>\n",
       "      <td>4.0</td>\n",
       "      <td>1.0</td>\n",
       "      <td>5000.0</td>\n",
       "      <td>9817.25</td>\n",
       "      <td>6532.79</td>\n",
       "      <td>4.0</td>\n",
       "      <td>3.0</td>\n",
       "      <td>3580.0</td>\n",
       "      <td>37936.00</td>\n",
       "      <td>58018.00</td>\n",
       "      <td>4.0</td>\n",
       "      <td>5.0</td>\n",
       "      <td>29000.0</td>\n",
       "      <td>16200.00</td>\n",
       "      <td>1307.07</td>\n",
       "      <td>4.0</td>\n",
       "      <td>1.0</td>\n",
       "      <td>690.0</td>\n",
       "      <td>PQ_WITH_INCOME_20K</td>\n",
       "      <td>NaN</td>\n",
       "      <td>NaN</td>\n",
       "      <td>NO_NEFT_TXN</td>\n",
       "      <td>NaN</td>\n",
       "      <td>NaN</td>\n",
       "      <td>NO_NEFT_TXN</td>\n",
       "      <td>NaN</td>\n",
       "      <td>NaN</td>\n",
       "      <td>NO_TPT_TXN</td>\n",
       "      <td>NaN</td>\n",
       "      <td>NaN</td>\n",
       "      <td>NO_TPT_TXN</td>\n",
       "      <td>200.0</td>\n",
       "      <td>1.0</td>\n",
       "      <td>NOT_RELEVANT</td>\n",
       "      <td>122015</td>\n",
       "      <td>NaN</td>\n",
       "      <td>NaN</td>\n",
       "      <td>NaN</td>\n",
       "      <td>NaN</td>\n",
       "      <td>NaN</td>\n",
       "      <td>NaN</td>\n",
       "      <td>NaN</td>\n",
       "      <td>NaN</td>\n",
       "      <td>NaN</td>\n",
       "      <td>NaN</td>\n",
       "      <td>NaN</td>\n",
       "      <td>NaN</td>\n",
       "      <td>NaN</td>\n",
       "      <td>NaN</td>\n",
       "      <td>NaN</td>\n",
       "      <td>NaN</td>\n",
       "      <td>NaN</td>\n",
       "      <td>NaN</td>\n",
       "      <td>NaN</td>\n",
       "      <td>NaN</td>\n",
       "      <td>NaN</td>\n",
       "      <td>NaN</td>\n",
       "      <td>NaN</td>\n",
       "      <td>NaN</td>\n",
       "      <td>NaN</td>\n",
       "      <td>NaN</td>\n",
       "      <td>NaN</td>\n",
       "      <td>NaN</td>\n",
       "      <td>NaN</td>\n",
       "      <td>NaN</td>\n",
       "      <td>NaN</td>\n",
       "      <td>NaN</td>\n",
       "      <td>NaN</td>\n",
       "      <td>NaN</td>\n",
       "      <td>NaN</td>\n",
       "      <td>N</td>\n",
       "      <td>N</td>\n",
       "      <td>N</td>\n",
       "      <td>N</td>\n",
       "      <td>N</td>\n",
       "      <td>N</td>\n",
       "      <td>N</td>\n",
       "      <td>N</td>\n",
       "      <td>Y</td>\n",
       "      <td>N</td>\n",
       "      <td>0.0</td>\n",
       "      <td>0.0</td>\n",
       "      <td>0.0</td>\n",
       "      <td>NaN</td>\n",
       "      <td>NaN</td>\n",
       "      <td>NONE</td>\n",
       "      <td>21065.87</td>\n",
       "      <td>983.87</td>\n",
       "      <td>Y</td>\n",
       "      <td>Y</td>\n",
       "      <td>NaN</td>\n",
       "      <td>NaN</td>\n",
       "      <td>NaN</td>\n",
       "      <td>NaN</td>\n",
       "      <td>NaN</td>\n",
       "      <td>NaN</td>\n",
       "      <td>251.758794</td>\n",
       "      <td>N</td>\n",
       "    </tr>\n",
       "  </tbody>\n",
       "</table>\n",
       "</div>"
      ],
      "text/plain": [
       "   CUSTOMER_ID ACT_TYPE GENDER LEGAL_ENTITY OCCUP_ALL_NEW  AGE  \\\n",
       "0       385793      CSA      M   INDIVIDUAL      SALARIED   21   \n",
       "1       286891      CSA      M   INDIVIDUAL      SALARIED   23   \n",
       "2       108751      CSA      M   INDIVIDUAL      SALARIED   41   \n",
       "3       278651      CSA      M   INDIVIDUAL      SALARIED   28   \n",
       "4        23637      CSA      M   INDIVIDUAL      SALARIED   34   \n",
       "\n",
       "   N_CASA_MAX_BALANCE_MTD  N_CASA_MIN_BALANCE_MTD BL_TAG TWL_TAG PL_TAG  \\\n",
       "0                    0.00                    0.00    NaN     NaN    NaN   \n",
       "1                 8243.77                    7.77    NaN     NaN    NaN   \n",
       "2                26515.00                    0.00    NaN     NaN    NaN   \n",
       "3                65917.28                 8270.28    NaN     NaN      Y   \n",
       "4                22260.94                 6060.94    NaN     NaN    NaN   \n",
       "\n",
       "  AL_CNC_TAG AGRI_TAG CE_TAG CV_TAG EDU_TAG TL_TAG OTHER_LOANS_TAG LAP_TAG  \\\n",
       "0        NaN      NaN    NaN    NaN     NaN    NaN             NaN     NaN   \n",
       "1        NaN      NaN    NaN    NaN     NaN    NaN             NaN     NaN   \n",
       "2        NaN      NaN    NaN    NaN     NaN    NaN             NaN     NaN   \n",
       "3        NaN      NaN    NaN    NaN     NaN    NaN             NaN     NaN   \n",
       "4        NaN      NaN    NaN    NaN     NaN    NaN             NaN     NaN   \n",
       "\n",
       "  LAS_TAG  EEG_TAG BBG_TAG HL_TAG GL_TAG AL_CLOSED PL_CLOSED BL_CLOSED  \\\n",
       "0     NaN      NaN     NaN    NaN    NaN       NaN       NaN       NaN   \n",
       "1     NaN      NaN     NaN    NaN    NaN       NaN       NaN       NaN   \n",
       "2     NaN      NaN     NaN    NaN    NaN       NaN       NaN       NaN   \n",
       "3     NaN      NaN     NaN    NaN    NaN       NaN       NaN       NaN   \n",
       "4     NaN      NaN     NaN    NaN    NaN       NaN       NaN       NaN   \n",
       "\n",
       "  TWL_CLOSED CV_CLOSED LAP_CLOSED LAS_CLOSED  EEG_CLOSED BBG_CLOSED GL_CLOSED  \\\n",
       "0        NaN       NaN        NaN        NaN         NaN        NaN       NaN   \n",
       "1        NaN       NaN        NaN        NaN         NaN        NaN       NaN   \n",
       "2        NaN       NaN        NaN        NaN         NaN        NaN       NaN   \n",
       "3        NaN       NaN        NaN        NaN         NaN        NaN       NaN   \n",
       "4        NaN       NaN        NaN        NaN         NaN        NaN       NaN   \n",
       "\n",
       "  CC_HOLD_MON_03 CC_HOLD_MON_02 CC_HOLD_MON_01 CC_ACTIVE_MON_03  \\\n",
       "0            NaN            NaN            NaN              NaN   \n",
       "1            NaN            NaN            NaN              NaN   \n",
       "2            NaN            NaN            NaN              NaN   \n",
       "3              Y              Y              Y                Y   \n",
       "4              Y              Y              Y                Y   \n",
       "\n",
       "  CC_ACTIVE_MON_02 CC_ACTIVE_MON_01 CC_HOLD CC_ACTIVE DC_HOLD  \\\n",
       "0              NaN              NaN       N         N       Y   \n",
       "1              NaN              NaN       N         N       Y   \n",
       "2              NaN              NaN       N         N       Y   \n",
       "3              NaN                Y       Y         Y       Y   \n",
       "4                Y                Y       Y         Y       Y   \n",
       "\n",
       "  DC_ACTIVE_MON_03 DC_ACTIVE_MON_02 DC_ACTIVE_MON_01 DC_ACTIVE  \\\n",
       "0              NaN              NaN              NaN         N   \n",
       "1                Y                Y                Y         Y   \n",
       "2              NaN              NaN              NaN         N   \n",
       "3                Y                Y                Y         Y   \n",
       "4              NaN              NaN              NaN         N   \n",
       "\n",
       "   DC_SPEND_MON_03  DC_SPEND_MON_02  DC_SPEND_MON_01  CC_SPEND_MON_04  \\\n",
       "0              NaN              NaN              NaN              NaN   \n",
       "1              NaN              NaN              NaN              NaN   \n",
       "2              NaN              NaN              NaN              NaN   \n",
       "3          10960.0            795.0              NaN           6782.0   \n",
       "4              NaN              NaN              NaN           1199.0   \n",
       "\n",
       "   CC_SPEND_MON_01  CC_SPEND_MON_02  CC_SPEND_MON_03  DC_SPEND_MON_04  \\\n",
       "0              NaN              NaN              NaN              NaN   \n",
       "1              NaN              NaN              NaN              NaN   \n",
       "2              NaN              NaN              NaN              NaN   \n",
       "3              NaN              NaN         22713.22           5340.0   \n",
       "4              NaN              NaN              NaN              NaN   \n",
       "\n",
       "   PM_FD_MON_01  PM_FD_MON_02  PM_FD_MON_04  CR_LIMIT  STMT_MON_03  \\\n",
       "0           NaN           NaN           NaN       NaN          NaN   \n",
       "1           NaN           NaN           NaN       NaN          NaN   \n",
       "2           NaN           NaN           NaN       NaN          NaN   \n",
       "3           NaN           NaN           NaN   62000.0      6051.22   \n",
       "4           NaN           NaN           NaN   88000.0     15660.04   \n",
       "\n",
       "   STMT_MON_02  STMT_MON_01  COC_ELIGIBLE  LAP_SCRUB_LIVE  LAS_SCRUB_LIVE  \\\n",
       "0          NaN          NaN             0             NaN             NaN   \n",
       "1          NaN          NaN             0             NaN             NaN   \n",
       "2          NaN          NaN             0             NaN             NaN   \n",
       "3     22681.82         0.00             1             NaN             NaN   \n",
       "4     21246.48     16483.54             0             NaN             NaN   \n",
       "\n",
       "   PL_SCRUB_LIVE  GL_SCRUB_LIVE  TWL_SCRUB_LIVE  BL_SCRUB_LIVE  \\\n",
       "0            NaN            NaN             NaN            NaN   \n",
       "1            NaN            NaN             NaN            NaN   \n",
       "2            NaN            NaN             NaN            NaN   \n",
       "3            NaN            NaN             NaN            NaN   \n",
       "4            NaN            NaN             NaN            NaN   \n",
       "\n",
       "   CEL_SCRUB_LIVE  TL_SCRUB_LIVE  AL_SCRUB_LIVE  LAP_SCRUB_CLOSED  \\\n",
       "0             NaN            NaN            NaN               NaN   \n",
       "1             NaN            NaN            1.0               NaN   \n",
       "2             NaN            NaN            NaN               NaN   \n",
       "3             NaN            NaN            NaN               NaN   \n",
       "4             NaN            NaN            NaN               NaN   \n",
       "\n",
       "   LAS_SCRUB_CLOSED  PL_SCRUB_CLOSED  GL_SCRUB_CLOSED  TWL_SCRUB_CLOSED  \\\n",
       "0               NaN              NaN              NaN               NaN   \n",
       "1               NaN              NaN              NaN               NaN   \n",
       "2               NaN              NaN              NaN               NaN   \n",
       "3               NaN              NaN              NaN               NaN   \n",
       "4               NaN              NaN              NaN               NaN   \n",
       "\n",
       "   BL_SCRUB_CLOSED  CEL_SCRUB_CLOSED  TL_SCRUB_CLOSED  AL_SCRUB_CLOSED  \\\n",
       "0              NaN               NaN              NaN              NaN   \n",
       "1              NaN               NaN              NaN              NaN   \n",
       "2              NaN               NaN              NaN              NaN   \n",
       "3              NaN               NaN              NaN              NaN   \n",
       "4              NaN               NaN              NaN              NaN   \n",
       "\n",
       "  MATURITY_GL MATURITY_LAP MATURITY_LAS  STMT_CON_DAE_ACTIVE_MON_01  \\\n",
       "0         NaN          NaN          NaN                         NaN   \n",
       "1         NaN          NaN          NaN                         NaN   \n",
       "2         NaN          NaN          NaN                         NaN   \n",
       "3         NaN          NaN          NaN                         NaN   \n",
       "4         NaN          NaN          NaN                         NaN   \n",
       "\n",
       "  BTE_ACTIVE_MON_01 COC_ACTIVE_MON_01 PL2CC_ACTIVE_MON_01  \\\n",
       "0               NaN               NaN                 NaN   \n",
       "1               NaN               NaN                 NaN   \n",
       "2               NaN               NaN                 NaN   \n",
       "3               NaN                 Y                 NaN   \n",
       "4               NaN                 Y                 NaN   \n",
       "\n",
       "  MER_EMI_ACTIVE_MON_01 TRN_CON_DAE_ACTIVE_MON_01  STMT_CON_DAE_CLOSED_MON_01  \\\n",
       "0                   NaN                       NaN                         NaN   \n",
       "1                   NaN                       NaN                         NaN   \n",
       "2                   NaN                       NaN                         NaN   \n",
       "3                   NaN                       NaN                         NaN   \n",
       "4                     Y                       NaN                         NaN   \n",
       "\n",
       "  BTE_CLOSED_MON_01 COC_CLOSED_MON_01 PL2CC_CLOSED_MON_01  \\\n",
       "0               NaN               NaN                 NaN   \n",
       "1               NaN               NaN                 NaN   \n",
       "2               NaN               NaN                 NaN   \n",
       "3               NaN               NaN                 NaN   \n",
       "4               NaN                 Y                   Y   \n",
       "\n",
       "   MER_EMI_CLOSED_MON_01 TRN_CON_DAE_CLOSED_MON_01  EOP_BAL_MON_01  \\\n",
       "0                    NaN                       NaN            0.00   \n",
       "1                    NaN                       NaN           11.77   \n",
       "2                    NaN                       NaN        26458.25   \n",
       "3                    NaN                       NaN        65917.28   \n",
       "4                    NaN                         Y         6172.94   \n",
       "\n",
       "   AMB_MON_04  AMB_MON_01  AMB_MON_02  AMB_MON_03  NB_MON_01_CNT  \\\n",
       "0        0.00        0.00        0.00        0.00            NaN   \n",
       "1     1417.26      300.51      593.06      418.09            NaN   \n",
       "2     5354.65     6100.73     7955.82    11138.53            1.0   \n",
       "3   113120.39    35560.81    42686.93    61593.38            1.0   \n",
       "4     9099.94    15858.71    14008.08     4570.73            1.0   \n",
       "\n",
       "   NB_MON_02_CNT  NB_MON_03_CNT  CDMAT_MON_01  CDMAT_MON_04  MF_MON_04  \\\n",
       "0            NaN            NaN           NaN           NaN        NaN   \n",
       "1            NaN            NaN           NaN           NaN        NaN   \n",
       "2            1.0            NaN           NaN           NaN        NaN   \n",
       "3            1.0            1.0           NaN           NaN        NaN   \n",
       "4            NaN            1.0           NaN           NaN        NaN   \n",
       "\n",
       "   MF_MON_01  RD_MON_04  RD_MON_01  FD_MON_04  FD_MON_01  LI_MON_04  \\\n",
       "0        NaN        NaN        NaN        NaN        NaN        NaN   \n",
       "1        NaN        NaN        NaN        NaN        NaN        NaN   \n",
       "2        NaN        NaN        NaN        NaN        NaN        NaN   \n",
       "3        NaN        NaN        NaN        NaN        NaN        NaN   \n",
       "4        NaN        NaN        NaN        NaN        NaN        NaN   \n",
       "\n",
       "   LI_MON_01  GI_MON_04  GI_MON_01  CC_TXN_MON_01  CC_SPEND_MON_06  \\\n",
       "0        NaN        NaN        NaN            NaN              NaN   \n",
       "1        NaN        NaN        NaN            NaN              NaN   \n",
       "2        NaN        NaN        NaN            NaN              NaN   \n",
       "3        NaN        NaN        NaN            3.0         10935.00   \n",
       "4        NaN        NaN        NaN           11.0         15094.78   \n",
       "\n",
       "   CC_TXN_MON_06  CC_TXN_MON_03  CC_TXN_MON_02  CC_TXN_MON_04  \\\n",
       "0            NaN            NaN            NaN            NaN   \n",
       "1            NaN            NaN            NaN            NaN   \n",
       "2            NaN            NaN            NaN            NaN   \n",
       "3            5.0           15.0            NaN            9.0   \n",
       "4           21.0           16.0            7.0           16.0   \n",
       "\n",
       "   CC_SPEND_MON_05  CC_TXN_MON_05  DC_TXN_MON_04  DC_TXN_MON_01  \\\n",
       "0              NaN            NaN            NaN            NaN   \n",
       "1              NaN            NaN            8.0            5.0   \n",
       "2              NaN            NaN            2.0            NaN   \n",
       "3           803.00            4.0            2.0            6.0   \n",
       "4          8333.35           13.0            NaN            NaN   \n",
       "\n",
       "   DC_SPEND_MON_06  DC_TXN_MON_06  DC_SPEND_MON_05  DC_TXN_MON_05  \\\n",
       "0              NaN            NaN              NaN            NaN   \n",
       "1            504.0            7.0            631.0           13.0   \n",
       "2              NaN            NaN              NaN            NaN   \n",
       "3              NaN            NaN           1531.0            2.0   \n",
       "4              NaN            NaN            380.0            1.0   \n",
       "\n",
       "   DC_TXN_MON_03  DC_TXN_MON_02  DC_SPEND_MON_04_ENT  DC_SPEND_MON_04_MED  \\\n",
       "0            NaN            NaN                  NaN                  NaN   \n",
       "1           12.0            1.0                  NaN                  NaN   \n",
       "2            NaN            NaN                  NaN                  NaN   \n",
       "3            9.0           12.0                  NaN                  NaN   \n",
       "4            NaN            NaN                  NaN                  NaN   \n",
       "\n",
       "   DC_SPEND_MON_04_GRC  DC_SPEND_MON_04_HMD  DC_SPEND_MON_04_HBY  \\\n",
       "0                  NaN                  NaN                  NaN   \n",
       "1                  NaN                  NaN                  NaN   \n",
       "2                  NaN                  NaN                  NaN   \n",
       "3               1330.0                  NaN               5340.0   \n",
       "4                  NaN                  NaN                  NaN   \n",
       "\n",
       "   DC_SPEND_MON_04_CARE  DC_SPEND_MON_04_TRL  DC_SPEND_MON_04_RST  \\\n",
       "0                   NaN                  NaN                  NaN   \n",
       "1                   NaN                  NaN                  NaN   \n",
       "2                   NaN                  NaN                  NaN   \n",
       "3                   NaN                  NaN                  NaN   \n",
       "4                   NaN                  NaN                  NaN   \n",
       "\n",
       "   DC_SPEND_MON_04_JER  DC_SPEND_MON_04_HTL  DC_SPEND_MON_04_ATM  \\\n",
       "0                  NaN                  NaN                  NaN   \n",
       "1                  NaN                  NaN                  NaN   \n",
       "2                  NaN                  NaN                  NaN   \n",
       "3                  NaN                  NaN                  NaN   \n",
       "4                  NaN                  NaN                  NaN   \n",
       "\n",
       "   DC_SPEND_MON_03_ENT  DC_SPEND_MON_03_MED  DC_SPEND_MON_03_HMD  \\\n",
       "0                  NaN                  NaN                  NaN   \n",
       "1                  NaN                  NaN                  NaN   \n",
       "2                  NaN                  NaN                  NaN   \n",
       "3                  NaN                  NaN                  NaN   \n",
       "4                  NaN                  NaN                  NaN   \n",
       "\n",
       "   DC_SPEND_MON_03_HBY  DC_SPEND_MON_03_CARE  DC_SPEND_MON_03_TRL  \\\n",
       "0                  NaN                   NaN                  NaN   \n",
       "1                  NaN                   NaN                  NaN   \n",
       "2                  NaN                   NaN                  NaN   \n",
       "3                  NaN                2900.0                  NaN   \n",
       "4                  NaN                   NaN                  NaN   \n",
       "\n",
       "   DC_SPEND_MON_03_RST  DC_SPEND_MON_03_JER  DC_SPEND_MON_03_HTL  \\\n",
       "0                  NaN                  NaN                  NaN   \n",
       "1                  NaN                  NaN                  NaN   \n",
       "2                  NaN                  NaN                  NaN   \n",
       "3                  NaN                  NaN                  NaN   \n",
       "4                  NaN                  NaN                  NaN   \n",
       "\n",
       "   DC_SPEND_MON_03_ATM  DC_SPEND_MON_02_ENT  DC_SPEND_MON_02_MED  \\\n",
       "0                  NaN                  NaN                  NaN   \n",
       "1                  NaN                  NaN                  NaN   \n",
       "2                  NaN                  NaN                  NaN   \n",
       "3                  NaN                  NaN                  NaN   \n",
       "4                  NaN                  NaN                  NaN   \n",
       "\n",
       "   DC_SPEND_MON_02_HMD  DC_SPEND_MON_02_HBY  DC_SPEND_MON_02_CARE  \\\n",
       "0                  NaN                  NaN                   NaN   \n",
       "1                  NaN                  NaN                   NaN   \n",
       "2                  NaN                  NaN                   NaN   \n",
       "3                  NaN                  NaN                   NaN   \n",
       "4                  NaN                  NaN                   NaN   \n",
       "\n",
       "   DC_SPEND_MON_02_TRL  DC_SPEND_MON_02_RST  DC_SPEND_MON_02_JER  \\\n",
       "0                  NaN                  NaN                  NaN   \n",
       "1                  NaN                  NaN                  NaN   \n",
       "2                  NaN                  NaN                  NaN   \n",
       "3                  NaN                  NaN                  NaN   \n",
       "4                  NaN                  NaN                  NaN   \n",
       "\n",
       "   DC_SPEND_MON_02_HTL  DC_SPEND_MON_02_ATM  DC_SPEND_MON_01_ENT  \\\n",
       "0                  NaN                  NaN                  NaN   \n",
       "1                  NaN                  NaN                  NaN   \n",
       "2                  NaN                  NaN                  NaN   \n",
       "3                  NaN                  NaN                  NaN   \n",
       "4                  NaN                  NaN                  NaN   \n",
       "\n",
       "   DC_SPEND_MON_01_MED  DC_SPEND_MON_01_HMD  DC_SPEND_MON_01_HBY  \\\n",
       "0                  NaN                  NaN                  NaN   \n",
       "1                  NaN                  NaN                  NaN   \n",
       "2                  NaN                  NaN                  NaN   \n",
       "3               8790.0                  NaN                  NaN   \n",
       "4                  NaN                  NaN                  NaN   \n",
       "\n",
       "   DC_SPEND_MON_01_CARE  DC_SPEND_MON_01_TRL  DC_SPEND_MON_01_RST  \\\n",
       "0                   NaN                  NaN                  NaN   \n",
       "1                   NaN                  NaN                  NaN   \n",
       "2                   NaN                  NaN                  NaN   \n",
       "3                   NaN                  NaN                  NaN   \n",
       "4                   NaN                  NaN                  NaN   \n",
       "\n",
       "   DC_SPEND_MON_01_JER  DC_SPEND_MON_01_HTL  DC_SPEND_MON_01_ATM  \\\n",
       "0                  NaN                  NaN                  NaN   \n",
       "1                  NaN                  NaN                  NaN   \n",
       "2                  NaN                  NaN                  NaN   \n",
       "3                  NaN                  NaN                  NaN   \n",
       "4                  NaN                  NaN                  NaN   \n",
       "\n",
       "   DC_SPEND_MON_05_ENT  DC_SPEND_MON_05_MED  DC_SPEND_MON_05_HMD  \\\n",
       "0                  NaN                  NaN                  NaN   \n",
       "1                  NaN                  NaN                  NaN   \n",
       "2                  NaN                  NaN                  NaN   \n",
       "3                  NaN                  NaN                  NaN   \n",
       "4                  NaN                  NaN                  NaN   \n",
       "\n",
       "   DC_SPEND_MON_05_HBY  DC_SPEND_MON_05_CARE  DC_SPEND_MON_05_TRL  \\\n",
       "0                  NaN                   NaN                  NaN   \n",
       "1                  NaN                   NaN                  NaN   \n",
       "2                  NaN                   NaN                  NaN   \n",
       "3                  NaN                   NaN                  NaN   \n",
       "4                  NaN                   NaN                  NaN   \n",
       "\n",
       "   DC_SPEND_MON_05_RST  DC_SPEND_MON_05_JER  DC_SPEND_MON_05_HTL  \\\n",
       "0                  NaN                  NaN                  NaN   \n",
       "1                  NaN                  NaN                  NaN   \n",
       "2                  NaN                  NaN                  NaN   \n",
       "3                  NaN                  NaN                  NaN   \n",
       "4                380.0                  NaN                  NaN   \n",
       "\n",
       "   DC_SPEND_MON_05_ATM  CC_SPEND_MON_04_ENT  CC_SPEND_MON_04_MED  \\\n",
       "0                  NaN                  NaN                  NaN   \n",
       "1                  NaN                  NaN                  NaN   \n",
       "2                  NaN                  NaN                  NaN   \n",
       "3                  NaN                  NaN                  NaN   \n",
       "4                  NaN                  NaN                  NaN   \n",
       "\n",
       "   CC_SPEND_MON_04_HMD  CC_SPEND_MON_04_HBY  CC_SPEND_MON_04_CARE  \\\n",
       "0                  NaN                  NaN                   NaN   \n",
       "1                  NaN                  NaN                   NaN   \n",
       "2                  NaN                  NaN                   NaN   \n",
       "3                  NaN                  NaN                   NaN   \n",
       "4                  NaN               1199.0                   NaN   \n",
       "\n",
       "   CC_SPEND_MON_04_TRL  CC_SPEND_MON_04_RST  CC_SPEND_MON_04_JER  \\\n",
       "0                  NaN                  NaN                  NaN   \n",
       "1                  NaN                  NaN                  NaN   \n",
       "2                  NaN                  NaN                  NaN   \n",
       "3                  NaN                  NaN                  NaN   \n",
       "4                  NaN                  NaN                  NaN   \n",
       "\n",
       "   CC_SPEND_MON_04_HTL  CC_SPEND_MON_04_ATM  CC_SPEND_MON_02_ENT  \\\n",
       "0                  NaN                  NaN                  NaN   \n",
       "1                  NaN                  NaN                  NaN   \n",
       "2                  NaN                  NaN                  NaN   \n",
       "3                  NaN                  NaN                  NaN   \n",
       "4                  NaN                  NaN                  NaN   \n",
       "\n",
       "   CC_SPEND_MON_02_MED  CC_SPEND_MON_02_HMD  CC_SPEND_MON_02_HBY  \\\n",
       "0                  NaN                  NaN                  NaN   \n",
       "1                  NaN                  NaN                  NaN   \n",
       "2                  NaN                  NaN                  NaN   \n",
       "3                  NaN                  NaN                  NaN   \n",
       "4               7776.0                  NaN                  NaN   \n",
       "\n",
       "   CC_SPEND_MON_02_CARE  CC_SPEND_MON_02_TRL  CC_SPEND_MON_02_RST  \\\n",
       "0                   NaN                  NaN                  NaN   \n",
       "1                   NaN                  NaN                  NaN   \n",
       "2                   NaN                  NaN                  NaN   \n",
       "3                   NaN                  NaN                  NaN   \n",
       "4                   NaN                  NaN                  NaN   \n",
       "\n",
       "   CC_SPEND_MON_02_JER  CC_SPEND_MON_02_HTL  CC_SPEND_MON_02_ATM  \\\n",
       "0                  NaN                  NaN                  NaN   \n",
       "1                  NaN                  NaN                  NaN   \n",
       "2                  NaN                  NaN                  NaN   \n",
       "3                  NaN                  NaN                  NaN   \n",
       "4                  NaN                  NaN                  NaN   \n",
       "\n",
       "   CC_SPEND_MON_01_ENT  CC_SPEND_MON_01_MED  CC_SPEND_MON_01_HMD  \\\n",
       "0                  NaN                  NaN                  NaN   \n",
       "1                  NaN                  NaN                  NaN   \n",
       "2                  NaN                  NaN                  NaN   \n",
       "3                  NaN                  NaN                  NaN   \n",
       "4                  NaN                  NaN                  NaN   \n",
       "\n",
       "   CC_SPEND_MON_01_HBY  CC_SPEND_MON_01_CARE  CC_SPEND_MON_01_TRL  \\\n",
       "0                  NaN                   NaN                  NaN   \n",
       "1                  NaN                   NaN                  NaN   \n",
       "2                  NaN                   NaN                  NaN   \n",
       "3                  NaN                   NaN                  NaN   \n",
       "4                  NaN                   NaN                  NaN   \n",
       "\n",
       "   CC_SPEND_MON_01_RST  CC_SPEND_MON_01_JER  CC_SPEND_MON_01_HTL  \\\n",
       "0                  NaN                  NaN                  NaN   \n",
       "1                  NaN                  NaN                  NaN   \n",
       "2                  NaN                  NaN                  NaN   \n",
       "3                  NaN                  NaN                  NaN   \n",
       "4                  NaN                  NaN                  NaN   \n",
       "\n",
       "   CC_SPEND_MON_01_ATM FINANCE_MON_01 JOBS_MON_01 LIFESTYLE_MON_01  \\\n",
       "0                  NaN              N           N                N   \n",
       "1                  NaN              N           N                N   \n",
       "2                  NaN              N           N                N   \n",
       "3                  NaN              Y           N                N   \n",
       "4                  NaN              N           N                N   \n",
       "\n",
       "  INMON_01KET_MON_01 TRAVEL_MON_01 CHANNEL_CLICK_DISP DESIGNATION_FINAL  \\\n",
       "0                  N             N               NONE           MISSING   \n",
       "1                  N             N               NONE           MISSING   \n",
       "2                  N             Y               NONE           MISSING   \n",
       "3                  N             N               NONE           MISSING   \n",
       "4                  N             N               NONE          ENGINEER   \n",
       "\n",
       "  TOP14_CITY TOP9_CITY  PL2CC_ELIGIBLE  D_AMT_L3_MON_06  C_AMT_L3_MON_06  \\\n",
       "0          Y         Y               0            39.00              NaN   \n",
       "1          Y         Y               0         17250.00         17870.00   \n",
       "2          N         N               0         39362.25         39125.00   \n",
       "3          N         N               0        128169.25         20152.03   \n",
       "4          N         N               0         18668.96         24565.91   \n",
       "\n",
       "   C_COUNT_L3_MON_06  D_COUNT_L3_MON_06  MAX_C_AMT_L3_MON_06  D_AMT_L3_MON_05  \\\n",
       "0                0.0                1.0                  NaN              NaN   \n",
       "1                3.0               19.0               7957.0         12965.50   \n",
       "2                2.0                8.0              28171.0          2005.75   \n",
       "3                2.0               20.0              19840.0         52325.00   \n",
       "4                4.0                7.0              14000.0         26931.60   \n",
       "\n",
       "   C_AMT_L3_MON_05  C_COUNT_L3_MON_05  D_COUNT_L3_MON_05  MAX_C_AMT_L3_MON_05  \\\n",
       "0              NaN                NaN                NaN                  NaN   \n",
       "1          12336.5                6.0               21.0               8011.0   \n",
       "2          31261.0                3.0                2.0              16171.0   \n",
       "3          19840.0                1.0                8.0              19840.0   \n",
       "4          29500.0                3.0                7.0              21500.0   \n",
       "\n",
       "   D_AMT_L3_MON_04  C_AMT_L3_MON_04  C_COUNT_L3_MON_04  D_COUNT_L3_MON_04  \\\n",
       "0              NaN              NaN                NaN                NaN   \n",
       "1         23448.52          23457.0                4.0               12.0   \n",
       "2         29064.00          16197.0                2.0                3.0   \n",
       "3         69002.00          21526.0                2.0                9.0   \n",
       "4         13700.00           9264.0                4.0                1.0   \n",
       "\n",
       "   MAX_C_AMT_L3_MON_04  D_AMT_L3_MON_03  C_AMT_L3_MON_03  C_COUNT_L3_MON_03  \\\n",
       "0                  NaN              NaN              NaN                NaN   \n",
       "1              12000.0         17161.73         17154.75                6.0   \n",
       "2              16171.0          8727.25          7180.00                2.0   \n",
       "3              19840.0         75750.25         19605.00                1.0   \n",
       "4               5000.0          9817.25          6532.79                4.0   \n",
       "\n",
       "   D_COUNT_L3_MON_03  MAX_C_AMT_L3_MON_03  D_AMT_L3_MON_02  C_AMT_L3_MON_02  \\\n",
       "0                NaN                  NaN              NaN              NaN   \n",
       "1               20.0               8144.0          8720.00         11733.75   \n",
       "2                3.0               4680.0         36375.75         31516.00   \n",
       "3               18.0              19605.0         37712.17         15200.00   \n",
       "4                3.0               3580.0         37936.00         58018.00   \n",
       "\n",
       "   C_COUNT_L3_MON_02  D_COUNT_L3_MON_02  MAX_C_AMT_L3_MON_02  D_AMT_L3_MON_01  \\\n",
       "0                NaN                NaN                  NaN              NaN   \n",
       "1                4.0                3.0               7519.0         13763.00   \n",
       "2                2.0                4.0              16516.0         28520.75   \n",
       "3                1.0               17.0              15200.0         47158.82   \n",
       "4                4.0                5.0              29000.0         16200.00   \n",
       "\n",
       "   C_AMT_L3_MON_01  C_COUNT_L3_MON_01  D_COUNT_L3_MON_01  MAX_C_AMT_L3_MON_01  \\\n",
       "0              NaN                NaN                NaN                  NaN   \n",
       "1         10758.00                3.0                9.0               8240.0   \n",
       "2         44980.00                5.0                3.0              16516.0   \n",
       "3         85913.00                4.0               11.0              46500.0   \n",
       "4          1307.07                4.0                1.0                690.0   \n",
       "\n",
       "            PA_PQ_TAG  NEFT_CC_AMOUNT  NEFT_CC_TXN NEFT_CC_CATEGORY  \\\n",
       "0                 NaN             NaN          NaN      NO_NEFT_TXN   \n",
       "1                 NaN             NaN          NaN      NO_NEFT_TXN   \n",
       "2                 NaN             NaN          NaN      NO_NEFT_TXN   \n",
       "3                 NaN             NaN          NaN      NO_NEFT_TXN   \n",
       "4  PQ_WITH_INCOME_20K             NaN          NaN      NO_NEFT_TXN   \n",
       "\n",
       "   NEFT_DC_AMOUNT  NEFT_DC_TXN NEFT_DC_CATEGORY  TPT_DC_AMOUNT_MON_01  \\\n",
       "0             NaN          NaN      NO_NEFT_TXN                   NaN   \n",
       "1             NaN          NaN      NO_NEFT_TXN                   NaN   \n",
       "2         26515.0          1.0     NOT_RELEVANT                   NaN   \n",
       "3             NaN          NaN      NO_NEFT_TXN                   NaN   \n",
       "4             NaN          NaN      NO_NEFT_TXN                   NaN   \n",
       "\n",
       "   TPT_DC_TXN_MON_01 TPT_DC_CATEGORY_MON_01  TPT_CC_AMOUNT_MON_01  \\\n",
       "0                NaN             NO_TPT_TXN                   NaN   \n",
       "1                NaN             NO_TPT_TXN                   NaN   \n",
       "2                NaN             NO_TPT_TXN                   NaN   \n",
       "3                NaN             NO_TPT_TXN                   NaN   \n",
       "4                NaN             NO_TPT_TXN                   NaN   \n",
       "\n",
       "   TPT_CC_TXN_MON_01 TPT_CC_CATEGORY_MON_01  IMPS_CC_AMOUNT_MON_01  \\\n",
       "0                NaN             NO_TPT_TXN                    NaN   \n",
       "1                NaN             NO_TPT_TXN                    NaN   \n",
       "2                NaN             NO_TPT_TXN                    NaN   \n",
       "3                NaN             NO_TPT_TXN                    NaN   \n",
       "4                NaN             NO_TPT_TXN                  200.0   \n",
       "\n",
       "   IMPS_CC_TXN_MON_01 IMPS_CC_CATEGORY_MON_01 ZIP_CODE_FINAL LAST_3MTHS_INQ  \\\n",
       "0                 NaN             NO_IMPS_TXN       400606.0            NaN   \n",
       "1                 NaN             NO_IMPS_TXN       600045.0            NaN   \n",
       "2                 NaN             NO_IMPS_TXN         122001            NaN   \n",
       "3                 NaN             NO_IMPS_TXN       311408.0            NaN   \n",
       "4                 1.0            NOT_RELEVANT         122015            NaN   \n",
       "\n",
       "  PREV_3MTHS_INQ  CAR_MON_03  CDL_MON_03  GL_MON_03  LAA_MON_03  LFP_MON_03  \\\n",
       "0            NaN         NaN         NaN        NaN         NaN         NaN   \n",
       "1              Y         NaN         NaN        NaN         NaN         NaN   \n",
       "2            NaN         NaN         NaN        NaN         NaN         NaN   \n",
       "3            NaN         NaN         NaN        NaN         NaN         NaN   \n",
       "4            NaN         NaN         NaN        NaN         NaN         NaN   \n",
       "\n",
       "   TWL_MON_03  PL_MON_03  CAR_MON_02  CDL_MON_02  GL_MON_02  LAA_MON_02  \\\n",
       "0         NaN        NaN         NaN         NaN        NaN         NaN   \n",
       "1         NaN        NaN         NaN         NaN        NaN         NaN   \n",
       "2         NaN        NaN         NaN         NaN        NaN         NaN   \n",
       "3         NaN        NaN         NaN         NaN        NaN         NaN   \n",
       "4         NaN        NaN         NaN         NaN        NaN         NaN   \n",
       "\n",
       "   LFP_MON_02  TWL_MON_02  PL_MON_02  CAR_MON_01  CDL_MON_01  GL_MON_01  \\\n",
       "0         NaN         NaN        NaN         NaN         NaN        NaN   \n",
       "1         NaN         NaN        NaN         NaN         NaN        NaN   \n",
       "2         NaN         NaN        NaN         NaN         NaN        NaN   \n",
       "3         NaN         NaN        NaN         NaN         NaN        NaN   \n",
       "4         NaN         NaN        NaN         NaN         NaN        NaN   \n",
       "\n",
       "   LAA_MON_01  LFP_MON_01  TWL_MON_01  PL_MON_01 CLOSED_DATE  CRED_NEED_SCORE  \\\n",
       "0         NaN         NaN         NaN        NaN         NaN              NaN   \n",
       "1         NaN         NaN         NaN        NaN         NaN              NaN   \n",
       "2         NaN         NaN         NaN        NaN         NaN              NaN   \n",
       "3         NaN         NaN         NaN        NaN         NaN         0.247852   \n",
       "4         NaN         NaN         NaN        NaN         NaN              NaN   \n",
       "\n",
       "   CC_SPEND_MON_03_ENT  CC_SPEND_MON_03_MED  CC_SPEND_MON_03_HMD  \\\n",
       "0                  NaN                  NaN                  NaN   \n",
       "1                  NaN                  NaN                  NaN   \n",
       "2                  NaN                  NaN                  NaN   \n",
       "3                  NaN                  NaN               2558.0   \n",
       "4                  NaN                  NaN                  NaN   \n",
       "\n",
       "   CC_SPEND_MON_03_HBY  CC_SPEND_MON_03_CARE  CC_SPEND_MON_03_TRL  \\\n",
       "0                  NaN                   NaN                  NaN   \n",
       "1                  NaN                   NaN                  NaN   \n",
       "2                  NaN                   NaN                  NaN   \n",
       "3                  NaN                   NaN                  NaN   \n",
       "4                  NaN                   NaN                  NaN   \n",
       "\n",
       "   CC_SPEND_MON_03_RST  CC_SPEND_MON_03_JER  CC_SPEND_MON_03_HTL  \\\n",
       "0                  NaN                  NaN                  NaN   \n",
       "1                  NaN                  NaN                  NaN   \n",
       "2                  NaN                  NaN                  NaN   \n",
       "3                  NaN               8200.0                  NaN   \n",
       "4                  NaN                  NaN                  NaN   \n",
       "\n",
       "   CC_SPEND_MON_03_ATM CARD_AUTOMOBILE_MON_01 CARD_HOTEL_MON_01  \\\n",
       "0                  NaN                      N                 N   \n",
       "1                  NaN                      N                 N   \n",
       "2                  NaN                      N                 N   \n",
       "3                  NaN                      N                 N   \n",
       "4                  NaN                      N                 N   \n",
       "\n",
       "  CARD_JEWELLERY_MON_01 CARD_RESTAURANT_MON_01 CARD_TRAVEL_MON_01  \\\n",
       "0                     N                      N                  N   \n",
       "1                     N                      N                  N   \n",
       "2                     N                      N                  N   \n",
       "3                     Y                      N                  N   \n",
       "4                     N                      N                  N   \n",
       "\n",
       "  CARD_PRSNL_CARE_MON_01 CARD_HOBBY_MON_01 CARD_HOME_DECOR_MON_01  \\\n",
       "0                      N                 N                      N   \n",
       "1                      N                 N                      N   \n",
       "2                      N                 N                      N   \n",
       "3                      Y                 N                      Y   \n",
       "4                      N                 N                      N   \n",
       "\n",
       "  CARD_MEDICAL_MON_01 CARD_ENTMNT_MON_01  SAL_MON_01  SAL_MON_02  SAL_MON_03  \\\n",
       "0                   N                  N         0.0         0.0         0.0   \n",
       "1                   N                  N     10754.0      8733.0     17154.0   \n",
       "2                   N                  N         0.0         0.0         0.0   \n",
       "3                   Y                  N     38952.0     15200.0     19605.0   \n",
       "4                   Y                  N         0.0         0.0         0.0   \n",
       "\n",
       "  TOP_100_CORP TOP_800_CORP TOP_CORP_TAG  EOP_MON_02  EOP_MON_03 CREDIT_ACT  \\\n",
       "0          NaN          NaN         NONE        0.00        0.00        NaN   \n",
       "1          NaN          NaN         NONE     3016.77        3.02          Y   \n",
       "2          NaN          NaN         NONE     9999.00    14858.75          Y   \n",
       "3          NaN          NaN         NONE    27163.10    49675.27          Y   \n",
       "4          NaN          NaN         NONE    21065.87      983.87          Y   \n",
       "\n",
       "  DEBIT_ACT CEL_TAG EL_TAG AGL_TAG CVL_TAG AL_TAG  HL_EMI   SCRUB_EMI  \\\n",
       "0       NaN     NaN    NaN     NaN     NaN    NaN     NaN    0.000000   \n",
       "1         Y     NaN    NaN     NaN     NaN    NaN     NaN    0.000000   \n",
       "2         Y     NaN    NaN     NaN     NaN    NaN     NaN    0.000000   \n",
       "3         Y     NaN    NaN     NaN     NaN    NaN     NaN    0.000000   \n",
       "4         Y     NaN    NaN     NaN     NaN    NaN     NaN  251.758794   \n",
       "\n",
       "  RESPONDERS  \n",
       "0          N  \n",
       "1          N  \n",
       "2          N  \n",
       "3          N  \n",
       "4          N  "
      ]
     },
     "execution_count": 4,
     "metadata": {},
     "output_type": "execute_result"
    }
   ],
   "source": [
    "pd.set_option('display.max_columns',None)\n",
    "dataTrain.head()"
   ]
  },
  {
   "cell_type": "code",
   "execution_count": 7,
   "metadata": {
    "colab": {
     "base_uri": "https://localhost:8080/",
     "height": 1000
    },
    "colab_type": "code",
    "id": "5fN5uz1gv6RD",
    "outputId": "e87fb77a-a773-48aa-fab0-b68312457e9d",
    "scrolled": false
   },
   "outputs": [
    {
     "name": "stdout",
     "output_type": "stream",
     "text": [
      "<class 'pandas.core.frame.DataFrame'>\n",
      "RangeIndex: 300000 entries, 0 to 299999\n",
      "Data columns (total 333 columns):\n",
      "CUSTOMER_ID                   300000 non-null int64\n",
      "ACT_TYPE                      300000 non-null object\n",
      "GENDER                        299913 non-null object\n",
      "LEGAL_ENTITY                  300000 non-null object\n",
      "OCCUP_ALL_NEW                 300000 non-null object\n",
      "AGE                           300000 non-null int64\n",
      "N_CASA_MAX_BALANCE_MTD        300000 non-null float64\n",
      "N_CASA_MIN_BALANCE_MTD        300000 non-null float64\n",
      "BL_TAG                        64 non-null object\n",
      "TWL_TAG                       4897 non-null object\n",
      "PL_TAG                        17802 non-null object\n",
      "AL_CNC_TAG                    577 non-null object\n",
      "AGRI_TAG                      18 non-null object\n",
      "CE_TAG                        1 non-null object\n",
      "CV_TAG                        18 non-null object\n",
      "EDU_TAG                       45 non-null object\n",
      "TL_TAG                        16 non-null object\n",
      "OTHER_LOANS_TAG               425 non-null object\n",
      "LAP_TAG                       63 non-null object\n",
      "LAS_TAG                       29 non-null object\n",
      "EEG_TAG                       0 non-null float64\n",
      "BBG_TAG                       2 non-null object\n",
      "HL_TAG                        2628 non-null object\n",
      "GL_TAG                        766 non-null object\n",
      "AL_CLOSED                     1255 non-null object\n",
      "PL_CLOSED                     7320 non-null object\n",
      "BL_CLOSED                     48 non-null object\n",
      "TWL_CLOSED                    2402 non-null object\n",
      "CV_CLOSED                     23 non-null object\n",
      "LAP_CLOSED                    69 non-null object\n",
      "LAS_CLOSED                    30 non-null object\n",
      "EEG_CLOSED                    0 non-null float64\n",
      "BBG_CLOSED                    2 non-null object\n",
      "GL_CLOSED                     1136 non-null object\n",
      "CC_HOLD_MON_03                70387 non-null object\n",
      "CC_HOLD_MON_02                70710 non-null object\n",
      "CC_HOLD_MON_01                71087 non-null object\n",
      "CC_ACTIVE_MON_03              42244 non-null object\n",
      "CC_ACTIVE_MON_02              41501 non-null object\n",
      "CC_ACTIVE_MON_01              43759 non-null object\n",
      "CC_HOLD                       300000 non-null object\n",
      "CC_ACTIVE                     300000 non-null object\n",
      "DC_HOLD                       300000 non-null object\n",
      "DC_ACTIVE_MON_03              97959 non-null object\n",
      "DC_ACTIVE_MON_02              90457 non-null object\n",
      "DC_ACTIVE_MON_01              92745 non-null object\n",
      "DC_ACTIVE                     300000 non-null object\n",
      "DC_SPEND_MON_03               54327 non-null float64\n",
      "DC_SPEND_MON_02               47578 non-null float64\n",
      "DC_SPEND_MON_01               47906 non-null float64\n",
      "CC_SPEND_MON_04               26156 non-null float64\n",
      "CC_SPEND_MON_01               25600 non-null float64\n",
      "CC_SPEND_MON_02               24222 non-null float64\n",
      "CC_SPEND_MON_03               26840 non-null float64\n",
      "DC_SPEND_MON_04               60651 non-null float64\n",
      "PM_FD_MON_01                  825 non-null float64\n",
      "PM_FD_MON_02                  0 non-null float64\n",
      "PM_FD_MON_04                  0 non-null float64\n",
      "CR_LIMIT                      83000 non-null float64\n",
      "STMT_MON_03                   83000 non-null float64\n",
      "STMT_MON_02                   83000 non-null float64\n",
      "STMT_MON_01                   83000 non-null float64\n",
      "COC_ELIGIBLE                  300000 non-null int64\n",
      "LAP_SCRUB_LIVE                2810 non-null float64\n",
      "LAS_SCRUB_LIVE                328 non-null float64\n",
      "PL_SCRUB_LIVE                 13299 non-null float64\n",
      "GL_SCRUB_LIVE                 5774 non-null float64\n",
      "TWL_SCRUB_LIVE                6922 non-null float64\n",
      "BL_SCRUB_LIVE                 736 non-null float64\n",
      "CEL_SCRUB_LIVE                15 non-null float64\n",
      "TL_SCRUB_LIVE                 214 non-null float64\n",
      "AL_SCRUB_LIVE                 9504 non-null float64\n",
      "LAP_SCRUB_CLOSED              1008 non-null float64\n",
      "LAS_SCRUB_CLOSED              414 non-null float64\n",
      "PL_SCRUB_CLOSED               13850 non-null float64\n",
      "GL_SCRUB_CLOSED               9259 non-null float64\n",
      "TWL_SCRUB_CLOSED              12665 non-null float64\n",
      "BL_SCRUB_CLOSED               473 non-null float64\n",
      "CEL_SCRUB_CLOSED              12 non-null float64\n",
      "TL_SCRUB_CLOSED               159 non-null float64\n",
      "AL_SCRUB_CLOSED               9240 non-null float64\n",
      "MATURITY_GL                   1102 non-null object\n",
      "MATURITY_LAP                  68 non-null object\n",
      "MATURITY_LAS                  31 non-null object\n",
      "STMT_CON_DAE_ACTIVE_MON_01    0 non-null float64\n",
      "BTE_ACTIVE_MON_01             3 non-null object\n",
      "COC_ACTIVE_MON_01             7320 non-null object\n",
      "PL2CC_ACTIVE_MON_01           4512 non-null object\n",
      "MER_EMI_ACTIVE_MON_01         12036 non-null object\n",
      "TRN_CON_DAE_ACTIVE_MON_01     13628 non-null object\n",
      "STMT_CON_DAE_CLOSED_MON_01    0 non-null float64\n",
      "BTE_CLOSED_MON_01             14 non-null object\n",
      "COC_CLOSED_MON_01             4987 non-null object\n",
      "PL2CC_CLOSED_MON_01           1288 non-null object\n",
      "MER_EMI_CLOSED_MON_01         0 non-null float64\n",
      "TRN_CON_DAE_CLOSED_MON_01     13722 non-null object\n",
      "EOP_BAL_MON_01                300000 non-null float64\n",
      "AMB_MON_04                    294378 non-null float64\n",
      "AMB_MON_01                    300000 non-null float64\n",
      "AMB_MON_02                    299008 non-null float64\n",
      "AMB_MON_03                    297222 non-null float64\n",
      "NB_MON_01_CNT                 115226 non-null float64\n",
      "NB_MON_02_CNT                 111357 non-null float64\n",
      "NB_MON_03_CNT                 112578 non-null float64\n",
      "CDMAT_MON_01                  4993 non-null float64\n",
      "CDMAT_MON_04                  4905 non-null float64\n",
      "MF_MON_04                     3654 non-null float64\n",
      "MF_MON_01                     3825 non-null float64\n",
      "RD_MON_04                     11293 non-null float64\n",
      "RD_MON_01                     11682 non-null float64\n",
      "FD_MON_04                     9570 non-null float64\n",
      "FD_MON_01                     9792 non-null float64\n",
      "LI_MON_04                     6682 non-null float64\n",
      "LI_MON_01                     7475 non-null float64\n",
      "GI_MON_04                     1301 non-null float64\n",
      "GI_MON_01                     1476 non-null float64\n",
      "CC_TXN_MON_01                 43759 non-null float64\n",
      "CC_SPEND_MON_06               37325 non-null float64\n",
      "CC_TXN_MON_06                 37325 non-null float64\n",
      "CC_TXN_MON_03                 42244 non-null float64\n",
      "CC_TXN_MON_02                 41501 non-null float64\n",
      "CC_TXN_MON_04                 40679 non-null float64\n",
      "CC_SPEND_MON_05               38208 non-null float64\n",
      "CC_TXN_MON_05                 38208 non-null float64\n",
      "DC_TXN_MON_04                 102283 non-null float64\n",
      "DC_TXN_MON_01                 92339 non-null float64\n",
      "DC_SPEND_MON_06               66935 non-null float64\n",
      "DC_TXN_MON_06                 66935 non-null float64\n",
      "DC_SPEND_MON_05               81522 non-null float64\n",
      "DC_TXN_MON_05                 81522 non-null float64\n",
      "DC_TXN_MON_03                 97484 non-null float64\n",
      "DC_TXN_MON_02                 90110 non-null float64\n",
      "DC_SPEND_MON_04_ENT           16541 non-null float64\n",
      "DC_SPEND_MON_04_MED           15278 non-null float64\n",
      "DC_SPEND_MON_04_GRC           31013 non-null float64\n",
      "DC_SPEND_MON_04_HMD           1768 non-null float64\n",
      "DC_SPEND_MON_04_HBY           7276 non-null float64\n",
      "DC_SPEND_MON_04_CARE          5571 non-null float64\n",
      "DC_SPEND_MON_04_TRL           6896 non-null float64\n",
      "DC_SPEND_MON_04_RST           34203 non-null float64\n",
      "DC_SPEND_MON_04_JER           4735 non-null float64\n",
      "DC_SPEND_MON_04_HTL           8918 non-null float64\n",
      "DC_SPEND_MON_04_ATM           4861 non-null float64\n",
      "DC_SPEND_MON_03_ENT           13832 non-null float64\n",
      "DC_SPEND_MON_03_MED           12801 non-null float64\n",
      "DC_SPEND_MON_03_HMD           1249 non-null float64\n",
      "DC_SPEND_MON_03_HBY           5180 non-null float64\n",
      "DC_SPEND_MON_03_CARE          4387 non-null float64\n",
      "DC_SPEND_MON_03_TRL           5977 non-null float64\n",
      "DC_SPEND_MON_03_RST           29293 non-null float64\n",
      "DC_SPEND_MON_03_JER           3778 non-null float64\n",
      "DC_SPEND_MON_03_HTL           7155 non-null float64\n",
      "DC_SPEND_MON_03_ATM           3360 non-null float64\n",
      "DC_SPEND_MON_02_ENT           11873 non-null float64\n",
      "DC_SPEND_MON_02_MED           10854 non-null float64\n",
      "DC_SPEND_MON_02_HMD           973 non-null float64\n",
      "DC_SPEND_MON_02_HBY           4808 non-null float64\n",
      "DC_SPEND_MON_02_CARE          4009 non-null float64\n",
      "DC_SPEND_MON_02_TRL           5408 non-null float64\n",
      "DC_SPEND_MON_02_RST           25811 non-null float64\n",
      "DC_SPEND_MON_02_JER           3352 non-null float64\n",
      "DC_SPEND_MON_02_HTL           6061 non-null float64\n",
      "DC_SPEND_MON_02_ATM           2668 non-null float64\n",
      "DC_SPEND_MON_01_ENT           13156 non-null float64\n",
      "DC_SPEND_MON_01_MED           11093 non-null float64\n",
      "DC_SPEND_MON_01_HMD           985 non-null float64\n",
      "DC_SPEND_MON_01_HBY           4575 non-null float64\n",
      "DC_SPEND_MON_01_CARE          4003 non-null float64\n",
      "DC_SPEND_MON_01_TRL           5651 non-null float64\n",
      "DC_SPEND_MON_01_RST           26673 non-null float64\n",
      "DC_SPEND_MON_01_JER           2867 non-null float64\n",
      "DC_SPEND_MON_01_HTL           6497 non-null float64\n",
      "DC_SPEND_MON_01_ATM           2734 non-null float64\n",
      "DC_SPEND_MON_05_ENT           11658 non-null float64\n",
      "DC_SPEND_MON_05_MED           10388 non-null float64\n",
      "DC_SPEND_MON_05_HMD           901 non-null float64\n",
      "DC_SPEND_MON_05_HBY           4299 non-null float64\n",
      "DC_SPEND_MON_05_CARE          3790 non-null float64\n",
      "DC_SPEND_MON_05_TRL           5487 non-null float64\n",
      "DC_SPEND_MON_05_RST           25832 non-null float64\n",
      "DC_SPEND_MON_05_JER           2810 non-null float64\n",
      "DC_SPEND_MON_05_HTL           6254 non-null float64\n",
      "DC_SPEND_MON_05_ATM           2640 non-null float64\n",
      "CC_SPEND_MON_04_ENT           7275 non-null float64\n",
      "CC_SPEND_MON_04_MED           6586 non-null float64\n",
      "CC_SPEND_MON_04_HMD           949 non-null float64\n",
      "CC_SPEND_MON_04_HBY           3806 non-null float64\n",
      "CC_SPEND_MON_04_CARE          1910 non-null float64\n",
      "CC_SPEND_MON_04_TRL           5575 non-null float64\n",
      "CC_SPEND_MON_04_RST           13703 non-null float64\n",
      "CC_SPEND_MON_04_JER           2107 non-null float64\n",
      "CC_SPEND_MON_04_HTL           4408 non-null float64\n",
      "CC_SPEND_MON_04_ATM           2445 non-null float64\n",
      "CC_SPEND_MON_02_ENT           6311 non-null float64\n",
      "CC_SPEND_MON_02_MED           5933 non-null float64\n",
      "CC_SPEND_MON_02_HMD           712 non-null float64\n",
      "CC_SPEND_MON_02_HBY           3008 non-null float64\n",
      "CC_SPEND_MON_02_CARE          1649 non-null float64\n",
      "CC_SPEND_MON_02_TRL           4521 non-null float64\n",
      "CC_SPEND_MON_02_RST           11845 non-null float64\n",
      "CC_SPEND_MON_02_JER           2055 non-null float64\n",
      "CC_SPEND_MON_02_HTL           3680 non-null float64\n",
      "CC_SPEND_MON_02_ATM           2057 non-null float64\n",
      "CC_SPEND_MON_01_ENT           7252 non-null float64\n",
      "CC_SPEND_MON_01_MED           6475 non-null float64\n",
      "CC_SPEND_MON_01_HMD           853 non-null float64\n",
      "CC_SPEND_MON_01_HBY           3089 non-null float64\n",
      "CC_SPEND_MON_01_CARE          1751 non-null float64\n",
      "CC_SPEND_MON_01_TRL           5364 non-null float64\n",
      "CC_SPEND_MON_01_RST           13077 non-null float64\n",
      "CC_SPEND_MON_01_JER           1946 non-null float64\n",
      "CC_SPEND_MON_01_HTL           4163 non-null float64\n",
      "CC_SPEND_MON_01_ATM           2263 non-null float64\n",
      "FINANCE_MON_01                300000 non-null object\n",
      "JOBS_MON_01                   300000 non-null object\n",
      "LIFESTYLE_MON_01              300000 non-null object\n",
      "INMON_01KET_MON_01            300000 non-null object\n",
      "TRAVEL_MON_01                 300000 non-null object\n",
      "CHANNEL_CLICK_DISP            300000 non-null object\n",
      "DESIGNATION_FINAL             300000 non-null object\n",
      "TOP14_CITY                    300000 non-null object\n",
      "TOP9_CITY                     300000 non-null object\n",
      "PL2CC_ELIGIBLE                300000 non-null int64\n",
      "D_AMT_L3_MON_06               189520 non-null float64\n",
      "C_AMT_L3_MON_06               160575 non-null float64\n",
      "C_COUNT_L3_MON_06             194043 non-null float64\n",
      "D_COUNT_L3_MON_06             194043 non-null float64\n",
      "MAX_C_AMT_L3_MON_06           160575 non-null float64\n",
      "D_AMT_L3_MON_05               170582 non-null float64\n",
      "C_AMT_L3_MON_05               158923 non-null float64\n",
      "C_COUNT_L3_MON_05             180189 non-null float64\n",
      "D_COUNT_L3_MON_05             180189 non-null float64\n",
      "MAX_C_AMT_L3_MON_05           158923 non-null float64\n",
      "D_AMT_L3_MON_04               176119 non-null float64\n",
      "C_AMT_L3_MON_04               214286 non-null float64\n",
      "C_COUNT_L3_MON_04             215344 non-null float64\n",
      "D_COUNT_L3_MON_04             215344 non-null float64\n",
      "MAX_C_AMT_L3_MON_04           214286 non-null float64\n",
      "D_AMT_L3_MON_03               195802 non-null float64\n",
      "C_AMT_L3_MON_03               164584 non-null float64\n",
      "C_COUNT_L3_MON_03             200536 non-null float64\n",
      "D_COUNT_L3_MON_03             200536 non-null float64\n",
      "MAX_C_AMT_L3_MON_03           164584 non-null float64\n",
      "D_AMT_L3_MON_02               177054 non-null float64\n",
      "C_AMT_L3_MON_02               166557 non-null float64\n",
      "C_COUNT_L3_MON_02             185415 non-null float64\n",
      "D_COUNT_L3_MON_02             185415 non-null float64\n",
      "MAX_C_AMT_L3_MON_02           166557 non-null float64\n",
      "D_AMT_L3_MON_01               181846 non-null float64\n",
      "C_AMT_L3_MON_01               221241 non-null float64\n",
      "C_COUNT_L3_MON_01             222054 non-null float64\n",
      "D_COUNT_L3_MON_01             222054 non-null float64\n",
      "MAX_C_AMT_L3_MON_01           221241 non-null float64\n",
      "PA_PQ_TAG                     129185 non-null object\n",
      "NEFT_CC_AMOUNT                44892 non-null float64\n",
      "NEFT_CC_TXN                   44892 non-null float64\n",
      "NEFT_CC_CATEGORY              300000 non-null object\n",
      "NEFT_DC_AMOUNT                33960 non-null float64\n",
      "NEFT_DC_TXN                   33960 non-null float64\n",
      "NEFT_DC_CATEGORY              300000 non-null object\n",
      "TPT_DC_AMOUNT_MON_01          21155 non-null float64\n",
      "TPT_DC_TXN_MON_01             21155 non-null float64\n",
      "TPT_DC_CATEGORY_MON_01        300000 non-null object\n",
      "TPT_CC_AMOUNT_MON_01          22577 non-null float64\n",
      "TPT_CC_TXN_MON_01             22577 non-null float64\n",
      "TPT_CC_CATEGORY_MON_01        300000 non-null object\n",
      "IMPS_CC_AMOUNT_MON_01         29905 non-null float64\n",
      "IMPS_CC_TXN_MON_01            29905 non-null float64\n",
      "IMPS_CC_CATEGORY_MON_01       300000 non-null object\n",
      "ZIP_CODE_FINAL                297853 non-null object\n",
      "LAST_3MTHS_INQ                1023 non-null object\n",
      "PREV_3MTHS_INQ                2050 non-null object\n",
      "CAR_MON_03                    919 non-null float64\n",
      "CDL_MON_03                    335 non-null float64\n",
      "GL_MON_03                     403 non-null float64\n",
      "LAA_MON_03                    353 non-null float64\n",
      "LFP_MON_03                    327 non-null float64\n",
      "TWL_MON_03                    733 non-null float64\n",
      "PL_MON_03                     1635 non-null float64\n",
      "CAR_MON_02                    789 non-null float64\n",
      "CDL_MON_02                    376 non-null float64\n",
      "GL_MON_02                     451 non-null float64\n",
      "LAA_MON_02                    393 non-null float64\n",
      "LFP_MON_02                    378 non-null float64\n",
      "TWL_MON_02                    700 non-null float64\n",
      "PL_MON_02                     1549 non-null float64\n",
      "CAR_MON_01                    854 non-null float64\n",
      "CDL_MON_01                    351 non-null float64\n",
      "GL_MON_01                     426 non-null float64\n",
      "LAA_MON_01                    408 non-null float64\n",
      "LFP_MON_01                    345 non-null float64\n",
      "TWL_MON_01                    726 non-null float64\n",
      "PL_MON_01                     1663 non-null float64\n",
      "CLOSED_DATE                   13093 non-null object\n",
      "CRED_NEED_SCORE               35380 non-null float64\n",
      "CC_SPEND_MON_03_ENT           7342 non-null float64\n",
      "CC_SPEND_MON_03_MED           6471 non-null float64\n",
      "CC_SPEND_MON_03_HMD           883 non-null float64\n",
      "CC_SPEND_MON_03_HBY           3497 non-null float64\n",
      "CC_SPEND_MON_03_CARE          1835 non-null float64\n",
      "CC_SPEND_MON_03_TRL           5240 non-null float64\n",
      "CC_SPEND_MON_03_RST           13609 non-null float64\n",
      "CC_SPEND_MON_03_JER           2262 non-null float64\n",
      "CC_SPEND_MON_03_HTL           4189 non-null float64\n",
      "CC_SPEND_MON_03_ATM           2345 non-null float64\n",
      "CARD_AUTOMOBILE_MON_01        300000 non-null object\n",
      "CARD_HOTEL_MON_01             300000 non-null object\n",
      "CARD_JEWELLERY_MON_01         300000 non-null object\n",
      "CARD_RESTAURANT_MON_01        300000 non-null object\n",
      "CARD_TRAVEL_MON_01            300000 non-null object\n",
      "CARD_PRSNL_CARE_MON_01        300000 non-null object\n",
      "CARD_HOBBY_MON_01             300000 non-null object\n",
      "CARD_HOME_DECOR_MON_01        300000 non-null object\n",
      "CARD_MEDICAL_MON_01           300000 non-null object\n",
      "CARD_ENTMNT_MON_01            300000 non-null object\n",
      "SAL_MON_01                    206154 non-null float64\n",
      "SAL_MON_02                    202731 non-null float64\n",
      "SAL_MON_03                    199378 non-null float64\n",
      "TOP_100_CORP                  23510 non-null object\n",
      "TOP_800_CORP                  22041 non-null object\n",
      "TOP_CORP_TAG                  300000 non-null object\n",
      "EOP_MON_02                    299011 non-null float64\n",
      "EOP_MON_03                    297232 non-null float64\n",
      "CREDIT_ACT                    179471 non-null object\n",
      "DEBIT_ACT                     184487 non-null object\n",
      "CEL_TAG                       2 non-null object\n",
      "EL_TAG                        42 non-null object\n",
      "AGL_TAG                       18 non-null object\n",
      "CVL_TAG                       6 non-null object\n",
      "AL_TAG                        3379 non-null object\n",
      "HL_EMI                        1748 non-null float64\n",
      "SCRUB_EMI                     300000 non-null float64\n",
      "RESPONDERS                    300000 non-null object\n",
      "dtypes: float64(236), int64(4), object(93)\n",
      "memory usage: 762.2+ MB\n"
     ]
    }
   ],
   "source": [
    "dataTrain.info(verbose=True,max_cols=333)"
   ]
  },
  {
   "cell_type": "code",
   "execution_count": 8,
   "metadata": {
    "colab": {},
    "colab_type": "code",
    "id": "disIQIrGv6RJ"
   },
   "outputs": [],
   "source": [
    "# Selecting Only Columns Having Atleast 75% NonNull Values\n",
    "newData = dataTrain.dropna(axis=1,thresh=225000)"
   ]
  },
  {
   "cell_type": "code",
   "execution_count": 9,
   "metadata": {
    "colab": {
     "base_uri": "https://localhost:8080/",
     "height": 953
    },
    "colab_type": "code",
    "id": "xVlmojOEv6RV",
    "outputId": "eb4a3de9-b7d5-4070-8d32-5edf47ed3b3e"
   },
   "outputs": [
    {
     "name": "stdout",
     "output_type": "stream",
     "text": [
      "<class 'pandas.core.frame.DataFrame'>\n",
      "RangeIndex: 300000 entries, 0 to 299999\n",
      "Data columns (total 49 columns):\n",
      "CUSTOMER_ID                300000 non-null int64\n",
      "ACT_TYPE                   300000 non-null object\n",
      "GENDER                     299913 non-null object\n",
      "LEGAL_ENTITY               300000 non-null object\n",
      "OCCUP_ALL_NEW              300000 non-null object\n",
      "AGE                        300000 non-null int64\n",
      "N_CASA_MAX_BALANCE_MTD     300000 non-null float64\n",
      "N_CASA_MIN_BALANCE_MTD     300000 non-null float64\n",
      "CC_HOLD                    300000 non-null object\n",
      "CC_ACTIVE                  300000 non-null object\n",
      "DC_HOLD                    300000 non-null object\n",
      "DC_ACTIVE                  300000 non-null object\n",
      "COC_ELIGIBLE               300000 non-null int64\n",
      "EOP_BAL_MON_01             300000 non-null float64\n",
      "AMB_MON_04                 294378 non-null float64\n",
      "AMB_MON_01                 300000 non-null float64\n",
      "AMB_MON_02                 299008 non-null float64\n",
      "AMB_MON_03                 297222 non-null float64\n",
      "FINANCE_MON_01             300000 non-null object\n",
      "JOBS_MON_01                300000 non-null object\n",
      "LIFESTYLE_MON_01           300000 non-null object\n",
      "INMON_01KET_MON_01         300000 non-null object\n",
      "TRAVEL_MON_01              300000 non-null object\n",
      "CHANNEL_CLICK_DISP         300000 non-null object\n",
      "DESIGNATION_FINAL          300000 non-null object\n",
      "TOP14_CITY                 300000 non-null object\n",
      "TOP9_CITY                  300000 non-null object\n",
      "PL2CC_ELIGIBLE             300000 non-null int64\n",
      "NEFT_CC_CATEGORY           300000 non-null object\n",
      "NEFT_DC_CATEGORY           300000 non-null object\n",
      "TPT_DC_CATEGORY_MON_01     300000 non-null object\n",
      "TPT_CC_CATEGORY_MON_01     300000 non-null object\n",
      "IMPS_CC_CATEGORY_MON_01    300000 non-null object\n",
      "ZIP_CODE_FINAL             297853 non-null object\n",
      "CARD_AUTOMOBILE_MON_01     300000 non-null object\n",
      "CARD_HOTEL_MON_01          300000 non-null object\n",
      "CARD_JEWELLERY_MON_01      300000 non-null object\n",
      "CARD_RESTAURANT_MON_01     300000 non-null object\n",
      "CARD_TRAVEL_MON_01         300000 non-null object\n",
      "CARD_PRSNL_CARE_MON_01     300000 non-null object\n",
      "CARD_HOBBY_MON_01          300000 non-null object\n",
      "CARD_HOME_DECOR_MON_01     300000 non-null object\n",
      "CARD_MEDICAL_MON_01        300000 non-null object\n",
      "CARD_ENTMNT_MON_01         300000 non-null object\n",
      "TOP_CORP_TAG               300000 non-null object\n",
      "EOP_MON_02                 299011 non-null float64\n",
      "EOP_MON_03                 297232 non-null float64\n",
      "SCRUB_EMI                  300000 non-null float64\n",
      "RESPONDERS                 300000 non-null object\n",
      "dtypes: float64(10), int64(4), object(35)\n",
      "memory usage: 112.2+ MB\n"
     ]
    }
   ],
   "source": [
    "newData.info(verbose=True,max_cols=len(newData.columns))"
   ]
  },
  {
   "cell_type": "code",
   "execution_count": 10,
   "metadata": {
    "colab": {
     "base_uri": "https://localhost:8080/",
     "height": 529
    },
    "colab_type": "code",
    "id": "bYZEPF7Xv6Ra",
    "outputId": "bfbd6f5b-6c3e-46e4-9434-81500c067ded"
   },
   "outputs": [
    {
     "data": {
      "text/html": [
       "<div>\n",
       "<style scoped>\n",
       "    .dataframe tbody tr th:only-of-type {\n",
       "        vertical-align: middle;\n",
       "    }\n",
       "\n",
       "    .dataframe tbody tr th {\n",
       "        vertical-align: top;\n",
       "    }\n",
       "\n",
       "    .dataframe thead th {\n",
       "        text-align: right;\n",
       "    }\n",
       "</style>\n",
       "<table border=\"1\" class=\"dataframe\">\n",
       "  <thead>\n",
       "    <tr style=\"text-align: right;\">\n",
       "      <th></th>\n",
       "      <th>CUSTOMER_ID</th>\n",
       "      <th>ACT_TYPE</th>\n",
       "      <th>GENDER</th>\n",
       "      <th>LEGAL_ENTITY</th>\n",
       "      <th>OCCUP_ALL_NEW</th>\n",
       "      <th>AGE</th>\n",
       "      <th>N_CASA_MAX_BALANCE_MTD</th>\n",
       "      <th>N_CASA_MIN_BALANCE_MTD</th>\n",
       "      <th>CC_HOLD</th>\n",
       "      <th>CC_ACTIVE</th>\n",
       "      <th>DC_HOLD</th>\n",
       "      <th>DC_ACTIVE</th>\n",
       "      <th>COC_ELIGIBLE</th>\n",
       "      <th>EOP_BAL_MON_01</th>\n",
       "      <th>AMB_MON_04</th>\n",
       "      <th>AMB_MON_01</th>\n",
       "      <th>AMB_MON_02</th>\n",
       "      <th>AMB_MON_03</th>\n",
       "      <th>FINANCE_MON_01</th>\n",
       "      <th>JOBS_MON_01</th>\n",
       "      <th>LIFESTYLE_MON_01</th>\n",
       "      <th>INMON_01KET_MON_01</th>\n",
       "      <th>TRAVEL_MON_01</th>\n",
       "      <th>CHANNEL_CLICK_DISP</th>\n",
       "      <th>DESIGNATION_FINAL</th>\n",
       "      <th>TOP14_CITY</th>\n",
       "      <th>TOP9_CITY</th>\n",
       "      <th>PL2CC_ELIGIBLE</th>\n",
       "      <th>NEFT_CC_CATEGORY</th>\n",
       "      <th>NEFT_DC_CATEGORY</th>\n",
       "      <th>TPT_DC_CATEGORY_MON_01</th>\n",
       "      <th>TPT_CC_CATEGORY_MON_01</th>\n",
       "      <th>IMPS_CC_CATEGORY_MON_01</th>\n",
       "      <th>ZIP_CODE_FINAL</th>\n",
       "      <th>CARD_AUTOMOBILE_MON_01</th>\n",
       "      <th>CARD_HOTEL_MON_01</th>\n",
       "      <th>CARD_JEWELLERY_MON_01</th>\n",
       "      <th>CARD_RESTAURANT_MON_01</th>\n",
       "      <th>CARD_TRAVEL_MON_01</th>\n",
       "      <th>CARD_PRSNL_CARE_MON_01</th>\n",
       "      <th>CARD_HOBBY_MON_01</th>\n",
       "      <th>CARD_HOME_DECOR_MON_01</th>\n",
       "      <th>CARD_MEDICAL_MON_01</th>\n",
       "      <th>CARD_ENTMNT_MON_01</th>\n",
       "      <th>TOP_CORP_TAG</th>\n",
       "      <th>EOP_MON_02</th>\n",
       "      <th>EOP_MON_03</th>\n",
       "      <th>SCRUB_EMI</th>\n",
       "      <th>RESPONDERS</th>\n",
       "    </tr>\n",
       "  </thead>\n",
       "  <tbody>\n",
       "    <tr>\n",
       "      <th>0</th>\n",
       "      <td>385793</td>\n",
       "      <td>CSA</td>\n",
       "      <td>M</td>\n",
       "      <td>INDIVIDUAL</td>\n",
       "      <td>SALARIED</td>\n",
       "      <td>21</td>\n",
       "      <td>0.00</td>\n",
       "      <td>0.00</td>\n",
       "      <td>N</td>\n",
       "      <td>N</td>\n",
       "      <td>Y</td>\n",
       "      <td>N</td>\n",
       "      <td>0</td>\n",
       "      <td>0.00</td>\n",
       "      <td>0.00</td>\n",
       "      <td>0.00</td>\n",
       "      <td>0.00</td>\n",
       "      <td>0.00</td>\n",
       "      <td>N</td>\n",
       "      <td>N</td>\n",
       "      <td>N</td>\n",
       "      <td>N</td>\n",
       "      <td>N</td>\n",
       "      <td>NONE</td>\n",
       "      <td>MISSING</td>\n",
       "      <td>Y</td>\n",
       "      <td>Y</td>\n",
       "      <td>0</td>\n",
       "      <td>NO_NEFT_TXN</td>\n",
       "      <td>NO_NEFT_TXN</td>\n",
       "      <td>NO_TPT_TXN</td>\n",
       "      <td>NO_TPT_TXN</td>\n",
       "      <td>NO_IMPS_TXN</td>\n",
       "      <td>400606.0</td>\n",
       "      <td>N</td>\n",
       "      <td>N</td>\n",
       "      <td>N</td>\n",
       "      <td>N</td>\n",
       "      <td>N</td>\n",
       "      <td>N</td>\n",
       "      <td>N</td>\n",
       "      <td>N</td>\n",
       "      <td>N</td>\n",
       "      <td>N</td>\n",
       "      <td>NONE</td>\n",
       "      <td>0.00</td>\n",
       "      <td>0.00</td>\n",
       "      <td>0.000000</td>\n",
       "      <td>N</td>\n",
       "    </tr>\n",
       "    <tr>\n",
       "      <th>1</th>\n",
       "      <td>286891</td>\n",
       "      <td>CSA</td>\n",
       "      <td>M</td>\n",
       "      <td>INDIVIDUAL</td>\n",
       "      <td>SALARIED</td>\n",
       "      <td>23</td>\n",
       "      <td>8243.77</td>\n",
       "      <td>7.77</td>\n",
       "      <td>N</td>\n",
       "      <td>N</td>\n",
       "      <td>Y</td>\n",
       "      <td>Y</td>\n",
       "      <td>0</td>\n",
       "      <td>11.77</td>\n",
       "      <td>1417.26</td>\n",
       "      <td>300.51</td>\n",
       "      <td>593.06</td>\n",
       "      <td>418.09</td>\n",
       "      <td>N</td>\n",
       "      <td>N</td>\n",
       "      <td>N</td>\n",
       "      <td>N</td>\n",
       "      <td>N</td>\n",
       "      <td>NONE</td>\n",
       "      <td>MISSING</td>\n",
       "      <td>Y</td>\n",
       "      <td>Y</td>\n",
       "      <td>0</td>\n",
       "      <td>NO_NEFT_TXN</td>\n",
       "      <td>NO_NEFT_TXN</td>\n",
       "      <td>NO_TPT_TXN</td>\n",
       "      <td>NO_TPT_TXN</td>\n",
       "      <td>NO_IMPS_TXN</td>\n",
       "      <td>600045.0</td>\n",
       "      <td>N</td>\n",
       "      <td>N</td>\n",
       "      <td>N</td>\n",
       "      <td>N</td>\n",
       "      <td>N</td>\n",
       "      <td>N</td>\n",
       "      <td>N</td>\n",
       "      <td>N</td>\n",
       "      <td>N</td>\n",
       "      <td>N</td>\n",
       "      <td>NONE</td>\n",
       "      <td>3016.77</td>\n",
       "      <td>3.02</td>\n",
       "      <td>0.000000</td>\n",
       "      <td>N</td>\n",
       "    </tr>\n",
       "    <tr>\n",
       "      <th>2</th>\n",
       "      <td>108751</td>\n",
       "      <td>CSA</td>\n",
       "      <td>M</td>\n",
       "      <td>INDIVIDUAL</td>\n",
       "      <td>SALARIED</td>\n",
       "      <td>41</td>\n",
       "      <td>26515.00</td>\n",
       "      <td>0.00</td>\n",
       "      <td>N</td>\n",
       "      <td>N</td>\n",
       "      <td>Y</td>\n",
       "      <td>N</td>\n",
       "      <td>0</td>\n",
       "      <td>26458.25</td>\n",
       "      <td>5354.65</td>\n",
       "      <td>6100.73</td>\n",
       "      <td>7955.82</td>\n",
       "      <td>11138.53</td>\n",
       "      <td>N</td>\n",
       "      <td>N</td>\n",
       "      <td>N</td>\n",
       "      <td>N</td>\n",
       "      <td>Y</td>\n",
       "      <td>NONE</td>\n",
       "      <td>MISSING</td>\n",
       "      <td>N</td>\n",
       "      <td>N</td>\n",
       "      <td>0</td>\n",
       "      <td>NO_NEFT_TXN</td>\n",
       "      <td>NOT_RELEVANT</td>\n",
       "      <td>NO_TPT_TXN</td>\n",
       "      <td>NO_TPT_TXN</td>\n",
       "      <td>NO_IMPS_TXN</td>\n",
       "      <td>122001</td>\n",
       "      <td>N</td>\n",
       "      <td>N</td>\n",
       "      <td>N</td>\n",
       "      <td>N</td>\n",
       "      <td>N</td>\n",
       "      <td>N</td>\n",
       "      <td>N</td>\n",
       "      <td>N</td>\n",
       "      <td>N</td>\n",
       "      <td>N</td>\n",
       "      <td>NONE</td>\n",
       "      <td>9999.00</td>\n",
       "      <td>14858.75</td>\n",
       "      <td>0.000000</td>\n",
       "      <td>N</td>\n",
       "    </tr>\n",
       "    <tr>\n",
       "      <th>3</th>\n",
       "      <td>278651</td>\n",
       "      <td>CSA</td>\n",
       "      <td>M</td>\n",
       "      <td>INDIVIDUAL</td>\n",
       "      <td>SALARIED</td>\n",
       "      <td>28</td>\n",
       "      <td>65917.28</td>\n",
       "      <td>8270.28</td>\n",
       "      <td>Y</td>\n",
       "      <td>Y</td>\n",
       "      <td>Y</td>\n",
       "      <td>Y</td>\n",
       "      <td>1</td>\n",
       "      <td>65917.28</td>\n",
       "      <td>113120.39</td>\n",
       "      <td>35560.81</td>\n",
       "      <td>42686.93</td>\n",
       "      <td>61593.38</td>\n",
       "      <td>Y</td>\n",
       "      <td>N</td>\n",
       "      <td>N</td>\n",
       "      <td>N</td>\n",
       "      <td>N</td>\n",
       "      <td>NONE</td>\n",
       "      <td>MISSING</td>\n",
       "      <td>N</td>\n",
       "      <td>N</td>\n",
       "      <td>0</td>\n",
       "      <td>NO_NEFT_TXN</td>\n",
       "      <td>NO_NEFT_TXN</td>\n",
       "      <td>NO_TPT_TXN</td>\n",
       "      <td>NO_TPT_TXN</td>\n",
       "      <td>NO_IMPS_TXN</td>\n",
       "      <td>311408.0</td>\n",
       "      <td>N</td>\n",
       "      <td>N</td>\n",
       "      <td>Y</td>\n",
       "      <td>N</td>\n",
       "      <td>N</td>\n",
       "      <td>Y</td>\n",
       "      <td>N</td>\n",
       "      <td>Y</td>\n",
       "      <td>Y</td>\n",
       "      <td>N</td>\n",
       "      <td>NONE</td>\n",
       "      <td>27163.10</td>\n",
       "      <td>49675.27</td>\n",
       "      <td>0.000000</td>\n",
       "      <td>N</td>\n",
       "    </tr>\n",
       "    <tr>\n",
       "      <th>4</th>\n",
       "      <td>23637</td>\n",
       "      <td>CSA</td>\n",
       "      <td>M</td>\n",
       "      <td>INDIVIDUAL</td>\n",
       "      <td>SALARIED</td>\n",
       "      <td>34</td>\n",
       "      <td>22260.94</td>\n",
       "      <td>6060.94</td>\n",
       "      <td>Y</td>\n",
       "      <td>Y</td>\n",
       "      <td>Y</td>\n",
       "      <td>N</td>\n",
       "      <td>0</td>\n",
       "      <td>6172.94</td>\n",
       "      <td>9099.94</td>\n",
       "      <td>15858.71</td>\n",
       "      <td>14008.08</td>\n",
       "      <td>4570.73</td>\n",
       "      <td>N</td>\n",
       "      <td>N</td>\n",
       "      <td>N</td>\n",
       "      <td>N</td>\n",
       "      <td>N</td>\n",
       "      <td>NONE</td>\n",
       "      <td>ENGINEER</td>\n",
       "      <td>N</td>\n",
       "      <td>N</td>\n",
       "      <td>0</td>\n",
       "      <td>NO_NEFT_TXN</td>\n",
       "      <td>NO_NEFT_TXN</td>\n",
       "      <td>NO_TPT_TXN</td>\n",
       "      <td>NO_TPT_TXN</td>\n",
       "      <td>NOT_RELEVANT</td>\n",
       "      <td>122015</td>\n",
       "      <td>N</td>\n",
       "      <td>N</td>\n",
       "      <td>N</td>\n",
       "      <td>N</td>\n",
       "      <td>N</td>\n",
       "      <td>N</td>\n",
       "      <td>N</td>\n",
       "      <td>N</td>\n",
       "      <td>Y</td>\n",
       "      <td>N</td>\n",
       "      <td>NONE</td>\n",
       "      <td>21065.87</td>\n",
       "      <td>983.87</td>\n",
       "      <td>251.758794</td>\n",
       "      <td>N</td>\n",
       "    </tr>\n",
       "  </tbody>\n",
       "</table>\n",
       "</div>"
      ],
      "text/plain": [
       "   CUSTOMER_ID ACT_TYPE GENDER LEGAL_ENTITY OCCUP_ALL_NEW  AGE  \\\n",
       "0       385793      CSA      M   INDIVIDUAL      SALARIED   21   \n",
       "1       286891      CSA      M   INDIVIDUAL      SALARIED   23   \n",
       "2       108751      CSA      M   INDIVIDUAL      SALARIED   41   \n",
       "3       278651      CSA      M   INDIVIDUAL      SALARIED   28   \n",
       "4        23637      CSA      M   INDIVIDUAL      SALARIED   34   \n",
       "\n",
       "   N_CASA_MAX_BALANCE_MTD  N_CASA_MIN_BALANCE_MTD CC_HOLD CC_ACTIVE DC_HOLD  \\\n",
       "0                    0.00                    0.00       N         N       Y   \n",
       "1                 8243.77                    7.77       N         N       Y   \n",
       "2                26515.00                    0.00       N         N       Y   \n",
       "3                65917.28                 8270.28       Y         Y       Y   \n",
       "4                22260.94                 6060.94       Y         Y       Y   \n",
       "\n",
       "  DC_ACTIVE  COC_ELIGIBLE  EOP_BAL_MON_01  AMB_MON_04  AMB_MON_01  AMB_MON_02  \\\n",
       "0         N             0            0.00        0.00        0.00        0.00   \n",
       "1         Y             0           11.77     1417.26      300.51      593.06   \n",
       "2         N             0        26458.25     5354.65     6100.73     7955.82   \n",
       "3         Y             1        65917.28   113120.39    35560.81    42686.93   \n",
       "4         N             0         6172.94     9099.94    15858.71    14008.08   \n",
       "\n",
       "   AMB_MON_03 FINANCE_MON_01 JOBS_MON_01 LIFESTYLE_MON_01 INMON_01KET_MON_01  \\\n",
       "0        0.00              N           N                N                  N   \n",
       "1      418.09              N           N                N                  N   \n",
       "2    11138.53              N           N                N                  N   \n",
       "3    61593.38              Y           N                N                  N   \n",
       "4     4570.73              N           N                N                  N   \n",
       "\n",
       "  TRAVEL_MON_01 CHANNEL_CLICK_DISP DESIGNATION_FINAL TOP14_CITY TOP9_CITY  \\\n",
       "0             N               NONE           MISSING          Y         Y   \n",
       "1             N               NONE           MISSING          Y         Y   \n",
       "2             Y               NONE           MISSING          N         N   \n",
       "3             N               NONE           MISSING          N         N   \n",
       "4             N               NONE          ENGINEER          N         N   \n",
       "\n",
       "   PL2CC_ELIGIBLE NEFT_CC_CATEGORY NEFT_DC_CATEGORY TPT_DC_CATEGORY_MON_01  \\\n",
       "0               0      NO_NEFT_TXN      NO_NEFT_TXN             NO_TPT_TXN   \n",
       "1               0      NO_NEFT_TXN      NO_NEFT_TXN             NO_TPT_TXN   \n",
       "2               0      NO_NEFT_TXN     NOT_RELEVANT             NO_TPT_TXN   \n",
       "3               0      NO_NEFT_TXN      NO_NEFT_TXN             NO_TPT_TXN   \n",
       "4               0      NO_NEFT_TXN      NO_NEFT_TXN             NO_TPT_TXN   \n",
       "\n",
       "  TPT_CC_CATEGORY_MON_01 IMPS_CC_CATEGORY_MON_01 ZIP_CODE_FINAL  \\\n",
       "0             NO_TPT_TXN             NO_IMPS_TXN       400606.0   \n",
       "1             NO_TPT_TXN             NO_IMPS_TXN       600045.0   \n",
       "2             NO_TPT_TXN             NO_IMPS_TXN         122001   \n",
       "3             NO_TPT_TXN             NO_IMPS_TXN       311408.0   \n",
       "4             NO_TPT_TXN            NOT_RELEVANT         122015   \n",
       "\n",
       "  CARD_AUTOMOBILE_MON_01 CARD_HOTEL_MON_01 CARD_JEWELLERY_MON_01  \\\n",
       "0                      N                 N                     N   \n",
       "1                      N                 N                     N   \n",
       "2                      N                 N                     N   \n",
       "3                      N                 N                     Y   \n",
       "4                      N                 N                     N   \n",
       "\n",
       "  CARD_RESTAURANT_MON_01 CARD_TRAVEL_MON_01 CARD_PRSNL_CARE_MON_01  \\\n",
       "0                      N                  N                      N   \n",
       "1                      N                  N                      N   \n",
       "2                      N                  N                      N   \n",
       "3                      N                  N                      Y   \n",
       "4                      N                  N                      N   \n",
       "\n",
       "  CARD_HOBBY_MON_01 CARD_HOME_DECOR_MON_01 CARD_MEDICAL_MON_01  \\\n",
       "0                 N                      N                   N   \n",
       "1                 N                      N                   N   \n",
       "2                 N                      N                   N   \n",
       "3                 N                      Y                   Y   \n",
       "4                 N                      N                   Y   \n",
       "\n",
       "  CARD_ENTMNT_MON_01 TOP_CORP_TAG  EOP_MON_02  EOP_MON_03   SCRUB_EMI  \\\n",
       "0                  N         NONE        0.00        0.00    0.000000   \n",
       "1                  N         NONE     3016.77        3.02    0.000000   \n",
       "2                  N         NONE     9999.00    14858.75    0.000000   \n",
       "3                  N         NONE    27163.10    49675.27    0.000000   \n",
       "4                  N         NONE    21065.87      983.87  251.758794   \n",
       "\n",
       "  RESPONDERS  \n",
       "0          N  \n",
       "1          N  \n",
       "2          N  \n",
       "3          N  \n",
       "4          N  "
      ]
     },
     "execution_count": 10,
     "metadata": {},
     "output_type": "execute_result"
    }
   ],
   "source": [
    "newData.head()"
   ]
  },
  {
   "cell_type": "markdown",
   "metadata": {
    "colab_type": "text",
    "id": "8YAJsdFEweZd"
   },
   "source": [
    "### Analysis of Act type"
   ]
  },
  {
   "cell_type": "code",
   "execution_count": 11,
   "metadata": {
    "colab": {
     "base_uri": "https://localhost:8080/"
    },
    "colab_type": "code",
    "id": "niHQ9mrO04XP",
    "outputId": "26b50c36-24bb-49ee-b581-ac2e240a6346"
   },
   "outputs": [
    {
     "data": {
      "text/plain": [
       "array(['CSA', 'SA'], dtype=object)"
      ]
     },
     "execution_count": 11,
     "metadata": {},
     "output_type": "execute_result"
    }
   ],
   "source": [
    "newData['ACT_TYPE'].unique()"
   ]
  },
  {
   "cell_type": "code",
   "execution_count": 12,
   "metadata": {
    "colab": {
     "base_uri": "https://localhost:8080/"
    },
    "colab_type": "code",
    "id": "3zzyPrN91AYp",
    "outputId": "23c68dd6-e7cf-46a0-8e66-b6afdbf3e019"
   },
   "outputs": [
    {
     "data": {
      "text/plain": [
       "<BarContainer object of 2 artists>"
      ]
     },
     "execution_count": 12,
     "metadata": {},
     "output_type": "execute_result"
    },
    {
     "data": {
      "image/png": "[encoded data removed]",
      "text/plain": [
       "<Figure size 432x288 with 1 Axes>"
      ]
     },
     "metadata": {
      "needs_background": "light"
     },
     "output_type": "display_data"
    }
   ],
   "source": [
    "plt.bar(newData['ACT_TYPE'].unique(),newData.ACT_TYPE.value_counts())"
   ]
  },
  {
   "cell_type": "code",
   "execution_count": 13,
   "metadata": {
    "colab": {
     "base_uri": "https://localhost:8080/"
    },
    "colab_type": "code",
    "id": "v0aZ8QCzwrmy",
    "outputId": "e2db43e1-4eaa-4056-eed0-3e58a7614752"
   },
   "outputs": [
    {
     "data": {
      "text/plain": [
       "<BarContainer object of 2 artists>"
      ]
     },
     "execution_count": 13,
     "metadata": {},
     "output_type": "execute_result"
    },
    {
     "data": {
      "image/png": "[encoded data removed]",
      "text/plain": [
       "<Figure size 432x288 with 1 Axes>"
      ]
     },
     "metadata": {
      "needs_background": "light"
     },
     "output_type": "display_data"
    }
   ],
   "source": [
    "plt.bar(newData['ACT_TYPE'].unique(),newData.ACT_TYPE[newData.RESPONDERS == 'N'].value_counts(),color='r')"
   ]
  },
  {
   "cell_type": "code",
   "execution_count": 14,
   "metadata": {
    "colab": {
     "base_uri": "https://localhost:8080/"
    },
    "colab_type": "code",
    "id": "rKZn24kzwr93",
    "outputId": "975c9065-cd12-4c46-d328-1d9135f024e5"
   },
   "outputs": [
    {
     "data": {
      "text/plain": [
       "<BarContainer object of 2 artists>"
      ]
     },
     "execution_count": 14,
     "metadata": {},
     "output_type": "execute_result"
    },
    {
     "data": {
      "image/png": "[encoded data removed]",
      "text/plain": [
       "<Figure size 432x288 with 1 Axes>"
      ]
     },
     "metadata": {
      "needs_background": "light"
     },
     "output_type": "display_data"
    }
   ],
   "source": [
    "plt.bar(newData['ACT_TYPE'].unique(),newData.ACT_TYPE[newData.RESPONDERS == 'Y'].value_counts(),color='g')"
   ]
  },
  {
   "cell_type": "code",
   "execution_count": 15,
   "metadata": {
    "colab": {},
    "colab_type": "code",
    "id": "Aki0zomU1Pgb"
   },
   "outputs": [],
   "source": [
    "leActType = LabelEncoder()"
   ]
  },
  {
   "cell_type": "code",
   "execution_count": 16,
   "metadata": {
    "colab": {
     "base_uri": "https://localhost:8080/"
    },
    "colab_type": "code",
    "id": "Q3h6hITd2djz",
    "outputId": "e4a34355-7375-4b3e-f399-7d75ddf51250"
   },
   "outputs": [
    {
     "name": "stderr",
     "output_type": "stream",
     "text": [
      "/home/greenalien24/anaconda3/lib/python3.7/site-packages/ipykernel_launcher.py:1: SettingWithCopyWarning: \n",
      "A value is trying to be set on a copy of a slice from a DataFrame.\n",
      "Try using .loc[row_indexer,col_indexer] = value instead\n",
      "\n",
      "See the caveats in the documentation: http://pandas.pydata.org/pandas-docs/stable/user_guide/indexing.html#returning-a-view-versus-a-copy\n",
      "  \"\"\"Entry point for launching an IPython kernel.\n"
     ]
    }
   ],
   "source": [
    "newData['ACT_TYPE'] = leActType.fit_transform(newData['ACT_TYPE'])"
   ]
  },
  {
   "cell_type": "markdown",
   "metadata": {
    "colab_type": "text",
    "id": "eli6JoRGv6Rf"
   },
   "source": [
    "### Analysis of Gender"
   ]
  },
  {
   "cell_type": "code",
   "execution_count": 17,
   "metadata": {
    "colab": {
     "base_uri": "https://localhost:8080/"
    },
    "colab_type": "code",
    "id": "yfZaJnJTv6Rh",
    "outputId": "5c86e613-cffc-4f4d-a1ba-017c5f6be1e5"
   },
   "outputs": [
    {
     "data": {
      "text/plain": [
       "array(['M', 'F', nan], dtype=object)"
      ]
     },
     "execution_count": 17,
     "metadata": {},
     "output_type": "execute_result"
    }
   ],
   "source": [
    "newData['GENDER'].unique()"
   ]
  },
  {
   "cell_type": "code",
   "execution_count": 18,
   "metadata": {
    "colab": {},
    "colab_type": "code",
    "id": "rGCb5dlLv6Rn"
   },
   "outputs": [],
   "source": [
    "def genderFill(df):\n",
    "    df['GENDER'].fillna(str(df['GENDER'].mode().values[0]),inplace=True)"
   ]
  },
  {
   "cell_type": "code",
   "execution_count": 19,
   "metadata": {
    "colab": {
     "base_uri": "https://localhost:8080/"
    },
    "colab_type": "code",
    "id": "sDiIMrdJv6Rt",
    "outputId": "f4816130-3cc1-421a-ab13-07397e81811c"
   },
   "outputs": [
    {
     "name": "stderr",
     "output_type": "stream",
     "text": [
      "/home/greenalien24/anaconda3/lib/python3.7/site-packages/pandas/core/generic.py:6287: SettingWithCopyWarning: \n",
      "A value is trying to be set on a copy of a slice from a DataFrame\n",
      "\n",
      "See the caveats in the documentation: http://pandas.pydata.org/pandas-docs/stable/user_guide/indexing.html#returning-a-view-versus-a-copy\n",
      "  self._update_inplace(new_data)\n"
     ]
    }
   ],
   "source": [
    "genderFill(newData)"
   ]
  },
  {
   "cell_type": "code",
   "execution_count": 20,
   "metadata": {
    "colab": {
     "base_uri": "https://localhost:8080/"
    },
    "colab_type": "code",
    "id": "Q_8ht5n130sz",
    "outputId": "d2b6735e-9a32-49cf-a138-fb3938461cfa"
   },
   "outputs": [
    {
     "data": {
      "text/plain": [
       "<BarContainer object of 2 artists>"
      ]
     },
     "execution_count": 20,
     "metadata": {},
     "output_type": "execute_result"
    },
    {
     "data": {
      "image/png": "[encoded data removed]",
      "text/plain": [
       "<Figure size 432x288 with 1 Axes>"
      ]
     },
     "metadata": {
      "needs_background": "light"
     },
     "output_type": "display_data"
    }
   ],
   "source": [
    "plt.bar(newData['GENDER'].unique(),newData.GENDER.value_counts())"
   ]
  },
  {
   "cell_type": "code",
   "execution_count": 21,
   "metadata": {
    "colab": {
     "base_uri": "https://localhost:8080/"
    },
    "colab_type": "code",
    "id": "MPB14VrOtxKV",
    "outputId": "2665fd28-8ea3-4bef-815e-c66a43e684d3"
   },
   "outputs": [
    {
     "data": {
      "image/png": "[encoded data removed]",
      "text/plain": [
       "<Figure size 432x288 with 1 Axes>"
      ]
     },
     "metadata": {
      "needs_background": "light"
     },
     "output_type": "display_data"
    }
   ],
   "source": [
    "plt.bar(['M','F'],newData.GENDER[newData.RESPONDERS == 'Y'].value_counts(),color='g',alpha=0.5)\n",
    "plt.show()"
   ]
  },
  {
   "cell_type": "code",
   "execution_count": 22,
   "metadata": {
    "colab": {
     "base_uri": "https://localhost:8080/"
    },
    "colab_type": "code",
    "id": "gEHn3xeDuvVg",
    "outputId": "d2de1f3a-080d-4131-e083-dff671a923e3"
   },
   "outputs": [
    {
     "data": {
      "image/png": "[encoded data removed]",
      "text/plain": [
       "<Figure size 432x288 with 1 Axes>"
      ]
     },
     "metadata": {
      "needs_background": "light"
     },
     "output_type": "display_data"
    }
   ],
   "source": [
    "plt.bar(['M','F'],newData.GENDER[newData.RESPONDERS == 'N'].value_counts(),color='r',alpha=0.5)\n",
    "plt.show()"
   ]
  },
  {
   "cell_type": "code",
   "execution_count": 23,
   "metadata": {
    "colab": {},
    "colab_type": "code",
    "id": "RmS6gkgzv6Ry"
   },
   "outputs": [],
   "source": [
    "leGen = LabelEncoder()"
   ]
  },
  {
   "cell_type": "code",
   "execution_count": 24,
   "metadata": {
    "colab": {
     "base_uri": "https://localhost:8080/"
    },
    "colab_type": "code",
    "id": "EiTH1cF046Dv",
    "outputId": "fbe023ea-d8f9-4022-ad14-3e21c71bb6bb"
   },
   "outputs": [
    {
     "name": "stderr",
     "output_type": "stream",
     "text": [
      "/home/greenalien24/anaconda3/lib/python3.7/site-packages/ipykernel_launcher.py:1: SettingWithCopyWarning: \n",
      "A value is trying to be set on a copy of a slice from a DataFrame.\n",
      "Try using .loc[row_indexer,col_indexer] = value instead\n",
      "\n",
      "See the caveats in the documentation: http://pandas.pydata.org/pandas-docs/stable/user_guide/indexing.html#returning-a-view-versus-a-copy\n",
      "  \"\"\"Entry point for launching an IPython kernel.\n"
     ]
    }
   ],
   "source": [
    "newData['GENDER'] = leGen.fit_transform(newData['GENDER'])"
   ]
  },
  {
   "cell_type": "markdown",
   "metadata": {
    "colab_type": "text",
    "id": "IhqldZpJv6R4"
   },
   "source": [
    "### Analysis on AGE"
   ]
  },
  {
   "cell_type": "code",
   "execution_count": 25,
   "metadata": {
    "colab": {
     "base_uri": "https://localhost:8080/"
    },
    "colab_type": "code",
    "id": "oPW_9S2Av6R6",
    "outputId": "73bf3764-50a1-424b-9a56-9e266afdf290"
   },
   "outputs": [
    {
     "data": {
      "text/plain": [
       "<matplotlib.axes._subplots.AxesSubplot at 0x7fefe0900d50>"
      ]
     },
     "execution_count": 25,
     "metadata": {},
     "output_type": "execute_result"
    },
    {
     "data": {
      "image/png": "[encoded data removed]",
      "text/plain": [
       "<Figure size 432x288 with 1 Axes>"
      ]
     },
     "metadata": {
      "needs_background": "light"
     },
     "output_type": "display_data"
    }
   ],
   "source": [
    "newData['AGE'].plot(kind='hist',alpha=0.7,color='g')"
   ]
  },
  {
   "cell_type": "code",
   "execution_count": 26,
   "metadata": {
    "colab": {
     "base_uri": "https://localhost:8080/"
    },
    "colab_type": "code",
    "id": "TVJdQ55pv6R_",
    "outputId": "d0546bf6-bfe3-4936-e8fd-db4b6fc53de0"
   },
   "outputs": [
    {
     "data": {
      "text/plain": [
       "1305"
      ]
     },
     "execution_count": 26,
     "metadata": {},
     "output_type": "execute_result"
    }
   ],
   "source": [
    "newData['AGE'][newData['AGE'] > 100].count()"
   ]
  },
  {
   "cell_type": "code",
   "execution_count": 27,
   "metadata": {
    "colab": {},
    "colab_type": "code",
    "id": "qBxdcaqgv6SK"
   },
   "outputs": [],
   "source": [
    "newData = newData[newData['AGE'] <= 100]"
   ]
  },
  {
   "cell_type": "code",
   "execution_count": 28,
   "metadata": {
    "colab": {
     "base_uri": "https://localhost:8080/"
    },
    "colab_type": "code",
    "id": "VH9u20ASv6SP",
    "outputId": "c5492c76-6ae2-42c8-c10b-3f6746aa5de9"
   },
   "outputs": [
    {
     "data": {
      "text/plain": [
       "(298695, 49)"
      ]
     },
     "execution_count": 28,
     "metadata": {},
     "output_type": "execute_result"
    }
   ],
   "source": [
    "newData.shape"
   ]
  },
  {
   "cell_type": "code",
   "execution_count": 29,
   "metadata": {
    "colab": {
     "base_uri": "https://localhost:8080/"
    },
    "colab_type": "code",
    "id": "2n2aHrLkDqVe",
    "outputId": "d17ad614-3793-466d-b979-6f1bf6765727"
   },
   "outputs": [
    {
     "data": {
      "text/plain": [
       "count    298695.000000\n",
       "mean         33.355416\n",
       "std           9.493298\n",
       "min          21.000000\n",
       "25%          26.000000\n",
       "50%          31.000000\n",
       "75%          38.000000\n",
       "max          65.000000\n",
       "Name: AGE, dtype: float64"
      ]
     },
     "execution_count": 29,
     "metadata": {},
     "output_type": "execute_result"
    }
   ],
   "source": [
    "newData['AGE'].describe()"
   ]
  },
  {
   "cell_type": "code",
   "execution_count": 30,
   "metadata": {
    "colab": {
     "base_uri": "https://localhost:8080/"
    },
    "colab_type": "code",
    "id": "TIOl9sQ8FsiN",
    "outputId": "072e64a4-499c-4d75-9060-5cda1c5a0abf"
   },
   "outputs": [
    {
     "data": {
      "text/plain": [
       "<matplotlib.collections.PathCollection at 0x7fefe06cd550>"
      ]
     },
     "execution_count": 30,
     "metadata": {},
     "output_type": "execute_result"
    },
    {
     "data": {
      "image/png": "[encoded data removed]",
      "text/plain": [
       "<Figure size 432x288 with 1 Axes>"
      ]
     },
     "metadata": {
      "needs_background": "light"
     },
     "output_type": "display_data"
    }
   ],
   "source": [
    "plt.scatter(newData['AGE'].value_counts().sort_index().index,newData['AGE'].value_counts().sort_index().values)"
   ]
  },
  {
   "cell_type": "markdown",
   "metadata": {
    "colab_type": "text",
    "id": "INu-FAyzz8gR"
   },
   "source": [
    "### Analysis on Legal Entity"
   ]
  },
  {
   "cell_type": "code",
   "execution_count": 31,
   "metadata": {
    "colab": {
     "base_uri": "https://localhost:8080/"
    },
    "colab_type": "code",
    "id": "aGnADkC70FiK",
    "outputId": "3b297312-592a-4e8e-cdd4-f042525a1e46"
   },
   "outputs": [
    {
     "data": {
      "text/plain": [
       "array(['INDIVIDUAL', 'OTHERS', 'NON_GOVERNMENTAL_ORG', 'FIRM'],\n",
       "      dtype=object)"
      ]
     },
     "execution_count": 31,
     "metadata": {},
     "output_type": "execute_result"
    }
   ],
   "source": [
    "newData['LEGAL_ENTITY'].unique()"
   ]
  },
  {
   "cell_type": "code",
   "execution_count": 32,
   "metadata": {
    "colab": {},
    "colab_type": "code",
    "id": "fQ835EKO0Vps"
   },
   "outputs": [],
   "source": [
    "leLe = LabelEncoder()"
   ]
  },
  {
   "cell_type": "code",
   "execution_count": 33,
   "metadata": {
    "colab": {},
    "colab_type": "code",
    "id": "G0fZ17tZ0aYS"
   },
   "outputs": [
    {
     "name": "stderr",
     "output_type": "stream",
     "text": [
      "/home/greenalien24/anaconda3/lib/python3.7/site-packages/ipykernel_launcher.py:1: SettingWithCopyWarning: \n",
      "A value is trying to be set on a copy of a slice from a DataFrame.\n",
      "Try using .loc[row_indexer,col_indexer] = value instead\n",
      "\n",
      "See the caveats in the documentation: http://pandas.pydata.org/pandas-docs/stable/user_guide/indexing.html#returning-a-view-versus-a-copy\n",
      "  \"\"\"Entry point for launching an IPython kernel.\n"
     ]
    }
   ],
   "source": [
    "newData['LEGAL_ENTITY'] = leLe.fit_transform(newData['LEGAL_ENTITY'])"
   ]
  },
  {
   "cell_type": "code",
   "execution_count": 35,
   "metadata": {
    "colab": {
     "base_uri": "https://localhost:8080/"
    },
    "colab_type": "code",
    "id": "ahakfQDU0qvf",
    "outputId": "b73aa4d8-f9e8-41d0-e5fb-87ced8592a81"
   },
   "outputs": [
    {
     "data": {
      "text/plain": [
       "<BarContainer object of 4 artists>"
      ]
     },
     "execution_count": 35,
     "metadata": {},
     "output_type": "execute_result"
    },
    {
     "data": {
      "image/png": "[encoded data removed]",
      "text/plain": [
       "<Figure size 864x648 with 1 Axes>"
      ]
     },
     "metadata": {
      "needs_background": "light"
     },
     "output_type": "display_data"
    }
   ],
   "source": [
    "plt.figure(figsize=(12,9))\n",
    "plt.bar(leLe.classes_,newData['LEGAL_ENTITY'].value_counts().sort_index().values,color='orange')"
   ]
  },
  {
   "cell_type": "markdown",
   "metadata": {
    "colab_type": "text",
    "id": "G2scUKxb24qm"
   },
   "source": [
    "### Analysis on Occupation"
   ]
  },
  {
   "cell_type": "code",
   "execution_count": 36,
   "metadata": {
    "colab": {
     "base_uri": "https://localhost:8080/"
    },
    "colab_type": "code",
    "id": "-5-_7Hrw3enf",
    "outputId": "4562d1e1-f3f7-443e-f499-98b01f37aff6"
   },
   "outputs": [
    {
     "data": {
      "text/plain": [
       "array(['SALARIED'], dtype=object)"
      ]
     },
     "execution_count": 36,
     "metadata": {},
     "output_type": "execute_result"
    }
   ],
   "source": [
    "newData['OCCUP_ALL_NEW'].unique()"
   ]
  },
  {
   "cell_type": "code",
   "execution_count": 37,
   "metadata": {
    "colab": {},
    "colab_type": "code",
    "id": "yANknwoI32Rt"
   },
   "outputs": [
    {
     "name": "stderr",
     "output_type": "stream",
     "text": [
      "/home/greenalien24/anaconda3/lib/python3.7/site-packages/pandas/core/frame.py:4117: SettingWithCopyWarning: \n",
      "A value is trying to be set on a copy of a slice from a DataFrame\n",
      "\n",
      "See the caveats in the documentation: http://pandas.pydata.org/pandas-docs/stable/user_guide/indexing.html#returning-a-view-versus-a-copy\n",
      "  errors=errors,\n"
     ]
    }
   ],
   "source": [
    "newData.drop('OCCUP_ALL_NEW',axis=1,inplace=True)"
   ]
  },
  {
   "cell_type": "markdown",
   "metadata": {
    "colab_type": "text",
    "id": "bwwotdhQv6SV"
   },
   "source": [
    "### Analysis of Average Monthly Balance"
   ]
  },
  {
   "cell_type": "code",
   "execution_count": 38,
   "metadata": {
    "colab": {
     "base_uri": "https://localhost:8080/"
    },
    "colab_type": "code",
    "id": "-Waeorqkv6Sc",
    "outputId": "6b8b05d4-f493-4a9a-dd3b-005a3b83adec",
    "scrolled": true
   },
   "outputs": [
    {
     "data": {
      "text/html": [
       "<div>\n",
       "<style scoped>\n",
       "    .dataframe tbody tr th:only-of-type {\n",
       "        vertical-align: middle;\n",
       "    }\n",
       "\n",
       "    .dataframe tbody tr th {\n",
       "        vertical-align: top;\n",
       "    }\n",
       "\n",
       "    .dataframe thead th {\n",
       "        text-align: right;\n",
       "    }\n",
       "</style>\n",
       "<table border=\"1\" class=\"dataframe\">\n",
       "  <thead>\n",
       "    <tr style=\"text-align: right;\">\n",
       "      <th></th>\n",
       "      <th>AMB_MON_01</th>\n",
       "      <th>AMB_MON_02</th>\n",
       "      <th>AMB_MON_03</th>\n",
       "      <th>AMB_MON_04</th>\n",
       "    </tr>\n",
       "  </thead>\n",
       "  <tbody>\n",
       "    <tr>\n",
       "      <th>AMB_MON_01</th>\n",
       "      <td>1.000000</td>\n",
       "      <td>0.844099</td>\n",
       "      <td>0.723092</td>\n",
       "      <td>0.648993</td>\n",
       "    </tr>\n",
       "    <tr>\n",
       "      <th>AMB_MON_02</th>\n",
       "      <td>0.844099</td>\n",
       "      <td>1.000000</td>\n",
       "      <td>0.863011</td>\n",
       "      <td>0.750984</td>\n",
       "    </tr>\n",
       "    <tr>\n",
       "      <th>AMB_MON_03</th>\n",
       "      <td>0.723092</td>\n",
       "      <td>0.863011</td>\n",
       "      <td>1.000000</td>\n",
       "      <td>0.868657</td>\n",
       "    </tr>\n",
       "    <tr>\n",
       "      <th>AMB_MON_04</th>\n",
       "      <td>0.648993</td>\n",
       "      <td>0.750984</td>\n",
       "      <td>0.868657</td>\n",
       "      <td>1.000000</td>\n",
       "    </tr>\n",
       "  </tbody>\n",
       "</table>\n",
       "</div>"
      ],
      "text/plain": [
       "            AMB_MON_01  AMB_MON_02  AMB_MON_03  AMB_MON_04\n",
       "AMB_MON_01    1.000000    0.844099    0.723092    0.648993\n",
       "AMB_MON_02    0.844099    1.000000    0.863011    0.750984\n",
       "AMB_MON_03    0.723092    0.863011    1.000000    0.868657\n",
       "AMB_MON_04    0.648993    0.750984    0.868657    1.000000"
      ]
     },
     "execution_count": 38,
     "metadata": {},
     "output_type": "execute_result"
    }
   ],
   "source": [
    "newData[['AMB_MON_01','AMB_MON_02','AMB_MON_03','AMB_MON_04']].corr()"
   ]
  },
  {
   "cell_type": "code",
   "execution_count": 39,
   "metadata": {
    "colab": {},
    "colab_type": "code",
    "id": "4GFvxDbVv6Sh"
   },
   "outputs": [],
   "source": [
    "def ambFill(df,listofcols):\n",
    "    '''For fill na value in AMB_MON_0*(should be in asc order).'''\n",
    "    for i in range(1,len(listofcols)):\n",
    "        df[listofcols[i]][df[listofcols[i]].isnull()] = df[listofcols[i-1]][df[listofcols[i]].isnull()]"
   ]
  },
  {
   "cell_type": "code",
   "execution_count": 40,
   "metadata": {
    "colab": {
     "base_uri": "https://localhost:8080/"
    },
    "colab_type": "code",
    "id": "zc1U6R5Vv6Sm",
    "outputId": "18305dfb-8fde-492b-cb89-315f6af4c77f"
   },
   "outputs": [
    {
     "name": "stderr",
     "output_type": "stream",
     "text": [
      "/home/greenalien24/anaconda3/lib/python3.7/site-packages/ipykernel_launcher.py:4: SettingWithCopyWarning: \n",
      "A value is trying to be set on a copy of a slice from a DataFrame\n",
      "\n",
      "See the caveats in the documentation: http://pandas.pydata.org/pandas-docs/stable/user_guide/indexing.html#returning-a-view-versus-a-copy\n",
      "  after removing the cwd from sys.path.\n",
      "/home/greenalien24/anaconda3/lib/python3.7/site-packages/pandas/core/generic.py:9114: SettingWithCopyWarning: \n",
      "A value is trying to be set on a copy of a slice from a DataFrame\n",
      "\n",
      "See the caveats in the documentation: http://pandas.pydata.org/pandas-docs/stable/user_guide/indexing.html#returning-a-view-versus-a-copy\n",
      "  self._update_inplace(new_data)\n",
      "/home/greenalien24/anaconda3/lib/python3.7/site-packages/ipykernel_launcher.py:1: SettingWithCopyWarning: \n",
      "A value is trying to be set on a copy of a slice from a DataFrame\n",
      "\n",
      "See the caveats in the documentation: http://pandas.pydata.org/pandas-docs/stable/user_guide/indexing.html#returning-a-view-versus-a-copy\n",
      "  \"\"\"Entry point for launching an IPython kernel.\n"
     ]
    }
   ],
   "source": [
    "ambFill(newData,['AMB_MON_01','AMB_MON_02','AMB_MON_03','AMB_MON_04'])"
   ]
  },
  {
   "cell_type": "code",
   "execution_count": 41,
   "metadata": {
    "colab": {
     "base_uri": "https://localhost:8080/"
    },
    "colab_type": "code",
    "id": "J6OamKHNv6Sr",
    "outputId": "186d3fb0-bcac-4e6e-d8b7-084d991462de"
   },
   "outputs": [
    {
     "data": {
      "text/plain": [
       "ZIP_CODE_FINAL    True\n",
       "EOP_MON_02        True\n",
       "EOP_MON_03        True\n",
       "dtype: bool"
      ]
     },
     "execution_count": 41,
     "metadata": {},
     "output_type": "execute_result"
    }
   ],
   "source": [
    "newData.isnull().any()[newData.isnull().any().values == True]"
   ]
  },
  {
   "cell_type": "code",
   "execution_count": 42,
   "metadata": {
    "colab": {
     "base_uri": "https://localhost:8080/"
    },
    "colab_type": "code",
    "id": "-ySlya7cywcC",
    "outputId": "e47f6f1b-94c2-4c4a-a409-c8e43049352d"
   },
   "outputs": [
    {
     "data": {
      "image/png": "[encoded data removed]",
      "text/plain": [
       "<Figure size 1152x648 with 8 Axes>"
      ]
     },
     "metadata": {
      "needs_background": "light"
     },
     "output_type": "display_data"
    }
   ],
   "source": [
    "fig, axs = plt.subplots(4,2,figsize=(16,9))\n",
    "y=0\n",
    "x=0\n",
    "for col in ['AMB_MON_01','AMB_MON_02','AMB_MON_03','AMB_MON_04']:\n",
    "    y=0\n",
    "    cl = 'g'\n",
    "    if x == 4:\n",
    "        break\n",
    "    for res in ['Y','N']:\n",
    "        plt.title('{} Response for {} Column'.format(res,col))\n",
    "        axs[x,y].scatter(newData[col][newData.RESPONDERS == res].sort_index().index, newData[col][newData.RESPONDERS == res].sort_index().values,color = cl,alpha=0.8)\n",
    "        axs[x,y].set_yscale('log')\n",
    "        y += 1\n",
    "        cl = 'r'\n",
    "    x += 1\n",
    "plt.show()"
   ]
  },
  {
   "cell_type": "code",
   "execution_count": 43,
   "metadata": {
    "colab": {
     "base_uri": "https://localhost:8080/"
    },
    "colab_type": "code",
    "id": "-yl36ht46jnJ",
    "outputId": "9773bee4-4f09-4a5a-9634-0a99e983171d"
   },
   "outputs": [
    {
     "data": {
      "image/png": "[encoded data removed]",
      "text/plain": [
       "<Figure size 432x288 with 1 Axes>"
      ]
     },
     "metadata": {
      "needs_background": "light"
     },
     "output_type": "display_data"
    }
   ],
   "source": [
    "plt.hist(newData.AMB_MON_01.value_counts().sort_index())\n",
    "plt.yscale('log')"
   ]
  },
  {
   "cell_type": "code",
   "execution_count": 44,
   "metadata": {
    "colab": {
     "base_uri": "https://localhost:8080/"
    },
    "colab_type": "code",
    "id": "Xz6lUfSP6vtc",
    "outputId": "8615dea9-6390-4205-a5ec-32d2deade6d1"
   },
   "outputs": [
    {
     "data": {
      "image/png": "[encoded data removed]",
      "text/plain": [
       "<Figure size 432x288 with 1 Axes>"
      ]
     },
     "metadata": {
      "needs_background": "light"
     },
     "output_type": "display_data"
    }
   ],
   "source": [
    "plt.hist(newData.AMB_MON_02.value_counts().sort_index())\n",
    "plt.yscale('log')"
   ]
  },
  {
   "cell_type": "code",
   "execution_count": 45,
   "metadata": {
    "colab": {
     "base_uri": "https://localhost:8080/"
    },
    "colab_type": "code",
    "id": "35ul4ugT6v_i",
    "outputId": "fb79baea-6b94-4cfb-d0be-ab1448fb636d"
   },
   "outputs": [
    {
     "data": {
      "image/png": "[encoded data removed]",
      "text/plain": [
       "<Figure size 432x288 with 1 Axes>"
      ]
     },
     "metadata": {
      "needs_background": "light"
     },
     "output_type": "display_data"
    }
   ],
   "source": [
    "plt.hist(newData.AMB_MON_03.value_counts().sort_index())\n",
    "plt.yscale('log')"
   ]
  },
  {
   "cell_type": "code",
   "execution_count": 46,
   "metadata": {
    "colab": {
     "base_uri": "https://localhost:8080/"
    },
    "colab_type": "code",
    "id": "TsSCSVOx6wOm",
    "outputId": "920e6ad0-c291-4d31-a33b-ba5bc9be888d"
   },
   "outputs": [
    {
     "data": {
      "image/png": "[encoded data removed]",
      "text/plain": [
       "<Figure size 432x288 with 1 Axes>"
      ]
     },
     "metadata": {
      "needs_background": "light"
     },
     "output_type": "display_data"
    }
   ],
   "source": [
    "plt.hist(newData.AMB_MON_04.value_counts().sort_index())\n",
    "plt.yscale('log')"
   ]
  },
  {
   "cell_type": "markdown",
   "metadata": {
    "colab_type": "text",
    "id": "nbXhjdBP5LAa"
   },
   "source": [
    "### Analysis of Zipcode"
   ]
  },
  {
   "cell_type": "code",
   "execution_count": 47,
   "metadata": {
    "colab": {
     "base_uri": "https://localhost:8080/",
     "height": 34
    },
    "colab_type": "code",
    "id": "Gijn6yD_5Lo7",
    "outputId": "511edca7-2031-4d28-dd93-35f47f5267aa"
   },
   "outputs": [
    {
     "data": {
      "text/plain": [
       "dtype('O')"
      ]
     },
     "execution_count": 47,
     "metadata": {},
     "output_type": "execute_result"
    }
   ],
   "source": [
    "newData['ZIP_CODE_FINAL'].dtype"
   ]
  },
  {
   "cell_type": "code",
   "execution_count": 48,
   "metadata": {
    "colab": {
     "base_uri": "https://localhost:8080/",
     "height": 34
    },
    "colab_type": "code",
    "id": "As_uOgj9BnME",
    "outputId": "ee3d1ed3-96c9-43ab-c7ae-7ba4d89c8323"
   },
   "outputs": [
    {
     "name": "stdout",
     "output_type": "stream",
     "text": [
      "{'float': 110423, 'int': 0, 'str': 188272}\n"
     ]
    }
   ],
   "source": [
    "dicti = {'float':0,'int':0,'str':0}\n",
    "for x in newData.ZIP_CODE_FINAL:\n",
    "    if type(x) == str:\n",
    "        dicti['str'] += 1\n",
    "    elif type(x) == float:\n",
    "        dicti['float'] += 1\n",
    "    elif type(x) == int:\n",
    "        dicti['int'] += 1\n",
    "print(dicti)"
   ]
  },
  {
   "cell_type": "code",
   "execution_count": 49,
   "metadata": {
    "colab": {
     "base_uri": "https://localhost:8080/",
     "height": 34
    },
    "colab_type": "code",
    "id": "WtGObADdN-dn",
    "outputId": "26c81259-10b7-42d7-b6b7-885a4b28f8b4"
   },
   "outputs": [
    {
     "data": {
      "text/plain": [
       "2140"
      ]
     },
     "execution_count": 49,
     "metadata": {},
     "output_type": "execute_result"
    }
   ],
   "source": [
    "newData.ZIP_CODE_FINAL.isnull().sum()"
   ]
  },
  {
   "cell_type": "code",
   "execution_count": 50,
   "metadata": {
    "colab": {},
    "colab_type": "code",
    "id": "13V_Ev5nciRa"
   },
   "outputs": [],
   "source": [
    "newData = newData[newData.ZIP_CODE_FINAL.notnull()]"
   ]
  },
  {
   "cell_type": "code",
   "execution_count": 51,
   "metadata": {
    "colab": {},
    "colab_type": "code",
    "id": "0NtPCmaXUOkQ"
   },
   "outputs": [],
   "source": [
    "def cleaningZipCode(df):\n",
    "    ind =[]\n",
    "    count = len(df)\n",
    "    countl = len(df)\n",
    "    for index, value in enumerate(df.ZIP_CODE_FINAL):\n",
    "        # print(index,value)\n",
    "        try:\n",
    "            if (len(str(value)) < 5):\n",
    "                df.ZIP_CODE_FINAL.iloc[index] = 'EMPTY'\n",
    "                # print('\\'{}\\' index will be chenged to \\'{}\\' value.\\n'.format(index,df.ZIP_CODE_FINAL.iloc[index]))\n",
    "            elif ' ' in str(value):\n",
    "                df.ZIP_CODE_FINAL.iloc[index] = str(value).split(' ')[0] + str(value).split(' ')[1]\n",
    "                # print(\"'{}' value for index '{}' was replaced with '{}'\\n\".format(value,index,df.ZIP_CODE_FINAL.iloc[index]))\n",
    "            elif '.' in str(value):\n",
    "                df.ZIP_CODE_FINAL.iloc[index] = str(value).split('.')[0]\n",
    "                # print(\"'{}' value for index '{}' was replaced with '{}'\\n\".format(value,index,df.ZIP_CODE_FINAL.iloc[index]))\n",
    "            else:\n",
    "                df.ZIP_CODE_FINAL.iloc[index] = str(value)\n",
    "        except ValueError:\n",
    "            print('\\'{}\\' value is giving ValueError'.format(value))\n",
    "            print('Record with index \\'{}\\' will be droped\\n')\n",
    "            ind.append(index)\n",
    "        count -= 1\n",
    "        print('{}%'.format((((abs(count-countl))/countl)*100)))\n",
    "        clear_output()\n",
    "    df.drop(index,inplace=True)"
   ]
  },
  {
   "cell_type": "code",
   "execution_count": 52,
   "metadata": {
    "colab": {
     "base_uri": "https://localhost:8080/"
    },
    "colab_type": "code",
    "id": "nqs2rC-S7BtK",
    "outputId": "5ca5180c-1ccd-4485-c545-188b0d32342c"
   },
   "outputs": [],
   "source": [
    "cleaningZipCode(newData)"
   ]
  },
  {
   "cell_type": "code",
   "execution_count": 56,
   "metadata": {
    "colab": {},
    "colab_type": "code",
    "id": "JYG09mSt8B7F"
   },
   "outputs": [],
   "source": [
    "lezc = LabelEncoder()"
   ]
  },
  {
   "cell_type": "code",
   "execution_count": 57,
   "metadata": {
    "colab": {},
    "colab_type": "code",
    "id": "dnwBCPkCLufB"
   },
   "outputs": [],
   "source": [
    "newData.ZIP_CODE_FINAL = lezc.fit_transform(newData.ZIP_CODE_FINAL)"
   ]
  },
  {
   "cell_type": "markdown",
   "metadata": {
    "colab_type": "text",
    "id": "5AcUwWyJnI26"
   },
   "source": [
    "### Analysis on EOP MON"
   ]
  },
  {
   "cell_type": "code",
   "execution_count": 58,
   "metadata": {
    "colab": {},
    "colab_type": "code",
    "id": "pOjI__NjnNSf"
   },
   "outputs": [
    {
     "data": {
      "text/html": [
       "<div>\n",
       "<style scoped>\n",
       "    .dataframe tbody tr th:only-of-type {\n",
       "        vertical-align: middle;\n",
       "    }\n",
       "\n",
       "    .dataframe tbody tr th {\n",
       "        vertical-align: top;\n",
       "    }\n",
       "\n",
       "    .dataframe thead th {\n",
       "        text-align: right;\n",
       "    }\n",
       "</style>\n",
       "<table border=\"1\" class=\"dataframe\">\n",
       "  <thead>\n",
       "    <tr style=\"text-align: right;\">\n",
       "      <th></th>\n",
       "      <th>EOP_MON_02</th>\n",
       "      <th>EOP_MON_03</th>\n",
       "    </tr>\n",
       "  </thead>\n",
       "  <tbody>\n",
       "    <tr>\n",
       "      <th>count</th>\n",
       "      <td>2.955660e+05</td>\n",
       "      <td>2.937910e+05</td>\n",
       "    </tr>\n",
       "    <tr>\n",
       "      <th>mean</th>\n",
       "      <td>2.170817e+04</td>\n",
       "      <td>2.177108e+04</td>\n",
       "    </tr>\n",
       "    <tr>\n",
       "      <th>std</th>\n",
       "      <td>6.829553e+04</td>\n",
       "      <td>6.652719e+04</td>\n",
       "    </tr>\n",
       "    <tr>\n",
       "      <th>min</th>\n",
       "      <td>-2.511007e+06</td>\n",
       "      <td>-2.511007e+06</td>\n",
       "    </tr>\n",
       "    <tr>\n",
       "      <th>25%</th>\n",
       "      <td>0.000000e+00</td>\n",
       "      <td>0.000000e+00</td>\n",
       "    </tr>\n",
       "    <tr>\n",
       "      <th>50%</th>\n",
       "      <td>1.520810e+03</td>\n",
       "      <td>1.650450e+03</td>\n",
       "    </tr>\n",
       "    <tr>\n",
       "      <th>75%</th>\n",
       "      <td>1.979134e+04</td>\n",
       "      <td>2.049374e+04</td>\n",
       "    </tr>\n",
       "    <tr>\n",
       "      <th>max</th>\n",
       "      <td>5.366019e+06</td>\n",
       "      <td>7.500850e+06</td>\n",
       "    </tr>\n",
       "  </tbody>\n",
       "</table>\n",
       "</div>"
      ],
      "text/plain": [
       "         EOP_MON_02    EOP_MON_03\n",
       "count  2.955660e+05  2.937910e+05\n",
       "mean   2.170817e+04  2.177108e+04\n",
       "std    6.829553e+04  6.652719e+04\n",
       "min   -2.511007e+06 -2.511007e+06\n",
       "25%    0.000000e+00  0.000000e+00\n",
       "50%    1.520810e+03  1.650450e+03\n",
       "75%    1.979134e+04  2.049374e+04\n",
       "max    5.366019e+06  7.500850e+06"
      ]
     },
     "execution_count": 58,
     "metadata": {},
     "output_type": "execute_result"
    }
   ],
   "source": [
    "EOP = ['EOP_MON_02','EOP_MON_03']\n",
    "newData[EOP].describe()"
   ]
  },
  {
   "cell_type": "code",
   "execution_count": 59,
   "metadata": {
    "colab": {},
    "colab_type": "code",
    "id": "jLERz0Jqn7l6"
   },
   "outputs": [
    {
     "data": {
      "text/html": [
       "<div>\n",
       "<style scoped>\n",
       "    .dataframe tbody tr th:only-of-type {\n",
       "        vertical-align: middle;\n",
       "    }\n",
       "\n",
       "    .dataframe tbody tr th {\n",
       "        vertical-align: top;\n",
       "    }\n",
       "\n",
       "    .dataframe thead th {\n",
       "        text-align: right;\n",
       "    }\n",
       "</style>\n",
       "<table border=\"1\" class=\"dataframe\">\n",
       "  <thead>\n",
       "    <tr style=\"text-align: right;\">\n",
       "      <th></th>\n",
       "      <th>EOP_MON_02</th>\n",
       "      <th>EOP_MON_03</th>\n",
       "    </tr>\n",
       "  </thead>\n",
       "  <tbody>\n",
       "    <tr>\n",
       "      <th>0</th>\n",
       "      <td>0.00</td>\n",
       "      <td>0.00</td>\n",
       "    </tr>\n",
       "    <tr>\n",
       "      <th>1</th>\n",
       "      <td>3016.77</td>\n",
       "      <td>3.02</td>\n",
       "    </tr>\n",
       "    <tr>\n",
       "      <th>2</th>\n",
       "      <td>9999.00</td>\n",
       "      <td>14858.75</td>\n",
       "    </tr>\n",
       "    <tr>\n",
       "      <th>3</th>\n",
       "      <td>27163.10</td>\n",
       "      <td>49675.27</td>\n",
       "    </tr>\n",
       "    <tr>\n",
       "      <th>4</th>\n",
       "      <td>21065.87</td>\n",
       "      <td>983.87</td>\n",
       "    </tr>\n",
       "  </tbody>\n",
       "</table>\n",
       "</div>"
      ],
      "text/plain": [
       "   EOP_MON_02  EOP_MON_03\n",
       "0        0.00        0.00\n",
       "1     3016.77        3.02\n",
       "2     9999.00    14858.75\n",
       "3    27163.10    49675.27\n",
       "4    21065.87      983.87"
      ]
     },
     "execution_count": 59,
     "metadata": {},
     "output_type": "execute_result"
    }
   ],
   "source": [
    "newData[EOP].head()"
   ]
  },
  {
   "cell_type": "code",
   "execution_count": 60,
   "metadata": {
    "colab": {},
    "colab_type": "code",
    "id": "g3Id8UDwoACh"
   },
   "outputs": [
    {
     "data": {
      "text/plain": [
       "EOP_MON_02     988\n",
       "EOP_MON_03    2763\n",
       "dtype: int64"
      ]
     },
     "execution_count": 60,
     "metadata": {},
     "output_type": "execute_result"
    }
   ],
   "source": [
    "newData[EOP].isnull().sum()"
   ]
  },
  {
   "cell_type": "code",
   "execution_count": 61,
   "metadata": {
    "colab": {},
    "colab_type": "code",
    "id": "1QicaoodoJUq"
   },
   "outputs": [],
   "source": [
    "newData.EOP_MON_02.fillna(0,inplace=True)"
   ]
  },
  {
   "cell_type": "code",
   "execution_count": 62,
   "metadata": {
    "colab": {},
    "colab_type": "code",
    "id": "cWqGFM2yM1Fl"
   },
   "outputs": [],
   "source": [
    "newData.EOP_MON_03.fillna(0,inplace=True)"
   ]
  },
  {
   "cell_type": "code",
   "execution_count": 63,
   "metadata": {
    "colab": {},
    "colab_type": "code",
    "id": "ObucG_KoFJsv"
   },
   "outputs": [
    {
     "data": {
      "text/plain": [
       "Series([], dtype: bool)"
      ]
     },
     "execution_count": 63,
     "metadata": {},
     "output_type": "execute_result"
    }
   ],
   "source": [
    "newData.isnull().any()[newData.isnull().any().values == True]"
   ]
  },
  {
   "cell_type": "code",
   "execution_count": 64,
   "metadata": {
    "colab": {},
    "colab_type": "code",
    "id": "5yuGzruZ56LE"
   },
   "outputs": [
    {
     "data": {
      "image/png": "[encoded data removed]",
      "text/plain": [
       "<Figure size 432x288 with 1 Axes>"
      ]
     },
     "metadata": {
      "needs_background": "light"
     },
     "output_type": "display_data"
    }
   ],
   "source": [
    "plt.hist(newData.EOP_BAL_MON_01.value_counts().sort_index())\n",
    "plt.yscale('log')"
   ]
  },
  {
   "cell_type": "code",
   "execution_count": 65,
   "metadata": {
    "colab": {},
    "colab_type": "code",
    "id": "OERiZB_V6GM7"
   },
   "outputs": [
    {
     "data": {
      "image/png": "[encoded data removed]",
      "text/plain": [
       "<Figure size 432x288 with 1 Axes>"
      ]
     },
     "metadata": {
      "needs_background": "light"
     },
     "output_type": "display_data"
    }
   ],
   "source": [
    "plt.hist(newData.EOP_MON_02.value_counts().sort_index())\n",
    "plt.yscale('log')"
   ]
  },
  {
   "cell_type": "code",
   "execution_count": 66,
   "metadata": {
    "colab": {},
    "colab_type": "code",
    "id": "GkPd0fTg6HCv"
   },
   "outputs": [
    {
     "data": {
      "image/png": "[encoded data removed]",
      "text/plain": [
       "<Figure size 432x288 with 1 Axes>"
      ]
     },
     "metadata": {
      "needs_background": "light"
     },
     "output_type": "display_data"
    }
   ],
   "source": [
    "plt.hist(newData.EOP_MON_03.value_counts().sort_index())\n",
    "plt.yscale('log')"
   ]
  },
  {
   "cell_type": "markdown",
   "metadata": {
    "colab_type": "text",
    "id": "9-O8M9dMFLEo"
   },
   "source": [
    "### Analysis on Binary Data Columns"
   ]
  },
  {
   "cell_type": "code",
   "execution_count": 67,
   "metadata": {
    "colab": {},
    "colab_type": "code",
    "id": "ooc-U89GF9Zj"
   },
   "outputs": [],
   "source": [
    "def listBinCols(df):\n",
    "    bincols = []\n",
    "    for col in df.columns:\n",
    "        if df[col].nunique() == 2:\n",
    "            if sorted(df[col].unique()) == ['N','Y']:\n",
    "                bincols.append(col)\n",
    "                # print('{} Column has {} unique values'.format(col,df[col].unique()))\n",
    "    return bincols"
   ]
  },
  {
   "cell_type": "code",
   "execution_count": 68,
   "metadata": {
    "colab": {},
    "colab_type": "code",
    "id": "BXSQjUmSGkqg"
   },
   "outputs": [],
   "source": [
    "binCols = listBinCols(newData)"
   ]
  },
  {
   "cell_type": "code",
   "execution_count": 69,
   "metadata": {
    "colab": {},
    "colab_type": "code",
    "id": "X87gwBqaHHdO"
   },
   "outputs": [],
   "source": [
    "leBin = LabelEncoder()"
   ]
  },
  {
   "cell_type": "code",
   "execution_count": 70,
   "metadata": {
    "colab": {},
    "colab_type": "code",
    "id": "7kzCP2QnHb9e"
   },
   "outputs": [],
   "source": [
    "def leBincols(df):\n",
    "    for col in binCols:\n",
    "        df[col] = leBin.fit_transform(df[col])\n",
    "    return leBin"
   ]
  },
  {
   "cell_type": "code",
   "execution_count": 71,
   "metadata": {
    "colab": {},
    "colab_type": "code",
    "id": "ipBMhc57IYi0"
   },
   "outputs": [],
   "source": [
    "leBin = leBincols(newData)"
   ]
  },
  {
   "cell_type": "markdown",
   "metadata": {
    "colab_type": "text",
    "id": "dMRQKmjTI_WY"
   },
   "source": [
    "### Analysis on CHANNEL_CLICK_DISP"
   ]
  },
  {
   "cell_type": "code",
   "execution_count": 72,
   "metadata": {
    "colab": {},
    "colab_type": "code",
    "id": "UMcTwoE_I_33"
   },
   "outputs": [
    {
     "data": {
      "text/plain": [
       "3"
      ]
     },
     "execution_count": 72,
     "metadata": {},
     "output_type": "execute_result"
    }
   ],
   "source": [
    "newData.CHANNEL_CLICK_DISP.nunique()"
   ]
  },
  {
   "cell_type": "code",
   "execution_count": 73,
   "metadata": {
    "colab": {},
    "colab_type": "code",
    "id": "EYWk_8FzSo5l"
   },
   "outputs": [
    {
     "data": {
      "text/plain": [
       "array(['NONE', 'DISP', 'CLICK'], dtype=object)"
      ]
     },
     "execution_count": 73,
     "metadata": {},
     "output_type": "execute_result"
    }
   ],
   "source": [
    "newData.CHANNEL_CLICK_DISP.unique()"
   ]
  },
  {
   "cell_type": "code",
   "execution_count": 74,
   "metadata": {
    "colab": {},
    "colab_type": "code",
    "id": "ve_l8GTOTUvR"
   },
   "outputs": [
    {
     "data": {
      "text/plain": [
       "<BarContainer object of 3 artists>"
      ]
     },
     "execution_count": 74,
     "metadata": {},
     "output_type": "execute_result"
    },
    {
     "data": {
      "image/png": "[encoded data removed]",
      "text/plain": [
       "<Figure size 432x288 with 1 Axes>"
      ]
     },
     "metadata": {
      "needs_background": "light"
     },
     "output_type": "display_data"
    }
   ],
   "source": [
    "plt.bar(newData.CHANNEL_CLICK_DISP.unique(),newData.CHANNEL_CLICK_DISP.value_counts())"
   ]
  },
  {
   "cell_type": "code",
   "execution_count": 75,
   "metadata": {
    "colab": {},
    "colab_type": "code",
    "id": "UZWSjwTRTdlb"
   },
   "outputs": [
    {
     "data": {
      "text/plain": [
       "<BarContainer object of 3 artists>"
      ]
     },
     "execution_count": 75,
     "metadata": {},
     "output_type": "execute_result"
    },
    {
     "data": {
      "image/png": "[encoded data removed]",
      "text/plain": [
       "<Figure size 432x288 with 1 Axes>"
      ]
     },
     "metadata": {
      "needs_background": "light"
     },
     "output_type": "display_data"
    }
   ],
   "source": [
    "plt.bar(newData.CHANNEL_CLICK_DISP[newData.RESPONDERS == 1].unique(),newData.CHANNEL_CLICK_DISP[newData.RESPONDERS == 1].value_counts(),color='g')"
   ]
  },
  {
   "cell_type": "code",
   "execution_count": 76,
   "metadata": {
    "colab": {},
    "colab_type": "code",
    "id": "WaAw6ZQBUCpm"
   },
   "outputs": [
    {
     "data": {
      "text/plain": [
       "<BarContainer object of 3 artists>"
      ]
     },
     "execution_count": 76,
     "metadata": {},
     "output_type": "execute_result"
    },
    {
     "data": {
      "image/png": "[encoded data removed]",
      "text/plain": [
       "<Figure size 432x288 with 1 Axes>"
      ]
     },
     "metadata": {
      "needs_background": "light"
     },
     "output_type": "display_data"
    }
   ],
   "source": [
    "plt.bar(newData.CHANNEL_CLICK_DISP[newData.RESPONDERS == 0].unique(),newData.CHANNEL_CLICK_DISP[newData.RESPONDERS == 0].value_counts(),color='r')"
   ]
  },
  {
   "cell_type": "code",
   "execution_count": 77,
   "metadata": {
    "colab": {},
    "colab_type": "code",
    "id": "CWqu0O0RSudG"
   },
   "outputs": [],
   "source": [
    "leccd = LabelEncoder()"
   ]
  },
  {
   "cell_type": "code",
   "execution_count": 78,
   "metadata": {
    "colab": {},
    "colab_type": "code",
    "id": "k2VPVqKpUyyL"
   },
   "outputs": [],
   "source": [
    "newData.CHANNEL_CLICK_DISP = leccd.fit_transform(newData.CHANNEL_CLICK_DISP)"
   ]
  },
  {
   "cell_type": "markdown",
   "metadata": {
    "colab_type": "text",
    "id": "I4Qsj2kgVBpg"
   },
   "source": [
    "### Analysis on Designation"
   ]
  },
  {
   "cell_type": "code",
   "execution_count": 79,
   "metadata": {
    "colab": {},
    "colab_type": "code",
    "id": "srJt-FOTU_fI"
   },
   "outputs": [
    {
     "data": {
      "text/plain": [
       "11"
      ]
     },
     "execution_count": 79,
     "metadata": {},
     "output_type": "execute_result"
    }
   ],
   "source": [
    "newData.DESIGNATION_FINAL.nunique()"
   ]
  },
  {
   "cell_type": "code",
   "execution_count": 80,
   "metadata": {
    "colab": {},
    "colab_type": "code",
    "id": "8bI05i4oVI2T"
   },
   "outputs": [
    {
     "data": {
      "text/plain": [
       "array(['MISSING', 'ENGINEER', 'MANAGER', 'EXECUTIVE', 'SUP/TECH/OPR',\n",
       "       'OFFICER', 'OTHERS', 'DEVEP/PROG/ANALYST/ASSO', 'REMAING',\n",
       "       'TOP_MANAG/DOC', 'TEACH/PROF/CONSULT'], dtype=object)"
      ]
     },
     "execution_count": 80,
     "metadata": {},
     "output_type": "execute_result"
    }
   ],
   "source": [
    "newData.DESIGNATION_FINAL.unique()"
   ]
  },
  {
   "cell_type": "code",
   "execution_count": 81,
   "metadata": {
    "colab": {},
    "colab_type": "code",
    "id": "BrThkfLdVL4q"
   },
   "outputs": [
    {
     "data": {
      "image/png": "[encoded data removed]",
      "text/plain": [
       "<Figure size 1440x432 with 2 Axes>"
      ]
     },
     "metadata": {
      "needs_background": "light"
     },
     "output_type": "display_data"
    }
   ],
   "source": [
    "fig, ax = plt.subplots(1,2,figsize=(20,6))\n",
    "ax[0].bar(newData.DESIGNATION_FINAL[newData.RESPONDERS == 1].value_counts().index, newData.DESIGNATION_FINAL[newData.RESPONDERS == 1].value_counts().values,color='g')\n",
    "ax[1].bar(newData.DESIGNATION_FINAL[newData.RESPONDERS == 0].value_counts().index, newData.DESIGNATION_FINAL[newData.RESPONDERS == 0].value_counts().values,color='r')\n",
    "for i in range(2):\n",
    "    for tick in ax[i].get_xticklabels():\n",
    "        tick.set_rotation(90)"
   ]
  },
  {
   "cell_type": "code",
   "execution_count": 82,
   "metadata": {
    "colab": {},
    "colab_type": "code",
    "id": "q1FGi7P6WK7X"
   },
   "outputs": [],
   "source": [
    "ledes = LabelEncoder()"
   ]
  },
  {
   "cell_type": "code",
   "execution_count": 83,
   "metadata": {
    "colab": {},
    "colab_type": "code",
    "id": "SV4T9zsFhnsB"
   },
   "outputs": [],
   "source": [
    "newData.DESIGNATION_FINAL = ledes.fit_transform(newData.DESIGNATION_FINAL)"
   ]
  },
  {
   "cell_type": "markdown",
   "metadata": {
    "colab_type": "text",
    "id": "6NqDZdC6iFIY"
   },
   "source": [
    "### Analysis on CC DC Catogories"
   ]
  },
  {
   "cell_type": "code",
   "execution_count": 84,
   "metadata": {
    "colab": {},
    "colab_type": "code",
    "id": "WwYgP3RQhxKG"
   },
   "outputs": [],
   "source": [
    "ccdc = ['NEFT_CC_CATEGORY', 'NEFT_DC_CATEGORY', 'TPT_DC_CATEGORY_MON_01',\n",
    "       'TPT_CC_CATEGORY_MON_01', 'IMPS_CC_CATEGORY_MON_01']"
   ]
  },
  {
   "cell_type": "code",
   "execution_count": 85,
   "metadata": {
    "colab": {},
    "colab_type": "code",
    "id": "l6oQRgohiKyC"
   },
   "outputs": [],
   "source": [
    "def ccdcUnique(df):\n",
    "    for col in ccdc:\n",
    "        print('{} has {} unique values: \\n{}\\n\\n'.format(col, df[col].nunique(), df[col].unique()))"
   ]
  },
  {
   "cell_type": "code",
   "execution_count": 86,
   "metadata": {
    "colab": {},
    "colab_type": "code",
    "id": "ZizwdytDjCnb"
   },
   "outputs": [
    {
     "name": "stdout",
     "output_type": "stream",
     "text": [
      "NEFT_CC_CATEGORY has 20 unique values: \n",
      "['NO_NEFT_TXN' 'NOT_RELEVANT' 'LOAN' 'RETURN' 'TRANSFER' 'RENT' 'TRAVEL'\n",
      " 'EDUCATION' 'EMI' 'PERSONAL' 'MEDICAL' 'BUILDER' 'JEWELLERY' 'ELECTRICI'\n",
      " 'GAS' 'WEDDING' 'OPERATION' 'ADVANCE' 'CHILD_BIR' 'HELP']\n",
      "\n",
      "\n",
      "NEFT_DC_CATEGORY has 20 unique values: \n",
      "['NO_NEFT_TXN' 'NOT_RELEVANT' 'LOAN' 'RENT' 'JEWELLERY' 'EDUCATION'\n",
      " 'MEDICAL' 'TRAVEL' 'PERSONAL' 'CC_PAYMENT' 'BUILDER' 'GAS' 'EMI'\n",
      " 'CHILD_BIR' 'TRANSFER' 'HELP' 'WEDDING' 'ELECTRICI' 'OPERATION' 'RETURN']\n",
      "\n",
      "\n",
      "TPT_DC_CATEGORY_MON_01 has 21 unique values: \n",
      "['NO_TPT_TXN' 'NOT_RELEVANT' 'MEDICAL' 'LOAN' 'TRANSFER' 'TRAVEL'\n",
      " 'PERSONAL' 'RENT' 'CC_PAYMENT' 'RETURN' 'EMI' 'EDUCATION' 'BUILDER'\n",
      " 'CHILD_BIR' 'HELP' 'ADVANCE' 'WEDDING' 'GAS' 'ELECTRICI' 'OPERATION'\n",
      " 'JEWELLERY']\n",
      "\n",
      "\n",
      "TPT_CC_CATEGORY_MON_01 has 21 unique values: \n",
      "['NO_TPT_TXN' 'NOT_RELEVANT' 'TRANSFER' 'LOAN' 'PERSONAL' 'RETURN' 'RENT'\n",
      " 'TRAVEL' 'CC_PAYMENT' 'EMI' 'CHILD_BIR' 'EDUCATION' 'GAS' 'ADVANCE'\n",
      " 'MEDICAL' 'HELP' 'ELECTRICI' 'WEDDING' 'BUILDER' 'OPERATION' 'JEWELLERY']\n",
      "\n",
      "\n",
      "IMPS_CC_CATEGORY_MON_01 has 21 unique values: \n",
      "['NO_IMPS_TXN' 'NOT_RELEVANT' 'TRANSFER' 'RENT' 'LOAN' 'RETURN' 'EMI'\n",
      " 'CC_PAYMENT' 'PERSONAL' 'EDUCATION' 'TRAVEL' 'ADVANCE' 'CHILD_BIR'\n",
      " 'MEDICAL' 'GAS' 'BUILDER' 'HELP' 'JEWELLERY' 'WEDDING' 'ELECTRICI'\n",
      " 'OPERATION']\n",
      "\n",
      "\n"
     ]
    }
   ],
   "source": [
    "ccdcUnique(newData)"
   ]
  },
  {
   "cell_type": "code",
   "execution_count": 87,
   "metadata": {
    "colab": {},
    "colab_type": "code",
    "id": "k890C5iojH5R"
   },
   "outputs": [],
   "source": [
    "def leCCDC(df,lst):\n",
    "    le1 = LabelEncoder()\n",
    "    le2 = LabelEncoder()\n",
    "    le3 = LabelEncoder()\n",
    "    le4 = LabelEncoder()\n",
    "    le5 = LabelEncoder()\n",
    "    le = [le1,le2,le3,le4,le5]\n",
    "    zipped = list(zip(le,lst))\n",
    "    for i in range(len(zipped)):\n",
    "        print(zipped[i][1])\n",
    "        df[zipped[i][1]] = zipped[i][0].fit_transform(df[zipped[i][1]])\n",
    "    return le"
   ]
  },
  {
   "cell_type": "code",
   "execution_count": 88,
   "metadata": {
    "colab": {},
    "colab_type": "code",
    "id": "_wpfWjhOjcPE"
   },
   "outputs": [
    {
     "name": "stdout",
     "output_type": "stream",
     "text": [
      "NEFT_CC_CATEGORY\n",
      "NEFT_DC_CATEGORY\n",
      "TPT_DC_CATEGORY_MON_01\n",
      "TPT_CC_CATEGORY_MON_01\n",
      "IMPS_CC_CATEGORY_MON_01\n"
     ]
    }
   ],
   "source": [
    "[le1,le2,le3,le4,le5] = leCCDC(newData,ccdc)"
   ]
  },
  {
   "cell_type": "code",
   "execution_count": 89,
   "metadata": {
    "colab": {},
    "colab_type": "code",
    "id": "-ZQB3QxMo7Gh"
   },
   "outputs": [
    {
     "data": {
      "text/html": [
       "<div>\n",
       "<style scoped>\n",
       "    .dataframe tbody tr th:only-of-type {\n",
       "        vertical-align: middle;\n",
       "    }\n",
       "\n",
       "    .dataframe tbody tr th {\n",
       "        vertical-align: top;\n",
       "    }\n",
       "\n",
       "    .dataframe thead th {\n",
       "        text-align: right;\n",
       "    }\n",
       "</style>\n",
       "<table border=\"1\" class=\"dataframe\">\n",
       "  <thead>\n",
       "    <tr style=\"text-align: right;\">\n",
       "      <th></th>\n",
       "      <th>CUSTOMER_ID</th>\n",
       "      <th>ACT_TYPE</th>\n",
       "      <th>GENDER</th>\n",
       "      <th>LEGAL_ENTITY</th>\n",
       "      <th>AGE</th>\n",
       "      <th>N_CASA_MAX_BALANCE_MTD</th>\n",
       "      <th>N_CASA_MIN_BALANCE_MTD</th>\n",
       "      <th>CC_HOLD</th>\n",
       "      <th>CC_ACTIVE</th>\n",
       "      <th>DC_HOLD</th>\n",
       "      <th>DC_ACTIVE</th>\n",
       "      <th>COC_ELIGIBLE</th>\n",
       "      <th>EOP_BAL_MON_01</th>\n",
       "      <th>AMB_MON_04</th>\n",
       "      <th>AMB_MON_01</th>\n",
       "      <th>AMB_MON_02</th>\n",
       "      <th>AMB_MON_03</th>\n",
       "      <th>FINANCE_MON_01</th>\n",
       "      <th>JOBS_MON_01</th>\n",
       "      <th>LIFESTYLE_MON_01</th>\n",
       "      <th>INMON_01KET_MON_01</th>\n",
       "      <th>TRAVEL_MON_01</th>\n",
       "      <th>CHANNEL_CLICK_DISP</th>\n",
       "      <th>DESIGNATION_FINAL</th>\n",
       "      <th>TOP14_CITY</th>\n",
       "      <th>TOP9_CITY</th>\n",
       "      <th>PL2CC_ELIGIBLE</th>\n",
       "      <th>NEFT_CC_CATEGORY</th>\n",
       "      <th>NEFT_DC_CATEGORY</th>\n",
       "      <th>TPT_DC_CATEGORY_MON_01</th>\n",
       "      <th>TPT_CC_CATEGORY_MON_01</th>\n",
       "      <th>IMPS_CC_CATEGORY_MON_01</th>\n",
       "      <th>ZIP_CODE_FINAL</th>\n",
       "      <th>CARD_AUTOMOBILE_MON_01</th>\n",
       "      <th>CARD_HOTEL_MON_01</th>\n",
       "      <th>CARD_JEWELLERY_MON_01</th>\n",
       "      <th>CARD_RESTAURANT_MON_01</th>\n",
       "      <th>CARD_TRAVEL_MON_01</th>\n",
       "      <th>CARD_PRSNL_CARE_MON_01</th>\n",
       "      <th>CARD_HOBBY_MON_01</th>\n",
       "      <th>CARD_HOME_DECOR_MON_01</th>\n",
       "      <th>CARD_MEDICAL_MON_01</th>\n",
       "      <th>CARD_ENTMNT_MON_01</th>\n",
       "      <th>TOP_CORP_TAG</th>\n",
       "      <th>EOP_MON_02</th>\n",
       "      <th>EOP_MON_03</th>\n",
       "      <th>SCRUB_EMI</th>\n",
       "      <th>RESPONDERS</th>\n",
       "    </tr>\n",
       "  </thead>\n",
       "  <tbody>\n",
       "    <tr>\n",
       "      <th>0</th>\n",
       "      <td>385793</td>\n",
       "      <td>0</td>\n",
       "      <td>1</td>\n",
       "      <td>1</td>\n",
       "      <td>21</td>\n",
       "      <td>0.00</td>\n",
       "      <td>0.00</td>\n",
       "      <td>0</td>\n",
       "      <td>0</td>\n",
       "      <td>1</td>\n",
       "      <td>0</td>\n",
       "      <td>0</td>\n",
       "      <td>0.00</td>\n",
       "      <td>0.00</td>\n",
       "      <td>0.00</td>\n",
       "      <td>0.00</td>\n",
       "      <td>0.00</td>\n",
       "      <td>0</td>\n",
       "      <td>0</td>\n",
       "      <td>0</td>\n",
       "      <td>0</td>\n",
       "      <td>0</td>\n",
       "      <td>2</td>\n",
       "      <td>4</td>\n",
       "      <td>1</td>\n",
       "      <td>1</td>\n",
       "      <td>0</td>\n",
       "      <td>12</td>\n",
       "      <td>12</td>\n",
       "      <td>13</td>\n",
       "      <td>13</td>\n",
       "      <td>13</td>\n",
       "      <td>5802</td>\n",
       "      <td>0</td>\n",
       "      <td>0</td>\n",
       "      <td>0</td>\n",
       "      <td>0</td>\n",
       "      <td>0</td>\n",
       "      <td>0</td>\n",
       "      <td>0</td>\n",
       "      <td>0</td>\n",
       "      <td>0</td>\n",
       "      <td>0</td>\n",
       "      <td>NONE</td>\n",
       "      <td>0.00</td>\n",
       "      <td>0.00</td>\n",
       "      <td>0.000000</td>\n",
       "      <td>0</td>\n",
       "    </tr>\n",
       "    <tr>\n",
       "      <th>1</th>\n",
       "      <td>286891</td>\n",
       "      <td>0</td>\n",
       "      <td>1</td>\n",
       "      <td>1</td>\n",
       "      <td>23</td>\n",
       "      <td>8243.77</td>\n",
       "      <td>7.77</td>\n",
       "      <td>0</td>\n",
       "      <td>0</td>\n",
       "      <td>1</td>\n",
       "      <td>1</td>\n",
       "      <td>0</td>\n",
       "      <td>11.77</td>\n",
       "      <td>1417.26</td>\n",
       "      <td>300.51</td>\n",
       "      <td>593.06</td>\n",
       "      <td>418.09</td>\n",
       "      <td>0</td>\n",
       "      <td>0</td>\n",
       "      <td>0</td>\n",
       "      <td>0</td>\n",
       "      <td>0</td>\n",
       "      <td>2</td>\n",
       "      <td>4</td>\n",
       "      <td>1</td>\n",
       "      <td>1</td>\n",
       "      <td>0</td>\n",
       "      <td>12</td>\n",
       "      <td>12</td>\n",
       "      <td>13</td>\n",
       "      <td>13</td>\n",
       "      <td>13</td>\n",
       "      <td>11193</td>\n",
       "      <td>0</td>\n",
       "      <td>0</td>\n",
       "      <td>0</td>\n",
       "      <td>0</td>\n",
       "      <td>0</td>\n",
       "      <td>0</td>\n",
       "      <td>0</td>\n",
       "      <td>0</td>\n",
       "      <td>0</td>\n",
       "      <td>0</td>\n",
       "      <td>NONE</td>\n",
       "      <td>3016.77</td>\n",
       "      <td>3.02</td>\n",
       "      <td>0.000000</td>\n",
       "      <td>0</td>\n",
       "    </tr>\n",
       "    <tr>\n",
       "      <th>2</th>\n",
       "      <td>108751</td>\n",
       "      <td>0</td>\n",
       "      <td>1</td>\n",
       "      <td>1</td>\n",
       "      <td>41</td>\n",
       "      <td>26515.00</td>\n",
       "      <td>0.00</td>\n",
       "      <td>0</td>\n",
       "      <td>0</td>\n",
       "      <td>1</td>\n",
       "      <td>0</td>\n",
       "      <td>0</td>\n",
       "      <td>26458.25</td>\n",
       "      <td>5354.65</td>\n",
       "      <td>6100.73</td>\n",
       "      <td>7955.82</td>\n",
       "      <td>11138.53</td>\n",
       "      <td>0</td>\n",
       "      <td>0</td>\n",
       "      <td>0</td>\n",
       "      <td>0</td>\n",
       "      <td>1</td>\n",
       "      <td>2</td>\n",
       "      <td>4</td>\n",
       "      <td>0</td>\n",
       "      <td>0</td>\n",
       "      <td>0</td>\n",
       "      <td>12</td>\n",
       "      <td>11</td>\n",
       "      <td>13</td>\n",
       "      <td>13</td>\n",
       "      <td>13</td>\n",
       "      <td>154</td>\n",
       "      <td>0</td>\n",
       "      <td>0</td>\n",
       "      <td>0</td>\n",
       "      <td>0</td>\n",
       "      <td>0</td>\n",
       "      <td>0</td>\n",
       "      <td>0</td>\n",
       "      <td>0</td>\n",
       "      <td>0</td>\n",
       "      <td>0</td>\n",
       "      <td>NONE</td>\n",
       "      <td>9999.00</td>\n",
       "      <td>14858.75</td>\n",
       "      <td>0.000000</td>\n",
       "      <td>0</td>\n",
       "    </tr>\n",
       "    <tr>\n",
       "      <th>3</th>\n",
       "      <td>278651</td>\n",
       "      <td>0</td>\n",
       "      <td>1</td>\n",
       "      <td>1</td>\n",
       "      <td>28</td>\n",
       "      <td>65917.28</td>\n",
       "      <td>8270.28</td>\n",
       "      <td>1</td>\n",
       "      <td>1</td>\n",
       "      <td>1</td>\n",
       "      <td>1</td>\n",
       "      <td>1</td>\n",
       "      <td>65917.28</td>\n",
       "      <td>113120.39</td>\n",
       "      <td>35560.81</td>\n",
       "      <td>42686.93</td>\n",
       "      <td>61593.38</td>\n",
       "      <td>1</td>\n",
       "      <td>0</td>\n",
       "      <td>0</td>\n",
       "      <td>0</td>\n",
       "      <td>0</td>\n",
       "      <td>2</td>\n",
       "      <td>4</td>\n",
       "      <td>0</td>\n",
       "      <td>0</td>\n",
       "      <td>0</td>\n",
       "      <td>12</td>\n",
       "      <td>12</td>\n",
       "      <td>13</td>\n",
       "      <td>13</td>\n",
       "      <td>13</td>\n",
       "      <td>4035</td>\n",
       "      <td>0</td>\n",
       "      <td>0</td>\n",
       "      <td>1</td>\n",
       "      <td>0</td>\n",
       "      <td>0</td>\n",
       "      <td>1</td>\n",
       "      <td>0</td>\n",
       "      <td>1</td>\n",
       "      <td>1</td>\n",
       "      <td>0</td>\n",
       "      <td>NONE</td>\n",
       "      <td>27163.10</td>\n",
       "      <td>49675.27</td>\n",
       "      <td>0.000000</td>\n",
       "      <td>0</td>\n",
       "    </tr>\n",
       "    <tr>\n",
       "      <th>4</th>\n",
       "      <td>23637</td>\n",
       "      <td>0</td>\n",
       "      <td>1</td>\n",
       "      <td>1</td>\n",
       "      <td>34</td>\n",
       "      <td>22260.94</td>\n",
       "      <td>6060.94</td>\n",
       "      <td>1</td>\n",
       "      <td>1</td>\n",
       "      <td>1</td>\n",
       "      <td>0</td>\n",
       "      <td>0</td>\n",
       "      <td>6172.94</td>\n",
       "      <td>9099.94</td>\n",
       "      <td>15858.71</td>\n",
       "      <td>14008.08</td>\n",
       "      <td>4570.73</td>\n",
       "      <td>0</td>\n",
       "      <td>0</td>\n",
       "      <td>0</td>\n",
       "      <td>0</td>\n",
       "      <td>0</td>\n",
       "      <td>2</td>\n",
       "      <td>1</td>\n",
       "      <td>0</td>\n",
       "      <td>0</td>\n",
       "      <td>0</td>\n",
       "      <td>12</td>\n",
       "      <td>12</td>\n",
       "      <td>13</td>\n",
       "      <td>13</td>\n",
       "      <td>12</td>\n",
       "      <td>167</td>\n",
       "      <td>0</td>\n",
       "      <td>0</td>\n",
       "      <td>0</td>\n",
       "      <td>0</td>\n",
       "      <td>0</td>\n",
       "      <td>0</td>\n",
       "      <td>0</td>\n",
       "      <td>0</td>\n",
       "      <td>1</td>\n",
       "      <td>0</td>\n",
       "      <td>NONE</td>\n",
       "      <td>21065.87</td>\n",
       "      <td>983.87</td>\n",
       "      <td>251.758794</td>\n",
       "      <td>0</td>\n",
       "    </tr>\n",
       "  </tbody>\n",
       "</table>\n",
       "</div>"
      ],
      "text/plain": [
       "   CUSTOMER_ID  ACT_TYPE  GENDER  LEGAL_ENTITY  AGE  N_CASA_MAX_BALANCE_MTD  \\\n",
       "0       385793         0       1             1   21                    0.00   \n",
       "1       286891         0       1             1   23                 8243.77   \n",
       "2       108751         0       1             1   41                26515.00   \n",
       "3       278651         0       1             1   28                65917.28   \n",
       "4        23637         0       1             1   34                22260.94   \n",
       "\n",
       "   N_CASA_MIN_BALANCE_MTD  CC_HOLD  CC_ACTIVE  DC_HOLD  DC_ACTIVE  \\\n",
       "0                    0.00        0          0        1          0   \n",
       "1                    7.77        0          0        1          1   \n",
       "2                    0.00        0          0        1          0   \n",
       "3                 8270.28        1          1        1          1   \n",
       "4                 6060.94        1          1        1          0   \n",
       "\n",
       "   COC_ELIGIBLE  EOP_BAL_MON_01  AMB_MON_04  AMB_MON_01  AMB_MON_02  \\\n",
       "0             0            0.00        0.00        0.00        0.00   \n",
       "1             0           11.77     1417.26      300.51      593.06   \n",
       "2             0        26458.25     5354.65     6100.73     7955.82   \n",
       "3             1        65917.28   113120.39    35560.81    42686.93   \n",
       "4             0         6172.94     9099.94    15858.71    14008.08   \n",
       "\n",
       "   AMB_MON_03  FINANCE_MON_01  JOBS_MON_01  LIFESTYLE_MON_01  \\\n",
       "0        0.00               0            0                 0   \n",
       "1      418.09               0            0                 0   \n",
       "2    11138.53               0            0                 0   \n",
       "3    61593.38               1            0                 0   \n",
       "4     4570.73               0            0                 0   \n",
       "\n",
       "   INMON_01KET_MON_01  TRAVEL_MON_01  CHANNEL_CLICK_DISP  DESIGNATION_FINAL  \\\n",
       "0                   0              0                   2                  4   \n",
       "1                   0              0                   2                  4   \n",
       "2                   0              1                   2                  4   \n",
       "3                   0              0                   2                  4   \n",
       "4                   0              0                   2                  1   \n",
       "\n",
       "   TOP14_CITY  TOP9_CITY  PL2CC_ELIGIBLE  NEFT_CC_CATEGORY  NEFT_DC_CATEGORY  \\\n",
       "0           1          1               0                12                12   \n",
       "1           1          1               0                12                12   \n",
       "2           0          0               0                12                11   \n",
       "3           0          0               0                12                12   \n",
       "4           0          0               0                12                12   \n",
       "\n",
       "   TPT_DC_CATEGORY_MON_01  TPT_CC_CATEGORY_MON_01  IMPS_CC_CATEGORY_MON_01  \\\n",
       "0                      13                      13                       13   \n",
       "1                      13                      13                       13   \n",
       "2                      13                      13                       13   \n",
       "3                      13                      13                       13   \n",
       "4                      13                      13                       12   \n",
       "\n",
       "   ZIP_CODE_FINAL  CARD_AUTOMOBILE_MON_01  CARD_HOTEL_MON_01  \\\n",
       "0            5802                       0                  0   \n",
       "1           11193                       0                  0   \n",
       "2             154                       0                  0   \n",
       "3            4035                       0                  0   \n",
       "4             167                       0                  0   \n",
       "\n",
       "   CARD_JEWELLERY_MON_01  CARD_RESTAURANT_MON_01  CARD_TRAVEL_MON_01  \\\n",
       "0                      0                       0                   0   \n",
       "1                      0                       0                   0   \n",
       "2                      0                       0                   0   \n",
       "3                      1                       0                   0   \n",
       "4                      0                       0                   0   \n",
       "\n",
       "   CARD_PRSNL_CARE_MON_01  CARD_HOBBY_MON_01  CARD_HOME_DECOR_MON_01  \\\n",
       "0                       0                  0                       0   \n",
       "1                       0                  0                       0   \n",
       "2                       0                  0                       0   \n",
       "3                       1                  0                       1   \n",
       "4                       0                  0                       0   \n",
       "\n",
       "   CARD_MEDICAL_MON_01  CARD_ENTMNT_MON_01 TOP_CORP_TAG  EOP_MON_02  \\\n",
       "0                    0                   0         NONE        0.00   \n",
       "1                    0                   0         NONE     3016.77   \n",
       "2                    0                   0         NONE     9999.00   \n",
       "3                    1                   0         NONE    27163.10   \n",
       "4                    1                   0         NONE    21065.87   \n",
       "\n",
       "   EOP_MON_03   SCRUB_EMI  RESPONDERS  \n",
       "0        0.00    0.000000           0  \n",
       "1        3.02    0.000000           0  \n",
       "2    14858.75    0.000000           0  \n",
       "3    49675.27    0.000000           0  \n",
       "4      983.87  251.758794           0  "
      ]
     },
     "execution_count": 89,
     "metadata": {},
     "output_type": "execute_result"
    }
   ],
   "source": [
    "newData.head()"
   ]
  },
  {
   "cell_type": "markdown",
   "metadata": {
    "colab_type": "text",
    "id": "hkqUxFhDrOgR"
   },
   "source": [
    "### Analysis on TOP_CORP_TAG"
   ]
  },
  {
   "cell_type": "code",
   "execution_count": 90,
   "metadata": {
    "colab": {},
    "colab_type": "code",
    "id": "zw5e71C_rSWJ"
   },
   "outputs": [
    {
     "data": {
      "text/plain": [
       "3"
      ]
     },
     "execution_count": 90,
     "metadata": {},
     "output_type": "execute_result"
    }
   ],
   "source": [
    "newData.TOP_CORP_TAG.nunique()"
   ]
  },
  {
   "cell_type": "code",
   "execution_count": 91,
   "metadata": {
    "colab": {},
    "colab_type": "code",
    "id": "bmsZgyZMrWHv"
   },
   "outputs": [
    {
     "data": {
      "text/plain": [
       "array(['NONE', 'TOP_100', 'TOP_800'], dtype=object)"
      ]
     },
     "execution_count": 91,
     "metadata": {},
     "output_type": "execute_result"
    }
   ],
   "source": [
    "newData.TOP_CORP_TAG.unique()"
   ]
  },
  {
   "cell_type": "code",
   "execution_count": 92,
   "metadata": {
    "colab": {},
    "colab_type": "code",
    "id": "kJF_MIXgrZUh"
   },
   "outputs": [
    {
     "data": {
      "text/plain": [
       "<BarContainer object of 3 artists>"
      ]
     },
     "execution_count": 92,
     "metadata": {},
     "output_type": "execute_result"
    },
    {
     "data": {
      "image/png": "[encoded data removed]",
      "text/plain": [
       "<Figure size 432x288 with 1 Axes>"
      ]
     },
     "metadata": {
      "needs_background": "light"
     },
     "output_type": "display_data"
    }
   ],
   "source": [
    "plt.bar(newData.TOP_CORP_TAG[newData.RESPONDERS == 1].value_counts().index, newData.TOP_CORP_TAG[newData.RESPONDERS == 1].value_counts().values, color = 'g')"
   ]
  },
  {
   "cell_type": "code",
   "execution_count": 93,
   "metadata": {
    "colab": {},
    "colab_type": "code",
    "id": "nh-hOhuWrxk5"
   },
   "outputs": [
    {
     "data": {
      "text/plain": [
       "<BarContainer object of 3 artists>"
      ]
     },
     "execution_count": 93,
     "metadata": {},
     "output_type": "execute_result"
    },
    {
     "data": {
      "image/png": "[encoded data removed]",
      "text/plain": [
       "<Figure size 432x288 with 1 Axes>"
      ]
     },
     "metadata": {
      "needs_background": "light"
     },
     "output_type": "display_data"
    }
   ],
   "source": [
    "plt.bar(newData.TOP_CORP_TAG[newData.RESPONDERS == 0].value_counts().index, newData.TOP_CORP_TAG[newData.RESPONDERS == 0].value_counts().values, color = 'r')"
   ]
  },
  {
   "cell_type": "code",
   "execution_count": 94,
   "metadata": {
    "colab": {},
    "colab_type": "code",
    "id": "bo79XkD_r1kS"
   },
   "outputs": [],
   "source": [
    "letct = LabelEncoder()"
   ]
  },
  {
   "cell_type": "code",
   "execution_count": 95,
   "metadata": {
    "colab": {},
    "colab_type": "code",
    "id": "cNm5GgcAr-ed"
   },
   "outputs": [],
   "source": [
    "newData.TOP_CORP_TAG = letct.fit_transform(newData.TOP_CORP_TAG)"
   ]
  },
  {
   "cell_type": "markdown",
   "metadata": {
    "colab_type": "text",
    "id": "vD_FFEp0qHax"
   },
   "source": [
    "### Analysis on N_CASA_MAX_BALANCE_MTD"
   ]
  },
  {
   "cell_type": "code",
   "execution_count": 96,
   "metadata": {
    "colab": {},
    "colab_type": "code",
    "id": "PP6dBTKcqF1O"
   },
   "outputs": [
    {
     "data": {
      "image/png": "[encoded data removed]",
      "text/plain": [
       "<Figure size 432x288 with 1 Axes>"
      ]
     },
     "metadata": {
      "needs_background": "light"
     },
     "output_type": "display_data"
    }
   ],
   "source": [
    "plt.hist(newData.N_CASA_MAX_BALANCE_MTD.value_counts().sort_index())\n",
    "plt.yscale('log')"
   ]
  },
  {
   "cell_type": "markdown",
   "metadata": {
    "colab_type": "text",
    "id": "UguAU7fksYMx"
   },
   "source": [
    "### Analysis on N_CASA_MIN_BALANCE_MTD"
   ]
  },
  {
   "cell_type": "code",
   "execution_count": 97,
   "metadata": {
    "colab": {},
    "colab_type": "code",
    "id": "FwM_dMvBsYM5"
   },
   "outputs": [
    {
     "data": {
      "image/png": "[encoded data removed]",
      "text/plain": [
       "<Figure size 432x288 with 1 Axes>"
      ]
     },
     "metadata": {
      "needs_background": "light"
     },
     "output_type": "display_data"
    }
   ],
   "source": [
    "plt.hist(newData.N_CASA_MIN_BALANCE_MTD.value_counts().sort_index())\n",
    "plt.yscale('log')"
   ]
  },
  {
   "cell_type": "markdown",
   "metadata": {
    "colab_type": "text",
    "id": "gj21D4th7aIC"
   },
   "source": [
    "### Analysis on SCRUB EMI"
   ]
  },
  {
   "cell_type": "code",
   "execution_count": 98,
   "metadata": {
    "colab": {},
    "colab_type": "code",
    "id": "Gi-Cu1gO7eWk"
   },
   "outputs": [
    {
     "data": {
      "image/png": "[encoded data removed]",
      "text/plain": [
       "<Figure size 432x288 with 1 Axes>"
      ]
     },
     "metadata": {
      "needs_background": "light"
     },
     "output_type": "display_data"
    }
   ],
   "source": [
    "plt.hist(newData.SCRUB_EMI.value_counts().sort_index())\n",
    "plt.yscale('log')"
   ]
  },
  {
   "cell_type": "markdown",
   "metadata": {
    "colab_type": "text",
    "id": "_NXUP8hCsbmK"
   },
   "source": [
    "## Preprocessing"
   ]
  },
  {
   "cell_type": "code",
   "execution_count": 99,
   "metadata": {
    "colab": {},
    "colab_type": "code",
    "id": "R3-_FqFpsStu"
   },
   "outputs": [
    {
     "data": {
      "text/html": [
       "<div>\n",
       "<style scoped>\n",
       "    .dataframe tbody tr th:only-of-type {\n",
       "        vertical-align: middle;\n",
       "    }\n",
       "\n",
       "    .dataframe tbody tr th {\n",
       "        vertical-align: top;\n",
       "    }\n",
       "\n",
       "    .dataframe thead th {\n",
       "        text-align: right;\n",
       "    }\n",
       "</style>\n",
       "<table border=\"1\" class=\"dataframe\">\n",
       "  <thead>\n",
       "    <tr style=\"text-align: right;\">\n",
       "      <th></th>\n",
       "      <th>CUSTOMER_ID</th>\n",
       "      <th>ACT_TYPE</th>\n",
       "      <th>GENDER</th>\n",
       "      <th>LEGAL_ENTITY</th>\n",
       "      <th>AGE</th>\n",
       "      <th>N_CASA_MAX_BALANCE_MTD</th>\n",
       "      <th>N_CASA_MIN_BALANCE_MTD</th>\n",
       "      <th>CC_HOLD</th>\n",
       "      <th>CC_ACTIVE</th>\n",
       "      <th>DC_HOLD</th>\n",
       "      <th>DC_ACTIVE</th>\n",
       "      <th>COC_ELIGIBLE</th>\n",
       "      <th>EOP_BAL_MON_01</th>\n",
       "      <th>AMB_MON_04</th>\n",
       "      <th>AMB_MON_01</th>\n",
       "      <th>AMB_MON_02</th>\n",
       "      <th>AMB_MON_03</th>\n",
       "      <th>FINANCE_MON_01</th>\n",
       "      <th>JOBS_MON_01</th>\n",
       "      <th>LIFESTYLE_MON_01</th>\n",
       "      <th>INMON_01KET_MON_01</th>\n",
       "      <th>TRAVEL_MON_01</th>\n",
       "      <th>CHANNEL_CLICK_DISP</th>\n",
       "      <th>DESIGNATION_FINAL</th>\n",
       "      <th>TOP14_CITY</th>\n",
       "      <th>TOP9_CITY</th>\n",
       "      <th>PL2CC_ELIGIBLE</th>\n",
       "      <th>NEFT_CC_CATEGORY</th>\n",
       "      <th>NEFT_DC_CATEGORY</th>\n",
       "      <th>TPT_DC_CATEGORY_MON_01</th>\n",
       "      <th>TPT_CC_CATEGORY_MON_01</th>\n",
       "      <th>IMPS_CC_CATEGORY_MON_01</th>\n",
       "      <th>ZIP_CODE_FINAL</th>\n",
       "      <th>CARD_AUTOMOBILE_MON_01</th>\n",
       "      <th>CARD_HOTEL_MON_01</th>\n",
       "      <th>CARD_JEWELLERY_MON_01</th>\n",
       "      <th>CARD_RESTAURANT_MON_01</th>\n",
       "      <th>CARD_TRAVEL_MON_01</th>\n",
       "      <th>CARD_PRSNL_CARE_MON_01</th>\n",
       "      <th>CARD_HOBBY_MON_01</th>\n",
       "      <th>CARD_HOME_DECOR_MON_01</th>\n",
       "      <th>CARD_MEDICAL_MON_01</th>\n",
       "      <th>CARD_ENTMNT_MON_01</th>\n",
       "      <th>TOP_CORP_TAG</th>\n",
       "      <th>EOP_MON_02</th>\n",
       "      <th>EOP_MON_03</th>\n",
       "      <th>SCRUB_EMI</th>\n",
       "      <th>RESPONDERS</th>\n",
       "    </tr>\n",
       "  </thead>\n",
       "  <tbody>\n",
       "    <tr>\n",
       "      <th>0</th>\n",
       "      <td>385793</td>\n",
       "      <td>0</td>\n",
       "      <td>1</td>\n",
       "      <td>1</td>\n",
       "      <td>21</td>\n",
       "      <td>0.00</td>\n",
       "      <td>0.00</td>\n",
       "      <td>0</td>\n",
       "      <td>0</td>\n",
       "      <td>1</td>\n",
       "      <td>0</td>\n",
       "      <td>0</td>\n",
       "      <td>0.00</td>\n",
       "      <td>0.00</td>\n",
       "      <td>0.00</td>\n",
       "      <td>0.00</td>\n",
       "      <td>0.00</td>\n",
       "      <td>0</td>\n",
       "      <td>0</td>\n",
       "      <td>0</td>\n",
       "      <td>0</td>\n",
       "      <td>0</td>\n",
       "      <td>2</td>\n",
       "      <td>4</td>\n",
       "      <td>1</td>\n",
       "      <td>1</td>\n",
       "      <td>0</td>\n",
       "      <td>12</td>\n",
       "      <td>12</td>\n",
       "      <td>13</td>\n",
       "      <td>13</td>\n",
       "      <td>13</td>\n",
       "      <td>5802</td>\n",
       "      <td>0</td>\n",
       "      <td>0</td>\n",
       "      <td>0</td>\n",
       "      <td>0</td>\n",
       "      <td>0</td>\n",
       "      <td>0</td>\n",
       "      <td>0</td>\n",
       "      <td>0</td>\n",
       "      <td>0</td>\n",
       "      <td>0</td>\n",
       "      <td>0</td>\n",
       "      <td>0.00</td>\n",
       "      <td>0.00</td>\n",
       "      <td>0.000000</td>\n",
       "      <td>0</td>\n",
       "    </tr>\n",
       "    <tr>\n",
       "      <th>1</th>\n",
       "      <td>286891</td>\n",
       "      <td>0</td>\n",
       "      <td>1</td>\n",
       "      <td>1</td>\n",
       "      <td>23</td>\n",
       "      <td>8243.77</td>\n",
       "      <td>7.77</td>\n",
       "      <td>0</td>\n",
       "      <td>0</td>\n",
       "      <td>1</td>\n",
       "      <td>1</td>\n",
       "      <td>0</td>\n",
       "      <td>11.77</td>\n",
       "      <td>1417.26</td>\n",
       "      <td>300.51</td>\n",
       "      <td>593.06</td>\n",
       "      <td>418.09</td>\n",
       "      <td>0</td>\n",
       "      <td>0</td>\n",
       "      <td>0</td>\n",
       "      <td>0</td>\n",
       "      <td>0</td>\n",
       "      <td>2</td>\n",
       "      <td>4</td>\n",
       "      <td>1</td>\n",
       "      <td>1</td>\n",
       "      <td>0</td>\n",
       "      <td>12</td>\n",
       "      <td>12</td>\n",
       "      <td>13</td>\n",
       "      <td>13</td>\n",
       "      <td>13</td>\n",
       "      <td>11193</td>\n",
       "      <td>0</td>\n",
       "      <td>0</td>\n",
       "      <td>0</td>\n",
       "      <td>0</td>\n",
       "      <td>0</td>\n",
       "      <td>0</td>\n",
       "      <td>0</td>\n",
       "      <td>0</td>\n",
       "      <td>0</td>\n",
       "      <td>0</td>\n",
       "      <td>0</td>\n",
       "      <td>3016.77</td>\n",
       "      <td>3.02</td>\n",
       "      <td>0.000000</td>\n",
       "      <td>0</td>\n",
       "    </tr>\n",
       "    <tr>\n",
       "      <th>2</th>\n",
       "      <td>108751</td>\n",
       "      <td>0</td>\n",
       "      <td>1</td>\n",
       "      <td>1</td>\n",
       "      <td>41</td>\n",
       "      <td>26515.00</td>\n",
       "      <td>0.00</td>\n",
       "      <td>0</td>\n",
       "      <td>0</td>\n",
       "      <td>1</td>\n",
       "      <td>0</td>\n",
       "      <td>0</td>\n",
       "      <td>26458.25</td>\n",
       "      <td>5354.65</td>\n",
       "      <td>6100.73</td>\n",
       "      <td>7955.82</td>\n",
       "      <td>11138.53</td>\n",
       "      <td>0</td>\n",
       "      <td>0</td>\n",
       "      <td>0</td>\n",
       "      <td>0</td>\n",
       "      <td>1</td>\n",
       "      <td>2</td>\n",
       "      <td>4</td>\n",
       "      <td>0</td>\n",
       "      <td>0</td>\n",
       "      <td>0</td>\n",
       "      <td>12</td>\n",
       "      <td>11</td>\n",
       "      <td>13</td>\n",
       "      <td>13</td>\n",
       "      <td>13</td>\n",
       "      <td>154</td>\n",
       "      <td>0</td>\n",
       "      <td>0</td>\n",
       "      <td>0</td>\n",
       "      <td>0</td>\n",
       "      <td>0</td>\n",
       "      <td>0</td>\n",
       "      <td>0</td>\n",
       "      <td>0</td>\n",
       "      <td>0</td>\n",
       "      <td>0</td>\n",
       "      <td>0</td>\n",
       "      <td>9999.00</td>\n",
       "      <td>14858.75</td>\n",
       "      <td>0.000000</td>\n",
       "      <td>0</td>\n",
       "    </tr>\n",
       "    <tr>\n",
       "      <th>3</th>\n",
       "      <td>278651</td>\n",
       "      <td>0</td>\n",
       "      <td>1</td>\n",
       "      <td>1</td>\n",
       "      <td>28</td>\n",
       "      <td>65917.28</td>\n",
       "      <td>8270.28</td>\n",
       "      <td>1</td>\n",
       "      <td>1</td>\n",
       "      <td>1</td>\n",
       "      <td>1</td>\n",
       "      <td>1</td>\n",
       "      <td>65917.28</td>\n",
       "      <td>113120.39</td>\n",
       "      <td>35560.81</td>\n",
       "      <td>42686.93</td>\n",
       "      <td>61593.38</td>\n",
       "      <td>1</td>\n",
       "      <td>0</td>\n",
       "      <td>0</td>\n",
       "      <td>0</td>\n",
       "      <td>0</td>\n",
       "      <td>2</td>\n",
       "      <td>4</td>\n",
       "      <td>0</td>\n",
       "      <td>0</td>\n",
       "      <td>0</td>\n",
       "      <td>12</td>\n",
       "      <td>12</td>\n",
       "      <td>13</td>\n",
       "      <td>13</td>\n",
       "      <td>13</td>\n",
       "      <td>4035</td>\n",
       "      <td>0</td>\n",
       "      <td>0</td>\n",
       "      <td>1</td>\n",
       "      <td>0</td>\n",
       "      <td>0</td>\n",
       "      <td>1</td>\n",
       "      <td>0</td>\n",
       "      <td>1</td>\n",
       "      <td>1</td>\n",
       "      <td>0</td>\n",
       "      <td>0</td>\n",
       "      <td>27163.10</td>\n",
       "      <td>49675.27</td>\n",
       "      <td>0.000000</td>\n",
       "      <td>0</td>\n",
       "    </tr>\n",
       "    <tr>\n",
       "      <th>4</th>\n",
       "      <td>23637</td>\n",
       "      <td>0</td>\n",
       "      <td>1</td>\n",
       "      <td>1</td>\n",
       "      <td>34</td>\n",
       "      <td>22260.94</td>\n",
       "      <td>6060.94</td>\n",
       "      <td>1</td>\n",
       "      <td>1</td>\n",
       "      <td>1</td>\n",
       "      <td>0</td>\n",
       "      <td>0</td>\n",
       "      <td>6172.94</td>\n",
       "      <td>9099.94</td>\n",
       "      <td>15858.71</td>\n",
       "      <td>14008.08</td>\n",
       "      <td>4570.73</td>\n",
       "      <td>0</td>\n",
       "      <td>0</td>\n",
       "      <td>0</td>\n",
       "      <td>0</td>\n",
       "      <td>0</td>\n",
       "      <td>2</td>\n",
       "      <td>1</td>\n",
       "      <td>0</td>\n",
       "      <td>0</td>\n",
       "      <td>0</td>\n",
       "      <td>12</td>\n",
       "      <td>12</td>\n",
       "      <td>13</td>\n",
       "      <td>13</td>\n",
       "      <td>12</td>\n",
       "      <td>167</td>\n",
       "      <td>0</td>\n",
       "      <td>0</td>\n",
       "      <td>0</td>\n",
       "      <td>0</td>\n",
       "      <td>0</td>\n",
       "      <td>0</td>\n",
       "      <td>0</td>\n",
       "      <td>0</td>\n",
       "      <td>1</td>\n",
       "      <td>0</td>\n",
       "      <td>0</td>\n",
       "      <td>21065.87</td>\n",
       "      <td>983.87</td>\n",
       "      <td>251.758794</td>\n",
       "      <td>0</td>\n",
       "    </tr>\n",
       "  </tbody>\n",
       "</table>\n",
       "</div>"
      ],
      "text/plain": [
       "   CUSTOMER_ID  ACT_TYPE  GENDER  LEGAL_ENTITY  AGE  N_CASA_MAX_BALANCE_MTD  \\\n",
       "0       385793         0       1             1   21                    0.00   \n",
       "1       286891         0       1             1   23                 8243.77   \n",
       "2       108751         0       1             1   41                26515.00   \n",
       "3       278651         0       1             1   28                65917.28   \n",
       "4        23637         0       1             1   34                22260.94   \n",
       "\n",
       "   N_CASA_MIN_BALANCE_MTD  CC_HOLD  CC_ACTIVE  DC_HOLD  DC_ACTIVE  \\\n",
       "0                    0.00        0          0        1          0   \n",
       "1                    7.77        0          0        1          1   \n",
       "2                    0.00        0          0        1          0   \n",
       "3                 8270.28        1          1        1          1   \n",
       "4                 6060.94        1          1        1          0   \n",
       "\n",
       "   COC_ELIGIBLE  EOP_BAL_MON_01  AMB_MON_04  AMB_MON_01  AMB_MON_02  \\\n",
       "0             0            0.00        0.00        0.00        0.00   \n",
       "1             0           11.77     1417.26      300.51      593.06   \n",
       "2             0        26458.25     5354.65     6100.73     7955.82   \n",
       "3             1        65917.28   113120.39    35560.81    42686.93   \n",
       "4             0         6172.94     9099.94    15858.71    14008.08   \n",
       "\n",
       "   AMB_MON_03  FINANCE_MON_01  JOBS_MON_01  LIFESTYLE_MON_01  \\\n",
       "0        0.00               0            0                 0   \n",
       "1      418.09               0            0                 0   \n",
       "2    11138.53               0            0                 0   \n",
       "3    61593.38               1            0                 0   \n",
       "4     4570.73               0            0                 0   \n",
       "\n",
       "   INMON_01KET_MON_01  TRAVEL_MON_01  CHANNEL_CLICK_DISP  DESIGNATION_FINAL  \\\n",
       "0                   0              0                   2                  4   \n",
       "1                   0              0                   2                  4   \n",
       "2                   0              1                   2                  4   \n",
       "3                   0              0                   2                  4   \n",
       "4                   0              0                   2                  1   \n",
       "\n",
       "   TOP14_CITY  TOP9_CITY  PL2CC_ELIGIBLE  NEFT_CC_CATEGORY  NEFT_DC_CATEGORY  \\\n",
       "0           1          1               0                12                12   \n",
       "1           1          1               0                12                12   \n",
       "2           0          0               0                12                11   \n",
       "3           0          0               0                12                12   \n",
       "4           0          0               0                12                12   \n",
       "\n",
       "   TPT_DC_CATEGORY_MON_01  TPT_CC_CATEGORY_MON_01  IMPS_CC_CATEGORY_MON_01  \\\n",
       "0                      13                      13                       13   \n",
       "1                      13                      13                       13   \n",
       "2                      13                      13                       13   \n",
       "3                      13                      13                       13   \n",
       "4                      13                      13                       12   \n",
       "\n",
       "   ZIP_CODE_FINAL  CARD_AUTOMOBILE_MON_01  CARD_HOTEL_MON_01  \\\n",
       "0            5802                       0                  0   \n",
       "1           11193                       0                  0   \n",
       "2             154                       0                  0   \n",
       "3            4035                       0                  0   \n",
       "4             167                       0                  0   \n",
       "\n",
       "   CARD_JEWELLERY_MON_01  CARD_RESTAURANT_MON_01  CARD_TRAVEL_MON_01  \\\n",
       "0                      0                       0                   0   \n",
       "1                      0                       0                   0   \n",
       "2                      0                       0                   0   \n",
       "3                      1                       0                   0   \n",
       "4                      0                       0                   0   \n",
       "\n",
       "   CARD_PRSNL_CARE_MON_01  CARD_HOBBY_MON_01  CARD_HOME_DECOR_MON_01  \\\n",
       "0                       0                  0                       0   \n",
       "1                       0                  0                       0   \n",
       "2                       0                  0                       0   \n",
       "3                       1                  0                       1   \n",
       "4                       0                  0                       0   \n",
       "\n",
       "   CARD_MEDICAL_MON_01  CARD_ENTMNT_MON_01  TOP_CORP_TAG  EOP_MON_02  \\\n",
       "0                    0                   0             0        0.00   \n",
       "1                    0                   0             0     3016.77   \n",
       "2                    0                   0             0     9999.00   \n",
       "3                    1                   0             0    27163.10   \n",
       "4                    1                   0             0    21065.87   \n",
       "\n",
       "   EOP_MON_03   SCRUB_EMI  RESPONDERS  \n",
       "0        0.00    0.000000           0  \n",
       "1        3.02    0.000000           0  \n",
       "2    14858.75    0.000000           0  \n",
       "3    49675.27    0.000000           0  \n",
       "4      983.87  251.758794           0  "
      ]
     },
     "execution_count": 99,
     "metadata": {},
     "output_type": "execute_result"
    }
   ],
   "source": [
    "newData.head()"
   ]
  },
  {
   "cell_type": "code",
   "execution_count": 100,
   "metadata": {
    "colab": {},
    "colab_type": "code",
    "id": "nEC7c9Utsh7v"
   },
   "outputs": [],
   "source": [
    "newData.reset_index(drop=True, inplace=True)"
   ]
  },
  {
   "cell_type": "code",
   "execution_count": 101,
   "metadata": {},
   "outputs": [],
   "source": [
    "selectedCols = newData.columns"
   ]
  },
  {
   "cell_type": "code",
   "execution_count": 105,
   "metadata": {},
   "outputs": [],
   "source": [
    "savelst = [newData,letct,[le1,le2,le3,le4,le5],ledes,leccd,leBin,lezc,leLe,leGen,leActType]"
   ]
  },
  {
   "cell_type": "code",
   "execution_count": 110,
   "metadata": {},
   "outputs": [],
   "source": [
    "def saveVarFData(varData,fn):\n",
    "    with open(fn,'wb') as file:\n",
    "        pickle.dump(varData,file)"
   ]
  },
  {
   "cell_type": "code",
   "execution_count": 111,
   "metadata": {},
   "outputs": [],
   "source": [
    "saveVarFData(savelst,'savedata.pkl')"
   ]
  },
  {
   "cell_type": "code",
   "execution_count": 114,
   "metadata": {},
   "outputs": [],
   "source": [
    "def loadVarFData(varData,fn):\n",
    "    with open(fn,'wb') as file:\n",
    "        savelst = pickle.load(file)\n",
    "    return savelst"
   ]
  },
  {
   "cell_type": "code",
   "execution_count": 115,
   "metadata": {},
   "outputs": [],
   "source": [
    "# loadVarFData('savedata.pkl')"
   ]
  },
  {
   "cell_type": "code",
   "execution_count": 116,
   "metadata": {
    "colab": {},
    "colab_type": "code",
    "id": "_tLKHFghAkWK"
   },
   "outputs": [],
   "source": [
    "newDataScaled = newData.copy()"
   ]
  },
  {
   "cell_type": "code",
   "execution_count": 133,
   "metadata": {
    "colab": {},
    "colab_type": "code",
    "id": "8gdQKIrU71lm"
   },
   "outputs": [],
   "source": [
    "def scaleCols(df,cols):\n",
    "    mms = MinMaxScaler()\n",
    "    for col in cols:\n",
    "        df[col] = mms.fit_transform(df[col])"
   ]
  },
  {
   "cell_type": "code",
   "execution_count": 134,
   "metadata": {
    "colab": {},
    "colab_type": "code",
    "id": "ba8rMX8D8mFP"
   },
   "outputs": [],
   "source": [
    "# scaleCols(newDataScaled,['N_CASA_MAX_BALANCE_MTD','N_CASA_MIN_BALANCE_MTD','EOP_BAL_MON_01','AMB_MON_04','AMB_MON_03','AMB_MON_02','AMB_MON_01','EOP_MON_02','EOP_MON_03','SCRUB_EMI'])"
   ]
  },
  {
   "cell_type": "code",
   "execution_count": 135,
   "metadata": {
    "colab": {},
    "colab_type": "code",
    "id": "F5K5ooqOt8zs"
   },
   "outputs": [],
   "source": [
    "X = newData.iloc[:,1:-1].values\n",
    "# Xs = newDataScaled.iloc[:,1:-1].values"
   ]
  },
  {
   "cell_type": "code",
   "execution_count": 136,
   "metadata": {
    "colab": {},
    "colab_type": "code",
    "id": "joB7n325uo9v"
   },
   "outputs": [],
   "source": [
    "y =  newData.iloc[:,-1].values\n",
    "# ys =  newDataScaled.iloc[:,-1].values"
   ]
  },
  {
   "cell_type": "markdown",
   "metadata": {
    "colab_type": "text",
    "id": "wSpsI0r6vRDe"
   },
   "source": [
    "## Modeling"
   ]
  },
  {
   "cell_type": "code",
   "execution_count": 137,
   "metadata": {
    "colab": {},
    "colab_type": "code",
    "id": "bMg6vevXu7Xk"
   },
   "outputs": [],
   "source": [
    "skf = StratifiedKFold(n_splits=3)"
   ]
  },
  {
   "cell_type": "code",
   "execution_count": 148,
   "metadata": {
    "colab": {},
    "colab_type": "code",
    "id": "ATPYBOsT_aWI"
   },
   "outputs": [],
   "source": [
    "def applyModel(clf):\n",
    "    for trainIndex,testIndex in skf.split(X,y):\n",
    "        clf.fit(X[trainIndex],y[trainIndex])\n",
    "        pred = clf.predict(X[testIndex])\n",
    "        print('Accuracy for Data is {}\\n'.format(accuracy_score(y[testIndex],pred)))\n",
    "        print('Classification report:\\n{}'.format(classification_report(y[testIndex],pred)))\n",
    "        print('Confusion Matrix:\\n{}'.format(confusion_matrix(y[testIndex],pred)))\n",
    "    return clf"
   ]
  },
  {
   "cell_type": "code",
   "execution_count": 146,
   "metadata": {
    "colab": {},
    "colab_type": "code",
    "id": "YiYxSMBxBoJK"
   },
   "outputs": [],
   "source": [
    "def applyModelScaled(clf):\n",
    "    for trainIndex,testIndex in skf.split(Xs,ys):\n",
    "        clf.fit(Xs[trainIndex],ys[trainIndex])\n",
    "        pred = clf.predict(xs[testIndex])\n",
    "        print('Accuracy for Scaled Data is {}\\n'.format(accuracy_score(ys[testIndex],pred)))\n",
    "        print('Classification report:\\n{}'.format(classification_report(y[testIndex],pred)))\n",
    "        print('Confusion Matrix:\\n{}'.format(confusion_matrix(y[testIndex],pred)))\n",
    "    return clf"
   ]
  },
  {
   "cell_type": "markdown",
   "metadata": {
    "colab_type": "text",
    "id": "TZFHgyTw-k2t"
   },
   "source": [
    "### Logistic Regression"
   ]
  },
  {
   "cell_type": "code",
   "execution_count": 144,
   "metadata": {
    "colab": {},
    "colab_type": "code",
    "id": "tm13iKL6xIu0"
   },
   "outputs": [],
   "source": [
    "logreg = LogisticRegression()"
   ]
  },
  {
   "cell_type": "code",
   "execution_count": 149,
   "metadata": {
    "colab": {},
    "colab_type": "code",
    "id": "aLb31ixK_M3w",
    "scrolled": false
   },
   "outputs": [
    {
     "name": "stderr",
     "output_type": "stream",
     "text": [
      "/home/greenalien24/anaconda3/lib/python3.7/site-packages/sklearn/linear_model/_logistic.py:940: ConvergenceWarning: lbfgs failed to converge (status=1):\n",
      "STOP: TOTAL NO. of ITERATIONS REACHED LIMIT.\n",
      "\n",
      "Increase the number of iterations (max_iter) or scale the data as shown in:\n",
      "    https://scikit-learn.org/stable/modules/preprocessing.html\n",
      "Please also refer to the documentation for alternative solver options:\n",
      "    https://scikit-learn.org/stable/modules/linear_model.html#logistic-regression\n",
      "  extra_warning_msg=_LOGISTIC_SOLVER_CONVERGENCE_MSG)\n"
     ]
    },
    {
     "name": "stdout",
     "output_type": "stream",
     "text": [
      "Accuracy for Data is 0.9844009225913487\n",
      "\n",
      "Classification report:\n",
      "              precision    recall  f1-score   support\n",
      "\n",
      "           0       0.98      1.00      0.99     97316\n",
      "           1       0.00      0.00      0.00      1536\n",
      "\n",
      "    accuracy                           0.98     98852\n",
      "   macro avg       0.49      0.50      0.50     98852\n",
      "weighted avg       0.97      0.98      0.98     98852\n",
      "\n",
      "Confusion Matrix:\n",
      "[[97310     6]\n",
      " [ 1536     0]]\n"
     ]
    },
    {
     "name": "stderr",
     "output_type": "stream",
     "text": [
      "/home/greenalien24/anaconda3/lib/python3.7/site-packages/sklearn/linear_model/_logistic.py:940: ConvergenceWarning: lbfgs failed to converge (status=1):\n",
      "STOP: TOTAL NO. of ITERATIONS REACHED LIMIT.\n",
      "\n",
      "Increase the number of iterations (max_iter) or scale the data as shown in:\n",
      "    https://scikit-learn.org/stable/modules/preprocessing.html\n",
      "Please also refer to the documentation for alternative solver options:\n",
      "    https://scikit-learn.org/stable/modules/linear_model.html#logistic-regression\n",
      "  extra_warning_msg=_LOGISTIC_SOLVER_CONVERGENCE_MSG)\n"
     ]
    },
    {
     "name": "stdout",
     "output_type": "stream",
     "text": [
      "Accuracy for Data is 0.9844311134940466\n",
      "\n",
      "Classification report:\n",
      "              precision    recall  f1-score   support\n",
      "\n",
      "           0       0.98      1.00      0.99     97316\n",
      "           1       0.00      0.00      0.00      1535\n",
      "\n",
      "    accuracy                           0.98     98851\n",
      "   macro avg       0.49      0.50      0.50     98851\n",
      "weighted avg       0.97      0.98      0.98     98851\n",
      "\n",
      "Confusion Matrix:\n",
      "[[97312     4]\n",
      " [ 1535     0]]\n",
      "Accuracy for Data is 0.9844108810229537\n",
      "\n",
      "Classification report:\n",
      "              precision    recall  f1-score   support\n",
      "\n",
      "           0       0.98      1.00      0.99     97315\n",
      "           1       0.00      0.00      0.00      1536\n",
      "\n",
      "    accuracy                           0.98     98851\n",
      "   macro avg       0.49      0.50      0.50     98851\n",
      "weighted avg       0.97      0.98      0.98     98851\n",
      "\n",
      "Confusion Matrix:\n",
      "[[97310     5]\n",
      " [ 1536     0]]\n"
     ]
    }
   ],
   "source": [
    "logres = applyModel(logreg)"
   ]
  },
  {
   "cell_type": "code",
   "execution_count": null,
   "metadata": {
    "colab": {},
    "colab_type": "code",
    "id": "SKDa7hzFB3sE"
   },
   "outputs": [],
   "source": [
    "# logreg_sc = applyModelScaled(logreg)"
   ]
  },
  {
   "cell_type": "markdown",
   "metadata": {
    "colab_type": "text",
    "id": "PLkkO_mTiO1H"
   },
   "source": [
    "### Decision Tree"
   ]
  },
  {
   "cell_type": "code",
   "execution_count": 150,
   "metadata": {
    "colab": {},
    "colab_type": "code",
    "id": "7lZlDt6hiUSk"
   },
   "outputs": [],
   "source": [
    "dtc = DecisionTreeClassifier()"
   ]
  },
  {
   "cell_type": "code",
   "execution_count": 151,
   "metadata": {
    "colab": {},
    "colab_type": "code",
    "id": "-c28K6Z7i8wq"
   },
   "outputs": [
    {
     "name": "stdout",
     "output_type": "stream",
     "text": [
      "Accuracy for Data is 0.9672034961356372\n",
      "\n",
      "Classification report:\n",
      "              precision    recall  f1-score   support\n",
      "\n",
      "           0       0.99      0.98      0.98     97316\n",
      "           1       0.05      0.06      0.06      1536\n",
      "\n",
      "    accuracy                           0.97     98852\n",
      "   macro avg       0.52      0.52      0.52     98852\n",
      "weighted avg       0.97      0.97      0.97     98852\n",
      "\n",
      "Confusion Matrix:\n",
      "[[95515  1801]\n",
      " [ 1441    95]]\n",
      "Accuracy for Data is 0.9669401422342718\n",
      "\n",
      "Classification report:\n",
      "              precision    recall  f1-score   support\n",
      "\n",
      "           0       0.99      0.98      0.98     97316\n",
      "           1       0.05      0.07      0.06      1535\n",
      "\n",
      "    accuracy                           0.97     98851\n",
      "   macro avg       0.52      0.52      0.52     98851\n",
      "weighted avg       0.97      0.97      0.97     98851\n",
      "\n",
      "Confusion Matrix:\n",
      "[[95483  1833]\n",
      " [ 1435   100]]\n",
      "Accuracy for Data is 0.9667985149366218\n",
      "\n",
      "Classification report:\n",
      "              precision    recall  f1-score   support\n",
      "\n",
      "           0       0.99      0.98      0.98     97315\n",
      "           1       0.05      0.06      0.05      1536\n",
      "\n",
      "    accuracy                           0.97     98851\n",
      "   macro avg       0.52      0.52      0.52     98851\n",
      "weighted avg       0.97      0.97      0.97     98851\n",
      "\n",
      "Confusion Matrix:\n",
      "[[95477  1838]\n",
      " [ 1444    92]]\n"
     ]
    }
   ],
   "source": [
    "dtc = applyModel(dtc)"
   ]
  },
  {
   "cell_type": "code",
   "execution_count": 152,
   "metadata": {
    "colab": {},
    "colab_type": "code",
    "id": "-mFsvDMvi_TG"
   },
   "outputs": [],
   "source": [
    "# dtc_sc = applyModelScaled(dtc)"
   ]
  },
  {
   "cell_type": "markdown",
   "metadata": {
    "colab_type": "text",
    "id": "Ilw5aDk-jOJj"
   },
   "source": [
    "### Random Forest"
   ]
  },
  {
   "cell_type": "code",
   "execution_count": 153,
   "metadata": {
    "colab": {},
    "colab_type": "code",
    "id": "UcUlyVmfjQax"
   },
   "outputs": [],
   "source": [
    "rfc = RandomForestClassifier()"
   ]
  },
  {
   "cell_type": "code",
   "execution_count": 154,
   "metadata": {
    "colab": {},
    "colab_type": "code",
    "id": "C1epG32RjoO2"
   },
   "outputs": [
    {
     "name": "stdout",
     "output_type": "stream",
     "text": [
      "Accuracy for Data is 0.9844515032573949\n",
      "\n",
      "Classification report:\n",
      "              precision    recall  f1-score   support\n",
      "\n",
      "           0       0.98      1.00      0.99     97316\n",
      "           1       0.00      0.00      0.00      1536\n",
      "\n",
      "    accuracy                           0.98     98852\n",
      "   macro avg       0.49      0.50      0.50     98852\n",
      "weighted avg       0.97      0.98      0.98     98852\n",
      "\n",
      "Confusion Matrix:\n",
      "[[97315     1]\n",
      " [ 1536     0]]\n",
      "Accuracy for Data is 0.984441229729593\n",
      "\n",
      "Classification report:\n",
      "              precision    recall  f1-score   support\n",
      "\n",
      "           0       0.98      1.00      0.99     97316\n",
      "           1       0.00      0.00      0.00      1535\n",
      "\n",
      "    accuracy                           0.98     98851\n",
      "   macro avg       0.49      0.50      0.50     98851\n",
      "weighted avg       0.97      0.98      0.98     98851\n",
      "\n",
      "Confusion Matrix:\n",
      "[[97313     3]\n",
      " [ 1535     0]]\n",
      "Accuracy for Data is 0.9844513459651395\n",
      "\n",
      "Classification report:\n",
      "              precision    recall  f1-score   support\n",
      "\n",
      "           0       0.98      1.00      0.99     97315\n",
      "           1       0.00      0.00      0.00      1536\n",
      "\n",
      "    accuracy                           0.98     98851\n",
      "   macro avg       0.49      0.50      0.50     98851\n",
      "weighted avg       0.97      0.98      0.98     98851\n",
      "\n",
      "Confusion Matrix:\n",
      "[[97314     1]\n",
      " [ 1536     0]]\n"
     ]
    }
   ],
   "source": [
    "rfc = applyModel(rfc)"
   ]
  },
  {
   "cell_type": "code",
   "execution_count": 155,
   "metadata": {
    "colab": {},
    "colab_type": "code",
    "id": "uXFfZpjkjp7Q"
   },
   "outputs": [],
   "source": [
    "# rfc_sc = applyModelScaled(rfc)"
   ]
  },
  {
   "cell_type": "markdown",
   "metadata": {
    "colab_type": "text",
    "id": "Yj7ulPTpjvPl"
   },
   "source": [
    "### XGBOOST"
   ]
  },
  {
   "cell_type": "code",
   "execution_count": 156,
   "metadata": {
    "colab": {},
    "colab_type": "code",
    "id": "DRACLrnVjuFu"
   },
   "outputs": [],
   "source": [
    "xgb = xgboost.XGBClassifier()"
   ]
  },
  {
   "cell_type": "code",
   "execution_count": 157,
   "metadata": {
    "colab": {},
    "colab_type": "code",
    "id": "J3lcT5rNlPwo"
   },
   "outputs": [
    {
     "name": "stdout",
     "output_type": "stream",
     "text": [
      "Accuracy for Data is 0.9844616193906042\n",
      "\n"
     ]
    },
    {
     "name": "stderr",
     "output_type": "stream",
     "text": [
      "/home/greenalien24/anaconda3/lib/python3.7/site-packages/sklearn/metrics/_classification.py:1272: UndefinedMetricWarning: Precision and F-score are ill-defined and being set to 0.0 in labels with no predicted samples. Use `zero_division` parameter to control this behavior.\n",
      "  _warn_prf(average, modifier, msg_start, len(result))\n"
     ]
    },
    {
     "name": "stdout",
     "output_type": "stream",
     "text": [
      "Classification report:\n",
      "              precision    recall  f1-score   support\n",
      "\n",
      "           0       0.98      1.00      0.99     97316\n",
      "           1       0.00      0.00      0.00      1536\n",
      "\n",
      "    accuracy                           0.98     98852\n",
      "   macro avg       0.49      0.50      0.50     98852\n",
      "weighted avg       0.97      0.98      0.98     98852\n",
      "\n",
      "Confusion Matrix:\n",
      "[[97316     0]\n",
      " [ 1536     0]]\n",
      "Accuracy for Data is 0.9844715784362323\n",
      "\n",
      "Classification report:\n",
      "              precision    recall  f1-score   support\n",
      "\n",
      "           0       0.98      1.00      0.99     97316\n",
      "           1       0.00      0.00      0.00      1535\n",
      "\n",
      "    accuracy                           0.98     98851\n",
      "   macro avg       0.49      0.50      0.50     98851\n",
      "weighted avg       0.97      0.98      0.98     98851\n",
      "\n",
      "Confusion Matrix:\n",
      "[[97316     0]\n",
      " [ 1535     0]]\n",
      "Accuracy for Data is 0.9844614622006859\n",
      "\n",
      "Classification report:\n",
      "              precision    recall  f1-score   support\n",
      "\n",
      "           0       0.98      1.00      0.99     97315\n",
      "           1       0.00      0.00      0.00      1536\n",
      "\n",
      "    accuracy                           0.98     98851\n",
      "   macro avg       0.49      0.50      0.50     98851\n",
      "weighted avg       0.97      0.98      0.98     98851\n",
      "\n",
      "Confusion Matrix:\n",
      "[[97315     0]\n",
      " [ 1536     0]]\n"
     ]
    }
   ],
   "source": [
    "xgb = applyModel(xgb)"
   ]
  },
  {
   "cell_type": "code",
   "execution_count": null,
   "metadata": {
    "colab": {},
    "colab_type": "code",
    "id": "qIGM1TOClTNT"
   },
   "outputs": [],
   "source": [
    "# xgb_sc = applyModelScaled(xgb)"
   ]
  },
  {
   "cell_type": "markdown",
   "metadata": {
    "colab_type": "text",
    "id": "JnIu126dlXvR"
   },
   "source": [
    "### Naive Bayes"
   ]
  },
  {
   "cell_type": "code",
   "execution_count": 158,
   "metadata": {
    "colab": {},
    "colab_type": "code",
    "id": "hjGWzKdBljlq"
   },
   "outputs": [],
   "source": [
    "nbc = GaussianNB()"
   ]
  },
  {
   "cell_type": "code",
   "execution_count": 159,
   "metadata": {
    "colab": {},
    "colab_type": "code",
    "id": "ZAcP9IIWmNm8"
   },
   "outputs": [
    {
     "name": "stdout",
     "output_type": "stream",
     "text": [
      "Accuracy for Data is 0.9816189859588071\n",
      "\n",
      "Classification report:\n",
      "              precision    recall  f1-score   support\n",
      "\n",
      "           0       0.98      1.00      0.99     97316\n",
      "           1       0.01      0.00      0.00      1536\n",
      "\n",
      "    accuracy                           0.98     98852\n",
      "   macro avg       0.50      0.50      0.50     98852\n",
      "weighted avg       0.97      0.98      0.98     98852\n",
      "\n",
      "Confusion Matrix:\n",
      "[[97032   284]\n",
      " [ 1533     3]]\n",
      "Accuracy for Data is 0.173159603848216\n",
      "\n",
      "Classification report:\n",
      "              precision    recall  f1-score   support\n",
      "\n",
      "           0       0.99      0.16      0.28     97316\n",
      "           1       0.02      0.86      0.03      1535\n",
      "\n",
      "    accuracy                           0.17     98851\n",
      "   macro avg       0.50      0.51      0.16     98851\n",
      "weighted avg       0.97      0.17      0.27     98851\n",
      "\n",
      "Confusion Matrix:\n",
      "[[15791 81525]\n",
      " [  209  1326]]\n",
      "Accuracy for Data is 0.226897047070844\n",
      "\n",
      "Classification report:\n",
      "              precision    recall  f1-score   support\n",
      "\n",
      "           0       0.99      0.22      0.36     97315\n",
      "           1       0.02      0.84      0.03      1536\n",
      "\n",
      "    accuracy                           0.23     98851\n",
      "   macro avg       0.50      0.53      0.19     98851\n",
      "weighted avg       0.97      0.23      0.35     98851\n",
      "\n",
      "Confusion Matrix:\n",
      "[[21143 76172]\n",
      " [  250  1286]]\n"
     ]
    }
   ],
   "source": [
    "nbc = applyModel(nbc)"
   ]
  },
  {
   "cell_type": "code",
   "execution_count": 160,
   "metadata": {
    "colab": {},
    "colab_type": "code",
    "id": "c1VMUH46mQFf"
   },
   "outputs": [],
   "source": [
    "# nbc_sc = applyModelScaled(nbc)"
   ]
  },
  {
   "cell_type": "markdown",
   "metadata": {
    "colab_type": "text",
    "id": "8XUZYCQ9mZnu"
   },
   "source": [
    "### Neural Network"
   ]
  },
  {
   "cell_type": "code",
   "execution_count": 161,
   "metadata": {
    "colab": {},
    "colab_type": "code",
    "id": "H76_hePjmdJY"
   },
   "outputs": [],
   "source": [
    "ann = MLPClassifier()"
   ]
  },
  {
   "cell_type": "code",
   "execution_count": 162,
   "metadata": {
    "colab": {},
    "colab_type": "code",
    "id": "Rs2FHI7AmheA"
   },
   "outputs": [
    {
     "name": "stdout",
     "output_type": "stream",
     "text": [
      "Accuracy for Data is 0.9844312709909764\n",
      "\n",
      "Classification report:\n",
      "              precision    recall  f1-score   support\n",
      "\n",
      "           0       0.98      1.00      0.99     97316\n",
      "           1       0.00      0.00      0.00      1536\n",
      "\n",
      "    accuracy                           0.98     98852\n",
      "   macro avg       0.49      0.50      0.50     98852\n",
      "weighted avg       0.97      0.98      0.98     98852\n",
      "\n",
      "Confusion Matrix:\n",
      "[[97313     3]\n",
      " [ 1536     0]]\n",
      "Accuracy for Data is 0.9844715784362323\n",
      "\n"
     ]
    },
    {
     "name": "stderr",
     "output_type": "stream",
     "text": [
      "/home/greenalien24/anaconda3/lib/python3.7/site-packages/sklearn/metrics/_classification.py:1272: UndefinedMetricWarning: Precision and F-score are ill-defined and being set to 0.0 in labels with no predicted samples. Use `zero_division` parameter to control this behavior.\n",
      "  _warn_prf(average, modifier, msg_start, len(result))\n"
     ]
    },
    {
     "name": "stdout",
     "output_type": "stream",
     "text": [
      "Classification report:\n",
      "              precision    recall  f1-score   support\n",
      "\n",
      "           0       0.98      1.00      0.99     97316\n",
      "           1       0.00      0.00      0.00      1535\n",
      "\n",
      "    accuracy                           0.98     98851\n",
      "   macro avg       0.49      0.50      0.50     98851\n",
      "weighted avg       0.97      0.98      0.98     98851\n",
      "\n",
      "Confusion Matrix:\n",
      "[[97316     0]\n",
      " [ 1535     0]]\n",
      "Accuracy for Data is 0.9844614622006859\n",
      "\n",
      "Classification report:\n",
      "              precision    recall  f1-score   support\n",
      "\n",
      "           0       0.98      1.00      0.99     97315\n",
      "           1       0.00      0.00      0.00      1536\n",
      "\n",
      "    accuracy                           0.98     98851\n",
      "   macro avg       0.49      0.50      0.50     98851\n",
      "weighted avg       0.97      0.98      0.98     98851\n",
      "\n"
     ]
    },
    {
     "name": "stderr",
     "output_type": "stream",
     "text": [
      "/home/greenalien24/anaconda3/lib/python3.7/site-packages/sklearn/metrics/_classification.py:1272: UndefinedMetricWarning: Precision and F-score are ill-defined and being set to 0.0 in labels with no predicted samples. Use `zero_division` parameter to control this behavior.\n",
      "  _warn_prf(average, modifier, msg_start, len(result))\n"
     ]
    },
    {
     "name": "stdout",
     "output_type": "stream",
     "text": [
      "Confusion Matrix:\n",
      "[[97315     0]\n",
      " [ 1536     0]]\n"
     ]
    }
   ],
   "source": [
    "ann = applyModel(ann)"
   ]
  },
  {
   "cell_type": "code",
   "execution_count": null,
   "metadata": {
    "colab": {},
    "colab_type": "code",
    "id": "IQWGELi7mjo0"
   },
   "outputs": [],
   "source": [
    "# ann_sc = applyModelScaled(ann)"
   ]
  },
  {
   "cell_type": "markdown",
   "metadata": {
    "colab_type": "text",
    "id": "IKFLZQLHO02I"
   },
   "source": [
    "# Test"
   ]
  },
  {
   "cell_type": "markdown",
   "metadata": {
    "colab": {},
    "colab_type": "code",
    "id": "6PYEdwSGO3t2"
   },
   "source": [
    "## Reading Data"
   ]
  },
  {
   "cell_type": "code",
   "execution_count": null,
   "metadata": {
    "colab": {
     "base_uri": "https://localhost:8080/",
     "height": 72
    },
    "colab_type": "code",
    "id": "udtbSSYiFBdY",
    "outputId": "1f6fe699-4ac6-4b91-c922-91e10e49b363"
   },
   "outputs": [],
   "source": [
    "#Reading Testing Data\n",
    "# dataTest = pd.read_csv('drive/My Drive/test_plBmD8c.csv')\n",
    "# dataTest = pd.read_csv('test_plBmD8c.csv')"
   ]
  },
  {
   "cell_type": "markdown",
   "metadata": {},
   "source": [
    "## Cleaning Data"
   ]
  },
  {
   "cell_type": "code",
   "execution_count": null,
   "metadata": {},
   "outputs": [],
   "source": []
  }
 ],
 "metadata": {
  "accelerator": "GPU",
  "colab": {
   "collapsed_sections": [
    "AciZGUw4v6Qn",
    "8YAJsdFEweZd",
    "eli6JoRGv6Rf",
    "IhqldZpJv6R4",
    "INu-FAyzz8gR",
    "G2scUKxb24qm",
    "bwwotdhQv6SV"
   ],
   "machine_shape": "hm",
   "name": "Crosssell.ipynb",
   "provenance": []
  },
  "kernelspec": {
   "display_name": "Python 3",
   "language": "python",
   "name": "python3"
  },
  "language_info": {
   "codemirror_mode": {
    "name": "ipython",
    "version": 3
   },
   "file_extension": ".py",
   "mimetype": "text/x-python",
   "name": "python",
   "nbconvert_exporter": "python",
   "pygments_lexer": "ipython3",
   "version": "3.7.4"
  }
 },
 "nbformat": 4,
 "nbformat_minor": 1
}
