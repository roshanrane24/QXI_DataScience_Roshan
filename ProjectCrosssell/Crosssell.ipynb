{
  "nbformat": 4,
  "nbformat_minor": 0,
  "metadata": {
    "kernelspec": {
      "name": "python3",
      "display_name": "Python 3"
    },
    "language_info": {
      "codemirror_mode": {
        "name": "ipython",
        "version": 3
      },
      "file_extension": ".py",
      "mimetype": "text/x-python",
      "name": "python",
      "nbconvert_exporter": "python",
      "pygments_lexer": "ipython3",
      "version": "3.7.4"
    },
    "colab": {
      "name": "Crosssell.ipynb",
      "provenance": [],
      "collapsed_sections": [
        "AciZGUw4v6Qn",
        "8YAJsdFEweZd",
        "eli6JoRGv6Rf",
        "IhqldZpJv6R4",
        "INu-FAyzz8gR",
        "G2scUKxb24qm",
        "bwwotdhQv6SV"
      ],
      "machine_shape": "hm"
    }
  },
  "cells": [
    {
      "cell_type": "markdown",
      "metadata": {
        "id": "AciZGUw4v6Qn",
        "colab_type": "text"
      },
      "source": [
        "# Importing Modules & Data"
      ]
    },
    {
      "cell_type": "code",
      "metadata": {
        "id": "uFDe5168a0x7",
        "colab_type": "code",
        "colab": {}
      },
      "source": [
        "# from google.colab import drive\n",
        "# drive.mount('/content/drive')"
      ],
      "execution_count": 0,
      "outputs": []
    },
    {
      "cell_type": "code",
      "metadata": {
        "id": "IpwbuF2jv6Qs",
        "colab_type": "code",
        "colab": {}
      },
      "source": [
        "import numpy as np\n",
        "import pandas as pd\n",
        "import matplotlib.pyplot as plt\n",
        "import seaborn as sns\n",
        "from sklearn.preprocessing import LabelEncoder, MinMaxScaler, StandardScaler\n",
        "from sklearn.linear_model import LogisticRegression\n",
        "from sklearn.ensemble import RandomForestClassifier\n",
        "from sklearn.tree import DecisionTreeClassifier\n",
        "import xgboost\n",
        "from sklearn.naive_bayes import GaussianNB\n",
        "from sklearn.neural_network import MLPClassifier\n",
        "from sklearn.model_selection import StratifiedKFold\n",
        "from sklearn.metrics import accuracy_score"
      ],
      "execution_count": 0,
      "outputs": []
    },
    {
      "cell_type": "code",
      "metadata": {
        "id": "NGnYBGyUyD4k",
        "colab_type": "code",
        "outputId": "2d63b6f1-5abd-4bfd-b16f-fc82c7aced90",
        "colab": {
          "base_uri": "https://localhost:8080/",
          "height": 34
        }
      },
      "source": [
        "ls"
      ],
      "execution_count": 8,
      "outputs": [
        {
          "output_type": "stream",
          "text": [
            "\u001b[0m\u001b[01;34mdrive\u001b[0m/  \u001b[01;34msample_data\u001b[0m/\n"
          ],
          "name": "stdout"
        }
      ]
    },
    {
      "cell_type": "code",
      "metadata": {
        "scrolled": true,
        "id": "0cQF-6unv6Q0",
        "colab_type": "code",
        "outputId": "bfbf1377-ac4f-4ec7-84fa-fa73f61e8a19",
        "colab": {
          "base_uri": "https://localhost:8080/",
          "height": 71
        }
      },
      "source": [
        "dataTrain = pd.read_csv('drive/My Drive/train.csv')#,index_col='CUSTOMER_ID')"
      ],
      "execution_count": 9,
      "outputs": [
        {
          "output_type": "stream",
          "text": [
            "/usr/local/lib/python3.6/dist-packages/IPython/core/interactiveshell.py:2718: DtypeWarning: Columns (8,11,12,13,14,15,16,17,18,19,21,23,26,28,29,30,32,82,83,85,91,269,325,326,327,328) have mixed types. Specify dtype option on import or set low_memory=False.\n",
            "  interactivity=interactivity, compiler=compiler, result=result)\n"
          ],
          "name": "stderr"
        }
      ]
    },
    {
      "cell_type": "markdown",
      "metadata": {
        "id": "9UPObRiMv6Q6",
        "colab_type": "text"
      },
      "source": [
        "# EDA & Data Preprocessing"
      ]
    },
    {
      "cell_type": "code",
      "metadata": {
        "id": "vkM4ehMov6Q8",
        "colab_type": "code",
        "outputId": "f80030d4-2062-4da7-cc4e-6e765d9bb1c0",
        "colab": {
          "base_uri": "https://localhost:8080/",
          "height": 224
        }
      },
      "source": [
        "pd.set_option('display.max_columns',None)\n",
        "dataTrain.head()"
      ],
      "execution_count": 10,
      "outputs": [
        {
          "output_type": "execute_result",
          "data": {
            "text/html": [
              "<div>\n",
              "<style scoped>\n",
              "    .dataframe tbody tr th:only-of-type {\n",
              "        vertical-align: middle;\n",
              "    }\n",
              "\n",
              "    .dataframe tbody tr th {\n",
              "        vertical-align: top;\n",
              "    }\n",
              "\n",
              "    .dataframe thead th {\n",
              "        text-align: right;\n",
              "    }\n",
              "</style>\n",
              "<table border=\"1\" class=\"dataframe\">\n",
              "  <thead>\n",
              "    <tr style=\"text-align: right;\">\n",
              "      <th></th>\n",
              "      <th>CUSTOMER_ID</th>\n",
              "      <th>ACT_TYPE</th>\n",
              "      <th>GENDER</th>\n",
              "      <th>LEGAL_ENTITY</th>\n",
              "      <th>OCCUP_ALL_NEW</th>\n",
              "      <th>AGE</th>\n",
              "      <th>N_CASA_MAX_BALANCE_MTD</th>\n",
              "      <th>N_CASA_MIN_BALANCE_MTD</th>\n",
              "      <th>BL_TAG</th>\n",
              "      <th>TWL_TAG</th>\n",
              "      <th>PL_TAG</th>\n",
              "      <th>AL_CNC_TAG</th>\n",
              "      <th>AGRI_TAG</th>\n",
              "      <th>CE_TAG</th>\n",
              "      <th>CV_TAG</th>\n",
              "      <th>EDU_TAG</th>\n",
              "      <th>TL_TAG</th>\n",
              "      <th>OTHER_LOANS_TAG</th>\n",
              "      <th>LAP_TAG</th>\n",
              "      <th>LAS_TAG</th>\n",
              "      <th>EEG_TAG</th>\n",
              "      <th>BBG_TAG</th>\n",
              "      <th>HL_TAG</th>\n",
              "      <th>GL_TAG</th>\n",
              "      <th>AL_CLOSED</th>\n",
              "      <th>PL_CLOSED</th>\n",
              "      <th>BL_CLOSED</th>\n",
              "      <th>TWL_CLOSED</th>\n",
              "      <th>CV_CLOSED</th>\n",
              "      <th>LAP_CLOSED</th>\n",
              "      <th>LAS_CLOSED</th>\n",
              "      <th>EEG_CLOSED</th>\n",
              "      <th>BBG_CLOSED</th>\n",
              "      <th>GL_CLOSED</th>\n",
              "      <th>CC_HOLD_MON_03</th>\n",
              "      <th>CC_HOLD_MON_02</th>\n",
              "      <th>CC_HOLD_MON_01</th>\n",
              "      <th>CC_ACTIVE_MON_03</th>\n",
              "      <th>CC_ACTIVE_MON_02</th>\n",
              "      <th>CC_ACTIVE_MON_01</th>\n",
              "      <th>CC_HOLD</th>\n",
              "      <th>CC_ACTIVE</th>\n",
              "      <th>DC_HOLD</th>\n",
              "      <th>DC_ACTIVE_MON_03</th>\n",
              "      <th>DC_ACTIVE_MON_02</th>\n",
              "      <th>DC_ACTIVE_MON_01</th>\n",
              "      <th>DC_ACTIVE</th>\n",
              "      <th>DC_SPEND_MON_03</th>\n",
              "      <th>DC_SPEND_MON_02</th>\n",
              "      <th>DC_SPEND_MON_01</th>\n",
              "      <th>CC_SPEND_MON_04</th>\n",
              "      <th>CC_SPEND_MON_01</th>\n",
              "      <th>CC_SPEND_MON_02</th>\n",
              "      <th>CC_SPEND_MON_03</th>\n",
              "      <th>DC_SPEND_MON_04</th>\n",
              "      <th>PM_FD_MON_01</th>\n",
              "      <th>PM_FD_MON_02</th>\n",
              "      <th>PM_FD_MON_04</th>\n",
              "      <th>CR_LIMIT</th>\n",
              "      <th>STMT_MON_03</th>\n",
              "      <th>STMT_MON_02</th>\n",
              "      <th>STMT_MON_01</th>\n",
              "      <th>COC_ELIGIBLE</th>\n",
              "      <th>LAP_SCRUB_LIVE</th>\n",
              "      <th>LAS_SCRUB_LIVE</th>\n",
              "      <th>PL_SCRUB_LIVE</th>\n",
              "      <th>GL_SCRUB_LIVE</th>\n",
              "      <th>TWL_SCRUB_LIVE</th>\n",
              "      <th>BL_SCRUB_LIVE</th>\n",
              "      <th>CEL_SCRUB_LIVE</th>\n",
              "      <th>TL_SCRUB_LIVE</th>\n",
              "      <th>AL_SCRUB_LIVE</th>\n",
              "      <th>LAP_SCRUB_CLOSED</th>\n",
              "      <th>LAS_SCRUB_CLOSED</th>\n",
              "      <th>PL_SCRUB_CLOSED</th>\n",
              "      <th>GL_SCRUB_CLOSED</th>\n",
              "      <th>TWL_SCRUB_CLOSED</th>\n",
              "      <th>BL_SCRUB_CLOSED</th>\n",
              "      <th>CEL_SCRUB_CLOSED</th>\n",
              "      <th>TL_SCRUB_CLOSED</th>\n",
              "      <th>AL_SCRUB_CLOSED</th>\n",
              "      <th>MATURITY_GL</th>\n",
              "      <th>MATURITY_LAP</th>\n",
              "      <th>MATURITY_LAS</th>\n",
              "      <th>STMT_CON_DAE_ACTIVE_MON_01</th>\n",
              "      <th>BTE_ACTIVE_MON_01</th>\n",
              "      <th>COC_ACTIVE_MON_01</th>\n",
              "      <th>PL2CC_ACTIVE_MON_01</th>\n",
              "      <th>MER_EMI_ACTIVE_MON_01</th>\n",
              "      <th>TRN_CON_DAE_ACTIVE_MON_01</th>\n",
              "      <th>STMT_CON_DAE_CLOSED_MON_01</th>\n",
              "      <th>BTE_CLOSED_MON_01</th>\n",
              "      <th>COC_CLOSED_MON_01</th>\n",
              "      <th>PL2CC_CLOSED_MON_01</th>\n",
              "      <th>MER_EMI_CLOSED_MON_01</th>\n",
              "      <th>TRN_CON_DAE_CLOSED_MON_01</th>\n",
              "      <th>EOP_BAL_MON_01</th>\n",
              "      <th>AMB_MON_04</th>\n",
              "      <th>AMB_MON_01</th>\n",
              "      <th>AMB_MON_02</th>\n",
              "      <th>AMB_MON_03</th>\n",
              "      <th>NB_MON_01_CNT</th>\n",
              "      <th>NB_MON_02_CNT</th>\n",
              "      <th>NB_MON_03_CNT</th>\n",
              "      <th>CDMAT_MON_01</th>\n",
              "      <th>CDMAT_MON_04</th>\n",
              "      <th>MF_MON_04</th>\n",
              "      <th>MF_MON_01</th>\n",
              "      <th>RD_MON_04</th>\n",
              "      <th>RD_MON_01</th>\n",
              "      <th>FD_MON_04</th>\n",
              "      <th>FD_MON_01</th>\n",
              "      <th>LI_MON_04</th>\n",
              "      <th>LI_MON_01</th>\n",
              "      <th>GI_MON_04</th>\n",
              "      <th>GI_MON_01</th>\n",
              "      <th>CC_TXN_MON_01</th>\n",
              "      <th>CC_SPEND_MON_06</th>\n",
              "      <th>CC_TXN_MON_06</th>\n",
              "      <th>CC_TXN_MON_03</th>\n",
              "      <th>CC_TXN_MON_02</th>\n",
              "      <th>CC_TXN_MON_04</th>\n",
              "      <th>CC_SPEND_MON_05</th>\n",
              "      <th>CC_TXN_MON_05</th>\n",
              "      <th>DC_TXN_MON_04</th>\n",
              "      <th>DC_TXN_MON_01</th>\n",
              "      <th>DC_SPEND_MON_06</th>\n",
              "      <th>DC_TXN_MON_06</th>\n",
              "      <th>DC_SPEND_MON_05</th>\n",
              "      <th>DC_TXN_MON_05</th>\n",
              "      <th>DC_TXN_MON_03</th>\n",
              "      <th>DC_TXN_MON_02</th>\n",
              "      <th>DC_SPEND_MON_04_ENT</th>\n",
              "      <th>DC_SPEND_MON_04_MED</th>\n",
              "      <th>DC_SPEND_MON_04_GRC</th>\n",
              "      <th>DC_SPEND_MON_04_HMD</th>\n",
              "      <th>DC_SPEND_MON_04_HBY</th>\n",
              "      <th>DC_SPEND_MON_04_CARE</th>\n",
              "      <th>DC_SPEND_MON_04_TRL</th>\n",
              "      <th>DC_SPEND_MON_04_RST</th>\n",
              "      <th>DC_SPEND_MON_04_JER</th>\n",
              "      <th>DC_SPEND_MON_04_HTL</th>\n",
              "      <th>DC_SPEND_MON_04_ATM</th>\n",
              "      <th>DC_SPEND_MON_03_ENT</th>\n",
              "      <th>DC_SPEND_MON_03_MED</th>\n",
              "      <th>DC_SPEND_MON_03_HMD</th>\n",
              "      <th>DC_SPEND_MON_03_HBY</th>\n",
              "      <th>DC_SPEND_MON_03_CARE</th>\n",
              "      <th>DC_SPEND_MON_03_TRL</th>\n",
              "      <th>DC_SPEND_MON_03_RST</th>\n",
              "      <th>DC_SPEND_MON_03_JER</th>\n",
              "      <th>DC_SPEND_MON_03_HTL</th>\n",
              "      <th>DC_SPEND_MON_03_ATM</th>\n",
              "      <th>DC_SPEND_MON_02_ENT</th>\n",
              "      <th>DC_SPEND_MON_02_MED</th>\n",
              "      <th>DC_SPEND_MON_02_HMD</th>\n",
              "      <th>DC_SPEND_MON_02_HBY</th>\n",
              "      <th>DC_SPEND_MON_02_CARE</th>\n",
              "      <th>DC_SPEND_MON_02_TRL</th>\n",
              "      <th>DC_SPEND_MON_02_RST</th>\n",
              "      <th>DC_SPEND_MON_02_JER</th>\n",
              "      <th>DC_SPEND_MON_02_HTL</th>\n",
              "      <th>DC_SPEND_MON_02_ATM</th>\n",
              "      <th>DC_SPEND_MON_01_ENT</th>\n",
              "      <th>DC_SPEND_MON_01_MED</th>\n",
              "      <th>DC_SPEND_MON_01_HMD</th>\n",
              "      <th>DC_SPEND_MON_01_HBY</th>\n",
              "      <th>DC_SPEND_MON_01_CARE</th>\n",
              "      <th>DC_SPEND_MON_01_TRL</th>\n",
              "      <th>DC_SPEND_MON_01_RST</th>\n",
              "      <th>DC_SPEND_MON_01_JER</th>\n",
              "      <th>DC_SPEND_MON_01_HTL</th>\n",
              "      <th>DC_SPEND_MON_01_ATM</th>\n",
              "      <th>DC_SPEND_MON_05_ENT</th>\n",
              "      <th>DC_SPEND_MON_05_MED</th>\n",
              "      <th>DC_SPEND_MON_05_HMD</th>\n",
              "      <th>DC_SPEND_MON_05_HBY</th>\n",
              "      <th>DC_SPEND_MON_05_CARE</th>\n",
              "      <th>DC_SPEND_MON_05_TRL</th>\n",
              "      <th>DC_SPEND_MON_05_RST</th>\n",
              "      <th>DC_SPEND_MON_05_JER</th>\n",
              "      <th>DC_SPEND_MON_05_HTL</th>\n",
              "      <th>DC_SPEND_MON_05_ATM</th>\n",
              "      <th>CC_SPEND_MON_04_ENT</th>\n",
              "      <th>CC_SPEND_MON_04_MED</th>\n",
              "      <th>CC_SPEND_MON_04_HMD</th>\n",
              "      <th>CC_SPEND_MON_04_HBY</th>\n",
              "      <th>CC_SPEND_MON_04_CARE</th>\n",
              "      <th>CC_SPEND_MON_04_TRL</th>\n",
              "      <th>CC_SPEND_MON_04_RST</th>\n",
              "      <th>CC_SPEND_MON_04_JER</th>\n",
              "      <th>CC_SPEND_MON_04_HTL</th>\n",
              "      <th>CC_SPEND_MON_04_ATM</th>\n",
              "      <th>CC_SPEND_MON_02_ENT</th>\n",
              "      <th>CC_SPEND_MON_02_MED</th>\n",
              "      <th>CC_SPEND_MON_02_HMD</th>\n",
              "      <th>CC_SPEND_MON_02_HBY</th>\n",
              "      <th>CC_SPEND_MON_02_CARE</th>\n",
              "      <th>CC_SPEND_MON_02_TRL</th>\n",
              "      <th>CC_SPEND_MON_02_RST</th>\n",
              "      <th>CC_SPEND_MON_02_JER</th>\n",
              "      <th>CC_SPEND_MON_02_HTL</th>\n",
              "      <th>CC_SPEND_MON_02_ATM</th>\n",
              "      <th>CC_SPEND_MON_01_ENT</th>\n",
              "      <th>CC_SPEND_MON_01_MED</th>\n",
              "      <th>CC_SPEND_MON_01_HMD</th>\n",
              "      <th>CC_SPEND_MON_01_HBY</th>\n",
              "      <th>CC_SPEND_MON_01_CARE</th>\n",
              "      <th>CC_SPEND_MON_01_TRL</th>\n",
              "      <th>CC_SPEND_MON_01_RST</th>\n",
              "      <th>CC_SPEND_MON_01_JER</th>\n",
              "      <th>CC_SPEND_MON_01_HTL</th>\n",
              "      <th>CC_SPEND_MON_01_ATM</th>\n",
              "      <th>FINANCE_MON_01</th>\n",
              "      <th>JOBS_MON_01</th>\n",
              "      <th>LIFESTYLE_MON_01</th>\n",
              "      <th>INMON_01KET_MON_01</th>\n",
              "      <th>TRAVEL_MON_01</th>\n",
              "      <th>CHANNEL_CLICK_DISP</th>\n",
              "      <th>DESIGNATION_FINAL</th>\n",
              "      <th>TOP14_CITY</th>\n",
              "      <th>TOP9_CITY</th>\n",
              "      <th>PL2CC_ELIGIBLE</th>\n",
              "      <th>D_AMT_L3_MON_06</th>\n",
              "      <th>C_AMT_L3_MON_06</th>\n",
              "      <th>C_COUNT_L3_MON_06</th>\n",
              "      <th>D_COUNT_L3_MON_06</th>\n",
              "      <th>MAX_C_AMT_L3_MON_06</th>\n",
              "      <th>D_AMT_L3_MON_05</th>\n",
              "      <th>C_AMT_L3_MON_05</th>\n",
              "      <th>C_COUNT_L3_MON_05</th>\n",
              "      <th>D_COUNT_L3_MON_05</th>\n",
              "      <th>MAX_C_AMT_L3_MON_05</th>\n",
              "      <th>D_AMT_L3_MON_04</th>\n",
              "      <th>C_AMT_L3_MON_04</th>\n",
              "      <th>C_COUNT_L3_MON_04</th>\n",
              "      <th>D_COUNT_L3_MON_04</th>\n",
              "      <th>MAX_C_AMT_L3_MON_04</th>\n",
              "      <th>D_AMT_L3_MON_03</th>\n",
              "      <th>C_AMT_L3_MON_03</th>\n",
              "      <th>C_COUNT_L3_MON_03</th>\n",
              "      <th>D_COUNT_L3_MON_03</th>\n",
              "      <th>MAX_C_AMT_L3_MON_03</th>\n",
              "      <th>D_AMT_L3_MON_02</th>\n",
              "      <th>C_AMT_L3_MON_02</th>\n",
              "      <th>C_COUNT_L3_MON_02</th>\n",
              "      <th>D_COUNT_L3_MON_02</th>\n",
              "      <th>MAX_C_AMT_L3_MON_02</th>\n",
              "      <th>D_AMT_L3_MON_01</th>\n",
              "      <th>C_AMT_L3_MON_01</th>\n",
              "      <th>C_COUNT_L3_MON_01</th>\n",
              "      <th>D_COUNT_L3_MON_01</th>\n",
              "      <th>MAX_C_AMT_L3_MON_01</th>\n",
              "      <th>PA_PQ_TAG</th>\n",
              "      <th>NEFT_CC_AMOUNT</th>\n",
              "      <th>NEFT_CC_TXN</th>\n",
              "      <th>NEFT_CC_CATEGORY</th>\n",
              "      <th>NEFT_DC_AMOUNT</th>\n",
              "      <th>NEFT_DC_TXN</th>\n",
              "      <th>NEFT_DC_CATEGORY</th>\n",
              "      <th>TPT_DC_AMOUNT_MON_01</th>\n",
              "      <th>TPT_DC_TXN_MON_01</th>\n",
              "      <th>TPT_DC_CATEGORY_MON_01</th>\n",
              "      <th>TPT_CC_AMOUNT_MON_01</th>\n",
              "      <th>TPT_CC_TXN_MON_01</th>\n",
              "      <th>TPT_CC_CATEGORY_MON_01</th>\n",
              "      <th>IMPS_CC_AMOUNT_MON_01</th>\n",
              "      <th>IMPS_CC_TXN_MON_01</th>\n",
              "      <th>IMPS_CC_CATEGORY_MON_01</th>\n",
              "      <th>ZIP_CODE_FINAL</th>\n",
              "      <th>LAST_3MTHS_INQ</th>\n",
              "      <th>PREV_3MTHS_INQ</th>\n",
              "      <th>CAR_MON_03</th>\n",
              "      <th>CDL_MON_03</th>\n",
              "      <th>GL_MON_03</th>\n",
              "      <th>LAA_MON_03</th>\n",
              "      <th>LFP_MON_03</th>\n",
              "      <th>TWL_MON_03</th>\n",
              "      <th>PL_MON_03</th>\n",
              "      <th>CAR_MON_02</th>\n",
              "      <th>CDL_MON_02</th>\n",
              "      <th>GL_MON_02</th>\n",
              "      <th>LAA_MON_02</th>\n",
              "      <th>LFP_MON_02</th>\n",
              "      <th>TWL_MON_02</th>\n",
              "      <th>PL_MON_02</th>\n",
              "      <th>CAR_MON_01</th>\n",
              "      <th>CDL_MON_01</th>\n",
              "      <th>GL_MON_01</th>\n",
              "      <th>LAA_MON_01</th>\n",
              "      <th>LFP_MON_01</th>\n",
              "      <th>TWL_MON_01</th>\n",
              "      <th>PL_MON_01</th>\n",
              "      <th>CLOSED_DATE</th>\n",
              "      <th>CRED_NEED_SCORE</th>\n",
              "      <th>CC_SPEND_MON_03_ENT</th>\n",
              "      <th>CC_SPEND_MON_03_MED</th>\n",
              "      <th>CC_SPEND_MON_03_HMD</th>\n",
              "      <th>CC_SPEND_MON_03_HBY</th>\n",
              "      <th>CC_SPEND_MON_03_CARE</th>\n",
              "      <th>CC_SPEND_MON_03_TRL</th>\n",
              "      <th>CC_SPEND_MON_03_RST</th>\n",
              "      <th>CC_SPEND_MON_03_JER</th>\n",
              "      <th>CC_SPEND_MON_03_HTL</th>\n",
              "      <th>CC_SPEND_MON_03_ATM</th>\n",
              "      <th>CARD_AUTOMOBILE_MON_01</th>\n",
              "      <th>CARD_HOTEL_MON_01</th>\n",
              "      <th>CARD_JEWELLERY_MON_01</th>\n",
              "      <th>CARD_RESTAURANT_MON_01</th>\n",
              "      <th>CARD_TRAVEL_MON_01</th>\n",
              "      <th>CARD_PRSNL_CARE_MON_01</th>\n",
              "      <th>CARD_HOBBY_MON_01</th>\n",
              "      <th>CARD_HOME_DECOR_MON_01</th>\n",
              "      <th>CARD_MEDICAL_MON_01</th>\n",
              "      <th>CARD_ENTMNT_MON_01</th>\n",
              "      <th>SAL_MON_01</th>\n",
              "      <th>SAL_MON_02</th>\n",
              "      <th>SAL_MON_03</th>\n",
              "      <th>TOP_100_CORP</th>\n",
              "      <th>TOP_800_CORP</th>\n",
              "      <th>TOP_CORP_TAG</th>\n",
              "      <th>EOP_MON_02</th>\n",
              "      <th>EOP_MON_03</th>\n",
              "      <th>CREDIT_ACT</th>\n",
              "      <th>DEBIT_ACT</th>\n",
              "      <th>CEL_TAG</th>\n",
              "      <th>EL_TAG</th>\n",
              "      <th>AGL_TAG</th>\n",
              "      <th>CVL_TAG</th>\n",
              "      <th>AL_TAG</th>\n",
              "      <th>HL_EMI</th>\n",
              "      <th>SCRUB_EMI</th>\n",
              "      <th>RESPONDERS</th>\n",
              "    </tr>\n",
              "  </thead>\n",
              "  <tbody>\n",
              "    <tr>\n",
              "      <th>0</th>\n",
              "      <td>385793</td>\n",
              "      <td>CSA</td>\n",
              "      <td>M</td>\n",
              "      <td>INDIVIDUAL</td>\n",
              "      <td>SALARIED</td>\n",
              "      <td>21</td>\n",
              "      <td>0.00</td>\n",
              "      <td>0.00</td>\n",
              "      <td>NaN</td>\n",
              "      <td>NaN</td>\n",
              "      <td>NaN</td>\n",
              "      <td>NaN</td>\n",
              "      <td>NaN</td>\n",
              "      <td>NaN</td>\n",
              "      <td>NaN</td>\n",
              "      <td>NaN</td>\n",
              "      <td>NaN</td>\n",
              "      <td>NaN</td>\n",
              "      <td>NaN</td>\n",
              "      <td>NaN</td>\n",
              "      <td>NaN</td>\n",
              "      <td>NaN</td>\n",
              "      <td>NaN</td>\n",
              "      <td>NaN</td>\n",
              "      <td>NaN</td>\n",
              "      <td>NaN</td>\n",
              "      <td>NaN</td>\n",
              "      <td>NaN</td>\n",
              "      <td>NaN</td>\n",
              "      <td>NaN</td>\n",
              "      <td>NaN</td>\n",
              "      <td>NaN</td>\n",
              "      <td>NaN</td>\n",
              "      <td>NaN</td>\n",
              "      <td>NaN</td>\n",
              "      <td>NaN</td>\n",
              "      <td>NaN</td>\n",
              "      <td>NaN</td>\n",
              "      <td>NaN</td>\n",
              "      <td>NaN</td>\n",
              "      <td>N</td>\n",
              "      <td>N</td>\n",
              "      <td>Y</td>\n",
              "      <td>NaN</td>\n",
              "      <td>NaN</td>\n",
              "      <td>NaN</td>\n",
              "      <td>N</td>\n",
              "      <td>NaN</td>\n",
              "      <td>NaN</td>\n",
              "      <td>NaN</td>\n",
              "      <td>NaN</td>\n",
              "      <td>NaN</td>\n",
              "      <td>NaN</td>\n",
              "      <td>NaN</td>\n",
              "      <td>NaN</td>\n",
              "      <td>NaN</td>\n",
              "      <td>NaN</td>\n",
              "      <td>NaN</td>\n",
              "      <td>NaN</td>\n",
              "      <td>NaN</td>\n",
              "      <td>NaN</td>\n",
              "      <td>NaN</td>\n",
              "      <td>0</td>\n",
              "      <td>NaN</td>\n",
              "      <td>NaN</td>\n",
              "      <td>NaN</td>\n",
              "      <td>NaN</td>\n",
              "      <td>NaN</td>\n",
              "      <td>NaN</td>\n",
              "      <td>NaN</td>\n",
              "      <td>NaN</td>\n",
              "      <td>NaN</td>\n",
              "      <td>NaN</td>\n",
              "      <td>NaN</td>\n",
              "      <td>NaN</td>\n",
              "      <td>NaN</td>\n",
              "      <td>NaN</td>\n",
              "      <td>NaN</td>\n",
              "      <td>NaN</td>\n",
              "      <td>NaN</td>\n",
              "      <td>NaN</td>\n",
              "      <td>NaN</td>\n",
              "      <td>NaN</td>\n",
              "      <td>NaN</td>\n",
              "      <td>NaN</td>\n",
              "      <td>NaN</td>\n",
              "      <td>NaN</td>\n",
              "      <td>NaN</td>\n",
              "      <td>NaN</td>\n",
              "      <td>NaN</td>\n",
              "      <td>NaN</td>\n",
              "      <td>NaN</td>\n",
              "      <td>NaN</td>\n",
              "      <td>NaN</td>\n",
              "      <td>NaN</td>\n",
              "      <td>NaN</td>\n",
              "      <td>0.00</td>\n",
              "      <td>0.00</td>\n",
              "      <td>0.00</td>\n",
              "      <td>0.00</td>\n",
              "      <td>0.00</td>\n",
              "      <td>NaN</td>\n",
              "      <td>NaN</td>\n",
              "      <td>NaN</td>\n",
              "      <td>NaN</td>\n",
              "      <td>NaN</td>\n",
              "      <td>NaN</td>\n",
              "      <td>NaN</td>\n",
              "      <td>NaN</td>\n",
              "      <td>NaN</td>\n",
              "      <td>NaN</td>\n",
              "      <td>NaN</td>\n",
              "      <td>NaN</td>\n",
              "      <td>NaN</td>\n",
              "      <td>NaN</td>\n",
              "      <td>NaN</td>\n",
              "      <td>NaN</td>\n",
              "      <td>NaN</td>\n",
              "      <td>NaN</td>\n",
              "      <td>NaN</td>\n",
              "      <td>NaN</td>\n",
              "      <td>NaN</td>\n",
              "      <td>NaN</td>\n",
              "      <td>NaN</td>\n",
              "      <td>NaN</td>\n",
              "      <td>NaN</td>\n",
              "      <td>NaN</td>\n",
              "      <td>NaN</td>\n",
              "      <td>NaN</td>\n",
              "      <td>NaN</td>\n",
              "      <td>NaN</td>\n",
              "      <td>NaN</td>\n",
              "      <td>NaN</td>\n",
              "      <td>NaN</td>\n",
              "      <td>NaN</td>\n",
              "      <td>NaN</td>\n",
              "      <td>NaN</td>\n",
              "      <td>NaN</td>\n",
              "      <td>NaN</td>\n",
              "      <td>NaN</td>\n",
              "      <td>NaN</td>\n",
              "      <td>NaN</td>\n",
              "      <td>NaN</td>\n",
              "      <td>NaN</td>\n",
              "      <td>NaN</td>\n",
              "      <td>NaN</td>\n",
              "      <td>NaN</td>\n",
              "      <td>NaN</td>\n",
              "      <td>NaN</td>\n",
              "      <td>NaN</td>\n",
              "      <td>NaN</td>\n",
              "      <td>NaN</td>\n",
              "      <td>NaN</td>\n",
              "      <td>NaN</td>\n",
              "      <td>NaN</td>\n",
              "      <td>NaN</td>\n",
              "      <td>NaN</td>\n",
              "      <td>NaN</td>\n",
              "      <td>NaN</td>\n",
              "      <td>NaN</td>\n",
              "      <td>NaN</td>\n",
              "      <td>NaN</td>\n",
              "      <td>NaN</td>\n",
              "      <td>NaN</td>\n",
              "      <td>NaN</td>\n",
              "      <td>NaN</td>\n",
              "      <td>NaN</td>\n",
              "      <td>NaN</td>\n",
              "      <td>NaN</td>\n",
              "      <td>NaN</td>\n",
              "      <td>NaN</td>\n",
              "      <td>NaN</td>\n",
              "      <td>NaN</td>\n",
              "      <td>NaN</td>\n",
              "      <td>NaN</td>\n",
              "      <td>NaN</td>\n",
              "      <td>NaN</td>\n",
              "      <td>NaN</td>\n",
              "      <td>NaN</td>\n",
              "      <td>NaN</td>\n",
              "      <td>NaN</td>\n",
              "      <td>NaN</td>\n",
              "      <td>NaN</td>\n",
              "      <td>NaN</td>\n",
              "      <td>NaN</td>\n",
              "      <td>NaN</td>\n",
              "      <td>NaN</td>\n",
              "      <td>NaN</td>\n",
              "      <td>NaN</td>\n",
              "      <td>NaN</td>\n",
              "      <td>NaN</td>\n",
              "      <td>NaN</td>\n",
              "      <td>NaN</td>\n",
              "      <td>NaN</td>\n",
              "      <td>NaN</td>\n",
              "      <td>NaN</td>\n",
              "      <td>NaN</td>\n",
              "      <td>NaN</td>\n",
              "      <td>NaN</td>\n",
              "      <td>NaN</td>\n",
              "      <td>NaN</td>\n",
              "      <td>NaN</td>\n",
              "      <td>NaN</td>\n",
              "      <td>NaN</td>\n",
              "      <td>NaN</td>\n",
              "      <td>NaN</td>\n",
              "      <td>NaN</td>\n",
              "      <td>NaN</td>\n",
              "      <td>NaN</td>\n",
              "      <td>NaN</td>\n",
              "      <td>NaN</td>\n",
              "      <td>NaN</td>\n",
              "      <td>NaN</td>\n",
              "      <td>N</td>\n",
              "      <td>N</td>\n",
              "      <td>N</td>\n",
              "      <td>N</td>\n",
              "      <td>N</td>\n",
              "      <td>NONE</td>\n",
              "      <td>MISSING</td>\n",
              "      <td>Y</td>\n",
              "      <td>Y</td>\n",
              "      <td>0</td>\n",
              "      <td>39.00</td>\n",
              "      <td>NaN</td>\n",
              "      <td>0.0</td>\n",
              "      <td>1.0</td>\n",
              "      <td>NaN</td>\n",
              "      <td>NaN</td>\n",
              "      <td>NaN</td>\n",
              "      <td>NaN</td>\n",
              "      <td>NaN</td>\n",
              "      <td>NaN</td>\n",
              "      <td>NaN</td>\n",
              "      <td>NaN</td>\n",
              "      <td>NaN</td>\n",
              "      <td>NaN</td>\n",
              "      <td>NaN</td>\n",
              "      <td>NaN</td>\n",
              "      <td>NaN</td>\n",
              "      <td>NaN</td>\n",
              "      <td>NaN</td>\n",
              "      <td>NaN</td>\n",
              "      <td>NaN</td>\n",
              "      <td>NaN</td>\n",
              "      <td>NaN</td>\n",
              "      <td>NaN</td>\n",
              "      <td>NaN</td>\n",
              "      <td>NaN</td>\n",
              "      <td>NaN</td>\n",
              "      <td>NaN</td>\n",
              "      <td>NaN</td>\n",
              "      <td>NaN</td>\n",
              "      <td>NaN</td>\n",
              "      <td>NaN</td>\n",
              "      <td>NaN</td>\n",
              "      <td>NO_NEFT_TXN</td>\n",
              "      <td>NaN</td>\n",
              "      <td>NaN</td>\n",
              "      <td>NO_NEFT_TXN</td>\n",
              "      <td>NaN</td>\n",
              "      <td>NaN</td>\n",
              "      <td>NO_TPT_TXN</td>\n",
              "      <td>NaN</td>\n",
              "      <td>NaN</td>\n",
              "      <td>NO_TPT_TXN</td>\n",
              "      <td>NaN</td>\n",
              "      <td>NaN</td>\n",
              "      <td>NO_IMPS_TXN</td>\n",
              "      <td>400606.0</td>\n",
              "      <td>NaN</td>\n",
              "      <td>NaN</td>\n",
              "      <td>NaN</td>\n",
              "      <td>NaN</td>\n",
              "      <td>NaN</td>\n",
              "      <td>NaN</td>\n",
              "      <td>NaN</td>\n",
              "      <td>NaN</td>\n",
              "      <td>NaN</td>\n",
              "      <td>NaN</td>\n",
              "      <td>NaN</td>\n",
              "      <td>NaN</td>\n",
              "      <td>NaN</td>\n",
              "      <td>NaN</td>\n",
              "      <td>NaN</td>\n",
              "      <td>NaN</td>\n",
              "      <td>NaN</td>\n",
              "      <td>NaN</td>\n",
              "      <td>NaN</td>\n",
              "      <td>NaN</td>\n",
              "      <td>NaN</td>\n",
              "      <td>NaN</td>\n",
              "      <td>NaN</td>\n",
              "      <td>NaN</td>\n",
              "      <td>NaN</td>\n",
              "      <td>NaN</td>\n",
              "      <td>NaN</td>\n",
              "      <td>NaN</td>\n",
              "      <td>NaN</td>\n",
              "      <td>NaN</td>\n",
              "      <td>NaN</td>\n",
              "      <td>NaN</td>\n",
              "      <td>NaN</td>\n",
              "      <td>NaN</td>\n",
              "      <td>NaN</td>\n",
              "      <td>N</td>\n",
              "      <td>N</td>\n",
              "      <td>N</td>\n",
              "      <td>N</td>\n",
              "      <td>N</td>\n",
              "      <td>N</td>\n",
              "      <td>N</td>\n",
              "      <td>N</td>\n",
              "      <td>N</td>\n",
              "      <td>N</td>\n",
              "      <td>0.0</td>\n",
              "      <td>0.0</td>\n",
              "      <td>0.0</td>\n",
              "      <td>NaN</td>\n",
              "      <td>NaN</td>\n",
              "      <td>NONE</td>\n",
              "      <td>0.00</td>\n",
              "      <td>0.00</td>\n",
              "      <td>NaN</td>\n",
              "      <td>NaN</td>\n",
              "      <td>NaN</td>\n",
              "      <td>NaN</td>\n",
              "      <td>NaN</td>\n",
              "      <td>NaN</td>\n",
              "      <td>NaN</td>\n",
              "      <td>NaN</td>\n",
              "      <td>0.000000</td>\n",
              "      <td>N</td>\n",
              "    </tr>\n",
              "    <tr>\n",
              "      <th>1</th>\n",
              "      <td>286891</td>\n",
              "      <td>CSA</td>\n",
              "      <td>M</td>\n",
              "      <td>INDIVIDUAL</td>\n",
              "      <td>SALARIED</td>\n",
              "      <td>23</td>\n",
              "      <td>8243.77</td>\n",
              "      <td>7.77</td>\n",
              "      <td>NaN</td>\n",
              "      <td>NaN</td>\n",
              "      <td>NaN</td>\n",
              "      <td>NaN</td>\n",
              "      <td>NaN</td>\n",
              "      <td>NaN</td>\n",
              "      <td>NaN</td>\n",
              "      <td>NaN</td>\n",
              "      <td>NaN</td>\n",
              "      <td>NaN</td>\n",
              "      <td>NaN</td>\n",
              "      <td>NaN</td>\n",
              "      <td>NaN</td>\n",
              "      <td>NaN</td>\n",
              "      <td>NaN</td>\n",
              "      <td>NaN</td>\n",
              "      <td>NaN</td>\n",
              "      <td>NaN</td>\n",
              "      <td>NaN</td>\n",
              "      <td>NaN</td>\n",
              "      <td>NaN</td>\n",
              "      <td>NaN</td>\n",
              "      <td>NaN</td>\n",
              "      <td>NaN</td>\n",
              "      <td>NaN</td>\n",
              "      <td>NaN</td>\n",
              "      <td>NaN</td>\n",
              "      <td>NaN</td>\n",
              "      <td>NaN</td>\n",
              "      <td>NaN</td>\n",
              "      <td>NaN</td>\n",
              "      <td>NaN</td>\n",
              "      <td>N</td>\n",
              "      <td>N</td>\n",
              "      <td>Y</td>\n",
              "      <td>Y</td>\n",
              "      <td>Y</td>\n",
              "      <td>Y</td>\n",
              "      <td>Y</td>\n",
              "      <td>NaN</td>\n",
              "      <td>NaN</td>\n",
              "      <td>NaN</td>\n",
              "      <td>NaN</td>\n",
              "      <td>NaN</td>\n",
              "      <td>NaN</td>\n",
              "      <td>NaN</td>\n",
              "      <td>NaN</td>\n",
              "      <td>NaN</td>\n",
              "      <td>NaN</td>\n",
              "      <td>NaN</td>\n",
              "      <td>NaN</td>\n",
              "      <td>NaN</td>\n",
              "      <td>NaN</td>\n",
              "      <td>NaN</td>\n",
              "      <td>0</td>\n",
              "      <td>NaN</td>\n",
              "      <td>NaN</td>\n",
              "      <td>NaN</td>\n",
              "      <td>NaN</td>\n",
              "      <td>NaN</td>\n",
              "      <td>NaN</td>\n",
              "      <td>NaN</td>\n",
              "      <td>NaN</td>\n",
              "      <td>1.0</td>\n",
              "      <td>NaN</td>\n",
              "      <td>NaN</td>\n",
              "      <td>NaN</td>\n",
              "      <td>NaN</td>\n",
              "      <td>NaN</td>\n",
              "      <td>NaN</td>\n",
              "      <td>NaN</td>\n",
              "      <td>NaN</td>\n",
              "      <td>NaN</td>\n",
              "      <td>NaN</td>\n",
              "      <td>NaN</td>\n",
              "      <td>NaN</td>\n",
              "      <td>NaN</td>\n",
              "      <td>NaN</td>\n",
              "      <td>NaN</td>\n",
              "      <td>NaN</td>\n",
              "      <td>NaN</td>\n",
              "      <td>NaN</td>\n",
              "      <td>NaN</td>\n",
              "      <td>NaN</td>\n",
              "      <td>NaN</td>\n",
              "      <td>NaN</td>\n",
              "      <td>NaN</td>\n",
              "      <td>NaN</td>\n",
              "      <td>11.77</td>\n",
              "      <td>1417.26</td>\n",
              "      <td>300.51</td>\n",
              "      <td>593.06</td>\n",
              "      <td>418.09</td>\n",
              "      <td>NaN</td>\n",
              "      <td>NaN</td>\n",
              "      <td>NaN</td>\n",
              "      <td>NaN</td>\n",
              "      <td>NaN</td>\n",
              "      <td>NaN</td>\n",
              "      <td>NaN</td>\n",
              "      <td>NaN</td>\n",
              "      <td>NaN</td>\n",
              "      <td>NaN</td>\n",
              "      <td>NaN</td>\n",
              "      <td>NaN</td>\n",
              "      <td>NaN</td>\n",
              "      <td>NaN</td>\n",
              "      <td>NaN</td>\n",
              "      <td>NaN</td>\n",
              "      <td>NaN</td>\n",
              "      <td>NaN</td>\n",
              "      <td>NaN</td>\n",
              "      <td>NaN</td>\n",
              "      <td>NaN</td>\n",
              "      <td>NaN</td>\n",
              "      <td>NaN</td>\n",
              "      <td>8.0</td>\n",
              "      <td>5.0</td>\n",
              "      <td>504.0</td>\n",
              "      <td>7.0</td>\n",
              "      <td>631.0</td>\n",
              "      <td>13.0</td>\n",
              "      <td>12.0</td>\n",
              "      <td>1.0</td>\n",
              "      <td>NaN</td>\n",
              "      <td>NaN</td>\n",
              "      <td>NaN</td>\n",
              "      <td>NaN</td>\n",
              "      <td>NaN</td>\n",
              "      <td>NaN</td>\n",
              "      <td>NaN</td>\n",
              "      <td>NaN</td>\n",
              "      <td>NaN</td>\n",
              "      <td>NaN</td>\n",
              "      <td>NaN</td>\n",
              "      <td>NaN</td>\n",
              "      <td>NaN</td>\n",
              "      <td>NaN</td>\n",
              "      <td>NaN</td>\n",
              "      <td>NaN</td>\n",
              "      <td>NaN</td>\n",
              "      <td>NaN</td>\n",
              "      <td>NaN</td>\n",
              "      <td>NaN</td>\n",
              "      <td>NaN</td>\n",
              "      <td>NaN</td>\n",
              "      <td>NaN</td>\n",
              "      <td>NaN</td>\n",
              "      <td>NaN</td>\n",
              "      <td>NaN</td>\n",
              "      <td>NaN</td>\n",
              "      <td>NaN</td>\n",
              "      <td>NaN</td>\n",
              "      <td>NaN</td>\n",
              "      <td>NaN</td>\n",
              "      <td>NaN</td>\n",
              "      <td>NaN</td>\n",
              "      <td>NaN</td>\n",
              "      <td>NaN</td>\n",
              "      <td>NaN</td>\n",
              "      <td>NaN</td>\n",
              "      <td>NaN</td>\n",
              "      <td>NaN</td>\n",
              "      <td>NaN</td>\n",
              "      <td>NaN</td>\n",
              "      <td>NaN</td>\n",
              "      <td>NaN</td>\n",
              "      <td>NaN</td>\n",
              "      <td>NaN</td>\n",
              "      <td>NaN</td>\n",
              "      <td>NaN</td>\n",
              "      <td>NaN</td>\n",
              "      <td>NaN</td>\n",
              "      <td>NaN</td>\n",
              "      <td>NaN</td>\n",
              "      <td>NaN</td>\n",
              "      <td>NaN</td>\n",
              "      <td>NaN</td>\n",
              "      <td>NaN</td>\n",
              "      <td>NaN</td>\n",
              "      <td>NaN</td>\n",
              "      <td>NaN</td>\n",
              "      <td>NaN</td>\n",
              "      <td>NaN</td>\n",
              "      <td>NaN</td>\n",
              "      <td>NaN</td>\n",
              "      <td>NaN</td>\n",
              "      <td>NaN</td>\n",
              "      <td>NaN</td>\n",
              "      <td>NaN</td>\n",
              "      <td>NaN</td>\n",
              "      <td>NaN</td>\n",
              "      <td>NaN</td>\n",
              "      <td>NaN</td>\n",
              "      <td>NaN</td>\n",
              "      <td>NaN</td>\n",
              "      <td>NaN</td>\n",
              "      <td>NaN</td>\n",
              "      <td>NaN</td>\n",
              "      <td>NaN</td>\n",
              "      <td>NaN</td>\n",
              "      <td>NaN</td>\n",
              "      <td>NaN</td>\n",
              "      <td>NaN</td>\n",
              "      <td>NaN</td>\n",
              "      <td>N</td>\n",
              "      <td>N</td>\n",
              "      <td>N</td>\n",
              "      <td>N</td>\n",
              "      <td>N</td>\n",
              "      <td>NONE</td>\n",
              "      <td>MISSING</td>\n",
              "      <td>Y</td>\n",
              "      <td>Y</td>\n",
              "      <td>0</td>\n",
              "      <td>17250.00</td>\n",
              "      <td>17870.00</td>\n",
              "      <td>3.0</td>\n",
              "      <td>19.0</td>\n",
              "      <td>7957.0</td>\n",
              "      <td>12965.50</td>\n",
              "      <td>12336.5</td>\n",
              "      <td>6.0</td>\n",
              "      <td>21.0</td>\n",
              "      <td>8011.0</td>\n",
              "      <td>23448.52</td>\n",
              "      <td>23457.0</td>\n",
              "      <td>4.0</td>\n",
              "      <td>12.0</td>\n",
              "      <td>12000.0</td>\n",
              "      <td>17161.73</td>\n",
              "      <td>17154.75</td>\n",
              "      <td>6.0</td>\n",
              "      <td>20.0</td>\n",
              "      <td>8144.0</td>\n",
              "      <td>8720.00</td>\n",
              "      <td>11733.75</td>\n",
              "      <td>4.0</td>\n",
              "      <td>3.0</td>\n",
              "      <td>7519.0</td>\n",
              "      <td>13763.00</td>\n",
              "      <td>10758.00</td>\n",
              "      <td>3.0</td>\n",
              "      <td>9.0</td>\n",
              "      <td>8240.0</td>\n",
              "      <td>NaN</td>\n",
              "      <td>NaN</td>\n",
              "      <td>NaN</td>\n",
              "      <td>NO_NEFT_TXN</td>\n",
              "      <td>NaN</td>\n",
              "      <td>NaN</td>\n",
              "      <td>NO_NEFT_TXN</td>\n",
              "      <td>NaN</td>\n",
              "      <td>NaN</td>\n",
              "      <td>NO_TPT_TXN</td>\n",
              "      <td>NaN</td>\n",
              "      <td>NaN</td>\n",
              "      <td>NO_TPT_TXN</td>\n",
              "      <td>NaN</td>\n",
              "      <td>NaN</td>\n",
              "      <td>NO_IMPS_TXN</td>\n",
              "      <td>600045.0</td>\n",
              "      <td>NaN</td>\n",
              "      <td>Y</td>\n",
              "      <td>NaN</td>\n",
              "      <td>NaN</td>\n",
              "      <td>NaN</td>\n",
              "      <td>NaN</td>\n",
              "      <td>NaN</td>\n",
              "      <td>NaN</td>\n",
              "      <td>NaN</td>\n",
              "      <td>NaN</td>\n",
              "      <td>NaN</td>\n",
              "      <td>NaN</td>\n",
              "      <td>NaN</td>\n",
              "      <td>NaN</td>\n",
              "      <td>NaN</td>\n",
              "      <td>NaN</td>\n",
              "      <td>NaN</td>\n",
              "      <td>NaN</td>\n",
              "      <td>NaN</td>\n",
              "      <td>NaN</td>\n",
              "      <td>NaN</td>\n",
              "      <td>NaN</td>\n",
              "      <td>NaN</td>\n",
              "      <td>NaN</td>\n",
              "      <td>NaN</td>\n",
              "      <td>NaN</td>\n",
              "      <td>NaN</td>\n",
              "      <td>NaN</td>\n",
              "      <td>NaN</td>\n",
              "      <td>NaN</td>\n",
              "      <td>NaN</td>\n",
              "      <td>NaN</td>\n",
              "      <td>NaN</td>\n",
              "      <td>NaN</td>\n",
              "      <td>NaN</td>\n",
              "      <td>N</td>\n",
              "      <td>N</td>\n",
              "      <td>N</td>\n",
              "      <td>N</td>\n",
              "      <td>N</td>\n",
              "      <td>N</td>\n",
              "      <td>N</td>\n",
              "      <td>N</td>\n",
              "      <td>N</td>\n",
              "      <td>N</td>\n",
              "      <td>10754.0</td>\n",
              "      <td>8733.0</td>\n",
              "      <td>17154.0</td>\n",
              "      <td>NaN</td>\n",
              "      <td>NaN</td>\n",
              "      <td>NONE</td>\n",
              "      <td>3016.77</td>\n",
              "      <td>3.02</td>\n",
              "      <td>Y</td>\n",
              "      <td>Y</td>\n",
              "      <td>NaN</td>\n",
              "      <td>NaN</td>\n",
              "      <td>NaN</td>\n",
              "      <td>NaN</td>\n",
              "      <td>NaN</td>\n",
              "      <td>NaN</td>\n",
              "      <td>0.000000</td>\n",
              "      <td>N</td>\n",
              "    </tr>\n",
              "    <tr>\n",
              "      <th>2</th>\n",
              "      <td>108751</td>\n",
              "      <td>CSA</td>\n",
              "      <td>M</td>\n",
              "      <td>INDIVIDUAL</td>\n",
              "      <td>SALARIED</td>\n",
              "      <td>41</td>\n",
              "      <td>26515.00</td>\n",
              "      <td>0.00</td>\n",
              "      <td>NaN</td>\n",
              "      <td>NaN</td>\n",
              "      <td>NaN</td>\n",
              "      <td>NaN</td>\n",
              "      <td>NaN</td>\n",
              "      <td>NaN</td>\n",
              "      <td>NaN</td>\n",
              "      <td>NaN</td>\n",
              "      <td>NaN</td>\n",
              "      <td>NaN</td>\n",
              "      <td>NaN</td>\n",
              "      <td>NaN</td>\n",
              "      <td>NaN</td>\n",
              "      <td>NaN</td>\n",
              "      <td>NaN</td>\n",
              "      <td>NaN</td>\n",
              "      <td>NaN</td>\n",
              "      <td>NaN</td>\n",
              "      <td>NaN</td>\n",
              "      <td>NaN</td>\n",
              "      <td>NaN</td>\n",
              "      <td>NaN</td>\n",
              "      <td>NaN</td>\n",
              "      <td>NaN</td>\n",
              "      <td>NaN</td>\n",
              "      <td>NaN</td>\n",
              "      <td>NaN</td>\n",
              "      <td>NaN</td>\n",
              "      <td>NaN</td>\n",
              "      <td>NaN</td>\n",
              "      <td>NaN</td>\n",
              "      <td>NaN</td>\n",
              "      <td>N</td>\n",
              "      <td>N</td>\n",
              "      <td>Y</td>\n",
              "      <td>NaN</td>\n",
              "      <td>NaN</td>\n",
              "      <td>NaN</td>\n",
              "      <td>N</td>\n",
              "      <td>NaN</td>\n",
              "      <td>NaN</td>\n",
              "      <td>NaN</td>\n",
              "      <td>NaN</td>\n",
              "      <td>NaN</td>\n",
              "      <td>NaN</td>\n",
              "      <td>NaN</td>\n",
              "      <td>NaN</td>\n",
              "      <td>NaN</td>\n",
              "      <td>NaN</td>\n",
              "      <td>NaN</td>\n",
              "      <td>NaN</td>\n",
              "      <td>NaN</td>\n",
              "      <td>NaN</td>\n",
              "      <td>NaN</td>\n",
              "      <td>0</td>\n",
              "      <td>NaN</td>\n",
              "      <td>NaN</td>\n",
              "      <td>NaN</td>\n",
              "      <td>NaN</td>\n",
              "      <td>NaN</td>\n",
              "      <td>NaN</td>\n",
              "      <td>NaN</td>\n",
              "      <td>NaN</td>\n",
              "      <td>NaN</td>\n",
              "      <td>NaN</td>\n",
              "      <td>NaN</td>\n",
              "      <td>NaN</td>\n",
              "      <td>NaN</td>\n",
              "      <td>NaN</td>\n",
              "      <td>NaN</td>\n",
              "      <td>NaN</td>\n",
              "      <td>NaN</td>\n",
              "      <td>NaN</td>\n",
              "      <td>NaN</td>\n",
              "      <td>NaN</td>\n",
              "      <td>NaN</td>\n",
              "      <td>NaN</td>\n",
              "      <td>NaN</td>\n",
              "      <td>NaN</td>\n",
              "      <td>NaN</td>\n",
              "      <td>NaN</td>\n",
              "      <td>NaN</td>\n",
              "      <td>NaN</td>\n",
              "      <td>NaN</td>\n",
              "      <td>NaN</td>\n",
              "      <td>NaN</td>\n",
              "      <td>NaN</td>\n",
              "      <td>NaN</td>\n",
              "      <td>26458.25</td>\n",
              "      <td>5354.65</td>\n",
              "      <td>6100.73</td>\n",
              "      <td>7955.82</td>\n",
              "      <td>11138.53</td>\n",
              "      <td>1.0</td>\n",
              "      <td>1.0</td>\n",
              "      <td>NaN</td>\n",
              "      <td>NaN</td>\n",
              "      <td>NaN</td>\n",
              "      <td>NaN</td>\n",
              "      <td>NaN</td>\n",
              "      <td>NaN</td>\n",
              "      <td>NaN</td>\n",
              "      <td>NaN</td>\n",
              "      <td>NaN</td>\n",
              "      <td>NaN</td>\n",
              "      <td>NaN</td>\n",
              "      <td>NaN</td>\n",
              "      <td>NaN</td>\n",
              "      <td>NaN</td>\n",
              "      <td>NaN</td>\n",
              "      <td>NaN</td>\n",
              "      <td>NaN</td>\n",
              "      <td>NaN</td>\n",
              "      <td>NaN</td>\n",
              "      <td>NaN</td>\n",
              "      <td>NaN</td>\n",
              "      <td>2.0</td>\n",
              "      <td>NaN</td>\n",
              "      <td>NaN</td>\n",
              "      <td>NaN</td>\n",
              "      <td>NaN</td>\n",
              "      <td>NaN</td>\n",
              "      <td>NaN</td>\n",
              "      <td>NaN</td>\n",
              "      <td>NaN</td>\n",
              "      <td>NaN</td>\n",
              "      <td>NaN</td>\n",
              "      <td>NaN</td>\n",
              "      <td>NaN</td>\n",
              "      <td>NaN</td>\n",
              "      <td>NaN</td>\n",
              "      <td>NaN</td>\n",
              "      <td>NaN</td>\n",
              "      <td>NaN</td>\n",
              "      <td>NaN</td>\n",
              "      <td>NaN</td>\n",
              "      <td>NaN</td>\n",
              "      <td>NaN</td>\n",
              "      <td>NaN</td>\n",
              "      <td>NaN</td>\n",
              "      <td>NaN</td>\n",
              "      <td>NaN</td>\n",
              "      <td>NaN</td>\n",
              "      <td>NaN</td>\n",
              "      <td>NaN</td>\n",
              "      <td>NaN</td>\n",
              "      <td>NaN</td>\n",
              "      <td>NaN</td>\n",
              "      <td>NaN</td>\n",
              "      <td>NaN</td>\n",
              "      <td>NaN</td>\n",
              "      <td>NaN</td>\n",
              "      <td>NaN</td>\n",
              "      <td>NaN</td>\n",
              "      <td>NaN</td>\n",
              "      <td>NaN</td>\n",
              "      <td>NaN</td>\n",
              "      <td>NaN</td>\n",
              "      <td>NaN</td>\n",
              "      <td>NaN</td>\n",
              "      <td>NaN</td>\n",
              "      <td>NaN</td>\n",
              "      <td>NaN</td>\n",
              "      <td>NaN</td>\n",
              "      <td>NaN</td>\n",
              "      <td>NaN</td>\n",
              "      <td>NaN</td>\n",
              "      <td>NaN</td>\n",
              "      <td>NaN</td>\n",
              "      <td>NaN</td>\n",
              "      <td>NaN</td>\n",
              "      <td>NaN</td>\n",
              "      <td>NaN</td>\n",
              "      <td>NaN</td>\n",
              "      <td>NaN</td>\n",
              "      <td>NaN</td>\n",
              "      <td>NaN</td>\n",
              "      <td>NaN</td>\n",
              "      <td>NaN</td>\n",
              "      <td>NaN</td>\n",
              "      <td>NaN</td>\n",
              "      <td>NaN</td>\n",
              "      <td>NaN</td>\n",
              "      <td>NaN</td>\n",
              "      <td>NaN</td>\n",
              "      <td>NaN</td>\n",
              "      <td>NaN</td>\n",
              "      <td>NaN</td>\n",
              "      <td>NaN</td>\n",
              "      <td>NaN</td>\n",
              "      <td>NaN</td>\n",
              "      <td>NaN</td>\n",
              "      <td>NaN</td>\n",
              "      <td>NaN</td>\n",
              "      <td>NaN</td>\n",
              "      <td>NaN</td>\n",
              "      <td>NaN</td>\n",
              "      <td>NaN</td>\n",
              "      <td>NaN</td>\n",
              "      <td>NaN</td>\n",
              "      <td>NaN</td>\n",
              "      <td>NaN</td>\n",
              "      <td>NaN</td>\n",
              "      <td>NaN</td>\n",
              "      <td>NaN</td>\n",
              "      <td>N</td>\n",
              "      <td>N</td>\n",
              "      <td>N</td>\n",
              "      <td>N</td>\n",
              "      <td>Y</td>\n",
              "      <td>NONE</td>\n",
              "      <td>MISSING</td>\n",
              "      <td>N</td>\n",
              "      <td>N</td>\n",
              "      <td>0</td>\n",
              "      <td>39362.25</td>\n",
              "      <td>39125.00</td>\n",
              "      <td>2.0</td>\n",
              "      <td>8.0</td>\n",
              "      <td>28171.0</td>\n",
              "      <td>2005.75</td>\n",
              "      <td>31261.0</td>\n",
              "      <td>3.0</td>\n",
              "      <td>2.0</td>\n",
              "      <td>16171.0</td>\n",
              "      <td>29064.00</td>\n",
              "      <td>16197.0</td>\n",
              "      <td>2.0</td>\n",
              "      <td>3.0</td>\n",
              "      <td>16171.0</td>\n",
              "      <td>8727.25</td>\n",
              "      <td>7180.00</td>\n",
              "      <td>2.0</td>\n",
              "      <td>3.0</td>\n",
              "      <td>4680.0</td>\n",
              "      <td>36375.75</td>\n",
              "      <td>31516.00</td>\n",
              "      <td>2.0</td>\n",
              "      <td>4.0</td>\n",
              "      <td>16516.0</td>\n",
              "      <td>28520.75</td>\n",
              "      <td>44980.00</td>\n",
              "      <td>5.0</td>\n",
              "      <td>3.0</td>\n",
              "      <td>16516.0</td>\n",
              "      <td>NaN</td>\n",
              "      <td>NaN</td>\n",
              "      <td>NaN</td>\n",
              "      <td>NO_NEFT_TXN</td>\n",
              "      <td>26515.0</td>\n",
              "      <td>1.0</td>\n",
              "      <td>NOT_RELEVANT</td>\n",
              "      <td>NaN</td>\n",
              "      <td>NaN</td>\n",
              "      <td>NO_TPT_TXN</td>\n",
              "      <td>NaN</td>\n",
              "      <td>NaN</td>\n",
              "      <td>NO_TPT_TXN</td>\n",
              "      <td>NaN</td>\n",
              "      <td>NaN</td>\n",
              "      <td>NO_IMPS_TXN</td>\n",
              "      <td>122001</td>\n",
              "      <td>NaN</td>\n",
              "      <td>NaN</td>\n",
              "      <td>NaN</td>\n",
              "      <td>NaN</td>\n",
              "      <td>NaN</td>\n",
              "      <td>NaN</td>\n",
              "      <td>NaN</td>\n",
              "      <td>NaN</td>\n",
              "      <td>NaN</td>\n",
              "      <td>NaN</td>\n",
              "      <td>NaN</td>\n",
              "      <td>NaN</td>\n",
              "      <td>NaN</td>\n",
              "      <td>NaN</td>\n",
              "      <td>NaN</td>\n",
              "      <td>NaN</td>\n",
              "      <td>NaN</td>\n",
              "      <td>NaN</td>\n",
              "      <td>NaN</td>\n",
              "      <td>NaN</td>\n",
              "      <td>NaN</td>\n",
              "      <td>NaN</td>\n",
              "      <td>NaN</td>\n",
              "      <td>NaN</td>\n",
              "      <td>NaN</td>\n",
              "      <td>NaN</td>\n",
              "      <td>NaN</td>\n",
              "      <td>NaN</td>\n",
              "      <td>NaN</td>\n",
              "      <td>NaN</td>\n",
              "      <td>NaN</td>\n",
              "      <td>NaN</td>\n",
              "      <td>NaN</td>\n",
              "      <td>NaN</td>\n",
              "      <td>NaN</td>\n",
              "      <td>N</td>\n",
              "      <td>N</td>\n",
              "      <td>N</td>\n",
              "      <td>N</td>\n",
              "      <td>N</td>\n",
              "      <td>N</td>\n",
              "      <td>N</td>\n",
              "      <td>N</td>\n",
              "      <td>N</td>\n",
              "      <td>N</td>\n",
              "      <td>0.0</td>\n",
              "      <td>0.0</td>\n",
              "      <td>0.0</td>\n",
              "      <td>NaN</td>\n",
              "      <td>NaN</td>\n",
              "      <td>NONE</td>\n",
              "      <td>9999.00</td>\n",
              "      <td>14858.75</td>\n",
              "      <td>Y</td>\n",
              "      <td>Y</td>\n",
              "      <td>NaN</td>\n",
              "      <td>NaN</td>\n",
              "      <td>NaN</td>\n",
              "      <td>NaN</td>\n",
              "      <td>NaN</td>\n",
              "      <td>NaN</td>\n",
              "      <td>0.000000</td>\n",
              "      <td>N</td>\n",
              "    </tr>\n",
              "    <tr>\n",
              "      <th>3</th>\n",
              "      <td>278651</td>\n",
              "      <td>CSA</td>\n",
              "      <td>M</td>\n",
              "      <td>INDIVIDUAL</td>\n",
              "      <td>SALARIED</td>\n",
              "      <td>28</td>\n",
              "      <td>65917.28</td>\n",
              "      <td>8270.28</td>\n",
              "      <td>NaN</td>\n",
              "      <td>NaN</td>\n",
              "      <td>Y</td>\n",
              "      <td>NaN</td>\n",
              "      <td>NaN</td>\n",
              "      <td>NaN</td>\n",
              "      <td>NaN</td>\n",
              "      <td>NaN</td>\n",
              "      <td>NaN</td>\n",
              "      <td>NaN</td>\n",
              "      <td>NaN</td>\n",
              "      <td>NaN</td>\n",
              "      <td>NaN</td>\n",
              "      <td>NaN</td>\n",
              "      <td>NaN</td>\n",
              "      <td>NaN</td>\n",
              "      <td>NaN</td>\n",
              "      <td>NaN</td>\n",
              "      <td>NaN</td>\n",
              "      <td>NaN</td>\n",
              "      <td>NaN</td>\n",
              "      <td>NaN</td>\n",
              "      <td>NaN</td>\n",
              "      <td>NaN</td>\n",
              "      <td>NaN</td>\n",
              "      <td>NaN</td>\n",
              "      <td>Y</td>\n",
              "      <td>Y</td>\n",
              "      <td>Y</td>\n",
              "      <td>Y</td>\n",
              "      <td>NaN</td>\n",
              "      <td>Y</td>\n",
              "      <td>Y</td>\n",
              "      <td>Y</td>\n",
              "      <td>Y</td>\n",
              "      <td>Y</td>\n",
              "      <td>Y</td>\n",
              "      <td>Y</td>\n",
              "      <td>Y</td>\n",
              "      <td>10960.0</td>\n",
              "      <td>795.0</td>\n",
              "      <td>NaN</td>\n",
              "      <td>6782.0</td>\n",
              "      <td>NaN</td>\n",
              "      <td>NaN</td>\n",
              "      <td>22713.22</td>\n",
              "      <td>5340.0</td>\n",
              "      <td>NaN</td>\n",
              "      <td>NaN</td>\n",
              "      <td>NaN</td>\n",
              "      <td>62000.0</td>\n",
              "      <td>6051.22</td>\n",
              "      <td>22681.82</td>\n",
              "      <td>0.00</td>\n",
              "      <td>1</td>\n",
              "      <td>NaN</td>\n",
              "      <td>NaN</td>\n",
              "      <td>NaN</td>\n",
              "      <td>NaN</td>\n",
              "      <td>NaN</td>\n",
              "      <td>NaN</td>\n",
              "      <td>NaN</td>\n",
              "      <td>NaN</td>\n",
              "      <td>NaN</td>\n",
              "      <td>NaN</td>\n",
              "      <td>NaN</td>\n",
              "      <td>NaN</td>\n",
              "      <td>NaN</td>\n",
              "      <td>NaN</td>\n",
              "      <td>NaN</td>\n",
              "      <td>NaN</td>\n",
              "      <td>NaN</td>\n",
              "      <td>NaN</td>\n",
              "      <td>NaN</td>\n",
              "      <td>NaN</td>\n",
              "      <td>NaN</td>\n",
              "      <td>NaN</td>\n",
              "      <td>NaN</td>\n",
              "      <td>Y</td>\n",
              "      <td>NaN</td>\n",
              "      <td>NaN</td>\n",
              "      <td>NaN</td>\n",
              "      <td>NaN</td>\n",
              "      <td>NaN</td>\n",
              "      <td>NaN</td>\n",
              "      <td>NaN</td>\n",
              "      <td>NaN</td>\n",
              "      <td>NaN</td>\n",
              "      <td>65917.28</td>\n",
              "      <td>113120.39</td>\n",
              "      <td>35560.81</td>\n",
              "      <td>42686.93</td>\n",
              "      <td>61593.38</td>\n",
              "      <td>1.0</td>\n",
              "      <td>1.0</td>\n",
              "      <td>1.0</td>\n",
              "      <td>NaN</td>\n",
              "      <td>NaN</td>\n",
              "      <td>NaN</td>\n",
              "      <td>NaN</td>\n",
              "      <td>NaN</td>\n",
              "      <td>NaN</td>\n",
              "      <td>NaN</td>\n",
              "      <td>NaN</td>\n",
              "      <td>NaN</td>\n",
              "      <td>NaN</td>\n",
              "      <td>NaN</td>\n",
              "      <td>NaN</td>\n",
              "      <td>3.0</td>\n",
              "      <td>10935.00</td>\n",
              "      <td>5.0</td>\n",
              "      <td>15.0</td>\n",
              "      <td>NaN</td>\n",
              "      <td>9.0</td>\n",
              "      <td>803.00</td>\n",
              "      <td>4.0</td>\n",
              "      <td>2.0</td>\n",
              "      <td>6.0</td>\n",
              "      <td>NaN</td>\n",
              "      <td>NaN</td>\n",
              "      <td>1531.0</td>\n",
              "      <td>2.0</td>\n",
              "      <td>9.0</td>\n",
              "      <td>12.0</td>\n",
              "      <td>NaN</td>\n",
              "      <td>NaN</td>\n",
              "      <td>1330.0</td>\n",
              "      <td>NaN</td>\n",
              "      <td>5340.0</td>\n",
              "      <td>NaN</td>\n",
              "      <td>NaN</td>\n",
              "      <td>NaN</td>\n",
              "      <td>NaN</td>\n",
              "      <td>NaN</td>\n",
              "      <td>NaN</td>\n",
              "      <td>NaN</td>\n",
              "      <td>NaN</td>\n",
              "      <td>NaN</td>\n",
              "      <td>NaN</td>\n",
              "      <td>2900.0</td>\n",
              "      <td>NaN</td>\n",
              "      <td>NaN</td>\n",
              "      <td>NaN</td>\n",
              "      <td>NaN</td>\n",
              "      <td>NaN</td>\n",
              "      <td>NaN</td>\n",
              "      <td>NaN</td>\n",
              "      <td>NaN</td>\n",
              "      <td>NaN</td>\n",
              "      <td>NaN</td>\n",
              "      <td>NaN</td>\n",
              "      <td>NaN</td>\n",
              "      <td>NaN</td>\n",
              "      <td>NaN</td>\n",
              "      <td>NaN</td>\n",
              "      <td>NaN</td>\n",
              "      <td>8790.0</td>\n",
              "      <td>NaN</td>\n",
              "      <td>NaN</td>\n",
              "      <td>NaN</td>\n",
              "      <td>NaN</td>\n",
              "      <td>NaN</td>\n",
              "      <td>NaN</td>\n",
              "      <td>NaN</td>\n",
              "      <td>NaN</td>\n",
              "      <td>NaN</td>\n",
              "      <td>NaN</td>\n",
              "      <td>NaN</td>\n",
              "      <td>NaN</td>\n",
              "      <td>NaN</td>\n",
              "      <td>NaN</td>\n",
              "      <td>NaN</td>\n",
              "      <td>NaN</td>\n",
              "      <td>NaN</td>\n",
              "      <td>NaN</td>\n",
              "      <td>NaN</td>\n",
              "      <td>NaN</td>\n",
              "      <td>NaN</td>\n",
              "      <td>NaN</td>\n",
              "      <td>NaN</td>\n",
              "      <td>NaN</td>\n",
              "      <td>NaN</td>\n",
              "      <td>NaN</td>\n",
              "      <td>NaN</td>\n",
              "      <td>NaN</td>\n",
              "      <td>NaN</td>\n",
              "      <td>NaN</td>\n",
              "      <td>NaN</td>\n",
              "      <td>NaN</td>\n",
              "      <td>NaN</td>\n",
              "      <td>NaN</td>\n",
              "      <td>NaN</td>\n",
              "      <td>NaN</td>\n",
              "      <td>NaN</td>\n",
              "      <td>NaN</td>\n",
              "      <td>NaN</td>\n",
              "      <td>NaN</td>\n",
              "      <td>NaN</td>\n",
              "      <td>NaN</td>\n",
              "      <td>NaN</td>\n",
              "      <td>NaN</td>\n",
              "      <td>NaN</td>\n",
              "      <td>NaN</td>\n",
              "      <td>NaN</td>\n",
              "      <td>NaN</td>\n",
              "      <td>Y</td>\n",
              "      <td>N</td>\n",
              "      <td>N</td>\n",
              "      <td>N</td>\n",
              "      <td>N</td>\n",
              "      <td>NONE</td>\n",
              "      <td>MISSING</td>\n",
              "      <td>N</td>\n",
              "      <td>N</td>\n",
              "      <td>0</td>\n",
              "      <td>128169.25</td>\n",
              "      <td>20152.03</td>\n",
              "      <td>2.0</td>\n",
              "      <td>20.0</td>\n",
              "      <td>19840.0</td>\n",
              "      <td>52325.00</td>\n",
              "      <td>19840.0</td>\n",
              "      <td>1.0</td>\n",
              "      <td>8.0</td>\n",
              "      <td>19840.0</td>\n",
              "      <td>69002.00</td>\n",
              "      <td>21526.0</td>\n",
              "      <td>2.0</td>\n",
              "      <td>9.0</td>\n",
              "      <td>19840.0</td>\n",
              "      <td>75750.25</td>\n",
              "      <td>19605.00</td>\n",
              "      <td>1.0</td>\n",
              "      <td>18.0</td>\n",
              "      <td>19605.0</td>\n",
              "      <td>37712.17</td>\n",
              "      <td>15200.00</td>\n",
              "      <td>1.0</td>\n",
              "      <td>17.0</td>\n",
              "      <td>15200.0</td>\n",
              "      <td>47158.82</td>\n",
              "      <td>85913.00</td>\n",
              "      <td>4.0</td>\n",
              "      <td>11.0</td>\n",
              "      <td>46500.0</td>\n",
              "      <td>NaN</td>\n",
              "      <td>NaN</td>\n",
              "      <td>NaN</td>\n",
              "      <td>NO_NEFT_TXN</td>\n",
              "      <td>NaN</td>\n",
              "      <td>NaN</td>\n",
              "      <td>NO_NEFT_TXN</td>\n",
              "      <td>NaN</td>\n",
              "      <td>NaN</td>\n",
              "      <td>NO_TPT_TXN</td>\n",
              "      <td>NaN</td>\n",
              "      <td>NaN</td>\n",
              "      <td>NO_TPT_TXN</td>\n",
              "      <td>NaN</td>\n",
              "      <td>NaN</td>\n",
              "      <td>NO_IMPS_TXN</td>\n",
              "      <td>311408.0</td>\n",
              "      <td>NaN</td>\n",
              "      <td>NaN</td>\n",
              "      <td>NaN</td>\n",
              "      <td>NaN</td>\n",
              "      <td>NaN</td>\n",
              "      <td>NaN</td>\n",
              "      <td>NaN</td>\n",
              "      <td>NaN</td>\n",
              "      <td>NaN</td>\n",
              "      <td>NaN</td>\n",
              "      <td>NaN</td>\n",
              "      <td>NaN</td>\n",
              "      <td>NaN</td>\n",
              "      <td>NaN</td>\n",
              "      <td>NaN</td>\n",
              "      <td>NaN</td>\n",
              "      <td>NaN</td>\n",
              "      <td>NaN</td>\n",
              "      <td>NaN</td>\n",
              "      <td>NaN</td>\n",
              "      <td>NaN</td>\n",
              "      <td>NaN</td>\n",
              "      <td>NaN</td>\n",
              "      <td>NaN</td>\n",
              "      <td>0.247852</td>\n",
              "      <td>NaN</td>\n",
              "      <td>NaN</td>\n",
              "      <td>2558.0</td>\n",
              "      <td>NaN</td>\n",
              "      <td>NaN</td>\n",
              "      <td>NaN</td>\n",
              "      <td>NaN</td>\n",
              "      <td>8200.0</td>\n",
              "      <td>NaN</td>\n",
              "      <td>NaN</td>\n",
              "      <td>N</td>\n",
              "      <td>N</td>\n",
              "      <td>Y</td>\n",
              "      <td>N</td>\n",
              "      <td>N</td>\n",
              "      <td>Y</td>\n",
              "      <td>N</td>\n",
              "      <td>Y</td>\n",
              "      <td>Y</td>\n",
              "      <td>N</td>\n",
              "      <td>38952.0</td>\n",
              "      <td>15200.0</td>\n",
              "      <td>19605.0</td>\n",
              "      <td>NaN</td>\n",
              "      <td>NaN</td>\n",
              "      <td>NONE</td>\n",
              "      <td>27163.10</td>\n",
              "      <td>49675.27</td>\n",
              "      <td>Y</td>\n",
              "      <td>Y</td>\n",
              "      <td>NaN</td>\n",
              "      <td>NaN</td>\n",
              "      <td>NaN</td>\n",
              "      <td>NaN</td>\n",
              "      <td>NaN</td>\n",
              "      <td>NaN</td>\n",
              "      <td>0.000000</td>\n",
              "      <td>N</td>\n",
              "    </tr>\n",
              "    <tr>\n",
              "      <th>4</th>\n",
              "      <td>23637</td>\n",
              "      <td>CSA</td>\n",
              "      <td>M</td>\n",
              "      <td>INDIVIDUAL</td>\n",
              "      <td>SALARIED</td>\n",
              "      <td>34</td>\n",
              "      <td>22260.94</td>\n",
              "      <td>6060.94</td>\n",
              "      <td>NaN</td>\n",
              "      <td>NaN</td>\n",
              "      <td>NaN</td>\n",
              "      <td>NaN</td>\n",
              "      <td>NaN</td>\n",
              "      <td>NaN</td>\n",
              "      <td>NaN</td>\n",
              "      <td>NaN</td>\n",
              "      <td>NaN</td>\n",
              "      <td>NaN</td>\n",
              "      <td>NaN</td>\n",
              "      <td>NaN</td>\n",
              "      <td>NaN</td>\n",
              "      <td>NaN</td>\n",
              "      <td>NaN</td>\n",
              "      <td>NaN</td>\n",
              "      <td>NaN</td>\n",
              "      <td>NaN</td>\n",
              "      <td>NaN</td>\n",
              "      <td>NaN</td>\n",
              "      <td>NaN</td>\n",
              "      <td>NaN</td>\n",
              "      <td>NaN</td>\n",
              "      <td>NaN</td>\n",
              "      <td>NaN</td>\n",
              "      <td>NaN</td>\n",
              "      <td>Y</td>\n",
              "      <td>Y</td>\n",
              "      <td>Y</td>\n",
              "      <td>Y</td>\n",
              "      <td>Y</td>\n",
              "      <td>Y</td>\n",
              "      <td>Y</td>\n",
              "      <td>Y</td>\n",
              "      <td>Y</td>\n",
              "      <td>NaN</td>\n",
              "      <td>NaN</td>\n",
              "      <td>NaN</td>\n",
              "      <td>N</td>\n",
              "      <td>NaN</td>\n",
              "      <td>NaN</td>\n",
              "      <td>NaN</td>\n",
              "      <td>1199.0</td>\n",
              "      <td>NaN</td>\n",
              "      <td>NaN</td>\n",
              "      <td>NaN</td>\n",
              "      <td>NaN</td>\n",
              "      <td>NaN</td>\n",
              "      <td>NaN</td>\n",
              "      <td>NaN</td>\n",
              "      <td>88000.0</td>\n",
              "      <td>15660.04</td>\n",
              "      <td>21246.48</td>\n",
              "      <td>16483.54</td>\n",
              "      <td>0</td>\n",
              "      <td>NaN</td>\n",
              "      <td>NaN</td>\n",
              "      <td>NaN</td>\n",
              "      <td>NaN</td>\n",
              "      <td>NaN</td>\n",
              "      <td>NaN</td>\n",
              "      <td>NaN</td>\n",
              "      <td>NaN</td>\n",
              "      <td>NaN</td>\n",
              "      <td>NaN</td>\n",
              "      <td>NaN</td>\n",
              "      <td>NaN</td>\n",
              "      <td>NaN</td>\n",
              "      <td>NaN</td>\n",
              "      <td>NaN</td>\n",
              "      <td>NaN</td>\n",
              "      <td>NaN</td>\n",
              "      <td>NaN</td>\n",
              "      <td>NaN</td>\n",
              "      <td>NaN</td>\n",
              "      <td>NaN</td>\n",
              "      <td>NaN</td>\n",
              "      <td>NaN</td>\n",
              "      <td>Y</td>\n",
              "      <td>NaN</td>\n",
              "      <td>Y</td>\n",
              "      <td>NaN</td>\n",
              "      <td>NaN</td>\n",
              "      <td>NaN</td>\n",
              "      <td>Y</td>\n",
              "      <td>Y</td>\n",
              "      <td>NaN</td>\n",
              "      <td>Y</td>\n",
              "      <td>6172.94</td>\n",
              "      <td>9099.94</td>\n",
              "      <td>15858.71</td>\n",
              "      <td>14008.08</td>\n",
              "      <td>4570.73</td>\n",
              "      <td>1.0</td>\n",
              "      <td>NaN</td>\n",
              "      <td>1.0</td>\n",
              "      <td>NaN</td>\n",
              "      <td>NaN</td>\n",
              "      <td>NaN</td>\n",
              "      <td>NaN</td>\n",
              "      <td>NaN</td>\n",
              "      <td>NaN</td>\n",
              "      <td>NaN</td>\n",
              "      <td>NaN</td>\n",
              "      <td>NaN</td>\n",
              "      <td>NaN</td>\n",
              "      <td>NaN</td>\n",
              "      <td>NaN</td>\n",
              "      <td>11.0</td>\n",
              "      <td>15094.78</td>\n",
              "      <td>21.0</td>\n",
              "      <td>16.0</td>\n",
              "      <td>7.0</td>\n",
              "      <td>16.0</td>\n",
              "      <td>8333.35</td>\n",
              "      <td>13.0</td>\n",
              "      <td>NaN</td>\n",
              "      <td>NaN</td>\n",
              "      <td>NaN</td>\n",
              "      <td>NaN</td>\n",
              "      <td>380.0</td>\n",
              "      <td>1.0</td>\n",
              "      <td>NaN</td>\n",
              "      <td>NaN</td>\n",
              "      <td>NaN</td>\n",
              "      <td>NaN</td>\n",
              "      <td>NaN</td>\n",
              "      <td>NaN</td>\n",
              "      <td>NaN</td>\n",
              "      <td>NaN</td>\n",
              "      <td>NaN</td>\n",
              "      <td>NaN</td>\n",
              "      <td>NaN</td>\n",
              "      <td>NaN</td>\n",
              "      <td>NaN</td>\n",
              "      <td>NaN</td>\n",
              "      <td>NaN</td>\n",
              "      <td>NaN</td>\n",
              "      <td>NaN</td>\n",
              "      <td>NaN</td>\n",
              "      <td>NaN</td>\n",
              "      <td>NaN</td>\n",
              "      <td>NaN</td>\n",
              "      <td>NaN</td>\n",
              "      <td>NaN</td>\n",
              "      <td>NaN</td>\n",
              "      <td>NaN</td>\n",
              "      <td>NaN</td>\n",
              "      <td>NaN</td>\n",
              "      <td>NaN</td>\n",
              "      <td>NaN</td>\n",
              "      <td>NaN</td>\n",
              "      <td>NaN</td>\n",
              "      <td>NaN</td>\n",
              "      <td>NaN</td>\n",
              "      <td>NaN</td>\n",
              "      <td>NaN</td>\n",
              "      <td>NaN</td>\n",
              "      <td>NaN</td>\n",
              "      <td>NaN</td>\n",
              "      <td>NaN</td>\n",
              "      <td>NaN</td>\n",
              "      <td>NaN</td>\n",
              "      <td>NaN</td>\n",
              "      <td>NaN</td>\n",
              "      <td>NaN</td>\n",
              "      <td>NaN</td>\n",
              "      <td>NaN</td>\n",
              "      <td>NaN</td>\n",
              "      <td>NaN</td>\n",
              "      <td>NaN</td>\n",
              "      <td>380.0</td>\n",
              "      <td>NaN</td>\n",
              "      <td>NaN</td>\n",
              "      <td>NaN</td>\n",
              "      <td>NaN</td>\n",
              "      <td>NaN</td>\n",
              "      <td>NaN</td>\n",
              "      <td>1199.0</td>\n",
              "      <td>NaN</td>\n",
              "      <td>NaN</td>\n",
              "      <td>NaN</td>\n",
              "      <td>NaN</td>\n",
              "      <td>NaN</td>\n",
              "      <td>NaN</td>\n",
              "      <td>NaN</td>\n",
              "      <td>7776.0</td>\n",
              "      <td>NaN</td>\n",
              "      <td>NaN</td>\n",
              "      <td>NaN</td>\n",
              "      <td>NaN</td>\n",
              "      <td>NaN</td>\n",
              "      <td>NaN</td>\n",
              "      <td>NaN</td>\n",
              "      <td>NaN</td>\n",
              "      <td>NaN</td>\n",
              "      <td>NaN</td>\n",
              "      <td>NaN</td>\n",
              "      <td>NaN</td>\n",
              "      <td>NaN</td>\n",
              "      <td>NaN</td>\n",
              "      <td>NaN</td>\n",
              "      <td>NaN</td>\n",
              "      <td>NaN</td>\n",
              "      <td>NaN</td>\n",
              "      <td>N</td>\n",
              "      <td>N</td>\n",
              "      <td>N</td>\n",
              "      <td>N</td>\n",
              "      <td>N</td>\n",
              "      <td>NONE</td>\n",
              "      <td>ENGINEER</td>\n",
              "      <td>N</td>\n",
              "      <td>N</td>\n",
              "      <td>0</td>\n",
              "      <td>18668.96</td>\n",
              "      <td>24565.91</td>\n",
              "      <td>4.0</td>\n",
              "      <td>7.0</td>\n",
              "      <td>14000.0</td>\n",
              "      <td>26931.60</td>\n",
              "      <td>29500.0</td>\n",
              "      <td>3.0</td>\n",
              "      <td>7.0</td>\n",
              "      <td>21500.0</td>\n",
              "      <td>13700.00</td>\n",
              "      <td>9264.0</td>\n",
              "      <td>4.0</td>\n",
              "      <td>1.0</td>\n",
              "      <td>5000.0</td>\n",
              "      <td>9817.25</td>\n",
              "      <td>6532.79</td>\n",
              "      <td>4.0</td>\n",
              "      <td>3.0</td>\n",
              "      <td>3580.0</td>\n",
              "      <td>37936.00</td>\n",
              "      <td>58018.00</td>\n",
              "      <td>4.0</td>\n",
              "      <td>5.0</td>\n",
              "      <td>29000.0</td>\n",
              "      <td>16200.00</td>\n",
              "      <td>1307.07</td>\n",
              "      <td>4.0</td>\n",
              "      <td>1.0</td>\n",
              "      <td>690.0</td>\n",
              "      <td>PQ_WITH_INCOME_20K</td>\n",
              "      <td>NaN</td>\n",
              "      <td>NaN</td>\n",
              "      <td>NO_NEFT_TXN</td>\n",
              "      <td>NaN</td>\n",
              "      <td>NaN</td>\n",
              "      <td>NO_NEFT_TXN</td>\n",
              "      <td>NaN</td>\n",
              "      <td>NaN</td>\n",
              "      <td>NO_TPT_TXN</td>\n",
              "      <td>NaN</td>\n",
              "      <td>NaN</td>\n",
              "      <td>NO_TPT_TXN</td>\n",
              "      <td>200.0</td>\n",
              "      <td>1.0</td>\n",
              "      <td>NOT_RELEVANT</td>\n",
              "      <td>122015</td>\n",
              "      <td>NaN</td>\n",
              "      <td>NaN</td>\n",
              "      <td>NaN</td>\n",
              "      <td>NaN</td>\n",
              "      <td>NaN</td>\n",
              "      <td>NaN</td>\n",
              "      <td>NaN</td>\n",
              "      <td>NaN</td>\n",
              "      <td>NaN</td>\n",
              "      <td>NaN</td>\n",
              "      <td>NaN</td>\n",
              "      <td>NaN</td>\n",
              "      <td>NaN</td>\n",
              "      <td>NaN</td>\n",
              "      <td>NaN</td>\n",
              "      <td>NaN</td>\n",
              "      <td>NaN</td>\n",
              "      <td>NaN</td>\n",
              "      <td>NaN</td>\n",
              "      <td>NaN</td>\n",
              "      <td>NaN</td>\n",
              "      <td>NaN</td>\n",
              "      <td>NaN</td>\n",
              "      <td>NaN</td>\n",
              "      <td>NaN</td>\n",
              "      <td>NaN</td>\n",
              "      <td>NaN</td>\n",
              "      <td>NaN</td>\n",
              "      <td>NaN</td>\n",
              "      <td>NaN</td>\n",
              "      <td>NaN</td>\n",
              "      <td>NaN</td>\n",
              "      <td>NaN</td>\n",
              "      <td>NaN</td>\n",
              "      <td>NaN</td>\n",
              "      <td>N</td>\n",
              "      <td>N</td>\n",
              "      <td>N</td>\n",
              "      <td>N</td>\n",
              "      <td>N</td>\n",
              "      <td>N</td>\n",
              "      <td>N</td>\n",
              "      <td>N</td>\n",
              "      <td>Y</td>\n",
              "      <td>N</td>\n",
              "      <td>0.0</td>\n",
              "      <td>0.0</td>\n",
              "      <td>0.0</td>\n",
              "      <td>NaN</td>\n",
              "      <td>NaN</td>\n",
              "      <td>NONE</td>\n",
              "      <td>21065.87</td>\n",
              "      <td>983.87</td>\n",
              "      <td>Y</td>\n",
              "      <td>Y</td>\n",
              "      <td>NaN</td>\n",
              "      <td>NaN</td>\n",
              "      <td>NaN</td>\n",
              "      <td>NaN</td>\n",
              "      <td>NaN</td>\n",
              "      <td>NaN</td>\n",
              "      <td>251.758794</td>\n",
              "      <td>N</td>\n",
              "    </tr>\n",
              "  </tbody>\n",
              "</table>\n",
              "</div>"
            ],
            "text/plain": [
              "   CUSTOMER_ID ACT_TYPE GENDER LEGAL_ENTITY OCCUP_ALL_NEW  AGE  \\\n",
              "0       385793      CSA      M   INDIVIDUAL      SALARIED   21   \n",
              "1       286891      CSA      M   INDIVIDUAL      SALARIED   23   \n",
              "2       108751      CSA      M   INDIVIDUAL      SALARIED   41   \n",
              "3       278651      CSA      M   INDIVIDUAL      SALARIED   28   \n",
              "4        23637      CSA      M   INDIVIDUAL      SALARIED   34   \n",
              "\n",
              "   N_CASA_MAX_BALANCE_MTD  N_CASA_MIN_BALANCE_MTD BL_TAG TWL_TAG PL_TAG  \\\n",
              "0                    0.00                    0.00    NaN     NaN    NaN   \n",
              "1                 8243.77                    7.77    NaN     NaN    NaN   \n",
              "2                26515.00                    0.00    NaN     NaN    NaN   \n",
              "3                65917.28                 8270.28    NaN     NaN      Y   \n",
              "4                22260.94                 6060.94    NaN     NaN    NaN   \n",
              "\n",
              "  AL_CNC_TAG AGRI_TAG CE_TAG CV_TAG EDU_TAG TL_TAG OTHER_LOANS_TAG LAP_TAG  \\\n",
              "0        NaN      NaN    NaN    NaN     NaN    NaN             NaN     NaN   \n",
              "1        NaN      NaN    NaN    NaN     NaN    NaN             NaN     NaN   \n",
              "2        NaN      NaN    NaN    NaN     NaN    NaN             NaN     NaN   \n",
              "3        NaN      NaN    NaN    NaN     NaN    NaN             NaN     NaN   \n",
              "4        NaN      NaN    NaN    NaN     NaN    NaN             NaN     NaN   \n",
              "\n",
              "  LAS_TAG  EEG_TAG BBG_TAG HL_TAG GL_TAG AL_CLOSED PL_CLOSED BL_CLOSED  \\\n",
              "0     NaN      NaN     NaN    NaN    NaN       NaN       NaN       NaN   \n",
              "1     NaN      NaN     NaN    NaN    NaN       NaN       NaN       NaN   \n",
              "2     NaN      NaN     NaN    NaN    NaN       NaN       NaN       NaN   \n",
              "3     NaN      NaN     NaN    NaN    NaN       NaN       NaN       NaN   \n",
              "4     NaN      NaN     NaN    NaN    NaN       NaN       NaN       NaN   \n",
              "\n",
              "  TWL_CLOSED CV_CLOSED LAP_CLOSED LAS_CLOSED  EEG_CLOSED BBG_CLOSED GL_CLOSED  \\\n",
              "0        NaN       NaN        NaN        NaN         NaN        NaN       NaN   \n",
              "1        NaN       NaN        NaN        NaN         NaN        NaN       NaN   \n",
              "2        NaN       NaN        NaN        NaN         NaN        NaN       NaN   \n",
              "3        NaN       NaN        NaN        NaN         NaN        NaN       NaN   \n",
              "4        NaN       NaN        NaN        NaN         NaN        NaN       NaN   \n",
              "\n",
              "  CC_HOLD_MON_03 CC_HOLD_MON_02 CC_HOLD_MON_01 CC_ACTIVE_MON_03  \\\n",
              "0            NaN            NaN            NaN              NaN   \n",
              "1            NaN            NaN            NaN              NaN   \n",
              "2            NaN            NaN            NaN              NaN   \n",
              "3              Y              Y              Y                Y   \n",
              "4              Y              Y              Y                Y   \n",
              "\n",
              "  CC_ACTIVE_MON_02 CC_ACTIVE_MON_01 CC_HOLD CC_ACTIVE DC_HOLD  \\\n",
              "0              NaN              NaN       N         N       Y   \n",
              "1              NaN              NaN       N         N       Y   \n",
              "2              NaN              NaN       N         N       Y   \n",
              "3              NaN                Y       Y         Y       Y   \n",
              "4                Y                Y       Y         Y       Y   \n",
              "\n",
              "  DC_ACTIVE_MON_03 DC_ACTIVE_MON_02 DC_ACTIVE_MON_01 DC_ACTIVE  \\\n",
              "0              NaN              NaN              NaN         N   \n",
              "1                Y                Y                Y         Y   \n",
              "2              NaN              NaN              NaN         N   \n",
              "3                Y                Y                Y         Y   \n",
              "4              NaN              NaN              NaN         N   \n",
              "\n",
              "   DC_SPEND_MON_03  DC_SPEND_MON_02  DC_SPEND_MON_01  CC_SPEND_MON_04  \\\n",
              "0              NaN              NaN              NaN              NaN   \n",
              "1              NaN              NaN              NaN              NaN   \n",
              "2              NaN              NaN              NaN              NaN   \n",
              "3          10960.0            795.0              NaN           6782.0   \n",
              "4              NaN              NaN              NaN           1199.0   \n",
              "\n",
              "   CC_SPEND_MON_01  CC_SPEND_MON_02  CC_SPEND_MON_03  DC_SPEND_MON_04  \\\n",
              "0              NaN              NaN              NaN              NaN   \n",
              "1              NaN              NaN              NaN              NaN   \n",
              "2              NaN              NaN              NaN              NaN   \n",
              "3              NaN              NaN         22713.22           5340.0   \n",
              "4              NaN              NaN              NaN              NaN   \n",
              "\n",
              "   PM_FD_MON_01  PM_FD_MON_02  PM_FD_MON_04  CR_LIMIT  STMT_MON_03  \\\n",
              "0           NaN           NaN           NaN       NaN          NaN   \n",
              "1           NaN           NaN           NaN       NaN          NaN   \n",
              "2           NaN           NaN           NaN       NaN          NaN   \n",
              "3           NaN           NaN           NaN   62000.0      6051.22   \n",
              "4           NaN           NaN           NaN   88000.0     15660.04   \n",
              "\n",
              "   STMT_MON_02  STMT_MON_01  COC_ELIGIBLE  LAP_SCRUB_LIVE  LAS_SCRUB_LIVE  \\\n",
              "0          NaN          NaN             0             NaN             NaN   \n",
              "1          NaN          NaN             0             NaN             NaN   \n",
              "2          NaN          NaN             0             NaN             NaN   \n",
              "3     22681.82         0.00             1             NaN             NaN   \n",
              "4     21246.48     16483.54             0             NaN             NaN   \n",
              "\n",
              "   PL_SCRUB_LIVE  GL_SCRUB_LIVE  TWL_SCRUB_LIVE  BL_SCRUB_LIVE  \\\n",
              "0            NaN            NaN             NaN            NaN   \n",
              "1            NaN            NaN             NaN            NaN   \n",
              "2            NaN            NaN             NaN            NaN   \n",
              "3            NaN            NaN             NaN            NaN   \n",
              "4            NaN            NaN             NaN            NaN   \n",
              "\n",
              "   CEL_SCRUB_LIVE  TL_SCRUB_LIVE  AL_SCRUB_LIVE  LAP_SCRUB_CLOSED  \\\n",
              "0             NaN            NaN            NaN               NaN   \n",
              "1             NaN            NaN            1.0               NaN   \n",
              "2             NaN            NaN            NaN               NaN   \n",
              "3             NaN            NaN            NaN               NaN   \n",
              "4             NaN            NaN            NaN               NaN   \n",
              "\n",
              "   LAS_SCRUB_CLOSED  PL_SCRUB_CLOSED  GL_SCRUB_CLOSED  TWL_SCRUB_CLOSED  \\\n",
              "0               NaN              NaN              NaN               NaN   \n",
              "1               NaN              NaN              NaN               NaN   \n",
              "2               NaN              NaN              NaN               NaN   \n",
              "3               NaN              NaN              NaN               NaN   \n",
              "4               NaN              NaN              NaN               NaN   \n",
              "\n",
              "   BL_SCRUB_CLOSED  CEL_SCRUB_CLOSED  TL_SCRUB_CLOSED  AL_SCRUB_CLOSED  \\\n",
              "0              NaN               NaN              NaN              NaN   \n",
              "1              NaN               NaN              NaN              NaN   \n",
              "2              NaN               NaN              NaN              NaN   \n",
              "3              NaN               NaN              NaN              NaN   \n",
              "4              NaN               NaN              NaN              NaN   \n",
              "\n",
              "  MATURITY_GL MATURITY_LAP MATURITY_LAS  STMT_CON_DAE_ACTIVE_MON_01  \\\n",
              "0         NaN          NaN          NaN                         NaN   \n",
              "1         NaN          NaN          NaN                         NaN   \n",
              "2         NaN          NaN          NaN                         NaN   \n",
              "3         NaN          NaN          NaN                         NaN   \n",
              "4         NaN          NaN          NaN                         NaN   \n",
              "\n",
              "  BTE_ACTIVE_MON_01 COC_ACTIVE_MON_01 PL2CC_ACTIVE_MON_01  \\\n",
              "0               NaN               NaN                 NaN   \n",
              "1               NaN               NaN                 NaN   \n",
              "2               NaN               NaN                 NaN   \n",
              "3               NaN                 Y                 NaN   \n",
              "4               NaN                 Y                 NaN   \n",
              "\n",
              "  MER_EMI_ACTIVE_MON_01 TRN_CON_DAE_ACTIVE_MON_01  STMT_CON_DAE_CLOSED_MON_01  \\\n",
              "0                   NaN                       NaN                         NaN   \n",
              "1                   NaN                       NaN                         NaN   \n",
              "2                   NaN                       NaN                         NaN   \n",
              "3                   NaN                       NaN                         NaN   \n",
              "4                     Y                       NaN                         NaN   \n",
              "\n",
              "  BTE_CLOSED_MON_01 COC_CLOSED_MON_01 PL2CC_CLOSED_MON_01  \\\n",
              "0               NaN               NaN                 NaN   \n",
              "1               NaN               NaN                 NaN   \n",
              "2               NaN               NaN                 NaN   \n",
              "3               NaN               NaN                 NaN   \n",
              "4               NaN                 Y                   Y   \n",
              "\n",
              "   MER_EMI_CLOSED_MON_01 TRN_CON_DAE_CLOSED_MON_01  EOP_BAL_MON_01  \\\n",
              "0                    NaN                       NaN            0.00   \n",
              "1                    NaN                       NaN           11.77   \n",
              "2                    NaN                       NaN        26458.25   \n",
              "3                    NaN                       NaN        65917.28   \n",
              "4                    NaN                         Y         6172.94   \n",
              "\n",
              "   AMB_MON_04  AMB_MON_01  AMB_MON_02  AMB_MON_03  NB_MON_01_CNT  \\\n",
              "0        0.00        0.00        0.00        0.00            NaN   \n",
              "1     1417.26      300.51      593.06      418.09            NaN   \n",
              "2     5354.65     6100.73     7955.82    11138.53            1.0   \n",
              "3   113120.39    35560.81    42686.93    61593.38            1.0   \n",
              "4     9099.94    15858.71    14008.08     4570.73            1.0   \n",
              "\n",
              "   NB_MON_02_CNT  NB_MON_03_CNT  CDMAT_MON_01  CDMAT_MON_04  MF_MON_04  \\\n",
              "0            NaN            NaN           NaN           NaN        NaN   \n",
              "1            NaN            NaN           NaN           NaN        NaN   \n",
              "2            1.0            NaN           NaN           NaN        NaN   \n",
              "3            1.0            1.0           NaN           NaN        NaN   \n",
              "4            NaN            1.0           NaN           NaN        NaN   \n",
              "\n",
              "   MF_MON_01  RD_MON_04  RD_MON_01  FD_MON_04  FD_MON_01  LI_MON_04  \\\n",
              "0        NaN        NaN        NaN        NaN        NaN        NaN   \n",
              "1        NaN        NaN        NaN        NaN        NaN        NaN   \n",
              "2        NaN        NaN        NaN        NaN        NaN        NaN   \n",
              "3        NaN        NaN        NaN        NaN        NaN        NaN   \n",
              "4        NaN        NaN        NaN        NaN        NaN        NaN   \n",
              "\n",
              "   LI_MON_01  GI_MON_04  GI_MON_01  CC_TXN_MON_01  CC_SPEND_MON_06  \\\n",
              "0        NaN        NaN        NaN            NaN              NaN   \n",
              "1        NaN        NaN        NaN            NaN              NaN   \n",
              "2        NaN        NaN        NaN            NaN              NaN   \n",
              "3        NaN        NaN        NaN            3.0         10935.00   \n",
              "4        NaN        NaN        NaN           11.0         15094.78   \n",
              "\n",
              "   CC_TXN_MON_06  CC_TXN_MON_03  CC_TXN_MON_02  CC_TXN_MON_04  \\\n",
              "0            NaN            NaN            NaN            NaN   \n",
              "1            NaN            NaN            NaN            NaN   \n",
              "2            NaN            NaN            NaN            NaN   \n",
              "3            5.0           15.0            NaN            9.0   \n",
              "4           21.0           16.0            7.0           16.0   \n",
              "\n",
              "   CC_SPEND_MON_05  CC_TXN_MON_05  DC_TXN_MON_04  DC_TXN_MON_01  \\\n",
              "0              NaN            NaN            NaN            NaN   \n",
              "1              NaN            NaN            8.0            5.0   \n",
              "2              NaN            NaN            2.0            NaN   \n",
              "3           803.00            4.0            2.0            6.0   \n",
              "4          8333.35           13.0            NaN            NaN   \n",
              "\n",
              "   DC_SPEND_MON_06  DC_TXN_MON_06  DC_SPEND_MON_05  DC_TXN_MON_05  \\\n",
              "0              NaN            NaN              NaN            NaN   \n",
              "1            504.0            7.0            631.0           13.0   \n",
              "2              NaN            NaN              NaN            NaN   \n",
              "3              NaN            NaN           1531.0            2.0   \n",
              "4              NaN            NaN            380.0            1.0   \n",
              "\n",
              "   DC_TXN_MON_03  DC_TXN_MON_02  DC_SPEND_MON_04_ENT  DC_SPEND_MON_04_MED  \\\n",
              "0            NaN            NaN                  NaN                  NaN   \n",
              "1           12.0            1.0                  NaN                  NaN   \n",
              "2            NaN            NaN                  NaN                  NaN   \n",
              "3            9.0           12.0                  NaN                  NaN   \n",
              "4            NaN            NaN                  NaN                  NaN   \n",
              "\n",
              "   DC_SPEND_MON_04_GRC  DC_SPEND_MON_04_HMD  DC_SPEND_MON_04_HBY  \\\n",
              "0                  NaN                  NaN                  NaN   \n",
              "1                  NaN                  NaN                  NaN   \n",
              "2                  NaN                  NaN                  NaN   \n",
              "3               1330.0                  NaN               5340.0   \n",
              "4                  NaN                  NaN                  NaN   \n",
              "\n",
              "   DC_SPEND_MON_04_CARE  DC_SPEND_MON_04_TRL  DC_SPEND_MON_04_RST  \\\n",
              "0                   NaN                  NaN                  NaN   \n",
              "1                   NaN                  NaN                  NaN   \n",
              "2                   NaN                  NaN                  NaN   \n",
              "3                   NaN                  NaN                  NaN   \n",
              "4                   NaN                  NaN                  NaN   \n",
              "\n",
              "   DC_SPEND_MON_04_JER  DC_SPEND_MON_04_HTL  DC_SPEND_MON_04_ATM  \\\n",
              "0                  NaN                  NaN                  NaN   \n",
              "1                  NaN                  NaN                  NaN   \n",
              "2                  NaN                  NaN                  NaN   \n",
              "3                  NaN                  NaN                  NaN   \n",
              "4                  NaN                  NaN                  NaN   \n",
              "\n",
              "   DC_SPEND_MON_03_ENT  DC_SPEND_MON_03_MED  DC_SPEND_MON_03_HMD  \\\n",
              "0                  NaN                  NaN                  NaN   \n",
              "1                  NaN                  NaN                  NaN   \n",
              "2                  NaN                  NaN                  NaN   \n",
              "3                  NaN                  NaN                  NaN   \n",
              "4                  NaN                  NaN                  NaN   \n",
              "\n",
              "   DC_SPEND_MON_03_HBY  DC_SPEND_MON_03_CARE  DC_SPEND_MON_03_TRL  \\\n",
              "0                  NaN                   NaN                  NaN   \n",
              "1                  NaN                   NaN                  NaN   \n",
              "2                  NaN                   NaN                  NaN   \n",
              "3                  NaN                2900.0                  NaN   \n",
              "4                  NaN                   NaN                  NaN   \n",
              "\n",
              "   DC_SPEND_MON_03_RST  DC_SPEND_MON_03_JER  DC_SPEND_MON_03_HTL  \\\n",
              "0                  NaN                  NaN                  NaN   \n",
              "1                  NaN                  NaN                  NaN   \n",
              "2                  NaN                  NaN                  NaN   \n",
              "3                  NaN                  NaN                  NaN   \n",
              "4                  NaN                  NaN                  NaN   \n",
              "\n",
              "   DC_SPEND_MON_03_ATM  DC_SPEND_MON_02_ENT  DC_SPEND_MON_02_MED  \\\n",
              "0                  NaN                  NaN                  NaN   \n",
              "1                  NaN                  NaN                  NaN   \n",
              "2                  NaN                  NaN                  NaN   \n",
              "3                  NaN                  NaN                  NaN   \n",
              "4                  NaN                  NaN                  NaN   \n",
              "\n",
              "   DC_SPEND_MON_02_HMD  DC_SPEND_MON_02_HBY  DC_SPEND_MON_02_CARE  \\\n",
              "0                  NaN                  NaN                   NaN   \n",
              "1                  NaN                  NaN                   NaN   \n",
              "2                  NaN                  NaN                   NaN   \n",
              "3                  NaN                  NaN                   NaN   \n",
              "4                  NaN                  NaN                   NaN   \n",
              "\n",
              "   DC_SPEND_MON_02_TRL  DC_SPEND_MON_02_RST  DC_SPEND_MON_02_JER  \\\n",
              "0                  NaN                  NaN                  NaN   \n",
              "1                  NaN                  NaN                  NaN   \n",
              "2                  NaN                  NaN                  NaN   \n",
              "3                  NaN                  NaN                  NaN   \n",
              "4                  NaN                  NaN                  NaN   \n",
              "\n",
              "   DC_SPEND_MON_02_HTL  DC_SPEND_MON_02_ATM  DC_SPEND_MON_01_ENT  \\\n",
              "0                  NaN                  NaN                  NaN   \n",
              "1                  NaN                  NaN                  NaN   \n",
              "2                  NaN                  NaN                  NaN   \n",
              "3                  NaN                  NaN                  NaN   \n",
              "4                  NaN                  NaN                  NaN   \n",
              "\n",
              "   DC_SPEND_MON_01_MED  DC_SPEND_MON_01_HMD  DC_SPEND_MON_01_HBY  \\\n",
              "0                  NaN                  NaN                  NaN   \n",
              "1                  NaN                  NaN                  NaN   \n",
              "2                  NaN                  NaN                  NaN   \n",
              "3               8790.0                  NaN                  NaN   \n",
              "4                  NaN                  NaN                  NaN   \n",
              "\n",
              "   DC_SPEND_MON_01_CARE  DC_SPEND_MON_01_TRL  DC_SPEND_MON_01_RST  \\\n",
              "0                   NaN                  NaN                  NaN   \n",
              "1                   NaN                  NaN                  NaN   \n",
              "2                   NaN                  NaN                  NaN   \n",
              "3                   NaN                  NaN                  NaN   \n",
              "4                   NaN                  NaN                  NaN   \n",
              "\n",
              "   DC_SPEND_MON_01_JER  DC_SPEND_MON_01_HTL  DC_SPEND_MON_01_ATM  \\\n",
              "0                  NaN                  NaN                  NaN   \n",
              "1                  NaN                  NaN                  NaN   \n",
              "2                  NaN                  NaN                  NaN   \n",
              "3                  NaN                  NaN                  NaN   \n",
              "4                  NaN                  NaN                  NaN   \n",
              "\n",
              "   DC_SPEND_MON_05_ENT  DC_SPEND_MON_05_MED  DC_SPEND_MON_05_HMD  \\\n",
              "0                  NaN                  NaN                  NaN   \n",
              "1                  NaN                  NaN                  NaN   \n",
              "2                  NaN                  NaN                  NaN   \n",
              "3                  NaN                  NaN                  NaN   \n",
              "4                  NaN                  NaN                  NaN   \n",
              "\n",
              "   DC_SPEND_MON_05_HBY  DC_SPEND_MON_05_CARE  DC_SPEND_MON_05_TRL  \\\n",
              "0                  NaN                   NaN                  NaN   \n",
              "1                  NaN                   NaN                  NaN   \n",
              "2                  NaN                   NaN                  NaN   \n",
              "3                  NaN                   NaN                  NaN   \n",
              "4                  NaN                   NaN                  NaN   \n",
              "\n",
              "   DC_SPEND_MON_05_RST  DC_SPEND_MON_05_JER  DC_SPEND_MON_05_HTL  \\\n",
              "0                  NaN                  NaN                  NaN   \n",
              "1                  NaN                  NaN                  NaN   \n",
              "2                  NaN                  NaN                  NaN   \n",
              "3                  NaN                  NaN                  NaN   \n",
              "4                380.0                  NaN                  NaN   \n",
              "\n",
              "   DC_SPEND_MON_05_ATM  CC_SPEND_MON_04_ENT  CC_SPEND_MON_04_MED  \\\n",
              "0                  NaN                  NaN                  NaN   \n",
              "1                  NaN                  NaN                  NaN   \n",
              "2                  NaN                  NaN                  NaN   \n",
              "3                  NaN                  NaN                  NaN   \n",
              "4                  NaN                  NaN                  NaN   \n",
              "\n",
              "   CC_SPEND_MON_04_HMD  CC_SPEND_MON_04_HBY  CC_SPEND_MON_04_CARE  \\\n",
              "0                  NaN                  NaN                   NaN   \n",
              "1                  NaN                  NaN                   NaN   \n",
              "2                  NaN                  NaN                   NaN   \n",
              "3                  NaN                  NaN                   NaN   \n",
              "4                  NaN               1199.0                   NaN   \n",
              "\n",
              "   CC_SPEND_MON_04_TRL  CC_SPEND_MON_04_RST  CC_SPEND_MON_04_JER  \\\n",
              "0                  NaN                  NaN                  NaN   \n",
              "1                  NaN                  NaN                  NaN   \n",
              "2                  NaN                  NaN                  NaN   \n",
              "3                  NaN                  NaN                  NaN   \n",
              "4                  NaN                  NaN                  NaN   \n",
              "\n",
              "   CC_SPEND_MON_04_HTL  CC_SPEND_MON_04_ATM  CC_SPEND_MON_02_ENT  \\\n",
              "0                  NaN                  NaN                  NaN   \n",
              "1                  NaN                  NaN                  NaN   \n",
              "2                  NaN                  NaN                  NaN   \n",
              "3                  NaN                  NaN                  NaN   \n",
              "4                  NaN                  NaN                  NaN   \n",
              "\n",
              "   CC_SPEND_MON_02_MED  CC_SPEND_MON_02_HMD  CC_SPEND_MON_02_HBY  \\\n",
              "0                  NaN                  NaN                  NaN   \n",
              "1                  NaN                  NaN                  NaN   \n",
              "2                  NaN                  NaN                  NaN   \n",
              "3                  NaN                  NaN                  NaN   \n",
              "4               7776.0                  NaN                  NaN   \n",
              "\n",
              "   CC_SPEND_MON_02_CARE  CC_SPEND_MON_02_TRL  CC_SPEND_MON_02_RST  \\\n",
              "0                   NaN                  NaN                  NaN   \n",
              "1                   NaN                  NaN                  NaN   \n",
              "2                   NaN                  NaN                  NaN   \n",
              "3                   NaN                  NaN                  NaN   \n",
              "4                   NaN                  NaN                  NaN   \n",
              "\n",
              "   CC_SPEND_MON_02_JER  CC_SPEND_MON_02_HTL  CC_SPEND_MON_02_ATM  \\\n",
              "0                  NaN                  NaN                  NaN   \n",
              "1                  NaN                  NaN                  NaN   \n",
              "2                  NaN                  NaN                  NaN   \n",
              "3                  NaN                  NaN                  NaN   \n",
              "4                  NaN                  NaN                  NaN   \n",
              "\n",
              "   CC_SPEND_MON_01_ENT  CC_SPEND_MON_01_MED  CC_SPEND_MON_01_HMD  \\\n",
              "0                  NaN                  NaN                  NaN   \n",
              "1                  NaN                  NaN                  NaN   \n",
              "2                  NaN                  NaN                  NaN   \n",
              "3                  NaN                  NaN                  NaN   \n",
              "4                  NaN                  NaN                  NaN   \n",
              "\n",
              "   CC_SPEND_MON_01_HBY  CC_SPEND_MON_01_CARE  CC_SPEND_MON_01_TRL  \\\n",
              "0                  NaN                   NaN                  NaN   \n",
              "1                  NaN                   NaN                  NaN   \n",
              "2                  NaN                   NaN                  NaN   \n",
              "3                  NaN                   NaN                  NaN   \n",
              "4                  NaN                   NaN                  NaN   \n",
              "\n",
              "   CC_SPEND_MON_01_RST  CC_SPEND_MON_01_JER  CC_SPEND_MON_01_HTL  \\\n",
              "0                  NaN                  NaN                  NaN   \n",
              "1                  NaN                  NaN                  NaN   \n",
              "2                  NaN                  NaN                  NaN   \n",
              "3                  NaN                  NaN                  NaN   \n",
              "4                  NaN                  NaN                  NaN   \n",
              "\n",
              "   CC_SPEND_MON_01_ATM FINANCE_MON_01 JOBS_MON_01 LIFESTYLE_MON_01  \\\n",
              "0                  NaN              N           N                N   \n",
              "1                  NaN              N           N                N   \n",
              "2                  NaN              N           N                N   \n",
              "3                  NaN              Y           N                N   \n",
              "4                  NaN              N           N                N   \n",
              "\n",
              "  INMON_01KET_MON_01 TRAVEL_MON_01 CHANNEL_CLICK_DISP DESIGNATION_FINAL  \\\n",
              "0                  N             N               NONE           MISSING   \n",
              "1                  N             N               NONE           MISSING   \n",
              "2                  N             Y               NONE           MISSING   \n",
              "3                  N             N               NONE           MISSING   \n",
              "4                  N             N               NONE          ENGINEER   \n",
              "\n",
              "  TOP14_CITY TOP9_CITY  PL2CC_ELIGIBLE  D_AMT_L3_MON_06  C_AMT_L3_MON_06  \\\n",
              "0          Y         Y               0            39.00              NaN   \n",
              "1          Y         Y               0         17250.00         17870.00   \n",
              "2          N         N               0         39362.25         39125.00   \n",
              "3          N         N               0        128169.25         20152.03   \n",
              "4          N         N               0         18668.96         24565.91   \n",
              "\n",
              "   C_COUNT_L3_MON_06  D_COUNT_L3_MON_06  MAX_C_AMT_L3_MON_06  D_AMT_L3_MON_05  \\\n",
              "0                0.0                1.0                  NaN              NaN   \n",
              "1                3.0               19.0               7957.0         12965.50   \n",
              "2                2.0                8.0              28171.0          2005.75   \n",
              "3                2.0               20.0              19840.0         52325.00   \n",
              "4                4.0                7.0              14000.0         26931.60   \n",
              "\n",
              "   C_AMT_L3_MON_05  C_COUNT_L3_MON_05  D_COUNT_L3_MON_05  MAX_C_AMT_L3_MON_05  \\\n",
              "0              NaN                NaN                NaN                  NaN   \n",
              "1          12336.5                6.0               21.0               8011.0   \n",
              "2          31261.0                3.0                2.0              16171.0   \n",
              "3          19840.0                1.0                8.0              19840.0   \n",
              "4          29500.0                3.0                7.0              21500.0   \n",
              "\n",
              "   D_AMT_L3_MON_04  C_AMT_L3_MON_04  C_COUNT_L3_MON_04  D_COUNT_L3_MON_04  \\\n",
              "0              NaN              NaN                NaN                NaN   \n",
              "1         23448.52          23457.0                4.0               12.0   \n",
              "2         29064.00          16197.0                2.0                3.0   \n",
              "3         69002.00          21526.0                2.0                9.0   \n",
              "4         13700.00           9264.0                4.0                1.0   \n",
              "\n",
              "   MAX_C_AMT_L3_MON_04  D_AMT_L3_MON_03  C_AMT_L3_MON_03  C_COUNT_L3_MON_03  \\\n",
              "0                  NaN              NaN              NaN                NaN   \n",
              "1              12000.0         17161.73         17154.75                6.0   \n",
              "2              16171.0          8727.25          7180.00                2.0   \n",
              "3              19840.0         75750.25         19605.00                1.0   \n",
              "4               5000.0          9817.25          6532.79                4.0   \n",
              "\n",
              "   D_COUNT_L3_MON_03  MAX_C_AMT_L3_MON_03  D_AMT_L3_MON_02  C_AMT_L3_MON_02  \\\n",
              "0                NaN                  NaN              NaN              NaN   \n",
              "1               20.0               8144.0          8720.00         11733.75   \n",
              "2                3.0               4680.0         36375.75         31516.00   \n",
              "3               18.0              19605.0         37712.17         15200.00   \n",
              "4                3.0               3580.0         37936.00         58018.00   \n",
              "\n",
              "   C_COUNT_L3_MON_02  D_COUNT_L3_MON_02  MAX_C_AMT_L3_MON_02  D_AMT_L3_MON_01  \\\n",
              "0                NaN                NaN                  NaN              NaN   \n",
              "1                4.0                3.0               7519.0         13763.00   \n",
              "2                2.0                4.0              16516.0         28520.75   \n",
              "3                1.0               17.0              15200.0         47158.82   \n",
              "4                4.0                5.0              29000.0         16200.00   \n",
              "\n",
              "   C_AMT_L3_MON_01  C_COUNT_L3_MON_01  D_COUNT_L3_MON_01  MAX_C_AMT_L3_MON_01  \\\n",
              "0              NaN                NaN                NaN                  NaN   \n",
              "1         10758.00                3.0                9.0               8240.0   \n",
              "2         44980.00                5.0                3.0              16516.0   \n",
              "3         85913.00                4.0               11.0              46500.0   \n",
              "4          1307.07                4.0                1.0                690.0   \n",
              "\n",
              "            PA_PQ_TAG  NEFT_CC_AMOUNT  NEFT_CC_TXN NEFT_CC_CATEGORY  \\\n",
              "0                 NaN             NaN          NaN      NO_NEFT_TXN   \n",
              "1                 NaN             NaN          NaN      NO_NEFT_TXN   \n",
              "2                 NaN             NaN          NaN      NO_NEFT_TXN   \n",
              "3                 NaN             NaN          NaN      NO_NEFT_TXN   \n",
              "4  PQ_WITH_INCOME_20K             NaN          NaN      NO_NEFT_TXN   \n",
              "\n",
              "   NEFT_DC_AMOUNT  NEFT_DC_TXN NEFT_DC_CATEGORY  TPT_DC_AMOUNT_MON_01  \\\n",
              "0             NaN          NaN      NO_NEFT_TXN                   NaN   \n",
              "1             NaN          NaN      NO_NEFT_TXN                   NaN   \n",
              "2         26515.0          1.0     NOT_RELEVANT                   NaN   \n",
              "3             NaN          NaN      NO_NEFT_TXN                   NaN   \n",
              "4             NaN          NaN      NO_NEFT_TXN                   NaN   \n",
              "\n",
              "   TPT_DC_TXN_MON_01 TPT_DC_CATEGORY_MON_01  TPT_CC_AMOUNT_MON_01  \\\n",
              "0                NaN             NO_TPT_TXN                   NaN   \n",
              "1                NaN             NO_TPT_TXN                   NaN   \n",
              "2                NaN             NO_TPT_TXN                   NaN   \n",
              "3                NaN             NO_TPT_TXN                   NaN   \n",
              "4                NaN             NO_TPT_TXN                   NaN   \n",
              "\n",
              "   TPT_CC_TXN_MON_01 TPT_CC_CATEGORY_MON_01  IMPS_CC_AMOUNT_MON_01  \\\n",
              "0                NaN             NO_TPT_TXN                    NaN   \n",
              "1                NaN             NO_TPT_TXN                    NaN   \n",
              "2                NaN             NO_TPT_TXN                    NaN   \n",
              "3                NaN             NO_TPT_TXN                    NaN   \n",
              "4                NaN             NO_TPT_TXN                  200.0   \n",
              "\n",
              "   IMPS_CC_TXN_MON_01 IMPS_CC_CATEGORY_MON_01 ZIP_CODE_FINAL LAST_3MTHS_INQ  \\\n",
              "0                 NaN             NO_IMPS_TXN       400606.0            NaN   \n",
              "1                 NaN             NO_IMPS_TXN       600045.0            NaN   \n",
              "2                 NaN             NO_IMPS_TXN         122001            NaN   \n",
              "3                 NaN             NO_IMPS_TXN       311408.0            NaN   \n",
              "4                 1.0            NOT_RELEVANT         122015            NaN   \n",
              "\n",
              "  PREV_3MTHS_INQ  CAR_MON_03  CDL_MON_03  GL_MON_03  LAA_MON_03  LFP_MON_03  \\\n",
              "0            NaN         NaN         NaN        NaN         NaN         NaN   \n",
              "1              Y         NaN         NaN        NaN         NaN         NaN   \n",
              "2            NaN         NaN         NaN        NaN         NaN         NaN   \n",
              "3            NaN         NaN         NaN        NaN         NaN         NaN   \n",
              "4            NaN         NaN         NaN        NaN         NaN         NaN   \n",
              "\n",
              "   TWL_MON_03  PL_MON_03  CAR_MON_02  CDL_MON_02  GL_MON_02  LAA_MON_02  \\\n",
              "0         NaN        NaN         NaN         NaN        NaN         NaN   \n",
              "1         NaN        NaN         NaN         NaN        NaN         NaN   \n",
              "2         NaN        NaN         NaN         NaN        NaN         NaN   \n",
              "3         NaN        NaN         NaN         NaN        NaN         NaN   \n",
              "4         NaN        NaN         NaN         NaN        NaN         NaN   \n",
              "\n",
              "   LFP_MON_02  TWL_MON_02  PL_MON_02  CAR_MON_01  CDL_MON_01  GL_MON_01  \\\n",
              "0         NaN         NaN        NaN         NaN         NaN        NaN   \n",
              "1         NaN         NaN        NaN         NaN         NaN        NaN   \n",
              "2         NaN         NaN        NaN         NaN         NaN        NaN   \n",
              "3         NaN         NaN        NaN         NaN         NaN        NaN   \n",
              "4         NaN         NaN        NaN         NaN         NaN        NaN   \n",
              "\n",
              "   LAA_MON_01  LFP_MON_01  TWL_MON_01  PL_MON_01 CLOSED_DATE  CRED_NEED_SCORE  \\\n",
              "0         NaN         NaN         NaN        NaN         NaN              NaN   \n",
              "1         NaN         NaN         NaN        NaN         NaN              NaN   \n",
              "2         NaN         NaN         NaN        NaN         NaN              NaN   \n",
              "3         NaN         NaN         NaN        NaN         NaN         0.247852   \n",
              "4         NaN         NaN         NaN        NaN         NaN              NaN   \n",
              "\n",
              "   CC_SPEND_MON_03_ENT  CC_SPEND_MON_03_MED  CC_SPEND_MON_03_HMD  \\\n",
              "0                  NaN                  NaN                  NaN   \n",
              "1                  NaN                  NaN                  NaN   \n",
              "2                  NaN                  NaN                  NaN   \n",
              "3                  NaN                  NaN               2558.0   \n",
              "4                  NaN                  NaN                  NaN   \n",
              "\n",
              "   CC_SPEND_MON_03_HBY  CC_SPEND_MON_03_CARE  CC_SPEND_MON_03_TRL  \\\n",
              "0                  NaN                   NaN                  NaN   \n",
              "1                  NaN                   NaN                  NaN   \n",
              "2                  NaN                   NaN                  NaN   \n",
              "3                  NaN                   NaN                  NaN   \n",
              "4                  NaN                   NaN                  NaN   \n",
              "\n",
              "   CC_SPEND_MON_03_RST  CC_SPEND_MON_03_JER  CC_SPEND_MON_03_HTL  \\\n",
              "0                  NaN                  NaN                  NaN   \n",
              "1                  NaN                  NaN                  NaN   \n",
              "2                  NaN                  NaN                  NaN   \n",
              "3                  NaN               8200.0                  NaN   \n",
              "4                  NaN                  NaN                  NaN   \n",
              "\n",
              "   CC_SPEND_MON_03_ATM CARD_AUTOMOBILE_MON_01 CARD_HOTEL_MON_01  \\\n",
              "0                  NaN                      N                 N   \n",
              "1                  NaN                      N                 N   \n",
              "2                  NaN                      N                 N   \n",
              "3                  NaN                      N                 N   \n",
              "4                  NaN                      N                 N   \n",
              "\n",
              "  CARD_JEWELLERY_MON_01 CARD_RESTAURANT_MON_01 CARD_TRAVEL_MON_01  \\\n",
              "0                     N                      N                  N   \n",
              "1                     N                      N                  N   \n",
              "2                     N                      N                  N   \n",
              "3                     Y                      N                  N   \n",
              "4                     N                      N                  N   \n",
              "\n",
              "  CARD_PRSNL_CARE_MON_01 CARD_HOBBY_MON_01 CARD_HOME_DECOR_MON_01  \\\n",
              "0                      N                 N                      N   \n",
              "1                      N                 N                      N   \n",
              "2                      N                 N                      N   \n",
              "3                      Y                 N                      Y   \n",
              "4                      N                 N                      N   \n",
              "\n",
              "  CARD_MEDICAL_MON_01 CARD_ENTMNT_MON_01  SAL_MON_01  SAL_MON_02  SAL_MON_03  \\\n",
              "0                   N                  N         0.0         0.0         0.0   \n",
              "1                   N                  N     10754.0      8733.0     17154.0   \n",
              "2                   N                  N         0.0         0.0         0.0   \n",
              "3                   Y                  N     38952.0     15200.0     19605.0   \n",
              "4                   Y                  N         0.0         0.0         0.0   \n",
              "\n",
              "  TOP_100_CORP TOP_800_CORP TOP_CORP_TAG  EOP_MON_02  EOP_MON_03 CREDIT_ACT  \\\n",
              "0          NaN          NaN         NONE        0.00        0.00        NaN   \n",
              "1          NaN          NaN         NONE     3016.77        3.02          Y   \n",
              "2          NaN          NaN         NONE     9999.00    14858.75          Y   \n",
              "3          NaN          NaN         NONE    27163.10    49675.27          Y   \n",
              "4          NaN          NaN         NONE    21065.87      983.87          Y   \n",
              "\n",
              "  DEBIT_ACT CEL_TAG EL_TAG AGL_TAG CVL_TAG AL_TAG  HL_EMI   SCRUB_EMI  \\\n",
              "0       NaN     NaN    NaN     NaN     NaN    NaN     NaN    0.000000   \n",
              "1         Y     NaN    NaN     NaN     NaN    NaN     NaN    0.000000   \n",
              "2         Y     NaN    NaN     NaN     NaN    NaN     NaN    0.000000   \n",
              "3         Y     NaN    NaN     NaN     NaN    NaN     NaN    0.000000   \n",
              "4         Y     NaN    NaN     NaN     NaN    NaN     NaN  251.758794   \n",
              "\n",
              "  RESPONDERS  \n",
              "0          N  \n",
              "1          N  \n",
              "2          N  \n",
              "3          N  \n",
              "4          N  "
            ]
          },
          "metadata": {
            "tags": []
          },
          "execution_count": 10
        }
      ]
    },
    {
      "cell_type": "code",
      "metadata": {
        "scrolled": false,
        "id": "5fN5uz1gv6RD",
        "colab_type": "code",
        "outputId": "8b414816-5070-4dd6-af26-76656f84ef52",
        "colab": {
          "base_uri": "https://localhost:8080/",
          "height": 1000
        }
      },
      "source": [
        "dataTrain.info(verbose=True,max_cols=333)"
      ],
      "execution_count": 11,
      "outputs": [
        {
          "output_type": "stream",
          "text": [
            "<class 'pandas.core.frame.DataFrame'>\n",
            "RangeIndex: 300000 entries, 0 to 299999\n",
            "Data columns (total 333 columns):\n",
            "CUSTOMER_ID                   300000 non-null int64\n",
            "ACT_TYPE                      300000 non-null object\n",
            "GENDER                        299913 non-null object\n",
            "LEGAL_ENTITY                  300000 non-null object\n",
            "OCCUP_ALL_NEW                 300000 non-null object\n",
            "AGE                           300000 non-null int64\n",
            "N_CASA_MAX_BALANCE_MTD        300000 non-null float64\n",
            "N_CASA_MIN_BALANCE_MTD        300000 non-null float64\n",
            "BL_TAG                        64 non-null object\n",
            "TWL_TAG                       4897 non-null object\n",
            "PL_TAG                        17802 non-null object\n",
            "AL_CNC_TAG                    577 non-null object\n",
            "AGRI_TAG                      18 non-null object\n",
            "CE_TAG                        1 non-null object\n",
            "CV_TAG                        18 non-null object\n",
            "EDU_TAG                       45 non-null object\n",
            "TL_TAG                        16 non-null object\n",
            "OTHER_LOANS_TAG               425 non-null object\n",
            "LAP_TAG                       63 non-null object\n",
            "LAS_TAG                       29 non-null object\n",
            "EEG_TAG                       0 non-null float64\n",
            "BBG_TAG                       2 non-null object\n",
            "HL_TAG                        2628 non-null object\n",
            "GL_TAG                        766 non-null object\n",
            "AL_CLOSED                     1255 non-null object\n",
            "PL_CLOSED                     7320 non-null object\n",
            "BL_CLOSED                     48 non-null object\n",
            "TWL_CLOSED                    2402 non-null object\n",
            "CV_CLOSED                     23 non-null object\n",
            "LAP_CLOSED                    69 non-null object\n",
            "LAS_CLOSED                    30 non-null object\n",
            "EEG_CLOSED                    0 non-null float64\n",
            "BBG_CLOSED                    2 non-null object\n",
            "GL_CLOSED                     1136 non-null object\n",
            "CC_HOLD_MON_03                70387 non-null object\n",
            "CC_HOLD_MON_02                70710 non-null object\n",
            "CC_HOLD_MON_01                71087 non-null object\n",
            "CC_ACTIVE_MON_03              42244 non-null object\n",
            "CC_ACTIVE_MON_02              41501 non-null object\n",
            "CC_ACTIVE_MON_01              43759 non-null object\n",
            "CC_HOLD                       300000 non-null object\n",
            "CC_ACTIVE                     300000 non-null object\n",
            "DC_HOLD                       300000 non-null object\n",
            "DC_ACTIVE_MON_03              97959 non-null object\n",
            "DC_ACTIVE_MON_02              90457 non-null object\n",
            "DC_ACTIVE_MON_01              92745 non-null object\n",
            "DC_ACTIVE                     300000 non-null object\n",
            "DC_SPEND_MON_03               54327 non-null float64\n",
            "DC_SPEND_MON_02               47578 non-null float64\n",
            "DC_SPEND_MON_01               47906 non-null float64\n",
            "CC_SPEND_MON_04               26156 non-null float64\n",
            "CC_SPEND_MON_01               25600 non-null float64\n",
            "CC_SPEND_MON_02               24222 non-null float64\n",
            "CC_SPEND_MON_03               26840 non-null float64\n",
            "DC_SPEND_MON_04               60651 non-null float64\n",
            "PM_FD_MON_01                  825 non-null float64\n",
            "PM_FD_MON_02                  0 non-null float64\n",
            "PM_FD_MON_04                  0 non-null float64\n",
            "CR_LIMIT                      83000 non-null float64\n",
            "STMT_MON_03                   83000 non-null float64\n",
            "STMT_MON_02                   83000 non-null float64\n",
            "STMT_MON_01                   83000 non-null float64\n",
            "COC_ELIGIBLE                  300000 non-null int64\n",
            "LAP_SCRUB_LIVE                2810 non-null float64\n",
            "LAS_SCRUB_LIVE                328 non-null float64\n",
            "PL_SCRUB_LIVE                 13299 non-null float64\n",
            "GL_SCRUB_LIVE                 5774 non-null float64\n",
            "TWL_SCRUB_LIVE                6922 non-null float64\n",
            "BL_SCRUB_LIVE                 736 non-null float64\n",
            "CEL_SCRUB_LIVE                15 non-null float64\n",
            "TL_SCRUB_LIVE                 214 non-null float64\n",
            "AL_SCRUB_LIVE                 9504 non-null float64\n",
            "LAP_SCRUB_CLOSED              1008 non-null float64\n",
            "LAS_SCRUB_CLOSED              414 non-null float64\n",
            "PL_SCRUB_CLOSED               13850 non-null float64\n",
            "GL_SCRUB_CLOSED               9259 non-null float64\n",
            "TWL_SCRUB_CLOSED              12665 non-null float64\n",
            "BL_SCRUB_CLOSED               473 non-null float64\n",
            "CEL_SCRUB_CLOSED              12 non-null float64\n",
            "TL_SCRUB_CLOSED               159 non-null float64\n",
            "AL_SCRUB_CLOSED               9240 non-null float64\n",
            "MATURITY_GL                   1102 non-null object\n",
            "MATURITY_LAP                  68 non-null object\n",
            "MATURITY_LAS                  31 non-null object\n",
            "STMT_CON_DAE_ACTIVE_MON_01    0 non-null float64\n",
            "BTE_ACTIVE_MON_01             3 non-null object\n",
            "COC_ACTIVE_MON_01             7320 non-null object\n",
            "PL2CC_ACTIVE_MON_01           4512 non-null object\n",
            "MER_EMI_ACTIVE_MON_01         12036 non-null object\n",
            "TRN_CON_DAE_ACTIVE_MON_01     13628 non-null object\n",
            "STMT_CON_DAE_CLOSED_MON_01    0 non-null float64\n",
            "BTE_CLOSED_MON_01             14 non-null object\n",
            "COC_CLOSED_MON_01             4987 non-null object\n",
            "PL2CC_CLOSED_MON_01           1288 non-null object\n",
            "MER_EMI_CLOSED_MON_01         0 non-null float64\n",
            "TRN_CON_DAE_CLOSED_MON_01     13722 non-null object\n",
            "EOP_BAL_MON_01                300000 non-null float64\n",
            "AMB_MON_04                    294378 non-null float64\n",
            "AMB_MON_01                    300000 non-null float64\n",
            "AMB_MON_02                    299008 non-null float64\n",
            "AMB_MON_03                    297222 non-null float64\n",
            "NB_MON_01_CNT                 115226 non-null float64\n",
            "NB_MON_02_CNT                 111357 non-null float64\n",
            "NB_MON_03_CNT                 112578 non-null float64\n",
            "CDMAT_MON_01                  4993 non-null float64\n",
            "CDMAT_MON_04                  4905 non-null float64\n",
            "MF_MON_04                     3654 non-null float64\n",
            "MF_MON_01                     3825 non-null float64\n",
            "RD_MON_04                     11293 non-null float64\n",
            "RD_MON_01                     11682 non-null float64\n",
            "FD_MON_04                     9570 non-null float64\n",
            "FD_MON_01                     9792 non-null float64\n",
            "LI_MON_04                     6682 non-null float64\n",
            "LI_MON_01                     7475 non-null float64\n",
            "GI_MON_04                     1301 non-null float64\n",
            "GI_MON_01                     1476 non-null float64\n",
            "CC_TXN_MON_01                 43759 non-null float64\n",
            "CC_SPEND_MON_06               37325 non-null float64\n",
            "CC_TXN_MON_06                 37325 non-null float64\n",
            "CC_TXN_MON_03                 42244 non-null float64\n",
            "CC_TXN_MON_02                 41501 non-null float64\n",
            "CC_TXN_MON_04                 40679 non-null float64\n",
            "CC_SPEND_MON_05               38208 non-null float64\n",
            "CC_TXN_MON_05                 38208 non-null float64\n",
            "DC_TXN_MON_04                 102283 non-null float64\n",
            "DC_TXN_MON_01                 92339 non-null float64\n",
            "DC_SPEND_MON_06               66935 non-null float64\n",
            "DC_TXN_MON_06                 66935 non-null float64\n",
            "DC_SPEND_MON_05               81522 non-null float64\n",
            "DC_TXN_MON_05                 81522 non-null float64\n",
            "DC_TXN_MON_03                 97484 non-null float64\n",
            "DC_TXN_MON_02                 90110 non-null float64\n",
            "DC_SPEND_MON_04_ENT           16541 non-null float64\n",
            "DC_SPEND_MON_04_MED           15278 non-null float64\n",
            "DC_SPEND_MON_04_GRC           31013 non-null float64\n",
            "DC_SPEND_MON_04_HMD           1768 non-null float64\n",
            "DC_SPEND_MON_04_HBY           7276 non-null float64\n",
            "DC_SPEND_MON_04_CARE          5571 non-null float64\n",
            "DC_SPEND_MON_04_TRL           6896 non-null float64\n",
            "DC_SPEND_MON_04_RST           34203 non-null float64\n",
            "DC_SPEND_MON_04_JER           4735 non-null float64\n",
            "DC_SPEND_MON_04_HTL           8918 non-null float64\n",
            "DC_SPEND_MON_04_ATM           4861 non-null float64\n",
            "DC_SPEND_MON_03_ENT           13832 non-null float64\n",
            "DC_SPEND_MON_03_MED           12801 non-null float64\n",
            "DC_SPEND_MON_03_HMD           1249 non-null float64\n",
            "DC_SPEND_MON_03_HBY           5180 non-null float64\n",
            "DC_SPEND_MON_03_CARE          4387 non-null float64\n",
            "DC_SPEND_MON_03_TRL           5977 non-null float64\n",
            "DC_SPEND_MON_03_RST           29293 non-null float64\n",
            "DC_SPEND_MON_03_JER           3778 non-null float64\n",
            "DC_SPEND_MON_03_HTL           7155 non-null float64\n",
            "DC_SPEND_MON_03_ATM           3360 non-null float64\n",
            "DC_SPEND_MON_02_ENT           11873 non-null float64\n",
            "DC_SPEND_MON_02_MED           10854 non-null float64\n",
            "DC_SPEND_MON_02_HMD           973 non-null float64\n",
            "DC_SPEND_MON_02_HBY           4808 non-null float64\n",
            "DC_SPEND_MON_02_CARE          4009 non-null float64\n",
            "DC_SPEND_MON_02_TRL           5408 non-null float64\n",
            "DC_SPEND_MON_02_RST           25811 non-null float64\n",
            "DC_SPEND_MON_02_JER           3352 non-null float64\n",
            "DC_SPEND_MON_02_HTL           6061 non-null float64\n",
            "DC_SPEND_MON_02_ATM           2668 non-null float64\n",
            "DC_SPEND_MON_01_ENT           13156 non-null float64\n",
            "DC_SPEND_MON_01_MED           11093 non-null float64\n",
            "DC_SPEND_MON_01_HMD           985 non-null float64\n",
            "DC_SPEND_MON_01_HBY           4575 non-null float64\n",
            "DC_SPEND_MON_01_CARE          4003 non-null float64\n",
            "DC_SPEND_MON_01_TRL           5651 non-null float64\n",
            "DC_SPEND_MON_01_RST           26673 non-null float64\n",
            "DC_SPEND_MON_01_JER           2867 non-null float64\n",
            "DC_SPEND_MON_01_HTL           6497 non-null float64\n",
            "DC_SPEND_MON_01_ATM           2734 non-null float64\n",
            "DC_SPEND_MON_05_ENT           11658 non-null float64\n",
            "DC_SPEND_MON_05_MED           10388 non-null float64\n",
            "DC_SPEND_MON_05_HMD           901 non-null float64\n",
            "DC_SPEND_MON_05_HBY           4299 non-null float64\n",
            "DC_SPEND_MON_05_CARE          3790 non-null float64\n",
            "DC_SPEND_MON_05_TRL           5487 non-null float64\n",
            "DC_SPEND_MON_05_RST           25832 non-null float64\n",
            "DC_SPEND_MON_05_JER           2810 non-null float64\n",
            "DC_SPEND_MON_05_HTL           6254 non-null float64\n",
            "DC_SPEND_MON_05_ATM           2640 non-null float64\n",
            "CC_SPEND_MON_04_ENT           7275 non-null float64\n",
            "CC_SPEND_MON_04_MED           6586 non-null float64\n",
            "CC_SPEND_MON_04_HMD           949 non-null float64\n",
            "CC_SPEND_MON_04_HBY           3806 non-null float64\n",
            "CC_SPEND_MON_04_CARE          1910 non-null float64\n",
            "CC_SPEND_MON_04_TRL           5575 non-null float64\n",
            "CC_SPEND_MON_04_RST           13703 non-null float64\n",
            "CC_SPEND_MON_04_JER           2107 non-null float64\n",
            "CC_SPEND_MON_04_HTL           4408 non-null float64\n",
            "CC_SPEND_MON_04_ATM           2445 non-null float64\n",
            "CC_SPEND_MON_02_ENT           6311 non-null float64\n",
            "CC_SPEND_MON_02_MED           5933 non-null float64\n",
            "CC_SPEND_MON_02_HMD           712 non-null float64\n",
            "CC_SPEND_MON_02_HBY           3008 non-null float64\n",
            "CC_SPEND_MON_02_CARE          1649 non-null float64\n",
            "CC_SPEND_MON_02_TRL           4521 non-null float64\n",
            "CC_SPEND_MON_02_RST           11845 non-null float64\n",
            "CC_SPEND_MON_02_JER           2055 non-null float64\n",
            "CC_SPEND_MON_02_HTL           3680 non-null float64\n",
            "CC_SPEND_MON_02_ATM           2057 non-null float64\n",
            "CC_SPEND_MON_01_ENT           7252 non-null float64\n",
            "CC_SPEND_MON_01_MED           6475 non-null float64\n",
            "CC_SPEND_MON_01_HMD           853 non-null float64\n",
            "CC_SPEND_MON_01_HBY           3089 non-null float64\n",
            "CC_SPEND_MON_01_CARE          1751 non-null float64\n",
            "CC_SPEND_MON_01_TRL           5364 non-null float64\n",
            "CC_SPEND_MON_01_RST           13077 non-null float64\n",
            "CC_SPEND_MON_01_JER           1946 non-null float64\n",
            "CC_SPEND_MON_01_HTL           4163 non-null float64\n",
            "CC_SPEND_MON_01_ATM           2263 non-null float64\n",
            "FINANCE_MON_01                300000 non-null object\n",
            "JOBS_MON_01                   300000 non-null object\n",
            "LIFESTYLE_MON_01              300000 non-null object\n",
            "INMON_01KET_MON_01            300000 non-null object\n",
            "TRAVEL_MON_01                 300000 non-null object\n",
            "CHANNEL_CLICK_DISP            300000 non-null object\n",
            "DESIGNATION_FINAL             300000 non-null object\n",
            "TOP14_CITY                    300000 non-null object\n",
            "TOP9_CITY                     300000 non-null object\n",
            "PL2CC_ELIGIBLE                300000 non-null int64\n",
            "D_AMT_L3_MON_06               189520 non-null float64\n",
            "C_AMT_L3_MON_06               160575 non-null float64\n",
            "C_COUNT_L3_MON_06             194043 non-null float64\n",
            "D_COUNT_L3_MON_06             194043 non-null float64\n",
            "MAX_C_AMT_L3_MON_06           160575 non-null float64\n",
            "D_AMT_L3_MON_05               170582 non-null float64\n",
            "C_AMT_L3_MON_05               158923 non-null float64\n",
            "C_COUNT_L3_MON_05             180189 non-null float64\n",
            "D_COUNT_L3_MON_05             180189 non-null float64\n",
            "MAX_C_AMT_L3_MON_05           158923 non-null float64\n",
            "D_AMT_L3_MON_04               176119 non-null float64\n",
            "C_AMT_L3_MON_04               214286 non-null float64\n",
            "C_COUNT_L3_MON_04             215344 non-null float64\n",
            "D_COUNT_L3_MON_04             215344 non-null float64\n",
            "MAX_C_AMT_L3_MON_04           214286 non-null float64\n",
            "D_AMT_L3_MON_03               195802 non-null float64\n",
            "C_AMT_L3_MON_03               164584 non-null float64\n",
            "C_COUNT_L3_MON_03             200536 non-null float64\n",
            "D_COUNT_L3_MON_03             200536 non-null float64\n",
            "MAX_C_AMT_L3_MON_03           164584 non-null float64\n",
            "D_AMT_L3_MON_02               177054 non-null float64\n",
            "C_AMT_L3_MON_02               166557 non-null float64\n",
            "C_COUNT_L3_MON_02             185415 non-null float64\n",
            "D_COUNT_L3_MON_02             185415 non-null float64\n",
            "MAX_C_AMT_L3_MON_02           166557 non-null float64\n",
            "D_AMT_L3_MON_01               181846 non-null float64\n",
            "C_AMT_L3_MON_01               221241 non-null float64\n",
            "C_COUNT_L3_MON_01             222054 non-null float64\n",
            "D_COUNT_L3_MON_01             222054 non-null float64\n",
            "MAX_C_AMT_L3_MON_01           221241 non-null float64\n",
            "PA_PQ_TAG                     129185 non-null object\n",
            "NEFT_CC_AMOUNT                44892 non-null float64\n",
            "NEFT_CC_TXN                   44892 non-null float64\n",
            "NEFT_CC_CATEGORY              300000 non-null object\n",
            "NEFT_DC_AMOUNT                33960 non-null float64\n",
            "NEFT_DC_TXN                   33960 non-null float64\n",
            "NEFT_DC_CATEGORY              300000 non-null object\n",
            "TPT_DC_AMOUNT_MON_01          21155 non-null float64\n",
            "TPT_DC_TXN_MON_01             21155 non-null float64\n",
            "TPT_DC_CATEGORY_MON_01        300000 non-null object\n",
            "TPT_CC_AMOUNT_MON_01          22577 non-null float64\n",
            "TPT_CC_TXN_MON_01             22577 non-null float64\n",
            "TPT_CC_CATEGORY_MON_01        300000 non-null object\n",
            "IMPS_CC_AMOUNT_MON_01         29905 non-null float64\n",
            "IMPS_CC_TXN_MON_01            29905 non-null float64\n",
            "IMPS_CC_CATEGORY_MON_01       300000 non-null object\n",
            "ZIP_CODE_FINAL                297853 non-null object\n",
            "LAST_3MTHS_INQ                1023 non-null object\n",
            "PREV_3MTHS_INQ                2050 non-null object\n",
            "CAR_MON_03                    919 non-null float64\n",
            "CDL_MON_03                    335 non-null float64\n",
            "GL_MON_03                     403 non-null float64\n",
            "LAA_MON_03                    353 non-null float64\n",
            "LFP_MON_03                    327 non-null float64\n",
            "TWL_MON_03                    733 non-null float64\n",
            "PL_MON_03                     1635 non-null float64\n",
            "CAR_MON_02                    789 non-null float64\n",
            "CDL_MON_02                    376 non-null float64\n",
            "GL_MON_02                     451 non-null float64\n",
            "LAA_MON_02                    393 non-null float64\n",
            "LFP_MON_02                    378 non-null float64\n",
            "TWL_MON_02                    700 non-null float64\n",
            "PL_MON_02                     1549 non-null float64\n",
            "CAR_MON_01                    854 non-null float64\n",
            "CDL_MON_01                    351 non-null float64\n",
            "GL_MON_01                     426 non-null float64\n",
            "LAA_MON_01                    408 non-null float64\n",
            "LFP_MON_01                    345 non-null float64\n",
            "TWL_MON_01                    726 non-null float64\n",
            "PL_MON_01                     1663 non-null float64\n",
            "CLOSED_DATE                   13093 non-null object\n",
            "CRED_NEED_SCORE               35380 non-null float64\n",
            "CC_SPEND_MON_03_ENT           7342 non-null float64\n",
            "CC_SPEND_MON_03_MED           6471 non-null float64\n",
            "CC_SPEND_MON_03_HMD           883 non-null float64\n",
            "CC_SPEND_MON_03_HBY           3497 non-null float64\n",
            "CC_SPEND_MON_03_CARE          1835 non-null float64\n",
            "CC_SPEND_MON_03_TRL           5240 non-null float64\n",
            "CC_SPEND_MON_03_RST           13609 non-null float64\n",
            "CC_SPEND_MON_03_JER           2262 non-null float64\n",
            "CC_SPEND_MON_03_HTL           4189 non-null float64\n",
            "CC_SPEND_MON_03_ATM           2345 non-null float64\n",
            "CARD_AUTOMOBILE_MON_01        300000 non-null object\n",
            "CARD_HOTEL_MON_01             300000 non-null object\n",
            "CARD_JEWELLERY_MON_01         300000 non-null object\n",
            "CARD_RESTAURANT_MON_01        300000 non-null object\n",
            "CARD_TRAVEL_MON_01            300000 non-null object\n",
            "CARD_PRSNL_CARE_MON_01        300000 non-null object\n",
            "CARD_HOBBY_MON_01             300000 non-null object\n",
            "CARD_HOME_DECOR_MON_01        300000 non-null object\n",
            "CARD_MEDICAL_MON_01           300000 non-null object\n",
            "CARD_ENTMNT_MON_01            300000 non-null object\n",
            "SAL_MON_01                    206154 non-null float64\n",
            "SAL_MON_02                    202731 non-null float64\n",
            "SAL_MON_03                    199378 non-null float64\n",
            "TOP_100_CORP                  23510 non-null object\n",
            "TOP_800_CORP                  22041 non-null object\n",
            "TOP_CORP_TAG                  300000 non-null object\n",
            "EOP_MON_02                    299011 non-null float64\n",
            "EOP_MON_03                    297232 non-null float64\n",
            "CREDIT_ACT                    179471 non-null object\n",
            "DEBIT_ACT                     184487 non-null object\n",
            "CEL_TAG                       2 non-null object\n",
            "EL_TAG                        42 non-null object\n",
            "AGL_TAG                       18 non-null object\n",
            "CVL_TAG                       6 non-null object\n",
            "AL_TAG                        3379 non-null object\n",
            "HL_EMI                        1748 non-null float64\n",
            "SCRUB_EMI                     300000 non-null float64\n",
            "RESPONDERS                    300000 non-null object\n",
            "dtypes: float64(236), int64(4), object(93)\n",
            "memory usage: 762.2+ MB\n"
          ],
          "name": "stdout"
        }
      ]
    },
    {
      "cell_type": "code",
      "metadata": {
        "id": "disIQIrGv6RJ",
        "colab_type": "code",
        "colab": {}
      },
      "source": [
        "# Selecting Only Columns Having Atleast 75% NonNull Values\n",
        "newData = dataTrain.dropna(axis=1,thresh=225000)"
      ],
      "execution_count": 0,
      "outputs": []
    },
    {
      "cell_type": "code",
      "metadata": {
        "id": "xVlmojOEv6RV",
        "colab_type": "code",
        "outputId": "a762a4de-e275-4b6b-f5a2-5bc200d5d0f0",
        "colab": {
          "base_uri": "https://localhost:8080/",
          "height": 935
        }
      },
      "source": [
        "newData.info(verbose=True,max_cols=len(newData.columns))"
      ],
      "execution_count": 13,
      "outputs": [
        {
          "output_type": "stream",
          "text": [
            "<class 'pandas.core.frame.DataFrame'>\n",
            "RangeIndex: 300000 entries, 0 to 299999\n",
            "Data columns (total 49 columns):\n",
            "CUSTOMER_ID                300000 non-null int64\n",
            "ACT_TYPE                   300000 non-null object\n",
            "GENDER                     299913 non-null object\n",
            "LEGAL_ENTITY               300000 non-null object\n",
            "OCCUP_ALL_NEW              300000 non-null object\n",
            "AGE                        300000 non-null int64\n",
            "N_CASA_MAX_BALANCE_MTD     300000 non-null float64\n",
            "N_CASA_MIN_BALANCE_MTD     300000 non-null float64\n",
            "CC_HOLD                    300000 non-null object\n",
            "CC_ACTIVE                  300000 non-null object\n",
            "DC_HOLD                    300000 non-null object\n",
            "DC_ACTIVE                  300000 non-null object\n",
            "COC_ELIGIBLE               300000 non-null int64\n",
            "EOP_BAL_MON_01             300000 non-null float64\n",
            "AMB_MON_04                 294378 non-null float64\n",
            "AMB_MON_01                 300000 non-null float64\n",
            "AMB_MON_02                 299008 non-null float64\n",
            "AMB_MON_03                 297222 non-null float64\n",
            "FINANCE_MON_01             300000 non-null object\n",
            "JOBS_MON_01                300000 non-null object\n",
            "LIFESTYLE_MON_01           300000 non-null object\n",
            "INMON_01KET_MON_01         300000 non-null object\n",
            "TRAVEL_MON_01              300000 non-null object\n",
            "CHANNEL_CLICK_DISP         300000 non-null object\n",
            "DESIGNATION_FINAL          300000 non-null object\n",
            "TOP14_CITY                 300000 non-null object\n",
            "TOP9_CITY                  300000 non-null object\n",
            "PL2CC_ELIGIBLE             300000 non-null int64\n",
            "NEFT_CC_CATEGORY           300000 non-null object\n",
            "NEFT_DC_CATEGORY           300000 non-null object\n",
            "TPT_DC_CATEGORY_MON_01     300000 non-null object\n",
            "TPT_CC_CATEGORY_MON_01     300000 non-null object\n",
            "IMPS_CC_CATEGORY_MON_01    300000 non-null object\n",
            "ZIP_CODE_FINAL             297853 non-null object\n",
            "CARD_AUTOMOBILE_MON_01     300000 non-null object\n",
            "CARD_HOTEL_MON_01          300000 non-null object\n",
            "CARD_JEWELLERY_MON_01      300000 non-null object\n",
            "CARD_RESTAURANT_MON_01     300000 non-null object\n",
            "CARD_TRAVEL_MON_01         300000 non-null object\n",
            "CARD_PRSNL_CARE_MON_01     300000 non-null object\n",
            "CARD_HOBBY_MON_01          300000 non-null object\n",
            "CARD_HOME_DECOR_MON_01     300000 non-null object\n",
            "CARD_MEDICAL_MON_01        300000 non-null object\n",
            "CARD_ENTMNT_MON_01         300000 non-null object\n",
            "TOP_CORP_TAG               300000 non-null object\n",
            "EOP_MON_02                 299011 non-null float64\n",
            "EOP_MON_03                 297232 non-null float64\n",
            "SCRUB_EMI                  300000 non-null float64\n",
            "RESPONDERS                 300000 non-null object\n",
            "dtypes: float64(10), int64(4), object(35)\n",
            "memory usage: 112.2+ MB\n"
          ],
          "name": "stdout"
        }
      ]
    },
    {
      "cell_type": "code",
      "metadata": {
        "id": "bYZEPF7Xv6Ra",
        "colab_type": "code",
        "outputId": "60f4949b-2596-4c95-e84a-6f1d4a42b09c",
        "colab": {
          "base_uri": "https://localhost:8080/",
          "height": 534
        }
      },
      "source": [
        "newData.head(15)"
      ],
      "execution_count": 14,
      "outputs": [
        {
          "output_type": "execute_result",
          "data": {
            "text/html": [
              "<div>\n",
              "<style scoped>\n",
              "    .dataframe tbody tr th:only-of-type {\n",
              "        vertical-align: middle;\n",
              "    }\n",
              "\n",
              "    .dataframe tbody tr th {\n",
              "        vertical-align: top;\n",
              "    }\n",
              "\n",
              "    .dataframe thead th {\n",
              "        text-align: right;\n",
              "    }\n",
              "</style>\n",
              "<table border=\"1\" class=\"dataframe\">\n",
              "  <thead>\n",
              "    <tr style=\"text-align: right;\">\n",
              "      <th></th>\n",
              "      <th>CUSTOMER_ID</th>\n",
              "      <th>ACT_TYPE</th>\n",
              "      <th>GENDER</th>\n",
              "      <th>LEGAL_ENTITY</th>\n",
              "      <th>OCCUP_ALL_NEW</th>\n",
              "      <th>AGE</th>\n",
              "      <th>N_CASA_MAX_BALANCE_MTD</th>\n",
              "      <th>N_CASA_MIN_BALANCE_MTD</th>\n",
              "      <th>CC_HOLD</th>\n",
              "      <th>CC_ACTIVE</th>\n",
              "      <th>DC_HOLD</th>\n",
              "      <th>DC_ACTIVE</th>\n",
              "      <th>COC_ELIGIBLE</th>\n",
              "      <th>EOP_BAL_MON_01</th>\n",
              "      <th>AMB_MON_04</th>\n",
              "      <th>AMB_MON_01</th>\n",
              "      <th>AMB_MON_02</th>\n",
              "      <th>AMB_MON_03</th>\n",
              "      <th>FINANCE_MON_01</th>\n",
              "      <th>JOBS_MON_01</th>\n",
              "      <th>LIFESTYLE_MON_01</th>\n",
              "      <th>INMON_01KET_MON_01</th>\n",
              "      <th>TRAVEL_MON_01</th>\n",
              "      <th>CHANNEL_CLICK_DISP</th>\n",
              "      <th>DESIGNATION_FINAL</th>\n",
              "      <th>TOP14_CITY</th>\n",
              "      <th>TOP9_CITY</th>\n",
              "      <th>PL2CC_ELIGIBLE</th>\n",
              "      <th>NEFT_CC_CATEGORY</th>\n",
              "      <th>NEFT_DC_CATEGORY</th>\n",
              "      <th>TPT_DC_CATEGORY_MON_01</th>\n",
              "      <th>TPT_CC_CATEGORY_MON_01</th>\n",
              "      <th>IMPS_CC_CATEGORY_MON_01</th>\n",
              "      <th>ZIP_CODE_FINAL</th>\n",
              "      <th>CARD_AUTOMOBILE_MON_01</th>\n",
              "      <th>CARD_HOTEL_MON_01</th>\n",
              "      <th>CARD_JEWELLERY_MON_01</th>\n",
              "      <th>CARD_RESTAURANT_MON_01</th>\n",
              "      <th>CARD_TRAVEL_MON_01</th>\n",
              "      <th>CARD_PRSNL_CARE_MON_01</th>\n",
              "      <th>CARD_HOBBY_MON_01</th>\n",
              "      <th>CARD_HOME_DECOR_MON_01</th>\n",
              "      <th>CARD_MEDICAL_MON_01</th>\n",
              "      <th>CARD_ENTMNT_MON_01</th>\n",
              "      <th>TOP_CORP_TAG</th>\n",
              "      <th>EOP_MON_02</th>\n",
              "      <th>EOP_MON_03</th>\n",
              "      <th>SCRUB_EMI</th>\n",
              "      <th>RESPONDERS</th>\n",
              "    </tr>\n",
              "  </thead>\n",
              "  <tbody>\n",
              "    <tr>\n",
              "      <th>0</th>\n",
              "      <td>385793</td>\n",
              "      <td>CSA</td>\n",
              "      <td>M</td>\n",
              "      <td>INDIVIDUAL</td>\n",
              "      <td>SALARIED</td>\n",
              "      <td>21</td>\n",
              "      <td>0.00</td>\n",
              "      <td>0.00</td>\n",
              "      <td>N</td>\n",
              "      <td>N</td>\n",
              "      <td>Y</td>\n",
              "      <td>N</td>\n",
              "      <td>0</td>\n",
              "      <td>0.00</td>\n",
              "      <td>0.00</td>\n",
              "      <td>0.00</td>\n",
              "      <td>0.00</td>\n",
              "      <td>0.00</td>\n",
              "      <td>N</td>\n",
              "      <td>N</td>\n",
              "      <td>N</td>\n",
              "      <td>N</td>\n",
              "      <td>N</td>\n",
              "      <td>NONE</td>\n",
              "      <td>MISSING</td>\n",
              "      <td>Y</td>\n",
              "      <td>Y</td>\n",
              "      <td>0</td>\n",
              "      <td>NO_NEFT_TXN</td>\n",
              "      <td>NO_NEFT_TXN</td>\n",
              "      <td>NO_TPT_TXN</td>\n",
              "      <td>NO_TPT_TXN</td>\n",
              "      <td>NO_IMPS_TXN</td>\n",
              "      <td>400606.0</td>\n",
              "      <td>N</td>\n",
              "      <td>N</td>\n",
              "      <td>N</td>\n",
              "      <td>N</td>\n",
              "      <td>N</td>\n",
              "      <td>N</td>\n",
              "      <td>N</td>\n",
              "      <td>N</td>\n",
              "      <td>N</td>\n",
              "      <td>N</td>\n",
              "      <td>NONE</td>\n",
              "      <td>0.00</td>\n",
              "      <td>0.00</td>\n",
              "      <td>0.000000</td>\n",
              "      <td>N</td>\n",
              "    </tr>\n",
              "    <tr>\n",
              "      <th>1</th>\n",
              "      <td>286891</td>\n",
              "      <td>CSA</td>\n",
              "      <td>M</td>\n",
              "      <td>INDIVIDUAL</td>\n",
              "      <td>SALARIED</td>\n",
              "      <td>23</td>\n",
              "      <td>8243.77</td>\n",
              "      <td>7.77</td>\n",
              "      <td>N</td>\n",
              "      <td>N</td>\n",
              "      <td>Y</td>\n",
              "      <td>Y</td>\n",
              "      <td>0</td>\n",
              "      <td>11.77</td>\n",
              "      <td>1417.26</td>\n",
              "      <td>300.51</td>\n",
              "      <td>593.06</td>\n",
              "      <td>418.09</td>\n",
              "      <td>N</td>\n",
              "      <td>N</td>\n",
              "      <td>N</td>\n",
              "      <td>N</td>\n",
              "      <td>N</td>\n",
              "      <td>NONE</td>\n",
              "      <td>MISSING</td>\n",
              "      <td>Y</td>\n",
              "      <td>Y</td>\n",
              "      <td>0</td>\n",
              "      <td>NO_NEFT_TXN</td>\n",
              "      <td>NO_NEFT_TXN</td>\n",
              "      <td>NO_TPT_TXN</td>\n",
              "      <td>NO_TPT_TXN</td>\n",
              "      <td>NO_IMPS_TXN</td>\n",
              "      <td>600045.0</td>\n",
              "      <td>N</td>\n",
              "      <td>N</td>\n",
              "      <td>N</td>\n",
              "      <td>N</td>\n",
              "      <td>N</td>\n",
              "      <td>N</td>\n",
              "      <td>N</td>\n",
              "      <td>N</td>\n",
              "      <td>N</td>\n",
              "      <td>N</td>\n",
              "      <td>NONE</td>\n",
              "      <td>3016.77</td>\n",
              "      <td>3.02</td>\n",
              "      <td>0.000000</td>\n",
              "      <td>N</td>\n",
              "    </tr>\n",
              "    <tr>\n",
              "      <th>2</th>\n",
              "      <td>108751</td>\n",
              "      <td>CSA</td>\n",
              "      <td>M</td>\n",
              "      <td>INDIVIDUAL</td>\n",
              "      <td>SALARIED</td>\n",
              "      <td>41</td>\n",
              "      <td>26515.00</td>\n",
              "      <td>0.00</td>\n",
              "      <td>N</td>\n",
              "      <td>N</td>\n",
              "      <td>Y</td>\n",
              "      <td>N</td>\n",
              "      <td>0</td>\n",
              "      <td>26458.25</td>\n",
              "      <td>5354.65</td>\n",
              "      <td>6100.73</td>\n",
              "      <td>7955.82</td>\n",
              "      <td>11138.53</td>\n",
              "      <td>N</td>\n",
              "      <td>N</td>\n",
              "      <td>N</td>\n",
              "      <td>N</td>\n",
              "      <td>Y</td>\n",
              "      <td>NONE</td>\n",
              "      <td>MISSING</td>\n",
              "      <td>N</td>\n",
              "      <td>N</td>\n",
              "      <td>0</td>\n",
              "      <td>NO_NEFT_TXN</td>\n",
              "      <td>NOT_RELEVANT</td>\n",
              "      <td>NO_TPT_TXN</td>\n",
              "      <td>NO_TPT_TXN</td>\n",
              "      <td>NO_IMPS_TXN</td>\n",
              "      <td>122001</td>\n",
              "      <td>N</td>\n",
              "      <td>N</td>\n",
              "      <td>N</td>\n",
              "      <td>N</td>\n",
              "      <td>N</td>\n",
              "      <td>N</td>\n",
              "      <td>N</td>\n",
              "      <td>N</td>\n",
              "      <td>N</td>\n",
              "      <td>N</td>\n",
              "      <td>NONE</td>\n",
              "      <td>9999.00</td>\n",
              "      <td>14858.75</td>\n",
              "      <td>0.000000</td>\n",
              "      <td>N</td>\n",
              "    </tr>\n",
              "    <tr>\n",
              "      <th>3</th>\n",
              "      <td>278651</td>\n",
              "      <td>CSA</td>\n",
              "      <td>M</td>\n",
              "      <td>INDIVIDUAL</td>\n",
              "      <td>SALARIED</td>\n",
              "      <td>28</td>\n",
              "      <td>65917.28</td>\n",
              "      <td>8270.28</td>\n",
              "      <td>Y</td>\n",
              "      <td>Y</td>\n",
              "      <td>Y</td>\n",
              "      <td>Y</td>\n",
              "      <td>1</td>\n",
              "      <td>65917.28</td>\n",
              "      <td>113120.39</td>\n",
              "      <td>35560.81</td>\n",
              "      <td>42686.93</td>\n",
              "      <td>61593.38</td>\n",
              "      <td>Y</td>\n",
              "      <td>N</td>\n",
              "      <td>N</td>\n",
              "      <td>N</td>\n",
              "      <td>N</td>\n",
              "      <td>NONE</td>\n",
              "      <td>MISSING</td>\n",
              "      <td>N</td>\n",
              "      <td>N</td>\n",
              "      <td>0</td>\n",
              "      <td>NO_NEFT_TXN</td>\n",
              "      <td>NO_NEFT_TXN</td>\n",
              "      <td>NO_TPT_TXN</td>\n",
              "      <td>NO_TPT_TXN</td>\n",
              "      <td>NO_IMPS_TXN</td>\n",
              "      <td>311408.0</td>\n",
              "      <td>N</td>\n",
              "      <td>N</td>\n",
              "      <td>Y</td>\n",
              "      <td>N</td>\n",
              "      <td>N</td>\n",
              "      <td>Y</td>\n",
              "      <td>N</td>\n",
              "      <td>Y</td>\n",
              "      <td>Y</td>\n",
              "      <td>N</td>\n",
              "      <td>NONE</td>\n",
              "      <td>27163.10</td>\n",
              "      <td>49675.27</td>\n",
              "      <td>0.000000</td>\n",
              "      <td>N</td>\n",
              "    </tr>\n",
              "    <tr>\n",
              "      <th>4</th>\n",
              "      <td>23637</td>\n",
              "      <td>CSA</td>\n",
              "      <td>M</td>\n",
              "      <td>INDIVIDUAL</td>\n",
              "      <td>SALARIED</td>\n",
              "      <td>34</td>\n",
              "      <td>22260.94</td>\n",
              "      <td>6060.94</td>\n",
              "      <td>Y</td>\n",
              "      <td>Y</td>\n",
              "      <td>Y</td>\n",
              "      <td>N</td>\n",
              "      <td>0</td>\n",
              "      <td>6172.94</td>\n",
              "      <td>9099.94</td>\n",
              "      <td>15858.71</td>\n",
              "      <td>14008.08</td>\n",
              "      <td>4570.73</td>\n",
              "      <td>N</td>\n",
              "      <td>N</td>\n",
              "      <td>N</td>\n",
              "      <td>N</td>\n",
              "      <td>N</td>\n",
              "      <td>NONE</td>\n",
              "      <td>ENGINEER</td>\n",
              "      <td>N</td>\n",
              "      <td>N</td>\n",
              "      <td>0</td>\n",
              "      <td>NO_NEFT_TXN</td>\n",
              "      <td>NO_NEFT_TXN</td>\n",
              "      <td>NO_TPT_TXN</td>\n",
              "      <td>NO_TPT_TXN</td>\n",
              "      <td>NOT_RELEVANT</td>\n",
              "      <td>122015</td>\n",
              "      <td>N</td>\n",
              "      <td>N</td>\n",
              "      <td>N</td>\n",
              "      <td>N</td>\n",
              "      <td>N</td>\n",
              "      <td>N</td>\n",
              "      <td>N</td>\n",
              "      <td>N</td>\n",
              "      <td>Y</td>\n",
              "      <td>N</td>\n",
              "      <td>NONE</td>\n",
              "      <td>21065.87</td>\n",
              "      <td>983.87</td>\n",
              "      <td>251.758794</td>\n",
              "      <td>N</td>\n",
              "    </tr>\n",
              "    <tr>\n",
              "      <th>5</th>\n",
              "      <td>130723</td>\n",
              "      <td>CSA</td>\n",
              "      <td>M</td>\n",
              "      <td>INDIVIDUAL</td>\n",
              "      <td>SALARIED</td>\n",
              "      <td>34</td>\n",
              "      <td>450.56</td>\n",
              "      <td>0.00</td>\n",
              "      <td>N</td>\n",
              "      <td>N</td>\n",
              "      <td>Y</td>\n",
              "      <td>N</td>\n",
              "      <td>0</td>\n",
              "      <td>2.00</td>\n",
              "      <td>835.73</td>\n",
              "      <td>97.46</td>\n",
              "      <td>531.66</td>\n",
              "      <td>57.83</td>\n",
              "      <td>N</td>\n",
              "      <td>N</td>\n",
              "      <td>N</td>\n",
              "      <td>N</td>\n",
              "      <td>N</td>\n",
              "      <td>NONE</td>\n",
              "      <td>MISSING</td>\n",
              "      <td>N</td>\n",
              "      <td>N</td>\n",
              "      <td>0</td>\n",
              "      <td>NO_NEFT_TXN</td>\n",
              "      <td>NO_NEFT_TXN</td>\n",
              "      <td>NO_TPT_TXN</td>\n",
              "      <td>NO_TPT_TXN</td>\n",
              "      <td>NO_IMPS_TXN</td>\n",
              "      <td>360002.0</td>\n",
              "      <td>N</td>\n",
              "      <td>N</td>\n",
              "      <td>N</td>\n",
              "      <td>N</td>\n",
              "      <td>N</td>\n",
              "      <td>N</td>\n",
              "      <td>N</td>\n",
              "      <td>N</td>\n",
              "      <td>N</td>\n",
              "      <td>N</td>\n",
              "      <td>NONE</td>\n",
              "      <td>115.78</td>\n",
              "      <td>140.44</td>\n",
              "      <td>0.000000</td>\n",
              "      <td>N</td>\n",
              "    </tr>\n",
              "    <tr>\n",
              "      <th>6</th>\n",
              "      <td>5694</td>\n",
              "      <td>SA</td>\n",
              "      <td>M</td>\n",
              "      <td>INDIVIDUAL</td>\n",
              "      <td>SALARIED</td>\n",
              "      <td>50</td>\n",
              "      <td>133.62</td>\n",
              "      <td>132.62</td>\n",
              "      <td>N</td>\n",
              "      <td>N</td>\n",
              "      <td>N</td>\n",
              "      <td>N</td>\n",
              "      <td>0</td>\n",
              "      <td>133.62</td>\n",
              "      <td>131.65</td>\n",
              "      <td>132.65</td>\n",
              "      <td>132.62</td>\n",
              "      <td>132.62</td>\n",
              "      <td>N</td>\n",
              "      <td>N</td>\n",
              "      <td>N</td>\n",
              "      <td>N</td>\n",
              "      <td>N</td>\n",
              "      <td>NONE</td>\n",
              "      <td>MISSING</td>\n",
              "      <td>N</td>\n",
              "      <td>N</td>\n",
              "      <td>0</td>\n",
              "      <td>NO_NEFT_TXN</td>\n",
              "      <td>NO_NEFT_TXN</td>\n",
              "      <td>NO_TPT_TXN</td>\n",
              "      <td>NO_TPT_TXN</td>\n",
              "      <td>NO_IMPS_TXN</td>\n",
              "      <td>360002</td>\n",
              "      <td>N</td>\n",
              "      <td>N</td>\n",
              "      <td>N</td>\n",
              "      <td>N</td>\n",
              "      <td>N</td>\n",
              "      <td>N</td>\n",
              "      <td>N</td>\n",
              "      <td>N</td>\n",
              "      <td>N</td>\n",
              "      <td>N</td>\n",
              "      <td>NONE</td>\n",
              "      <td>132.62</td>\n",
              "      <td>132.62</td>\n",
              "      <td>3630.198676</td>\n",
              "      <td>N</td>\n",
              "    </tr>\n",
              "    <tr>\n",
              "      <th>7</th>\n",
              "      <td>275523</td>\n",
              "      <td>SA</td>\n",
              "      <td>M</td>\n",
              "      <td>INDIVIDUAL</td>\n",
              "      <td>SALARIED</td>\n",
              "      <td>30</td>\n",
              "      <td>62.87</td>\n",
              "      <td>61.87</td>\n",
              "      <td>N</td>\n",
              "      <td>N</td>\n",
              "      <td>Y</td>\n",
              "      <td>N</td>\n",
              "      <td>0</td>\n",
              "      <td>62.87</td>\n",
              "      <td>60.90</td>\n",
              "      <td>61.90</td>\n",
              "      <td>61.87</td>\n",
              "      <td>61.87</td>\n",
              "      <td>N</td>\n",
              "      <td>N</td>\n",
              "      <td>N</td>\n",
              "      <td>N</td>\n",
              "      <td>N</td>\n",
              "      <td>NONE</td>\n",
              "      <td>MISSING</td>\n",
              "      <td>N</td>\n",
              "      <td>N</td>\n",
              "      <td>0</td>\n",
              "      <td>NO_NEFT_TXN</td>\n",
              "      <td>NO_NEFT_TXN</td>\n",
              "      <td>NO_TPT_TXN</td>\n",
              "      <td>NO_TPT_TXN</td>\n",
              "      <td>NO_IMPS_TXN</td>\n",
              "      <td>212402.0</td>\n",
              "      <td>N</td>\n",
              "      <td>N</td>\n",
              "      <td>N</td>\n",
              "      <td>N</td>\n",
              "      <td>N</td>\n",
              "      <td>N</td>\n",
              "      <td>N</td>\n",
              "      <td>N</td>\n",
              "      <td>N</td>\n",
              "      <td>N</td>\n",
              "      <td>NONE</td>\n",
              "      <td>61.87</td>\n",
              "      <td>61.87</td>\n",
              "      <td>0.000000</td>\n",
              "      <td>N</td>\n",
              "    </tr>\n",
              "    <tr>\n",
              "      <th>8</th>\n",
              "      <td>163723</td>\n",
              "      <td>SA</td>\n",
              "      <td>M</td>\n",
              "      <td>INDIVIDUAL</td>\n",
              "      <td>SALARIED</td>\n",
              "      <td>30</td>\n",
              "      <td>101824.72</td>\n",
              "      <td>70921.72</td>\n",
              "      <td>Y</td>\n",
              "      <td>Y</td>\n",
              "      <td>Y</td>\n",
              "      <td>N</td>\n",
              "      <td>1</td>\n",
              "      <td>101824.72</td>\n",
              "      <td>140187.64</td>\n",
              "      <td>92752.41</td>\n",
              "      <td>82770.14</td>\n",
              "      <td>98210.92</td>\n",
              "      <td>N</td>\n",
              "      <td>N</td>\n",
              "      <td>N</td>\n",
              "      <td>N</td>\n",
              "      <td>N</td>\n",
              "      <td>DISP</td>\n",
              "      <td>MANAGER</td>\n",
              "      <td>N</td>\n",
              "      <td>N</td>\n",
              "      <td>1</td>\n",
              "      <td>NOT_RELEVANT</td>\n",
              "      <td>NO_NEFT_TXN</td>\n",
              "      <td>NO_TPT_TXN</td>\n",
              "      <td>NO_TPT_TXN</td>\n",
              "      <td>NO_IMPS_TXN</td>\n",
              "      <td>209721</td>\n",
              "      <td>N</td>\n",
              "      <td>N</td>\n",
              "      <td>N</td>\n",
              "      <td>N</td>\n",
              "      <td>N</td>\n",
              "      <td>N</td>\n",
              "      <td>N</td>\n",
              "      <td>N</td>\n",
              "      <td>N</td>\n",
              "      <td>N</td>\n",
              "      <td>NONE</td>\n",
              "      <td>70770.14</td>\n",
              "      <td>94770.14</td>\n",
              "      <td>0.000000</td>\n",
              "      <td>N</td>\n",
              "    </tr>\n",
              "    <tr>\n",
              "      <th>9</th>\n",
              "      <td>469852</td>\n",
              "      <td>CSA</td>\n",
              "      <td>M</td>\n",
              "      <td>INDIVIDUAL</td>\n",
              "      <td>SALARIED</td>\n",
              "      <td>33</td>\n",
              "      <td>20440.25</td>\n",
              "      <td>0.00</td>\n",
              "      <td>N</td>\n",
              "      <td>N</td>\n",
              "      <td>Y</td>\n",
              "      <td>Y</td>\n",
              "      <td>0</td>\n",
              "      <td>458.25</td>\n",
              "      <td>0.00</td>\n",
              "      <td>3483.31</td>\n",
              "      <td>1467.29</td>\n",
              "      <td>620.42</td>\n",
              "      <td>N</td>\n",
              "      <td>N</td>\n",
              "      <td>N</td>\n",
              "      <td>N</td>\n",
              "      <td>N</td>\n",
              "      <td>NONE</td>\n",
              "      <td>MISSING</td>\n",
              "      <td>Y</td>\n",
              "      <td>Y</td>\n",
              "      <td>0</td>\n",
              "      <td>NO_NEFT_TXN</td>\n",
              "      <td>NO_NEFT_TXN</td>\n",
              "      <td>NO_TPT_TXN</td>\n",
              "      <td>NO_TPT_TXN</td>\n",
              "      <td>NO_IMPS_TXN</td>\n",
              "      <td>560052.0</td>\n",
              "      <td>N</td>\n",
              "      <td>N</td>\n",
              "      <td>N</td>\n",
              "      <td>N</td>\n",
              "      <td>N</td>\n",
              "      <td>N</td>\n",
              "      <td>N</td>\n",
              "      <td>N</td>\n",
              "      <td>N</td>\n",
              "      <td>Y</td>\n",
              "      <td>TOP_100</td>\n",
              "      <td>736.75</td>\n",
              "      <td>19233.00</td>\n",
              "      <td>0.000000</td>\n",
              "      <td>N</td>\n",
              "    </tr>\n",
              "    <tr>\n",
              "      <th>10</th>\n",
              "      <td>423675</td>\n",
              "      <td>CSA</td>\n",
              "      <td>F</td>\n",
              "      <td>INDIVIDUAL</td>\n",
              "      <td>SALARIED</td>\n",
              "      <td>23</td>\n",
              "      <td>0.00</td>\n",
              "      <td>0.00</td>\n",
              "      <td>N</td>\n",
              "      <td>N</td>\n",
              "      <td>Y</td>\n",
              "      <td>N</td>\n",
              "      <td>0</td>\n",
              "      <td>0.00</td>\n",
              "      <td>0.00</td>\n",
              "      <td>0.00</td>\n",
              "      <td>0.00</td>\n",
              "      <td>0.00</td>\n",
              "      <td>N</td>\n",
              "      <td>N</td>\n",
              "      <td>N</td>\n",
              "      <td>N</td>\n",
              "      <td>N</td>\n",
              "      <td>NONE</td>\n",
              "      <td>MISSING</td>\n",
              "      <td>Y</td>\n",
              "      <td>Y</td>\n",
              "      <td>0</td>\n",
              "      <td>NO_NEFT_TXN</td>\n",
              "      <td>NO_NEFT_TXN</td>\n",
              "      <td>NO_TPT_TXN</td>\n",
              "      <td>NO_TPT_TXN</td>\n",
              "      <td>NO_IMPS_TXN</td>\n",
              "      <td>700060.0</td>\n",
              "      <td>N</td>\n",
              "      <td>N</td>\n",
              "      <td>N</td>\n",
              "      <td>N</td>\n",
              "      <td>N</td>\n",
              "      <td>N</td>\n",
              "      <td>N</td>\n",
              "      <td>N</td>\n",
              "      <td>N</td>\n",
              "      <td>N</td>\n",
              "      <td>NONE</td>\n",
              "      <td>0.00</td>\n",
              "      <td>0.00</td>\n",
              "      <td>0.000000</td>\n",
              "      <td>N</td>\n",
              "    </tr>\n",
              "    <tr>\n",
              "      <th>11</th>\n",
              "      <td>422208</td>\n",
              "      <td>CSA</td>\n",
              "      <td>M</td>\n",
              "      <td>INDIVIDUAL</td>\n",
              "      <td>SALARIED</td>\n",
              "      <td>23</td>\n",
              "      <td>10001.48</td>\n",
              "      <td>25.48</td>\n",
              "      <td>N</td>\n",
              "      <td>N</td>\n",
              "      <td>Y</td>\n",
              "      <td>Y</td>\n",
              "      <td>0</td>\n",
              "      <td>89.73</td>\n",
              "      <td>666.73</td>\n",
              "      <td>2745.92</td>\n",
              "      <td>3618.94</td>\n",
              "      <td>3388.70</td>\n",
              "      <td>N</td>\n",
              "      <td>N</td>\n",
              "      <td>N</td>\n",
              "      <td>N</td>\n",
              "      <td>N</td>\n",
              "      <td>DISP</td>\n",
              "      <td>MISSING</td>\n",
              "      <td>Y</td>\n",
              "      <td>N</td>\n",
              "      <td>0</td>\n",
              "      <td>NOT_RELEVANT</td>\n",
              "      <td>NO_NEFT_TXN</td>\n",
              "      <td>NO_TPT_TXN</td>\n",
              "      <td>NO_TPT_TXN</td>\n",
              "      <td>NO_IMPS_TXN</td>\n",
              "      <td>452010.0</td>\n",
              "      <td>N</td>\n",
              "      <td>N</td>\n",
              "      <td>N</td>\n",
              "      <td>Y</td>\n",
              "      <td>N</td>\n",
              "      <td>N</td>\n",
              "      <td>N</td>\n",
              "      <td>N</td>\n",
              "      <td>N</td>\n",
              "      <td>Y</td>\n",
              "      <td>NONE</td>\n",
              "      <td>55.48</td>\n",
              "      <td>31.48</td>\n",
              "      <td>0.000000</td>\n",
              "      <td>N</td>\n",
              "    </tr>\n",
              "    <tr>\n",
              "      <th>12</th>\n",
              "      <td>406836</td>\n",
              "      <td>CSA</td>\n",
              "      <td>F</td>\n",
              "      <td>INDIVIDUAL</td>\n",
              "      <td>SALARIED</td>\n",
              "      <td>33</td>\n",
              "      <td>79917.75</td>\n",
              "      <td>55109.75</td>\n",
              "      <td>N</td>\n",
              "      <td>N</td>\n",
              "      <td>Y</td>\n",
              "      <td>N</td>\n",
              "      <td>0</td>\n",
              "      <td>79917.75</td>\n",
              "      <td>27417.49</td>\n",
              "      <td>58429.04</td>\n",
              "      <td>49019.75</td>\n",
              "      <td>46642.33</td>\n",
              "      <td>N</td>\n",
              "      <td>N</td>\n",
              "      <td>N</td>\n",
              "      <td>N</td>\n",
              "      <td>N</td>\n",
              "      <td>NONE</td>\n",
              "      <td>MISSING</td>\n",
              "      <td>N</td>\n",
              "      <td>N</td>\n",
              "      <td>0</td>\n",
              "      <td>NO_NEFT_TXN</td>\n",
              "      <td>NO_NEFT_TXN</td>\n",
              "      <td>NO_TPT_TXN</td>\n",
              "      <td>NO_TPT_TXN</td>\n",
              "      <td>NO_IMPS_TXN</td>\n",
              "      <td>392001.0</td>\n",
              "      <td>N</td>\n",
              "      <td>N</td>\n",
              "      <td>N</td>\n",
              "      <td>N</td>\n",
              "      <td>N</td>\n",
              "      <td>N</td>\n",
              "      <td>N</td>\n",
              "      <td>N</td>\n",
              "      <td>N</td>\n",
              "      <td>N</td>\n",
              "      <td>NONE</td>\n",
              "      <td>49019.75</td>\n",
              "      <td>49019.75</td>\n",
              "      <td>0.000000</td>\n",
              "      <td>N</td>\n",
              "    </tr>\n",
              "    <tr>\n",
              "      <th>13</th>\n",
              "      <td>85902</td>\n",
              "      <td>CSA</td>\n",
              "      <td>F</td>\n",
              "      <td>INDIVIDUAL</td>\n",
              "      <td>SALARIED</td>\n",
              "      <td>33</td>\n",
              "      <td>149957.19</td>\n",
              "      <td>1241.44</td>\n",
              "      <td>Y</td>\n",
              "      <td>N</td>\n",
              "      <td>Y</td>\n",
              "      <td>Y</td>\n",
              "      <td>0</td>\n",
              "      <td>26074.94</td>\n",
              "      <td>3072.40</td>\n",
              "      <td>13975.70</td>\n",
              "      <td>6008.30</td>\n",
              "      <td>4888.20</td>\n",
              "      <td>Y</td>\n",
              "      <td>N</td>\n",
              "      <td>N</td>\n",
              "      <td>N</td>\n",
              "      <td>N</td>\n",
              "      <td>NONE</td>\n",
              "      <td>EXECUTIVE</td>\n",
              "      <td>Y</td>\n",
              "      <td>Y</td>\n",
              "      <td>0</td>\n",
              "      <td>NO_NEFT_TXN</td>\n",
              "      <td>NO_NEFT_TXN</td>\n",
              "      <td>NO_TPT_TXN</td>\n",
              "      <td>NO_TPT_TXN</td>\n",
              "      <td>NO_IMPS_TXN</td>\n",
              "      <td>600034.0</td>\n",
              "      <td>N</td>\n",
              "      <td>N</td>\n",
              "      <td>Y</td>\n",
              "      <td>N</td>\n",
              "      <td>N</td>\n",
              "      <td>N</td>\n",
              "      <td>N</td>\n",
              "      <td>N</td>\n",
              "      <td>N</td>\n",
              "      <td>N</td>\n",
              "      <td>NONE</td>\n",
              "      <td>2024.94</td>\n",
              "      <td>2068.44</td>\n",
              "      <td>0.000000</td>\n",
              "      <td>N</td>\n",
              "    </tr>\n",
              "    <tr>\n",
              "      <th>14</th>\n",
              "      <td>46747</td>\n",
              "      <td>SA</td>\n",
              "      <td>M</td>\n",
              "      <td>INDIVIDUAL</td>\n",
              "      <td>SALARIED</td>\n",
              "      <td>29</td>\n",
              "      <td>0.00</td>\n",
              "      <td>0.00</td>\n",
              "      <td>N</td>\n",
              "      <td>N</td>\n",
              "      <td>Y</td>\n",
              "      <td>N</td>\n",
              "      <td>0</td>\n",
              "      <td>0.00</td>\n",
              "      <td>0.00</td>\n",
              "      <td>0.00</td>\n",
              "      <td>0.00</td>\n",
              "      <td>0.00</td>\n",
              "      <td>N</td>\n",
              "      <td>N</td>\n",
              "      <td>N</td>\n",
              "      <td>N</td>\n",
              "      <td>N</td>\n",
              "      <td>NONE</td>\n",
              "      <td>MISSING</td>\n",
              "      <td>Y</td>\n",
              "      <td>Y</td>\n",
              "      <td>0</td>\n",
              "      <td>NO_NEFT_TXN</td>\n",
              "      <td>NO_NEFT_TXN</td>\n",
              "      <td>NO_TPT_TXN</td>\n",
              "      <td>NO_TPT_TXN</td>\n",
              "      <td>NO_IMPS_TXN</td>\n",
              "      <td>400075.0</td>\n",
              "      <td>N</td>\n",
              "      <td>N</td>\n",
              "      <td>N</td>\n",
              "      <td>N</td>\n",
              "      <td>N</td>\n",
              "      <td>N</td>\n",
              "      <td>N</td>\n",
              "      <td>N</td>\n",
              "      <td>N</td>\n",
              "      <td>N</td>\n",
              "      <td>NONE</td>\n",
              "      <td>0.00</td>\n",
              "      <td>0.00</td>\n",
              "      <td>0.000000</td>\n",
              "      <td>N</td>\n",
              "    </tr>\n",
              "  </tbody>\n",
              "</table>\n",
              "</div>"
            ],
            "text/plain": [
              "    CUSTOMER_ID ACT_TYPE GENDER LEGAL_ENTITY OCCUP_ALL_NEW  AGE  \\\n",
              "0        385793      CSA      M   INDIVIDUAL      SALARIED   21   \n",
              "1        286891      CSA      M   INDIVIDUAL      SALARIED   23   \n",
              "2        108751      CSA      M   INDIVIDUAL      SALARIED   41   \n",
              "3        278651      CSA      M   INDIVIDUAL      SALARIED   28   \n",
              "4         23637      CSA      M   INDIVIDUAL      SALARIED   34   \n",
              "5        130723      CSA      M   INDIVIDUAL      SALARIED   34   \n",
              "6          5694       SA      M   INDIVIDUAL      SALARIED   50   \n",
              "7        275523       SA      M   INDIVIDUAL      SALARIED   30   \n",
              "8        163723       SA      M   INDIVIDUAL      SALARIED   30   \n",
              "9        469852      CSA      M   INDIVIDUAL      SALARIED   33   \n",
              "10       423675      CSA      F   INDIVIDUAL      SALARIED   23   \n",
              "11       422208      CSA      M   INDIVIDUAL      SALARIED   23   \n",
              "12       406836      CSA      F   INDIVIDUAL      SALARIED   33   \n",
              "13        85902      CSA      F   INDIVIDUAL      SALARIED   33   \n",
              "14        46747       SA      M   INDIVIDUAL      SALARIED   29   \n",
              "\n",
              "    N_CASA_MAX_BALANCE_MTD  N_CASA_MIN_BALANCE_MTD CC_HOLD CC_ACTIVE DC_HOLD  \\\n",
              "0                     0.00                    0.00       N         N       Y   \n",
              "1                  8243.77                    7.77       N         N       Y   \n",
              "2                 26515.00                    0.00       N         N       Y   \n",
              "3                 65917.28                 8270.28       Y         Y       Y   \n",
              "4                 22260.94                 6060.94       Y         Y       Y   \n",
              "5                   450.56                    0.00       N         N       Y   \n",
              "6                   133.62                  132.62       N         N       N   \n",
              "7                    62.87                   61.87       N         N       Y   \n",
              "8                101824.72                70921.72       Y         Y       Y   \n",
              "9                 20440.25                    0.00       N         N       Y   \n",
              "10                    0.00                    0.00       N         N       Y   \n",
              "11                10001.48                   25.48       N         N       Y   \n",
              "12                79917.75                55109.75       N         N       Y   \n",
              "13               149957.19                 1241.44       Y         N       Y   \n",
              "14                    0.00                    0.00       N         N       Y   \n",
              "\n",
              "   DC_ACTIVE  COC_ELIGIBLE  EOP_BAL_MON_01  AMB_MON_04  AMB_MON_01  \\\n",
              "0          N             0            0.00        0.00        0.00   \n",
              "1          Y             0           11.77     1417.26      300.51   \n",
              "2          N             0        26458.25     5354.65     6100.73   \n",
              "3          Y             1        65917.28   113120.39    35560.81   \n",
              "4          N             0         6172.94     9099.94    15858.71   \n",
              "5          N             0            2.00      835.73       97.46   \n",
              "6          N             0          133.62      131.65      132.65   \n",
              "7          N             0           62.87       60.90       61.90   \n",
              "8          N             1       101824.72   140187.64    92752.41   \n",
              "9          Y             0          458.25        0.00     3483.31   \n",
              "10         N             0            0.00        0.00        0.00   \n",
              "11         Y             0           89.73      666.73     2745.92   \n",
              "12         N             0        79917.75    27417.49    58429.04   \n",
              "13         Y             0        26074.94     3072.40    13975.70   \n",
              "14         N             0            0.00        0.00        0.00   \n",
              "\n",
              "    AMB_MON_02  AMB_MON_03 FINANCE_MON_01 JOBS_MON_01 LIFESTYLE_MON_01  \\\n",
              "0         0.00        0.00              N           N                N   \n",
              "1       593.06      418.09              N           N                N   \n",
              "2      7955.82    11138.53              N           N                N   \n",
              "3     42686.93    61593.38              Y           N                N   \n",
              "4     14008.08     4570.73              N           N                N   \n",
              "5       531.66       57.83              N           N                N   \n",
              "6       132.62      132.62              N           N                N   \n",
              "7        61.87       61.87              N           N                N   \n",
              "8     82770.14    98210.92              N           N                N   \n",
              "9      1467.29      620.42              N           N                N   \n",
              "10        0.00        0.00              N           N                N   \n",
              "11     3618.94     3388.70              N           N                N   \n",
              "12    49019.75    46642.33              N           N                N   \n",
              "13     6008.30     4888.20              Y           N                N   \n",
              "14        0.00        0.00              N           N                N   \n",
              "\n",
              "   INMON_01KET_MON_01 TRAVEL_MON_01 CHANNEL_CLICK_DISP DESIGNATION_FINAL  \\\n",
              "0                   N             N               NONE           MISSING   \n",
              "1                   N             N               NONE           MISSING   \n",
              "2                   N             Y               NONE           MISSING   \n",
              "3                   N             N               NONE           MISSING   \n",
              "4                   N             N               NONE          ENGINEER   \n",
              "5                   N             N               NONE           MISSING   \n",
              "6                   N             N               NONE           MISSING   \n",
              "7                   N             N               NONE           MISSING   \n",
              "8                   N             N               DISP           MANAGER   \n",
              "9                   N             N               NONE           MISSING   \n",
              "10                  N             N               NONE           MISSING   \n",
              "11                  N             N               DISP           MISSING   \n",
              "12                  N             N               NONE           MISSING   \n",
              "13                  N             N               NONE         EXECUTIVE   \n",
              "14                  N             N               NONE           MISSING   \n",
              "\n",
              "   TOP14_CITY TOP9_CITY  PL2CC_ELIGIBLE NEFT_CC_CATEGORY NEFT_DC_CATEGORY  \\\n",
              "0           Y         Y               0      NO_NEFT_TXN      NO_NEFT_TXN   \n",
              "1           Y         Y               0      NO_NEFT_TXN      NO_NEFT_TXN   \n",
              "2           N         N               0      NO_NEFT_TXN     NOT_RELEVANT   \n",
              "3           N         N               0      NO_NEFT_TXN      NO_NEFT_TXN   \n",
              "4           N         N               0      NO_NEFT_TXN      NO_NEFT_TXN   \n",
              "5           N         N               0      NO_NEFT_TXN      NO_NEFT_TXN   \n",
              "6           N         N               0      NO_NEFT_TXN      NO_NEFT_TXN   \n",
              "7           N         N               0      NO_NEFT_TXN      NO_NEFT_TXN   \n",
              "8           N         N               1     NOT_RELEVANT      NO_NEFT_TXN   \n",
              "9           Y         Y               0      NO_NEFT_TXN      NO_NEFT_TXN   \n",
              "10          Y         Y               0      NO_NEFT_TXN      NO_NEFT_TXN   \n",
              "11          Y         N               0     NOT_RELEVANT      NO_NEFT_TXN   \n",
              "12          N         N               0      NO_NEFT_TXN      NO_NEFT_TXN   \n",
              "13          Y         Y               0      NO_NEFT_TXN      NO_NEFT_TXN   \n",
              "14          Y         Y               0      NO_NEFT_TXN      NO_NEFT_TXN   \n",
              "\n",
              "   TPT_DC_CATEGORY_MON_01 TPT_CC_CATEGORY_MON_01 IMPS_CC_CATEGORY_MON_01  \\\n",
              "0              NO_TPT_TXN             NO_TPT_TXN             NO_IMPS_TXN   \n",
              "1              NO_TPT_TXN             NO_TPT_TXN             NO_IMPS_TXN   \n",
              "2              NO_TPT_TXN             NO_TPT_TXN             NO_IMPS_TXN   \n",
              "3              NO_TPT_TXN             NO_TPT_TXN             NO_IMPS_TXN   \n",
              "4              NO_TPT_TXN             NO_TPT_TXN            NOT_RELEVANT   \n",
              "5              NO_TPT_TXN             NO_TPT_TXN             NO_IMPS_TXN   \n",
              "6              NO_TPT_TXN             NO_TPT_TXN             NO_IMPS_TXN   \n",
              "7              NO_TPT_TXN             NO_TPT_TXN             NO_IMPS_TXN   \n",
              "8              NO_TPT_TXN             NO_TPT_TXN             NO_IMPS_TXN   \n",
              "9              NO_TPT_TXN             NO_TPT_TXN             NO_IMPS_TXN   \n",
              "10             NO_TPT_TXN             NO_TPT_TXN             NO_IMPS_TXN   \n",
              "11             NO_TPT_TXN             NO_TPT_TXN             NO_IMPS_TXN   \n",
              "12             NO_TPT_TXN             NO_TPT_TXN             NO_IMPS_TXN   \n",
              "13             NO_TPT_TXN             NO_TPT_TXN             NO_IMPS_TXN   \n",
              "14             NO_TPT_TXN             NO_TPT_TXN             NO_IMPS_TXN   \n",
              "\n",
              "   ZIP_CODE_FINAL CARD_AUTOMOBILE_MON_01 CARD_HOTEL_MON_01  \\\n",
              "0        400606.0                      N                 N   \n",
              "1        600045.0                      N                 N   \n",
              "2          122001                      N                 N   \n",
              "3        311408.0                      N                 N   \n",
              "4          122015                      N                 N   \n",
              "5        360002.0                      N                 N   \n",
              "6          360002                      N                 N   \n",
              "7        212402.0                      N                 N   \n",
              "8          209721                      N                 N   \n",
              "9        560052.0                      N                 N   \n",
              "10       700060.0                      N                 N   \n",
              "11       452010.0                      N                 N   \n",
              "12       392001.0                      N                 N   \n",
              "13       600034.0                      N                 N   \n",
              "14       400075.0                      N                 N   \n",
              "\n",
              "   CARD_JEWELLERY_MON_01 CARD_RESTAURANT_MON_01 CARD_TRAVEL_MON_01  \\\n",
              "0                      N                      N                  N   \n",
              "1                      N                      N                  N   \n",
              "2                      N                      N                  N   \n",
              "3                      Y                      N                  N   \n",
              "4                      N                      N                  N   \n",
              "5                      N                      N                  N   \n",
              "6                      N                      N                  N   \n",
              "7                      N                      N                  N   \n",
              "8                      N                      N                  N   \n",
              "9                      N                      N                  N   \n",
              "10                     N                      N                  N   \n",
              "11                     N                      Y                  N   \n",
              "12                     N                      N                  N   \n",
              "13                     Y                      N                  N   \n",
              "14                     N                      N                  N   \n",
              "\n",
              "   CARD_PRSNL_CARE_MON_01 CARD_HOBBY_MON_01 CARD_HOME_DECOR_MON_01  \\\n",
              "0                       N                 N                      N   \n",
              "1                       N                 N                      N   \n",
              "2                       N                 N                      N   \n",
              "3                       Y                 N                      Y   \n",
              "4                       N                 N                      N   \n",
              "5                       N                 N                      N   \n",
              "6                       N                 N                      N   \n",
              "7                       N                 N                      N   \n",
              "8                       N                 N                      N   \n",
              "9                       N                 N                      N   \n",
              "10                      N                 N                      N   \n",
              "11                      N                 N                      N   \n",
              "12                      N                 N                      N   \n",
              "13                      N                 N                      N   \n",
              "14                      N                 N                      N   \n",
              "\n",
              "   CARD_MEDICAL_MON_01 CARD_ENTMNT_MON_01 TOP_CORP_TAG  EOP_MON_02  \\\n",
              "0                    N                  N         NONE        0.00   \n",
              "1                    N                  N         NONE     3016.77   \n",
              "2                    N                  N         NONE     9999.00   \n",
              "3                    Y                  N         NONE    27163.10   \n",
              "4                    Y                  N         NONE    21065.87   \n",
              "5                    N                  N         NONE      115.78   \n",
              "6                    N                  N         NONE      132.62   \n",
              "7                    N                  N         NONE       61.87   \n",
              "8                    N                  N         NONE    70770.14   \n",
              "9                    N                  Y      TOP_100      736.75   \n",
              "10                   N                  N         NONE        0.00   \n",
              "11                   N                  Y         NONE       55.48   \n",
              "12                   N                  N         NONE    49019.75   \n",
              "13                   N                  N         NONE     2024.94   \n",
              "14                   N                  N         NONE        0.00   \n",
              "\n",
              "    EOP_MON_03    SCRUB_EMI RESPONDERS  \n",
              "0         0.00     0.000000          N  \n",
              "1         3.02     0.000000          N  \n",
              "2     14858.75     0.000000          N  \n",
              "3     49675.27     0.000000          N  \n",
              "4       983.87   251.758794          N  \n",
              "5       140.44     0.000000          N  \n",
              "6       132.62  3630.198676          N  \n",
              "7        61.87     0.000000          N  \n",
              "8     94770.14     0.000000          N  \n",
              "9     19233.00     0.000000          N  \n",
              "10        0.00     0.000000          N  \n",
              "11       31.48     0.000000          N  \n",
              "12    49019.75     0.000000          N  \n",
              "13     2068.44     0.000000          N  \n",
              "14        0.00     0.000000          N  "
            ]
          },
          "metadata": {
            "tags": []
          },
          "execution_count": 14
        }
      ]
    },
    {
      "cell_type": "markdown",
      "metadata": {
        "id": "8YAJsdFEweZd",
        "colab_type": "text"
      },
      "source": [
        "## Analysis of Act type"
      ]
    },
    {
      "cell_type": "code",
      "metadata": {
        "id": "niHQ9mrO04XP",
        "colab_type": "code",
        "outputId": "3e56acb5-5321-41c8-b37e-6393b3a6ecfe",
        "colab": {
          "base_uri": "https://localhost:8080/",
          "height": 0
        }
      },
      "source": [
        "newData['ACT_TYPE'].unique()"
      ],
      "execution_count": 15,
      "outputs": [
        {
          "output_type": "execute_result",
          "data": {
            "text/plain": [
              "array(['CSA', 'SA'], dtype=object)"
            ]
          },
          "metadata": {
            "tags": []
          },
          "execution_count": 15
        }
      ]
    },
    {
      "cell_type": "code",
      "metadata": {
        "id": "3zzyPrN91AYp",
        "colab_type": "code",
        "outputId": "ea4920a1-7409-4b39-868a-b499316b20d1",
        "colab": {
          "base_uri": "https://localhost:8080/",
          "height": 0
        }
      },
      "source": [
        "plt.bar(newData['ACT_TYPE'].unique(),newData.ACT_TYPE.value_counts())"
      ],
      "execution_count": 16,
      "outputs": [
        {
          "output_type": "execute_result",
          "data": {
            "text/plain": [
              "<BarContainer object of 2 artists>"
            ]
          },
          "metadata": {
            "tags": []
          },
          "execution_count": 16
        },
        {
          "output_type": "display_data",
          "data": {
            "image/png": "[encoded data removed]",
            "text/plain": [
              "<Figure size 432x288 with 1 Axes>"
            ]
          },
          "metadata": {
            "tags": []
          }
        }
      ]
    },
    {
      "cell_type": "code",
      "metadata": {
        "id": "v0aZ8QCzwrmy",
        "colab_type": "code",
        "outputId": "ea59fd37-be11-4fc8-cfef-ce2459a00fa4",
        "colab": {
          "base_uri": "https://localhost:8080/",
          "height": 0
        }
      },
      "source": [
        "plt.bar(newData['ACT_TYPE'].unique(),newData.ACT_TYPE[newData.RESPONDERS == 'N'].value_counts(),color='r')"
      ],
      "execution_count": 17,
      "outputs": [
        {
          "output_type": "execute_result",
          "data": {
            "text/plain": [
              "<BarContainer object of 2 artists>"
            ]
          },
          "metadata": {
            "tags": []
          },
          "execution_count": 17
        },
        {
          "output_type": "display_data",
          "data": {
            "image/png": "[encoded data removed]",
            "text/plain": [
              "<Figure size 432x288 with 1 Axes>"
            ]
          },
          "metadata": {
            "tags": []
          }
        }
      ]
    },
    {
      "cell_type": "code",
      "metadata": {
        "colab_type": "code",
        "outputId": "a9731bf2-75b7-46b3-c93e-ec83750386be",
        "id": "rKZn24kzwr93",
        "colab": {
          "base_uri": "https://localhost:8080/",
          "height": 0
        }
      },
      "source": [
        "plt.bar(newData['ACT_TYPE'].unique(),newData.ACT_TYPE[newData.RESPONDERS == 'Y'].value_counts(),color='g')"
      ],
      "execution_count": 18,
      "outputs": [
        {
          "output_type": "execute_result",
          "data": {
            "text/plain": [
              "<BarContainer object of 2 artists>"
            ]
          },
          "metadata": {
            "tags": []
          },
          "execution_count": 18
        },
        {
          "output_type": "display_data",
          "data": {
            "image/png": "[encoded data removed]",
            "text/plain": [
              "<Figure size 432x288 with 1 Axes>"
            ]
          },
          "metadata": {
            "tags": []
          }
        }
      ]
    },
    {
      "cell_type": "code",
      "metadata": {
        "id": "Aki0zomU1Pgb",
        "colab_type": "code",
        "colab": {}
      },
      "source": [
        "leActType = LabelEncoder()"
      ],
      "execution_count": 0,
      "outputs": []
    },
    {
      "cell_type": "code",
      "metadata": {
        "id": "Q3h6hITd2djz",
        "colab_type": "code",
        "outputId": "f684c218-b392-4c62-f981-9d62a512e605",
        "colab": {
          "base_uri": "https://localhost:8080/",
          "height": 0
        }
      },
      "source": [
        "newData['ACT_TYPE'] = leActType.fit_transform(newData['ACT_TYPE'])"
      ],
      "execution_count": 20,
      "outputs": [
        {
          "output_type": "stream",
          "text": [
            "/usr/local/lib/python3.6/dist-packages/ipykernel_launcher.py:1: SettingWithCopyWarning: \n",
            "A value is trying to be set on a copy of a slice from a DataFrame.\n",
            "Try using .loc[row_indexer,col_indexer] = value instead\n",
            "\n",
            "See the caveats in the documentation: http://pandas.pydata.org/pandas-docs/stable/user_guide/indexing.html#returning-a-view-versus-a-copy\n",
            "  \"\"\"Entry point for launching an IPython kernel.\n"
          ],
          "name": "stderr"
        }
      ]
    },
    {
      "cell_type": "markdown",
      "metadata": {
        "id": "eli6JoRGv6Rf",
        "colab_type": "text"
      },
      "source": [
        "## Analysis of Gender"
      ]
    },
    {
      "cell_type": "code",
      "metadata": {
        "id": "yfZaJnJTv6Rh",
        "colab_type": "code",
        "outputId": "2e313a28-3d80-4059-d2d2-f1cadcef0c23",
        "colab": {
          "base_uri": "https://localhost:8080/",
          "height": 0
        }
      },
      "source": [
        "newData['GENDER'].unique()"
      ],
      "execution_count": 21,
      "outputs": [
        {
          "output_type": "execute_result",
          "data": {
            "text/plain": [
              "array(['M', 'F', nan], dtype=object)"
            ]
          },
          "metadata": {
            "tags": []
          },
          "execution_count": 21
        }
      ]
    },
    {
      "cell_type": "code",
      "metadata": {
        "id": "rGCb5dlLv6Rn",
        "colab_type": "code",
        "colab": {}
      },
      "source": [
        "def genderFill(df):\n",
        "    df['GENDER'].fillna(str(df['GENDER'].mode().values[0]),inplace=True)"
      ],
      "execution_count": 0,
      "outputs": []
    },
    {
      "cell_type": "code",
      "metadata": {
        "id": "sDiIMrdJv6Rt",
        "colab_type": "code",
        "outputId": "a55c2834-7e0b-4980-de53-c7f54c0dd012",
        "colab": {
          "base_uri": "https://localhost:8080/",
          "height": 0
        }
      },
      "source": [
        "genderFill(newData)"
      ],
      "execution_count": 23,
      "outputs": [
        {
          "output_type": "stream",
          "text": [
            "/usr/local/lib/python3.6/dist-packages/pandas/core/generic.py:6287: SettingWithCopyWarning: \n",
            "A value is trying to be set on a copy of a slice from a DataFrame\n",
            "\n",
            "See the caveats in the documentation: http://pandas.pydata.org/pandas-docs/stable/user_guide/indexing.html#returning-a-view-versus-a-copy\n",
            "  self._update_inplace(new_data)\n"
          ],
          "name": "stderr"
        }
      ]
    },
    {
      "cell_type": "code",
      "metadata": {
        "id": "Q_8ht5n130sz",
        "colab_type": "code",
        "outputId": "c80f57b4-2257-4b1e-8feb-8672df30d783",
        "colab": {
          "base_uri": "https://localhost:8080/",
          "height": 0
        }
      },
      "source": [
        "plt.bar(newData['GENDER'].unique(),newData.GENDER.value_counts())"
      ],
      "execution_count": 24,
      "outputs": [
        {
          "output_type": "execute_result",
          "data": {
            "text/plain": [
              "<BarContainer object of 2 artists>"
            ]
          },
          "metadata": {
            "tags": []
          },
          "execution_count": 24
        },
        {
          "output_type": "display_data",
          "data": {
            "image/png": "[encoded data removed]",
            "text/plain": [
              "<Figure size 432x288 with 1 Axes>"
            ]
          },
          "metadata": {
            "tags": []
          }
        }
      ]
    },
    {
      "cell_type": "code",
      "metadata": {
        "id": "MPB14VrOtxKV",
        "colab_type": "code",
        "outputId": "9dbc3684-581f-4da6-a047-992f0865bed3",
        "colab": {
          "base_uri": "https://localhost:8080/",
          "height": 0
        }
      },
      "source": [
        "plt.bar(['M','F'],newData.GENDER[newData.RESPONDERS == 'Y'].value_counts(),color='g',alpha=0.5)\n",
        "plt.show()"
      ],
      "execution_count": 25,
      "outputs": [
        {
          "output_type": "display_data",
          "data": {
            "image/png": "[encoded data removed]",
            "text/plain": [
              "<Figure size 432x288 with 1 Axes>"
            ]
          },
          "metadata": {
            "tags": []
          }
        }
      ]
    },
    {
      "cell_type": "code",
      "metadata": {
        "id": "gEHn3xeDuvVg",
        "colab_type": "code",
        "outputId": "55debadb-31d5-4dea-f45a-7977f98b5bcd",
        "colab": {
          "base_uri": "https://localhost:8080/",
          "height": 0
        }
      },
      "source": [
        "plt.bar(['M','F'],newData.GENDER[newData.RESPONDERS == 'N'].value_counts(),color='r',alpha=0.5)\n",
        "plt.show()"
      ],
      "execution_count": 26,
      "outputs": [
        {
          "output_type": "display_data",
          "data": {
            "image/png": "[encoded data removed]",
            "text/plain": [
              "<Figure size 432x288 with 1 Axes>"
            ]
          },
          "metadata": {
            "tags": []
          }
        }
      ]
    },
    {
      "cell_type": "code",
      "metadata": {
        "id": "RmS6gkgzv6Ry",
        "colab_type": "code",
        "colab": {}
      },
      "source": [
        "leGen = LabelEncoder()"
      ],
      "execution_count": 0,
      "outputs": []
    },
    {
      "cell_type": "code",
      "metadata": {
        "id": "EiTH1cF046Dv",
        "colab_type": "code",
        "outputId": "1143998b-0690-405e-fbdb-d30bfe41c398",
        "colab": {
          "base_uri": "https://localhost:8080/",
          "height": 0
        }
      },
      "source": [
        "newData['GENDER'] = leGen.fit_transform(newData['GENDER'])"
      ],
      "execution_count": 28,
      "outputs": [
        {
          "output_type": "stream",
          "text": [
            "/usr/local/lib/python3.6/dist-packages/ipykernel_launcher.py:1: SettingWithCopyWarning: \n",
            "A value is trying to be set on a copy of a slice from a DataFrame.\n",
            "Try using .loc[row_indexer,col_indexer] = value instead\n",
            "\n",
            "See the caveats in the documentation: http://pandas.pydata.org/pandas-docs/stable/user_guide/indexing.html#returning-a-view-versus-a-copy\n",
            "  \"\"\"Entry point for launching an IPython kernel.\n"
          ],
          "name": "stderr"
        }
      ]
    },
    {
      "cell_type": "markdown",
      "metadata": {
        "id": "IhqldZpJv6R4",
        "colab_type": "text"
      },
      "source": [
        "## Analysis on AGE"
      ]
    },
    {
      "cell_type": "code",
      "metadata": {
        "id": "oPW_9S2Av6R6",
        "colab_type": "code",
        "outputId": "caef3bb9-60f5-4e6c-aa4f-2dc5e0da6ee2",
        "colab": {
          "base_uri": "https://localhost:8080/",
          "height": 0
        }
      },
      "source": [
        "newData['AGE'].plot(kind='hist',alpha=0.7,color='g')"
      ],
      "execution_count": 29,
      "outputs": [
        {
          "output_type": "execute_result",
          "data": {
            "text/plain": [
              "<matplotlib.axes._subplots.AxesSubplot at 0x7f3b9237dd68>"
            ]
          },
          "metadata": {
            "tags": []
          },
          "execution_count": 29
        },
        {
          "output_type": "display_data",
          "data": {
            "image/png": "[encoded data removed]",
            "text/plain": [
              "<Figure size 432x288 with 1 Axes>"
            ]
          },
          "metadata": {
            "tags": []
          }
        }
      ]
    },
    {
      "cell_type": "code",
      "metadata": {
        "id": "TVJdQ55pv6R_",
        "colab_type": "code",
        "outputId": "00d166f5-ddd8-452d-d8c5-85371c717483",
        "colab": {
          "base_uri": "https://localhost:8080/",
          "height": 0
        }
      },
      "source": [
        "newData['AGE'][newData['AGE'] > 100].count()"
      ],
      "execution_count": 30,
      "outputs": [
        {
          "output_type": "execute_result",
          "data": {
            "text/plain": [
              "1305"
            ]
          },
          "metadata": {
            "tags": []
          },
          "execution_count": 30
        }
      ]
    },
    {
      "cell_type": "code",
      "metadata": {
        "id": "qBxdcaqgv6SK",
        "colab_type": "code",
        "colab": {}
      },
      "source": [
        "newData = newData[newData['AGE'] <= 100]"
      ],
      "execution_count": 0,
      "outputs": []
    },
    {
      "cell_type": "code",
      "metadata": {
        "id": "VH9u20ASv6SP",
        "colab_type": "code",
        "outputId": "ed65d57c-abd6-474f-e6c1-404af654c92d",
        "colab": {
          "base_uri": "https://localhost:8080/",
          "height": 0
        }
      },
      "source": [
        "newData.shape"
      ],
      "execution_count": 32,
      "outputs": [
        {
          "output_type": "execute_result",
          "data": {
            "text/plain": [
              "(298695, 49)"
            ]
          },
          "metadata": {
            "tags": []
          },
          "execution_count": 32
        }
      ]
    },
    {
      "cell_type": "code",
      "metadata": {
        "colab_type": "code",
        "outputId": "02cde6a7-56ed-4207-8270-6e9cb3c29533",
        "id": "2n2aHrLkDqVe",
        "colab": {
          "base_uri": "https://localhost:8080/",
          "height": 0
        }
      },
      "source": [
        "newData['AGE'].describe()"
      ],
      "execution_count": 33,
      "outputs": [
        {
          "output_type": "execute_result",
          "data": {
            "text/plain": [
              "count    298695.000000\n",
              "mean         33.355416\n",
              "std           9.493298\n",
              "min          21.000000\n",
              "25%          26.000000\n",
              "50%          31.000000\n",
              "75%          38.000000\n",
              "max          65.000000\n",
              "Name: AGE, dtype: float64"
            ]
          },
          "metadata": {
            "tags": []
          },
          "execution_count": 33
        }
      ]
    },
    {
      "cell_type": "code",
      "metadata": {
        "id": "TIOl9sQ8FsiN",
        "colab_type": "code",
        "outputId": "1aea57c1-5d3f-460a-e6d9-bb4847b79998",
        "colab": {
          "base_uri": "https://localhost:8080/",
          "height": 0
        }
      },
      "source": [
        "plt.scatter(newData['AGE'].value_counts().sort_index().index,newData['AGE'].value_counts().sort_index().values)"
      ],
      "execution_count": 34,
      "outputs": [
        {
          "output_type": "execute_result",
          "data": {
            "text/plain": [
              "<matplotlib.collections.PathCollection at 0x7f3b922ba1d0>"
            ]
          },
          "metadata": {
            "tags": []
          },
          "execution_count": 34
        },
        {
          "output_type": "display_data",
          "data": {
            "image/png": "[encoded data removed]",
            "text/plain": [
              "<Figure size 432x288 with 1 Axes>"
            ]
          },
          "metadata": {
            "tags": []
          }
        }
      ]
    },
    {
      "cell_type": "markdown",
      "metadata": {
        "id": "INu-FAyzz8gR",
        "colab_type": "text"
      },
      "source": [
        "## Analysis on Legal Entity"
      ]
    },
    {
      "cell_type": "code",
      "metadata": {
        "id": "aGnADkC70FiK",
        "colab_type": "code",
        "outputId": "76c8e784-462c-465d-8df3-a33544903039",
        "colab": {
          "base_uri": "https://localhost:8080/",
          "height": 0
        }
      },
      "source": [
        "newData['LEGAL_ENTITY'].unique()"
      ],
      "execution_count": 35,
      "outputs": [
        {
          "output_type": "execute_result",
          "data": {
            "text/plain": [
              "array(['INDIVIDUAL', 'OTHERS', 'NON_GOVERNMENTAL_ORG', 'FIRM'],\n",
              "      dtype=object)"
            ]
          },
          "metadata": {
            "tags": []
          },
          "execution_count": 35
        }
      ]
    },
    {
      "cell_type": "code",
      "metadata": {
        "id": "fQ835EKO0Vps",
        "colab_type": "code",
        "colab": {}
      },
      "source": [
        "leLe = LabelEncoder()"
      ],
      "execution_count": 0,
      "outputs": []
    },
    {
      "cell_type": "code",
      "metadata": {
        "id": "G0fZ17tZ0aYS",
        "colab_type": "code",
        "colab": {}
      },
      "source": [
        "newData['LEGAL_ENTITY'] = leLe.fit_transform(newData['LEGAL_ENTITY'])"
      ],
      "execution_count": 0,
      "outputs": []
    },
    {
      "cell_type": "code",
      "metadata": {
        "id": "HolRPrch0mWl",
        "colab_type": "code",
        "outputId": "c93cb7c1-60a9-42fc-b3f9-676169aeccf2",
        "colab": {
          "base_uri": "https://localhost:8080/",
          "height": 0
        }
      },
      "source": [
        "newData['LEGAL_ENTITY'].head()"
      ],
      "execution_count": 38,
      "outputs": [
        {
          "output_type": "execute_result",
          "data": {
            "text/plain": [
              "0    1\n",
              "1    1\n",
              "2    1\n",
              "3    1\n",
              "4    1\n",
              "Name: LEGAL_ENTITY, dtype: int64"
            ]
          },
          "metadata": {
            "tags": []
          },
          "execution_count": 38
        }
      ]
    },
    {
      "cell_type": "code",
      "metadata": {
        "id": "ahakfQDU0qvf",
        "colab_type": "code",
        "outputId": "e7899e16-15d4-4ae3-b87d-e1852bf9bd91",
        "colab": {
          "base_uri": "https://localhost:8080/",
          "height": 0
        }
      },
      "source": [
        "plt.figure(figsize=(12,9))\n",
        "plt.bar(leLe.classes_,newData['LEGAL_ENTITY'].value_counts().sort_index().values,color='orange')"
      ],
      "execution_count": 39,
      "outputs": [
        {
          "output_type": "execute_result",
          "data": {
            "text/plain": [
              "<BarContainer object of 4 artists>"
            ]
          },
          "metadata": {
            "tags": []
          },
          "execution_count": 39
        },
        {
          "output_type": "display_data",
          "data": {
            "image/png": "[encoded data removed]",
            "text/plain": [
              "<Figure size 864x648 with 1 Axes>"
            ]
          },
          "metadata": {
            "tags": []
          }
        }
      ]
    },
    {
      "cell_type": "markdown",
      "metadata": {
        "id": "G2scUKxb24qm",
        "colab_type": "text"
      },
      "source": [
        "## Analysis on Occupation"
      ]
    },
    {
      "cell_type": "code",
      "metadata": {
        "id": "-5-_7Hrw3enf",
        "colab_type": "code",
        "outputId": "c701fbb8-5a89-42e2-9332-86bbd933c774",
        "colab": {
          "base_uri": "https://localhost:8080/",
          "height": 0
        }
      },
      "source": [
        "newData['OCCUP_ALL_NEW'].unique()"
      ],
      "execution_count": 40,
      "outputs": [
        {
          "output_type": "execute_result",
          "data": {
            "text/plain": [
              "array(['SALARIED'], dtype=object)"
            ]
          },
          "metadata": {
            "tags": []
          },
          "execution_count": 40
        }
      ]
    },
    {
      "cell_type": "code",
      "metadata": {
        "id": "yANknwoI32Rt",
        "colab_type": "code",
        "colab": {}
      },
      "source": [
        "newData.drop('OCCUP_ALL_NEW',axis=1,inplace=True)"
      ],
      "execution_count": 0,
      "outputs": []
    },
    {
      "cell_type": "markdown",
      "metadata": {
        "id": "bwwotdhQv6SV",
        "colab_type": "text"
      },
      "source": [
        "## Analysis of Average Monthly Balance"
      ]
    },
    {
      "cell_type": "code",
      "metadata": {
        "scrolled": true,
        "id": "-Waeorqkv6Sc",
        "colab_type": "code",
        "outputId": "69ca6bd1-bc5f-48a2-cd2b-05ef0de184dd",
        "colab": {
          "base_uri": "https://localhost:8080/",
          "height": 0
        }
      },
      "source": [
        "newData[['AMB_MON_01','AMB_MON_02','AMB_MON_03','AMB_MON_04']].corr()"
      ],
      "execution_count": 42,
      "outputs": [
        {
          "output_type": "execute_result",
          "data": {
            "text/html": [
              "<div>\n",
              "<style scoped>\n",
              "    .dataframe tbody tr th:only-of-type {\n",
              "        vertical-align: middle;\n",
              "    }\n",
              "\n",
              "    .dataframe tbody tr th {\n",
              "        vertical-align: top;\n",
              "    }\n",
              "\n",
              "    .dataframe thead th {\n",
              "        text-align: right;\n",
              "    }\n",
              "</style>\n",
              "<table border=\"1\" class=\"dataframe\">\n",
              "  <thead>\n",
              "    <tr style=\"text-align: right;\">\n",
              "      <th></th>\n",
              "      <th>AMB_MON_01</th>\n",
              "      <th>AMB_MON_02</th>\n",
              "      <th>AMB_MON_03</th>\n",
              "      <th>AMB_MON_04</th>\n",
              "    </tr>\n",
              "  </thead>\n",
              "  <tbody>\n",
              "    <tr>\n",
              "      <th>AMB_MON_01</th>\n",
              "      <td>1.000000</td>\n",
              "      <td>0.844099</td>\n",
              "      <td>0.723092</td>\n",
              "      <td>0.648993</td>\n",
              "    </tr>\n",
              "    <tr>\n",
              "      <th>AMB_MON_02</th>\n",
              "      <td>0.844099</td>\n",
              "      <td>1.000000</td>\n",
              "      <td>0.863011</td>\n",
              "      <td>0.750984</td>\n",
              "    </tr>\n",
              "    <tr>\n",
              "      <th>AMB_MON_03</th>\n",
              "      <td>0.723092</td>\n",
              "      <td>0.863011</td>\n",
              "      <td>1.000000</td>\n",
              "      <td>0.868657</td>\n",
              "    </tr>\n",
              "    <tr>\n",
              "      <th>AMB_MON_04</th>\n",
              "      <td>0.648993</td>\n",
              "      <td>0.750984</td>\n",
              "      <td>0.868657</td>\n",
              "      <td>1.000000</td>\n",
              "    </tr>\n",
              "  </tbody>\n",
              "</table>\n",
              "</div>"
            ],
            "text/plain": [
              "            AMB_MON_01  AMB_MON_02  AMB_MON_03  AMB_MON_04\n",
              "AMB_MON_01    1.000000    0.844099    0.723092    0.648993\n",
              "AMB_MON_02    0.844099    1.000000    0.863011    0.750984\n",
              "AMB_MON_03    0.723092    0.863011    1.000000    0.868657\n",
              "AMB_MON_04    0.648993    0.750984    0.868657    1.000000"
            ]
          },
          "metadata": {
            "tags": []
          },
          "execution_count": 42
        }
      ]
    },
    {
      "cell_type": "code",
      "metadata": {
        "id": "4GFvxDbVv6Sh",
        "colab_type": "code",
        "colab": {}
      },
      "source": [
        "def ambFill(df,listofcols):\n",
        "    '''For fill na value in AMB_MON_0*(should be in asc order).'''\n",
        "    for i in range(1,len(listofcols)):\n",
        "        df[listofcols[i]][df[listofcols[i]].isnull()] = df[listofcols[i-1]][df[listofcols[i]].isnull()]"
      ],
      "execution_count": 0,
      "outputs": []
    },
    {
      "cell_type": "code",
      "metadata": {
        "id": "zc1U6R5Vv6Sm",
        "colab_type": "code",
        "outputId": "125ac9bc-a486-4723-bd32-9b79405e4d9b",
        "colab": {
          "base_uri": "https://localhost:8080/",
          "height": 0
        }
      },
      "source": [
        "ambFill(newData,['AMB_MON_01','AMB_MON_02','AMB_MON_03','AMB_MON_04'])"
      ],
      "execution_count": 44,
      "outputs": [
        {
          "output_type": "stream",
          "text": [
            "/usr/local/lib/python3.6/dist-packages/ipykernel_launcher.py:4: SettingWithCopyWarning: \n",
            "A value is trying to be set on a copy of a slice from a DataFrame\n",
            "\n",
            "See the caveats in the documentation: http://pandas.pydata.org/pandas-docs/stable/user_guide/indexing.html#returning-a-view-versus-a-copy\n",
            "  after removing the cwd from sys.path.\n"
          ],
          "name": "stderr"
        }
      ]
    },
    {
      "cell_type": "code",
      "metadata": {
        "id": "J6OamKHNv6Sr",
        "colab_type": "code",
        "outputId": "e792b215-63d4-4bb9-9042-548ce85f8bc3",
        "colab": {
          "base_uri": "https://localhost:8080/",
          "height": 0
        }
      },
      "source": [
        "newData.isnull().any()[newData.isnull().any().values == True]"
      ],
      "execution_count": 45,
      "outputs": [
        {
          "output_type": "execute_result",
          "data": {
            "text/plain": [
              "ZIP_CODE_FINAL    True\n",
              "EOP_MON_02        True\n",
              "EOP_MON_03        True\n",
              "dtype: bool"
            ]
          },
          "metadata": {
            "tags": []
          },
          "execution_count": 45
        }
      ]
    },
    {
      "cell_type": "code",
      "metadata": {
        "id": "-ySlya7cywcC",
        "colab_type": "code",
        "outputId": "1543eda8-dd4d-4a13-9847-89aee5120e8f",
        "colab": {
          "base_uri": "https://localhost:8080/",
          "height": 0
        }
      },
      "source": [
        "fig, axs = plt.subplots(4,2,figsize=(16,9))\n",
        "y=0\n",
        "x=0\n",
        "for col in ['AMB_MON_01','AMB_MON_02','AMB_MON_03','AMB_MON_04']:\n",
        "    y=0\n",
        "    cl = 'g'\n",
        "    if x == 4:\n",
        "        break\n",
        "    for res in ['Y','N']:\n",
        "        plt.title('{} Response for {} Column'.format(res,col))\n",
        "        axs[x,y].scatter(newData[col][newData.RESPONDERS == res].sort_index().index, newData[col][newData.RESPONDERS == res].sort_index().values,color = cl,alpha=0.8)\n",
        "        axs[x,y].set_yscale('log')\n",
        "        y += 1\n",
        "        cl = 'r'\n",
        "    x += 1\n",
        "plt.show()"
      ],
      "execution_count": 46,
      "outputs": [
        {
          "output_type": "display_data",
          "data": {
            "image/png": "[encoded data removed]",
            "text/plain": [
              "<Figure size 1152x648 with 8 Axes>"
            ]
          },
          "metadata": {
            "tags": []
          }
        }
      ]
    },
    {
      "cell_type": "code",
      "metadata": {
        "id": "-yl36ht46jnJ",
        "colab_type": "code",
        "colab": {
          "base_uri": "https://localhost:8080/",
          "height": 0
        },
        "outputId": "091e01f8-e620-45af-a480-d472bfa9ba9e"
      },
      "source": [
        "plt.hist(newData.AMB_MON_01.value_counts().sort_index())\n",
        "plt.yscale('log')"
      ],
      "execution_count": 47,
      "outputs": [
        {
          "output_type": "display_data",
          "data": {
            "image/png": "[encoded data removed]",
            "text/plain": [
              "<Figure size 432x288 with 1 Axes>"
            ]
          },
          "metadata": {
            "tags": []
          }
        }
      ]
    },
    {
      "cell_type": "code",
      "metadata": {
        "colab_type": "code",
        "id": "Xz6lUfSP6vtc",
        "colab": {
          "base_uri": "https://localhost:8080/",
          "height": 0
        },
        "outputId": "f5b0e951-0f0b-4a44-ab13-a8ed20e5b12f"
      },
      "source": [
        "plt.hist(newData.AMB_MON_02.value_counts().sort_index())\n",
        "plt.yscale('log')"
      ],
      "execution_count": 48,
      "outputs": [
        {
          "output_type": "display_data",
          "data": {
            "image/png": "[encoded data removed]",
            "text/plain": [
              "<Figure size 432x288 with 1 Axes>"
            ]
          },
          "metadata": {
            "tags": []
          }
        }
      ]
    },
    {
      "cell_type": "code",
      "metadata": {
        "colab_type": "code",
        "id": "35ul4ugT6v_i",
        "colab": {
          "base_uri": "https://localhost:8080/",
          "height": 0
        },
        "outputId": "52594c2d-bda3-491b-9385-7ab470354a7c"
      },
      "source": [
        "plt.hist(newData.AMB_MON_03.value_counts().sort_index())\n",
        "plt.yscale('log')"
      ],
      "execution_count": 49,
      "outputs": [
        {
          "output_type": "display_data",
          "data": {
            "image/png": "[encoded data removed]",
            "text/plain": [
              "<Figure size 432x288 with 1 Axes>"
            ]
          },
          "metadata": {
            "tags": []
          }
        }
      ]
    },
    {
      "cell_type": "code",
      "metadata": {
        "colab_type": "code",
        "id": "TsSCSVOx6wOm",
        "colab": {
          "base_uri": "https://localhost:8080/",
          "height": 0
        },
        "outputId": "66e3f209-0315-412b-e8f1-437b817a73ea"
      },
      "source": [
        "plt.hist(newData.AMB_MON_04.value_counts().sort_index())\n",
        "plt.yscale('log')"
      ],
      "execution_count": 50,
      "outputs": [
        {
          "output_type": "display_data",
          "data": {
            "image/png": "[encoded data removed]",
            "text/plain": [
              "<Figure size 432x288 with 1 Axes>"
            ]
          },
          "metadata": {
            "tags": []
          }
        }
      ]
    },
    {
      "cell_type": "markdown",
      "metadata": {
        "id": "nbXhjdBP5LAa",
        "colab_type": "text"
      },
      "source": [
        "## Analysis of Zipcode"
      ]
    },
    {
      "cell_type": "code",
      "metadata": {
        "id": "Gijn6yD_5Lo7",
        "colab_type": "code",
        "outputId": "89f15ace-d4d7-4c41-cbc8-3f09dd87b918",
        "colab": {
          "base_uri": "https://localhost:8080/",
          "height": 34
        }
      },
      "source": [
        "newData['ZIP_CODE_FINAL'].dtype"
      ],
      "execution_count": 51,
      "outputs": [
        {
          "output_type": "execute_result",
          "data": {
            "text/plain": [
              "dtype('O')"
            ]
          },
          "metadata": {
            "tags": []
          },
          "execution_count": 51
        }
      ]
    },
    {
      "cell_type": "code",
      "metadata": {
        "id": "As_uOgj9BnME",
        "colab_type": "code",
        "outputId": "f0d002ea-283d-48e8-8a75-559ee6805125",
        "colab": {
          "base_uri": "https://localhost:8080/",
          "height": 34
        }
      },
      "source": [
        "dicti = {'float':0,'int':0,'str':0}\n",
        "for x in newData.ZIP_CODE_FINAL:\n",
        "    if type(x) == str:\n",
        "        dicti['str'] += 1\n",
        "    elif type(x) == float:\n",
        "        dicti['float'] += 1\n",
        "    elif type(x) == int:\n",
        "        dicti['int'] += 1\n",
        "print(dicti)"
      ],
      "execution_count": 52,
      "outputs": [
        {
          "output_type": "stream",
          "text": [
            "{'float': 110423, 'int': 0, 'str': 188272}\n"
          ],
          "name": "stdout"
        }
      ]
    },
    {
      "cell_type": "code",
      "metadata": {
        "id": "WtGObADdN-dn",
        "colab_type": "code",
        "outputId": "f33d6fbb-70e2-4cbd-9510-b7ab9abac07d",
        "colab": {
          "base_uri": "https://localhost:8080/",
          "height": 34
        }
      },
      "source": [
        "newData.ZIP_CODE_FINAL.isnull().sum()"
      ],
      "execution_count": 53,
      "outputs": [
        {
          "output_type": "execute_result",
          "data": {
            "text/plain": [
              "2140"
            ]
          },
          "metadata": {
            "tags": []
          },
          "execution_count": 53
        }
      ]
    },
    {
      "cell_type": "code",
      "metadata": {
        "id": "13V_Ev5nciRa",
        "colab_type": "code",
        "colab": {}
      },
      "source": [
        "newData = newData[newData.ZIP_CODE_FINAL.notnull()]"
      ],
      "execution_count": 0,
      "outputs": []
    },
    {
      "cell_type": "code",
      "metadata": {
        "id": "0NtPCmaXUOkQ",
        "colab_type": "code",
        "colab": {}
      },
      "source": [
        "def cleaningZipCode(df):\n",
        "    ind =[]\n",
        "    count = 0\n",
        "    countl = len(df)\n",
        "    for index, value in enumerate(df.ZIP_CODE_FINAL):\n",
        "        # print(index,value)\n",
        "        try:\n",
        "            if (len(str(value)) < 5):\n",
        "                df.ZIP_CODE_FINAL.iloc[index] = 'EMPTY'\n",
        "                # print('\\'{}\\' index will be chenged to \\'{}\\' value.\\n'.format(index,df.ZIP_CODE_FINAL.iloc[index]))\n",
        "            elif ' ' in str(value):\n",
        "                df.ZIP_CODE_FINAL.iloc[index] = str(value).split(' ')[0] + str(value).split(' ')[1]\n",
        "                # print(\"'{}' value for index '{}' was replaced with '{}'\\n\".format(value,index,df.ZIP_CODE_FINAL.iloc[index]))\n",
        "            elif '.' in str(value):\n",
        "                df.ZIP_CODE_FINAL.iloc[index] = str(value).split('.')[0]\n",
        "                # print(\"'{}' value for index '{}' was replaced with '{}'\\n\".format(value,index,df.ZIP_CODE_FINAL.iloc[index]))\n",
        "            else:\n",
        "                df.ZIP_CODE_FINAL.iloc[index] = str(value)\n",
        "        except ValueError:\n",
        "            print('\\'{}\\' value is giving ValueError'.format(value))\n",
        "            print('Record with index \\'{}\\' will be droped\\n')\n",
        "            ind.append(index)\n",
        "        count += 1\n",
        "        print('{}%'.format((((abs(count-countl))/countl)*100)))\n",
        "    df.drop(index,inplace=True)"
      ],
      "execution_count": 0,
      "outputs": []
    },
    {
      "cell_type": "code",
      "metadata": {
        "id": "nqs2rC-S7BtK",
        "colab_type": "code",
        "outputId": "a7640a8a-d662-45d1-9530-ecda5de4b72c",
        "colab": {
          "base_uri": "https://localhost:8080/",
          "height": 1000
        }
      },
      "source": [
        "cleaningZipCode(newData)"
      ],
      "execution_count": 56,
      "outputs": [
        {
          "output_type": "stream",
          "text": [
            "/usr/local/lib/python3.6/dist-packages/pandas/core/indexing.py:205: SettingWithCopyWarning: \n",
            "A value is trying to be set on a copy of a slice from a DataFrame\n",
            "\n",
            "See the caveats in the documentation: http://pandas.pydata.org/pandas-docs/stable/user_guide/indexing.html#returning-a-view-versus-a-copy\n",
            "  self._setitem_with_indexer(indexer, value)\n"
          ],
          "name": "stderr"
        },
        {
          "output_type": "stream",
          "text": [
            "'4407' index will be chenged to 'EMPTY' value.\n",
            "\n",
            "'7393' index will be chenged to 'EMPTY' value.\n",
            "\n",
            "'11814' index will be chenged to 'EMPTY' value.\n",
            "\n",
            "'17855' index will be chenged to 'EMPTY' value.\n",
            "\n",
            "'18455' index will be chenged to 'EMPTY' value.\n",
            "\n",
            "'22791' index will be chenged to 'EMPTY' value.\n",
            "\n",
            "'25529' index will be chenged to 'EMPTY' value.\n",
            "\n",
            "'31289' index will be chenged to 'EMPTY' value.\n",
            "\n",
            "'43179' index will be chenged to 'EMPTY' value.\n",
            "\n",
            "'43597' index will be chenged to 'EMPTY' value.\n",
            "\n",
            "'45266' index will be chenged to 'EMPTY' value.\n",
            "\n",
            "'48732' index will be chenged to 'EMPTY' value.\n",
            "\n",
            "'57002' index will be chenged to 'EMPTY' value.\n",
            "\n",
            "'60176' index will be chenged to 'EMPTY' value.\n",
            "\n",
            "'60987' index will be chenged to 'EMPTY' value.\n",
            "\n",
            "'69502' index will be chenged to 'EMPTY' value.\n",
            "\n",
            "'70391' index will be chenged to 'EMPTY' value.\n",
            "\n",
            "'71477' index will be chenged to 'EMPTY' value.\n",
            "\n",
            "'74181' index will be chenged to 'EMPTY' value.\n",
            "\n",
            "'75755' index will be chenged to 'EMPTY' value.\n",
            "\n",
            "'78885' index will be chenged to 'EMPTY' value.\n",
            "\n",
            "'79438' index will be chenged to 'EMPTY' value.\n",
            "\n",
            "'86986' index will be chenged to 'EMPTY' value.\n",
            "\n",
            "'95756' index will be chenged to 'EMPTY' value.\n",
            "\n",
            "'95847' index will be chenged to 'EMPTY' value.\n",
            "\n",
            "'98459' index will be chenged to 'EMPTY' value.\n",
            "\n",
            "'98704' index will be chenged to 'EMPTY' value.\n",
            "\n",
            "'101409' index will be chenged to 'EMPTY' value.\n",
            "\n",
            "'114108' index will be chenged to 'EMPTY' value.\n",
            "\n",
            "'114973' index will be chenged to 'EMPTY' value.\n",
            "\n",
            "'118214' index will be chenged to 'EMPTY' value.\n",
            "\n",
            "'121947' index will be chenged to 'EMPTY' value.\n",
            "\n",
            "'122325' index will be chenged to 'EMPTY' value.\n",
            "\n",
            "'123476' index will be chenged to 'EMPTY' value.\n",
            "\n",
            "'130557' index will be chenged to 'EMPTY' value.\n",
            "\n",
            "'137188' index will be chenged to 'EMPTY' value.\n",
            "\n",
            "'137485' index will be chenged to 'EMPTY' value.\n",
            "\n",
            "'141148' index will be chenged to 'EMPTY' value.\n",
            "\n",
            "'148420' index will be chenged to 'EMPTY' value.\n",
            "\n",
            "'156171' index will be chenged to 'EMPTY' value.\n",
            "\n",
            "'159086' index will be chenged to 'EMPTY' value.\n",
            "\n",
            "'165417' index will be chenged to 'EMPTY' value.\n",
            "\n",
            "'165647' index will be chenged to 'EMPTY' value.\n",
            "\n",
            "'167034' index will be chenged to 'EMPTY' value.\n",
            "\n",
            "'168329' index will be chenged to 'EMPTY' value.\n",
            "\n",
            "'173552' index will be chenged to 'EMPTY' value.\n",
            "\n",
            "'175231' index will be chenged to 'EMPTY' value.\n",
            "\n",
            "'186129' index will be chenged to 'EMPTY' value.\n",
            "\n",
            "'187548' index will be chenged to 'EMPTY' value.\n",
            "\n",
            "'191354' index will be chenged to 'EMPTY' value.\n",
            "\n",
            "'191687' index will be chenged to 'EMPTY' value.\n",
            "\n",
            "'196262' index will be chenged to 'EMPTY' value.\n",
            "\n",
            "'199758' index will be chenged to 'EMPTY' value.\n",
            "\n",
            "'201907' index will be chenged to 'EMPTY' value.\n",
            "\n",
            "'202754' index will be chenged to 'EMPTY' value.\n",
            "\n",
            "'209113' index will be chenged to 'EMPTY' value.\n",
            "\n",
            "'212501' index will be chenged to 'EMPTY' value.\n",
            "\n",
            "'213764' index will be chenged to 'EMPTY' value.\n",
            "\n",
            "'224437' index will be chenged to 'EMPTY' value.\n",
            "\n",
            "'228489' index will be chenged to 'EMPTY' value.\n",
            "\n",
            "'229073' index will be chenged to 'EMPTY' value.\n",
            "\n",
            "'231147' index will be chenged to 'EMPTY' value.\n",
            "\n",
            "'231843' index will be chenged to 'EMPTY' value.\n",
            "\n",
            "'232369' index will be chenged to 'EMPTY' value.\n",
            "\n",
            "'233251' index will be chenged to 'EMPTY' value.\n",
            "\n",
            "'234756' index will be chenged to 'EMPTY' value.\n",
            "\n",
            "'242669' index will be chenged to 'EMPTY' value.\n",
            "\n",
            "'246636' index will be chenged to 'EMPTY' value.\n",
            "\n",
            "'247271' index will be chenged to 'EMPTY' value.\n",
            "\n",
            "'248358' index will be chenged to 'EMPTY' value.\n",
            "\n",
            "'252818' index will be chenged to 'EMPTY' value.\n",
            "\n",
            "'255186' index will be chenged to 'EMPTY' value.\n",
            "\n",
            "'255793' index will be chenged to 'EMPTY' value.\n",
            "\n",
            "'255908' index will be chenged to 'EMPTY' value.\n",
            "\n",
            "'256026' index will be chenged to 'EMPTY' value.\n",
            "\n",
            "'259656' index will be chenged to 'EMPTY' value.\n",
            "\n",
            "'263009' index will be chenged to 'EMPTY' value.\n",
            "\n",
            "'269002' index will be chenged to 'EMPTY' value.\n",
            "\n",
            "'277053' index will be chenged to 'EMPTY' value.\n",
            "\n",
            "'292764' index will be chenged to 'EMPTY' value.\n",
            "\n",
            "'294931' index will be chenged to 'EMPTY' value.\n",
            "\n"
          ],
          "name": "stdout"
        }
      ]
    },
    {
      "cell_type": "code",
      "metadata": {
        "colab_type": "code",
        "id": "JYG09mSt8B7F",
        "colab": {}
      },
      "source": [
        "lezc = LabelEncoder()"
      ],
      "execution_count": 0,
      "outputs": []
    },
    {
      "cell_type": "code",
      "metadata": {
        "id": "dnwBCPkCLufB",
        "colab_type": "code",
        "colab": {}
      },
      "source": [
        "newData.ZIP_CODE_FINAL = lezc.fit_transform(newData.ZIP_CODE_FINAL)"
      ],
      "execution_count": 0,
      "outputs": []
    },
    {
      "cell_type": "markdown",
      "metadata": {
        "id": "5AcUwWyJnI26",
        "colab_type": "text"
      },
      "source": [
        "## Analysis on EOP MON"
      ]
    },
    {
      "cell_type": "code",
      "metadata": {
        "id": "pOjI__NjnNSf",
        "colab_type": "code",
        "colab": {
          "base_uri": "https://localhost:8080/",
          "height": 297
        },
        "outputId": "59d7582b-3aeb-4a6c-8c31-3979a00e6f98"
      },
      "source": [
        "EOP = ['EOP_MON_02','EOP_MON_03']\n",
        "newData[EOP].describe()"
      ],
      "execution_count": 59,
      "outputs": [
        {
          "output_type": "execute_result",
          "data": {
            "text/html": [
              "<div>\n",
              "<style scoped>\n",
              "    .dataframe tbody tr th:only-of-type {\n",
              "        vertical-align: middle;\n",
              "    }\n",
              "\n",
              "    .dataframe tbody tr th {\n",
              "        vertical-align: top;\n",
              "    }\n",
              "\n",
              "    .dataframe thead th {\n",
              "        text-align: right;\n",
              "    }\n",
              "</style>\n",
              "<table border=\"1\" class=\"dataframe\">\n",
              "  <thead>\n",
              "    <tr style=\"text-align: right;\">\n",
              "      <th></th>\n",
              "      <th>EOP_MON_02</th>\n",
              "      <th>EOP_MON_03</th>\n",
              "    </tr>\n",
              "  </thead>\n",
              "  <tbody>\n",
              "    <tr>\n",
              "      <th>count</th>\n",
              "      <td>2.955660e+05</td>\n",
              "      <td>2.937910e+05</td>\n",
              "    </tr>\n",
              "    <tr>\n",
              "      <th>mean</th>\n",
              "      <td>2.170817e+04</td>\n",
              "      <td>2.177108e+04</td>\n",
              "    </tr>\n",
              "    <tr>\n",
              "      <th>std</th>\n",
              "      <td>6.829553e+04</td>\n",
              "      <td>6.652719e+04</td>\n",
              "    </tr>\n",
              "    <tr>\n",
              "      <th>min</th>\n",
              "      <td>-2.511007e+06</td>\n",
              "      <td>-2.511007e+06</td>\n",
              "    </tr>\n",
              "    <tr>\n",
              "      <th>25%</th>\n",
              "      <td>0.000000e+00</td>\n",
              "      <td>0.000000e+00</td>\n",
              "    </tr>\n",
              "    <tr>\n",
              "      <th>50%</th>\n",
              "      <td>1.520810e+03</td>\n",
              "      <td>1.650450e+03</td>\n",
              "    </tr>\n",
              "    <tr>\n",
              "      <th>75%</th>\n",
              "      <td>1.979134e+04</td>\n",
              "      <td>2.049374e+04</td>\n",
              "    </tr>\n",
              "    <tr>\n",
              "      <th>max</th>\n",
              "      <td>5.366019e+06</td>\n",
              "      <td>7.500850e+06</td>\n",
              "    </tr>\n",
              "  </tbody>\n",
              "</table>\n",
              "</div>"
            ],
            "text/plain": [
              "         EOP_MON_02    EOP_MON_03\n",
              "count  2.955660e+05  2.937910e+05\n",
              "mean   2.170817e+04  2.177108e+04\n",
              "std    6.829553e+04  6.652719e+04\n",
              "min   -2.511007e+06 -2.511007e+06\n",
              "25%    0.000000e+00  0.000000e+00\n",
              "50%    1.520810e+03  1.650450e+03\n",
              "75%    1.979134e+04  2.049374e+04\n",
              "max    5.366019e+06  7.500850e+06"
            ]
          },
          "metadata": {
            "tags": []
          },
          "execution_count": 59
        }
      ]
    },
    {
      "cell_type": "code",
      "metadata": {
        "id": "jLERz0Jqn7l6",
        "colab_type": "code",
        "colab": {
          "base_uri": "https://localhost:8080/",
          "height": 204
        },
        "outputId": "b4f90d99-8ac1-4460-8def-8796ce8f8525"
      },
      "source": [
        "newData[EOP].head()"
      ],
      "execution_count": 60,
      "outputs": [
        {
          "output_type": "execute_result",
          "data": {
            "text/html": [
              "<div>\n",
              "<style scoped>\n",
              "    .dataframe tbody tr th:only-of-type {\n",
              "        vertical-align: middle;\n",
              "    }\n",
              "\n",
              "    .dataframe tbody tr th {\n",
              "        vertical-align: top;\n",
              "    }\n",
              "\n",
              "    .dataframe thead th {\n",
              "        text-align: right;\n",
              "    }\n",
              "</style>\n",
              "<table border=\"1\" class=\"dataframe\">\n",
              "  <thead>\n",
              "    <tr style=\"text-align: right;\">\n",
              "      <th></th>\n",
              "      <th>EOP_MON_02</th>\n",
              "      <th>EOP_MON_03</th>\n",
              "    </tr>\n",
              "  </thead>\n",
              "  <tbody>\n",
              "    <tr>\n",
              "      <th>0</th>\n",
              "      <td>0.00</td>\n",
              "      <td>0.00</td>\n",
              "    </tr>\n",
              "    <tr>\n",
              "      <th>1</th>\n",
              "      <td>3016.77</td>\n",
              "      <td>3.02</td>\n",
              "    </tr>\n",
              "    <tr>\n",
              "      <th>2</th>\n",
              "      <td>9999.00</td>\n",
              "      <td>14858.75</td>\n",
              "    </tr>\n",
              "    <tr>\n",
              "      <th>3</th>\n",
              "      <td>27163.10</td>\n",
              "      <td>49675.27</td>\n",
              "    </tr>\n",
              "    <tr>\n",
              "      <th>4</th>\n",
              "      <td>21065.87</td>\n",
              "      <td>983.87</td>\n",
              "    </tr>\n",
              "  </tbody>\n",
              "</table>\n",
              "</div>"
            ],
            "text/plain": [
              "   EOP_MON_02  EOP_MON_03\n",
              "0        0.00        0.00\n",
              "1     3016.77        3.02\n",
              "2     9999.00    14858.75\n",
              "3    27163.10    49675.27\n",
              "4    21065.87      983.87"
            ]
          },
          "metadata": {
            "tags": []
          },
          "execution_count": 60
        }
      ]
    },
    {
      "cell_type": "code",
      "metadata": {
        "id": "g3Id8UDwoACh",
        "colab_type": "code",
        "colab": {
          "base_uri": "https://localhost:8080/",
          "height": 68
        },
        "outputId": "e05c5ba0-03b6-49dc-92a1-952d24be85ab"
      },
      "source": [
        "newData[EOP].isnull().sum()"
      ],
      "execution_count": 61,
      "outputs": [
        {
          "output_type": "execute_result",
          "data": {
            "text/plain": [
              "EOP_MON_02     988\n",
              "EOP_MON_03    2763\n",
              "dtype: int64"
            ]
          },
          "metadata": {
            "tags": []
          },
          "execution_count": 61
        }
      ]
    },
    {
      "cell_type": "code",
      "metadata": {
        "id": "1QicaoodoJUq",
        "colab_type": "code",
        "colab": {}
      },
      "source": [
        "newData.EOP_MON_02.fillna(0,inplace=True)"
      ],
      "execution_count": 0,
      "outputs": []
    },
    {
      "cell_type": "code",
      "metadata": {
        "id": "cWqGFM2yM1Fl",
        "colab_type": "code",
        "colab": {}
      },
      "source": [
        "newData.EOP_MON_03.fillna(0,inplace=True)"
      ],
      "execution_count": 0,
      "outputs": []
    },
    {
      "cell_type": "code",
      "metadata": {
        "colab_type": "code",
        "id": "ObucG_KoFJsv",
        "colab": {
          "base_uri": "https://localhost:8080/",
          "height": 34
        },
        "outputId": "7af82820-c014-42f0-b225-37c1cbc2a55c"
      },
      "source": [
        "newData.isnull().any()[newData.isnull().any().values == True]"
      ],
      "execution_count": 64,
      "outputs": [
        {
          "output_type": "execute_result",
          "data": {
            "text/plain": [
              "Series([], dtype: bool)"
            ]
          },
          "metadata": {
            "tags": []
          },
          "execution_count": 64
        }
      ]
    },
    {
      "cell_type": "code",
      "metadata": {
        "colab_type": "code",
        "id": "5yuGzruZ56LE",
        "colab": {
          "base_uri": "https://localhost:8080/",
          "height": 265
        },
        "outputId": "6d20a696-eca0-4046-9a61-5b3e01f6195f"
      },
      "source": [
        "plt.hist(newData.EOP_BAL_MON_01.value_counts().sort_index())\n",
        "plt.yscale('log')"
      ],
      "execution_count": 65,
      "outputs": [
        {
          "output_type": "display_data",
          "data": {
            "image/png": "[encoded data removed]",
            "text/plain": [
              "<Figure size 432x288 with 1 Axes>"
            ]
          },
          "metadata": {
            "tags": []
          }
        }
      ]
    },
    {
      "cell_type": "code",
      "metadata": {
        "id": "OERiZB_V6GM7",
        "colab_type": "code",
        "colab": {
          "base_uri": "https://localhost:8080/",
          "height": 265
        },
        "outputId": "22170114-3801-4cb2-eb1e-ce2dc20263f3"
      },
      "source": [
        "plt.hist(newData.EOP_MON_02.value_counts().sort_index())\n",
        "plt.yscale('log')"
      ],
      "execution_count": 66,
      "outputs": [
        {
          "output_type": "display_data",
          "data": {
            "image/png": "[encoded data removed]",
            "text/plain": [
              "<Figure size 432x288 with 1 Axes>"
            ]
          },
          "metadata": {
            "tags": []
          }
        }
      ]
    },
    {
      "cell_type": "code",
      "metadata": {
        "id": "GkPd0fTg6HCv",
        "colab_type": "code",
        "colab": {
          "base_uri": "https://localhost:8080/",
          "height": 265
        },
        "outputId": "07b5cb5d-7ef5-4f98-e68f-8b2015fa4442"
      },
      "source": [
        "plt.hist(newData.EOP_MON_03.value_counts().sort_index())\n",
        "plt.yscale('log')"
      ],
      "execution_count": 67,
      "outputs": [
        {
          "output_type": "display_data",
          "data": {
            "image/png": "[encoded data removed]",
            "text/plain": [
              "<Figure size 432x288 with 1 Axes>"
            ]
          },
          "metadata": {
            "tags": []
          }
        }
      ]
    },
    {
      "cell_type": "markdown",
      "metadata": {
        "id": "9-O8M9dMFLEo",
        "colab_type": "text"
      },
      "source": [
        "## Analysis on Binary Data Columns"
      ]
    },
    {
      "cell_type": "code",
      "metadata": {
        "id": "ooc-U89GF9Zj",
        "colab_type": "code",
        "colab": {}
      },
      "source": [
        "def listBinCols(df):\n",
        "    bincols = []\n",
        "    for col in df.columns:\n",
        "        if df[col].nunique() == 2:\n",
        "            if sorted(df[col].unique()) == ['N','Y']:\n",
        "                bincols.append(col)\n",
        "                # print('{} Column has {} unique values'.format(col,df[col].unique()))\n",
        "    return bincols"
      ],
      "execution_count": 0,
      "outputs": []
    },
    {
      "cell_type": "code",
      "metadata": {
        "id": "BXSQjUmSGkqg",
        "colab_type": "code",
        "colab": {}
      },
      "source": [
        "binCols = listBinCols(newData)"
      ],
      "execution_count": 0,
      "outputs": []
    },
    {
      "cell_type": "code",
      "metadata": {
        "id": "X87gwBqaHHdO",
        "colab_type": "code",
        "colab": {}
      },
      "source": [
        "leBin = LabelEncoder()\n"
      ],
      "execution_count": 0,
      "outputs": []
    },
    {
      "cell_type": "code",
      "metadata": {
        "id": "7kzCP2QnHb9e",
        "colab_type": "code",
        "colab": {}
      },
      "source": [
        "def leBincols(df):\n",
        "    for col in binCols:\n",
        "        df[col] = leBin.fit_transform(df[col])"
      ],
      "execution_count": 0,
      "outputs": []
    },
    {
      "cell_type": "code",
      "metadata": {
        "id": "ipBMhc57IYi0",
        "colab_type": "code",
        "colab": {}
      },
      "source": [
        "leBincols(newData)"
      ],
      "execution_count": 0,
      "outputs": []
    },
    {
      "cell_type": "code",
      "metadata": {
        "id": "M0xmr7VJIbYz",
        "colab_type": "code",
        "colab": {}
      },
      "source": [
        ""
      ],
      "execution_count": 0,
      "outputs": []
    },
    {
      "cell_type": "markdown",
      "metadata": {
        "id": "dMRQKmjTI_WY",
        "colab_type": "text"
      },
      "source": [
        "## Analysis on CHANNEL_CLICK_DISP"
      ]
    },
    {
      "cell_type": "code",
      "metadata": {
        "id": "UMcTwoE_I_33",
        "colab_type": "code",
        "colab": {
          "base_uri": "https://localhost:8080/",
          "height": 34
        },
        "outputId": "06b55850-6cbb-4a99-aabb-d9ca391d0c79"
      },
      "source": [
        "newData.CHANNEL_CLICK_DISP.nunique()"
      ],
      "execution_count": 73,
      "outputs": [
        {
          "output_type": "execute_result",
          "data": {
            "text/plain": [
              "3"
            ]
          },
          "metadata": {
            "tags": []
          },
          "execution_count": 73
        }
      ]
    },
    {
      "cell_type": "code",
      "metadata": {
        "id": "EYWk_8FzSo5l",
        "colab_type": "code",
        "colab": {
          "base_uri": "https://localhost:8080/",
          "height": 34
        },
        "outputId": "7bd6fcbb-5dc1-483c-e8d9-9639e8ff47f2"
      },
      "source": [
        "newData.CHANNEL_CLICK_DISP.unique()"
      ],
      "execution_count": 74,
      "outputs": [
        {
          "output_type": "execute_result",
          "data": {
            "text/plain": [
              "array(['NONE', 'DISP', 'CLICK'], dtype=object)"
            ]
          },
          "metadata": {
            "tags": []
          },
          "execution_count": 74
        }
      ]
    },
    {
      "cell_type": "code",
      "metadata": {
        "id": "ve_l8GTOTUvR",
        "colab_type": "code",
        "colab": {
          "base_uri": "https://localhost:8080/",
          "height": 282
        },
        "outputId": "dbfc4c4a-adb7-4711-f6b4-6510dc273bad"
      },
      "source": [
        "plt.bar(newData.CHANNEL_CLICK_DISP.unique(),newData.CHANNEL_CLICK_DISP.value_counts())"
      ],
      "execution_count": 75,
      "outputs": [
        {
          "output_type": "execute_result",
          "data": {
            "text/plain": [
              "<BarContainer object of 3 artists>"
            ]
          },
          "metadata": {
            "tags": []
          },
          "execution_count": 75
        },
        {
          "output_type": "display_data",
          "data": {
            "image/png": "[encoded data removed]",
            "text/plain": [
              "<Figure size 432x288 with 1 Axes>"
            ]
          },
          "metadata": {
            "tags": []
          }
        }
      ]
    },
    {
      "cell_type": "code",
      "metadata": {
        "id": "UZWSjwTRTdlb",
        "colab_type": "code",
        "colab": {
          "base_uri": "https://localhost:8080/",
          "height": 282
        },
        "outputId": "a8295eb3-e12d-4db3-a9f9-b274d9ffd0e7"
      },
      "source": [
        "plt.bar(newData.CHANNEL_CLICK_DISP[newData.RESPONDERS == 1].unique(),newData.CHANNEL_CLICK_DISP[newData.RESPONDERS == 1].value_counts(),color='g')"
      ],
      "execution_count": 76,
      "outputs": [
        {
          "output_type": "execute_result",
          "data": {
            "text/plain": [
              "<BarContainer object of 3 artists>"
            ]
          },
          "metadata": {
            "tags": []
          },
          "execution_count": 76
        },
        {
          "output_type": "display_data",
          "data": {
            "image/png": "[encoded data removed]",
            "text/plain": [
              "<Figure size 432x288 with 1 Axes>"
            ]
          },
          "metadata": {
            "tags": []
          }
        }
      ]
    },
    {
      "cell_type": "code",
      "metadata": {
        "id": "WaAw6ZQBUCpm",
        "colab_type": "code",
        "colab": {
          "base_uri": "https://localhost:8080/",
          "height": 282
        },
        "outputId": "82be9780-b474-4250-a130-e55c06215387"
      },
      "source": [
        "plt.bar(newData.CHANNEL_CLICK_DISP[newData.RESPONDERS == 0].unique(),newData.CHANNEL_CLICK_DISP[newData.RESPONDERS == 0].value_counts(),color='r')"
      ],
      "execution_count": 77,
      "outputs": [
        {
          "output_type": "execute_result",
          "data": {
            "text/plain": [
              "<BarContainer object of 3 artists>"
            ]
          },
          "metadata": {
            "tags": []
          },
          "execution_count": 77
        },
        {
          "output_type": "display_data",
          "data": {
            "image/png": "[encoded data removed]",
            "text/plain": [
              "<Figure size 432x288 with 1 Axes>"
            ]
          },
          "metadata": {
            "tags": []
          }
        }
      ]
    },
    {
      "cell_type": "code",
      "metadata": {
        "id": "CWqu0O0RSudG",
        "colab_type": "code",
        "colab": {}
      },
      "source": [
        "leccd = LabelEncoder()"
      ],
      "execution_count": 0,
      "outputs": []
    },
    {
      "cell_type": "code",
      "metadata": {
        "id": "k2VPVqKpUyyL",
        "colab_type": "code",
        "colab": {}
      },
      "source": [
        "newData.CHANNEL_CLICK_DISP = leccd.fit_transform(newData.CHANNEL_CLICK_DISP)"
      ],
      "execution_count": 0,
      "outputs": []
    },
    {
      "cell_type": "markdown",
      "metadata": {
        "id": "I4Qsj2kgVBpg",
        "colab_type": "text"
      },
      "source": [
        "## Analysis on Designation"
      ]
    },
    {
      "cell_type": "code",
      "metadata": {
        "id": "srJt-FOTU_fI",
        "colab_type": "code",
        "colab": {
          "base_uri": "https://localhost:8080/",
          "height": 34
        },
        "outputId": "56f22ae4-00ae-45d6-9492-2e7584b0ec93"
      },
      "source": [
        "newData.DESIGNATION_FINAL.nunique()"
      ],
      "execution_count": 80,
      "outputs": [
        {
          "output_type": "execute_result",
          "data": {
            "text/plain": [
              "11"
            ]
          },
          "metadata": {
            "tags": []
          },
          "execution_count": 80
        }
      ]
    },
    {
      "cell_type": "code",
      "metadata": {
        "id": "8bI05i4oVI2T",
        "colab_type": "code",
        "colab": {
          "base_uri": "https://localhost:8080/",
          "height": 68
        },
        "outputId": "2b579717-3c91-4827-fd79-21141731a79e"
      },
      "source": [
        "newData.DESIGNATION_FINAL.unique()"
      ],
      "execution_count": 81,
      "outputs": [
        {
          "output_type": "execute_result",
          "data": {
            "text/plain": [
              "array(['MISSING', 'ENGINEER', 'MANAGER', 'EXECUTIVE', 'SUP/TECH/OPR',\n",
              "       'OFFICER', 'OTHERS', 'DEVEP/PROG/ANALYST/ASSO', 'REMAING',\n",
              "       'TOP_MANAG/DOC', 'TEACH/PROF/CONSULT'], dtype=object)"
            ]
          },
          "metadata": {
            "tags": []
          },
          "execution_count": 81
        }
      ]
    },
    {
      "cell_type": "code",
      "metadata": {
        "id": "BrThkfLdVL4q",
        "colab_type": "code",
        "colab": {
          "base_uri": "https://localhost:8080/",
          "height": 508
        },
        "outputId": "35e83c60-8986-4857-e685-a1dd96b2b40e"
      },
      "source": [
        "fig, ax = plt.subplots(1,2,figsize=(20,6))\n",
        "ax[0].bar(newData.DESIGNATION_FINAL[newData.RESPONDERS == 1].value_counts().index, newData.DESIGNATION_FINAL[newData.RESPONDERS == 1].value_counts().values,color='g')\n",
        "ax[1].bar(newData.DESIGNATION_FINAL[newData.RESPONDERS == 0].value_counts().index, newData.DESIGNATION_FINAL[newData.RESPONDERS == 0].value_counts().values,color='r')\n",
        "for i in range(2):\n",
        "    for tick in ax[i].get_xticklabels():\n",
        "        tick.set_rotation(90)"
      ],
      "execution_count": 82,
      "outputs": [
        {
          "output_type": "display_data",
          "data": {
            "image/png": "[encoded data removed]",
            "text/plain": [
              "<Figure size 1440x432 with 2 Axes>"
            ]
          },
          "metadata": {
            "tags": []
          }
        }
      ]
    },
    {
      "cell_type": "code",
      "metadata": {
        "id": "q1FGi7P6WK7X",
        "colab_type": "code",
        "colab": {}
      },
      "source": [
        "ledes = LabelEncoder()"
      ],
      "execution_count": 0,
      "outputs": []
    },
    {
      "cell_type": "code",
      "metadata": {
        "id": "SV4T9zsFhnsB",
        "colab_type": "code",
        "colab": {}
      },
      "source": [
        "newData.DESIGNATION_FINAL = ledes.fit_transform(newData.DESIGNATION_FINAL)"
      ],
      "execution_count": 0,
      "outputs": []
    },
    {
      "cell_type": "markdown",
      "metadata": {
        "id": "6NqDZdC6iFIY",
        "colab_type": "text"
      },
      "source": [
        "## Analysis on CC DC Catogories"
      ]
    },
    {
      "cell_type": "code",
      "metadata": {
        "id": "WwYgP3RQhxKG",
        "colab_type": "code",
        "colab": {}
      },
      "source": [
        "ccdc = ['NEFT_CC_CATEGORY', 'NEFT_DC_CATEGORY', 'TPT_DC_CATEGORY_MON_01',\n",
        "       'TPT_CC_CATEGORY_MON_01', 'IMPS_CC_CATEGORY_MON_01']"
      ],
      "execution_count": 0,
      "outputs": []
    },
    {
      "cell_type": "code",
      "metadata": {
        "id": "l6oQRgohiKyC",
        "colab_type": "code",
        "colab": {}
      },
      "source": [
        "def ccdcUnique(df):\n",
        "    for col in ccdc:\n",
        "        print('{} has {} unique values: \\n{}\\n\\n'.format(col, df[col].nunique(), df[col].unique()))"
      ],
      "execution_count": 0,
      "outputs": []
    },
    {
      "cell_type": "code",
      "metadata": {
        "id": "ZizwdytDjCnb",
        "colab_type": "code",
        "colab": {
          "base_uri": "https://localhost:8080/",
          "height": 561
        },
        "outputId": "82d51e1f-cff6-402f-bf60-756ae9e5333f"
      },
      "source": [
        "ccdcUnique(newData)"
      ],
      "execution_count": 87,
      "outputs": [
        {
          "output_type": "stream",
          "text": [
            "NEFT_CC_CATEGORY has 20 unique values: \n",
            "['NO_NEFT_TXN' 'NOT_RELEVANT' 'LOAN' 'RETURN' 'TRANSFER' 'RENT' 'TRAVEL'\n",
            " 'EDUCATION' 'EMI' 'PERSONAL' 'MEDICAL' 'BUILDER' 'JEWELLERY' 'ELECTRICI'\n",
            " 'GAS' 'WEDDING' 'OPERATION' 'ADVANCE' 'CHILD_BIR' 'HELP']\n",
            "\n",
            "\n",
            "NEFT_DC_CATEGORY has 20 unique values: \n",
            "['NO_NEFT_TXN' 'NOT_RELEVANT' 'LOAN' 'RENT' 'JEWELLERY' 'EDUCATION'\n",
            " 'MEDICAL' 'TRAVEL' 'PERSONAL' 'CC_PAYMENT' 'BUILDER' 'GAS' 'EMI'\n",
            " 'CHILD_BIR' 'TRANSFER' 'HELP' 'WEDDING' 'ELECTRICI' 'OPERATION' 'RETURN']\n",
            "\n",
            "\n",
            "TPT_DC_CATEGORY_MON_01 has 21 unique values: \n",
            "['NO_TPT_TXN' 'NOT_RELEVANT' 'MEDICAL' 'LOAN' 'TRANSFER' 'TRAVEL'\n",
            " 'PERSONAL' 'RENT' 'CC_PAYMENT' 'RETURN' 'EMI' 'EDUCATION' 'BUILDER'\n",
            " 'CHILD_BIR' 'HELP' 'ADVANCE' 'WEDDING' 'GAS' 'ELECTRICI' 'OPERATION'\n",
            " 'JEWELLERY']\n",
            "\n",
            "\n",
            "TPT_CC_CATEGORY_MON_01 has 21 unique values: \n",
            "['NO_TPT_TXN' 'NOT_RELEVANT' 'TRANSFER' 'LOAN' 'PERSONAL' 'RETURN' 'RENT'\n",
            " 'TRAVEL' 'CC_PAYMENT' 'EMI' 'CHILD_BIR' 'EDUCATION' 'GAS' 'ADVANCE'\n",
            " 'MEDICAL' 'HELP' 'ELECTRICI' 'WEDDING' 'BUILDER' 'OPERATION' 'JEWELLERY']\n",
            "\n",
            "\n",
            "IMPS_CC_CATEGORY_MON_01 has 21 unique values: \n",
            "['NO_IMPS_TXN' 'NOT_RELEVANT' 'TRANSFER' 'RENT' 'LOAN' 'RETURN' 'EMI'\n",
            " 'CC_PAYMENT' 'PERSONAL' 'EDUCATION' 'TRAVEL' 'ADVANCE' 'CHILD_BIR'\n",
            " 'MEDICAL' 'GAS' 'BUILDER' 'HELP' 'JEWELLERY' 'WEDDING' 'ELECTRICI'\n",
            " 'OPERATION']\n",
            "\n",
            "\n"
          ],
          "name": "stdout"
        }
      ]
    },
    {
      "cell_type": "code",
      "metadata": {
        "id": "k890C5iojH5R",
        "colab_type": "code",
        "colab": {}
      },
      "source": [
        "def leCCDC(df,lst):\n",
        "    le1 = LabelEncoder()\n",
        "    le2 = LabelEncoder()\n",
        "    le3 = LabelEncoder()\n",
        "    le4 = LabelEncoder()\n",
        "    le5 = LabelEncoder()\n",
        "    le = [le1,le2,le3,le4,le5]\n",
        "    zipped = list(zip(le,lst))\n",
        "    for i in range(len(zipped)):\n",
        "        print(zipped[i][1])\n",
        "        df[zipped[i][1]] = zipped[i][0].fit_transform(df[zipped[i][1]])\n",
        "    return le"
      ],
      "execution_count": 0,
      "outputs": []
    },
    {
      "cell_type": "code",
      "metadata": {
        "id": "_wpfWjhOjcPE",
        "colab_type": "code",
        "colab": {
          "base_uri": "https://localhost:8080/",
          "height": 102
        },
        "outputId": "7a88c57d-5e33-4bf3-8810-82eb9e5fed59"
      },
      "source": [
        "[le1,le2,le3,le4,le5] = leCCDC(newData,ccdc)"
      ],
      "execution_count": 89,
      "outputs": [
        {
          "output_type": "stream",
          "text": [
            "NEFT_CC_CATEGORY\n",
            "NEFT_DC_CATEGORY\n",
            "TPT_DC_CATEGORY_MON_01\n",
            "TPT_CC_CATEGORY_MON_01\n",
            "IMPS_CC_CATEGORY_MON_01\n"
          ],
          "name": "stdout"
        }
      ]
    },
    {
      "cell_type": "code",
      "metadata": {
        "id": "-ZQB3QxMo7Gh",
        "colab_type": "code",
        "colab": {
          "base_uri": "https://localhost:8080/",
          "height": 224
        },
        "outputId": "a9d72251-eefa-4b6f-dbaa-96cc89b495cf"
      },
      "source": [
        "newData.head()"
      ],
      "execution_count": 90,
      "outputs": [
        {
          "output_type": "execute_result",
          "data": {
            "text/html": [
              "<div>\n",
              "<style scoped>\n",
              "    .dataframe tbody tr th:only-of-type {\n",
              "        vertical-align: middle;\n",
              "    }\n",
              "\n",
              "    .dataframe tbody tr th {\n",
              "        vertical-align: top;\n",
              "    }\n",
              "\n",
              "    .dataframe thead th {\n",
              "        text-align: right;\n",
              "    }\n",
              "</style>\n",
              "<table border=\"1\" class=\"dataframe\">\n",
              "  <thead>\n",
              "    <tr style=\"text-align: right;\">\n",
              "      <th></th>\n",
              "      <th>CUSTOMER_ID</th>\n",
              "      <th>ACT_TYPE</th>\n",
              "      <th>GENDER</th>\n",
              "      <th>LEGAL_ENTITY</th>\n",
              "      <th>AGE</th>\n",
              "      <th>N_CASA_MAX_BALANCE_MTD</th>\n",
              "      <th>N_CASA_MIN_BALANCE_MTD</th>\n",
              "      <th>CC_HOLD</th>\n",
              "      <th>CC_ACTIVE</th>\n",
              "      <th>DC_HOLD</th>\n",
              "      <th>DC_ACTIVE</th>\n",
              "      <th>COC_ELIGIBLE</th>\n",
              "      <th>EOP_BAL_MON_01</th>\n",
              "      <th>AMB_MON_04</th>\n",
              "      <th>AMB_MON_01</th>\n",
              "      <th>AMB_MON_02</th>\n",
              "      <th>AMB_MON_03</th>\n",
              "      <th>FINANCE_MON_01</th>\n",
              "      <th>JOBS_MON_01</th>\n",
              "      <th>LIFESTYLE_MON_01</th>\n",
              "      <th>INMON_01KET_MON_01</th>\n",
              "      <th>TRAVEL_MON_01</th>\n",
              "      <th>CHANNEL_CLICK_DISP</th>\n",
              "      <th>DESIGNATION_FINAL</th>\n",
              "      <th>TOP14_CITY</th>\n",
              "      <th>TOP9_CITY</th>\n",
              "      <th>PL2CC_ELIGIBLE</th>\n",
              "      <th>NEFT_CC_CATEGORY</th>\n",
              "      <th>NEFT_DC_CATEGORY</th>\n",
              "      <th>TPT_DC_CATEGORY_MON_01</th>\n",
              "      <th>TPT_CC_CATEGORY_MON_01</th>\n",
              "      <th>IMPS_CC_CATEGORY_MON_01</th>\n",
              "      <th>ZIP_CODE_FINAL</th>\n",
              "      <th>CARD_AUTOMOBILE_MON_01</th>\n",
              "      <th>CARD_HOTEL_MON_01</th>\n",
              "      <th>CARD_JEWELLERY_MON_01</th>\n",
              "      <th>CARD_RESTAURANT_MON_01</th>\n",
              "      <th>CARD_TRAVEL_MON_01</th>\n",
              "      <th>CARD_PRSNL_CARE_MON_01</th>\n",
              "      <th>CARD_HOBBY_MON_01</th>\n",
              "      <th>CARD_HOME_DECOR_MON_01</th>\n",
              "      <th>CARD_MEDICAL_MON_01</th>\n",
              "      <th>CARD_ENTMNT_MON_01</th>\n",
              "      <th>TOP_CORP_TAG</th>\n",
              "      <th>EOP_MON_02</th>\n",
              "      <th>EOP_MON_03</th>\n",
              "      <th>SCRUB_EMI</th>\n",
              "      <th>RESPONDERS</th>\n",
              "    </tr>\n",
              "  </thead>\n",
              "  <tbody>\n",
              "    <tr>\n",
              "      <th>0</th>\n",
              "      <td>385793</td>\n",
              "      <td>0</td>\n",
              "      <td>1</td>\n",
              "      <td>1</td>\n",
              "      <td>21</td>\n",
              "      <td>0.00</td>\n",
              "      <td>0.00</td>\n",
              "      <td>0</td>\n",
              "      <td>0</td>\n",
              "      <td>1</td>\n",
              "      <td>0</td>\n",
              "      <td>0</td>\n",
              "      <td>0.00</td>\n",
              "      <td>0.00</td>\n",
              "      <td>0.00</td>\n",
              "      <td>0.00</td>\n",
              "      <td>0.00</td>\n",
              "      <td>0</td>\n",
              "      <td>0</td>\n",
              "      <td>0</td>\n",
              "      <td>0</td>\n",
              "      <td>0</td>\n",
              "      <td>2</td>\n",
              "      <td>4</td>\n",
              "      <td>1</td>\n",
              "      <td>1</td>\n",
              "      <td>0</td>\n",
              "      <td>12</td>\n",
              "      <td>12</td>\n",
              "      <td>13</td>\n",
              "      <td>13</td>\n",
              "      <td>13</td>\n",
              "      <td>5802</td>\n",
              "      <td>0</td>\n",
              "      <td>0</td>\n",
              "      <td>0</td>\n",
              "      <td>0</td>\n",
              "      <td>0</td>\n",
              "      <td>0</td>\n",
              "      <td>0</td>\n",
              "      <td>0</td>\n",
              "      <td>0</td>\n",
              "      <td>0</td>\n",
              "      <td>NONE</td>\n",
              "      <td>0.00</td>\n",
              "      <td>0.00</td>\n",
              "      <td>0.000000</td>\n",
              "      <td>0</td>\n",
              "    </tr>\n",
              "    <tr>\n",
              "      <th>1</th>\n",
              "      <td>286891</td>\n",
              "      <td>0</td>\n",
              "      <td>1</td>\n",
              "      <td>1</td>\n",
              "      <td>23</td>\n",
              "      <td>8243.77</td>\n",
              "      <td>7.77</td>\n",
              "      <td>0</td>\n",
              "      <td>0</td>\n",
              "      <td>1</td>\n",
              "      <td>1</td>\n",
              "      <td>0</td>\n",
              "      <td>11.77</td>\n",
              "      <td>1417.26</td>\n",
              "      <td>300.51</td>\n",
              "      <td>593.06</td>\n",
              "      <td>418.09</td>\n",
              "      <td>0</td>\n",
              "      <td>0</td>\n",
              "      <td>0</td>\n",
              "      <td>0</td>\n",
              "      <td>0</td>\n",
              "      <td>2</td>\n",
              "      <td>4</td>\n",
              "      <td>1</td>\n",
              "      <td>1</td>\n",
              "      <td>0</td>\n",
              "      <td>12</td>\n",
              "      <td>12</td>\n",
              "      <td>13</td>\n",
              "      <td>13</td>\n",
              "      <td>13</td>\n",
              "      <td>11193</td>\n",
              "      <td>0</td>\n",
              "      <td>0</td>\n",
              "      <td>0</td>\n",
              "      <td>0</td>\n",
              "      <td>0</td>\n",
              "      <td>0</td>\n",
              "      <td>0</td>\n",
              "      <td>0</td>\n",
              "      <td>0</td>\n",
              "      <td>0</td>\n",
              "      <td>NONE</td>\n",
              "      <td>3016.77</td>\n",
              "      <td>3.02</td>\n",
              "      <td>0.000000</td>\n",
              "      <td>0</td>\n",
              "    </tr>\n",
              "    <tr>\n",
              "      <th>2</th>\n",
              "      <td>108751</td>\n",
              "      <td>0</td>\n",
              "      <td>1</td>\n",
              "      <td>1</td>\n",
              "      <td>41</td>\n",
              "      <td>26515.00</td>\n",
              "      <td>0.00</td>\n",
              "      <td>0</td>\n",
              "      <td>0</td>\n",
              "      <td>1</td>\n",
              "      <td>0</td>\n",
              "      <td>0</td>\n",
              "      <td>26458.25</td>\n",
              "      <td>5354.65</td>\n",
              "      <td>6100.73</td>\n",
              "      <td>7955.82</td>\n",
              "      <td>11138.53</td>\n",
              "      <td>0</td>\n",
              "      <td>0</td>\n",
              "      <td>0</td>\n",
              "      <td>0</td>\n",
              "      <td>1</td>\n",
              "      <td>2</td>\n",
              "      <td>4</td>\n",
              "      <td>0</td>\n",
              "      <td>0</td>\n",
              "      <td>0</td>\n",
              "      <td>12</td>\n",
              "      <td>11</td>\n",
              "      <td>13</td>\n",
              "      <td>13</td>\n",
              "      <td>13</td>\n",
              "      <td>154</td>\n",
              "      <td>0</td>\n",
              "      <td>0</td>\n",
              "      <td>0</td>\n",
              "      <td>0</td>\n",
              "      <td>0</td>\n",
              "      <td>0</td>\n",
              "      <td>0</td>\n",
              "      <td>0</td>\n",
              "      <td>0</td>\n",
              "      <td>0</td>\n",
              "      <td>NONE</td>\n",
              "      <td>9999.00</td>\n",
              "      <td>14858.75</td>\n",
              "      <td>0.000000</td>\n",
              "      <td>0</td>\n",
              "    </tr>\n",
              "    <tr>\n",
              "      <th>3</th>\n",
              "      <td>278651</td>\n",
              "      <td>0</td>\n",
              "      <td>1</td>\n",
              "      <td>1</td>\n",
              "      <td>28</td>\n",
              "      <td>65917.28</td>\n",
              "      <td>8270.28</td>\n",
              "      <td>1</td>\n",
              "      <td>1</td>\n",
              "      <td>1</td>\n",
              "      <td>1</td>\n",
              "      <td>1</td>\n",
              "      <td>65917.28</td>\n",
              "      <td>113120.39</td>\n",
              "      <td>35560.81</td>\n",
              "      <td>42686.93</td>\n",
              "      <td>61593.38</td>\n",
              "      <td>1</td>\n",
              "      <td>0</td>\n",
              "      <td>0</td>\n",
              "      <td>0</td>\n",
              "      <td>0</td>\n",
              "      <td>2</td>\n",
              "      <td>4</td>\n",
              "      <td>0</td>\n",
              "      <td>0</td>\n",
              "      <td>0</td>\n",
              "      <td>12</td>\n",
              "      <td>12</td>\n",
              "      <td>13</td>\n",
              "      <td>13</td>\n",
              "      <td>13</td>\n",
              "      <td>4035</td>\n",
              "      <td>0</td>\n",
              "      <td>0</td>\n",
              "      <td>1</td>\n",
              "      <td>0</td>\n",
              "      <td>0</td>\n",
              "      <td>1</td>\n",
              "      <td>0</td>\n",
              "      <td>1</td>\n",
              "      <td>1</td>\n",
              "      <td>0</td>\n",
              "      <td>NONE</td>\n",
              "      <td>27163.10</td>\n",
              "      <td>49675.27</td>\n",
              "      <td>0.000000</td>\n",
              "      <td>0</td>\n",
              "    </tr>\n",
              "    <tr>\n",
              "      <th>4</th>\n",
              "      <td>23637</td>\n",
              "      <td>0</td>\n",
              "      <td>1</td>\n",
              "      <td>1</td>\n",
              "      <td>34</td>\n",
              "      <td>22260.94</td>\n",
              "      <td>6060.94</td>\n",
              "      <td>1</td>\n",
              "      <td>1</td>\n",
              "      <td>1</td>\n",
              "      <td>0</td>\n",
              "      <td>0</td>\n",
              "      <td>6172.94</td>\n",
              "      <td>9099.94</td>\n",
              "      <td>15858.71</td>\n",
              "      <td>14008.08</td>\n",
              "      <td>4570.73</td>\n",
              "      <td>0</td>\n",
              "      <td>0</td>\n",
              "      <td>0</td>\n",
              "      <td>0</td>\n",
              "      <td>0</td>\n",
              "      <td>2</td>\n",
              "      <td>1</td>\n",
              "      <td>0</td>\n",
              "      <td>0</td>\n",
              "      <td>0</td>\n",
              "      <td>12</td>\n",
              "      <td>12</td>\n",
              "      <td>13</td>\n",
              "      <td>13</td>\n",
              "      <td>12</td>\n",
              "      <td>167</td>\n",
              "      <td>0</td>\n",
              "      <td>0</td>\n",
              "      <td>0</td>\n",
              "      <td>0</td>\n",
              "      <td>0</td>\n",
              "      <td>0</td>\n",
              "      <td>0</td>\n",
              "      <td>0</td>\n",
              "      <td>1</td>\n",
              "      <td>0</td>\n",
              "      <td>NONE</td>\n",
              "      <td>21065.87</td>\n",
              "      <td>983.87</td>\n",
              "      <td>251.758794</td>\n",
              "      <td>0</td>\n",
              "    </tr>\n",
              "  </tbody>\n",
              "</table>\n",
              "</div>"
            ],
            "text/plain": [
              "   CUSTOMER_ID  ACT_TYPE  GENDER  LEGAL_ENTITY  AGE  N_CASA_MAX_BALANCE_MTD  \\\n",
              "0       385793         0       1             1   21                    0.00   \n",
              "1       286891         0       1             1   23                 8243.77   \n",
              "2       108751         0       1             1   41                26515.00   \n",
              "3       278651         0       1             1   28                65917.28   \n",
              "4        23637         0       1             1   34                22260.94   \n",
              "\n",
              "   N_CASA_MIN_BALANCE_MTD  CC_HOLD  CC_ACTIVE  DC_HOLD  DC_ACTIVE  \\\n",
              "0                    0.00        0          0        1          0   \n",
              "1                    7.77        0          0        1          1   \n",
              "2                    0.00        0          0        1          0   \n",
              "3                 8270.28        1          1        1          1   \n",
              "4                 6060.94        1          1        1          0   \n",
              "\n",
              "   COC_ELIGIBLE  EOP_BAL_MON_01  AMB_MON_04  AMB_MON_01  AMB_MON_02  \\\n",
              "0             0            0.00        0.00        0.00        0.00   \n",
              "1             0           11.77     1417.26      300.51      593.06   \n",
              "2             0        26458.25     5354.65     6100.73     7955.82   \n",
              "3             1        65917.28   113120.39    35560.81    42686.93   \n",
              "4             0         6172.94     9099.94    15858.71    14008.08   \n",
              "\n",
              "   AMB_MON_03  FINANCE_MON_01  JOBS_MON_01  LIFESTYLE_MON_01  \\\n",
              "0        0.00               0            0                 0   \n",
              "1      418.09               0            0                 0   \n",
              "2    11138.53               0            0                 0   \n",
              "3    61593.38               1            0                 0   \n",
              "4     4570.73               0            0                 0   \n",
              "\n",
              "   INMON_01KET_MON_01  TRAVEL_MON_01  CHANNEL_CLICK_DISP  DESIGNATION_FINAL  \\\n",
              "0                   0              0                   2                  4   \n",
              "1                   0              0                   2                  4   \n",
              "2                   0              1                   2                  4   \n",
              "3                   0              0                   2                  4   \n",
              "4                   0              0                   2                  1   \n",
              "\n",
              "   TOP14_CITY  TOP9_CITY  PL2CC_ELIGIBLE  NEFT_CC_CATEGORY  NEFT_DC_CATEGORY  \\\n",
              "0           1          1               0                12                12   \n",
              "1           1          1               0                12                12   \n",
              "2           0          0               0                12                11   \n",
              "3           0          0               0                12                12   \n",
              "4           0          0               0                12                12   \n",
              "\n",
              "   TPT_DC_CATEGORY_MON_01  TPT_CC_CATEGORY_MON_01  IMPS_CC_CATEGORY_MON_01  \\\n",
              "0                      13                      13                       13   \n",
              "1                      13                      13                       13   \n",
              "2                      13                      13                       13   \n",
              "3                      13                      13                       13   \n",
              "4                      13                      13                       12   \n",
              "\n",
              "   ZIP_CODE_FINAL  CARD_AUTOMOBILE_MON_01  CARD_HOTEL_MON_01  \\\n",
              "0            5802                       0                  0   \n",
              "1           11193                       0                  0   \n",
              "2             154                       0                  0   \n",
              "3            4035                       0                  0   \n",
              "4             167                       0                  0   \n",
              "\n",
              "   CARD_JEWELLERY_MON_01  CARD_RESTAURANT_MON_01  CARD_TRAVEL_MON_01  \\\n",
              "0                      0                       0                   0   \n",
              "1                      0                       0                   0   \n",
              "2                      0                       0                   0   \n",
              "3                      1                       0                   0   \n",
              "4                      0                       0                   0   \n",
              "\n",
              "   CARD_PRSNL_CARE_MON_01  CARD_HOBBY_MON_01  CARD_HOME_DECOR_MON_01  \\\n",
              "0                       0                  0                       0   \n",
              "1                       0                  0                       0   \n",
              "2                       0                  0                       0   \n",
              "3                       1                  0                       1   \n",
              "4                       0                  0                       0   \n",
              "\n",
              "   CARD_MEDICAL_MON_01  CARD_ENTMNT_MON_01 TOP_CORP_TAG  EOP_MON_02  \\\n",
              "0                    0                   0         NONE        0.00   \n",
              "1                    0                   0         NONE     3016.77   \n",
              "2                    0                   0         NONE     9999.00   \n",
              "3                    1                   0         NONE    27163.10   \n",
              "4                    1                   0         NONE    21065.87   \n",
              "\n",
              "   EOP_MON_03   SCRUB_EMI  RESPONDERS  \n",
              "0        0.00    0.000000           0  \n",
              "1        3.02    0.000000           0  \n",
              "2    14858.75    0.000000           0  \n",
              "3    49675.27    0.000000           0  \n",
              "4      983.87  251.758794           0  "
            ]
          },
          "metadata": {
            "tags": []
          },
          "execution_count": 90
        }
      ]
    },
    {
      "cell_type": "markdown",
      "metadata": {
        "id": "hkqUxFhDrOgR",
        "colab_type": "text"
      },
      "source": [
        "## Analysis on TOP_CORP_TAG"
      ]
    },
    {
      "cell_type": "code",
      "metadata": {
        "id": "zw5e71C_rSWJ",
        "colab_type": "code",
        "colab": {
          "base_uri": "https://localhost:8080/",
          "height": 34
        },
        "outputId": "975e40fe-64ea-429c-b932-5997cfaf04d5"
      },
      "source": [
        "newData.TOP_CORP_TAG.nunique()"
      ],
      "execution_count": 91,
      "outputs": [
        {
          "output_type": "execute_result",
          "data": {
            "text/plain": [
              "3"
            ]
          },
          "metadata": {
            "tags": []
          },
          "execution_count": 91
        }
      ]
    },
    {
      "cell_type": "code",
      "metadata": {
        "id": "bmsZgyZMrWHv",
        "colab_type": "code",
        "colab": {
          "base_uri": "https://localhost:8080/",
          "height": 34
        },
        "outputId": "ffc1425f-4589-4f27-85ee-44aabc28d5e4"
      },
      "source": [
        "newData.TOP_CORP_TAG.unique()"
      ],
      "execution_count": 92,
      "outputs": [
        {
          "output_type": "execute_result",
          "data": {
            "text/plain": [
              "array(['NONE', 'TOP_100', 'TOP_800'], dtype=object)"
            ]
          },
          "metadata": {
            "tags": []
          },
          "execution_count": 92
        }
      ]
    },
    {
      "cell_type": "code",
      "metadata": {
        "id": "kJF_MIXgrZUh",
        "colab_type": "code",
        "colab": {
          "base_uri": "https://localhost:8080/",
          "height": 285
        },
        "outputId": "9f85b687-00c5-48dc-ea72-00169bf918fc"
      },
      "source": [
        "plt.bar(newData.TOP_CORP_TAG[newData.RESPONDERS == 1].value_counts().index, newData.TOP_CORP_TAG[newData.RESPONDERS == 1].value_counts().values, color = 'g')"
      ],
      "execution_count": 93,
      "outputs": [
        {
          "output_type": "execute_result",
          "data": {
            "text/plain": [
              "<BarContainer object of 3 artists>"
            ]
          },
          "metadata": {
            "tags": []
          },
          "execution_count": 93
        },
        {
          "output_type": "display_data",
          "data": {
            "image/png": "[encoded data removed]",
            "text/plain": [
              "<Figure size 432x288 with 1 Axes>"
            ]
          },
          "metadata": {
            "tags": []
          }
        }
      ]
    },
    {
      "cell_type": "code",
      "metadata": {
        "id": "nh-hOhuWrxk5",
        "colab_type": "code",
        "colab": {
          "base_uri": "https://localhost:8080/",
          "height": 283
        },
        "outputId": "a367060e-aa45-4ecd-b41e-3e3ed8c9d71e"
      },
      "source": [
        "plt.bar(newData.TOP_CORP_TAG[newData.RESPONDERS == 0].value_counts().index, newData.TOP_CORP_TAG[newData.RESPONDERS == 0].value_counts().values, color = 'r')"
      ],
      "execution_count": 94,
      "outputs": [
        {
          "output_type": "execute_result",
          "data": {
            "text/plain": [
              "<BarContainer object of 3 artists>"
            ]
          },
          "metadata": {
            "tags": []
          },
          "execution_count": 94
        },
        {
          "output_type": "display_data",
          "data": {
            "image/png": "[encoded data removed]",
            "text/plain": [
              "<Figure size 432x288 with 1 Axes>"
            ]
          },
          "metadata": {
            "tags": []
          }
        }
      ]
    },
    {
      "cell_type": "code",
      "metadata": {
        "id": "bo79XkD_r1kS",
        "colab_type": "code",
        "colab": {}
      },
      "source": [
        "letct = LabelEncoder()"
      ],
      "execution_count": 0,
      "outputs": []
    },
    {
      "cell_type": "code",
      "metadata": {
        "id": "cNm5GgcAr-ed",
        "colab_type": "code",
        "colab": {}
      },
      "source": [
        "newData.TOP_CORP_TAG = letct.fit_transform(newData.TOP_CORP_TAG)"
      ],
      "execution_count": 0,
      "outputs": []
    },
    {
      "cell_type": "markdown",
      "metadata": {
        "id": "vD_FFEp0qHax",
        "colab_type": "text"
      },
      "source": [
        "## Analysis on N_CASA_MAX_BALANCE_MTD"
      ]
    },
    {
      "cell_type": "code",
      "metadata": {
        "id": "PP6dBTKcqF1O",
        "colab_type": "code",
        "colab": {
          "base_uri": "https://localhost:8080/",
          "height": 265
        },
        "outputId": "4191d067-6005-479a-df8a-5ccecfe9b058"
      },
      "source": [
        "plt.hist(newData.N_CASA_MAX_BALANCE_MTD.value_counts().sort_index())\n",
        "plt.yscale('log')"
      ],
      "execution_count": 97,
      "outputs": [
        {
          "output_type": "display_data",
          "data": {
            "image/png": "[encoded data removed]",
            "text/plain": [
              "<Figure size 432x288 with 1 Axes>"
            ]
          },
          "metadata": {
            "tags": []
          }
        }
      ]
    },
    {
      "cell_type": "markdown",
      "metadata": {
        "colab_type": "text",
        "id": "UguAU7fksYMx"
      },
      "source": [
        "## Analysis on N_CASA_MIN_BALANCE_MTD"
      ]
    },
    {
      "cell_type": "code",
      "metadata": {
        "colab_type": "code",
        "id": "FwM_dMvBsYM5",
        "colab": {
          "base_uri": "https://localhost:8080/",
          "height": 265
        },
        "outputId": "7c7efc98-f497-4f22-96fe-a5e6f7aed50c"
      },
      "source": [
        "plt.hist(newData.N_CASA_MIN_BALANCE_MTD.value_counts().sort_index())\n",
        "plt.yscale('log')"
      ],
      "execution_count": 98,
      "outputs": [
        {
          "output_type": "display_data",
          "data": {
            "image/png": "[encoded data removed]",
            "text/plain": [
              "<Figure size 432x288 with 1 Axes>"
            ]
          },
          "metadata": {
            "tags": []
          }
        }
      ]
    },
    {
      "cell_type": "markdown",
      "metadata": {
        "id": "gj21D4th7aIC",
        "colab_type": "text"
      },
      "source": [
        "## Analysis on SCRUB EMI"
      ]
    },
    {
      "cell_type": "code",
      "metadata": {
        "id": "Gi-Cu1gO7eWk",
        "colab_type": "code",
        "colab": {
          "base_uri": "https://localhost:8080/",
          "height": 266
        },
        "outputId": "20c450e7-f826-491b-82eb-de66062df255"
      },
      "source": [
        "plt.hist(newData.SCRUB_EMI.value_counts().sort_index())\n",
        "plt.yscale('log')"
      ],
      "execution_count": 99,
      "outputs": [
        {
          "output_type": "display_data",
          "data": {
            "image/png": "[encoded data removed]",
            "text/plain": [
              "<Figure size 432x288 with 1 Axes>"
            ]
          },
          "metadata": {
            "tags": []
          }
        }
      ]
    },
    {
      "cell_type": "markdown",
      "metadata": {
        "id": "_NXUP8hCsbmK",
        "colab_type": "text"
      },
      "source": [
        "# Preprocessing"
      ]
    },
    {
      "cell_type": "code",
      "metadata": {
        "id": "R3-_FqFpsStu",
        "colab_type": "code",
        "colab": {
          "base_uri": "https://localhost:8080/",
          "height": 224
        },
        "outputId": "df725675-d14a-4ac8-d5f3-ef4551a1d3f9"
      },
      "source": [
        "newData.head()"
      ],
      "execution_count": 100,
      "outputs": [
        {
          "output_type": "execute_result",
          "data": {
            "text/html": [
              "<div>\n",
              "<style scoped>\n",
              "    .dataframe tbody tr th:only-of-type {\n",
              "        vertical-align: middle;\n",
              "    }\n",
              "\n",
              "    .dataframe tbody tr th {\n",
              "        vertical-align: top;\n",
              "    }\n",
              "\n",
              "    .dataframe thead th {\n",
              "        text-align: right;\n",
              "    }\n",
              "</style>\n",
              "<table border=\"1\" class=\"dataframe\">\n",
              "  <thead>\n",
              "    <tr style=\"text-align: right;\">\n",
              "      <th></th>\n",
              "      <th>CUSTOMER_ID</th>\n",
              "      <th>ACT_TYPE</th>\n",
              "      <th>GENDER</th>\n",
              "      <th>LEGAL_ENTITY</th>\n",
              "      <th>AGE</th>\n",
              "      <th>N_CASA_MAX_BALANCE_MTD</th>\n",
              "      <th>N_CASA_MIN_BALANCE_MTD</th>\n",
              "      <th>CC_HOLD</th>\n",
              "      <th>CC_ACTIVE</th>\n",
              "      <th>DC_HOLD</th>\n",
              "      <th>DC_ACTIVE</th>\n",
              "      <th>COC_ELIGIBLE</th>\n",
              "      <th>EOP_BAL_MON_01</th>\n",
              "      <th>AMB_MON_04</th>\n",
              "      <th>AMB_MON_01</th>\n",
              "      <th>AMB_MON_02</th>\n",
              "      <th>AMB_MON_03</th>\n",
              "      <th>FINANCE_MON_01</th>\n",
              "      <th>JOBS_MON_01</th>\n",
              "      <th>LIFESTYLE_MON_01</th>\n",
              "      <th>INMON_01KET_MON_01</th>\n",
              "      <th>TRAVEL_MON_01</th>\n",
              "      <th>CHANNEL_CLICK_DISP</th>\n",
              "      <th>DESIGNATION_FINAL</th>\n",
              "      <th>TOP14_CITY</th>\n",
              "      <th>TOP9_CITY</th>\n",
              "      <th>PL2CC_ELIGIBLE</th>\n",
              "      <th>NEFT_CC_CATEGORY</th>\n",
              "      <th>NEFT_DC_CATEGORY</th>\n",
              "      <th>TPT_DC_CATEGORY_MON_01</th>\n",
              "      <th>TPT_CC_CATEGORY_MON_01</th>\n",
              "      <th>IMPS_CC_CATEGORY_MON_01</th>\n",
              "      <th>ZIP_CODE_FINAL</th>\n",
              "      <th>CARD_AUTOMOBILE_MON_01</th>\n",
              "      <th>CARD_HOTEL_MON_01</th>\n",
              "      <th>CARD_JEWELLERY_MON_01</th>\n",
              "      <th>CARD_RESTAURANT_MON_01</th>\n",
              "      <th>CARD_TRAVEL_MON_01</th>\n",
              "      <th>CARD_PRSNL_CARE_MON_01</th>\n",
              "      <th>CARD_HOBBY_MON_01</th>\n",
              "      <th>CARD_HOME_DECOR_MON_01</th>\n",
              "      <th>CARD_MEDICAL_MON_01</th>\n",
              "      <th>CARD_ENTMNT_MON_01</th>\n",
              "      <th>TOP_CORP_TAG</th>\n",
              "      <th>EOP_MON_02</th>\n",
              "      <th>EOP_MON_03</th>\n",
              "      <th>SCRUB_EMI</th>\n",
              "      <th>RESPONDERS</th>\n",
              "    </tr>\n",
              "  </thead>\n",
              "  <tbody>\n",
              "    <tr>\n",
              "      <th>0</th>\n",
              "      <td>385793</td>\n",
              "      <td>0</td>\n",
              "      <td>1</td>\n",
              "      <td>1</td>\n",
              "      <td>21</td>\n",
              "      <td>0.00</td>\n",
              "      <td>0.00</td>\n",
              "      <td>0</td>\n",
              "      <td>0</td>\n",
              "      <td>1</td>\n",
              "      <td>0</td>\n",
              "      <td>0</td>\n",
              "      <td>0.00</td>\n",
              "      <td>0.00</td>\n",
              "      <td>0.00</td>\n",
              "      <td>0.00</td>\n",
              "      <td>0.00</td>\n",
              "      <td>0</td>\n",
              "      <td>0</td>\n",
              "      <td>0</td>\n",
              "      <td>0</td>\n",
              "      <td>0</td>\n",
              "      <td>2</td>\n",
              "      <td>4</td>\n",
              "      <td>1</td>\n",
              "      <td>1</td>\n",
              "      <td>0</td>\n",
              "      <td>12</td>\n",
              "      <td>12</td>\n",
              "      <td>13</td>\n",
              "      <td>13</td>\n",
              "      <td>13</td>\n",
              "      <td>5802</td>\n",
              "      <td>0</td>\n",
              "      <td>0</td>\n",
              "      <td>0</td>\n",
              "      <td>0</td>\n",
              "      <td>0</td>\n",
              "      <td>0</td>\n",
              "      <td>0</td>\n",
              "      <td>0</td>\n",
              "      <td>0</td>\n",
              "      <td>0</td>\n",
              "      <td>0</td>\n",
              "      <td>0.00</td>\n",
              "      <td>0.00</td>\n",
              "      <td>0.000000</td>\n",
              "      <td>0</td>\n",
              "    </tr>\n",
              "    <tr>\n",
              "      <th>1</th>\n",
              "      <td>286891</td>\n",
              "      <td>0</td>\n",
              "      <td>1</td>\n",
              "      <td>1</td>\n",
              "      <td>23</td>\n",
              "      <td>8243.77</td>\n",
              "      <td>7.77</td>\n",
              "      <td>0</td>\n",
              "      <td>0</td>\n",
              "      <td>1</td>\n",
              "      <td>1</td>\n",
              "      <td>0</td>\n",
              "      <td>11.77</td>\n",
              "      <td>1417.26</td>\n",
              "      <td>300.51</td>\n",
              "      <td>593.06</td>\n",
              "      <td>418.09</td>\n",
              "      <td>0</td>\n",
              "      <td>0</td>\n",
              "      <td>0</td>\n",
              "      <td>0</td>\n",
              "      <td>0</td>\n",
              "      <td>2</td>\n",
              "      <td>4</td>\n",
              "      <td>1</td>\n",
              "      <td>1</td>\n",
              "      <td>0</td>\n",
              "      <td>12</td>\n",
              "      <td>12</td>\n",
              "      <td>13</td>\n",
              "      <td>13</td>\n",
              "      <td>13</td>\n",
              "      <td>11193</td>\n",
              "      <td>0</td>\n",
              "      <td>0</td>\n",
              "      <td>0</td>\n",
              "      <td>0</td>\n",
              "      <td>0</td>\n",
              "      <td>0</td>\n",
              "      <td>0</td>\n",
              "      <td>0</td>\n",
              "      <td>0</td>\n",
              "      <td>0</td>\n",
              "      <td>0</td>\n",
              "      <td>3016.77</td>\n",
              "      <td>3.02</td>\n",
              "      <td>0.000000</td>\n",
              "      <td>0</td>\n",
              "    </tr>\n",
              "    <tr>\n",
              "      <th>2</th>\n",
              "      <td>108751</td>\n",
              "      <td>0</td>\n",
              "      <td>1</td>\n",
              "      <td>1</td>\n",
              "      <td>41</td>\n",
              "      <td>26515.00</td>\n",
              "      <td>0.00</td>\n",
              "      <td>0</td>\n",
              "      <td>0</td>\n",
              "      <td>1</td>\n",
              "      <td>0</td>\n",
              "      <td>0</td>\n",
              "      <td>26458.25</td>\n",
              "      <td>5354.65</td>\n",
              "      <td>6100.73</td>\n",
              "      <td>7955.82</td>\n",
              "      <td>11138.53</td>\n",
              "      <td>0</td>\n",
              "      <td>0</td>\n",
              "      <td>0</td>\n",
              "      <td>0</td>\n",
              "      <td>1</td>\n",
              "      <td>2</td>\n",
              "      <td>4</td>\n",
              "      <td>0</td>\n",
              "      <td>0</td>\n",
              "      <td>0</td>\n",
              "      <td>12</td>\n",
              "      <td>11</td>\n",
              "      <td>13</td>\n",
              "      <td>13</td>\n",
              "      <td>13</td>\n",
              "      <td>154</td>\n",
              "      <td>0</td>\n",
              "      <td>0</td>\n",
              "      <td>0</td>\n",
              "      <td>0</td>\n",
              "      <td>0</td>\n",
              "      <td>0</td>\n",
              "      <td>0</td>\n",
              "      <td>0</td>\n",
              "      <td>0</td>\n",
              "      <td>0</td>\n",
              "      <td>0</td>\n",
              "      <td>9999.00</td>\n",
              "      <td>14858.75</td>\n",
              "      <td>0.000000</td>\n",
              "      <td>0</td>\n",
              "    </tr>\n",
              "    <tr>\n",
              "      <th>3</th>\n",
              "      <td>278651</td>\n",
              "      <td>0</td>\n",
              "      <td>1</td>\n",
              "      <td>1</td>\n",
              "      <td>28</td>\n",
              "      <td>65917.28</td>\n",
              "      <td>8270.28</td>\n",
              "      <td>1</td>\n",
              "      <td>1</td>\n",
              "      <td>1</td>\n",
              "      <td>1</td>\n",
              "      <td>1</td>\n",
              "      <td>65917.28</td>\n",
              "      <td>113120.39</td>\n",
              "      <td>35560.81</td>\n",
              "      <td>42686.93</td>\n",
              "      <td>61593.38</td>\n",
              "      <td>1</td>\n",
              "      <td>0</td>\n",
              "      <td>0</td>\n",
              "      <td>0</td>\n",
              "      <td>0</td>\n",
              "      <td>2</td>\n",
              "      <td>4</td>\n",
              "      <td>0</td>\n",
              "      <td>0</td>\n",
              "      <td>0</td>\n",
              "      <td>12</td>\n",
              "      <td>12</td>\n",
              "      <td>13</td>\n",
              "      <td>13</td>\n",
              "      <td>13</td>\n",
              "      <td>4035</td>\n",
              "      <td>0</td>\n",
              "      <td>0</td>\n",
              "      <td>1</td>\n",
              "      <td>0</td>\n",
              "      <td>0</td>\n",
              "      <td>1</td>\n",
              "      <td>0</td>\n",
              "      <td>1</td>\n",
              "      <td>1</td>\n",
              "      <td>0</td>\n",
              "      <td>0</td>\n",
              "      <td>27163.10</td>\n",
              "      <td>49675.27</td>\n",
              "      <td>0.000000</td>\n",
              "      <td>0</td>\n",
              "    </tr>\n",
              "    <tr>\n",
              "      <th>4</th>\n",
              "      <td>23637</td>\n",
              "      <td>0</td>\n",
              "      <td>1</td>\n",
              "      <td>1</td>\n",
              "      <td>34</td>\n",
              "      <td>22260.94</td>\n",
              "      <td>6060.94</td>\n",
              "      <td>1</td>\n",
              "      <td>1</td>\n",
              "      <td>1</td>\n",
              "      <td>0</td>\n",
              "      <td>0</td>\n",
              "      <td>6172.94</td>\n",
              "      <td>9099.94</td>\n",
              "      <td>15858.71</td>\n",
              "      <td>14008.08</td>\n",
              "      <td>4570.73</td>\n",
              "      <td>0</td>\n",
              "      <td>0</td>\n",
              "      <td>0</td>\n",
              "      <td>0</td>\n",
              "      <td>0</td>\n",
              "      <td>2</td>\n",
              "      <td>1</td>\n",
              "      <td>0</td>\n",
              "      <td>0</td>\n",
              "      <td>0</td>\n",
              "      <td>12</td>\n",
              "      <td>12</td>\n",
              "      <td>13</td>\n",
              "      <td>13</td>\n",
              "      <td>12</td>\n",
              "      <td>167</td>\n",
              "      <td>0</td>\n",
              "      <td>0</td>\n",
              "      <td>0</td>\n",
              "      <td>0</td>\n",
              "      <td>0</td>\n",
              "      <td>0</td>\n",
              "      <td>0</td>\n",
              "      <td>0</td>\n",
              "      <td>1</td>\n",
              "      <td>0</td>\n",
              "      <td>0</td>\n",
              "      <td>21065.87</td>\n",
              "      <td>983.87</td>\n",
              "      <td>251.758794</td>\n",
              "      <td>0</td>\n",
              "    </tr>\n",
              "  </tbody>\n",
              "</table>\n",
              "</div>"
            ],
            "text/plain": [
              "   CUSTOMER_ID  ACT_TYPE  GENDER  LEGAL_ENTITY  AGE  N_CASA_MAX_BALANCE_MTD  \\\n",
              "0       385793         0       1             1   21                    0.00   \n",
              "1       286891         0       1             1   23                 8243.77   \n",
              "2       108751         0       1             1   41                26515.00   \n",
              "3       278651         0       1             1   28                65917.28   \n",
              "4        23637         0       1             1   34                22260.94   \n",
              "\n",
              "   N_CASA_MIN_BALANCE_MTD  CC_HOLD  CC_ACTIVE  DC_HOLD  DC_ACTIVE  \\\n",
              "0                    0.00        0          0        1          0   \n",
              "1                    7.77        0          0        1          1   \n",
              "2                    0.00        0          0        1          0   \n",
              "3                 8270.28        1          1        1          1   \n",
              "4                 6060.94        1          1        1          0   \n",
              "\n",
              "   COC_ELIGIBLE  EOP_BAL_MON_01  AMB_MON_04  AMB_MON_01  AMB_MON_02  \\\n",
              "0             0            0.00        0.00        0.00        0.00   \n",
              "1             0           11.77     1417.26      300.51      593.06   \n",
              "2             0        26458.25     5354.65     6100.73     7955.82   \n",
              "3             1        65917.28   113120.39    35560.81    42686.93   \n",
              "4             0         6172.94     9099.94    15858.71    14008.08   \n",
              "\n",
              "   AMB_MON_03  FINANCE_MON_01  JOBS_MON_01  LIFESTYLE_MON_01  \\\n",
              "0        0.00               0            0                 0   \n",
              "1      418.09               0            0                 0   \n",
              "2    11138.53               0            0                 0   \n",
              "3    61593.38               1            0                 0   \n",
              "4     4570.73               0            0                 0   \n",
              "\n",
              "   INMON_01KET_MON_01  TRAVEL_MON_01  CHANNEL_CLICK_DISP  DESIGNATION_FINAL  \\\n",
              "0                   0              0                   2                  4   \n",
              "1                   0              0                   2                  4   \n",
              "2                   0              1                   2                  4   \n",
              "3                   0              0                   2                  4   \n",
              "4                   0              0                   2                  1   \n",
              "\n",
              "   TOP14_CITY  TOP9_CITY  PL2CC_ELIGIBLE  NEFT_CC_CATEGORY  NEFT_DC_CATEGORY  \\\n",
              "0           1          1               0                12                12   \n",
              "1           1          1               0                12                12   \n",
              "2           0          0               0                12                11   \n",
              "3           0          0               0                12                12   \n",
              "4           0          0               0                12                12   \n",
              "\n",
              "   TPT_DC_CATEGORY_MON_01  TPT_CC_CATEGORY_MON_01  IMPS_CC_CATEGORY_MON_01  \\\n",
              "0                      13                      13                       13   \n",
              "1                      13                      13                       13   \n",
              "2                      13                      13                       13   \n",
              "3                      13                      13                       13   \n",
              "4                      13                      13                       12   \n",
              "\n",
              "   ZIP_CODE_FINAL  CARD_AUTOMOBILE_MON_01  CARD_HOTEL_MON_01  \\\n",
              "0            5802                       0                  0   \n",
              "1           11193                       0                  0   \n",
              "2             154                       0                  0   \n",
              "3            4035                       0                  0   \n",
              "4             167                       0                  0   \n",
              "\n",
              "   CARD_JEWELLERY_MON_01  CARD_RESTAURANT_MON_01  CARD_TRAVEL_MON_01  \\\n",
              "0                      0                       0                   0   \n",
              "1                      0                       0                   0   \n",
              "2                      0                       0                   0   \n",
              "3                      1                       0                   0   \n",
              "4                      0                       0                   0   \n",
              "\n",
              "   CARD_PRSNL_CARE_MON_01  CARD_HOBBY_MON_01  CARD_HOME_DECOR_MON_01  \\\n",
              "0                       0                  0                       0   \n",
              "1                       0                  0                       0   \n",
              "2                       0                  0                       0   \n",
              "3                       1                  0                       1   \n",
              "4                       0                  0                       0   \n",
              "\n",
              "   CARD_MEDICAL_MON_01  CARD_ENTMNT_MON_01  TOP_CORP_TAG  EOP_MON_02  \\\n",
              "0                    0                   0             0        0.00   \n",
              "1                    0                   0             0     3016.77   \n",
              "2                    0                   0             0     9999.00   \n",
              "3                    1                   0             0    27163.10   \n",
              "4                    1                   0             0    21065.87   \n",
              "\n",
              "   EOP_MON_03   SCRUB_EMI  RESPONDERS  \n",
              "0        0.00    0.000000           0  \n",
              "1        3.02    0.000000           0  \n",
              "2    14858.75    0.000000           0  \n",
              "3    49675.27    0.000000           0  \n",
              "4      983.87  251.758794           0  "
            ]
          },
          "metadata": {
            "tags": []
          },
          "execution_count": 100
        }
      ]
    },
    {
      "cell_type": "code",
      "metadata": {
        "id": "nEC7c9Utsh7v",
        "colab_type": "code",
        "colab": {}
      },
      "source": [
        "newData.reset_index(drop=True, inplace=True)"
      ],
      "execution_count": 0,
      "outputs": []
    },
    {
      "cell_type": "code",
      "metadata": {
        "id": "8gdQKIrU71lm",
        "colab_type": "code",
        "colab": {}
      },
      "source": [
        "# def scaleCols(df,cols):\n",
        "    # mms = StandardScaler()\n",
        "    # for col in cols:\n",
        "        # df[col] = mms.fit_transform(df[col])"
      ],
      "execution_count": 0,
      "outputs": []
    },
    {
      "cell_type": "code",
      "metadata": {
        "id": "ba8rMX8D8mFP",
        "colab_type": "code",
        "colab": {}
      },
      "source": [
        "# scaleCols(newData,['N_CASA_MAX_BALANCE_MTD','N_CASA_MIN_BALANCE_MTD','EOP_BAL_MON_01','AMB_MON_04','AMB_MON_03','AMB_MON_02','AMB_MON_01','EOP_MON_02','EOP_MON_03','SCRUB_EMI'])"
      ],
      "execution_count": 0,
      "outputs": []
    },
    {
      "cell_type": "code",
      "metadata": {
        "id": "F5K5ooqOt8zs",
        "colab_type": "code",
        "colab": {}
      },
      "source": [
        "X = newData.iloc[:,1:-1].values\n",
        "# Xs = newDataScaled.iloc[:,1:-1].values"
      ],
      "execution_count": 0,
      "outputs": []
    },
    {
      "cell_type": "code",
      "metadata": {
        "id": "joB7n325uo9v",
        "colab_type": "code",
        "colab": {}
      },
      "source": [
        "y =  newData.iloc[:,-1].values\n",
        "# ys =  newDataScaled.iloc[:,-1].values"
      ],
      "execution_count": 0,
      "outputs": []
    },
    {
      "cell_type": "markdown",
      "metadata": {
        "id": "wSpsI0r6vRDe",
        "colab_type": "text"
      },
      "source": [
        "# Modeling"
      ]
    },
    {
      "cell_type": "code",
      "metadata": {
        "id": "bMg6vevXu7Xk",
        "colab_type": "code",
        "colab": {}
      },
      "source": [
        "skf = StratifiedKFold(n_splits=3)"
      ],
      "execution_count": 0,
      "outputs": []
    },
    {
      "cell_type": "code",
      "metadata": {
        "id": "ATPYBOsT_aWI",
        "colab_type": "code",
        "colab": {}
      },
      "source": [
        "def applyModel(clf):\n",
        "    for trainIndex,testIndex in skf.split(X,y):\n",
        "        clf.fit(X[trainIndex],y[trainIndex])\n",
        "        pred = clf.predict(X[testIndex])\n",
        "        print('Accuracy for Data is {}\\n'.format(accuracy_score(y[testIndex],pred)))\n",
        "    return clf"
      ],
      "execution_count": 0,
      "outputs": []
    },
    {
      "cell_type": "code",
      "metadata": {
        "id": "YiYxSMBxBoJK",
        "colab_type": "code",
        "colab": {}
      },
      "source": [
        "def applyModelScaled(clf):\n",
        "    for trainIndex,testIndex in skf.split(Xs,ys):\n",
        "        clf.fit(Xs[trainIndex],ys[trainIndex])\n",
        "        pred = clf.predict(xs[testIndex])\n",
        "        print('Accuracy for Scaled Data is {}\\n'.format(accuracy_score(ys[testIndex],pred)))"
      ],
      "execution_count": 0,
      "outputs": []
    },
    {
      "cell_type": "markdown",
      "metadata": {
        "id": "TZFHgyTw-k2t",
        "colab_type": "text"
      },
      "source": [
        "## Logistic Regression"
      ]
    },
    {
      "cell_type": "code",
      "metadata": {
        "id": "tm13iKL6xIu0",
        "colab_type": "code",
        "colab": {}
      },
      "source": [
        "logreg = LogisticRegression()"
      ],
      "execution_count": 0,
      "outputs": []
    },
    {
      "cell_type": "code",
      "metadata": {
        "id": "aLb31ixK_M3w",
        "colab_type": "code",
        "colab": {
          "base_uri": "https://localhost:8080/",
          "height": 697
        },
        "outputId": "743ca63d-c590-46bf-bcf6-03dd3ae8a36f"
      },
      "source": [
        "logres = applyModel(logreg)"
      ],
      "execution_count": 124,
      "outputs": [
        {
          "output_type": "stream",
          "text": [
            "/usr/local/lib/python3.6/dist-packages/sklearn/linear_model/_logistic.py:940: ConvergenceWarning: lbfgs failed to converge (status=1):\n",
            "STOP: TOTAL NO. of ITERATIONS REACHED LIMIT.\n",
            "\n",
            "Increase the number of iterations (max_iter) or scale the data as shown in:\n",
            "    https://scikit-learn.org/stable/modules/preprocessing.html\n",
            "Please also refer to the documentation for alternative solver options:\n",
            "    https://scikit-learn.org/stable/modules/linear_model.html#logistic-regression\n",
            "  extra_warning_msg=_LOGISTIC_SOLVER_CONVERGENCE_MSG)\n"
          ],
          "name": "stderr"
        },
        {
          "output_type": "stream",
          "text": [
            "Accuracy for Data is 0.9842592967264193\n",
            "\n"
          ],
          "name": "stdout"
        },
        {
          "output_type": "stream",
          "text": [
            "/usr/local/lib/python3.6/dist-packages/sklearn/linear_model/_logistic.py:940: ConvergenceWarning: lbfgs failed to converge (status=1):\n",
            "STOP: TOTAL NO. of ITERATIONS REACHED LIMIT.\n",
            "\n",
            "Increase the number of iterations (max_iter) or scale the data as shown in:\n",
            "    https://scikit-learn.org/stable/modules/preprocessing.html\n",
            "Please also refer to the documentation for alternative solver options:\n",
            "    https://scikit-learn.org/stable/modules/linear_model.html#logistic-regression\n",
            "  extra_warning_msg=_LOGISTIC_SOLVER_CONVERGENCE_MSG)\n"
          ],
          "name": "stderr"
        },
        {
          "output_type": "stream",
          "text": [
            "Accuracy for Data is 0.9844346430353795\n",
            "\n"
          ],
          "name": "stdout"
        },
        {
          "output_type": "stream",
          "text": [
            "/usr/local/lib/python3.6/dist-packages/sklearn/linear_model/_logistic.py:940: ConvergenceWarning: lbfgs failed to converge (status=1):\n",
            "STOP: TOTAL NO. of ITERATIONS REACHED LIMIT.\n",
            "\n",
            "Increase the number of iterations (max_iter) or scale the data as shown in:\n",
            "    https://scikit-learn.org/stable/modules/preprocessing.html\n",
            "Please also refer to the documentation for alternative solver options:\n",
            "    https://scikit-learn.org/stable/modules/linear_model.html#logistic-regression\n",
            "  extra_warning_msg=_LOGISTIC_SOLVER_CONVERGENCE_MSG)\n"
          ],
          "name": "stderr"
        },
        {
          "output_type": "stream",
          "text": [
            "Accuracy for Data is 0.984353502926974\n",
            "\n",
            "Accuracy for Data is 0.984447921443794\n",
            "\n"
          ],
          "name": "stdout"
        },
        {
          "output_type": "stream",
          "text": [
            "/usr/local/lib/python3.6/dist-packages/sklearn/linear_model/_logistic.py:940: ConvergenceWarning: lbfgs failed to converge (status=1):\n",
            "STOP: TOTAL NO. of ITERATIONS REACHED LIMIT.\n",
            "\n",
            "Increase the number of iterations (max_iter) or scale the data as shown in:\n",
            "    https://scikit-learn.org/stable/modules/preprocessing.html\n",
            "Please also refer to the documentation for alternative solver options:\n",
            "    https://scikit-learn.org/stable/modules/linear_model.html#logistic-regression\n",
            "  extra_warning_msg=_LOGISTIC_SOLVER_CONVERGENCE_MSG)\n"
          ],
          "name": "stderr"
        }
      ]
    },
    {
      "cell_type": "code",
      "metadata": {
        "id": "SKDa7hzFB3sE",
        "colab_type": "code",
        "colab": {
          "base_uri": "https://localhost:8080/",
          "height": 282
        },
        "outputId": "a6aa1947-4dbe-4c86-964a-ae893c5181dd"
      },
      "source": [
        "# applyModelScaled(logreg)"
      ],
      "execution_count": 112,
      "outputs": [
        {
          "output_type": "error",
          "ename": "NameError",
          "evalue": "ignored",
          "traceback": [
            "\u001b[0;31m---------------------------------------------------------------------------\u001b[0m",
            "\u001b[0;31mNameError\u001b[0m                                 Traceback (most recent call last)",
            "\u001b[0;32m<ipython-input-112-1acfcb48a1b7>\u001b[0m in \u001b[0;36m<module>\u001b[0;34m()\u001b[0m\n\u001b[0;32m----> 1\u001b[0;31m \u001b[0mapplyModelScaled\u001b[0m\u001b[0;34m(\u001b[0m\u001b[0mlogreg\u001b[0m\u001b[0;34m)\u001b[0m\u001b[0;34m\u001b[0m\u001b[0;34m\u001b[0m\u001b[0m\n\u001b[0m",
            "\u001b[0;32m<ipython-input-108-754d6d1e224f>\u001b[0m in \u001b[0;36mapplyModelScaled\u001b[0;34m(clf)\u001b[0m\n\u001b[1;32m      1\u001b[0m \u001b[0;32mdef\u001b[0m \u001b[0mapplyModelScaled\u001b[0m\u001b[0;34m(\u001b[0m\u001b[0mclf\u001b[0m\u001b[0;34m)\u001b[0m\u001b[0;34m:\u001b[0m\u001b[0;34m\u001b[0m\u001b[0;34m\u001b[0m\u001b[0m\n\u001b[0;32m----> 2\u001b[0;31m     \u001b[0;32mfor\u001b[0m \u001b[0mtrainIndex\u001b[0m\u001b[0;34m,\u001b[0m\u001b[0mtestIndex\u001b[0m \u001b[0;32min\u001b[0m \u001b[0mskf\u001b[0m\u001b[0;34m.\u001b[0m\u001b[0msplit\u001b[0m\u001b[0;34m(\u001b[0m\u001b[0mXs\u001b[0m\u001b[0;34m,\u001b[0m\u001b[0mys\u001b[0m\u001b[0;34m)\u001b[0m\u001b[0;34m:\u001b[0m\u001b[0;34m\u001b[0m\u001b[0;34m\u001b[0m\u001b[0m\n\u001b[0m\u001b[1;32m      3\u001b[0m         \u001b[0mclf\u001b[0m\u001b[0;34m.\u001b[0m\u001b[0mfit\u001b[0m\u001b[0;34m(\u001b[0m\u001b[0mXs\u001b[0m\u001b[0;34m[\u001b[0m\u001b[0mtrainIndex\u001b[0m\u001b[0;34m]\u001b[0m\u001b[0;34m,\u001b[0m\u001b[0mys\u001b[0m\u001b[0;34m[\u001b[0m\u001b[0mtrainIndex\u001b[0m\u001b[0;34m]\u001b[0m\u001b[0;34m)\u001b[0m\u001b[0;34m\u001b[0m\u001b[0;34m\u001b[0m\u001b[0m\n\u001b[1;32m      4\u001b[0m         \u001b[0mpred\u001b[0m \u001b[0;34m=\u001b[0m \u001b[0mclf\u001b[0m\u001b[0;34m.\u001b[0m\u001b[0mpred\u001b[0m\u001b[0;34m(\u001b[0m\u001b[0mxs\u001b[0m\u001b[0;34m[\u001b[0m\u001b[0mtestIndex\u001b[0m\u001b[0;34m]\u001b[0m\u001b[0;34m)\u001b[0m\u001b[0;34m\u001b[0m\u001b[0;34m\u001b[0m\u001b[0m\n\u001b[1;32m      5\u001b[0m         \u001b[0mprint\u001b[0m\u001b[0;34m(\u001b[0m\u001b[0;34m'Accuracy for Scaled Data is {}\\n'\u001b[0m\u001b[0;34m.\u001b[0m\u001b[0mformat\u001b[0m\u001b[0;34m(\u001b[0m\u001b[0maccuracy_scrore\u001b[0m\u001b[0;34m(\u001b[0m\u001b[0mys\u001b[0m\u001b[0;34m[\u001b[0m\u001b[0mtestIndex\u001b[0m\u001b[0;34m]\u001b[0m\u001b[0;34m,\u001b[0m\u001b[0mpred\u001b[0m\u001b[0;34m)\u001b[0m\u001b[0;34m)\u001b[0m\u001b[0;34m)\u001b[0m\u001b[0;34m\u001b[0m\u001b[0;34m\u001b[0m\u001b[0m\n",
            "\u001b[0;31mNameError\u001b[0m: name 'Xs' is not defined"
          ]
        }
      ]
    },
    {
      "cell_type": "markdown",
      "metadata": {
        "id": "PLkkO_mTiO1H",
        "colab_type": "text"
      },
      "source": [
        "## Decision Tree"
      ]
    },
    {
      "cell_type": "code",
      "metadata": {
        "id": "7lZlDt6hiUSk",
        "colab_type": "code",
        "colab": {}
      },
      "source": [
        "dtc = DecisionTreeClassifier()"
      ],
      "execution_count": 0,
      "outputs": []
    },
    {
      "cell_type": "code",
      "metadata": {
        "id": "-c28K6Z7i8wq",
        "colab_type": "code",
        "colab": {
          "base_uri": "https://localhost:8080/",
          "height": 340
        },
        "outputId": "84760a9c-d6a7-484a-9551-c76d8ce9b386"
      },
      "source": [
        "dtc = applyModel(dtc)"
      ],
      "execution_count": 147,
      "outputs": [
        {
          "output_type": "stream",
          "text": [
            "Accuracy for Data is 0.9670112896046615\n",
            "\n"
          ],
          "name": "stdout"
        },
        {
          "output_type": "error",
          "ename": "KeyboardInterrupt",
          "evalue": "ignored",
          "traceback": [
            "\u001b[0;31m---------------------------------------------------------------------------\u001b[0m",
            "\u001b[0;31mKeyboardInterrupt\u001b[0m                         Traceback (most recent call last)",
            "\u001b[0;32m<ipython-input-147-49e38ea95620>\u001b[0m in \u001b[0;36m<module>\u001b[0;34m()\u001b[0m\n\u001b[0;32m----> 1\u001b[0;31m \u001b[0mdtc\u001b[0m \u001b[0;34m=\u001b[0m \u001b[0mapplyModel\u001b[0m\u001b[0;34m(\u001b[0m\u001b[0mdtc\u001b[0m\u001b[0;34m)\u001b[0m\u001b[0;34m\u001b[0m\u001b[0;34m\u001b[0m\u001b[0m\n\u001b[0m",
            "\u001b[0;32m<ipython-input-143-d2dfb9e80934>\u001b[0m in \u001b[0;36mapplyModel\u001b[0;34m(clf)\u001b[0m\n\u001b[1;32m      1\u001b[0m \u001b[0;32mdef\u001b[0m \u001b[0mapplyModel\u001b[0m\u001b[0;34m(\u001b[0m\u001b[0mclf\u001b[0m\u001b[0;34m)\u001b[0m\u001b[0;34m:\u001b[0m\u001b[0;34m\u001b[0m\u001b[0;34m\u001b[0m\u001b[0m\n\u001b[1;32m      2\u001b[0m     \u001b[0;32mfor\u001b[0m \u001b[0mtrainIndex\u001b[0m\u001b[0;34m,\u001b[0m\u001b[0mtestIndex\u001b[0m \u001b[0;32min\u001b[0m \u001b[0mskf\u001b[0m\u001b[0;34m.\u001b[0m\u001b[0msplit\u001b[0m\u001b[0;34m(\u001b[0m\u001b[0mX\u001b[0m\u001b[0;34m,\u001b[0m\u001b[0my\u001b[0m\u001b[0;34m)\u001b[0m\u001b[0;34m:\u001b[0m\u001b[0;34m\u001b[0m\u001b[0;34m\u001b[0m\u001b[0m\n\u001b[0;32m----> 3\u001b[0;31m         \u001b[0mclf\u001b[0m\u001b[0;34m.\u001b[0m\u001b[0mfit\u001b[0m\u001b[0;34m(\u001b[0m\u001b[0mX\u001b[0m\u001b[0;34m[\u001b[0m\u001b[0mtrainIndex\u001b[0m\u001b[0;34m]\u001b[0m\u001b[0;34m,\u001b[0m\u001b[0my\u001b[0m\u001b[0;34m[\u001b[0m\u001b[0mtrainIndex\u001b[0m\u001b[0;34m]\u001b[0m\u001b[0;34m)\u001b[0m\u001b[0;34m\u001b[0m\u001b[0;34m\u001b[0m\u001b[0m\n\u001b[0m\u001b[1;32m      4\u001b[0m         \u001b[0mpred\u001b[0m \u001b[0;34m=\u001b[0m \u001b[0mclf\u001b[0m\u001b[0;34m.\u001b[0m\u001b[0mpredict\u001b[0m\u001b[0;34m(\u001b[0m\u001b[0mX\u001b[0m\u001b[0;34m[\u001b[0m\u001b[0mtestIndex\u001b[0m\u001b[0;34m]\u001b[0m\u001b[0;34m)\u001b[0m\u001b[0;34m\u001b[0m\u001b[0;34m\u001b[0m\u001b[0m\n\u001b[1;32m      5\u001b[0m         \u001b[0mprint\u001b[0m\u001b[0;34m(\u001b[0m\u001b[0;34m'Accuracy for Data is {}\\n'\u001b[0m\u001b[0;34m.\u001b[0m\u001b[0mformat\u001b[0m\u001b[0;34m(\u001b[0m\u001b[0maccuracy_score\u001b[0m\u001b[0;34m(\u001b[0m\u001b[0my\u001b[0m\u001b[0;34m[\u001b[0m\u001b[0mtestIndex\u001b[0m\u001b[0;34m]\u001b[0m\u001b[0;34m,\u001b[0m\u001b[0mpred\u001b[0m\u001b[0;34m)\u001b[0m\u001b[0;34m)\u001b[0m\u001b[0;34m)\u001b[0m\u001b[0;34m\u001b[0m\u001b[0;34m\u001b[0m\u001b[0m\n",
            "\u001b[0;32m/usr/local/lib/python3.6/dist-packages/sklearn/tree/_classes.py\u001b[0m in \u001b[0;36mfit\u001b[0;34m(self, X, y, sample_weight, check_input, X_idx_sorted)\u001b[0m\n\u001b[1;32m    875\u001b[0m             \u001b[0msample_weight\u001b[0m\u001b[0;34m=\u001b[0m\u001b[0msample_weight\u001b[0m\u001b[0;34m,\u001b[0m\u001b[0;34m\u001b[0m\u001b[0;34m\u001b[0m\u001b[0m\n\u001b[1;32m    876\u001b[0m             \u001b[0mcheck_input\u001b[0m\u001b[0;34m=\u001b[0m\u001b[0mcheck_input\u001b[0m\u001b[0;34m,\u001b[0m\u001b[0;34m\u001b[0m\u001b[0;34m\u001b[0m\u001b[0m\n\u001b[0;32m--> 877\u001b[0;31m             X_idx_sorted=X_idx_sorted)\n\u001b[0m\u001b[1;32m    878\u001b[0m         \u001b[0;32mreturn\u001b[0m \u001b[0mself\u001b[0m\u001b[0;34m\u001b[0m\u001b[0;34m\u001b[0m\u001b[0m\n\u001b[1;32m    879\u001b[0m \u001b[0;34m\u001b[0m\u001b[0m\n",
            "\u001b[0;32m/usr/local/lib/python3.6/dist-packages/sklearn/tree/_classes.py\u001b[0m in \u001b[0;36mfit\u001b[0;34m(self, X, y, sample_weight, check_input, X_idx_sorted)\u001b[0m\n\u001b[1;32m    365\u001b[0m                                            min_impurity_split)\n\u001b[1;32m    366\u001b[0m \u001b[0;34m\u001b[0m\u001b[0m\n\u001b[0;32m--> 367\u001b[0;31m         \u001b[0mbuilder\u001b[0m\u001b[0;34m.\u001b[0m\u001b[0mbuild\u001b[0m\u001b[0;34m(\u001b[0m\u001b[0mself\u001b[0m\u001b[0;34m.\u001b[0m\u001b[0mtree_\u001b[0m\u001b[0;34m,\u001b[0m \u001b[0mX\u001b[0m\u001b[0;34m,\u001b[0m \u001b[0my\u001b[0m\u001b[0;34m,\u001b[0m \u001b[0msample_weight\u001b[0m\u001b[0;34m,\u001b[0m \u001b[0mX_idx_sorted\u001b[0m\u001b[0;34m)\u001b[0m\u001b[0;34m\u001b[0m\u001b[0;34m\u001b[0m\u001b[0m\n\u001b[0m\u001b[1;32m    368\u001b[0m \u001b[0;34m\u001b[0m\u001b[0m\n\u001b[1;32m    369\u001b[0m         \u001b[0;32mif\u001b[0m \u001b[0mself\u001b[0m\u001b[0;34m.\u001b[0m\u001b[0mn_outputs_\u001b[0m \u001b[0;34m==\u001b[0m \u001b[0;36m1\u001b[0m \u001b[0;32mand\u001b[0m \u001b[0mis_classifier\u001b[0m\u001b[0;34m(\u001b[0m\u001b[0mself\u001b[0m\u001b[0;34m)\u001b[0m\u001b[0;34m:\u001b[0m\u001b[0;34m\u001b[0m\u001b[0;34m\u001b[0m\u001b[0m\n",
            "\u001b[0;31mKeyboardInterrupt\u001b[0m: "
          ]
        }
      ]
    },
    {
      "cell_type": "code",
      "metadata": {
        "id": "-mFsvDMvi_TG",
        "colab_type": "code",
        "colab": {}
      },
      "source": [
        "# applyModelScaled(dtc)"
      ],
      "execution_count": 0,
      "outputs": []
    },
    {
      "cell_type": "markdown",
      "metadata": {
        "id": "Ilw5aDk-jOJj",
        "colab_type": "text"
      },
      "source": [
        "## Random Forest"
      ]
    },
    {
      "cell_type": "code",
      "metadata": {
        "id": "UcUlyVmfjQax",
        "colab_type": "code",
        "colab": {}
      },
      "source": [
        "rfc = RandomForestClassifier()"
      ],
      "execution_count": 0,
      "outputs": []
    },
    {
      "cell_type": "code",
      "metadata": {
        "id": "C1epG32RjoO2",
        "colab_type": "code",
        "colab": {
          "base_uri": "https://localhost:8080/",
          "height": 153
        },
        "outputId": "0739d214-915d-41d6-aa7f-8568aeb4fba8"
      },
      "source": [
        "rfc = applyModel(rfc)"
      ],
      "execution_count": 128,
      "outputs": [
        {
          "output_type": "stream",
          "text": [
            "Accuracy for Data is 0.9844481312129918\n",
            "\n",
            "Accuracy for Data is 0.9844616193906042\n",
            "\n",
            "Accuracy for Data is 0.984447921443794\n",
            "\n",
            "Accuracy for Data is 0.984447921443794\n",
            "\n"
          ],
          "name": "stdout"
        }
      ]
    },
    {
      "cell_type": "code",
      "metadata": {
        "id": "uXFfZpjkjp7Q",
        "colab_type": "code",
        "colab": {}
      },
      "source": [
        "# applyModelScaled(rfc)"
      ],
      "execution_count": 0,
      "outputs": []
    },
    {
      "cell_type": "markdown",
      "metadata": {
        "id": "Yj7ulPTpjvPl",
        "colab_type": "text"
      },
      "source": [
        "## XGBOOST"
      ]
    },
    {
      "cell_type": "code",
      "metadata": {
        "id": "DRACLrnVjuFu",
        "colab_type": "code",
        "colab": {}
      },
      "source": [
        "xgb = xgboost.XGBClassifier()"
      ],
      "execution_count": 0,
      "outputs": []
    },
    {
      "cell_type": "code",
      "metadata": {
        "id": "J3lcT5rNlPwo",
        "colab_type": "code",
        "colab": {
          "base_uri": "https://localhost:8080/",
          "height": 153
        },
        "outputId": "170e40fd-4f22-4960-9605-4f18d52f1afb"
      },
      "source": [
        "xgb = applyModel(xgb)"
      ],
      "execution_count": 131,
      "outputs": [
        {
          "output_type": "stream",
          "text": [
            "Accuracy for Data is 0.9844616193906042\n",
            "\n",
            "Accuracy for Data is 0.9844616193906042\n",
            "\n",
            "Accuracy for Data is 0.9844748981628855\n",
            "\n",
            "Accuracy for Data is 0.9844614098033397\n",
            "\n"
          ],
          "name": "stdout"
        }
      ]
    },
    {
      "cell_type": "code",
      "metadata": {
        "id": "qIGM1TOClTNT",
        "colab_type": "code",
        "colab": {}
      },
      "source": [
        "# applyModelScaled(xgb)"
      ],
      "execution_count": 0,
      "outputs": []
    },
    {
      "cell_type": "markdown",
      "metadata": {
        "id": "JnIu126dlXvR",
        "colab_type": "text"
      },
      "source": [
        "## Naive Bayes"
      ]
    },
    {
      "cell_type": "code",
      "metadata": {
        "id": "hjGWzKdBljlq",
        "colab_type": "code",
        "colab": {}
      },
      "source": [
        "nbc = GaussianNB()"
      ],
      "execution_count": 0,
      "outputs": []
    },
    {
      "cell_type": "code",
      "metadata": {
        "id": "ZAcP9IIWmNm8",
        "colab_type": "code",
        "colab": {
          "base_uri": "https://localhost:8080/",
          "height": 119
        },
        "outputId": "e477c057-9dc9-406d-8a0b-ee12b6b95c95"
      },
      "source": [
        "nbc = applyModel(nbc)"
      ],
      "execution_count": 148,
      "outputs": [
        {
          "output_type": "stream",
          "text": [
            "Accuracy for Data is 0.9816189859588071\n",
            "\n",
            "Accuracy for Data is 0.173159603848216\n",
            "\n",
            "Accuracy for Data is 0.226897047070844\n",
            "\n"
          ],
          "name": "stdout"
        }
      ]
    },
    {
      "cell_type": "code",
      "metadata": {
        "id": "c1VMUH46mQFf",
        "colab_type": "code",
        "colab": {}
      },
      "source": [
        "# applyModelScaled(nbc)"
      ],
      "execution_count": 0,
      "outputs": []
    },
    {
      "cell_type": "markdown",
      "metadata": {
        "id": "8XUZYCQ9mZnu",
        "colab_type": "text"
      },
      "source": [
        "## Neural Network"
      ]
    },
    {
      "cell_type": "code",
      "metadata": {
        "id": "H76_hePjmdJY",
        "colab_type": "code",
        "colab": {}
      },
      "source": [
        "ann = MLPClassifier()"
      ],
      "execution_count": 0,
      "outputs": []
    },
    {
      "cell_type": "code",
      "metadata": {
        "id": "Rs2FHI7AmheA",
        "colab_type": "code",
        "colab": {
          "base_uri": "https://localhost:8080/",
          "height": 153
        },
        "outputId": "cb3b0d1b-e5f9-4525-d936-e574efda5cf0"
      },
      "source": [
        "ann = applyModel(ann)"
      ],
      "execution_count": 140,
      "outputs": [
        {
          "output_type": "stream",
          "text": [
            "Accuracy for Data is 0.9844616193906042\n",
            "\n",
            "Accuracy for Data is 0.9844346430353795\n",
            "\n",
            "Accuracy for Data is 0.9844614098033397\n",
            "\n",
            "Accuracy for Data is 0.9844209447247025\n",
            "\n"
          ],
          "name": "stdout"
        }
      ]
    },
    {
      "cell_type": "code",
      "metadata": {
        "id": "IQWGELi7mjo0",
        "colab_type": "code",
        "colab": {}
      },
      "source": [
        "# applyModelScaled(ann)"
      ],
      "execution_count": 0,
      "outputs": []
    }
  ]
}