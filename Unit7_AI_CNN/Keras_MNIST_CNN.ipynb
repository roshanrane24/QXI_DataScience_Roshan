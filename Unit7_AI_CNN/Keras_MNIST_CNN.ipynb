{
  "nbformat": 4,
  "nbformat_minor": 0,
  "metadata": {
    "colab": {
      "name": "mnist keras.ipynb",
      "provenance": [],
      "authorship_tag": "ABX9TyPz7+t3K0qEgJREFNqmA2n6",
      "include_colab_link": true
    },
    "kernelspec": {
      "name": "python3",
      "display_name": "Python 3"
    },
    "accelerator": "GPU"
  },
  "cells": [
    {
      "cell_type": "markdown",
      "metadata": {
        "id": "view-in-github",
        "colab_type": "text"
      },
      "source": [
        "<a href=\"https://colab.research.google.com/github/roshanrane24/QXI_DataScience_Roshan/blob/master/Unit7_AI_CNN/Keras_MNIST_CNN.ipynb\" target=\"_parent\"><img src=\"https://colab.research.google.com/assets/colab-badge.svg\" alt=\"Open In Colab\"/></a>"
      ]
    },
    {
      "cell_type": "code",
      "metadata": {
        "id": "rAm7miQ8bMf_",
        "colab_type": "code",
        "colab": {}
      },
      "source": [
        "import keras\n",
        "from keras.datasets import mnist\n",
        "from keras.models import Sequential\n",
        "from keras.layers import Dense, Conv2D, MaxPool2D, Flatten, Dropout\n",
        "import matplotlib.pyplot as plt\n",
        "from keras.callbacks import EarlyStopping, TensorBoard"
      ],
      "execution_count": 0,
      "outputs": []
    },
    {
      "cell_type": "code",
      "metadata": {
        "id": "9Gok-siGrB_s",
        "colab_type": "code",
        "colab": {}
      },
      "source": [
        "batch_size = 100\n",
        "epochs = 10"
      ],
      "execution_count": 0,
      "outputs": []
    },
    {
      "cell_type": "code",
      "metadata": {
        "id": "mhY9piY0bgey",
        "colab_type": "code",
        "colab": {}
      },
      "source": [
        "(X_Train,y_Train),(X_Test,y_Test) = mnist.load_data()"
      ],
      "execution_count": 0,
      "outputs": []
    },
    {
      "cell_type": "code",
      "metadata": {
        "id": "kUZKoSatuRi0",
        "colab_type": "code",
        "colab": {}
      },
      "source": [
        "X_Train = X_Train.reshape(X_Train.shape[0],X_Train.shape[1],X_Train.shape[2],1)\n",
        "X_Test = X_Test.reshape(X_Test.shape[0],X_Test.shape[1],X_Test.shape[2],1)"
      ],
      "execution_count": 0,
      "outputs": []
    },
    {
      "cell_type": "code",
      "metadata": {
        "id": "iwsDVW0aqxSQ",
        "colab_type": "code",
        "colab": {}
      },
      "source": [
        "y_Train = keras.utils.to_categorical(y_Train, 10)\n",
        "y_Test = keras.utils.to_categorical(y_Test, 10)"
      ],
      "execution_count": 0,
      "outputs": []
    },
    {
      "cell_type": "code",
      "metadata": {
        "id": "IoGnJm_cpWpt",
        "colab_type": "code",
        "colab": {}
      },
      "source": [
        "# Creating Model\n",
        "model = Sequential()\n",
        "\n",
        "model.add(Conv2D(100, kernel_size=3, activation='relu',input_shape=(28,28,1)))\n",
        "model.add(MaxPool2D(pool_size=(3,3)))\n",
        "\n",
        "model.add(Dropout(0.25))\n",
        "\n",
        "model.add(Conv2D(150, kernel_size=2, activation='relu'))\n",
        "model.add(MaxPool2D(pool_size=(2,2)))\n",
        "\n",
        "model.add(Conv2D(50, kernel_size=2, activation='relu'))\n",
        "model.add(MaxPool2D(pool_size=(2,2)))\n",
        "\n",
        "model.add(Dropout(0.2))\n",
        "\n",
        "model.add(Flatten())\n",
        "\n",
        "model.add(Dense(10,activation='softmax'))"
      ],
      "execution_count": 0,
      "outputs": []
    },
    {
      "cell_type": "code",
      "metadata": {
        "id": "7JG0fxfYwR3r",
        "colab_type": "code",
        "colab": {}
      },
      "source": [
        "callback_list = [EarlyStopping(patience=2)]"
      ],
      "execution_count": 0,
      "outputs": []
    },
    {
      "cell_type": "code",
      "metadata": {
        "id": "6fQMF8x1puO1",
        "colab_type": "code",
        "colab": {}
      },
      "source": [
        "model.compile(loss='categorical_crossentropy',optimizer='adam',metrics=['accuracy'])"
      ],
      "execution_count": 0,
      "outputs": []
    },
    {
      "cell_type": "code",
      "metadata": {
        "id": "ABpZbuvPs4aw",
        "colab_type": "code",
        "colab": {
          "base_uri": "https://localhost:8080/",
          "height": 407
        },
        "outputId": "1cc110ad-0870-4cb5-c2e4-173ed3379c0b"
      },
      "source": [
        "model.fit(X_Train,y_Train,batch_size=100,epochs=20,validation_split=0.2,callbacks=callback_list)"
      ],
      "execution_count": 44,
      "outputs": [
        {
          "output_type": "stream",
          "text": [
            "Train on 48000 samples, validate on 12000 samples\n",
            "Epoch 1/20\n",
            "48000/48000 [==============================] - 4s 91us/step - loss: 3.9993 - acc: 0.6027 - val_loss: 0.2048 - val_acc: 0.9378\n",
            "Epoch 2/20\n",
            "48000/48000 [==============================] - 4s 77us/step - loss: 0.3135 - acc: 0.9050 - val_loss: 0.1088 - val_acc: 0.9673\n",
            "Epoch 3/20\n",
            "48000/48000 [==============================] - 4s 77us/step - loss: 0.2063 - acc: 0.9370 - val_loss: 0.0879 - val_acc: 0.9739\n",
            "Epoch 4/20\n",
            "48000/48000 [==============================] - 4s 76us/step - loss: 0.1738 - acc: 0.9493 - val_loss: 0.0925 - val_acc: 0.9729\n",
            "Epoch 5/20\n",
            "48000/48000 [==============================] - 4s 76us/step - loss: 0.1482 - acc: 0.9563 - val_loss: 0.0823 - val_acc: 0.9767\n",
            "Epoch 6/20\n",
            "48000/48000 [==============================] - 4s 76us/step - loss: 0.1281 - acc: 0.9612 - val_loss: 0.0712 - val_acc: 0.9797\n",
            "Epoch 7/20\n",
            "48000/48000 [==============================] - 4s 78us/step - loss: 0.1133 - acc: 0.9658 - val_loss: 0.0649 - val_acc: 0.9818\n",
            "Epoch 8/20\n",
            "48000/48000 [==============================] - 4s 78us/step - loss: 0.1053 - acc: 0.9688 - val_loss: 0.0791 - val_acc: 0.9783\n",
            "Epoch 9/20\n",
            "48000/48000 [==============================] - 4s 77us/step - loss: 0.0943 - acc: 0.9714 - val_loss: 0.0611 - val_acc: 0.9834\n",
            "Epoch 10/20\n",
            "48000/48000 [==============================] - 4s 77us/step - loss: 0.0943 - acc: 0.9697 - val_loss: 0.0750 - val_acc: 0.9806\n",
            "Epoch 11/20\n",
            "48000/48000 [==============================] - 4s 76us/step - loss: 0.0839 - acc: 0.9737 - val_loss: 0.0629 - val_acc: 0.9838\n"
          ],
          "name": "stdout"
        },
        {
          "output_type": "execute_result",
          "data": {
            "text/plain": [
              "<keras.callbacks.History at 0x7f793cefc400>"
            ]
          },
          "metadata": {
            "tags": []
          },
          "execution_count": 44
        }
      ]
    },
    {
      "cell_type": "code",
      "metadata": {
        "id": "cAmnLJWPyx3D",
        "colab_type": "code",
        "colab": {
          "base_uri": "https://localhost:8080/",
          "height": 50
        },
        "outputId": "2d0fa0da-4a7c-4299-fe02-547252252be5"
      },
      "source": [
        "model.evaluate(X_Test,y_Test)"
      ],
      "execution_count": 45,
      "outputs": [
        {
          "output_type": "stream",
          "text": [
            "10000/10000 [==============================] - 1s 55us/step\n"
          ],
          "name": "stdout"
        },
        {
          "output_type": "execute_result",
          "data": {
            "text/plain": [
              "[0.059803869269743154, 0.9834]"
            ]
          },
          "metadata": {
            "tags": []
          },
          "execution_count": 45
        }
      ]
    }
  ]
}