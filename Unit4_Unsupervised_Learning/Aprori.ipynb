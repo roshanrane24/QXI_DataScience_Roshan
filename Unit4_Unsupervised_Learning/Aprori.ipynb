{
 "cells": [
  {
   "cell_type": "code",
   "execution_count": 1,
   "metadata": {},
   "outputs": [],
   "source": [
    "import csv\n",
    "import pandas as pd\n",
    "from itertools import combinations"
   ]
  },
  {
   "cell_type": "code",
   "execution_count": 2,
   "metadata": {},
   "outputs": [],
   "source": [
    "#Read data from CSV\n",
    "data = pd.read_csv('groceries.csv')"
   ]
  },
  {
   "cell_type": "code",
   "execution_count": 3,
   "metadata": {},
   "outputs": [
    {
     "name": "stdout",
     "output_type": "stream",
     "text": [
      "Enter Support-Threshold: 0.05\n",
      "Enter Confidence-Threshold: 0.05\n"
     ]
    }
   ],
   "source": [
    "#Parameters\n",
    "minsup=float(input(\"Enter Support-Threshold: \"))\n",
    "minsup=minsup*len(data)\n",
    "minconf=float(input(\"Enter Confidence-Threshold: \"))"
   ]
  },
  {
   "cell_type": "code",
   "execution_count": 4,
   "metadata": {},
   "outputs": [],
   "source": [
    "#Add all data in a list of lists\n",
    "items = []  \n",
    "for i in range(0, len(data)):  \n",
    "    items.append([str(data.values[i,j]) for j in range(0, len(data.values[0]))])"
   ]
  },
  {
   "cell_type": "code",
   "execution_count": 5,
   "metadata": {},
   "outputs": [],
   "source": [
    "#Creating a list of dictionaries\n",
    "count = [dict() for x in range(len(data.values[0])+1)]"
   ]
  },
  {
   "cell_type": "code",
   "execution_count": 6,
   "metadata": {},
   "outputs": [],
   "source": [
    "#Count support for each individual items\n",
    "s=[]\n",
    "for i in items:\n",
    "    for j in i:\n",
    "        s.append(j)\n",
    "for i in s:\n",
    "    #If item is present in dictionary, increment its count by 1\n",
    "    if i in count[1]:\n",
    "        count[1][i] = count[1][i] + 1\n",
    "    #If item is not present in dictionary, set its count to 1\n",
    "    else:\n",
    "        count[1][i] = 1"
   ]
  },
  {
   "cell_type": "code",
   "execution_count": 7,
   "metadata": {},
   "outputs": [
    {
     "data": {
      "text/plain": [
       "271353"
      ]
     },
     "execution_count": 7,
     "metadata": {},
     "output_type": "execute_result"
    }
   ],
   "source": [
    "#Remove infrequent and empty items\n",
    "for i in count[1].copy():\n",
    "    if(count[1][i]<minsup):\n",
    "        count[1].pop(i)\n",
    "count[1].pop(\"nan\")"
   ]
  },
  {
   "cell_type": "code",
   "execution_count": 8,
   "metadata": {},
   "outputs": [],
   "source": [
    "#Generate frequent two item sets\n",
    "slist=[list() for x in range(33)]\n",
    "a=[]\n",
    "a=combinations(count[1],2)\n",
    "for j in a:\n",
    "    slist[2].append(tuple(sorted(j)))\n",
    "# slist[2]=list(combinations(count[1],2))\n",
    "candidates=[]\n",
    "for i in slist[2]:\n",
    "    candidates.append(i)\n",
    "for i in candidates:\n",
    "    for k in items:\n",
    "        f=0\n",
    "        for l in i:\n",
    "            if(k.__contains__(l)==0):\n",
    "                f=1\n",
    "                break\n",
    "        if(f==0):\n",
    "            if i in count[2]:\n",
    "                count[2][i]=count[2][i]+1\n",
    "            else:\n",
    "                count[2][i]=1\n",
    "for i in count[2].copy():\n",
    "    if(count[2][i]<minsup):\n",
    "        count[2].pop(i)"
   ]
  },
  {
   "cell_type": "code",
   "execution_count": 11,
   "metadata": {},
   "outputs": [],
   "source": [
    "#Generate frequent itemsets of length z from z-1\n",
    "def freq(z):\n",
    "    for i in count[z-1]:\n",
    "        for j in count[z-1]:\n",
    "            a=set(i)\n",
    "            b=set(j)\n",
    "            #Generate z length itemsets from z-1 length frequent itemsets which have z-2 intersection elements\n",
    "            if(len(a.intersection(b))==z-2):\n",
    "                #Check if all subsets are in frequent z-1 itemsets, otherwise cannot be frequent\n",
    "                t=list(combinations(sorted(a.union(b)), z-1))\n",
    "                c=0\n",
    "                for n in t:\n",
    "                    for m in count[z-1]:\n",
    "                        if((n)==m):\n",
    "                            c=c+1\n",
    "                if(c==z):\n",
    "                    flag=0\n",
    "                    for h in slist[z]:\n",
    "                        if(sorted(list(a.union(b)))==sorted(h)):\n",
    "                            flag=1\n",
    "                    if(flag==0):\n",
    "                        slist[z].append(tuple(sorted(list(a.union(b)))))\n",
    "    #Calculate support\n",
    "    candidates=[]\n",
    "    for i in slist[z]:\n",
    "        candidates.append(tuple(i))\n",
    "    for i in candidates:\n",
    "        for k in items:\n",
    "            f=0\n",
    "            for l in i:\n",
    "                if(k.__contains__(l)==0):\n",
    "                    f=1\n",
    "                    break\n",
    "            #If the complete item is present in the transaction, we increase it's support\n",
    "            if(f==0):\n",
    "                #If already present in dictionary then increment by 1\n",
    "                if i in count[z]:\n",
    "                    count[z][i]=count[z][i]+1\n",
    "                #Else add it to dictionary\n",
    "                else:\n",
    "                    count[z][i]=1\n",
    "    for i in count[z].copy():\n",
    "        if(count[z][i]<minsup):\n",
    "            count[z].pop(i)"
   ]
  },
  {
   "cell_type": "code",
   "execution_count": 12,
   "metadata": {},
   "outputs": [],
   "source": [
    "#Call function to generate frequent itemssets\n",
    "i=3\n",
    "while(len(count[i-1])!=0):\n",
    "    freq(i)\n",
    "    i=i+1\n",
    "q=i-2"
   ]
  },
  {
   "cell_type": "code",
   "execution_count": 13,
   "metadata": {},
   "outputs": [],
   "source": [
    "#Function to extract single item set from a tuple\n",
    "def value(a):\n",
    "    a=str(a)\n",
    "    a=a[:-2]\n",
    "    a=a[2:]\n",
    "    n=a[:-1]\n",
    "    return n"
   ]
  },
  {
   "cell_type": "code",
   "execution_count": 14,
   "metadata": {},
   "outputs": [],
   "source": [
    "#Find maximal and closed itemsets\n",
    "maximal=[]\n",
    "closed=[]\n",
    "for i in range(1,q):\n",
    "    for j in count[i]:\n",
    "        fm=0\n",
    "        fc=0\n",
    "        for k in count[i+1]:\n",
    "            a=set(list([j]))\n",
    "            b=set(list(k))\n",
    "            #Set is maximal if no immediate superset is frequent\n",
    "            if(a.intersection(b)==a):\n",
    "                fm=1\n",
    "                #Set is closed if none of its immediate supersets have equal support\n",
    "                if(count[i][j]==count[i+1][k]):\n",
    "                    fc=1\n",
    "        if(fm==0):\n",
    "            maximal.append(j)\n",
    "        if(fc==0):\n",
    "            closed.append(j)\n",
    "#All sets at the top of the tree are automatically maximal and closed\n",
    "for i in count[q]:\n",
    "    maximal.append(i)\n",
    "    closed.append(i)"
   ]
  },
  {
   "cell_type": "code",
   "execution_count": 15,
   "metadata": {},
   "outputs": [
    {
     "name": "stdout",
     "output_type": "stream",
     "text": [
      "ASSOCIATION RULES\n",
      "whole milk ( 2513 ) ---> yogurt ( 1372 )  confidence =  0.2192598487863112\n",
      "yogurt ( 1372 ) ---> whole milk ( 2513 )  confidence =  0.40160349854227406\n",
      "other vegetables ( 1903 ) ---> whole milk ( 2513 )  confidence =  0.38675775091960063\n",
      "whole milk ( 2513 ) ---> other vegetables ( 1903 )  confidence =  0.29287703939514526\n",
      "rolls/buns ( 1809 ) ---> whole milk ( 2513 )  confidence =  0.30790491984521834\n",
      "whole milk ( 2513 ) ---> rolls/buns ( 1809 )  confidence =  0.2216474333465977\n"
     ]
    }
   ],
   "source": [
    "#Find Association Rules \n",
    "print(\"ASSOCIATION RULES\")\n",
    "c=0\n",
    "ant=count.copy()\n",
    "for i in range(q,0,-1):\n",
    "    for j in ant[i]:\n",
    "        for k in range(i-1,0,-1):\n",
    "            s=list(combinations(list(j),k))      \n",
    "            #Traverse through list of all combinations of antecedants\n",
    "            for n in s:\n",
    "                #Sorting to prevent duplicate itemsets \n",
    "                r=tuple(sorted(set(j).difference(set(n))))\n",
    "                l=len(n)\n",
    "                #Check if len(n)==1 to be able to extract key to search in the support dictionary. \n",
    "                if(l==1):\n",
    "                    n=value(n)\n",
    "                    l=1\n",
    "                if(len(r)==1):\n",
    "                    r2=value(r)\n",
    "                if(n!=None):\n",
    "                    #If rule's confidence is greater than minconfidence, then print the rule\n",
    "                    if((ant[len(j)][j]/ant[l][n])>=minconf):\n",
    "                    \t#Rule is only significant if it is present in CLOSED, otherwise it is redundant\n",
    "                        if(closed.__contains__((n))):\n",
    "                            c=c+1\n",
    "                            if(len(r)==1):\n",
    "                                print(n,\"(\",ant[l][n],\")\",\"--->\",r2,\"(\",ant[len(r)][r2],\")\", \" confidence = \",(ant[len(j)][j]/ant[l][n]))\n",
    "                            else:\n",
    "                                print(n,\"(\",ant[l][n],\")\",\"--->\",r,\"(\",ant[len(r)][r],\")\", \" confidence = \",(ant[len(j)][j]/ant[l][n]))"
   ]
  }
 ],
 "metadata": {
  "kernelspec": {
   "display_name": "Python 3",
   "language": "python",
   "name": "python3"
  },
  "language_info": {
   "codemirror_mode": {
    "name": "ipython",
    "version": 3
   },
   "file_extension": ".py",
   "mimetype": "text/x-python",
   "name": "python",
   "nbconvert_exporter": "python",
   "pygments_lexer": "ipython3",
   "version": "3.7.4"
  }
 },
 "nbformat": 4,
 "nbformat_minor": 2
}
