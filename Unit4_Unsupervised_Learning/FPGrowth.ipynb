{
 "cells": [
  {
   "cell_type": "code",
   "execution_count": 1,
   "metadata": {},
   "outputs": [],
   "source": [
    "import csv\n",
    "import pandas as pd\n",
    "from itertools import combinations"
   ]
  },
  {
   "cell_type": "code",
   "execution_count": 2,
   "metadata": {},
   "outputs": [],
   "source": [
    "#Read data from CSV\n",
    "data = pd.read_csv('groceries.csv')"
   ]
  },
  {
   "cell_type": "code",
   "execution_count": 3,
   "metadata": {},
   "outputs": [
    {
     "name": "stdout",
     "output_type": "stream",
     "text": [
      "Enter Support-Threshold: 0.05\n",
      "Enter Confidence-Threshold: 0.05\n"
     ]
    }
   ],
   "source": [
    "#Parameters\n",
    "minsup=float(input(\"Enter Support-Threshold: \"))\n",
    "minsup=minsup*len(data)\n",
    "minconf=float(input(\"Enter Confidence-Threshold: \"))"
   ]
  },
  {
   "cell_type": "code",
   "execution_count": 4,
   "metadata": {},
   "outputs": [],
   "source": [
    "#Add all data in a list of lists\n",
    "items = []  \n",
    "for i in range(0, len(data)):  \n",
    "    items.append([str(data.values[i,j]) for j in range(0, len(data.values[0]))])"
   ]
  },
  {
   "cell_type": "code",
   "execution_count": 5,
   "metadata": {},
   "outputs": [],
   "source": [
    "#Creating a list of dictionaries\n",
    "count = [dict() for x in range(len(data.values[0])+1)]"
   ]
  },
  {
   "cell_type": "code",
   "execution_count": 6,
   "metadata": {},
   "outputs": [],
   "source": [
    "#Count support for each individual items\n",
    "s=[]\n",
    "for i in items:\n",
    "    for j in i:\n",
    "        s.append(j)\n",
    "for i in s:\n",
    "    #If item is present in dictionary, increment its count by 1\n",
    "    if i in count[1]:\n",
    "        count[1][i] = count[1][i] + 1\n",
    "    #If item is not present in dictionary, set its count to 1\n",
    "    else:\n",
    "        count[1][i] = 1"
   ]
  },
  {
   "cell_type": "code",
   "execution_count": 7,
   "metadata": {},
   "outputs": [
    {
     "data": {
      "text/plain": [
       "271353"
      ]
     },
     "execution_count": 7,
     "metadata": {},
     "output_type": "execute_result"
    }
   ],
   "source": [
    "#Remove infrequent and empty items\n",
    "for i in count[1].copy():\n",
    "    if(count[1][i]<minsup):\n",
    "        count[1].pop(i)\n",
    "count[1].pop('nan')"
   ]
  },
  {
   "cell_type": "code",
   "execution_count": 8,
   "metadata": {},
   "outputs": [],
   "source": [
    "#Storing transactions as lists without infrequent items\n",
    "a=list(count[1])\n",
    "item=[list() for i in range(len(data))]\n",
    "c=0\n",
    "for i in range(0,len(items)):\n",
    "    for j in range(len(items[i])):\n",
    "        if(a.__contains__(items[i][j])!=0):\n",
    "            item[i].append(items[i][j])"
   ]
  },
  {
   "cell_type": "code",
   "execution_count": 9,
   "metadata": {},
   "outputs": [],
   "source": [
    "#Function to sort list to support\n",
    "def sort(a):\n",
    "    for i in range(len(a)-1):\n",
    "        for j in range(len(a)-i-1):\n",
    "            if(count[1][a[j]]<count[1][a[j+1]]):\n",
    "                a[j],a[j+1]=a[j+1],a[j]"
   ]
  },
  {
   "cell_type": "code",
   "execution_count": 10,
   "metadata": {},
   "outputs": [],
   "source": [
    "        \n",
    "#Call function to sort all transactions in descending order of their support\n",
    "for i in range(0,len(data)):\n",
    "    if(len(item[i])>1):\n",
    "        sort(item[i])"
   ]
  },
  {
   "cell_type": "code",
   "execution_count": 11,
   "metadata": {},
   "outputs": [],
   "source": [
    "#Tree class for FP-Tree\n",
    "class tree:\n",
    "    def __init__(self, name, sup, parent):\n",
    "        self.name = name\n",
    "        self.sup = sup\n",
    "        self.nodeLink = None\n",
    "        self.parent = parent\n",
    "        self.children = []"
   ]
  },
  {
   "cell_type": "code",
   "execution_count": 12,
   "metadata": {},
   "outputs": [],
   "source": [
    "#Function to check if the node is present is a child of the current node\n",
    "def ispresent(node,name):\n",
    "    f=-1\n",
    "    for i in node.children:\n",
    "        f=f+1\n",
    "        if(i.name==name):\n",
    "            return f\n",
    "    return -1"
   ]
  },
  {
   "cell_type": "code",
   "execution_count": 13,
   "metadata": {},
   "outputs": [],
   "source": [
    "#HeaderTable which stores the reference of last/first occurence of an item. Used as a linked list to generate candidate trees \n",
    "lastocc=count[1].copy()\n",
    "for i in lastocc:\n",
    "    lastocc[i]=None"
   ]
  },
  {
   "cell_type": "code",
   "execution_count": 14,
   "metadata": {},
   "outputs": [],
   "source": [
    "#Function to create FP-tree\n",
    "root = tree(\"root\",-1,None)\n",
    "z=0\n",
    "for i in item:\n",
    "    current=root\n",
    "    for j in range(len(i)):\n",
    "        if(ispresent(current,i[j])>=0):\n",
    "            current=current.children[ispresent(current,i[j])]\n",
    "            current.sup=current.sup+1\n",
    "        else:\n",
    "            child=tree(i[j],1,current)\n",
    "            current.children.append(child)\n",
    "            t=current\n",
    "            current=current.children[ispresent(current,i[j])]\n",
    "            current.parent=t\n",
    "            if(lastocc[current.name]==None):\n",
    "                lastocc[current.name]=current\n",
    "            else:\n",
    "                current.nodeLink=lastocc[current.name]\n",
    "                lastocc[current.name]=current"
   ]
  },
  {
   "cell_type": "code",
   "execution_count": 15,
   "metadata": {},
   "outputs": [],
   "source": [
    "#Function to extract single item set from a tuple\n",
    "def value(a):\n",
    "    a=str(a)\n",
    "    a=a[:-2]\n",
    "    a=a[2:]\n",
    "    a=a[:-1]\n",
    "    return a"
   ]
  },
  {
   "cell_type": "code",
   "execution_count": 16,
   "metadata": {},
   "outputs": [],
   "source": [
    "#Function to get frequent itemsets with suffix 'node' and length n\n",
    "def singlepath(node,n):\n",
    "    c=0\n",
    "    sup=node.sup\n",
    "    path=[]\n",
    "    pathname=[]\n",
    "    current=node\n",
    "    \n",
    "    #Get the path from current node to root\n",
    "    while(current.parent!=None):\n",
    "        path.append(current)\n",
    "        pathname.append(current.name)\n",
    "        current=current.parent  \n",
    "    path.remove(node)\n",
    "    pathname.remove(node.name)\n",
    "    candidatepath=[]\n",
    "    temp_candidatepath=[]\n",
    "    #Generate combinations of length n in the path\n",
    "    a =(list(combinations(pathname,n)))\n",
    "    for j in a:\n",
    "        temp_candidatepath.append(tuple(sorted(j)))\n",
    "    #Append the suffix 'node.name' to the above paths\n",
    "    for j in temp_candidatepath:\n",
    "        j=list(j)\n",
    "        j.append(node.name)\n",
    "        candidatepath.append(sorted(j))\n",
    "    #Update counts of the generated itemsets\n",
    "    for j in candidatepath:\n",
    "        j=tuple(j)\n",
    "        if j in count[n+1]:\n",
    "            count[n+1][j]=count[n+1][j]+sup\n",
    "        else:\n",
    "            count[n+1][j]=sup\n",
    "            \n",
    "    #Iterating in the candidate tree recursively \n",
    "    if(node.nodeLink!=None):\n",
    "        node=node.nodeLink\n",
    "        singlepath(node,i)"
   ]
  },
  {
   "cell_type": "code",
   "execution_count": 17,
   "metadata": {},
   "outputs": [],
   "source": [
    "    \n",
    "#Check if itemset is frequent\n",
    "def frequent(n):\n",
    "    f=0\n",
    "    for i in count[n]:\n",
    "        if(count[n][i]>=minsup):\n",
    "            f=1\n",
    "    if(f==1):\n",
    "        return 1\n",
    "    else:\n",
    "        return 0"
   ]
  },
  {
   "cell_type": "code",
   "execution_count": 18,
   "metadata": {},
   "outputs": [],
   "source": [
    "#Call singlepath function for all frequent nodes\n",
    "for i in range(1,len(data.values[0])+1): \n",
    "    if(frequent(i)==1):\n",
    "        for j in lastocc:\n",
    "            singlepath(lastocc[j],i)"
   ]
  },
  {
   "cell_type": "code",
   "execution_count": 19,
   "metadata": {},
   "outputs": [],
   "source": [
    "#Remove infrequent itemsets\n",
    "for z in range(len(data.values[0])+1):            \n",
    "    for i in count[z].copy():\n",
    "            if(count[z][i]<minsup):\n",
    "                count[z].pop(i)"
   ]
  },
  {
   "cell_type": "code",
   "execution_count": 20,
   "metadata": {},
   "outputs": [],
   "source": [
    "#Get 'q', the length of the longest itemset\n",
    "i=2\n",
    "while(len(count[i-1])!=0):\n",
    "    i=i+1\n",
    "q=i-2"
   ]
  },
  {
   "cell_type": "code",
   "execution_count": 22,
   "metadata": {},
   "outputs": [],
   "source": [
    "#Find maximal and closed itemsets\n",
    "maximal=[]\n",
    "closed=[]\n",
    "for i in range(1,q):\n",
    "    for j in count[i]:\n",
    "        fm=0\n",
    "        fc=0\n",
    "        for k in count[i+1]:\n",
    "            a=set(list([j]))\n",
    "            b=set(list(k))\n",
    "            #Set is maximal if no immediate superset is frequent\n",
    "            if(a.intersection(b)==a):\n",
    "                fm=1\n",
    "                #Set is closed if none of its immediate supersets have equal support\n",
    "                if(count[i][j]==count[i+1][k]):\n",
    "                    fc=1\n",
    "        if(fm==0):\n",
    "            maximal.append(j)\n",
    "        if(fc==0):\n",
    "\n",
    "            closed.append(j)\n",
    "#All sets at the top of the tree are automatically maximal and closed\n",
    "for i in count[q]:\n",
    "    maximal.append(i)\n",
    "    closed.append(i)"
   ]
  },
  {
   "cell_type": "code",
   "execution_count": 23,
   "metadata": {},
   "outputs": [
    {
     "name": "stdout",
     "output_type": "stream",
     "text": [
      "ASSOCIATION RULES\n",
      "whole milk ( 2513 ) ---> yogurt ( 1372 )  - conf( 0.2192598487863112 )\n",
      "yogurt ( 1372 ) ---> whole milk ( 2513 )  - conf( 0.40160349854227406 )\n",
      "other vegetables ( 1903 ) ---> whole milk ( 2513 )  - conf( 0.38675775091960063 )\n",
      "whole milk ( 2513 ) ---> other vegetables ( 1903 )  - conf( 0.29287703939514526 )\n",
      "rolls/buns ( 1809 ) ---> whole milk ( 2513 )  - conf( 0.30790491984521834 )\n",
      "whole milk ( 2513 ) ---> rolls/buns ( 1809 )  - conf( 0.2216474333465977 )\n"
     ]
    }
   ],
   "source": [
    "    \n",
    "#Find Association Rules \n",
    "print(\"ASSOCIATION RULES\")\n",
    "ant=count.copy()\n",
    "for i in range(q,0,-1):\n",
    "    for j in ant[i]:\n",
    "        for k in range(i-1,0,-1):\n",
    "            s=list(combinations(list(j),k))     \n",
    "            #Traverse through list of all combinations of antecedants\n",
    "            for n in s:\n",
    "                #Sorting to prevent duplicate itemsets \n",
    "                r=tuple(sorted(set(j).difference(set(n))))\n",
    "                l=len(n)\n",
    "                #Check if len(n)==1 to be able to extract key to search in the support dictionary. \n",
    "                if(l==1):\n",
    "                    n=value(n)\n",
    "                    l=1\n",
    "                if(len(r)==1):\n",
    "                    r2=value(r)\n",
    "                if(n!=None):\n",
    "                    #If rule's confidence is greater than minconfidence, then print the rule\n",
    "                    if((ant[len(j)][j]/ant[l][n])>=minconf):\n",
    "                        #Rule is only significant if it is present in CLOSED, otherwise it is redundant\n",
    "                        if(closed.__contains__((n))):\n",
    "                            c=c+1\n",
    "                            if(len(r)==1):\n",
    "                                print(n,\"(\",ant[l][n],\")\",\"--->\",r2,\"(\",ant[len(r)][r2],\")\", \" - conf(\",(ant[len(j)][j]/ant[l][n]),\")\")\n",
    "                            else:\n",
    "                                print(n,\"(\",ant[l][n],\")\",\"--->\",r,\"(\",ant[len(r)][r],\")\", \" conf(\",(ant[len(j)][j]/ant[l][n]),\")\")"
   ]
  }
 ],
 "metadata": {
  "kernelspec": {
   "display_name": "Python 3",
   "language": "python",
   "name": "python3"
  },
  "language_info": {
   "codemirror_mode": {
    "name": "ipython",
    "version": 3
   },
   "file_extension": ".py",
   "mimetype": "text/x-python",
   "name": "python",
   "nbconvert_exporter": "python",
   "pygments_lexer": "ipython3",
   "version": "3.7.4"
  }
 },
 "nbformat": 4,
 "nbformat_minor": 2
}
