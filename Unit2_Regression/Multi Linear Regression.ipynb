{
 "cells": [
  {
   "cell_type": "markdown",
   "metadata": {},
   "source": [
    "# MLR Models for Milage of Car"
   ]
  },
  {
   "cell_type": "code",
   "execution_count": 1,
   "metadata": {},
   "outputs": [],
   "source": [
    "# Importing Modules\n",
    "import numpy as np\n",
    "import pandas as pd\n",
    "import matplotlib.pyplot as plt\n",
    "from sklearn import linear_model as lm #For Linear Regression Model\n",
    "import statsmodels.api as sm\n",
    "import seaborn as sns\n",
    "from sklearn.model_selection import train_test_split #For sepration o data into testSet & trainSet\n",
    "from sklearn.metrics import mean_squared_error, r2_score #For evaluation model"
   ]
  },
  {
   "cell_type": "code",
   "execution_count": 2,
   "metadata": {},
   "outputs": [
    {
     "name": "stderr",
     "output_type": "stream",
     "text": [
      "b'Skipping line 12: expected 10 fields, saw 11\\nSkipping line 15: expected 10 fields, saw 11\\nSkipping line 18: expected 10 fields, saw 11\\nSkipping line 20: expected 10 fields, saw 11\\nSkipping line 21: expected 10 fields, saw 11\\nSkipping line 26: expected 10 fields, saw 11\\nSkipping line 40: expected 10 fields, saw 11\\nSkipping line 51: expected 10 fields, saw 11\\nSkipping line 53: expected 10 fields, saw 11\\nSkipping line 77: expected 10 fields, saw 11\\nSkipping line 81: expected 10 fields, saw 11\\nSkipping line 82: expected 10 fields, saw 11\\nSkipping line 83: expected 10 fields, saw 11\\nSkipping line 90: expected 10 fields, saw 12\\nSkipping line 92: expected 10 fields, saw 11\\nSkipping line 101: expected 10 fields, saw 11\\nSkipping line 102: expected 10 fields, saw 11\\nSkipping line 103: expected 10 fields, saw 11\\nSkipping line 122: expected 10 fields, saw 11\\nSkipping line 123: expected 10 fields, saw 11\\nSkipping line 141: expected 10 fields, saw 11\\nSkipping line 145: expected 10 fields, saw 11\\nSkipping line 146: expected 10 fields, saw 11\\nSkipping line 147: expected 10 fields, saw 11\\nSkipping line 195: expected 10 fields, saw 11\\nSkipping line 216: expected 10 fields, saw 11\\nSkipping line 225: expected 10 fields, saw 11\\nSkipping line 237: expected 10 fields, saw 11\\nSkipping line 238: expected 10 fields, saw 11\\nSkipping line 244: expected 10 fields, saw 11\\nSkipping line 252: expected 10 fields, saw 11\\nSkipping line 257: expected 10 fields, saw 11\\nSkipping line 270: expected 10 fields, saw 11\\nSkipping line 271: expected 10 fields, saw 12\\nSkipping line 278: expected 10 fields, saw 11\\nSkipping line 291: expected 10 fields, saw 11\\nSkipping line 297: expected 10 fields, saw 11\\nSkipping line 298: expected 10 fields, saw 11\\nSkipping line 299: expected 10 fields, saw 11\\nSkipping line 300: expected 10 fields, saw 13\\nSkipping line 303: expected 10 fields, saw 11\\nSkipping line 308: expected 10 fields, saw 11\\nSkipping line 333: expected 10 fields, saw 11\\nSkipping line 337: expected 10 fields, saw 11\\nSkipping line 348: expected 10 fields, saw 11\\nSkipping line 367: expected 10 fields, saw 11\\nSkipping line 379: expected 10 fields, saw 11\\nSkipping line 385: expected 10 fields, saw 11\\nSkipping line 396: expected 10 fields, saw 11\\n'\n"
     ]
    },
    {
     "data": {
      "text/html": [
       "<div>\n",
       "<style scoped>\n",
       "    .dataframe tbody tr th:only-of-type {\n",
       "        vertical-align: middle;\n",
       "    }\n",
       "\n",
       "    .dataframe tbody tr th {\n",
       "        vertical-align: top;\n",
       "    }\n",
       "\n",
       "    .dataframe thead th {\n",
       "        text-align: right;\n",
       "    }\n",
       "</style>\n",
       "<table border=\"1\" class=\"dataframe\">\n",
       "  <thead>\n",
       "    <tr style=\"text-align: right;\">\n",
       "      <th></th>\n",
       "      <th>0</th>\n",
       "      <th>1</th>\n",
       "      <th>2</th>\n",
       "      <th>3</th>\n",
       "      <th>4</th>\n",
       "      <th>5</th>\n",
       "      <th>6</th>\n",
       "      <th>7</th>\n",
       "      <th>8</th>\n",
       "      <th>9</th>\n",
       "    </tr>\n",
       "  </thead>\n",
       "  <tbody>\n",
       "    <tr>\n",
       "      <td>0</td>\n",
       "      <td>18.0</td>\n",
       "      <td>8.0</td>\n",
       "      <td>307.0</td>\n",
       "      <td>130.0</td>\n",
       "      <td>3504.0</td>\n",
       "      <td>12.0</td>\n",
       "      <td>70.0</td>\n",
       "      <td>1.\\t\"chevrolet</td>\n",
       "      <td>chevelle</td>\n",
       "      <td>malibu\"</td>\n",
       "    </tr>\n",
       "    <tr>\n",
       "      <td>1</td>\n",
       "      <td>15.0</td>\n",
       "      <td>8.0</td>\n",
       "      <td>350.0</td>\n",
       "      <td>165.0</td>\n",
       "      <td>3693.0</td>\n",
       "      <td>11.5</td>\n",
       "      <td>70.0</td>\n",
       "      <td>1.\\t\"buick</td>\n",
       "      <td>skylark</td>\n",
       "      <td>320\"</td>\n",
       "    </tr>\n",
       "    <tr>\n",
       "      <td>2</td>\n",
       "      <td>18.0</td>\n",
       "      <td>8.0</td>\n",
       "      <td>318.0</td>\n",
       "      <td>150.0</td>\n",
       "      <td>3436.0</td>\n",
       "      <td>11.0</td>\n",
       "      <td>70.0</td>\n",
       "      <td>1.\\t\"plymouth</td>\n",
       "      <td>satellite\"</td>\n",
       "      <td>NaN</td>\n",
       "    </tr>\n",
       "    <tr>\n",
       "      <td>3</td>\n",
       "      <td>16.0</td>\n",
       "      <td>8.0</td>\n",
       "      <td>304.0</td>\n",
       "      <td>150.0</td>\n",
       "      <td>3433.0</td>\n",
       "      <td>12.0</td>\n",
       "      <td>70.0</td>\n",
       "      <td>1.\\t\"amc</td>\n",
       "      <td>rebel</td>\n",
       "      <td>sst\"</td>\n",
       "    </tr>\n",
       "    <tr>\n",
       "      <td>4</td>\n",
       "      <td>17.0</td>\n",
       "      <td>8.0</td>\n",
       "      <td>302.0</td>\n",
       "      <td>140.0</td>\n",
       "      <td>3449.0</td>\n",
       "      <td>10.5</td>\n",
       "      <td>70.0</td>\n",
       "      <td>1.\\t\"ford</td>\n",
       "      <td>torino\"</td>\n",
       "      <td>NaN</td>\n",
       "    </tr>\n",
       "  </tbody>\n",
       "</table>\n",
       "</div>"
      ],
      "text/plain": [
       "      0    1      2      3       4     5     6               7           8  \\\n",
       "0  18.0  8.0  307.0  130.0  3504.0  12.0  70.0  1.\\t\"chevrolet    chevelle   \n",
       "1  15.0  8.0  350.0  165.0  3693.0  11.5  70.0      1.\\t\"buick     skylark   \n",
       "2  18.0  8.0  318.0  150.0  3436.0  11.0  70.0   1.\\t\"plymouth  satellite\"   \n",
       "3  16.0  8.0  304.0  150.0  3433.0  12.0  70.0        1.\\t\"amc       rebel   \n",
       "4  17.0  8.0  302.0  140.0  3449.0  10.5  70.0       1.\\t\"ford     torino\"   \n",
       "\n",
       "         9  \n",
       "0  malibu\"  \n",
       "1     320\"  \n",
       "2      NaN  \n",
       "3     sst\"  \n",
       "4      NaN  "
      ]
     },
     "execution_count": 2,
     "metadata": {},
     "output_type": "execute_result"
    }
   ],
   "source": [
    "#Reading Data\n",
    "data = pd.read_csv(\"auto-mpg.data-original.txt\",sep=\" \",header=None,error_bad_lines=False,skipinitialspace=True)\n",
    "data.head()"
   ]
  },
  {
   "cell_type": "markdown",
   "metadata": {},
   "source": [
    "### Pre-Processing Data"
   ]
  },
  {
   "cell_type": "code",
   "execution_count": 3,
   "metadata": {},
   "outputs": [],
   "source": [
    "data['10']= str(data.iloc[:,7])+' '+str(data.iloc[:,8])+' '+str(data.iloc[:,9])"
   ]
  },
  {
   "cell_type": "code",
   "execution_count": 4,
   "metadata": {},
   "outputs": [],
   "source": [
    "data.drop([7,8,9],axis=1,inplace=True)\n",
    "data.columns=['M/G','Cylinders','Displacement','Hp','Weight','Accn','Model Year','Origin / Car Name']c"
   ]
  },
  {
   "cell_type": "code",
   "execution_count": 11,
   "metadata": {},
   "outputs": [
    {
     "data": {
      "text/plain": [
       "Text(0.5, 0.98, 'Mileage of Car wrt Cylinders,CC,Horse Power,Weight,Accelaration')"
      ]
     },
     "execution_count": 11,
     "metadata": {},
     "output_type": "execute_result"
    },
    {
     "data": {
      "image/png": "[encoded data removed]",
      "text/plain": [
       "<Figure size 900x180 with 5 Axes>"
      ]
     },
     "metadata": {
      "needs_background": "light"
     },
     "output_type": "display_data"
    }
   ],
   "source": [
    "sns.pairplot(data,x_vars=['Cylinders','Displacement','Hp','Weight','Accn'],y_vars='M/G')\n",
    "plt.suptitle('Mileage of Car wrt Cylinders,CC,Horse Power,Weight,Accelaration')"
   ]
  },
  {
   "cell_type": "code",
   "execution_count": 5,
   "metadata": {},
   "outputs": [
    {
     "name": "stdout",
     "output_type": "stream",
     "text": [
      "<class 'pandas.core.frame.DataFrame'>\n",
      "RangeIndex: 357 entries, 0 to 356\n",
      "Data columns (total 8 columns):\n",
      "M/G                  353 non-null float64\n",
      "Cylinders            357 non-null float64\n",
      "Displacement         357 non-null float64\n",
      "Hp                   351 non-null float64\n",
      "Weight               357 non-null float64\n",
      "Accn                 357 non-null float64\n",
      "Model Year           357 non-null float64\n",
      "Origin / Car Name    357 non-null object\n",
      "dtypes: float64(7), object(1)\n",
      "memory usage: 22.4+ KB\n"
     ]
    }
   ],
   "source": [
    "data.info()"
   ]
  },
  {
   "cell_type": "code",
   "execution_count": 6,
   "metadata": {},
   "outputs": [],
   "source": [
    "data.fillna(method='ffill',inplace=True)"
   ]
  },
  {
   "cell_type": "code",
   "execution_count": 7,
   "metadata": {},
   "outputs": [],
   "source": [
    "X = data.iloc[:,[1,2,3,4]].values\n",
    "Y = data.iloc[:,0].values"
   ]
  },
  {
   "cell_type": "code",
   "execution_count": 8,
   "metadata": {},
   "outputs": [
    {
     "data": {
      "text/plain": [
       "array([[   8. ,  307. ,  130. , 3504. ,   12. ],\n",
       "       [   8. ,  350. ,  165. , 3693. ,   11.5],\n",
       "       [   8. ,  318. ,  150. , 3436. ,   11. ],\n",
       "       ...,\n",
       "       [   4. ,  135. ,   84. , 2295. ,   11.6],\n",
       "       [   4. ,  120. ,   79. , 2625. ,   18.6],\n",
       "       [   4. ,  119. ,   82. , 2720. ,   19.4]])"
      ]
     },
     "execution_count": 8,
     "metadata": {},
     "output_type": "execute_result"
    }
   ],
   "source": [
    "X"
   ]
  },
  {
   "cell_type": "code",
   "execution_count": 9,
   "metadata": {},
   "outputs": [
    {
     "data": {
      "text/plain": [
       "array([18. , 15. , 18. , 16. , 17. , 15. , 14. , 14. , 14. , 15. , 15. ,\n",
       "       15. , 15. , 15. , 14. , 15. , 22. , 18. , 21. , 27. , 25. , 24. ,\n",
       "       25. , 26. , 21. , 10. , 10. , 11. ,  9. , 27. , 28. , 25. , 25. ,\n",
       "       19. , 16. , 17. , 19. , 18. , 14. , 14. , 14. , 14. , 12. , 13. ,\n",
       "       22. , 19. , 18. , 23. , 28. , 30. , 30. , 31. , 35. , 27. , 26. ,\n",
       "       24. , 25. , 23. , 20. , 21. , 13. , 14. , 15. , 14. , 17. , 11. ,\n",
       "       13. , 13. , 19. , 15. , 18. , 22. , 21. , 26. , 22. , 28. , 28. ,\n",
       "       13. , 14. , 13. , 14. , 15. , 12. , 13. , 13. , 13. , 18. , 16. ,\n",
       "       18. , 18. , 23. , 26. , 11. , 12. , 13. , 12. , 18. , 20. , 21. ,\n",
       "       22. , 18. , 19. , 21. , 16. , 29. , 24. , 20. , 19. , 15. , 24. ,\n",
       "       20. , 11. , 20. , 21. , 19. , 15. , 31. , 26. , 32. , 25. , 16. ,\n",
       "       18. , 16. , 14. , 29. , 26. , 26. , 31. , 32. , 28. , 24. , 26. ,\n",
       "       24. , 26. , 31. , 19. , 18. , 15. , 15. , 16. , 15. , 16. , 14. ,\n",
       "       17. , 16. , 15. , 18. , 21. , 20. , 13. , 29. , 23. , 20. , 23. ,\n",
       "       24. , 25. , 24. , 18. , 29. , 19. , 23. , 23. , 22. , 25. , 33. ,\n",
       "       28. , 25. , 25. , 26. , 27. , 16. , 15.5, 14.5, 22. , 22. , 24. ,\n",
       "       22.5, 29. , 24.5, 29. , 33. , 20. , 18. , 18.5, 17.5, 29.5, 32. ,\n",
       "       28. , 26.5, 20. , 19. , 19. , 16.5, 16.5, 13. , 13. , 13. , 31.5,\n",
       "       36. , 25.5, 33.5, 17.5, 17. , 15.5, 15. , 17.5, 20.5, 19. , 18.5,\n",
       "       15.5, 16. , 29. , 24.5, 26. , 30.5, 33.5, 30. , 30.5, 22. , 21.5,\n",
       "       21.5, 36.1, 32.8, 39.4, 36.1, 19.4, 20.2, 19.2, 20.5, 20.2, 25.1,\n",
       "       20.5, 19.4, 20.6, 20.8, 18.6, 18.1, 18.1, 17.5, 30. , 27.5, 27.2,\n",
       "       30.9, 23.2, 23.8, 23.9, 20.3, 17. , 21.6, 16.2, 31.5, 29.5, 21.5,\n",
       "       19.8, 22.3, 20.6, 17. , 17.6, 16.5, 18.2, 31.9, 34.1, 27.4, 25.4,\n",
       "       23. , 27.2, 34.2, 34.5, 31.8, 37.3, 28.4, 28.8, 26.8, 33.5, 41.5,\n",
       "       38.1, 32.1, 37.2, 28. , 26.4, 24.3, 19.1, 34.3, 29.8, 31.3, 37. ,\n",
       "       32.2, 46.6, 27.9, 40.8, 43.4, 36.4, 30. , 40.9, 33.8, 29.8, 32.7,\n",
       "       23.7, 35. , 23.6, 32.4, 27.2, 26.6, 23.5, 30. , 39.1, 39. , 35.1,\n",
       "       32.3, 37. , 37.7, 34.1, 34.7, 34.4, 29.9, 33. , 34.5, 33.7, 32.4,\n",
       "       32.9, 31.6, 31.6, 30.7, 25.4, 24.2, 22.4, 26.6, 20.2, 17.6, 28. ,\n",
       "       27. , 34. , 29. , 27. , 24. , 23. , 36. , 31. , 38. , 36. , 36. ,\n",
       "       36. , 34. , 38. , 32. , 38. , 25. , 26. , 22. , 32. , 36. , 27. ,\n",
       "       27. , 44. , 32. , 28. , 31. ])"
      ]
     },
     "execution_count": 9,
     "metadata": {},
     "output_type": "execute_result"
    }
   ],
   "source": [
    "Y"
   ]
  },
  {
   "cell_type": "markdown",
   "metadata": {},
   "source": [
    "## Spliting Data into Train & Test Sets"
   ]
  },
  {
   "cell_type": "code",
   "execution_count": 10,
   "metadata": {},
   "outputs": [],
   "source": [
    "XTrain,XTest,YTrain,YTest=train_test_split(X,Y,test_size=1/4,random_state=42)"
   ]
  },
  {
   "cell_type": "markdown",
   "metadata": {},
   "source": [
    "## SKLearn Linear Regression Model"
   ]
  },
  {
   "cell_type": "code",
   "execution_count": 12,
   "metadata": {},
   "outputs": [
    {
     "data": {
      "text/plain": [
       "LinearRegression(copy_X=True, fit_intercept=True, n_jobs=None, normalize=False)"
      ]
     },
     "execution_count": 12,
     "metadata": {},
     "output_type": "execute_result"
    }
   ],
   "source": [
    "regsr = lm.LinearRegression()\n",
    "regsr.fit(XTrain,YTrain)"
   ]
  },
  {
   "cell_type": "code",
   "execution_count": 13,
   "metadata": {},
   "outputs": [],
   "source": [
    "YPred = regsr.predict(XTest)"
   ]
  },
  {
   "cell_type": "markdown",
   "metadata": {},
   "source": [
    "### Evaluating Model"
   ]
  },
  {
   "cell_type": "code",
   "execution_count": 14,
   "metadata": {},
   "outputs": [],
   "source": [
    "RMSET = np.sqrt(mean_squared_error(YTest,YPred))\n",
    "R2 = r2_score(YTest,YPred)"
   ]
  },
  {
   "cell_type": "code",
   "execution_count": 15,
   "metadata": {},
   "outputs": [
    {
     "data": {
      "text/plain": [
       "4.678398441789438"
      ]
     },
     "execution_count": 15,
     "metadata": {},
     "output_type": "execute_result"
    }
   ],
   "source": [
    "RMSET"
   ]
  },
  {
   "cell_type": "code",
   "execution_count": 16,
   "metadata": {},
   "outputs": [
    {
     "data": {
      "text/plain": [
       "0.6732494113639422"
      ]
     },
     "execution_count": 16,
     "metadata": {},
     "output_type": "execute_result"
    }
   ],
   "source": [
    "R2"
   ]
  },
  {
   "cell_type": "markdown",
   "metadata": {},
   "source": [
    "## Stats Model OLS "
   ]
  },
  {
   "cell_type": "markdown",
   "metadata": {},
   "source": [
    "### Creating OLS Model"
   ]
  },
  {
   "cell_type": "code",
   "execution_count": 17,
   "metadata": {},
   "outputs": [],
   "source": [
    "#With Constant Added\n",
    "XTrain1 = sm.add_constant(XTrain)\n",
    "olsmodel = sm.OLS(YTrain,XTrain1)#Yval First\n",
    "prediction = olsmodel.fit()"
   ]
  },
  {
   "cell_type": "markdown",
   "metadata": {},
   "source": [
    "### Evaluation Model"
   ]
  },
  {
   "cell_type": "code",
   "execution_count": 18,
   "metadata": {},
   "outputs": [
    {
     "data": {
      "text/html": [
       "<table class=\"simpletable\">\n",
       "<caption>OLS Regression Results</caption>\n",
       "<tr>\n",
       "  <th>Dep. Variable:</th>            <td>y</td>        <th>  R-squared:         </th> <td>   0.710</td>\n",
       "</tr>\n",
       "<tr>\n",
       "  <th>Model:</th>                   <td>OLS</td>       <th>  Adj. R-squared:    </th> <td>   0.704</td>\n",
       "</tr>\n",
       "<tr>\n",
       "  <th>Method:</th>             <td>Least Squares</td>  <th>  F-statistic:       </th> <td>   127.8</td>\n",
       "</tr>\n",
       "<tr>\n",
       "  <th>Date:</th>             <td>Thu, 28 Nov 2019</td> <th>  Prob (F-statistic):</th> <td>4.68e-68</td>\n",
       "</tr>\n",
       "<tr>\n",
       "  <th>Time:</th>                 <td>19:24:19</td>     <th>  Log-Likelihood:    </th> <td> -747.68</td>\n",
       "</tr>\n",
       "<tr>\n",
       "  <th>No. Observations:</th>      <td>   267</td>      <th>  AIC:               </th> <td>   1507.</td>\n",
       "</tr>\n",
       "<tr>\n",
       "  <th>Df Residuals:</th>          <td>   261</td>      <th>  BIC:               </th> <td>   1529.</td>\n",
       "</tr>\n",
       "<tr>\n",
       "  <th>Df Model:</th>              <td>     5</td>      <th>                     </th>     <td> </td>   \n",
       "</tr>\n",
       "<tr>\n",
       "  <th>Covariance Type:</th>      <td>nonrobust</td>    <th>                     </th>     <td> </td>   \n",
       "</tr>\n",
       "</table>\n",
       "<table class=\"simpletable\">\n",
       "<tr>\n",
       "    <td></td>       <th>coef</th>     <th>std err</th>      <th>t</th>      <th>P>|t|</th>  <th>[0.025</th>    <th>0.975]</th>  \n",
       "</tr>\n",
       "<tr>\n",
       "  <th>const</th> <td>   49.2202</td> <td>    3.029</td> <td>   16.250</td> <td> 0.000</td> <td>   43.256</td> <td>   55.185</td>\n",
       "</tr>\n",
       "<tr>\n",
       "  <th>x1</th>    <td>    0.0336</td> <td>    0.506</td> <td>    0.066</td> <td> 0.947</td> <td>   -0.963</td> <td>    1.031</td>\n",
       "</tr>\n",
       "<tr>\n",
       "  <th>x2</th>    <td>   -0.0087</td> <td>    0.011</td> <td>   -0.785</td> <td> 0.433</td> <td>   -0.030</td> <td>    0.013</td>\n",
       "</tr>\n",
       "<tr>\n",
       "  <th>x3</th>    <td>   -0.0483</td> <td>    0.019</td> <td>   -2.496</td> <td> 0.013</td> <td>   -0.086</td> <td>   -0.010</td>\n",
       "</tr>\n",
       "<tr>\n",
       "  <th>x4</th>    <td>   -0.0052</td> <td>    0.001</td> <td>   -5.210</td> <td> 0.000</td> <td>   -0.007</td> <td>   -0.003</td>\n",
       "</tr>\n",
       "<tr>\n",
       "  <th>x5</th>    <td>   -0.2614</td> <td>    0.145</td> <td>   -1.797</td> <td> 0.073</td> <td>   -0.548</td> <td>    0.025</td>\n",
       "</tr>\n",
       "</table>\n",
       "<table class=\"simpletable\">\n",
       "<tr>\n",
       "  <th>Omnibus:</th>       <td>13.026</td> <th>  Durbin-Watson:     </th> <td>   1.927</td>\n",
       "</tr>\n",
       "<tr>\n",
       "  <th>Prob(Omnibus):</th> <td> 0.001</td> <th>  Jarque-Bera (JB):  </th> <td>  14.455</td>\n",
       "</tr>\n",
       "<tr>\n",
       "  <th>Skew:</th>          <td> 0.455</td> <th>  Prob(JB):          </th> <td>0.000726</td>\n",
       "</tr>\n",
       "<tr>\n",
       "  <th>Kurtosis:</th>      <td> 3.686</td> <th>  Cond. No.          </th> <td>3.73e+04</td>\n",
       "</tr>\n",
       "</table><br/><br/>Warnings:<br/>[1] Standard Errors assume that the covariance matrix of the errors is correctly specified.<br/>[2] The condition number is large, 3.73e+04. This might indicate that there are<br/>strong multicollinearity or other numerical problems."
      ],
      "text/plain": [
       "<class 'statsmodels.iolib.summary.Summary'>\n",
       "\"\"\"\n",
       "                            OLS Regression Results                            \n",
       "==============================================================================\n",
       "Dep. Variable:                      y   R-squared:                       0.710\n",
       "Model:                            OLS   Adj. R-squared:                  0.704\n",
       "Method:                 Least Squares   F-statistic:                     127.8\n",
       "Date:                Thu, 28 Nov 2019   Prob (F-statistic):           4.68e-68\n",
       "Time:                        19:24:19   Log-Likelihood:                -747.68\n",
       "No. Observations:                 267   AIC:                             1507.\n",
       "Df Residuals:                     261   BIC:                             1529.\n",
       "Df Model:                           5                                         \n",
       "Covariance Type:            nonrobust                                         \n",
       "==============================================================================\n",
       "                 coef    std err          t      P>|t|      [0.025      0.975]\n",
       "------------------------------------------------------------------------------\n",
       "const         49.2202      3.029     16.250      0.000      43.256      55.185\n",
       "x1             0.0336      0.506      0.066      0.947      -0.963       1.031\n",
       "x2            -0.0087      0.011     -0.785      0.433      -0.030       0.013\n",
       "x3            -0.0483      0.019     -2.496      0.013      -0.086      -0.010\n",
       "x4            -0.0052      0.001     -5.210      0.000      -0.007      -0.003\n",
       "x5            -0.2614      0.145     -1.797      0.073      -0.548       0.025\n",
       "==============================================================================\n",
       "Omnibus:                       13.026   Durbin-Watson:                   1.927\n",
       "Prob(Omnibus):                  0.001   Jarque-Bera (JB):               14.455\n",
       "Skew:                           0.455   Prob(JB):                     0.000726\n",
       "Kurtosis:                       3.686   Cond. No.                     3.73e+04\n",
       "==============================================================================\n",
       "\n",
       "Warnings:\n",
       "[1] Standard Errors assume that the covariance matrix of the errors is correctly specified.\n",
       "[2] The condition number is large, 3.73e+04. This might indicate that there are\n",
       "strong multicollinearity or other numerical problems.\n",
       "\"\"\""
      ]
     },
     "execution_count": 18,
     "metadata": {},
     "output_type": "execute_result"
    }
   ],
   "source": [
    "prediction.summary()"
   ]
  },
  {
   "cell_type": "code",
   "execution_count": null,
   "metadata": {},
   "outputs": [],
   "source": [
    "#For Prediction\n",
    "Y_PredOLS = prediction.predict(XTest)"
   ]
  }
 ],
 "metadata": {
  "kernelspec": {
   "display_name": "Python 3",
   "language": "python",
   "name": "python3"
  },
  "language_info": {
   "codemirror_mode": {
    "name": "ipython",
    "version": 3
   },
   "file_extension": ".py",
   "mimetype": "text/x-python",
   "name": "python",
   "nbconvert_exporter": "python",
   "pygments_lexer": "ipython3",
   "version": "3.7.4"
  }
 },
 "nbformat": 4,
 "nbformat_minor": 2
}
