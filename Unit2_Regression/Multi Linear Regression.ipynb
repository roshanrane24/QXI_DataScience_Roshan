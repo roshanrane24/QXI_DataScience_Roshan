{
 "cells": [
  {
   "cell_type": "markdown",
   "metadata": {},
   "source": [
    "# MLR Models for Milage of Car"
   ]
  },
  {
   "cell_type": "code",
   "execution_count": 1,
   "metadata": {},
   "outputs": [],
   "source": [
    "# Importing Modules\n",
    "import numpy as np\n",
    "import pandas as pd\n",
    "import matplotlib.pyplot as plt\n",
    "from sklearn import linear_model as lm #For Linear Regression Model\n",
    "import statsmodels.api as sm\n",
    "import seaborn as sns\n",
    "from sklearn.model_selection import train_test_split #For sepration o data into testSet & trainSet\n",
    "from sklearn.metrics import mean_squared_error, r2_score #For evaluation model"
   ]
  },
  {
   "cell_type": "code",
   "execution_count": 2,
   "metadata": {},
   "outputs": [
    {
     "name": "stderr",
     "output_type": "stream",
     "text": [
      "b'Skipping line 12: expected 10 fields, saw 11\\nSkipping line 15: expected 10 fields, saw 11\\nSkipping line 18: expected 10 fields, saw 11\\nSkipping line 20: expected 10 fields, saw 11\\nSkipping line 21: expected 10 fields, saw 11\\nSkipping line 26: expected 10 fields, saw 11\\nSkipping line 40: expected 10 fields, saw 11\\nSkipping line 51: expected 10 fields, saw 11\\nSkipping line 53: expected 10 fields, saw 11\\nSkipping line 77: expected 10 fields, saw 11\\nSkipping line 81: expected 10 fields, saw 11\\nSkipping line 82: expected 10 fields, saw 11\\nSkipping line 83: expected 10 fields, saw 11\\nSkipping line 90: expected 10 fields, saw 12\\nSkipping line 92: expected 10 fields, saw 11\\nSkipping line 101: expected 10 fields, saw 11\\nSkipping line 102: expected 10 fields, saw 11\\nSkipping line 103: expected 10 fields, saw 11\\nSkipping line 122: expected 10 fields, saw 11\\nSkipping line 123: expected 10 fields, saw 11\\nSkipping line 141: expected 10 fields, saw 11\\nSkipping line 145: expected 10 fields, saw 11\\nSkipping line 146: expected 10 fields, saw 11\\nSkipping line 147: expected 10 fields, saw 11\\nSkipping line 195: expected 10 fields, saw 11\\nSkipping line 216: expected 10 fields, saw 11\\nSkipping line 225: expected 10 fields, saw 11\\nSkipping line 237: expected 10 fields, saw 11\\nSkipping line 238: expected 10 fields, saw 11\\nSkipping line 244: expected 10 fields, saw 11\\nSkipping line 252: expected 10 fields, saw 11\\nSkipping line 257: expected 10 fields, saw 11\\nSkipping line 270: expected 10 fields, saw 11\\nSkipping line 271: expected 10 fields, saw 12\\nSkipping line 278: expected 10 fields, saw 11\\nSkipping line 291: expected 10 fields, saw 11\\nSkipping line 297: expected 10 fields, saw 11\\nSkipping line 298: expected 10 fields, saw 11\\nSkipping line 299: expected 10 fields, saw 11\\nSkipping line 300: expected 10 fields, saw 13\\nSkipping line 303: expected 10 fields, saw 11\\nSkipping line 308: expected 10 fields, saw 11\\nSkipping line 333: expected 10 fields, saw 11\\nSkipping line 337: expected 10 fields, saw 11\\nSkipping line 348: expected 10 fields, saw 11\\nSkipping line 367: expected 10 fields, saw 11\\nSkipping line 379: expected 10 fields, saw 11\\nSkipping line 385: expected 10 fields, saw 11\\nSkipping line 396: expected 10 fields, saw 11\\n'\n"
     ]
    },
    {
     "data": {
      "text/html": [
       "<div>\n",
       "<style scoped>\n",
       "    .dataframe tbody tr th:only-of-type {\n",
       "        vertical-align: middle;\n",
       "    }\n",
       "\n",
       "    .dataframe tbody tr th {\n",
       "        vertical-align: top;\n",
       "    }\n",
       "\n",
       "    .dataframe thead th {\n",
       "        text-align: right;\n",
       "    }\n",
       "</style>\n",
       "<table border=\"1\" class=\"dataframe\">\n",
       "  <thead>\n",
       "    <tr style=\"text-align: right;\">\n",
       "      <th></th>\n",
       "      <th>0</th>\n",
       "      <th>1</th>\n",
       "      <th>2</th>\n",
       "      <th>3</th>\n",
       "      <th>4</th>\n",
       "      <th>5</th>\n",
       "      <th>6</th>\n",
       "      <th>7</th>\n",
       "      <th>8</th>\n",
       "      <th>9</th>\n",
       "    </tr>\n",
       "  </thead>\n",
       "  <tbody>\n",
       "    <tr>\n",
       "      <td>0</td>\n",
       "      <td>18.0</td>\n",
       "      <td>8.0</td>\n",
       "      <td>307.0</td>\n",
       "      <td>130.0</td>\n",
       "      <td>3504.0</td>\n",
       "      <td>12.0</td>\n",
       "      <td>70.0</td>\n",
       "      <td>1.\\t\"chevrolet</td>\n",
       "      <td>chevelle</td>\n",
       "      <td>malibu\"</td>\n",
       "    </tr>\n",
       "    <tr>\n",
       "      <td>1</td>\n",
       "      <td>15.0</td>\n",
       "      <td>8.0</td>\n",
       "      <td>350.0</td>\n",
       "      <td>165.0</td>\n",
       "      <td>3693.0</td>\n",
       "      <td>11.5</td>\n",
       "      <td>70.0</td>\n",
       "      <td>1.\\t\"buick</td>\n",
       "      <td>skylark</td>\n",
       "      <td>320\"</td>\n",
       "    </tr>\n",
       "    <tr>\n",
       "      <td>2</td>\n",
       "      <td>18.0</td>\n",
       "      <td>8.0</td>\n",
       "      <td>318.0</td>\n",
       "      <td>150.0</td>\n",
       "      <td>3436.0</td>\n",
       "      <td>11.0</td>\n",
       "      <td>70.0</td>\n",
       "      <td>1.\\t\"plymouth</td>\n",
       "      <td>satellite\"</td>\n",
       "      <td>NaN</td>\n",
       "    </tr>\n",
       "    <tr>\n",
       "      <td>3</td>\n",
       "      <td>16.0</td>\n",
       "      <td>8.0</td>\n",
       "      <td>304.0</td>\n",
       "      <td>150.0</td>\n",
       "      <td>3433.0</td>\n",
       "      <td>12.0</td>\n",
       "      <td>70.0</td>\n",
       "      <td>1.\\t\"amc</td>\n",
       "      <td>rebel</td>\n",
       "      <td>sst\"</td>\n",
       "    </tr>\n",
       "    <tr>\n",
       "      <td>4</td>\n",
       "      <td>17.0</td>\n",
       "      <td>8.0</td>\n",
       "      <td>302.0</td>\n",
       "      <td>140.0</td>\n",
       "      <td>3449.0</td>\n",
       "      <td>10.5</td>\n",
       "      <td>70.0</td>\n",
       "      <td>1.\\t\"ford</td>\n",
       "      <td>torino\"</td>\n",
       "      <td>NaN</td>\n",
       "    </tr>\n",
       "  </tbody>\n",
       "</table>\n",
       "</div>"
      ],
      "text/plain": [
       "      0    1      2      3       4     5     6               7           8  \\\n",
       "0  18.0  8.0  307.0  130.0  3504.0  12.0  70.0  1.\\t\"chevrolet    chevelle   \n",
       "1  15.0  8.0  350.0  165.0  3693.0  11.5  70.0      1.\\t\"buick     skylark   \n",
       "2  18.0  8.0  318.0  150.0  3436.0  11.0  70.0   1.\\t\"plymouth  satellite\"   \n",
       "3  16.0  8.0  304.0  150.0  3433.0  12.0  70.0        1.\\t\"amc       rebel   \n",
       "4  17.0  8.0  302.0  140.0  3449.0  10.5  70.0       1.\\t\"ford     torino\"   \n",
       "\n",
       "         9  \n",
       "0  malibu\"  \n",
       "1     320\"  \n",
       "2      NaN  \n",
       "3     sst\"  \n",
       "4      NaN  "
      ]
     },
     "execution_count": 2,
     "metadata": {},
     "output_type": "execute_result"
    }
   ],
   "source": [
    "#Reading Data\n",
    "data = pd.read_csv(\"auto-mpg.data-original.txt\",sep=\" \",header=None,error_bad_lines=False,skipinitialspace=True)\n",
    "data.head()"
   ]
  },
  {
   "cell_type": "markdown",
   "metadata": {},
   "source": [
    "### Pre-Processing Data"
   ]
  },
  {
   "cell_type": "code",
   "execution_count": 3,
   "metadata": {},
   "outputs": [],
   "source": [
    "data['10']= str(data.iloc[:,7])+' '+str(data.iloc[:,8])+' '+str(data.iloc[:,9])"
   ]
  },
  {
   "cell_type": "code",
   "execution_count": 4,
   "metadata": {},
   "outputs": [
    {
     "ename": "SyntaxError",
     "evalue": "invalid syntax (<ipython-input-4-dd2131eb2dee>, line 2)",
     "output_type": "error",
     "traceback": [
      "\u001b[0;36m  File \u001b[0;32m\"<ipython-input-4-dd2131eb2dee>\"\u001b[0;36m, line \u001b[0;32m2\u001b[0m\n\u001b[0;31m    data.columns=['M/G','Cylinders','Displacement','Hp','Weight','Accn','Model Year','Origin / Car Name']c\u001b[0m\n\u001b[0m                                                                                                         ^\u001b[0m\n\u001b[0;31mSyntaxError\u001b[0m\u001b[0;31m:\u001b[0m invalid syntax\n"
     ]
    }
   ],
   "source": [
    "data.drop([7,8,9],axis=1,inplace=True)\n",
    "data.columns=['M/G','Cylinders','Displacement','Hp','Weight','Accn','Model Year','Origin / Car Name']c"
   ]
  },
  {
   "cell_type": "code",
   "execution_count": null,
   "metadata": {},
   "outputs": [],
   "source": [
    "sns.pairplot(data,x_vars=['Cylinders','Displacement','Hp','Weight','Accn'],y_vars='M/G')\n",
    "plt.suptitle('Mileage of Car wrt Cylinders,CC,Horse Power,Weight,Accelaration')"
   ]
  },
  {
   "cell_type": "code",
   "execution_count": null,
   "metadata": {},
   "outputs": [],
   "source": [
    "data.info()"
   ]
  },
  {
   "cell_type": "code",
   "execution_count": null,
   "metadata": {},
   "outputs": [],
   "source": [
    "data.fillna(method='ffill',inplace=True)"
   ]
  },
  {
   "cell_type": "code",
   "execution_count": null,
   "metadata": {},
   "outputs": [],
   "source": [
    "X = data.iloc[:,[1,2,3,4]].values\n",
    "Y = data.iloc[:,0].values"
   ]
  },
  {
   "cell_type": "code",
   "execution_count": null,
   "metadata": {},
   "outputs": [],
   "source": [
    "X"
   ]
  },
  {
   "cell_type": "code",
   "execution_count": null,
   "metadata": {},
   "outputs": [],
   "source": [
    "Y"
   ]
  },
  {
   "cell_type": "markdown",
   "metadata": {},
   "source": [
    "## Spliting Data into Train & Test Sets"
   ]
  },
  {
   "cell_type": "code",
   "execution_count": null,
   "metadata": {},
   "outputs": [],
   "source": [
    "XTrain,XTest,YTrain,YTest=train_test_split(X,Y,test_size=1/4,random_state=42)"
   ]
  },
  {
   "cell_type": "markdown",
   "metadata": {},
   "source": [
    "## SKLearn Linear Regression Model"
   ]
  },
  {
   "cell_type": "code",
   "execution_count": null,
   "metadata": {},
   "outputs": [],
   "source": [
    "regsr = lm.LinearRegression()\n",
    "regsr.fit(XTrain,YTrain)"
   ]
  },
  {
   "cell_type": "code",
   "execution_count": null,
   "metadata": {},
   "outputs": [],
   "source": [
    "YPred = regsr.predict(XTest)"
   ]
  },
  {
   "cell_type": "markdown",
   "metadata": {},
   "source": [
    "### Evaluating Model"
   ]
  },
  {
   "cell_type": "code",
   "execution_count": null,
   "metadata": {},
   "outputs": [],
   "source": [
    "RMSET = np.sqrt(mean_squared_error(YTest,YPred))\n",
    "R2 = r2_score(YTest,YPred)"
   ]
  },
  {
   "cell_type": "code",
   "execution_count": null,
   "metadata": {},
   "outputs": [],
   "source": [
    "RMSET"
   ]
  },
  {
   "cell_type": "code",
   "execution_count": null,
   "metadata": {},
   "outputs": [],
   "source": [
    "R2"
   ]
  },
  {
   "cell_type": "markdown",
   "metadata": {},
   "source": [
    "## Stats Model OLS "
   ]
  },
  {
   "cell_type": "markdown",
   "metadata": {},
   "source": [
    "### Creating OLS Model"
   ]
  },
  {
   "cell_type": "code",
   "execution_count": null,
   "metadata": {},
   "outputs": [],
   "source": [
    "#With Constant Added\n",
    "XTrain1 = sm.add_constant(XTrain)\n",
    "olsmodel = sm.OLS(YTrain,XTrain1)#Yval First\n",
    "prediction = olsmodel.fit()"
   ]
  },
  {
   "cell_type": "markdown",
   "metadata": {},
   "source": [
    "### Evaluation Model"
   ]
  },
  {
   "cell_type": "code",
   "execution_count": null,
   "metadata": {},
   "outputs": [],
   "source": [
    "prediction.summary()"
   ]
  },
  {
   "cell_type": "code",
   "execution_count": null,
   "metadata": {},
   "outputs": [],
   "source": [
    "#For Prediction\n",
    "Y_PredOLS = prediction.predict(XTest)"
   ]
  }
 ],
 "metadata": {
  "kernelspec": {
   "display_name": "Python 3",
   "language": "python",
   "name": "python3"
  },
  "language_info": {
   "codemirror_mode": {
    "name": "ipython",
    "version": 3
   },
   "file_extension": ".py",
   "mimetype": "text/x-python",
   "name": "python",
   "nbconvert_exporter": "python",
   "pygments_lexer": "ipython3",
   "version": "3.7.4"
  }
 },
 "nbformat": 4,
 "nbformat_minor": 2
}
