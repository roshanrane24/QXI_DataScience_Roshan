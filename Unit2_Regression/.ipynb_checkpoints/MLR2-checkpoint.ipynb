{
 "cells": [
  {
   "cell_type": "markdown",
   "metadata": {},
   "source": [
    "# Multi Linear Regresion on PMSM for Prediction of Rotor Temperature"
   ]
  },
  {
   "cell_type": "markdown",
   "metadata": {},
   "source": [
    "## Import Required modules"
   ]
  },
  {
   "cell_type": "code",
   "execution_count": 1,
   "metadata": {},
   "outputs": [],
   "source": [
    "import numpy as np #Numpy\n",
    "import pandas as pd #Pandas\n",
    "import matplotlib.pyplot as plt #MPL PyPlot\n",
    "import seaborn as sns #Seasborn\n",
    "import statsmodels.api as sm #Statsmodels API\n",
    "import sklearn as skl #SciKitLearn\n",
    "import sklearn.linear_model as lm #Linear Model\n",
    "from sklearn.model_selection import train_test_split #Train Test Split for Spliting Data in Train & Test Set\n",
    "from sklearn.metrics import  r2_score,mean_squared_error #For Model Evaluation"
   ]
  },
  {
   "cell_type": "code",
   "execution_count": 2,
   "metadata": {
    "scrolled": false
   },
   "outputs": [
    {
     "data": {
      "text/html": [
       "<div>\n",
       "<style scoped>\n",
       "    .dataframe tbody tr th:only-of-type {\n",
       "        vertical-align: middle;\n",
       "    }\n",
       "\n",
       "    .dataframe tbody tr th {\n",
       "        vertical-align: top;\n",
       "    }\n",
       "\n",
       "    .dataframe thead th {\n",
       "        text-align: right;\n",
       "    }\n",
       "</style>\n",
       "<table border=\"1\" class=\"dataframe\">\n",
       "  <thead>\n",
       "    <tr style=\"text-align: right;\">\n",
       "      <th></th>\n",
       "      <th>ambient</th>\n",
       "      <th>coolant</th>\n",
       "      <th>u_d</th>\n",
       "      <th>u_q</th>\n",
       "      <th>motor_speed</th>\n",
       "      <th>torque</th>\n",
       "      <th>i_d</th>\n",
       "      <th>i_q</th>\n",
       "      <th>pm</th>\n",
       "      <th>stator_yoke</th>\n",
       "      <th>stator_tooth</th>\n",
       "      <th>stator_winding</th>\n",
       "      <th>profile_id</th>\n",
       "    </tr>\n",
       "  </thead>\n",
       "  <tbody>\n",
       "    <tr>\n",
       "      <td>0</td>\n",
       "      <td>-0.752143</td>\n",
       "      <td>-1.118446</td>\n",
       "      <td>0.327935</td>\n",
       "      <td>-1.297858</td>\n",
       "      <td>-1.222428</td>\n",
       "      <td>-0.250182</td>\n",
       "      <td>1.029572</td>\n",
       "      <td>-0.245860</td>\n",
       "      <td>-2.522071</td>\n",
       "      <td>-1.831422</td>\n",
       "      <td>-2.066143</td>\n",
       "      <td>-2.018033</td>\n",
       "      <td>4</td>\n",
       "    </tr>\n",
       "    <tr>\n",
       "      <td>1</td>\n",
       "      <td>-0.771263</td>\n",
       "      <td>-1.117021</td>\n",
       "      <td>0.329665</td>\n",
       "      <td>-1.297686</td>\n",
       "      <td>-1.222429</td>\n",
       "      <td>-0.249133</td>\n",
       "      <td>1.029509</td>\n",
       "      <td>-0.245832</td>\n",
       "      <td>-2.522418</td>\n",
       "      <td>-1.830969</td>\n",
       "      <td>-2.064859</td>\n",
       "      <td>-2.017631</td>\n",
       "      <td>4</td>\n",
       "    </tr>\n",
       "    <tr>\n",
       "      <td>2</td>\n",
       "      <td>-0.782892</td>\n",
       "      <td>-1.116681</td>\n",
       "      <td>0.332771</td>\n",
       "      <td>-1.301822</td>\n",
       "      <td>-1.222428</td>\n",
       "      <td>-0.249431</td>\n",
       "      <td>1.029448</td>\n",
       "      <td>-0.245818</td>\n",
       "      <td>-2.522673</td>\n",
       "      <td>-1.830400</td>\n",
       "      <td>-2.064073</td>\n",
       "      <td>-2.017343</td>\n",
       "      <td>4</td>\n",
       "    </tr>\n",
       "    <tr>\n",
       "      <td>3</td>\n",
       "      <td>-0.780935</td>\n",
       "      <td>-1.116764</td>\n",
       "      <td>0.333700</td>\n",
       "      <td>-1.301852</td>\n",
       "      <td>-1.222430</td>\n",
       "      <td>-0.248636</td>\n",
       "      <td>1.032845</td>\n",
       "      <td>-0.246955</td>\n",
       "      <td>-2.521639</td>\n",
       "      <td>-1.830333</td>\n",
       "      <td>-2.063137</td>\n",
       "      <td>-2.017632</td>\n",
       "      <td>4</td>\n",
       "    </tr>\n",
       "    <tr>\n",
       "      <td>4</td>\n",
       "      <td>-0.774043</td>\n",
       "      <td>-1.116775</td>\n",
       "      <td>0.335206</td>\n",
       "      <td>-1.303118</td>\n",
       "      <td>-1.222429</td>\n",
       "      <td>-0.248701</td>\n",
       "      <td>1.031807</td>\n",
       "      <td>-0.246610</td>\n",
       "      <td>-2.521900</td>\n",
       "      <td>-1.830498</td>\n",
       "      <td>-2.062795</td>\n",
       "      <td>-2.018145</td>\n",
       "      <td>4</td>\n",
       "    </tr>\n",
       "    <tr>\n",
       "      <td>...</td>\n",
       "      <td>...</td>\n",
       "      <td>...</td>\n",
       "      <td>...</td>\n",
       "      <td>...</td>\n",
       "      <td>...</td>\n",
       "      <td>...</td>\n",
       "      <td>...</td>\n",
       "      <td>...</td>\n",
       "      <td>...</td>\n",
       "      <td>...</td>\n",
       "      <td>...</td>\n",
       "      <td>...</td>\n",
       "      <td>...</td>\n",
       "    </tr>\n",
       "    <tr>\n",
       "      <td>749994</td>\n",
       "      <td>1.461893</td>\n",
       "      <td>0.840026</td>\n",
       "      <td>1.557731</td>\n",
       "      <td>-0.415082</td>\n",
       "      <td>-0.437794</td>\n",
       "      <td>-2.267985</td>\n",
       "      <td>-0.180377</td>\n",
       "      <td>-2.350351</td>\n",
       "      <td>1.132197</td>\n",
       "      <td>0.911841</td>\n",
       "      <td>0.884249</td>\n",
       "      <td>0.838218</td>\n",
       "      <td>68</td>\n",
       "    </tr>\n",
       "    <tr>\n",
       "      <td>749995</td>\n",
       "      <td>1.469571</td>\n",
       "      <td>0.840333</td>\n",
       "      <td>1.280543</td>\n",
       "      <td>-0.463658</td>\n",
       "      <td>-0.543047</td>\n",
       "      <td>-1.874477</td>\n",
       "      <td>0.103543</td>\n",
       "      <td>-1.956612</td>\n",
       "      <td>1.129481</td>\n",
       "      <td>0.912504</td>\n",
       "      <td>0.890476</td>\n",
       "      <td>0.841409</td>\n",
       "      <td>68</td>\n",
       "    </tr>\n",
       "    <tr>\n",
       "      <td>749996</td>\n",
       "      <td>1.479130</td>\n",
       "      <td>0.840749</td>\n",
       "      <td>1.007441</td>\n",
       "      <td>-0.538525</td>\n",
       "      <td>-0.656984</td>\n",
       "      <td>-1.419793</td>\n",
       "      <td>0.365300</td>\n",
       "      <td>-1.476517</td>\n",
       "      <td>1.128432</td>\n",
       "      <td>0.913310</td>\n",
       "      <td>0.892993</td>\n",
       "      <td>0.849538</td>\n",
       "      <td>68</td>\n",
       "    </tr>\n",
       "    <tr>\n",
       "      <td>749997</td>\n",
       "      <td>1.476560</td>\n",
       "      <td>0.840943</td>\n",
       "      <td>0.812035</td>\n",
       "      <td>-0.671000</td>\n",
       "      <td>-0.777063</td>\n",
       "      <td>-1.089792</td>\n",
       "      <td>0.553488</td>\n",
       "      <td>-1.127621</td>\n",
       "      <td>1.128045</td>\n",
       "      <td>0.913851</td>\n",
       "      <td>0.894604</td>\n",
       "      <td>0.859864</td>\n",
       "      <td>68</td>\n",
       "    </tr>\n",
       "    <tr>\n",
       "      <td>749998</td>\n",
       "      <td>1.475861</td>\n",
       "      <td>0.841219</td>\n",
       "      <td>0.680181</td>\n",
       "      <td>-0.838608</td>\n",
       "      <td>-0.897569</td>\n",
       "      <td>-0.853336</td>\n",
       "      <td>0.688291</td>\n",
       "      <td>-0.877621</td>\n",
       "      <td>1.128540</td>\n",
       "      <td>0.914622</td>\n",
       "      <td>0.897675</td>\n",
       "      <td>0.867957</td>\n",
       "      <td>68</td>\n",
       "    </tr>\n",
       "  </tbody>\n",
       "</table>\n",
       "<p>749999 rows × 13 columns</p>\n",
       "</div>"
      ],
      "text/plain": [
       "         ambient   coolant       u_d       u_q  motor_speed    torque  \\\n",
       "0      -0.752143 -1.118446  0.327935 -1.297858    -1.222428 -0.250182   \n",
       "1      -0.771263 -1.117021  0.329665 -1.297686    -1.222429 -0.249133   \n",
       "2      -0.782892 -1.116681  0.332771 -1.301822    -1.222428 -0.249431   \n",
       "3      -0.780935 -1.116764  0.333700 -1.301852    -1.222430 -0.248636   \n",
       "4      -0.774043 -1.116775  0.335206 -1.303118    -1.222429 -0.248701   \n",
       "...          ...       ...       ...       ...          ...       ...   \n",
       "749994  1.461893  0.840026  1.557731 -0.415082    -0.437794 -2.267985   \n",
       "749995  1.469571  0.840333  1.280543 -0.463658    -0.543047 -1.874477   \n",
       "749996  1.479130  0.840749  1.007441 -0.538525    -0.656984 -1.419793   \n",
       "749997  1.476560  0.840943  0.812035 -0.671000    -0.777063 -1.089792   \n",
       "749998  1.475861  0.841219  0.680181 -0.838608    -0.897569 -0.853336   \n",
       "\n",
       "             i_d       i_q        pm  stator_yoke  stator_tooth  \\\n",
       "0       1.029572 -0.245860 -2.522071    -1.831422     -2.066143   \n",
       "1       1.029509 -0.245832 -2.522418    -1.830969     -2.064859   \n",
       "2       1.029448 -0.245818 -2.522673    -1.830400     -2.064073   \n",
       "3       1.032845 -0.246955 -2.521639    -1.830333     -2.063137   \n",
       "4       1.031807 -0.246610 -2.521900    -1.830498     -2.062795   \n",
       "...          ...       ...       ...          ...           ...   \n",
       "749994 -0.180377 -2.350351  1.132197     0.911841      0.884249   \n",
       "749995  0.103543 -1.956612  1.129481     0.912504      0.890476   \n",
       "749996  0.365300 -1.476517  1.128432     0.913310      0.892993   \n",
       "749997  0.553488 -1.127621  1.128045     0.913851      0.894604   \n",
       "749998  0.688291 -0.877621  1.128540     0.914622      0.897675   \n",
       "\n",
       "        stator_winding  profile_id  \n",
       "0            -2.018033           4  \n",
       "1            -2.017631           4  \n",
       "2            -2.017343           4  \n",
       "3            -2.017632           4  \n",
       "4            -2.018145           4  \n",
       "...                ...         ...  \n",
       "749994        0.838218          68  \n",
       "749995        0.841409          68  \n",
       "749996        0.849538          68  \n",
       "749997        0.859864          68  \n",
       "749998        0.867957          68  \n",
       "\n",
       "[749999 rows x 13 columns]"
      ]
     },
     "execution_count": 2,
     "metadata": {},
     "output_type": "execute_result"
    }
   ],
   "source": [
    "dataframe = pd.read_csv('pmsm_temp_data.csv')\n",
    "dataframe"
   ]
  },
  {
   "cell_type": "code",
   "execution_count": 3,
   "metadata": {},
   "outputs": [
    {
     "name": "stdout",
     "output_type": "stream",
     "text": [
      "<class 'pandas.core.frame.DataFrame'>\n",
      "RangeIndex: 749999 entries, 0 to 749998\n",
      "Data columns (total 13 columns):\n",
      "ambient           749999 non-null float64\n",
      "coolant           749999 non-null float64\n",
      "u_d               749999 non-null float64\n",
      "u_q               749999 non-null float64\n",
      "motor_speed       749999 non-null float64\n",
      "torque            749999 non-null float64\n",
      "i_d               749999 non-null float64\n",
      "i_q               749999 non-null float64\n",
      "pm                749999 non-null float64\n",
      "stator_yoke       749999 non-null float64\n",
      "stator_tooth      749999 non-null float64\n",
      "stator_winding    749999 non-null float64\n",
      "profile_id        749999 non-null int64\n",
      "dtypes: float64(12), int64(1)\n",
      "memory usage: 74.4 MB\n"
     ]
    }
   ],
   "source": [
    "dataframe.info()"
   ]
  },
  {
   "cell_type": "code",
   "execution_count": 4,
   "metadata": {},
   "outputs": [
    {
     "data": {
      "text/plain": [
       "ambient           0.514343\n",
       "coolant           0.441188\n",
       "u_d              -0.109947\n",
       "u_q               0.134445\n",
       "motor_speed       0.415733\n",
       "torque           -0.074837\n",
       "i_d              -0.370781\n",
       "i_q              -0.090774\n",
       "pm                1.000000\n",
       "stator_yoke       0.716830\n",
       "stator_tooth      0.788488\n",
       "stator_winding    0.745360\n",
       "profile_id        0.169664\n",
       "Name: pm, dtype: float64"
      ]
     },
     "execution_count": 4,
     "metadata": {},
     "output_type": "execute_result"
    }
   ],
   "source": [
    "dataframe.corr()['pm'] #Checking Correlation Between Dependant & Independant Values"
   ]
  },
  {
   "cell_type": "code",
   "execution_count": 5,
   "metadata": {},
   "outputs": [
    {
     "data": {
      "text/plain": [
       "<seaborn.axisgrid.PairGrid at 0x7f1462d1b8d0>"
      ]
     },
     "execution_count": 5,
     "metadata": {},
     "output_type": "execute_result"
    },
    {
     "data": {
      "image/png": "[encoded data removed]",
      "text/plain": [
       "<Figure size 1620x180 with 9 Axes>"
      ]
     },
     "metadata": {
      "needs_background": "light"
     },
     "output_type": "display_data"
    }
   ],
   "source": [
    "sns.pairplot(dataframe.head(500),x_vars=['u_d','u_q','stator_yoke','stator_tooth','stator_winding','ambient','coolant','i_d','i_q'],y_vars='pm')\n"
   ]
  },
  {
   "cell_type": "markdown",
   "metadata": {},
   "source": [
    "## Model Creation"
   ]
  },
  {
   "cell_type": "code",
   "execution_count": 6,
   "metadata": {},
   "outputs": [],
   "source": [
    "X = dataframe[['stator_yoke','stator_tooth','stator_winding','coolant']]\n",
    "Y = dataframe['pm']"
   ]
  },
  {
   "cell_type": "code",
   "execution_count": 7,
   "metadata": {},
   "outputs": [
    {
     "data": {
      "text/html": [
       "<div>\n",
       "<style scoped>\n",
       "    .dataframe tbody tr th:only-of-type {\n",
       "        vertical-align: middle;\n",
       "    }\n",
       "\n",
       "    .dataframe tbody tr th {\n",
       "        vertical-align: top;\n",
       "    }\n",
       "\n",
       "    .dataframe thead th {\n",
       "        text-align: right;\n",
       "    }\n",
       "</style>\n",
       "<table border=\"1\" class=\"dataframe\">\n",
       "  <thead>\n",
       "    <tr style=\"text-align: right;\">\n",
       "      <th></th>\n",
       "      <th>stator_yoke</th>\n",
       "      <th>stator_tooth</th>\n",
       "      <th>stator_winding</th>\n",
       "      <th>coolant</th>\n",
       "    </tr>\n",
       "  </thead>\n",
       "  <tbody>\n",
       "    <tr>\n",
       "      <td>0</td>\n",
       "      <td>-1.831422</td>\n",
       "      <td>-2.066143</td>\n",
       "      <td>-2.018033</td>\n",
       "      <td>-1.118446</td>\n",
       "    </tr>\n",
       "    <tr>\n",
       "      <td>1</td>\n",
       "      <td>-1.830969</td>\n",
       "      <td>-2.064859</td>\n",
       "      <td>-2.017631</td>\n",
       "      <td>-1.117021</td>\n",
       "    </tr>\n",
       "    <tr>\n",
       "      <td>2</td>\n",
       "      <td>-1.830400</td>\n",
       "      <td>-2.064073</td>\n",
       "      <td>-2.017343</td>\n",
       "      <td>-1.116681</td>\n",
       "    </tr>\n",
       "    <tr>\n",
       "      <td>3</td>\n",
       "      <td>-1.830333</td>\n",
       "      <td>-2.063137</td>\n",
       "      <td>-2.017632</td>\n",
       "      <td>-1.116764</td>\n",
       "    </tr>\n",
       "    <tr>\n",
       "      <td>4</td>\n",
       "      <td>-1.830498</td>\n",
       "      <td>-2.062795</td>\n",
       "      <td>-2.018145</td>\n",
       "      <td>-1.116775</td>\n",
       "    </tr>\n",
       "    <tr>\n",
       "      <td>...</td>\n",
       "      <td>...</td>\n",
       "      <td>...</td>\n",
       "      <td>...</td>\n",
       "      <td>...</td>\n",
       "    </tr>\n",
       "    <tr>\n",
       "      <td>749994</td>\n",
       "      <td>0.911841</td>\n",
       "      <td>0.884249</td>\n",
       "      <td>0.838218</td>\n",
       "      <td>0.840026</td>\n",
       "    </tr>\n",
       "    <tr>\n",
       "      <td>749995</td>\n",
       "      <td>0.912504</td>\n",
       "      <td>0.890476</td>\n",
       "      <td>0.841409</td>\n",
       "      <td>0.840333</td>\n",
       "    </tr>\n",
       "    <tr>\n",
       "      <td>749996</td>\n",
       "      <td>0.913310</td>\n",
       "      <td>0.892993</td>\n",
       "      <td>0.849538</td>\n",
       "      <td>0.840749</td>\n",
       "    </tr>\n",
       "    <tr>\n",
       "      <td>749997</td>\n",
       "      <td>0.913851</td>\n",
       "      <td>0.894604</td>\n",
       "      <td>0.859864</td>\n",
       "      <td>0.840943</td>\n",
       "    </tr>\n",
       "    <tr>\n",
       "      <td>749998</td>\n",
       "      <td>0.914622</td>\n",
       "      <td>0.897675</td>\n",
       "      <td>0.867957</td>\n",
       "      <td>0.841219</td>\n",
       "    </tr>\n",
       "  </tbody>\n",
       "</table>\n",
       "<p>749999 rows × 4 columns</p>\n",
       "</div>"
      ],
      "text/plain": [
       "        stator_yoke  stator_tooth  stator_winding   coolant\n",
       "0         -1.831422     -2.066143       -2.018033 -1.118446\n",
       "1         -1.830969     -2.064859       -2.017631 -1.117021\n",
       "2         -1.830400     -2.064073       -2.017343 -1.116681\n",
       "3         -1.830333     -2.063137       -2.017632 -1.116764\n",
       "4         -1.830498     -2.062795       -2.018145 -1.116775\n",
       "...             ...           ...             ...       ...\n",
       "749994     0.911841      0.884249        0.838218  0.840026\n",
       "749995     0.912504      0.890476        0.841409  0.840333\n",
       "749996     0.913310      0.892993        0.849538  0.840749\n",
       "749997     0.913851      0.894604        0.859864  0.840943\n",
       "749998     0.914622      0.897675        0.867957  0.841219\n",
       "\n",
       "[749999 rows x 4 columns]"
      ]
     },
     "execution_count": 7,
     "metadata": {},
     "output_type": "execute_result"
    }
   ],
   "source": [
    "X"
   ]
  },
  {
   "cell_type": "code",
   "execution_count": 8,
   "metadata": {},
   "outputs": [
    {
     "data": {
      "text/plain": [
       "0        -2.522071\n",
       "1        -2.522418\n",
       "2        -2.522673\n",
       "3        -2.521639\n",
       "4        -2.521900\n",
       "            ...   \n",
       "749994    1.132197\n",
       "749995    1.129481\n",
       "749996    1.128432\n",
       "749997    1.128045\n",
       "749998    1.128540\n",
       "Name: pm, Length: 749999, dtype: float64"
      ]
     },
     "execution_count": 8,
     "metadata": {},
     "output_type": "execute_result"
    }
   ],
   "source": [
    "Y"
   ]
  },
  {
   "cell_type": "code",
   "execution_count": 9,
   "metadata": {},
   "outputs": [],
   "source": [
    "XTrain,XTest,YTrain,YTest=train_test_split(X,Y,train_size=4/5)"
   ]
  },
  {
   "cell_type": "code",
   "execution_count": 10,
   "metadata": {},
   "outputs": [],
   "source": [
    "model = lm.LinearRegression()\n",
    "model = model.fit(XTrain,YTrain)\n",
    "YPred = model.predict(XTest)"
   ]
  },
  {
   "cell_type": "code",
   "execution_count": 11,
   "metadata": {
    "scrolled": true
   },
   "outputs": [
    {
     "data": {
      "text/plain": [
       "0.7438423140780195"
      ]
     },
     "execution_count": 11,
     "metadata": {},
     "output_type": "execute_result"
    }
   ],
   "source": [
    "r2_score(YTest,YPred) #R squared"
   ]
  },
  {
   "cell_type": "code",
   "execution_count": 12,
   "metadata": {},
   "outputs": [
    {
     "data": {
      "text/plain": [
       "0.5320534673146178"
      ]
     },
     "execution_count": 12,
     "metadata": {},
     "output_type": "execute_result"
    }
   ],
   "source": [
    "np.sqrt(mean_squared_error(YTest,YPred)) #RMSE"
   ]
  }
 ],
 "metadata": {
  "kernelspec": {
   "display_name": "Python 3",
   "language": "python",
   "name": "python3"
  },
  "language_info": {
   "codemirror_mode": {
    "name": "ipython",
    "version": 3
   },
   "file_extension": ".py",
   "mimetype": "text/x-python",
   "name": "python",
   "nbconvert_exporter": "python",
   "pygments_lexer": "ipython3",
   "version": "3.7.4"
  }
 },
 "nbformat": 4,
 "nbformat_minor": 2
}
